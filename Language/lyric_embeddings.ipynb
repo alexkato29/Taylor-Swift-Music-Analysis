{
 "cells": [
  {
   "cell_type": "code",
   "execution_count": 1,
   "metadata": {},
   "outputs": [
    {
     "name": "stderr",
     "output_type": "stream",
     "text": [
      "2024-04-01 21:24:53.684023: I tensorflow/core/platform/cpu_feature_guard.cc:182] This TensorFlow binary is optimized to use available CPU instructions in performance-critical operations.\n",
      "To enable the following instructions: AVX2 FMA, in other operations, rebuild TensorFlow with the appropriate compiler flags.\n"
     ]
    }
   ],
   "source": [
    "import ast\n",
    "import numpy as np\n",
    "import pandas as pd\n",
    "from collections import Counter\n",
    "\n",
    "import matplotlib.pyplot as plt\n",
    "import plotly.graph_objects as go\n",
    "\n",
    "import torch\n",
    "\n",
    "from transformers import AutoTokenizer, AutoModelWithLMHead\n",
    "\n",
    "from sklearn.cluster import KMeans\n",
    "\n",
    "import umap\n",
    "from sklearn.manifold import TSNE"
   ]
  },
  {
   "cell_type": "code",
   "execution_count": 2,
   "metadata": {},
   "outputs": [
    {
     "data": {
      "text/plain": [
       "'lyrics = pd.read_csv(\"../data/full.csv\")\\n\\nto_keep = [\"track_name\", \"peak_pos\", \"album_name\", \"lyrics\"]\\n\\nlyrics = lyrics[to_keep]\\nlyrics[\\'peak_pos_bucketed\\'] = lyrics[\\'peak_pos\\'].apply(lambda x: \\'>100\\' if pd.isna(x) else str(int(x//10)*10) + \\'-\\' + str(int(x//10)*10 + 9))\\n\\n\\n# This is GPT2 pretrained on Taylor Swift lyrics\\ntokenizer = AutoTokenizer.from_pretrained(\"huggingartists/taylor-swift\")\\nmodel = AutoModelWithLMHead.from_pretrained(\"huggingartists/taylor-swift\")\\n\\n# This tokenizer doesn\\'t have a padding token by default...\\ntokenizer.pad_token = tokenizer.eos_token\\n\\ndef encode_text(text):\\n    inputs = tokenizer(text, return_tensors=\\'pt\\', max_length=512, truncation=True, padding=\\'max_length\\')\\n    \\n    with torch.no_grad(): \\n        outputs = model(**inputs, output_hidden_states=True)\\n\\n    embeddings = outputs.hidden_states[-1].mean(dim=1)\\n    return embeddings\\n\\n\\n# https://huggingface.co/huggingartists/taylor-swift\\n# lyrics[\\'latent_embedding\\'] = lyrics[\\'lyrics\\'].apply(lambda x: encode_text(x))'"
      ]
     },
     "execution_count": 2,
     "metadata": {},
     "output_type": "execute_result"
    }
   ],
   "source": [
    "\"\"\"lyrics = pd.read_csv(\"../data/full.csv\")\n",
    "\n",
    "to_keep = [\"track_name\", \"peak_pos\", \"album_name\", \"lyrics\"]\n",
    "\n",
    "lyrics = lyrics[to_keep]\n",
    "lyrics['peak_pos_bucketed'] = lyrics['peak_pos'].apply(lambda x: '>100' if pd.isna(x) else str(int(x//10)*10) + '-' + str(int(x//10)*10 + 9))\n",
    "\n",
    "\n",
    "# This is GPT2 pretrained on Taylor Swift lyrics\n",
    "tokenizer = AutoTokenizer.from_pretrained(\"huggingartists/taylor-swift\")\n",
    "model = AutoModelWithLMHead.from_pretrained(\"huggingartists/taylor-swift\")\n",
    "\n",
    "# This tokenizer doesn't have a padding token by default...\n",
    "tokenizer.pad_token = tokenizer.eos_token\n",
    "\n",
    "def encode_text(text):\n",
    "    inputs = tokenizer(text, return_tensors='pt', max_length=512, truncation=True, padding='max_length')\n",
    "    \n",
    "    with torch.no_grad(): \n",
    "        outputs = model(**inputs, output_hidden_states=True)\n",
    "\n",
    "    embeddings = outputs.hidden_states[-1].mean(dim=1)\n",
    "    return embeddings\n",
    "\n",
    "\n",
    "# https://huggingface.co/huggingartists/taylor-swift\n",
    "# lyrics['latent_embedding'] = lyrics['lyrics'].apply(lambda x: encode_text(x))\"\"\""
   ]
  },
  {
   "cell_type": "code",
   "execution_count": 3,
   "metadata": {},
   "outputs": [
    {
     "name": "stdout",
     "output_type": "stream",
     "text": [
      "track_name             object\n",
      "peak_pos              float64\n",
      "album_name             object\n",
      "lyrics                 object\n",
      "peak_pos_bucketed      object\n",
      "latent_embedding       object\n",
      "cluster_assignment      int64\n",
      "dtype: object\n"
     ]
    },
    {
     "data": {
      "text/html": [
       "<div>\n",
       "<style scoped>\n",
       "    .dataframe tbody tr th:only-of-type {\n",
       "        vertical-align: middle;\n",
       "    }\n",
       "\n",
       "    .dataframe tbody tr th {\n",
       "        vertical-align: top;\n",
       "    }\n",
       "\n",
       "    .dataframe thead th {\n",
       "        text-align: right;\n",
       "    }\n",
       "</style>\n",
       "<table border=\"1\" class=\"dataframe\">\n",
       "  <thead>\n",
       "    <tr style=\"text-align: right;\">\n",
       "      <th></th>\n",
       "      <th>track_name</th>\n",
       "      <th>peak_pos</th>\n",
       "      <th>album_name</th>\n",
       "      <th>lyrics</th>\n",
       "      <th>peak_pos_bucketed</th>\n",
       "      <th>latent_embedding</th>\n",
       "      <th>cluster_assignment</th>\n",
       "    </tr>\n",
       "  </thead>\n",
       "  <tbody>\n",
       "    <tr>\n",
       "      <th>0</th>\n",
       "      <td>...Ready For It?</td>\n",
       "      <td>4.0</td>\n",
       "      <td>reputation</td>\n",
       "      <td>knew he was a killer first time that i saw him...</td>\n",
       "      <td>0-9</td>\n",
       "      <td>[tensor(-0.0335), tensor(0.6539), tensor(0.216...</td>\n",
       "      <td>6</td>\n",
       "    </tr>\n",
       "    <tr>\n",
       "      <th>1</th>\n",
       "      <td>'tis the damn season</td>\n",
       "      <td>39.0</td>\n",
       "      <td>evermore</td>\n",
       "      <td>if i wanted to know who you were hanging with ...</td>\n",
       "      <td>30-39</td>\n",
       "      <td>[tensor(0.1974), tensor(0.4486), tensor(-0.253...</td>\n",
       "      <td>4</td>\n",
       "    </tr>\n",
       "    <tr>\n",
       "      <th>2</th>\n",
       "      <td>\"Slut!\" (Taylor's Version) [From The Vault]</td>\n",
       "      <td>3.0</td>\n",
       "      <td>1989 (Taylor's Version)</td>\n",
       "      <td>flamingo pink, sunrise boulevard clink, clink,...</td>\n",
       "      <td>0-9</td>\n",
       "      <td>[tensor(-0.0312), tensor(0.5336), tensor(0.154...</td>\n",
       "      <td>0</td>\n",
       "    </tr>\n",
       "    <tr>\n",
       "      <th>3</th>\n",
       "      <td>22</td>\n",
       "      <td>20.0</td>\n",
       "      <td>Red</td>\n",
       "      <td>it feels like a perfect night to dress up like...</td>\n",
       "      <td>20-29</td>\n",
       "      <td>[tensor(0.2236), tensor(0.6578), tensor(-0.195...</td>\n",
       "      <td>1</td>\n",
       "    </tr>\n",
       "    <tr>\n",
       "      <th>4</th>\n",
       "      <td>22 (Taylor's Version)</td>\n",
       "      <td>52.0</td>\n",
       "      <td>Red (Taylor's Version)</td>\n",
       "      <td>it feels like a perfect night to dress up like...</td>\n",
       "      <td>50-59</td>\n",
       "      <td>[tensor(0.2230), tensor(0.7470), tensor(-0.246...</td>\n",
       "      <td>1</td>\n",
       "    </tr>\n",
       "  </tbody>\n",
       "</table>\n",
       "</div>"
      ],
      "text/plain": [
       "                                    track_name  peak_pos  \\\n",
       "0                             ...Ready For It?       4.0   \n",
       "1                         'tis the damn season      39.0   \n",
       "2  \"Slut!\" (Taylor's Version) [From The Vault]       3.0   \n",
       "3                                           22      20.0   \n",
       "4                        22 (Taylor's Version)      52.0   \n",
       "\n",
       "                album_name                                             lyrics  \\\n",
       "0               reputation  knew he was a killer first time that i saw him...   \n",
       "1                 evermore  if i wanted to know who you were hanging with ...   \n",
       "2  1989 (Taylor's Version)  flamingo pink, sunrise boulevard clink, clink,...   \n",
       "3                      Red  it feels like a perfect night to dress up like...   \n",
       "4   Red (Taylor's Version)  it feels like a perfect night to dress up like...   \n",
       "\n",
       "  peak_pos_bucketed                                   latent_embedding  \\\n",
       "0               0-9  [tensor(-0.0335), tensor(0.6539), tensor(0.216...   \n",
       "1             30-39  [tensor(0.1974), tensor(0.4486), tensor(-0.253...   \n",
       "2               0-9  [tensor(-0.0312), tensor(0.5336), tensor(0.154...   \n",
       "3             20-29  [tensor(0.2236), tensor(0.6578), tensor(-0.195...   \n",
       "4             50-59  [tensor(0.2230), tensor(0.7470), tensor(-0.246...   \n",
       "\n",
       "   cluster_assignment  \n",
       "0                   6  \n",
       "1                   4  \n",
       "2                   0  \n",
       "3                   1  \n",
       "4                   1  "
      ]
     },
     "execution_count": 3,
     "metadata": {},
     "output_type": "execute_result"
    }
   ],
   "source": [
    "# This assumes you have latent embeddings and a valid lyrics.csv. If not, run the chunk above.\n",
    "lyrics = pd.read_csv(\"../data/lyrics.csv\")\n",
    "lyrics['latent_embedding'] = lyrics['latent_embedding'].apply(lambda x: torch.tensor(ast.literal_eval(x)))\n",
    "print(lyrics.dtypes)\n",
    "lyrics.head()"
   ]
  },
  {
   "cell_type": "code",
   "execution_count": 4,
   "metadata": {},
   "outputs": [],
   "source": [
    "def plot_embeddings_interactive(embeddings, target_album=None, target_bucket=None):\n",
    "    \"\"\"\n",
    "    This is a function so we can see if there are patterns among different buckets of billboard scores.\n",
    "    It's a bit dizzying to look at everything overlaid...\n",
    "\n",
    "    This plot is interactive to make encoding EDA not as painful\n",
    "    \"\"\"\n",
    "    unique_albums = lyrics['album_name'].unique()\n",
    "    album_colors = plt.cm.rainbow(np.linspace(0, 1, len(unique_albums)))\n",
    "    album_color_map = {album: f'rgb({int(col[0]*255)}, {int(col[1]*255)}, {int(col[2]*255)})' for album, col in zip(unique_albums, album_colors)}\n",
    "\n",
    "    unique_buckets = lyrics['peak_pos_bucketed'].unique()\n",
    "    peak_pos_colors = plt.cm.Spectral(np.linspace(0, 1, len(unique_buckets)))\n",
    "    peak_pos_color_map = {bucket: f'rgb({int(col[0]*255)}, {int(col[1]*255)}, {int(col[2]*255)})' for bucket, col in zip(unique_buckets, peak_pos_colors)}\n",
    "\n",
    "    fig = go.Figure()\n",
    "\n",
    "    # Ensuring embeddings_2d is a NumPy array for indexing\n",
    "    embeddings_2d_np = np.array(embeddings)\n",
    "\n",
    "    # Add traces for album names\n",
    "    for album in unique_albums:\n",
    "        if target_album is not None and target_album != album:\n",
    "            continue\n",
    "        idx = lyrics['album_name'] == album\n",
    "        selected_embeddings = embeddings_2d_np[idx]\n",
    "        fig.add_trace(go.Scatter(x=selected_embeddings[:, 0], y=selected_embeddings[:, 1],\n",
    "                                 mode='markers', marker=dict(color=album_color_map[album], opacity=0.7 if target_album is None or target_album == album else 0.2),\n",
    "                                 name=album, text=lyrics[idx]['track_name']))\n",
    "\n",
    "    # Add traces for peak position buckets, set to be initially hidden (visible on legend click)\n",
    "    for bucket in unique_buckets:\n",
    "        if target_bucket is not None and target_bucket != bucket:\n",
    "            continue\n",
    "        idx = lyrics['peak_pos_bucketed'] == bucket\n",
    "        selected_embeddings = embeddings_2d_np[idx]\n",
    "        fig.add_trace(go.Scatter(x=selected_embeddings[:, 0], y=selected_embeddings[:, 1],\n",
    "                                 mode='markers', marker=dict(color=peak_pos_color_map[bucket], opacity=0.7 if target_bucket is None or target_bucket == bucket else 0.2),\n",
    "                                 name=bucket, text=lyrics[idx]['track_name'],\n",
    "                                 visible='legendonly'))\n",
    "\n",
    "    fig.update_layout(title='Interactive Plot of Song Embeddings',\n",
    "                      xaxis_title='TSNE 1',\n",
    "                      yaxis_title='TSNE 2',\n",
    "                      legend_title_text='Legend',\n",
    "                      hovermode='closest')\n",
    "\n",
    "    fig.show()"
   ]
  },
  {
   "cell_type": "code",
   "execution_count": 5,
   "metadata": {},
   "outputs": [
    {
     "data": {
      "image/png": "[encoded data removed]",
      "text/plain": [
       "<Figure size 1000x600 with 1 Axes>"
      ]
     },
     "metadata": {},
     "output_type": "display_data"
    }
   ],
   "source": [
    "embeddings = np.array([embedding.flatten() for embedding in lyrics['latent_embedding']])\n",
    "\n",
    "# Number of components is arbitrary for now\n",
    "ndims = 40\n",
    "umap_reducer = umap.UMAP(n_components=ndims)\n",
    "reduced_UMAP = umap_reducer.fit_transform(embeddings)\n",
    "\n",
    "k_values = range(5, 45) \n",
    "wcss = []\n",
    "\n",
    "for k in k_values:\n",
    "    kmeans = KMeans(n_clusters=k, random_state=256, n_init=10)\n",
    "    kmeans.fit(reduced_UMAP)\n",
    "    wcss.append(kmeans.inertia_)\n",
    "\n",
    "# Plotting the results\n",
    "plt.figure(figsize=(10, 6))\n",
    "plt.plot(k_values, wcss, '-o', color='black')\n",
    "plt.title('The Elbow Method')\n",
    "plt.xlabel('Number of clusters (k)')\n",
    "plt.ylabel('WCSS')\n",
    "plt.xticks(k_values)\n",
    "plt.grid(True)\n",
    "plt.show()"
   ]
  },
  {
   "cell_type": "code",
   "execution_count": 6,
   "metadata": {},
   "outputs": [
    {
     "data": {
      "application/vnd.plotly.v1+json": {
       "config": {
        "plotlyServerURL": "https://plot.ly"
       },
       "data": [
        {
         "marker": {
          "color": "rgb(127, 0, 255)",
          "opacity": 0.7
         },
         "mode": "markers",
         "name": "reputation",
         "text": [
          "...Ready For It?",
          "Call It What You Want",
          "Dancing With Our Hands Tied",
          "Delicate",
          "Don't Blame Me",
          "Dress",
          "End Game",
          "Getaway Car",
          "Gorgeous",
          "I Did Something Bad",
          "King Of My Heart",
          "Look What You Made Me Do",
          "New Year's Day",
          "So It Goes...",
          "This Is Why We Can't Have Nice Things"
         ],
         "type": "scatter",
         "x": [
          -18.862346649169922,
          -14.651247024536133,
          -21.802993774414062,
          -25.148099899291992,
          -12.87363338470459,
          -17.676300048828125,
          -20.040586471557617,
          -12.456790924072266,
          -21.894039154052734,
          -21.62090492248535,
          -19.864681243896484,
          -23.58180046081543,
          -21.977975845336914,
          -16.725862503051758,
          -17.426528930664062
         ],
         "y": [
          3.6792469024658203,
          -3.620260238647461,
          -4.337942600250244,
          4.675002574920654,
          3.7055513858795166,
          -2.287688732147217,
          -3.7874083518981934,
          3.5438404083251953,
          -6.625051975250244,
          6.001676559448242,
          3.97231125831604,
          5.995178699493408,
          7.10459041595459,
          -3.0306808948516846,
          -2.7630374431610107
         ]
        },
        {
         "marker": {
          "color": "rgb(95, 49, 253)",
          "opacity": 0.7
         },
         "mode": "markers",
         "name": "evermore",
         "text": [
          "'tis the damn season",
          "champagne problems",
          "closure",
          "coney island",
          "cowboy like me",
          "dorothea",
          "evermore",
          "gold rush",
          "happiness",
          "it's time to go",
          "ivy",
          "long story short",
          "marjorie",
          "no body, no crime",
          "right where you left me",
          "tolerate it",
          "willow"
         ],
         "type": "scatter",
         "x": [
          -12.427189826965332,
          25.800445556640625,
          23.36540412902832,
          3.1889233589172363,
          21.293851852416992,
          6.6773786544799805,
          4.741215229034424,
          13.53527545928955,
          -19.750442504882812,
          5.186184406280518,
          -10.12129020690918,
          -10.4815673828125,
          21.776456832885742,
          -11.197843551635742,
          -19.52179527282715,
          25.796865463256836,
          -19.878128051757812
         ],
         "y": [
          -2.4082162380218506,
          2.4666786193847656,
          -3.101100206375122,
          -2.3462624549865723,
          2.636078119277954,
          -1.0758486986160278,
          -1.7902880907058716,
          5.347431659698486,
          -6.727656364440918,
          -1.6967625617980957,
          -1.3675390481948853,
          -1.3106976747512817,
          2.7001163959503174,
          -1.8137832880020142,
          -6.878859043121338,
          3.5923852920532227,
          4.734833717346191
         ]
        },
        {
         "marker": {
          "color": "rgb(63, 97, 250)",
          "opacity": 0.7
         },
         "mode": "markers",
         "name": "1989 (Taylor's Version)",
         "text": [
          "\"Slut!\" (Taylor's Version) [From The Vault]",
          "All You Had To Do Was Stay (Taylor's Version)",
          "Bad Blood (Remix) [Taylor's Version]",
          "Bad Blood (Taylor's Version)",
          "Blank Space (Taylor's Version)",
          "Clean (Taylor's Version)",
          "How You Get The Girl (Taylor's Version)",
          "I Know Places (Taylor's Version)",
          "I Wish You Would (Taylor's Version)",
          "Is It Over Now? (Taylor's Version) [From The Vault]",
          "New Romantics (Taylor's Version)",
          "Now That We Don't Talk (Taylor's Version) [From The Vault]",
          "Out Of The Woods (Taylor's Version)",
          "Say Don't Go (Taylor's Version) [From The Vault]",
          "Shake It Off (Taylor's Version)",
          "Style (Taylor's Version)",
          "Suburban Legends (Taylor's Version) [From The Vault]",
          "Sweeter Than Fiction (Taylor's Version)",
          "This Love (Taylor's Version)",
          "Welcome To New York (Taylor's Version)",
          "Wildest Dreams (Taylor's Version)",
          "Wonderland (Taylor's Version)",
          "You Are In Love (Taylor's Version)"
         ],
         "type": "scatter",
         "x": [
          3.04533052444458,
          -23.593414306640625,
          -20.6679630279541,
          -23.06175994873047,
          -22.856792449951172,
          1.7595765590667725,
          -22.845991134643555,
          -8.897128105163574,
          -22.974027633666992,
          -17.903654098510742,
          -16.94858169555664,
          26.164907455444336,
          -21.865158081054688,
          -24.888179779052734,
          -24.697036743164062,
          -11.94481372833252,
          20.50523567199707,
          -21.955467224121094,
          -23.87802505493164,
          -10.3726806640625,
          -25.86178207397461,
          -17.735891342163086,
          -16.24516487121582
         ],
         "y": [
          -2.434476137161255,
          -3.328080654144287,
          -6.698911666870117,
          5.93662691116333,
          6.702443599700928,
          -0.1710575819015503,
          -6.36746072769165,
          -1.4736570119857788,
          -3.7094502449035645,
          -4.081648826599121,
          3.585824966430664,
          2.0773043632507324,
          2.930255174636841,
          -4.848143100738525,
          4.367951393127441,
          3.376527786254883,
          -0.29099878668785095,
          -5.94951868057251,
          -5.0825114250183105,
          3.5955982208251953,
          -3.3567755222320557,
          -0.9306773543357849,
          -3.9847347736358643
         ]
        },
        {
         "marker": {
          "color": "rgb(31, 142, 243)",
          "opacity": 0.7
         },
         "mode": "markers",
         "name": "Red",
         "text": [
          "22",
          "All Too Well",
          "Begin Again",
          "Come Back...Be Here",
          "Everything Has Changed",
          "Girl At Home",
          "Holy Ground",
          "I Almost Do",
          "I Knew You Were Trouble",
          "Red",
          "Red (Original Demo Recording)",
          "Sad Beautiful Tragic",
          "Starlight",
          "State Of Grace",
          "State Of Grace (Acoustic Version)",
          "Stay Stay Stay",
          "The Last Time",
          "The Lucky One",
          "The Moment I Knew",
          "Treacherous",
          "Treacherous (Original Demo Recording)",
          "We Are Never Ever Getting Back Together"
         ],
         "type": "scatter",
         "x": [
          -24.89129638671875,
          -14.821305274963379,
          13.298239707946777,
          21.308807373046875,
          -16.98821449279785,
          -16.536806106567383,
          21.212974548339844,
          15.481330871582031,
          -24.225034713745117,
          2.1947414875030518,
          14.066717147827148,
          27.768022537231445,
          -10.232549667358398,
          27.191314697265625,
          28.872417449951172,
          2.5510029792785645,
          -21.906644821166992,
          -8.557825088500977,
          5.51572847366333,
          14.1826810836792,
          13.899741172790527,
          -25.93424415588379
         ],
         "y": [
          -3.400451898574829,
          2.9814293384552,
          1.3798367977142334,
          2.505511999130249,
          -2.5159361362457275,
          -3.31929612159729,
          -1.143318772315979,
          2.500791072845459,
          -3.9405415058135986,
          0.3533167243003845,
          4.758025646209717,
          -6.55385160446167,
          2.9935081005096436,
          -2.8945109844207764,
          -4.916724681854248,
          0.1449284851551056,
          -6.4857048988342285,
          -0.28524965047836304,
          -0.7618409395217896,
          7.44691276550293,
          7.228415489196777,
          -3.1029763221740723
         ]
        },
        {
         "marker": {
          "color": "rgb(0, 180, 235)",
          "opacity": 0.7
         },
         "mode": "markers",
         "name": "Red (Taylor's Version)",
         "text": [
          "22 (Taylor's Version)",
          "All Too Well (10 Minute Version) [Taylor's Version] [From The Vault]",
          "All Too Well (Taylor's Version)",
          "Babe (Taylor's Version) [From The Vault]",
          "Begin Again (Taylor's Version)",
          "Better Man (Taylor's Version) [From The Vault]",
          "Come Back...Be Here (Taylor's Version)",
          "Everything Has Changed (Taylor's Version)",
          "Forever Winter (Taylor's Version) [From The Vault]",
          "Girl At Home (Taylor's Version)",
          "Holy Ground (Taylor's Version)",
          "I Almost Do (Taylor's Version)",
          "I Bet You Think About Me (Taylor's Version) [From The Vault]",
          "I Knew You Were Trouble (Taylor's Version)",
          "Message In A Bottle (Taylor's Version) [From The Vault]",
          "Nothing New (Taylor's Version) [From The Vault]",
          "Red (Taylor's Version)",
          "Ronan (Taylor's Version)",
          "Run (Taylor's Version) [From The Vault]",
          "Sad Beautiful Tragic (Taylor's Version)",
          "Starlight (Taylor's Version)",
          "State Of Grace (Acoustic Version) [Taylor's Version]",
          "State Of Grace (Taylor's Version)",
          "Stay Stay Stay (Taylor's Version)",
          "The Last Time (Taylor's Version)",
          "The Lucky One (Taylor's Version)",
          "The Moment I Knew (Taylor's Version)",
          "The Very First Night (Taylor's Version) [From The Vault]",
          "Treacherous (Taylor's Version)",
          "We Are Never Ever Getting Back Together (Taylor's Version)"
         ],
         "type": "scatter",
         "x": [
          -25.14645767211914,
          -14.36756420135498,
          -14.835954666137695,
          2.190337896347046,
          13.247623443603516,
          -14.7260160446167,
          21.002166748046875,
          -17.146934509277344,
          25.98579978942871,
          -16.075891494750977,
          21.830053329467773,
          15.631836891174316,
          -13.790717124938965,
          -24.43886375427246,
          -22.809755325317383,
          4.798594951629639,
          -24.873737335205078,
          23.900426864624023,
          -13.053545951843262,
          28.394912719726562,
          -20.710739135742188,
          28.500635147094727,
          4.588155269622803,
          2.464346408843994,
          -21.36918830871582,
          -8.490031242370605,
          5.114958763122559,
          13.414145469665527,
          14.134655952453613,
          -25.909713745117188
         ],
         "y": [
          -2.865755319595337,
          2.8395707607269287,
          2.8812665939331055,
          -0.3209551274776459,
          1.6875616312026978,
          2.2716104984283447,
          2.429605722427368,
          -2.763206958770752,
          3.97200608253479,
          -2.593224048614502,
          -1.2601803541183472,
          2.3805906772613525,
          -3.365802049636841,
          -4.122827529907227,
          -3.8438942432403564,
          -1.3403884172439575,
          -4.699812412261963,
          2.9078352451324463,
          2.258695125579834,
          -6.561395168304443,
          5.414076328277588,
          -4.560218811035156,
          -0.7022743821144104,
          -0.04957141727209091,
          -6.42041540145874,
          -0.26026690006256104,
          -0.7026455402374268,
          5.958015441894531,
          7.360878944396973,
          -2.98861026763916
         ]
        },
        {
         "marker": {
          "color": "rgb(32, 212, 224)",
          "opacity": 0.7
         },
         "mode": "markers",
         "name": "Taylor Swift",
         "text": [
          "A Perfectly Good Heart",
          "A Place In This World",
          "Cold As You",
          "I'm Only Me When I'm With You",
          "I'm Only Me When I'm With You",
          "Invisible",
          "Mary's Song (Oh My My My)",
          "Our Song",
          "Picture To Burn",
          "Should've Said No",
          "Stay Beautiful",
          "Teardrops On My Guitar",
          "Teardrops On My Guitar (Pop Version)",
          "The Outside",
          "Tied Together With A Smile",
          "Tim McGraw"
         ],
         "type": "scatter",
         "x": [
          27.227994918823242,
          25.46725845336914,
          25.31961441040039,
          22.64178466796875,
          22.719263076782227,
          26.328048706054688,
          6.311003684997559,
          -11.332018852233887,
          13.124030113220215,
          2.3265719413757324,
          26.74668312072754,
          14.59961223602295,
          14.24852466583252,
          26.359363555908203,
          22.013717651367188,
          -10.1572904586792
         ],
         "y": [
          -4.306051731109619,
          -3.958460569381714,
          -4.513485908508301,
          2.5202884674072266,
          2.6692371368408203,
          -4.277106285095215,
          -0.48936155438423157,
          3.8770265579223633,
          7.231954574584961,
          0.647039532661438,
          -1.2216885089874268,
          2.831528902053833,
          3.4082462787628174,
          -4.380136013031006,
          -1.9523924589157104,
          2.9242653846740723
         ]
        },
        {
         "marker": {
          "color": "rgb(64, 236, 211)",
          "opacity": 0.7
         },
         "mode": "markers",
         "name": "Lover",
         "text": [
          "Afterglow",
          "Cornelia Street",
          "Cruel Summer",
          "Daylight",
          "Death By A Thousand Cuts",
          "False God",
          "I Forgot That You Existed",
          "I Think He Knows",
          "It's Nice To Have A Friend",
          "London Boy",
          "Lover",
          "ME!",
          "Miss Americana & The Heartbreak Prince",
          "Paper Rings",
          "Soon You'll Get Better",
          "The Archer",
          "The Man",
          "You Need To Calm Down"
         ],
         "type": "scatter",
         "x": [
          -11.403298377990723,
          -11.814350128173828,
          -23.66325569152832,
          -22.17510414123535,
          -21.33909797668457,
          14.006753921508789,
          19.103561401367188,
          -12.069683074951172,
          28.75849723815918,
          -13.174160957336426,
          16.021465301513672,
          -25.013357162475586,
          -15.448676109313965,
          -21.319372177124023,
          23.751346588134766,
          18.23676109313965,
          -19.892427444458008,
          -24.588396072387695
         ],
         "y": [
          2.9382357597351074,
          4.545747756958008,
          4.574219703674316,
          -3.8229379653930664,
          6.264566898345947,
          6.636091232299805,
          0.33719658851623535,
          -2.099937677383423,
          -6.481731414794922,
          1.4111425876617432,
          2.034074068069458,
          4.320551872253418,
          3.1636862754821777,
          -4.865335941314697,
          -2.2642593383789062,
          1.0148379802703857,
          -3.8447952270507812,
          5.199990272521973
         ]
        },
        {
         "marker": {
          "color": "rgb(96, 250, 196)",
          "opacity": 0.7
         },
         "mode": "markers",
         "name": "nan",
         "text": [],
         "type": "scatter",
         "x": [],
         "y": []
        },
        {
         "marker": {
          "color": "rgb(128, 254, 179)",
          "opacity": 0.7
         },
         "mode": "markers",
         "name": "1989",
         "text": [
          "All You Had To Do Was Stay",
          "Bad Blood",
          "Blank Space",
          "Clean",
          "How You Get The Girl",
          "I Know Places",
          "I Wish You Would",
          "New Romantics",
          "Out Of The Woods",
          "Shake It Off",
          "Style",
          "This Love",
          "Welcome To New York",
          "Wildest Dreams",
          "Wonderland",
          "You Are In Love"
         ],
         "type": "scatter",
         "x": [
          -22.952924728393555,
          -22.36273765563965,
          -21.91575813293457,
          -24.276123046875,
          -22.64373016357422,
          -9.350738525390625,
          -22.0803279876709,
          -15.101130485534668,
          -21.4442138671875,
          -25.001708984375,
          -11.234392166137695,
          -24.511133193969727,
          -9.87698745727539,
          -25.488357543945312,
          -20.633800506591797,
          -16.444801330566406
         ],
         "y": [
          -3.003199815750122,
          6.124767780303955,
          6.808117389678955,
          -5.468476295471191,
          -6.206212043762207,
          -0.48628607392311096,
          -3.517059087753296,
          3.396411180496216,
          3.2000138759613037,
          4.878810882568359,
          3.4894351959228516,
          -4.723965644836426,
          2.4784305095672607,
          -3.7174408435821533,
          -3.6777377128601074,
          -3.6806986331939697
         ]
        },
        {
         "marker": {
          "color": "rgb(160, 249, 161)",
          "opacity": 0.7
         },
         "mode": "markers",
         "name": "Midnights",
         "text": [
          "Anti-Hero",
          "Bejeweled",
          "Bigger Than The Whole Sky",
          "Dear Reader",
          "Glitch",
          "High Infidelity",
          "Hits Different",
          "Karma",
          "Karma (Remix)",
          "Labyrinth",
          "Lavender Haze",
          "Maroon",
          "Mastermind",
          "Midnight Rain",
          "Paris",
          "Question...?",
          "Snow On The Beach",
          "Snow On The Beach (More Lana Del Rey)",
          "Sweet Nothing",
          "Sweet Nothing (Piano Remix)",
          "The Great War",
          "Vigilante Shit",
          "Would've, Could've, Should've",
          "You're Losing Me (From The Vault)",
          "You're On Your Own, Kid",
          "You're On Your Own, Kid (Strings Remix)"
         ],
         "type": "scatter",
         "x": [
          2.9620275497436523,
          -18.072956085205078,
          20.967269897460938,
          27.58439826965332,
          19.697763442993164,
          -10.118284225463867,
          -14.276646614074707,
          -9.762524604797363,
          -15.473589897155762,
          18.723844528198242,
          19.67975425720215,
          2.266219139099121,
          5.853614807128906,
          24.892898559570312,
          25.57181739807129,
          -17.735187530517578,
          -23.331520080566406,
          -22.659387588500977,
          19.937660217285156,
          19.876384735107422,
          4.125161170959473,
          26.87611198425293,
          -16.794551849365234,
          -14.983606338500977,
          26.25614356994629,
          25.8952693939209
         ],
         "y": [
          -1.1534996032714844,
          -3.5483198165893555,
          -1.6767076253890991,
          -3.199767589569092,
          -0.5958864092826843,
          -0.6399837136268616,
          -3.6682934761047363,
          -0.8400365710258484,
          -4.077388763427734,
          0.1865687519311905,
          0.11909278482198715,
          -0.7281568646430969,
          -1.2624870538711548,
          1.9291824102401733,
          4.145732402801514,
          -3.6373469829559326,
          -5.745797634124756,
          -5.421212196350098,
          -0.8121474385261536,
          -1.1778382062911987,
          -1.9837980270385742,
          -1.8231275081634521,
          -4.566096305847168,
          -3.2706305980682373,
          3.5282254219055176,
          3.0523338317871094
         ]
        },
        {
         "marker": {
          "color": "rgb(192, 234, 140)",
          "opacity": 0.7
         },
         "mode": "markers",
         "name": "folklore",
         "text": [
          "august",
          "betty",
          "cardigan",
          "epiphany",
          "exile",
          "hoax",
          "illicit affairs",
          "invisible string",
          "mad woman",
          "mirrorball",
          "my tears ricochet",
          "peace",
          "seven",
          "the 1",
          "the lakes",
          "the last great american dynasty",
          "this is me trying"
         ],
         "type": "scatter",
         "x": [
          -9.474517822265625,
          -22.394113540649414,
          -25.641056060791016,
          28.184465408325195,
          -22.577491760253906,
          26.5461368560791,
          27.23519515991211,
          24.504810333251953,
          26.125951766967773,
          21.724403381347656,
          25.63802146911621,
          22.549070358276367,
          28.872119903564453,
          14.169243812561035,
          14.073291778564453,
          5.8890275955200195,
          24.201875686645508
         ],
         "y": [
          0.5453343391418457,
          5.528732776641846,
          -3.705824851989746,
          -6.625954627990723,
          6.396500587463379,
          -5.700613021850586,
          -5.9600725173950195,
          2.62274169921875,
          3.2494897842407227,
          -1.295539140701294,
          3.3960320949554443,
          2.8965814113616943,
          -5.016173362731934,
          1.9983665943145752,
          7.9112868309021,
          -1.1717917919158936,
          -3.524048328399658
         ]
        },
        {
         "marker": {
          "color": "rgb(224, 210, 119)",
          "opacity": 0.7
         },
         "mode": "markers",
         "name": "Speak Now",
         "text": [
          "Back To December",
          "Better Than Revenge",
          "Dear John",
          "Enchanted",
          "Haunted",
          "If This Was A Movie",
          "Innocent",
          "Last Kiss",
          "Long Live",
          "Mean",
          "Mine",
          "Never Grow Up",
          "Ours",
          "Sparks Fly",
          "Speak Now",
          "Superman",
          "The Story Of Us"
         ],
         "type": "scatter",
         "x": [
          -19.29922103881836,
          -21.009967803955078,
          -9.093793869018555,
          1.9886053800582886,
          13.150215148925781,
          -18.18437385559082,
          25.439367294311523,
          -10.653950691223145,
          -21.12185287475586,
          -23.73698616027832,
          -10.991348266601562,
          -18.655141830444336,
          13.793182373046875,
          13.570579528808594,
          -11.981954574584961,
          -9.61713981628418,
          -13.806867599487305
         ],
         "y": [
          2.4172182083129883,
          3.4412317276000977,
          0.2170562744140625,
          0.02484947443008423,
          2.752570629119873,
          -1.4659309387207031,
          2.782620668411255,
          2.821044445037842,
          4.927585124969482,
          5.437648296356201,
          3.1948060989379883,
          -2.6827521324157715,
          6.639597415924072,
          4.448094844818115,
          3.7067933082580566,
          -0.14035823941230774,
          3.064832925796509
         ]
        },
        {
         "marker": {
          "color": "rgb(255, 178, 96)",
          "opacity": 0.7
         },
         "mode": "markers",
         "name": "Speak Now (Taylor's Version)",
         "text": [
          "Back To December (Taylor's Version)",
          "Better Than Revenge (Taylor's Version)",
          "Castles Crumbling (Taylor's Version) [From The Vault]",
          "Dear John (Taylor's Version)",
          "Electric Touch (Taylor's Version) [From The Vault]",
          "Enchanted (Taylor's Version)",
          "Foolish One (Taylor's Version) [From The Vault]",
          "Haunted (Taylor's Version)",
          "I Can See You (Taylor's Version) [From The Vault]",
          "Innocent (Taylor's Version)",
          "Last Kiss (Taylor's Version)",
          "Long Live (Taylor's Version)",
          "Mean (Taylor's Version)",
          "Mine (Taylor's Version)",
          "Never Grow Up (Taylor's Version)",
          "Ours (Taylor's Version)",
          "Sparks Fly (Taylor's Version)",
          "Speak Now (Taylor's Version)",
          "Superman (Taylor's Version)",
          "The Story Of Us (Taylor's Version)",
          "Timeless (Taylor's Version) [From The Vault]",
          "When Emma Falls In Love (Taylor's Version) [From The Vault]"
         ],
         "type": "scatter",
         "x": [
          -21.43609619140625,
          -20.159212112426758,
          20.06450653076172,
          -9.066015243530273,
          5.0714311599731445,
          -24.383405685424805,
          -15.115240097045898,
          13.570136070251465,
          -21.497127532958984,
          25.031774520874023,
          -11.466085433959961,
          -20.93281364440918,
          -24.101625442504883,
          -18.153480529785156,
          -18.881650924682617,
          12.994979858398438,
          13.323917388916016,
          -12.00230884552002,
          -10.072232246398926,
          -13.615558624267578,
          -18.56825065612793,
          2.9861974716186523
         ],
         "y": [
          -3.949728012084961,
          3.362236976623535,
          0.9783244132995605,
          0.7090778946876526,
          -0.8383520245552063,
          -3.1080501079559326,
          1.1443532705307007,
          2.7119195461273193,
          -6.218769073486328,
          3.0993621349334717,
          2.9369919300079346,
          4.91753625869751,
          5.254298210144043,
          3.8506646156311035,
          -3.127528667449951,
          6.5937581062316895,
          3.2349648475646973,
          4.147181510925293,
          -0.4303954541683197,
          3.3112311363220215,
          -6.031382083892822,
          -2.2906787395477295
         ]
        },
        {
         "marker": {
          "color": "rgb(255, 139, 72)",
          "opacity": 0.7
         },
         "mode": "markers",
         "name": "Beautiful Eyes",
         "text": [
          "Beautiful Eyes",
          "I Heart ?",
          "I'm Only Me When I'm With You",
          "I'm Only Me When I'm With You",
          "Picture To Burn (Radio Edit)",
          "Should've Said No (Alternate Version)",
          "Teardrops On My Guitar (Acoustic Version)"
         ],
         "type": "scatter",
         "x": [
          28.00694465637207,
          23.804441452026367,
          22.480684280395508,
          22.85690689086914,
          13.21779727935791,
          13.64427661895752,
          14.447553634643555
         ],
         "y": [
          -5.775335788726807,
          3.102416515350342,
          2.766616106033325,
          2.926427125930786,
          7.220454692840576,
          2.9023025035858154,
          2.9286396503448486
         ]
        },
        {
         "marker": {
          "color": "rgb(255, 95, 48)",
          "opacity": 0.7
         },
         "mode": "markers",
         "name": "Fearless",
         "text": [
          "Breathe",
          "Change",
          "Come In With The Rain",
          "Fearless",
          "Fifteen",
          "Forever & Always",
          "Forever & Always (Piano Version)",
          "Hey Stephen",
          "Jump Then Fall",
          "Love Story",
          "SuperStar",
          "Tell Me Why",
          "The Best Day",
          "The Other Side Of The Door",
          "The Way I Loved You",
          "Untouchable",
          "White Horse",
          "You Belong With Me",
          "You're Not Sorry"
         ],
         "type": "scatter",
         "x": [
          13.850247383117676,
          13.393547058105469,
          26.585479736328125,
          13.760093688964844,
          -15.063825607299805,
          -22.19367027282715,
          -22.764802932739258,
          -12.433914184570312,
          -9.188383102416992,
          -24.674440383911133,
          13.567193984985352,
          6.374337673187256,
          25.1893310546875,
          -9.861467361450195,
          13.676358222961426,
          -22.3220272064209,
          19.619787216186523,
          -20.867280960083008,
          2.851930618286133
         ],
         "y": [
          2.049201011657715,
          6.899837017059326,
          -4.020635604858398,
          6.355356216430664,
          -3.1812562942504883,
          4.0700364112854,
          3.410350799560547,
          2.9299814701080322,
          -0.10850253701210022,
          4.795787811279297,
          7.734607219696045,
          -0.6326354742050171,
          4.027376651763916,
          2.024951934814453,
          3.9722983837127686,
          7.029879570007324,
          1.4161162376403809,
          4.344737529754639,
          0.7111140489578247
         ]
        },
        {
         "marker": {
          "color": "rgb(255, 46, 23)",
          "opacity": 0.7
         },
         "mode": "markers",
         "name": "Fearless (Taylor's Version)",
         "text": [
          "Breathe (Taylor's Version)",
          "Bye Bye Baby (Taylor's Version) [From The Vault]",
          "Change (Taylor's Version)",
          "Come In With The Rain (Taylor's Version)",
          "Don't You (Taylor's Version) [From The Vault]",
          "Fearless (Taylor's Version)",
          "Fifteen (Taylor's Version)",
          "Forever & Always (Piano Version) [Taylor's Version]",
          "Forever & Always (Taylor's Version)",
          "Hey Stephen (Taylor's Version)",
          "Jump Then Fall (Taylor's Version)",
          "Love Story (Taylor's Version)",
          "Mr. Perfectly Fine (Taylor's Version) [From The Vault]",
          "SuperStar (Taylor's Version)",
          "Tell Me Why (Taylor's Version)",
          "That's When (Taylor's Version) [From The Vault]",
          "The Best Day (Taylor's Version)",
          "The Other Side Of The Door (Taylor's Version)",
          "The Way I Loved You (Taylor's Version)",
          "Today Was A Fairytale (Taylor's Version)",
          "Untouchable (Taylor's Version)",
          "We Were Happy (Taylor's Version) [From The Vault]",
          "White Horse (Taylor's Version)",
          "You All Over Me (Taylor's Version) [From The Vault]",
          "You Belong With Me (Taylor's Version)",
          "You're Not Sorry (Taylor's Version)"
         ],
         "type": "scatter",
         "x": [
          3.1148860454559326,
          13.868982315063477,
          12.940505981445312,
          26.868831634521484,
          25.55030632019043,
          13.132594108581543,
          -15.214886665344238,
          -25.388702392578125,
          -23.09503936767578,
          -12.614129066467285,
          -8.96845531463623,
          -24.728986740112305,
          -21.07440185546875,
          13.648941993713379,
          6.026965141296387,
          -23.815645217895508,
          25.502859115600586,
          -21.89575958251953,
          13.216168403625488,
          14.830483436584473,
          -22.337753295898438,
          26.301618576049805,
          19.493370056152344,
          20.00454330444336,
          -20.636674880981445,
          2.7359063625335693
         ],
         "y": [
          0.3792456090450287,
          2.426250696182251,
          6.967866897583008,
          -4.025823593139648,
          -3.0902011394500732,
          6.245779514312744,
          -3.7681758403778076,
          -2.989415168762207,
          2.8373782634735107,
          3.1292097568511963,
          -0.7388240694999695,
          5.1539530754089355,
          -6.8750410079956055,
          7.737430572509766,
          -0.5001306533813477,
          -6.1050190925598145,
          4.291861534118652,
          5.039294242858887,
          3.3995487689971924,
          1.308669090270996,
          6.758862018585205,
          -3.2012901306152344,
          1.1801191568374634,
          -1.1462304592132568,
          4.087838172912598,
          0.6482972502708435
         ]
        },
        {
         "marker": {
          "color": "rgb(255, 0, 0)",
          "opacity": 0.7
         },
         "mode": "markers",
         "name": "The Taylor Swift Holiday Collection",
         "text": [
          "Christmas Must Be Something More",
          "Christmases When You Were Mine",
          "Last Christmas",
          "Santa Baby",
          "Silent Night",
          "White Christmas"
         ],
         "type": "scatter",
         "x": [
          25.180423736572266,
          28.810359954833984,
          19.289304733276367,
          28.120227813720703,
          28.57357406616211,
          28.333812713623047
         ],
         "y": [
          2.8075668811798096,
          -5.6181817054748535,
          1.6689964532852173,
          -5.189600467681885,
          -5.914520740509033,
          -5.822810173034668
         ]
        },
        {
         "marker": {
          "color": "rgb(158, 1, 66)",
          "opacity": 0.7
         },
         "mode": "markers",
         "name": "0-9",
         "text": [
          "...Ready For It?",
          "\"Slut!\" (Taylor's Version) [From The Vault]",
          "All Too Well (Taylor's Version)",
          "Anti-Hero",
          "Back To December",
          "Bad Blood (Remix) [Taylor's Version]",
          "Bad Blood (Taylor's Version)",
          "Begin Again",
          "Bejeweled",
          "Blank Space",
          "cardigan",
          "Cruel Summer",
          "exile",
          "Fearless",
          "I Can See You (Taylor's Version) [From The Vault]",
          "I Don't Wanna Live Forever",
          "I Knew You Were Trouble",
          "Is It Over Now? (Taylor's Version) [From The Vault]",
          "Karma (Remix)",
          "Lavender Haze",
          "Look What You Made Me Do",
          "Love Story",
          "Maroon",
          "ME!",
          "Midnight Rain",
          "Mine",
          "Now That We Don't Talk (Taylor's Version) [From The Vault]",
          "Question...?",
          "Red",
          "Say Don't Go (Taylor's Version) [From The Vault]",
          "Shake It Off",
          "Snow On The Beach",
          "Speak Now",
          "Style",
          "Style (Taylor's Version)",
          "the 1",
          "Today Was A Fairytale",
          "We Are Never Ever Getting Back Together",
          "Wildest Dreams",
          "willow",
          "You Belong With Me",
          "You Need To Calm Down",
          "You're On Your Own, Kid"
         ],
         "type": "scatter",
         "visible": "legendonly",
         "x": [
          -18.862346649169922,
          3.04533052444458,
          -14.835954666137695,
          2.9620275497436523,
          -19.29922103881836,
          -20.6679630279541,
          -23.06175994873047,
          13.298239707946777,
          -18.072956085205078,
          -21.91575813293457,
          -25.641056060791016,
          -23.66325569152832,
          -22.577491760253906,
          13.760093688964844,
          -21.497127532958984,
          2.7732393741607666,
          -24.225034713745117,
          -17.903654098510742,
          -15.473589897155762,
          19.67975425720215,
          -23.58180046081543,
          -24.674440383911133,
          2.266219139099121,
          -25.013357162475586,
          24.892898559570312,
          -10.991348266601562,
          26.164907455444336,
          -17.735187530517578,
          2.1947414875030518,
          -24.888179779052734,
          -25.001708984375,
          -23.331520080566406,
          -11.981954574584961,
          -11.234392166137695,
          -11.94481372833252,
          14.169243812561035,
          14.523538589477539,
          -25.93424415588379,
          -25.488357543945312,
          -19.878128051757812,
          -20.867280960083008,
          -24.588396072387695,
          26.25614356994629
         ],
         "y": [
          3.6792469024658203,
          -2.434476137161255,
          2.8812665939331055,
          -1.1534996032714844,
          2.4172182083129883,
          -6.698911666870117,
          5.93662691116333,
          1.3798367977142334,
          -3.5483198165893555,
          6.808117389678955,
          -3.705824851989746,
          4.574219703674316,
          6.396500587463379,
          6.355356216430664,
          -6.218769073486328,
          1.042140007019043,
          -3.9405415058135986,
          -4.081648826599121,
          -4.077388763427734,
          0.11909278482198715,
          5.995178699493408,
          4.795787811279297,
          -0.7281568646430969,
          4.320551872253418,
          1.9291824102401733,
          3.1948060989379883,
          2.0773043632507324,
          -3.6373469829559326,
          0.3533167243003845,
          -4.848143100738525,
          4.878810882568359,
          -5.745797634124756,
          3.7067933082580566,
          3.4894351959228516,
          3.376527786254883,
          1.9983665943145752,
          1.6678649187088013,
          -3.1029763221740723,
          -3.7174408435821533,
          4.734833717346191,
          4.344737529754639,
          5.199990272521973,
          3.5282254219055176
         ]
        },
        {
         "marker": {
          "color": "rgb(211, 60, 78)",
          "opacity": 0.7
         },
         "mode": "markers",
         "name": "30-39",
         "text": [
          "'tis the damn season",
          "Castles Crumbling (Taylor's Version) [From The Vault]",
          "Clean (Taylor's Version)",
          "Come In With The Rain",
          "Electric Touch (Taylor's Version) [From The Vault]",
          "Everything Has Changed",
          "Forever & Always",
          "High Infidelity",
          "I Know Places (Taylor's Version)",
          "I Wish You Would (Taylor's Version)",
          "invisible string",
          "Mean (Taylor's Version)",
          "Mr. Perfectly Fine (Taylor's Version) [From The Vault]",
          "no body, no crime",
          "Paris",
          "Safe & Sound",
          "seven",
          "Should've Said No",
          "Speak Now (Taylor's Version)",
          "Sweeter Than Fiction",
          "The Archer",
          "this is me trying",
          "When Emma Falls In Love (Taylor's Version) [From The Vault]",
          "Wonderland (Taylor's Version)"
         ],
         "type": "scatter",
         "visible": "legendonly",
         "x": [
          -12.427189826965332,
          20.06450653076172,
          1.7595765590667725,
          26.585479736328125,
          5.0714311599731445,
          -16.98821449279785,
          -22.19367027282715,
          -10.118284225463867,
          -8.897128105163574,
          -22.974027633666992,
          24.504810333251953,
          -24.101625442504883,
          -21.07440185546875,
          -11.197843551635742,
          25.57181739807129,
          27.50774574279785,
          28.872119903564453,
          2.3265719413757324,
          -12.00230884552002,
          -17.23690414428711,
          18.23676109313965,
          24.201875686645508,
          2.9861974716186523,
          -17.735891342163086
         ],
         "y": [
          -2.4082162380218506,
          0.9783244132995605,
          -0.1710575819015503,
          -4.020635604858398,
          -0.8383520245552063,
          -2.5159361362457275,
          4.0700364112854,
          -0.6399837136268616,
          -1.4736570119857788,
          -3.7094502449035645,
          2.62274169921875,
          5.254298210144043,
          -6.8750410079956055,
          -1.8137832880020142,
          4.145732402801514,
          -5.202861309051514,
          -5.016173362731934,
          0.647039532661438,
          4.147181510925293,
          -3.627286672592163,
          1.0148379802703857,
          -3.524048328399658,
          -2.2906787395477295,
          -0.9306773543357849
         ]
        },
        {
         "marker": {
          "color": "rgb(244, 109, 67)",
          "opacity": 0.7
         },
         "mode": "markers",
         "name": "20-29",
         "text": [
          "22",
          "All You Had To Do Was Stay (Taylor's Version)",
          "august",
          "Better Than Revenge (Taylor's Version)",
          "Bigger Than The Whole Sky",
          "Call It What You Want",
          "champagne problems",
          "Dear John (Taylor's Version)",
          "Fifteen",
          "Highway Don't Care",
          "Hits Different",
          "I Bet You Think About Me (Taylor's Version) [From The Vault]",
          "I Forgot That You Existed",
          "Innocent",
          "mirrorball",
          "New Romantics (Taylor's Version)",
          "Picture To Burn",
          "Red (Taylor's Version)",
          "Shake It Off (Taylor's Version)",
          "Sparks Fly (Taylor's Version)",
          "Superman",
          "SuperStar",
          "The Great War",
          "The Joker And The Queen",
          "The Man",
          "The Other Side Of The Door",
          "Would've, Could've, Should've",
          "You're Losing Me (From The Vault)"
         ],
         "type": "scatter",
         "visible": "legendonly",
         "x": [
          -24.89129638671875,
          -23.593414306640625,
          -9.474517822265625,
          -20.159212112426758,
          20.967269897460938,
          -14.651247024536133,
          25.800445556640625,
          -9.066015243530273,
          -15.063825607299805,
          -19.956401824951172,
          -14.276646614074707,
          -13.790717124938965,
          19.103561401367188,
          25.439367294311523,
          21.724403381347656,
          -16.94858169555664,
          13.124030113220215,
          -24.873737335205078,
          -24.697036743164062,
          13.323917388916016,
          -9.61713981628418,
          13.567193984985352,
          4.125161170959473,
          27.633813858032227,
          -19.892427444458008,
          -9.861467361450195,
          -16.794551849365234,
          -14.983606338500977
         ],
         "y": [
          -3.400451898574829,
          -3.328080654144287,
          0.5453343391418457,
          3.362236976623535,
          -1.6767076253890991,
          -3.620260238647461,
          2.4666786193847656,
          0.7090778946876526,
          -3.1812562942504883,
          3.2618861198425293,
          -3.6682934761047363,
          -3.365802049636841,
          0.33719658851623535,
          2.782620668411255,
          -1.295539140701294,
          3.585824966430664,
          7.231954574584961,
          -4.699812412261963,
          4.367951393127441,
          3.2349648475646973,
          -0.14035823941230774,
          7.734607219696045,
          -1.9837980270385742,
          -5.845141887664795,
          -3.8447952270507812,
          2.024951934814453,
          -4.566096305847168,
          -3.2706305980682373
         ]
        },
        {
         "marker": {
          "color": "rgb(252, 172, 96)",
          "opacity": 0.7
         },
         "mode": "markers",
         "name": "50-59",
         "text": [
          "22 (Taylor's Version)",
          "Better Man (Taylor's Version) [From The Vault]",
          "Better Than Revenge",
          "Christmas Tree Farm",
          "Cornelia Street",
          "Dear John",
          "epiphany",
          "evermore",
          "happiness",
          "Haunted (Taylor's Version)",
          "I Almost Do (Taylor's Version)",
          "I Think He Knows",
          "Last Kiss (Taylor's Version)",
          "Long Live (Taylor's Version)",
          "Never Grow Up (Taylor's Version)",
          "Only The Young",
          "peace",
          "Treacherous (Taylor's Version)",
          "We Are Never Ever Getting Back Together (Taylor's Version)",
          "Wonderland",
          "You All Over Me (Taylor's Version) [From The Vault]"
         ],
         "type": "scatter",
         "visible": "legendonly",
         "x": [
          -25.14645767211914,
          -14.7260160446167,
          -21.009967803955078,
          3.6727681159973145,
          -11.814350128173828,
          -9.093793869018555,
          28.184465408325195,
          4.741215229034424,
          -19.750442504882812,
          13.570136070251465,
          15.631836891174316,
          -12.069683074951172,
          -11.466085433959961,
          -20.93281364440918,
          -18.881650924682617,
          24.49074363708496,
          22.549070358276367,
          14.134655952453613,
          -25.909713745117188,
          -20.633800506591797,
          20.00454330444336
         ],
         "y": [
          -2.865755319595337,
          2.2716104984283447,
          3.4412317276000977,
          -0.42036646604537964,
          4.545747756958008,
          0.2170562744140625,
          -6.625954627990723,
          -1.7902880907058716,
          -6.727656364440918,
          2.7119195461273193,
          2.3805906772613525,
          -2.099937677383423,
          2.9369919300079346,
          4.91753625869751,
          -3.127528667449951,
          3.5115573406219482,
          2.8965814113616943,
          7.360878944396973,
          -2.98861026763916,
          -3.6777377128601074,
          -1.1462304592132568
         ]
        },
        {
         "marker": {
          "color": "rgb(254, 224, 139)",
          "opacity": 0.7
         },
         "mode": "markers",
         "name": ">100",
         "text": [
          "A Perfectly Good Heart",
          "A Place In This World",
          "All Too Well (10 Minute Version) [Taylor's Version] [From The Vault]",
          "All You Had To Do Was Stay",
          "American Girl",
          "Bad Blood",
          "Bad Blood (Remix)",
          "Beautiful Eyes",
          "Beautiful Ghosts",
          "Birch",
          "Breathe (Taylor's Version)",
          "Bye Bye Baby (Taylor's Version) [From The Vault]",
          "Change (Taylor's Version)",
          "Christmas Must Be Something More",
          "Christmases When You Were Mine",
          "Clean",
          "Cold As You",
          "Come Back...Be Here",
          "Come In With The Rain (Taylor's Version)",
          "Dancing With Our Hands Tied",
          "Don't Blame Me",
          "Don't You (Taylor's Version) [From The Vault]",
          "Dress",
          "Eyes Open (Taylor's Version)",
          "Forever & Always (Piano Version)",
          "Forever & Always (Piano Version) [Taylor's Version]",
          "Gasoline (Remix)",
          "Getaway Car",
          "Girl At Home",
          "Girl At Home (Taylor's Version)",
          "Half Of My Heart",
          "Hey Stephen (Taylor's Version)",
          "Holy Ground",
          "How You Get The Girl",
          "I Did Something Bad",
          "I Heart ?",
          "I Know Places",
          "I Wish You Would",
          "I'm Only Me When I'm With You",
          "I'm Only Me When I'm With You",
          "I'm Only Me When I'm With You",
          "I'm Only Me When I'm With You",
          "If This Was A Movie (Taylor's Version)",
          "Invisible",
          "it's time to go",
          "Jump Then Fall (Taylor's Version)",
          "Karma",
          "King Of My Heart",
          "Last Christmas",
          "Lover (Remix)",
          "Mary's Song (Oh My My My)",
          "New Year's Day",
          "Picture To Burn (Radio Edit)",
          "Red (Original Demo Recording)",
          "right where you left me",
          "Ronan (Taylor's Version)",
          "Sad Beautiful Tragic",
          "Safe & Sound (Taylor's Version)",
          "Santa Baby",
          "September",
          "Should've Said No (Alternate Version)",
          "Silent Night",
          "Snow On The Beach (More Lana Del Rey)",
          "So It Goes...",
          "Starlight",
          "State Of Grace (Acoustic Version)",
          "State Of Grace (Acoustic Version) [Taylor's Version]",
          "Stay Beautiful",
          "SuperStar (Taylor's Version)",
          "Sweet Nothing (Piano Remix)",
          "Sweeter Than Fiction (Taylor's Version)",
          "Teardrops On My Guitar (Acoustic Version)",
          "Teardrops On My Guitar (Pop Version)",
          "Tell Me Why",
          "Tell Me Why (Taylor's Version)",
          "That's When (Taylor's Version) [From The Vault]",
          "The Alcott",
          "The Best Day",
          "The Best Day (Taylor's Version)",
          "the lakes",
          "The Last Time",
          "The Lucky One",
          "The Other Side Of The Door (Taylor's Version)",
          "The Outside",
          "This Is Why We Can't Have Nice Things",
          "This Love",
          "Three Sad Virgins",
          "Tied Together With A Smile",
          "Today Was A Fairytale (Taylor's Version)",
          "Treacherous",
          "Treacherous (Original Demo Recording)",
          "Untouchable (Taylor's Version)",
          "We Were Happy (Taylor's Version) [From The Vault]",
          "White Christmas",
          "White Horse (Taylor's Version)",
          "You're Not Sorry (Taylor's Version)",
          "You're On Your Own, Kid (Strings Remix)"
         ],
         "type": "scatter",
         "visible": "legendonly",
         "x": [
          27.227994918823242,
          25.46725845336914,
          -14.36756420135498,
          -22.952924728393555,
          27.748271942138672,
          -22.36273765563965,
          -14.258200645446777,
          28.00694465637207,
          27.001436233520508,
          28.954099655151367,
          3.1148860454559326,
          13.868982315063477,
          12.940505981445312,
          25.180423736572266,
          28.810359954833984,
          -24.276123046875,
          25.31961441040039,
          21.308807373046875,
          26.868831634521484,
          -21.802993774414062,
          -12.87363338470459,
          25.55030632019043,
          -17.676300048828125,
          20.321691513061523,
          -22.764802932739258,
          -25.388702392578125,
          26.042428970336914,
          -12.456790924072266,
          -16.536806106567383,
          -16.075891494750977,
          19.369916915893555,
          -12.614129066467285,
          21.212974548339844,
          -22.64373016357422,
          -21.62090492248535,
          23.804441452026367,
          -9.350738525390625,
          -22.0803279876709,
          22.64178466796875,
          22.719263076782227,
          22.480684280395508,
          22.85690689086914,
          -20.21688461303711,
          26.328048706054688,
          5.186184406280518,
          -8.96845531463623,
          -9.762524604797363,
          -19.864681243896484,
          19.289304733276367,
          15.710247993469238,
          6.311003684997559,
          -21.977975845336914,
          13.21779727935791,
          14.066717147827148,
          -19.52179527282715,
          23.900426864624023,
          27.768022537231445,
          27.0754451751709,
          28.120227813720703,
          20.778059005737305,
          13.64427661895752,
          28.57357406616211,
          -22.659387588500977,
          -16.725862503051758,
          -10.232549667358398,
          28.872417449951172,
          28.500635147094727,
          26.74668312072754,
          13.648941993713379,
          19.876384735107422,
          -21.955467224121094,
          14.447553634643555,
          14.24852466583252,
          6.374337673187256,
          6.026965141296387,
          -23.815645217895508,
          -20.33390235900879,
          25.1893310546875,
          25.502859115600586,
          14.073291778564453,
          -21.906644821166992,
          -8.557825088500977,
          -21.89575958251953,
          26.359363555908203,
          -17.426528930664062,
          -24.511133193969727,
          -13.531511306762695,
          22.013717651367188,
          14.830483436584473,
          14.1826810836792,
          13.899741172790527,
          -22.337753295898438,
          26.301618576049805,
          28.333812713623047,
          19.493370056152344,
          2.7359063625335693,
          25.8952693939209
         ],
         "y": [
          -4.306051731109619,
          -3.958460569381714,
          2.8395707607269287,
          -3.003199815750122,
          -6.491692066192627,
          6.124767780303955,
          -3.1496031284332275,
          -5.775335788726807,
          -2.3159964084625244,
          -5.891268253326416,
          0.3792456090450287,
          2.426250696182251,
          6.967866897583008,
          2.8075668811798096,
          -5.6181817054748535,
          -5.468476295471191,
          -4.513485908508301,
          2.505511999130249,
          -4.025823593139648,
          -4.337942600250244,
          3.7055513858795166,
          -3.0902011394500732,
          -2.287688732147217,
          -1.105320930480957,
          3.410350799560547,
          -2.989415168762207,
          -3.7188048362731934,
          3.5438404083251953,
          -3.31929612159729,
          -2.593224048614502,
          -0.8564537167549133,
          3.1292097568511963,
          -1.143318772315979,
          -6.206212043762207,
          6.001676559448242,
          3.102416515350342,
          -0.48628607392311096,
          -3.517059087753296,
          2.5202884674072266,
          2.6692371368408203,
          2.766616106033325,
          2.926427125930786,
          -2.981203556060791,
          -4.277106285095215,
          -1.6967625617980957,
          -0.7388240694999695,
          -0.8400365710258484,
          3.97231125831604,
          1.6689964532852173,
          2.215843915939331,
          -0.48936155438423157,
          7.10459041595459,
          7.220454692840576,
          4.758025646209717,
          -6.878859043121338,
          2.9078352451324463,
          -6.55385160446167,
          -4.911133766174316,
          -5.189600467681885,
          -0.7313281893730164,
          2.9023025035858154,
          -5.914520740509033,
          -5.421212196350098,
          -3.0306808948516846,
          2.9935081005096436,
          -4.916724681854248,
          -4.560218811035156,
          -1.2216885089874268,
          7.737430572509766,
          -1.1778382062911987,
          -5.94951868057251,
          2.9286396503448486,
          3.4082462787628174,
          -0.6326354742050171,
          -0.5001306533813477,
          -6.1050190925598145,
          -6.756924152374268,
          4.027376651763916,
          4.291861534118652,
          7.9112868309021,
          -6.4857048988342285,
          -0.28524965047836304,
          5.039294242858887,
          -4.380136013031006,
          -2.7630374431610107,
          -4.723965644836426,
          -3.0595896244049072,
          -1.9523924589157104,
          1.308669090270996,
          7.44691276550293,
          7.228415489196777,
          6.758862018585205,
          -3.2012901306152344,
          -5.822810173034668,
          1.1801191568374634,
          0.6482972502708435,
          3.0523338317871094
         ]
        },
        {
         "marker": {
          "color": "rgb(254, 254, 190)",
          "opacity": 0.7
         },
         "mode": "markers",
         "name": "70-79",
         "text": [
          "Afterglow",
          "Babe",
          "Begin Again (Taylor's Version)",
          "cowboy like me",
          "Enchanted",
          "False God",
          "Fearless (Taylor's Version)",
          "Forever Winter (Taylor's Version) [From The Vault]",
          "hoax",
          "Holy Ground (Taylor's Version)",
          "Last Kiss",
          "marjorie",
          "Renegade",
          "Superman (Taylor's Version)",
          "The Way I Loved You",
          "You Belong With Me (Taylor's Version)"
         ],
         "type": "scatter",
         "visible": "legendonly",
         "x": [
          -11.403298377990723,
          2.664796829223633,
          13.247623443603516,
          21.293851852416992,
          1.9886053800582886,
          14.006753921508789,
          13.132594108581543,
          25.98579978942871,
          26.5461368560791,
          21.830053329467773,
          -10.653950691223145,
          21.776456832885742,
          -21.833351135253906,
          -10.072232246398926,
          13.676358222961426,
          -20.636674880981445
         ],
         "y": [
          2.9382357597351074,
          -0.31398141384124756,
          1.6875616312026978,
          2.636078119277954,
          0.02484947443008423,
          6.636091232299805,
          6.245779514312744,
          3.97200608253479,
          -5.700613021850586,
          -1.2601803541183472,
          2.821044445037842,
          2.7001163959503174,
          5.6736369132995605,
          -0.4303954541683197,
          3.9722983837127686,
          4.087838172912598
         ]
        },
        {
         "marker": {
          "color": "rgb(230, 245, 152)",
          "opacity": 0.7
         },
         "mode": "markers",
         "name": "10-19",
         "text": [
          "All Of The Girls You Loved Before",
          "Back To December (Taylor's Version)",
          "Blank Space (Taylor's Version)",
          "Both Of Us",
          "Change",
          "Crazier",
          "Delicate",
          "Enchanted (Taylor's Version)",
          "End Game",
          "Eyes Open",
          "Gorgeous",
          "If This Was A Movie",
          "Jump Then Fall",
          "Labyrinth",
          "Love Story (Taylor's Version)",
          "Lover",
          "Mastermind",
          "Mean",
          "Mine (Taylor's Version)",
          "my tears ricochet",
          "Our Song",
          "Ours",
          "Out Of The Woods",
          "Out Of The Woods (Taylor's Version)",
          "Ronan",
          "Sparks Fly",
          "State Of Grace",
          "State Of Grace (Taylor's Version)",
          "Suburban Legends (Taylor's Version) [From The Vault]",
          "Sweet Nothing",
          "Teardrops On My Guitar",
          "the last great american dynasty",
          "Two Is Better Than One",
          "Untouchable",
          "Vigilante Shit",
          "Welcome To New York (Taylor's Version)",
          "White Horse",
          "Wildest Dreams (Taylor's Version)",
          "You're Not Sorry"
         ],
         "type": "scatter",
         "visible": "legendonly",
         "x": [
          5.376920223236084,
          -21.43609619140625,
          -22.856792449951172,
          -13.496938705444336,
          13.393547058105469,
          27.975358963012695,
          -25.148099899291992,
          -24.383405685424805,
          -20.040586471557617,
          23.015626907348633,
          -21.894039154052734,
          -18.18437385559082,
          -9.188383102416992,
          18.723844528198242,
          -24.728986740112305,
          16.021465301513672,
          5.853614807128906,
          -23.73698616027832,
          -18.153480529785156,
          25.63802146911621,
          -11.332018852233887,
          13.793182373046875,
          -21.4442138671875,
          -21.865158081054688,
          24.933807373046875,
          13.570579528808594,
          27.191314697265625,
          4.588155269622803,
          20.50523567199707,
          19.937660217285156,
          14.59961223602295,
          5.8890275955200195,
          21.312610626220703,
          -22.3220272064209,
          26.87611198425293,
          -10.3726806640625,
          19.619787216186523,
          -25.86178207397461,
          2.851930618286133
         ],
         "y": [
          -1.1496468782424927,
          -3.949728012084961,
          6.702443599700928,
          -3.047409772872925,
          6.899837017059326,
          -4.442149639129639,
          4.675002574920654,
          -3.1080501079559326,
          -3.7874083518981934,
          -2.7227835655212402,
          -6.625051975250244,
          -1.4659309387207031,
          -0.10850253701210022,
          0.1865687519311905,
          5.1539530754089355,
          2.034074068069458,
          -1.2624870538711548,
          5.437648296356201,
          3.8506646156311035,
          3.3960320949554443,
          3.8770265579223633,
          6.639597415924072,
          3.2000138759613037,
          2.930255174636841,
          3.457872152328491,
          4.448094844818115,
          -2.8945109844207764,
          -0.7022743821144104,
          -0.29099878668785095,
          -0.8121474385261536,
          2.831528902053833,
          -1.1717917919158936,
          -1.5323805809020996,
          7.029879570007324,
          -1.8231275081634521,
          3.5955982208251953,
          1.4161162376403809,
          -3.3567755222320557,
          0.7111140489578247
         ]
        },
        {
         "marker": {
          "color": "rgb(169, 220, 164)",
          "opacity": 0.7
         },
         "mode": "markers",
         "name": "80-89",
         "text": [
          "All Too Well",
          "Breathe",
          "closure",
          "Come Back...Be Here (Taylor's Version)",
          "Daylight",
          "Fifteen (Taylor's Version)",
          "Long Live",
          "Never Grow Up",
          "Sad Beautiful Tragic (Taylor's Version)",
          "The Lucky One (Taylor's Version)",
          "The Moment I Knew (Taylor's Version)",
          "You Are In Love"
         ],
         "type": "scatter",
         "visible": "legendonly",
         "x": [
          -14.821305274963379,
          13.850247383117676,
          23.36540412902832,
          21.002166748046875,
          -22.17510414123535,
          -15.214886665344238,
          -21.12185287475586,
          -18.655141830444336,
          28.394912719726562,
          -8.490031242370605,
          5.114958763122559,
          -16.444801330566406
         ],
         "y": [
          2.9814293384552,
          2.049201011657715,
          -3.101100206375122,
          2.429605722427368,
          -3.8229379653930664,
          -3.7681758403778076,
          4.927585124969482,
          -2.6827521324157715,
          -6.561395168304443,
          -0.26026690006256104,
          -0.7026455402374268,
          -3.6806986331939697
         ]
        },
        {
         "marker": {
          "color": "rgb(102, 194, 165)",
          "opacity": 0.7
         },
         "mode": "markers",
         "name": "60-69",
         "text": [
          "Babe (Taylor's Version) [From The Vault]",
          "Carolina",
          "coney island",
          "Death By A Thousand Cuts",
          "dorothea",
          "Everything Has Changed (Taylor's Version)",
          "Forever & Always (Taylor's Version)",
          "Haunted",
          "I Almost Do",
          "Innocent (Taylor's Version)",
          "ivy",
          "London Boy",
          "long story short",
          "Ours (Taylor's Version)",
          "Soon You'll Get Better",
          "Stay Stay Stay (Taylor's Version)",
          "The Last Time (Taylor's Version)",
          "The Moment I Knew",
          "The Very First Night (Taylor's Version) [From The Vault]"
         ],
         "type": "scatter",
         "visible": "legendonly",
         "x": [
          2.190337896347046,
          26.933198928833008,
          3.1889233589172363,
          -21.33909797668457,
          6.6773786544799805,
          -17.146934509277344,
          -23.09503936767578,
          13.150215148925781,
          15.481330871582031,
          25.031774520874023,
          -10.12129020690918,
          -13.174160957336426,
          -10.4815673828125,
          12.994979858398438,
          23.751346588134766,
          2.464346408843994,
          -21.36918830871582,
          5.51572847366333,
          13.414145469665527
         ],
         "y": [
          -0.3209551274776459,
          -2.7404537200927734,
          -2.3462624549865723,
          6.264566898345947,
          -1.0758486986160278,
          -2.763206958770752,
          2.8373782634735107,
          2.752570629119873,
          2.500791072845459,
          3.0993621349334717,
          -1.3675390481948853,
          1.4111425876617432,
          -1.3106976747512817,
          6.5937581062316895,
          -2.2642593383789062,
          -0.04957141727209091,
          -6.42041540145874,
          -0.7618409395217896,
          5.958015441894531
         ]
        },
        {
         "marker": {
          "color": "rgb(50, 134, 188)",
          "opacity": 0.7
         },
         "mode": "markers",
         "name": "40-49",
         "text": [
          "betty",
          "Dear Reader",
          "Foolish One (Taylor's Version) [From The Vault]",
          "Glitch",
          "gold rush",
          "How You Get The Girl (Taylor's Version)",
          "I Knew You Were Trouble (Taylor's Version)",
          "illicit affairs",
          "mad woman",
          "Message In A Bottle (Taylor's Version) [From The Vault]",
          "Miss Americana & The Heartbreak Prince",
          "New Romantics",
          "Nothing New (Taylor's Version) [From The Vault]",
          "Paper Rings",
          "Run (Taylor's Version) [From The Vault]",
          "The Story Of Us",
          "The Story Of Us (Taylor's Version)",
          "This Love (Taylor's Version)",
          "Tim McGraw",
          "Timeless (Taylor's Version) [From The Vault]",
          "tolerate it",
          "Welcome To New York",
          "You Are In Love (Taylor's Version)"
         ],
         "type": "scatter",
         "visible": "legendonly",
         "x": [
          -22.394113540649414,
          27.58439826965332,
          -15.115240097045898,
          19.697763442993164,
          13.53527545928955,
          -22.845991134643555,
          -24.43886375427246,
          27.23519515991211,
          26.125951766967773,
          -22.809755325317383,
          -15.448676109313965,
          -15.101130485534668,
          4.798594951629639,
          -21.319372177124023,
          -13.053545951843262,
          -13.806867599487305,
          -13.615558624267578,
          -23.87802505493164,
          -10.1572904586792,
          -18.56825065612793,
          25.796865463256836,
          -9.87698745727539,
          -16.24516487121582
         ],
         "y": [
          5.528732776641846,
          -3.199767589569092,
          1.1443532705307007,
          -0.5958864092826843,
          5.347431659698486,
          -6.36746072769165,
          -4.122827529907227,
          -5.9600725173950195,
          3.2494897842407227,
          -3.8438942432403564,
          3.1636862754821777,
          3.396411180496216,
          -1.3403884172439575,
          -4.865335941314697,
          2.258695125579834,
          3.064832925796509,
          3.3112311363220215,
          -5.0825114250183105,
          2.9242653846740723,
          -6.031382083892822,
          3.5923852920532227,
          2.4784305095672607,
          -3.9847347736358643
         ]
        },
        {
         "marker": {
          "color": "rgb(94, 79, 162)",
          "opacity": 0.7
         },
         "mode": "markers",
         "name": "90-99",
         "text": [
          "Hey Stephen",
          "It's Nice To Have A Friend",
          "Starlight (Taylor's Version)",
          "Stay Stay Stay",
          "The Way I Loved You (Taylor's Version)"
         ],
         "type": "scatter",
         "visible": "legendonly",
         "x": [
          -12.433914184570312,
          28.75849723815918,
          -20.710739135742188,
          2.5510029792785645,
          13.216168403625488
         ],
         "y": [
          2.9299814701080322,
          -6.481731414794922,
          5.414076328277588,
          0.1449284851551056,
          3.3995487689971924
         ]
        }
       ],
       "layout": {
        "hovermode": "closest",
        "legend": {
         "title": {
          "text": "Legend"
         }
        },
        "template": {
         "data": {
          "bar": [
           {
            "error_x": {
             "color": "#2a3f5f"
            },
            "error_y": {
             "color": "#2a3f5f"
            },
            "marker": {
             "line": {
              "color": "#E5ECF6",
              "width": 0.5
             },
             "pattern": {
              "fillmode": "overlay",
              "size": 10,
              "solidity": 0.2
             }
            },
            "type": "bar"
           }
          ],
          "barpolar": [
           {
            "marker": {
             "line": {
              "color": "#E5ECF6",
              "width": 0.5
             },
             "pattern": {
              "fillmode": "overlay",
              "size": 10,
              "solidity": 0.2
             }
            },
            "type": "barpolar"
           }
          ],
          "carpet": [
           {
            "aaxis": {
             "endlinecolor": "#2a3f5f",
             "gridcolor": "white",
             "linecolor": "white",
             "minorgridcolor": "white",
             "startlinecolor": "#2a3f5f"
            },
            "baxis": {
             "endlinecolor": "#2a3f5f",
             "gridcolor": "white",
             "linecolor": "white",
             "minorgridcolor": "white",
             "startlinecolor": "#2a3f5f"
            },
            "type": "carpet"
           }
          ],
          "choropleth": [
           {
            "colorbar": {
             "outlinewidth": 0,
             "ticks": ""
            },
            "type": "choropleth"
           }
          ],
          "contour": [
           {
            "colorbar": {
             "outlinewidth": 0,
             "ticks": ""
            },
            "colorscale": [
             [
              0,
              "#0d0887"
             ],
             [
              0.1111111111111111,
              "#46039f"
             ],
             [
              0.2222222222222222,
              "#7201a8"
             ],
             [
              0.3333333333333333,
              "#9c179e"
             ],
             [
              0.4444444444444444,
              "#bd3786"
             ],
             [
              0.5555555555555556,
              "#d8576b"
             ],
             [
              0.6666666666666666,
              "#ed7953"
             ],
             [
              0.7777777777777778,
              "#fb9f3a"
             ],
             [
              0.8888888888888888,
              "#fdca26"
             ],
             [
              1,
              "#f0f921"
             ]
            ],
            "type": "contour"
           }
          ],
          "contourcarpet": [
           {
            "colorbar": {
             "outlinewidth": 0,
             "ticks": ""
            },
            "type": "contourcarpet"
           }
          ],
          "heatmap": [
           {
            "colorbar": {
             "outlinewidth": 0,
             "ticks": ""
            },
            "colorscale": [
             [
              0,
              "#0d0887"
             ],
             [
              0.1111111111111111,
              "#46039f"
             ],
             [
              0.2222222222222222,
              "#7201a8"
             ],
             [
              0.3333333333333333,
              "#9c179e"
             ],
             [
              0.4444444444444444,
              "#bd3786"
             ],
             [
              0.5555555555555556,
              "#d8576b"
             ],
             [
              0.6666666666666666,
              "#ed7953"
             ],
             [
              0.7777777777777778,
              "#fb9f3a"
             ],
             [
              0.8888888888888888,
              "#fdca26"
             ],
             [
              1,
              "#f0f921"
             ]
            ],
            "type": "heatmap"
           }
          ],
          "heatmapgl": [
           {
            "colorbar": {
             "outlinewidth": 0,
             "ticks": ""
            },
            "colorscale": [
             [
              0,
              "#0d0887"
             ],
             [
              0.1111111111111111,
              "#46039f"
             ],
             [
              0.2222222222222222,
              "#7201a8"
             ],
             [
              0.3333333333333333,
              "#9c179e"
             ],
             [
              0.4444444444444444,
              "#bd3786"
             ],
             [
              0.5555555555555556,
              "#d8576b"
             ],
             [
              0.6666666666666666,
              "#ed7953"
             ],
             [
              0.7777777777777778,
              "#fb9f3a"
             ],
             [
              0.8888888888888888,
              "#fdca26"
             ],
             [
              1,
              "#f0f921"
             ]
            ],
            "type": "heatmapgl"
           }
          ],
          "histogram": [
           {
            "marker": {
             "pattern": {
              "fillmode": "overlay",
              "size": 10,
              "solidity": 0.2
             }
            },
            "type": "histogram"
           }
          ],
          "histogram2d": [
           {
            "colorbar": {
             "outlinewidth": 0,
             "ticks": ""
            },
            "colorscale": [
             [
              0,
              "#0d0887"
             ],
             [
              0.1111111111111111,
              "#46039f"
             ],
             [
              0.2222222222222222,
              "#7201a8"
             ],
             [
              0.3333333333333333,
              "#9c179e"
             ],
             [
              0.4444444444444444,
              "#bd3786"
             ],
             [
              0.5555555555555556,
              "#d8576b"
             ],
             [
              0.6666666666666666,
              "#ed7953"
             ],
             [
              0.7777777777777778,
              "#fb9f3a"
             ],
             [
              0.8888888888888888,
              "#fdca26"
             ],
             [
              1,
              "#f0f921"
             ]
            ],
            "type": "histogram2d"
           }
          ],
          "histogram2dcontour": [
           {
            "colorbar": {
             "outlinewidth": 0,
             "ticks": ""
            },
            "colorscale": [
             [
              0,
              "#0d0887"
             ],
             [
              0.1111111111111111,
              "#46039f"
             ],
             [
              0.2222222222222222,
              "#7201a8"
             ],
             [
              0.3333333333333333,
              "#9c179e"
             ],
             [
              0.4444444444444444,
              "#bd3786"
             ],
             [
              0.5555555555555556,
              "#d8576b"
             ],
             [
              0.6666666666666666,
              "#ed7953"
             ],
             [
              0.7777777777777778,
              "#fb9f3a"
             ],
             [
              0.8888888888888888,
              "#fdca26"
             ],
             [
              1,
              "#f0f921"
             ]
            ],
            "type": "histogram2dcontour"
           }
          ],
          "mesh3d": [
           {
            "colorbar": {
             "outlinewidth": 0,
             "ticks": ""
            },
            "type": "mesh3d"
           }
          ],
          "parcoords": [
           {
            "line": {
             "colorbar": {
              "outlinewidth": 0,
              "ticks": ""
             }
            },
            "type": "parcoords"
           }
          ],
          "pie": [
           {
            "automargin": true,
            "type": "pie"
           }
          ],
          "scatter": [
           {
            "fillpattern": {
             "fillmode": "overlay",
             "size": 10,
             "solidity": 0.2
            },
            "type": "scatter"
           }
          ],
          "scatter3d": [
           {
            "line": {
             "colorbar": {
              "outlinewidth": 0,
              "ticks": ""
             }
            },
            "marker": {
             "colorbar": {
              "outlinewidth": 0,
              "ticks": ""
             }
            },
            "type": "scatter3d"
           }
          ],
          "scattercarpet": [
           {
            "marker": {
             "colorbar": {
              "outlinewidth": 0,
              "ticks": ""
             }
            },
            "type": "scattercarpet"
           }
          ],
          "scattergeo": [
           {
            "marker": {
             "colorbar": {
              "outlinewidth": 0,
              "ticks": ""
             }
            },
            "type": "scattergeo"
           }
          ],
          "scattergl": [
           {
            "marker": {
             "colorbar": {
              "outlinewidth": 0,
              "ticks": ""
             }
            },
            "type": "scattergl"
           }
          ],
          "scattermapbox": [
           {
            "marker": {
             "colorbar": {
              "outlinewidth": 0,
              "ticks": ""
             }
            },
            "type": "scattermapbox"
           }
          ],
          "scatterpolar": [
           {
            "marker": {
             "colorbar": {
              "outlinewidth": 0,
              "ticks": ""
             }
            },
            "type": "scatterpolar"
           }
          ],
          "scatterpolargl": [
           {
            "marker": {
             "colorbar": {
              "outlinewidth": 0,
              "ticks": ""
             }
            },
            "type": "scatterpolargl"
           }
          ],
          "scatterternary": [
           {
            "marker": {
             "colorbar": {
              "outlinewidth": 0,
              "ticks": ""
             }
            },
            "type": "scatterternary"
           }
          ],
          "surface": [
           {
            "colorbar": {
             "outlinewidth": 0,
             "ticks": ""
            },
            "colorscale": [
             [
              0,
              "#0d0887"
             ],
             [
              0.1111111111111111,
              "#46039f"
             ],
             [
              0.2222222222222222,
              "#7201a8"
             ],
             [
              0.3333333333333333,
              "#9c179e"
             ],
             [
              0.4444444444444444,
              "#bd3786"
             ],
             [
              0.5555555555555556,
              "#d8576b"
             ],
             [
              0.6666666666666666,
              "#ed7953"
             ],
             [
              0.7777777777777778,
              "#fb9f3a"
             ],
             [
              0.8888888888888888,
              "#fdca26"
             ],
             [
              1,
              "#f0f921"
             ]
            ],
            "type": "surface"
           }
          ],
          "table": [
           {
            "cells": {
             "fill": {
              "color": "#EBF0F8"
             },
             "line": {
              "color": "white"
             }
            },
            "header": {
             "fill": {
              "color": "#C8D4E3"
             },
             "line": {
              "color": "white"
             }
            },
            "type": "table"
           }
          ]
         },
         "layout": {
          "annotationdefaults": {
           "arrowcolor": "#2a3f5f",
           "arrowhead": 0,
           "arrowwidth": 1
          },
          "autotypenumbers": "strict",
          "coloraxis": {
           "colorbar": {
            "outlinewidth": 0,
            "ticks": ""
           }
          },
          "colorscale": {
           "diverging": [
            [
             0,
             "#8e0152"
            ],
            [
             0.1,
             "#c51b7d"
            ],
            [
             0.2,
             "#de77ae"
            ],
            [
             0.3,
             "#f1b6da"
            ],
            [
             0.4,
             "#fde0ef"
            ],
            [
             0.5,
             "#f7f7f7"
            ],
            [
             0.6,
             "#e6f5d0"
            ],
            [
             0.7,
             "#b8e186"
            ],
            [
             0.8,
             "#7fbc41"
            ],
            [
             0.9,
             "#4d9221"
            ],
            [
             1,
             "#276419"
            ]
           ],
           "sequential": [
            [
             0,
             "#0d0887"
            ],
            [
             0.1111111111111111,
             "#46039f"
            ],
            [
             0.2222222222222222,
             "#7201a8"
            ],
            [
             0.3333333333333333,
             "#9c179e"
            ],
            [
             0.4444444444444444,
             "#bd3786"
            ],
            [
             0.5555555555555556,
             "#d8576b"
            ],
            [
             0.6666666666666666,
             "#ed7953"
            ],
            [
             0.7777777777777778,
             "#fb9f3a"
            ],
            [
             0.8888888888888888,
             "#fdca26"
            ],
            [
             1,
             "#f0f921"
            ]
           ],
           "sequentialminus": [
            [
             0,
             "#0d0887"
            ],
            [
             0.1111111111111111,
             "#46039f"
            ],
            [
             0.2222222222222222,
             "#7201a8"
            ],
            [
             0.3333333333333333,
             "#9c179e"
            ],
            [
             0.4444444444444444,
             "#bd3786"
            ],
            [
             0.5555555555555556,
             "#d8576b"
            ],
            [
             0.6666666666666666,
             "#ed7953"
            ],
            [
             0.7777777777777778,
             "#fb9f3a"
            ],
            [
             0.8888888888888888,
             "#fdca26"
            ],
            [
             1,
             "#f0f921"
            ]
           ]
          },
          "colorway": [
           "#636efa",
           "#EF553B",
           "#00cc96",
           "#ab63fa",
           "#FFA15A",
           "#19d3f3",
           "#FF6692",
           "#B6E880",
           "#FF97FF",
           "#FECB52"
          ],
          "font": {
           "color": "#2a3f5f"
          },
          "geo": {
           "bgcolor": "white",
           "lakecolor": "white",
           "landcolor": "#E5ECF6",
           "showlakes": true,
           "showland": true,
           "subunitcolor": "white"
          },
          "hoverlabel": {
           "align": "left"
          },
          "hovermode": "closest",
          "mapbox": {
           "style": "light"
          },
          "paper_bgcolor": "white",
          "plot_bgcolor": "#E5ECF6",
          "polar": {
           "angularaxis": {
            "gridcolor": "white",
            "linecolor": "white",
            "ticks": ""
           },
           "bgcolor": "#E5ECF6",
           "radialaxis": {
            "gridcolor": "white",
            "linecolor": "white",
            "ticks": ""
           }
          },
          "scene": {
           "xaxis": {
            "backgroundcolor": "#E5ECF6",
            "gridcolor": "white",
            "gridwidth": 2,
            "linecolor": "white",
            "showbackground": true,
            "ticks": "",
            "zerolinecolor": "white"
           },
           "yaxis": {
            "backgroundcolor": "#E5ECF6",
            "gridcolor": "white",
            "gridwidth": 2,
            "linecolor": "white",
            "showbackground": true,
            "ticks": "",
            "zerolinecolor": "white"
           },
           "zaxis": {
            "backgroundcolor": "#E5ECF6",
            "gridcolor": "white",
            "gridwidth": 2,
            "linecolor": "white",
            "showbackground": true,
            "ticks": "",
            "zerolinecolor": "white"
           }
          },
          "shapedefaults": {
           "line": {
            "color": "#2a3f5f"
           }
          },
          "ternary": {
           "aaxis": {
            "gridcolor": "white",
            "linecolor": "white",
            "ticks": ""
           },
           "baxis": {
            "gridcolor": "white",
            "linecolor": "white",
            "ticks": ""
           },
           "bgcolor": "#E5ECF6",
           "caxis": {
            "gridcolor": "white",
            "linecolor": "white",
            "ticks": ""
           }
          },
          "title": {
           "x": 0.05
          },
          "xaxis": {
           "automargin": true,
           "gridcolor": "white",
           "linecolor": "white",
           "ticks": "",
           "title": {
            "standoff": 15
           },
           "zerolinecolor": "white",
           "zerolinewidth": 2
          },
          "yaxis": {
           "automargin": true,
           "gridcolor": "white",
           "linecolor": "white",
           "ticks": "",
           "title": {
            "standoff": 15
           },
           "zerolinecolor": "white",
           "zerolinewidth": 2
          }
         }
        },
        "title": {
         "text": "Interactive Plot of Song Embeddings"
        },
        "xaxis": {
         "title": {
          "text": "TSNE 1"
         }
        },
        "yaxis": {
         "title": {
          "text": "TSNE 2"
         }
        }
       }
      }
     },
     "metadata": {},
     "output_type": "display_data"
    }
   ],
   "source": [
    "# Reducing with TSNE down to two dimensions to see if we can visually assess any separation?\n",
    "tsne = TSNE(n_components=2, random_state=256)\n",
    "embeddings_tsne_2d = tsne.fit_transform(reduced_UMAP)\n",
    "\n",
    "plot_embeddings_interactive(embeddings_tsne_2d)"
   ]
  },
  {
   "cell_type": "code",
   "execution_count": 7,
   "metadata": {},
   "outputs": [],
   "source": [
    "k = 15\n",
    "kmeans = KMeans(n_clusters=k, random_state=256, n_init=10).fit(embeddings)\n",
    "lyrics['cluster_assignment'] = kmeans.labels_"
   ]
  },
  {
   "cell_type": "code",
   "execution_count": 8,
   "metadata": {},
   "outputs": [
    {
     "name": "stdout",
     "output_type": "stream",
     "text": [
      "Cluster 0: 41 members (12.54%)\n",
      "Cluster 1: 26 members (7.95%)\n",
      "Cluster 2: 9 members (2.75%)\n",
      "Cluster 3: 26 members (7.95%)\n",
      "Cluster 4: 5 members (1.53%)\n",
      "Cluster 5: 28 members (8.56%)\n",
      "Cluster 6: 21 members (6.42%)\n",
      "Cluster 7: 20 members (6.12%)\n",
      "Cluster 8: 34 members (10.40%)\n",
      "Cluster 9: 24 members (7.34%)\n",
      "Cluster 10: 31 members (9.48%)\n",
      "Cluster 11: 9 members (2.75%)\n",
      "Cluster 12: 20 members (6.12%)\n",
      "Cluster 13: 7 members (2.14%)\n",
      "Cluster 14: 26 members (7.95%)\n"
     ]
    },
    {
     "data": {
      "image/png": "[encoded data removed]",
      "text/plain": [
       "<Figure size 1000x600 with 1 Axes>"
      ]
     },
     "metadata": {},
     "output_type": "display_data"
    }
   ],
   "source": [
    "cluster_sizes = Counter(lyrics['cluster_assignment'])\n",
    "\n",
    "sorted_cluster_sizes = dict(sorted(cluster_sizes.items()))\n",
    "\n",
    "total_items = sum(sorted_cluster_sizes.values())\n",
    "for label, size in sorted_cluster_sizes.items():\n",
    "    percentage = (size / total_items) * 100\n",
    "    print(f\"Cluster {label}: {size} members ({percentage:.2f}%)\")\n",
    "\n",
    "labels, sizes = zip(*sorted(cluster_sizes.items()))\n",
    "\n",
    "plt.figure(figsize=(10, 6))\n",
    "plt.bar(labels, sizes, color='skyblue')\n",
    "plt.title('Distribution of Cluster Sizes')\n",
    "plt.xlabel('Cluster Number')\n",
    "plt.ylabel('Size')\n",
    "plt.xticks(labels)\n",
    "plt.show()"
   ]
  },
  {
   "cell_type": "code",
   "execution_count": 9,
   "metadata": {},
   "outputs": [
    {
     "data": {
      "image/png": "[encoded data removed]",
      "text/plain": [
       "<Figure size 1200x600 with 1 Axes>"
      ]
     },
     "metadata": {},
     "output_type": "display_data"
    },
    {
     "data": {
      "image/png": "[encoded data removed]",
      "text/plain": [
       "<Figure size 1200x600 with 1 Axes>"
      ]
     },
     "metadata": {},
     "output_type": "display_data"
    }
   ],
   "source": [
    "c = 2\n",
    "cluster = lyrics[lyrics[\"cluster_assignment\"] == c].copy()\n",
    "\n",
    "plt.figure(figsize=(12, 6))\n",
    "album_name_counts = cluster['album_name'].value_counts()\n",
    "plt.bar(album_name_counts.index, album_name_counts.values)\n",
    "plt.xlabel('Album Name')\n",
    "plt.ylabel('Frequency')\n",
    "plt.title('Distribution of Album Names in Cluster')\n",
    "plt.xticks(rotation=90)\n",
    "plt.tight_layout()\n",
    "plt.show()\n",
    "\n",
    "plt.figure(figsize=(12, 6))\n",
    "\n",
    "# Handling NaN values by categorizing them as >100\n",
    "peak_pos_counts = cluster['peak_pos_bucketed'].value_counts().sort_index()\n",
    "\n",
    "plt.bar(peak_pos_counts.index, peak_pos_counts.values)\n",
    "plt.xlabel('Peak Position Bucket')\n",
    "plt.ylabel('Frequency')\n",
    "plt.title('Distribution of Peak Positions in Cluster')\n",
    "plt.xticks(rotation=45)\n",
    "plt.tight_layout()\n",
    "plt.show()"
   ]
  },
  {
   "cell_type": "code",
   "execution_count": 10,
   "metadata": {},
   "outputs": [
    {
     "data": {
      "image/png": "[encoded data removed]",
      "text/plain": [
       "<Figure size 2400x600 with 2 Axes>"
      ]
     },
     "metadata": {},
     "output_type": "display_data"
    }
   ],
   "source": [
    "fig, ax = plt.subplots(1, 2, figsize=(24, 6))\n",
    "\n",
    "# Distribution of Album Names\n",
    "album_name_counts = lyrics['album_name'].value_counts()\n",
    "ax[0].bar(album_name_counts.index, album_name_counts.values, color='skyblue')\n",
    "ax[0].set_xlabel('Album Name')\n",
    "ax[0].set_ylabel('Frequency')\n",
    "ax[0].set_title('Distribution of Album Names')\n",
    "ax[0].tick_params(axis='x', rotation=90)\n",
    "\n",
    "# Distribution of Peak Position Buckets\n",
    "peak_pos_counts = lyrics['peak_pos_bucketed'].value_counts().sort_index()\n",
    "ax[1].bar(peak_pos_counts.index, peak_pos_counts.values, color='coral')\n",
    "ax[1].set_xlabel('Peak Position Bucket')\n",
    "ax[1].set_ylabel('Frequency')\n",
    "ax[1].set_title('Distribution of Peak Positions')\n",
    "ax[1].tick_params(axis='x', rotation=45)\n",
    "\n",
    "plt.tight_layout()\n",
    "plt.show()"
   ]
  },
  {
   "cell_type": "code",
   "execution_count": 11,
   "metadata": {},
   "outputs": [],
   "source": [
    "# Convert latent embedding to something that is readable when we load the csv\n",
    "# lyrics['latent_embedding'] = lyrics['latent_embedding'].apply(lambda x: [t.item() for t in x[0]])\n",
    "# No need to run the above line again unless you re-encode the songs\n",
    "# lyrics.to_csv(\"../data/lyrics.csv\", index=False)"
   ]
  }
 ],
 "metadata": {
  "kernelspec": {
   "display_name": "Python 3",
   "language": "python",
   "name": "python3"
  },
  "language_info": {
   "codemirror_mode": {
    "name": "ipython",
    "version": 3
   },
   "file_extension": ".py",
   "mimetype": "text/x-python",
   "name": "python",
   "nbconvert_exporter": "python",
   "pygments_lexer": "ipython3",
   "version": "3.10.2"
  }
 },
 "nbformat": 4,
 "nbformat_minor": 2
}
