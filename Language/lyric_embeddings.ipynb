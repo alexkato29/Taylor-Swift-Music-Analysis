{
 "cells": [
  {
   "cell_type": "code",
   "execution_count": 1,
   "metadata": {},
   "outputs": [
    {
     "name": "stderr",
     "output_type": "stream",
     "text": [
      "2024-04-01 10:13:54.022917: I tensorflow/core/platform/cpu_feature_guard.cc:182] This TensorFlow binary is optimized to use available CPU instructions in performance-critical operations.\n",
      "To enable the following instructions: AVX2 FMA, in other operations, rebuild TensorFlow with the appropriate compiler flags.\n"
     ]
    }
   ],
   "source": [
    "import ast\n",
    "import numpy as np\n",
    "import pandas as pd\n",
    "from collections import Counter\n",
    "\n",
    "import matplotlib.pyplot as plt\n",
    "import plotly.graph_objects as go\n",
    "\n",
    "import torch\n",
    "\n",
    "from transformers import AutoTokenizer, AutoModelWithLMHead\n",
    "\n",
    "from sklearn.cluster import KMeans\n",
    "\n",
    "import umap\n",
    "from sklearn.manifold import TSNE"
   ]
  },
  {
   "cell_type": "code",
   "execution_count": 2,
   "metadata": {},
   "outputs": [
    {
     "data": {
      "text/plain": [
       "'lyrics = pd.read_csv(\"../data/full.csv\")\\n\\nto_keep = [\"track_name\", \"peak_pos\", \"album_name\", \"lyrics\"]\\n\\nlyrics = lyrics[to_keep]\\nlyrics[\\'peak_pos_bucketed\\'] = lyrics[\\'peak_pos\\'].apply(lambda x: \\'>100\\' if pd.isna(x) else str(int(x//10)*10) + \\'-\\' + str(int(x//10)*10 + 9))\\n\\n\\n# This is GPT2 pretrained on Taylor Swift lyrics\\ntokenizer = AutoTokenizer.from_pretrained(\"huggingartists/taylor-swift\")\\nmodel = AutoModelWithLMHead.from_pretrained(\"huggingartists/taylor-swift\")\\n\\n# This tokenizer doesn\\'t have a padding token by default...\\ntokenizer.pad_token = tokenizer.eos_token\\n\\ndef encode_text(text):\\n    inputs = tokenizer(text, return_tensors=\\'pt\\', max_length=512, truncation=True, padding=\\'max_length\\')\\n    \\n    with torch.no_grad(): \\n        outputs = model(**inputs, output_hidden_states=True)\\n\\n    embeddings = outputs.hidden_states[-1].mean(dim=1)\\n    return embeddings\\n\\n\\n# https://huggingface.co/huggingartists/taylor-swift\\n# lyrics[\\'latent_embedding\\'] = lyrics[\\'lyrics\\'].apply(lambda x: encode_text(x))'"
      ]
     },
     "execution_count": 2,
     "metadata": {},
     "output_type": "execute_result"
    }
   ],
   "source": [
    "\"\"\"lyrics = pd.read_csv(\"../data/full.csv\")\n",
    "\n",
    "to_keep = [\"track_name\", \"peak_pos\", \"album_name\", \"lyrics\"]\n",
    "\n",
    "lyrics = lyrics[to_keep]\n",
    "lyrics['peak_pos_bucketed'] = lyrics['peak_pos'].apply(lambda x: '>100' if pd.isna(x) else str(int(x//10)*10) + '-' + str(int(x//10)*10 + 9))\n",
    "\n",
    "\n",
    "# This is GPT2 pretrained on Taylor Swift lyrics\n",
    "tokenizer = AutoTokenizer.from_pretrained(\"huggingartists/taylor-swift\")\n",
    "model = AutoModelWithLMHead.from_pretrained(\"huggingartists/taylor-swift\")\n",
    "\n",
    "# This tokenizer doesn't have a padding token by default...\n",
    "tokenizer.pad_token = tokenizer.eos_token\n",
    "\n",
    "def encode_text(text):\n",
    "    inputs = tokenizer(text, return_tensors='pt', max_length=512, truncation=True, padding='max_length')\n",
    "    \n",
    "    with torch.no_grad(): \n",
    "        outputs = model(**inputs, output_hidden_states=True)\n",
    "\n",
    "    embeddings = outputs.hidden_states[-1].mean(dim=1)\n",
    "    return embeddings\n",
    "\n",
    "\n",
    "# https://huggingface.co/huggingartists/taylor-swift\n",
    "# lyrics['latent_embedding'] = lyrics['lyrics'].apply(lambda x: encode_text(x))\"\"\""
   ]
  },
  {
   "cell_type": "code",
   "execution_count": 3,
   "metadata": {},
   "outputs": [
    {
     "name": "stdout",
     "output_type": "stream",
     "text": [
      "track_name             object\n",
      "peak_pos              float64\n",
      "album_name             object\n",
      "lyrics                 object\n",
      "peak_pos_bucketed      object\n",
      "latent_embedding       object\n",
      "cluster_assignment      int64\n",
      "dtype: object\n"
     ]
    },
    {
     "data": {
      "text/html": [
       "<div>\n",
       "<style scoped>\n",
       "    .dataframe tbody tr th:only-of-type {\n",
       "        vertical-align: middle;\n",
       "    }\n",
       "\n",
       "    .dataframe tbody tr th {\n",
       "        vertical-align: top;\n",
       "    }\n",
       "\n",
       "    .dataframe thead th {\n",
       "        text-align: right;\n",
       "    }\n",
       "</style>\n",
       "<table border=\"1\" class=\"dataframe\">\n",
       "  <thead>\n",
       "    <tr style=\"text-align: right;\">\n",
       "      <th></th>\n",
       "      <th>track_name</th>\n",
       "      <th>peak_pos</th>\n",
       "      <th>album_name</th>\n",
       "      <th>lyrics</th>\n",
       "      <th>peak_pos_bucketed</th>\n",
       "      <th>latent_embedding</th>\n",
       "      <th>cluster_assignment</th>\n",
       "    </tr>\n",
       "  </thead>\n",
       "  <tbody>\n",
       "    <tr>\n",
       "      <th>0</th>\n",
       "      <td>...Ready For It?</td>\n",
       "      <td>4.0</td>\n",
       "      <td>reputation</td>\n",
       "      <td>knew he was a killer first time that i saw him...</td>\n",
       "      <td>0-9</td>\n",
       "      <td>[tensor(-0.0335), tensor(0.6539), tensor(0.216...</td>\n",
       "      <td>6</td>\n",
       "    </tr>\n",
       "    <tr>\n",
       "      <th>1</th>\n",
       "      <td>'tis the damn season</td>\n",
       "      <td>39.0</td>\n",
       "      <td>evermore</td>\n",
       "      <td>if i wanted to know who you were hanging with ...</td>\n",
       "      <td>30-39</td>\n",
       "      <td>[tensor(0.1974), tensor(0.4486), tensor(-0.253...</td>\n",
       "      <td>4</td>\n",
       "    </tr>\n",
       "    <tr>\n",
       "      <th>2</th>\n",
       "      <td>\"Slut!\" (Taylor's Version) [From The Vault]</td>\n",
       "      <td>3.0</td>\n",
       "      <td>1989 (Taylor's Version)</td>\n",
       "      <td>flamingo pink, sunrise boulevard clink, clink,...</td>\n",
       "      <td>0-9</td>\n",
       "      <td>[tensor(-0.0312), tensor(0.5336), tensor(0.154...</td>\n",
       "      <td>0</td>\n",
       "    </tr>\n",
       "    <tr>\n",
       "      <th>3</th>\n",
       "      <td>22</td>\n",
       "      <td>20.0</td>\n",
       "      <td>Red</td>\n",
       "      <td>it feels like a perfect night to dress up like...</td>\n",
       "      <td>20-29</td>\n",
       "      <td>[tensor(0.2236), tensor(0.6578), tensor(-0.195...</td>\n",
       "      <td>1</td>\n",
       "    </tr>\n",
       "    <tr>\n",
       "      <th>4</th>\n",
       "      <td>22 (Taylor's Version)</td>\n",
       "      <td>52.0</td>\n",
       "      <td>Red (Taylor's Version)</td>\n",
       "      <td>it feels like a perfect night to dress up like...</td>\n",
       "      <td>50-59</td>\n",
       "      <td>[tensor(0.2230), tensor(0.7470), tensor(-0.246...</td>\n",
       "      <td>1</td>\n",
       "    </tr>\n",
       "  </tbody>\n",
       "</table>\n",
       "</div>"
      ],
      "text/plain": [
       "                                    track_name  peak_pos  \\\n",
       "0                             ...Ready For It?       4.0   \n",
       "1                         'tis the damn season      39.0   \n",
       "2  \"Slut!\" (Taylor's Version) [From The Vault]       3.0   \n",
       "3                                           22      20.0   \n",
       "4                        22 (Taylor's Version)      52.0   \n",
       "\n",
       "                album_name                                             lyrics  \\\n",
       "0               reputation  knew he was a killer first time that i saw him...   \n",
       "1                 evermore  if i wanted to know who you were hanging with ...   \n",
       "2  1989 (Taylor's Version)  flamingo pink, sunrise boulevard clink, clink,...   \n",
       "3                      Red  it feels like a perfect night to dress up like...   \n",
       "4   Red (Taylor's Version)  it feels like a perfect night to dress up like...   \n",
       "\n",
       "  peak_pos_bucketed                                   latent_embedding  \\\n",
       "0               0-9  [tensor(-0.0335), tensor(0.6539), tensor(0.216...   \n",
       "1             30-39  [tensor(0.1974), tensor(0.4486), tensor(-0.253...   \n",
       "2               0-9  [tensor(-0.0312), tensor(0.5336), tensor(0.154...   \n",
       "3             20-29  [tensor(0.2236), tensor(0.6578), tensor(-0.195...   \n",
       "4             50-59  [tensor(0.2230), tensor(0.7470), tensor(-0.246...   \n",
       "\n",
       "   cluster_assignment  \n",
       "0                   6  \n",
       "1                   4  \n",
       "2                   0  \n",
       "3                   1  \n",
       "4                   1  "
      ]
     },
     "execution_count": 3,
     "metadata": {},
     "output_type": "execute_result"
    }
   ],
   "source": [
    "# This assumes you have latent embeddings and a valid lyrics.csv. If not, run the chunk above.\n",
    "lyrics = pd.read_csv(\"../data/lyrics.csv\")\n",
    "lyrics['latent_embedding'] = lyrics['latent_embedding'].apply(lambda x: torch.tensor(ast.literal_eval(x)))\n",
    "print(lyrics.dtypes)\n",
    "lyrics.head()"
   ]
  },
  {
   "cell_type": "code",
   "execution_count": 4,
   "metadata": {},
   "outputs": [],
   "source": [
    "def plot_embeddings_interactive(embeddings, target_album=None, target_bucket=None):\n",
    "    \"\"\"\n",
    "    This is a function so we can see if there are patterns among different buckets of billboard scores.\n",
    "    It's a bit dizzying to look at everything overlaid...\n",
    "\n",
    "    This plot is interactive to make encoding EDA not as painful\n",
    "    \"\"\"\n",
    "    unique_albums = lyrics['album_name'].unique()\n",
    "    album_colors = plt.cm.rainbow(np.linspace(0, 1, len(unique_albums)))\n",
    "    album_color_map = {album: f'rgb({int(col[0]*255)}, {int(col[1]*255)}, {int(col[2]*255)})' for album, col in zip(unique_albums, album_colors)}\n",
    "\n",
    "    unique_buckets = lyrics['peak_pos_bucketed'].unique()\n",
    "    peak_pos_colors = plt.cm.Spectral(np.linspace(0, 1, len(unique_buckets)))\n",
    "    peak_pos_color_map = {bucket: f'rgb({int(col[0]*255)}, {int(col[1]*255)}, {int(col[2]*255)})' for bucket, col in zip(unique_buckets, peak_pos_colors)}\n",
    "\n",
    "    fig = go.Figure()\n",
    "\n",
    "    # Ensuring embeddings_2d is a NumPy array for indexing\n",
    "    embeddings_2d_np = np.array(embeddings)\n",
    "\n",
    "    # Add traces for album names\n",
    "    for album in unique_albums:\n",
    "        if target_album is not None and target_album != album:\n",
    "            continue\n",
    "        idx = lyrics['album_name'] == album\n",
    "        selected_embeddings = embeddings_2d_np[idx]\n",
    "        fig.add_trace(go.Scatter(x=selected_embeddings[:, 0], y=selected_embeddings[:, 1],\n",
    "                                 mode='markers', marker=dict(color=album_color_map[album], opacity=0.7 if target_album is None or target_album == album else 0.2),\n",
    "                                 name=album, text=lyrics[idx]['track_name']))\n",
    "\n",
    "    # Add traces for peak position buckets, set to be initially hidden (visible on legend click)\n",
    "    for bucket in unique_buckets:\n",
    "        if target_bucket is not None and target_bucket != bucket:\n",
    "            continue\n",
    "        idx = lyrics['peak_pos_bucketed'] == bucket\n",
    "        selected_embeddings = embeddings_2d_np[idx]\n",
    "        fig.add_trace(go.Scatter(x=selected_embeddings[:, 0], y=selected_embeddings[:, 1],\n",
    "                                 mode='markers', marker=dict(color=peak_pos_color_map[bucket], opacity=0.7 if target_bucket is None or target_bucket == bucket else 0.2),\n",
    "                                 name=bucket, text=lyrics[idx]['track_name'],\n",
    "                                 visible='legendonly'))\n",
    "\n",
    "    fig.update_layout(title='Interactive Plot of Song Embeddings',\n",
    "                      xaxis_title='TSNE 1',\n",
    "                      yaxis_title='TSNE 2',\n",
    "                      legend_title_text='Legend',\n",
    "                      hovermode='closest')\n",
    "\n",
    "    fig.show()"
   ]
  },
  {
   "cell_type": "code",
   "execution_count": 5,
   "metadata": {},
   "outputs": [
    {
     "data": {
      "image/png": "[encoded data removed]",
      "text/plain": [
       "<Figure size 1000x600 with 1 Axes>"
      ]
     },
     "metadata": {},
     "output_type": "display_data"
    }
   ],
   "source": [
    "embeddings = np.array([embedding.flatten() for embedding in lyrics['latent_embedding']])\n",
    "\n",
    "# Number of components is arbitrary for now\n",
    "ndims = 40\n",
    "umap_reducer = umap.UMAP(n_components=ndims)\n",
    "reduced_UMAP = umap_reducer.fit_transform(embeddings)\n",
    "\n",
    "k_values = range(5, 45) \n",
    "wcss = []\n",
    "\n",
    "for k in k_values:\n",
    "    kmeans = KMeans(n_clusters=k, random_state=256, n_init=10)\n",
    "    kmeans.fit(reduced_UMAP)\n",
    "    wcss.append(kmeans.inertia_)\n",
    "\n",
    "# Plotting the results\n",
    "plt.figure(figsize=(10, 6))\n",
    "plt.plot(k_values, wcss, '-o', color='black')\n",
    "plt.title('The Elbow Method')\n",
    "plt.xlabel('Number of clusters (k)')\n",
    "plt.ylabel('WCSS')\n",
    "plt.xticks(k_values)\n",
    "plt.grid(True)\n",
    "plt.show()"
   ]
  },
  {
   "cell_type": "code",
   "execution_count": 6,
   "metadata": {},
   "outputs": [
    {
     "data": {
      "application/vnd.plotly.v1+json": {
       "config": {
        "plotlyServerURL": "https://plot.ly"
       },
       "data": [
        {
         "marker": {
          "color": "rgb(127, 0, 255)",
          "opacity": 0.7
         },
         "mode": "markers",
         "name": "reputation",
         "text": [
          "...Ready For It?",
          "Call It What You Want",
          "Dancing With Our Hands Tied",
          "Delicate",
          "Don't Blame Me",
          "Dress",
          "End Game",
          "Getaway Car",
          "Gorgeous",
          "I Did Something Bad",
          "King Of My Heart",
          "Look What You Made Me Do",
          "New Year's Day",
          "So It Goes...",
          "This Is Why We Can't Have Nice Things"
         ],
         "type": "scatter",
         "x": [
          -16.858291625976562,
          -11.90949535369873,
          -18.901161193847656,
          -22.766021728515625,
          -11.061942100524902,
          -15.509403228759766,
          -17.19584083557129,
          -11.025725364685059,
          -18.852012634277344,
          -19.928966522216797,
          -17.77172088623047,
          -21.58131980895996,
          -20.203407287597656,
          -14.46562385559082,
          -14.688054084777832
         ],
         "y": [
          3.2068257331848145,
          -3.5869534015655518,
          -5.443737506866455,
          4.9036970138549805,
          4.1376495361328125,
          -3.522473096847534,
          -4.8457183837890625,
          3.934565305709839,
          -7.304760456085205,
          5.854788303375244,
          3.155231237411499,
          5.584015369415283,
          6.913113594055176,
          -4.463623046875,
          -4.342718124389648
         ]
        },
        {
         "marker": {
          "color": "rgb(95, 49, 253)",
          "opacity": 0.7
         },
         "mode": "markers",
         "name": "evermore",
         "text": [
          "'tis the damn season",
          "champagne problems",
          "closure",
          "coney island",
          "cowboy like me",
          "dorothea",
          "evermore",
          "gold rush",
          "happiness",
          "it's time to go",
          "ivy",
          "long story short",
          "marjorie",
          "no body, no crime",
          "right where you left me",
          "tolerate it",
          "willow"
         ],
         "type": "scatter",
         "x": [
          -9.703166961669922,
          23.612565994262695,
          21.645782470703125,
          -1.0022903680801392,
          20.187679290771484,
          2.912691354751587,
          0.8615893721580505,
          11.681785583496094,
          -16.894134521484375,
          0.8726277947425842,
          -7.850844860076904,
          -8.83264446258545,
          20.496355056762695,
          -8.878617286682129,
          -16.650346755981445,
          24.213340759277344,
          -18.150493621826172
         ],
         "y": [
          -2.2489380836486816,
          1.3415029048919678,
          -3.436115026473999,
          -0.6709194779396057,
          2.6854443550109863,
          -1.3921680450439453,
          -1.1892808675765991,
          5.663229942321777,
          -7.52445650100708,
          -1.042614459991455,
          -1.097651720046997,
          -1.6050469875335693,
          2.5964195728302,
          -1.7746649980545044,
          -7.696225166320801,
          1.7304925918579102,
          4.205933094024658
         ]
        },
        {
         "marker": {
          "color": "rgb(63, 97, 250)",
          "opacity": 0.7
         },
         "mode": "markers",
         "name": "1989 (Taylor's Version)",
         "text": [
          "\"Slut!\" (Taylor's Version) [From The Vault]",
          "All You Had To Do Was Stay (Taylor's Version)",
          "Bad Blood (Remix) [Taylor's Version]",
          "Bad Blood (Taylor's Version)",
          "Blank Space (Taylor's Version)",
          "Clean (Taylor's Version)",
          "How You Get The Girl (Taylor's Version)",
          "I Know Places (Taylor's Version)",
          "I Wish You Would (Taylor's Version)",
          "Is It Over Now? (Taylor's Version) [From The Vault]",
          "New Romantics (Taylor's Version)",
          "Now That We Don't Talk (Taylor's Version) [From The Vault]",
          "Out Of The Woods (Taylor's Version)",
          "Say Don't Go (Taylor's Version) [From The Vault]",
          "Shake It Off (Taylor's Version)",
          "Style (Taylor's Version)",
          "Suburban Legends (Taylor's Version) [From The Vault]",
          "Sweeter Than Fiction (Taylor's Version)",
          "This Love (Taylor's Version)",
          "Welcome To New York (Taylor's Version)",
          "Wildest Dreams (Taylor's Version)",
          "Wonderland (Taylor's Version)",
          "You Are In Love (Taylor's Version)"
         ],
         "type": "scatter",
         "x": [
          -1.8512821197509766,
          -20.46735191345215,
          -17.493494033813477,
          -20.936445236206055,
          -20.378271102905273,
          0.4118298590183258,
          -20.260778427124023,
          -6.708664417266846,
          -20.36371612548828,
          -15.15561580657959,
          -14.277134895324707,
          24.20102882385254,
          -19.46721076965332,
          -22.081958770751953,
          -22.86322784423828,
          -10.414709091186523,
          18.918380737304688,
          -19.110828399658203,
          -21.202669143676758,
          -8.83055591583252,
          -22.86296844482422,
          -15.408248901367188,
          -13.354826927185059
         ],
         "y": [
          -0.673770010471344,
          -4.336344242095947,
          -7.366063594818115,
          5.829666614532471,
          6.67941427230835,
          2.119075059890747,
          -6.917760848999023,
          -1.2434173822402954,
          -4.593595504760742,
          -5.064239978790283,
          3.0317394733428955,
          0.8873188495635986,
          2.675117254257202,
          -5.279926300048828,
          4.362421035766602,
          3.76389217376709,
          -0.675508975982666,
          -6.890413284301758,
          -5.754333972930908,
          3.4127914905548096,
          -3.7489631175994873,
          -1.6928068399429321,
          -4.405050277709961
         ]
        },
        {
         "marker": {
          "color": "rgb(31, 142, 243)",
          "opacity": 0.7
         },
         "mode": "markers",
         "name": "Red",
         "text": [
          "22",
          "All Too Well",
          "Begin Again",
          "Come Back...Be Here",
          "Everything Has Changed",
          "Girl At Home",
          "Holy Ground",
          "I Almost Do",
          "I Knew You Were Trouble",
          "Red",
          "Red (Original Demo Recording)",
          "Sad Beautiful Tragic",
          "Starlight",
          "State Of Grace",
          "State Of Grace (Acoustic Version)",
          "Stay Stay Stay",
          "The Last Time",
          "The Lucky One",
          "The Moment I Knew",
          "Treacherous",
          "Treacherous (Original Demo Recording)",
          "We Are Never Ever Getting Back Together"
         ],
         "type": "scatter",
         "x": [
          -22.351577758789062,
          -12.743697166442871,
          10.606354713439941,
          19.969886779785156,
          -14.937445640563965,
          -14.280824661254883,
          19.627708435058594,
          14.074728965759277,
          -21.225404739379883,
          1.0421860218048096,
          11.999846458435059,
          26.950780868530273,
          -8.373191833496094,
          25.258058547973633,
          26.804664611816406,
          1.263837456703186,
          -18.739517211914062,
          -6.123086452484131,
          1.517180323600769,
          12.02725601196289,
          12.108235359191895,
          -23.141881942749023
         ],
         "y": [
          -4.121257781982422,
          2.4658844470977783,
          1.725642442703247,
          2.2682077884674072,
          -3.457059144973755,
          -3.65090012550354,
          -1.4908177852630615,
          1.8650968074798584,
          -4.450758457183838,
          2.5317721366882324,
          4.966598987579346,
          -6.990245819091797,
          3.794877052307129,
          -3.6171398162841797,
          -5.849587917327881,
          2.05224347114563,
          -7.176870346069336,
          0.21554003655910492,
          -0.4053947329521179,
          7.536884307861328,
          7.595846652984619,
          -3.51582670211792
         ]
        },
        {
         "marker": {
          "color": "rgb(0, 180, 235)",
          "opacity": 0.7
         },
         "mode": "markers",
         "name": "Red (Taylor's Version)",
         "text": [
          "22 (Taylor's Version)",
          "All Too Well (10 Minute Version) [Taylor's Version] [From The Vault]",
          "All Too Well (Taylor's Version)",
          "Babe (Taylor's Version) [From The Vault]",
          "Begin Again (Taylor's Version)",
          "Better Man (Taylor's Version) [From The Vault]",
          "Come Back...Be Here (Taylor's Version)",
          "Everything Has Changed (Taylor's Version)",
          "Forever Winter (Taylor's Version) [From The Vault]",
          "Girl At Home (Taylor's Version)",
          "Holy Ground (Taylor's Version)",
          "I Almost Do (Taylor's Version)",
          "I Bet You Think About Me (Taylor's Version) [From The Vault]",
          "I Knew You Were Trouble (Taylor's Version)",
          "Message In A Bottle (Taylor's Version) [From The Vault]",
          "Nothing New (Taylor's Version) [From The Vault]",
          "Red (Taylor's Version)",
          "Ronan (Taylor's Version)",
          "Run (Taylor's Version) [From The Vault]",
          "Sad Beautiful Tragic (Taylor's Version)",
          "Starlight (Taylor's Version)",
          "State Of Grace (Acoustic Version) [Taylor's Version]",
          "State Of Grace (Taylor's Version)",
          "Stay Stay Stay (Taylor's Version)",
          "The Last Time (Taylor's Version)",
          "The Lucky One (Taylor's Version)",
          "The Moment I Knew (Taylor's Version)",
          "The Very First Night (Taylor's Version) [From The Vault]",
          "Treacherous (Taylor's Version)",
          "We Are Never Ever Getting Back Together (Taylor's Version)"
         ],
         "type": "scatter",
         "x": [
          -22.729291915893555,
          -12.303322792053223,
          -12.855528831481934,
          0.6178637742996216,
          10.907317161560059,
          -12.716038703918457,
          20.250646591186523,
          -14.581941604614258,
          24.440412521362305,
          -13.5894193649292,
          20.315797805786133,
          13.738032341003418,
          -11.120648384094238,
          -21.58329200744629,
          -19.965106964111328,
          0.9121124744415283,
          -22.43840789794922,
          22.235078811645508,
          -11.550259590148926,
          27.019309997558594,
          -19.156272888183594,
          26.42092514038086,
          1.563403844833374,
          0.9407286643981934,
          -18.194494247436523,
          -6.167802333831787,
          1.7760103940963745,
          11.519939422607422,
          11.265294075012207,
          -23.178983688354492
         ],
         "y": [
          -3.3867266178131104,
          2.358961820602417,
          2.3268043994903564,
          1.7644503116607666,
          1.9163148403167725,
          1.4391899108886719,
          2.2516591548919678,
          -3.633768081665039,
          2.782045841217041,
          -3.132430076599121,
          -1.8235883712768555,
          2.139045476913452,
          -3.2798445224761963,
          -4.616856098175049,
          -4.967534065246582,
          -0.6157843470573425,
          -4.9376935958862305,
          2.189403533935547,
          2.0981199741363525,
          -7.026496887207031,
          5.362667083740234,
          -5.874995231628418,
          0.14661504328250885,
          1.9711648225784302,
          -7.087871551513672,
          0.2277287393808365,
          -0.266368567943573,
          5.841775894165039,
          7.5878729820251465,
          -3.4587502479553223
         ]
        },
        {
         "marker": {
          "color": "rgb(32, 212, 224)",
          "opacity": 0.7
         },
         "mode": "markers",
         "name": "Taylor Swift",
         "text": [
          "A Perfectly Good Heart",
          "A Place In This World",
          "Cold As You",
          "I'm Only Me When I'm With You",
          "I'm Only Me When I'm With You",
          "Invisible",
          "Mary's Song (Oh My My My)",
          "Our Song",
          "Picture To Burn",
          "Should've Said No",
          "Stay Beautiful",
          "Teardrops On My Guitar",
          "Teardrops On My Guitar (Pop Version)",
          "The Outside",
          "Tied Together With A Smile",
          "Tim McGraw"
         ],
         "type": "scatter",
         "x": [
          25.01888656616211,
          23.508739471435547,
          23.41301918029785,
          21.191682815551758,
          20.977611541748047,
          24.207075119018555,
          2.5339972972869873,
          -9.75320053100586,
          11.590526580810547,
          1.051666259765625,
          24.833599090576172,
          12.516569137573242,
          12.076648712158203,
          24.233434677124023,
          20.475353240966797,
          -8.502391815185547
         ],
         "y": [
          -5.905491352081299,
          -4.756844520568848,
          -5.163094997406006,
          2.1402363777160645,
          2.1733665466308594,
          -5.284546375274658,
          -0.5796791315078735,
          4.237757682800293,
          7.185328960418701,
          2.384117364883423,
          -2.1133623123168945,
          3.2048304080963135,
          3.9334282875061035,
          -5.982022285461426,
          -2.4307172298431396,
          3.7992169857025146
         ]
        },
        {
         "marker": {
          "color": "rgb(64, 236, 211)",
          "opacity": 0.7
         },
         "mode": "markers",
         "name": "Lover",
         "text": [
          "Afterglow",
          "Cornelia Street",
          "Cruel Summer",
          "Daylight",
          "Death By A Thousand Cuts",
          "False God",
          "I Forgot That You Existed",
          "I Think He Knows",
          "It's Nice To Have A Friend",
          "London Boy",
          "Lover",
          "ME!",
          "Miss Americana & The Heartbreak Prince",
          "Paper Rings",
          "Soon You'll Get Better",
          "The Archer",
          "The Man",
          "You Need To Calm Down"
         ],
         "type": "scatter",
         "x": [
          -10.013408660888672,
          -10.557537078857422,
          -21.353214263916016,
          -19.333683013916016,
          -19.79302978515625,
          11.954933166503906,
          17.10249900817871,
          -9.958911895751953,
          26.48418426513672,
          -11.6214017868042,
          14.456709861755371,
          -22.882936477661133,
          -13.443687438964844,
          -18.751962661743164,
          21.3870792388916,
          16.150489807128906,
          -16.806663513183594,
          -22.47431755065918
         ],
         "y": [
          3.591705799102783,
          4.989696025848389,
          4.359925746917725,
          -4.902587413787842,
          6.176346302032471,
          6.825380325317383,
          0.10621210932731628,
          -2.0298967361450195,
          -7.147061824798584,
          1.2763422727584839,
          1.5976511240005493,
          4.459244251251221,
          2.679931163787842,
          -6.077242374420166,
          -2.844520092010498,
          0.8845659494400024,
          -5.096290111541748,
          4.4552106857299805
         ]
        },
        {
         "marker": {
          "color": "rgb(96, 250, 196)",
          "opacity": 0.7
         },
         "mode": "markers",
         "name": "nan",
         "text": [],
         "type": "scatter",
         "x": [],
         "y": []
        },
        {
         "marker": {
          "color": "rgb(128, 254, 179)",
          "opacity": 0.7
         },
         "mode": "markers",
         "name": "1989",
         "text": [
          "All You Had To Do Was Stay",
          "Bad Blood",
          "Blank Space",
          "Clean",
          "How You Get The Girl",
          "I Know Places",
          "I Wish You Would",
          "New Romantics",
          "Out Of The Woods",
          "Shake It Off",
          "Style",
          "This Love",
          "Welcome To New York",
          "Wildest Dreams",
          "Wonderland",
          "You Are In Love"
         ],
         "type": "scatter",
         "x": [
          -20.500362396240234,
          -20.6591854095459,
          -21.040281295776367,
          -21.59592628479004,
          -19.646753311157227,
          -6.835215091705322,
          -19.455514907836914,
          -12.755674362182617,
          -19.376930236816406,
          -22.866987228393555,
          -9.66211223602295,
          -21.788135528564453,
          -8.093070030212402,
          -22.95794105529785,
          -17.69080352783203,
          -13.732283592224121
         ],
         "y": [
          -3.913095712661743,
          6.229703426361084,
          6.46577262878418,
          -5.959898471832275,
          -7.095312118530273,
          0.18683092296123505,
          -4.439154624938965,
          3.1214544773101807,
          3.000838041305542,
          5.006866931915283,
          3.759448289871216,
          -5.132567882537842,
          3.314239025115967,
          -4.050731182098389,
          -4.775467395782471,
          -4.213695526123047
         ]
        },
        {
         "marker": {
          "color": "rgb(160, 249, 161)",
          "opacity": 0.7
         },
         "mode": "markers",
         "name": "Midnights",
         "text": [
          "Anti-Hero",
          "Bejeweled",
          "Bigger Than The Whole Sky",
          "Dear Reader",
          "Glitch",
          "High Infidelity",
          "Hits Different",
          "Karma",
          "Karma (Remix)",
          "Labyrinth",
          "Lavender Haze",
          "Maroon",
          "Mastermind",
          "Midnight Rain",
          "Paris",
          "Question...?",
          "Snow On The Beach",
          "Snow On The Beach (More Lana Del Rey)",
          "Sweet Nothing",
          "Sweet Nothing (Piano Remix)",
          "The Great War",
          "Vigilante Shit",
          "Would've, Could've, Should've",
          "You're Losing Me (From The Vault)",
          "You're On Your Own, Kid",
          "You're On Your Own, Kid (Strings Remix)"
         ],
         "type": "scatter",
         "x": [
          0.5633732080459595,
          -15.528432846069336,
          19.456401824951172,
          25.746585845947266,
          18.185420989990234,
          -7.62577486038208,
          -11.4545316696167,
          -7.2966413497924805,
          -12.417068481445312,
          16.82794761657715,
          17.7674617767334,
          0.5701258182525635,
          1.703292965888977,
          21.8155460357666,
          24.148710250854492,
          -14.646505355834961,
          -20.74315643310547,
          -19.650938034057617,
          18.331331253051758,
          18.021778106689453,
          -0.02413908578455448,
          24.96647071838379,
          -14.65897274017334,
          -12.113259315490723,
          24.05953025817871,
          24.001483917236328
         ],
         "y": [
          0.7392591238021851,
          -4.6716837882995605,
          -1.9078989028930664,
          -4.327270030975342,
          -0.8153619766235352,
          -0.1904207319021225,
          -3.7054226398468018,
          -0.25097396969795227,
          -4.130002975463867,
          0.12636221945285797,
          -0.26336348056793213,
          1.3400232791900635,
          -1.1629778146743774,
          -0.18807260692119598,
          2.884887218475342,
          -4.933977127075195,
          -6.310381889343262,
          -6.34566593170166,
          -0.8858075737953186,
          -1.322546362876892,
          -0.8544444441795349,
          -2.53151798248291,
          -5.830673694610596,
          -3.070951223373413,
          2.1799521446228027,
          2.293281078338623
         ]
        },
        {
         "marker": {
          "color": "rgb(192, 234, 140)",
          "opacity": 0.7
         },
         "mode": "markers",
         "name": "folklore",
         "text": [
          "august",
          "betty",
          "cardigan",
          "epiphany",
          "exile",
          "hoax",
          "illicit affairs",
          "invisible string",
          "mad woman",
          "mirrorball",
          "my tears ricochet",
          "peace",
          "seven",
          "the 1",
          "the lakes",
          "the last great american dynasty",
          "this is me trying"
         ],
         "type": "scatter",
         "x": [
          -7.230546474456787,
          -20.530879974365234,
          -23.27235984802246,
          26.51250457763672,
          -20.557340621948242,
          26.21058464050293,
          26.436939239501953,
          22.78013038635254,
          23.63740348815918,
          20.028894424438477,
          24.325288772583008,
          21.050443649291992,
          27.016460418701172,
          11.641284942626953,
          11.791694641113281,
          1.9709583520889282,
          22.440858840942383
         ],
         "y": [
          0.866512656211853,
          5.4386210441589355,
          -4.032262802124023,
          -6.998307228088379,
          6.120832920074463,
          -5.199653625488281,
          -5.35788106918335,
          1.6863021850585938,
          2.237217903137207,
          -1.9244219064712524,
          2.043200731277466,
          1.878867506980896,
          -6.030341148376465,
          2.5312585830688477,
          7.837594509124756,
          -1.1289788484573364,
          -4.044152736663818
         ]
        },
        {
         "marker": {
          "color": "rgb(224, 210, 119)",
          "opacity": 0.7
         },
         "mode": "markers",
         "name": "Speak Now",
         "text": [
          "Back To December",
          "Better Than Revenge",
          "Dear John",
          "Enchanted",
          "Haunted",
          "If This Was A Movie",
          "Innocent",
          "Last Kiss",
          "Long Live",
          "Mean",
          "Mine",
          "Never Grow Up",
          "Ours",
          "Sparks Fly",
          "Speak Now",
          "Superman",
          "The Story Of Us"
         ],
         "type": "scatter",
         "x": [
          -17.58395767211914,
          -18.645648956298828,
          -6.901559352874756,
          0.5514543652534485,
          11.138814926147461,
          -15.717806816101074,
          23.276758193969727,
          -9.003314018249512,
          -19.303190231323242,
          -21.522335052490234,
          -9.436647415161133,
          -16.483217239379883,
          12.20562744140625,
          11.546780586242676,
          -10.288952827453613,
          -7.249411106109619,
          -11.948586463928223
         ],
         "y": [
          2.2923521995544434,
          2.966050386428833,
          0.5597386956214905,
          2.3766603469848633,
          3.1964526176452637,
          -2.316269636154175,
          1.773089051246643,
          4.052852153778076,
          4.435573101043701,
          5.048314094543457,
          4.011726379394531,
          -4.085233211517334,
          6.990732192993164,
          4.768598556518555,
          4.386091709136963,
          0.1648288518190384,
          3.171290397644043
         ]
        },
        {
         "marker": {
          "color": "rgb(255, 178, 96)",
          "opacity": 0.7
         },
         "mode": "markers",
         "name": "Speak Now (Taylor's Version)",
         "text": [
          "Back To December (Taylor's Version)",
          "Better Than Revenge (Taylor's Version)",
          "Castles Crumbling (Taylor's Version) [From The Vault]",
          "Dear John (Taylor's Version)",
          "Electric Touch (Taylor's Version) [From The Vault]",
          "Enchanted (Taylor's Version)",
          "Foolish One (Taylor's Version) [From The Vault]",
          "Haunted (Taylor's Version)",
          "I Can See You (Taylor's Version) [From The Vault]",
          "Innocent (Taylor's Version)",
          "Last Kiss (Taylor's Version)",
          "Long Live (Taylor's Version)",
          "Mean (Taylor's Version)",
          "Mine (Taylor's Version)",
          "Never Grow Up (Taylor's Version)",
          "Ours (Taylor's Version)",
          "Sparks Fly (Taylor's Version)",
          "Speak Now (Taylor's Version)",
          "Superman (Taylor's Version)",
          "The Story Of Us (Taylor's Version)",
          "Timeless (Taylor's Version) [From The Vault]",
          "When Emma Falls In Love (Taylor's Version) [From The Vault]"
         ],
         "type": "scatter",
         "x": [
          -18.553232192993164,
          -17.898401260375977,
          18.308961868286133,
          -6.953293323516846,
          1.8084028959274292,
          -21.57733726501465,
          -12.75794792175293,
          11.668835639953613,
          -18.576290130615234,
          23.287004470825195,
          -9.972986221313477,
          -19.32900619506836,
          -21.756942749023438,
          -16.310564041137695,
          -16.333534240722656,
          12.337179183959961,
          11.325982093811035,
          -10.68293285369873,
          -7.648270606994629,
          -11.81997013092041,
          -16.269596099853516,
          -0.8327050805091858
         ],
         "y": [
          -4.956475734710693,
          2.7621805667877197,
          0.4665261507034302,
          1.030336618423462,
          -0.3894783556461334,
          -4.0712761878967285,
          0.6104981899261475,
          3.3376171588897705,
          -7.226154327392578,
          1.6395293474197388,
          4.515964508056641,
          4.270004749298096,
          4.875607490539551,
          3.40828275680542,
          -4.315182209014893,
          7.066287517547607,
          3.717874050140381,
          4.51824426651001,
          -0.16878728568553925,
          3.2620887756347656,
          -7.228626728057861,
          -0.4375028610229492
         ]
        },
        {
         "marker": {
          "color": "rgb(255, 139, 72)",
          "opacity": 0.7
         },
         "mode": "markers",
         "name": "Beautiful Eyes",
         "text": [
          "Beautiful Eyes",
          "I Heart ?",
          "I'm Only Me When I'm With You",
          "I'm Only Me When I'm With You",
          "Picture To Burn (Radio Edit)",
          "Should've Said No (Alternate Version)",
          "Teardrops On My Guitar (Acoustic Version)"
         ],
         "type": "scatter",
         "x": [
          25.87618064880371,
          21.980426788330078,
          20.97962188720703,
          21.28389549255371,
          11.088421821594238,
          11.539209365844727,
          12.292494773864746
         ],
         "y": [
          -6.769288063049316,
          2.3852274417877197,
          2.6341662406921387,
          2.5612757205963135,
          6.89967679977417,
          2.9519314765930176,
          3.3859639167785645
         ]
        },
        {
         "marker": {
          "color": "rgb(255, 95, 48)",
          "opacity": 0.7
         },
         "mode": "markers",
         "name": "Fearless",
         "text": [
          "Breathe",
          "Change",
          "Come In With The Rain",
          "Fearless",
          "Fifteen",
          "Forever & Always",
          "Forever & Always (Piano Version)",
          "Hey Stephen",
          "Jump Then Fall",
          "Love Story",
          "SuperStar",
          "Tell Me Why",
          "The Best Day",
          "The Other Side Of The Door",
          "The Way I Loved You",
          "Untouchable",
          "White Horse",
          "You Belong With Me",
          "You're Not Sorry"
         ],
         "type": "scatter",
         "x": [
          11.807150840759277,
          11.467538833618164,
          24.797250747680664,
          11.94667911529541,
          -12.359358787536621,
          -20.153717041015625,
          -20.541654586791992,
          -10.720643043518066,
          -6.835827350616455,
          -22.491085052490234,
          11.121905326843262,
          2.349421977996826,
          23.79335594177246,
          -8.014521598815918,
          11.631040573120117,
          -20.535961151123047,
          17.991174697875977,
          -18.847745895385742,
          1.7327827215194702
         ],
         "y": [
          2.0594534873962402,
          6.838220596313477,
          -5.3286333084106445,
          6.360696315765381,
          -3.2294089794158936,
          3.4109299182891846,
          2.9434075355529785,
          3.477088689804077,
          -0.17862924933433533,
          5.164423942565918,
          7.563261985778809,
          -0.6177372932434082,
          2.9476137161254883,
          2.8302276134490967,
          4.433477878570557,
          7.047982215881348,
          0.9432900547981262,
          3.9279956817626953,
          2.433469772338867
         ]
        },
        {
         "marker": {
          "color": "rgb(255, 46, 23)",
          "opacity": 0.7
         },
         "mode": "markers",
         "name": "Fearless (Taylor's Version)",
         "text": [
          "Breathe (Taylor's Version)",
          "Bye Bye Baby (Taylor's Version) [From The Vault]",
          "Change (Taylor's Version)",
          "Come In With The Rain (Taylor's Version)",
          "Don't You (Taylor's Version) [From The Vault]",
          "Fearless (Taylor's Version)",
          "Fifteen (Taylor's Version)",
          "Forever & Always (Piano Version) [Taylor's Version]",
          "Forever & Always (Taylor's Version)",
          "Hey Stephen (Taylor's Version)",
          "Jump Then Fall (Taylor's Version)",
          "Love Story (Taylor's Version)",
          "Mr. Perfectly Fine (Taylor's Version) [From The Vault]",
          "SuperStar (Taylor's Version)",
          "Tell Me Why (Taylor's Version)",
          "That's When (Taylor's Version) [From The Vault]",
          "The Best Day (Taylor's Version)",
          "The Other Side Of The Door (Taylor's Version)",
          "The Way I Loved You (Taylor's Version)",
          "Today Was A Fairytale (Taylor's Version)",
          "Untouchable (Taylor's Version)",
          "We Were Happy (Taylor's Version) [From The Vault]",
          "White Horse (Taylor's Version)",
          "You All Over Me (Taylor's Version) [From The Vault]",
          "You Belong With Me (Taylor's Version)",
          "You're Not Sorry (Taylor's Version)"
         ],
         "type": "scatter",
         "x": [
          1.7389699220657349,
          11.584178924560547,
          11.067380905151367,
          24.61733055114746,
          23.566848754882812,
          11.364622116088867,
          -12.319790840148926,
          -22.294559478759766,
          -22.24325180053711,
          -11.069792747497559,
          -6.640594482421875,
          -22.28081512451172,
          -17.86083984375,
          11.517450332641602,
          2.5097293853759766,
          -21.168075561523438,
          23.607206344604492,
          -19.818130493164062,
          11.019465446472168,
          12.14864730834961,
          -20.90509605407715,
          24.509441375732422,
          17.822105407714844,
          18.379810333251953,
          -18.474231719970703,
          1.5920659303665161
         ],
         "y": [
          1.724053144454956,
          2.784034490585327,
          7.020261287689209,
          -5.6435933113098145,
          -4.119742393493652,
          6.340972900390625,
          -2.7478461265563965,
          -3.581772565841675,
          -1.7956496477127075,
          3.206449270248413,
          -0.48584693670272827,
          4.781394958496094,
          -7.6311845779418945,
          7.856719017028809,
          -0.43645554780960083,
          -6.532857418060303,
          3.180797815322876,
          4.454207897186279,
          3.829202651977539,
          2.3017804622650146,
          6.745577335357666,
          -4.092658996582031,
          0.8146052956581116,
          -1.3224780559539795,
          3.6406636238098145,
          2.398237705230713
         ]
        },
        {
         "marker": {
          "color": "rgb(255, 0, 0)",
          "opacity": 0.7
         },
         "mode": "markers",
         "name": "The Taylor Swift Holiday Collection",
         "text": [
          "Christmas Must Be Something More",
          "Christmases When You Were Mine",
          "Last Christmas",
          "Santa Baby",
          "Silent Night",
          "White Christmas"
         ],
         "type": "scatter",
         "x": [
          23.100915908813477,
          26.631790161132812,
          17.667753219604492,
          26.076444625854492,
          26.3436336517334,
          25.709575653076172
         ],
         "y": [
          2.123605966567993,
          -6.424456596374512,
          1.2122517824172974,
          -6.36548376083374,
          -7.5062055587768555,
          -7.174678802490234
         ]
        },
        {
         "marker": {
          "color": "rgb(158, 1, 66)",
          "opacity": 0.7
         },
         "mode": "markers",
         "name": "0-9",
         "text": [
          "...Ready For It?",
          "\"Slut!\" (Taylor's Version) [From The Vault]",
          "All Too Well (Taylor's Version)",
          "Anti-Hero",
          "Back To December",
          "Bad Blood (Remix) [Taylor's Version]",
          "Bad Blood (Taylor's Version)",
          "Begin Again",
          "Bejeweled",
          "Blank Space",
          "cardigan",
          "Cruel Summer",
          "exile",
          "Fearless",
          "I Can See You (Taylor's Version) [From The Vault]",
          "I Don't Wanna Live Forever",
          "I Knew You Were Trouble",
          "Is It Over Now? (Taylor's Version) [From The Vault]",
          "Karma (Remix)",
          "Lavender Haze",
          "Look What You Made Me Do",
          "Love Story",
          "Maroon",
          "ME!",
          "Midnight Rain",
          "Mine",
          "Now That We Don't Talk (Taylor's Version) [From The Vault]",
          "Question...?",
          "Red",
          "Say Don't Go (Taylor's Version) [From The Vault]",
          "Shake It Off",
          "Snow On The Beach",
          "Speak Now",
          "Style",
          "Style (Taylor's Version)",
          "the 1",
          "Today Was A Fairytale",
          "We Are Never Ever Getting Back Together",
          "Wildest Dreams",
          "willow",
          "You Belong With Me",
          "You Need To Calm Down",
          "You're On Your Own, Kid"
         ],
         "type": "scatter",
         "visible": "legendonly",
         "x": [
          -16.858291625976562,
          -1.8512821197509766,
          -12.855528831481934,
          0.5633732080459595,
          -17.58395767211914,
          -17.493494033813477,
          -20.936445236206055,
          10.606354713439941,
          -15.528432846069336,
          -21.040281295776367,
          -23.27235984802246,
          -21.353214263916016,
          -20.557340621948242,
          11.94667911529541,
          -18.576290130615234,
          1.909389615058899,
          -21.225404739379883,
          -15.15561580657959,
          -12.417068481445312,
          17.7674617767334,
          -21.58131980895996,
          -22.491085052490234,
          0.5701258182525635,
          -22.882936477661133,
          21.8155460357666,
          -9.436647415161133,
          24.20102882385254,
          -14.646505355834961,
          1.0421860218048096,
          -22.081958770751953,
          -22.866987228393555,
          -20.74315643310547,
          -10.288952827453613,
          -9.66211223602295,
          -10.414709091186523,
          11.641284942626953,
          12.203898429870605,
          -23.141881942749023,
          -22.95794105529785,
          -18.150493621826172,
          -18.847745895385742,
          -22.47431755065918,
          24.05953025817871
         ],
         "y": [
          3.2068257331848145,
          -0.673770010471344,
          2.3268043994903564,
          0.7392591238021851,
          2.2923521995544434,
          -7.366063594818115,
          5.829666614532471,
          1.725642442703247,
          -4.6716837882995605,
          6.46577262878418,
          -4.032262802124023,
          4.359925746917725,
          6.120832920074463,
          6.360696315765381,
          -7.226154327392578,
          2.7405574321746826,
          -4.450758457183838,
          -5.064239978790283,
          -4.130002975463867,
          -0.26336348056793213,
          5.584015369415283,
          5.164423942565918,
          1.3400232791900635,
          4.459244251251221,
          -0.18807260692119598,
          4.011726379394531,
          0.8873188495635986,
          -4.933977127075195,
          2.5317721366882324,
          -5.279926300048828,
          5.006866931915283,
          -6.310381889343262,
          4.386091709136963,
          3.759448289871216,
          3.76389217376709,
          2.5312585830688477,
          2.314042091369629,
          -3.51582670211792,
          -4.050731182098389,
          4.205933094024658,
          3.9279956817626953,
          4.4552106857299805,
          2.1799521446228027
         ]
        },
        {
         "marker": {
          "color": "rgb(211, 60, 78)",
          "opacity": 0.7
         },
         "mode": "markers",
         "name": "30-39",
         "text": [
          "'tis the damn season",
          "Castles Crumbling (Taylor's Version) [From The Vault]",
          "Clean (Taylor's Version)",
          "Come In With The Rain",
          "Electric Touch (Taylor's Version) [From The Vault]",
          "Everything Has Changed",
          "Forever & Always",
          "High Infidelity",
          "I Know Places (Taylor's Version)",
          "I Wish You Would (Taylor's Version)",
          "invisible string",
          "Mean (Taylor's Version)",
          "Mr. Perfectly Fine (Taylor's Version) [From The Vault]",
          "no body, no crime",
          "Paris",
          "Safe & Sound",
          "seven",
          "Should've Said No",
          "Speak Now (Taylor's Version)",
          "Sweeter Than Fiction",
          "The Archer",
          "this is me trying",
          "When Emma Falls In Love (Taylor's Version) [From The Vault]",
          "Wonderland (Taylor's Version)"
         ],
         "type": "scatter",
         "visible": "legendonly",
         "x": [
          -9.703166961669922,
          18.308961868286133,
          0.4118298590183258,
          24.797250747680664,
          1.8084028959274292,
          -14.937445640563965,
          -20.153717041015625,
          -7.62577486038208,
          -6.708664417266846,
          -20.36371612548828,
          22.78013038635254,
          -21.756942749023438,
          -17.86083984375,
          -8.878617286682129,
          24.148710250854492,
          25.039302825927734,
          27.016460418701172,
          1.051666259765625,
          -10.68293285369873,
          -15.109060287475586,
          16.150489807128906,
          22.440858840942383,
          -0.8327050805091858,
          -15.408248901367188
         ],
         "y": [
          -2.2489380836486816,
          0.4665261507034302,
          2.119075059890747,
          -5.3286333084106445,
          -0.3894783556461334,
          -3.457059144973755,
          3.4109299182891846,
          -0.1904207319021225,
          -1.2434173822402954,
          -4.593595504760742,
          1.6863021850585938,
          4.875607490539551,
          -7.6311845779418945,
          -1.7746649980545044,
          2.884887218475342,
          -6.62490177154541,
          -6.030341148376465,
          2.384117364883423,
          4.51824426651001,
          -4.248812675476074,
          0.8845659494400024,
          -4.044152736663818,
          -0.4375028610229492,
          -1.6928068399429321
         ]
        },
        {
         "marker": {
          "color": "rgb(244, 109, 67)",
          "opacity": 0.7
         },
         "mode": "markers",
         "name": "20-29",
         "text": [
          "22",
          "All You Had To Do Was Stay (Taylor's Version)",
          "august",
          "Better Than Revenge (Taylor's Version)",
          "Bigger Than The Whole Sky",
          "Call It What You Want",
          "champagne problems",
          "Dear John (Taylor's Version)",
          "Fifteen",
          "Highway Don't Care",
          "Hits Different",
          "I Bet You Think About Me (Taylor's Version) [From The Vault]",
          "I Forgot That You Existed",
          "Innocent",
          "mirrorball",
          "New Romantics (Taylor's Version)",
          "Picture To Burn",
          "Red (Taylor's Version)",
          "Shake It Off (Taylor's Version)",
          "Sparks Fly (Taylor's Version)",
          "Superman",
          "SuperStar",
          "The Great War",
          "The Joker And The Queen",
          "The Man",
          "The Other Side Of The Door",
          "Would've, Could've, Should've",
          "You're Losing Me (From The Vault)"
         ],
         "type": "scatter",
         "visible": "legendonly",
         "x": [
          -22.351577758789062,
          -20.46735191345215,
          -7.230546474456787,
          -17.898401260375977,
          19.456401824951172,
          -11.90949535369873,
          23.612565994262695,
          -6.953293323516846,
          -12.359358787536621,
          -18.155902862548828,
          -11.4545316696167,
          -11.120648384094238,
          17.10249900817871,
          23.276758193969727,
          20.028894424438477,
          -14.277134895324707,
          11.590526580810547,
          -22.43840789794922,
          -22.86322784423828,
          11.325982093811035,
          -7.249411106109619,
          11.121905326843262,
          -0.02413908578455448,
          25.399625778198242,
          -16.806663513183594,
          -8.014521598815918,
          -14.65897274017334,
          -12.113259315490723
         ],
         "y": [
          -4.121257781982422,
          -4.336344242095947,
          0.866512656211853,
          2.7621805667877197,
          -1.9078989028930664,
          -3.5869534015655518,
          1.3415029048919678,
          1.030336618423462,
          -3.2294089794158936,
          2.6870903968811035,
          -3.7054226398468018,
          -3.2798445224761963,
          0.10621210932731628,
          1.773089051246643,
          -1.9244219064712524,
          3.0317394733428955,
          7.185328960418701,
          -4.9376935958862305,
          4.362421035766602,
          3.717874050140381,
          0.1648288518190384,
          7.563261985778809,
          -0.8544444441795349,
          -6.66759729385376,
          -5.096290111541748,
          2.8302276134490967,
          -5.830673694610596,
          -3.070951223373413
         ]
        },
        {
         "marker": {
          "color": "rgb(252, 172, 96)",
          "opacity": 0.7
         },
         "mode": "markers",
         "name": "50-59",
         "text": [
          "22 (Taylor's Version)",
          "Better Man (Taylor's Version) [From The Vault]",
          "Better Than Revenge",
          "Christmas Tree Farm",
          "Cornelia Street",
          "Dear John",
          "epiphany",
          "evermore",
          "happiness",
          "Haunted (Taylor's Version)",
          "I Almost Do (Taylor's Version)",
          "I Think He Knows",
          "Last Kiss (Taylor's Version)",
          "Long Live (Taylor's Version)",
          "Never Grow Up (Taylor's Version)",
          "Only The Young",
          "peace",
          "Treacherous (Taylor's Version)",
          "We Are Never Ever Getting Back Together (Taylor's Version)",
          "Wonderland",
          "You All Over Me (Taylor's Version) [From The Vault]"
         ],
         "type": "scatter",
         "visible": "legendonly",
         "x": [
          -22.729291915893555,
          -12.716038703918457,
          -18.645648956298828,
          1.42288339138031,
          -10.557537078857422,
          -6.901559352874756,
          26.51250457763672,
          0.8615893721580505,
          -16.894134521484375,
          11.668835639953613,
          13.738032341003418,
          -9.958911895751953,
          -9.972986221313477,
          -19.32900619506836,
          -16.333534240722656,
          22.670801162719727,
          21.050443649291992,
          11.265294075012207,
          -23.178983688354492,
          -17.69080352783203,
          18.379810333251953
         ],
         "y": [
          -3.3867266178131104,
          1.4391899108886719,
          2.966050386428833,
          0.7108935117721558,
          4.989696025848389,
          0.5597386956214905,
          -6.998307228088379,
          -1.1892808675765991,
          -7.52445650100708,
          3.3376171588897705,
          2.139045476913452,
          -2.0298967361450195,
          4.515964508056641,
          4.270004749298096,
          -4.315182209014893,
          2.6394224166870117,
          1.878867506980896,
          7.5878729820251465,
          -3.4587502479553223,
          -4.775467395782471,
          -1.3224780559539795
         ]
        },
        {
         "marker": {
          "color": "rgb(254, 224, 139)",
          "opacity": 0.7
         },
         "mode": "markers",
         "name": ">100",
         "text": [
          "A Perfectly Good Heart",
          "A Place In This World",
          "All Too Well (10 Minute Version) [Taylor's Version] [From The Vault]",
          "All You Had To Do Was Stay",
          "American Girl",
          "Bad Blood",
          "Bad Blood (Remix)",
          "Beautiful Eyes",
          "Beautiful Ghosts",
          "Birch",
          "Breathe (Taylor's Version)",
          "Bye Bye Baby (Taylor's Version) [From The Vault]",
          "Change (Taylor's Version)",
          "Christmas Must Be Something More",
          "Christmases When You Were Mine",
          "Clean",
          "Cold As You",
          "Come Back...Be Here",
          "Come In With The Rain (Taylor's Version)",
          "Dancing With Our Hands Tied",
          "Don't Blame Me",
          "Don't You (Taylor's Version) [From The Vault]",
          "Dress",
          "Eyes Open (Taylor's Version)",
          "Forever & Always (Piano Version)",
          "Forever & Always (Piano Version) [Taylor's Version]",
          "Gasoline (Remix)",
          "Getaway Car",
          "Girl At Home",
          "Girl At Home (Taylor's Version)",
          "Half Of My Heart",
          "Hey Stephen (Taylor's Version)",
          "Holy Ground",
          "How You Get The Girl",
          "I Did Something Bad",
          "I Heart ?",
          "I Know Places",
          "I Wish You Would",
          "I'm Only Me When I'm With You",
          "I'm Only Me When I'm With You",
          "I'm Only Me When I'm With You",
          "I'm Only Me When I'm With You",
          "If This Was A Movie (Taylor's Version)",
          "Invisible",
          "it's time to go",
          "Jump Then Fall (Taylor's Version)",
          "Karma",
          "King Of My Heart",
          "Last Christmas",
          "Lover (Remix)",
          "Mary's Song (Oh My My My)",
          "New Year's Day",
          "Picture To Burn (Radio Edit)",
          "Red (Original Demo Recording)",
          "right where you left me",
          "Ronan (Taylor's Version)",
          "Sad Beautiful Tragic",
          "Safe & Sound (Taylor's Version)",
          "Santa Baby",
          "September",
          "Should've Said No (Alternate Version)",
          "Silent Night",
          "Snow On The Beach (More Lana Del Rey)",
          "So It Goes...",
          "Starlight",
          "State Of Grace (Acoustic Version)",
          "State Of Grace (Acoustic Version) [Taylor's Version]",
          "Stay Beautiful",
          "SuperStar (Taylor's Version)",
          "Sweet Nothing (Piano Remix)",
          "Sweeter Than Fiction (Taylor's Version)",
          "Teardrops On My Guitar (Acoustic Version)",
          "Teardrops On My Guitar (Pop Version)",
          "Tell Me Why",
          "Tell Me Why (Taylor's Version)",
          "That's When (Taylor's Version) [From The Vault]",
          "The Alcott",
          "The Best Day",
          "The Best Day (Taylor's Version)",
          "the lakes",
          "The Last Time",
          "The Lucky One",
          "The Other Side Of The Door (Taylor's Version)",
          "The Outside",
          "This Is Why We Can't Have Nice Things",
          "This Love",
          "Three Sad Virgins",
          "Tied Together With A Smile",
          "Today Was A Fairytale (Taylor's Version)",
          "Treacherous",
          "Treacherous (Original Demo Recording)",
          "Untouchable (Taylor's Version)",
          "We Were Happy (Taylor's Version) [From The Vault]",
          "White Christmas",
          "White Horse (Taylor's Version)",
          "You're Not Sorry (Taylor's Version)",
          "You're On Your Own, Kid (Strings Remix)"
         ],
         "type": "scatter",
         "visible": "legendonly",
         "x": [
          25.01888656616211,
          23.508739471435547,
          -12.303322792053223,
          -20.500362396240234,
          25.860774993896484,
          -20.6591854095459,
          -11.373858451843262,
          25.87618064880371,
          25.082618713378906,
          27.13648223876953,
          1.7389699220657349,
          11.584178924560547,
          11.067380905151367,
          23.100915908813477,
          26.631790161132812,
          -21.59592628479004,
          23.41301918029785,
          19.969886779785156,
          24.61733055114746,
          -18.901161193847656,
          -11.061942100524902,
          23.566848754882812,
          -15.509403228759766,
          18.605920791625977,
          -20.541654586791992,
          -22.294559478759766,
          24.076583862304688,
          -11.025725364685059,
          -14.280824661254883,
          -13.5894193649292,
          17.59425163269043,
          -11.069792747497559,
          19.627708435058594,
          -19.646753311157227,
          -19.928966522216797,
          21.980426788330078,
          -6.835215091705322,
          -19.455514907836914,
          21.191682815551758,
          20.977611541748047,
          20.97962188720703,
          21.28389549255371,
          -17.975860595703125,
          24.207075119018555,
          0.8726277947425842,
          -6.640594482421875,
          -7.2966413497924805,
          -17.77172088623047,
          17.667753219604492,
          14.535011291503906,
          2.5339972972869873,
          -20.203407287597656,
          11.088421821594238,
          11.999846458435059,
          -16.650346755981445,
          22.235078811645508,
          26.950780868530273,
          24.569904327392578,
          26.076444625854492,
          19.208829879760742,
          11.539209365844727,
          26.3436336517334,
          -19.650938034057617,
          -14.46562385559082,
          -8.373191833496094,
          26.804664611816406,
          26.42092514038086,
          24.833599090576172,
          11.517450332641602,
          18.021778106689453,
          -19.110828399658203,
          12.292494773864746,
          12.076648712158203,
          2.349421977996826,
          2.5097293853759766,
          -21.168075561523438,
          -17.40799331665039,
          23.79335594177246,
          23.607206344604492,
          11.791694641113281,
          -18.739517211914062,
          -6.123086452484131,
          -19.818130493164062,
          24.233434677124023,
          -14.688054084777832,
          -21.788135528564453,
          -10.62318229675293,
          20.475353240966797,
          12.14864730834961,
          12.02725601196289,
          12.108235359191895,
          -20.90509605407715,
          24.509441375732422,
          25.709575653076172,
          17.822105407714844,
          1.5920659303665161,
          24.001483917236328
         ],
         "y": [
          -5.905491352081299,
          -4.756844520568848,
          2.358961820602417,
          -3.913095712661743,
          -7.38749361038208,
          6.229703426361084,
          -2.9517822265625,
          -6.769288063049316,
          -3.190330743789673,
          -6.519929885864258,
          1.724053144454956,
          2.784034490585327,
          7.020261287689209,
          2.123605966567993,
          -6.424456596374512,
          -5.959898471832275,
          -5.163094997406006,
          2.2682077884674072,
          -5.6435933113098145,
          -5.443737506866455,
          4.1376495361328125,
          -4.119742393493652,
          -3.522473096847534,
          -1.3126455545425415,
          2.9434075355529785,
          -3.581772565841675,
          -4.654439449310303,
          3.934565305709839,
          -3.65090012550354,
          -3.132430076599121,
          -1.0065165758132935,
          3.206449270248413,
          -1.4908177852630615,
          -7.095312118530273,
          5.854788303375244,
          2.3852274417877197,
          0.18683092296123505,
          -4.439154624938965,
          2.1402363777160645,
          2.1733665466308594,
          2.6341662406921387,
          2.5612757205963135,
          -4.054121017456055,
          -5.284546375274658,
          -1.042614459991455,
          -0.48584693670272827,
          -0.25097396969795227,
          3.155231237411499,
          1.2122517824172974,
          1.5395053625106812,
          -0.5796791315078735,
          6.913113594055176,
          6.89967679977417,
          4.966598987579346,
          -7.696225166320801,
          2.189403533935547,
          -6.990245819091797,
          -6.414781093597412,
          -6.36548376083374,
          -1.2653443813323975,
          2.9519314765930176,
          -7.5062055587768555,
          -6.34566593170166,
          -4.463623046875,
          3.794877052307129,
          -5.849587917327881,
          -5.874995231628418,
          -2.1133623123168945,
          7.856719017028809,
          -1.322546362876892,
          -6.890413284301758,
          3.3859639167785645,
          3.9334282875061035,
          -0.6177372932434082,
          -0.43645554780960083,
          -6.532857418060303,
          -7.566486835479736,
          2.9476137161254883,
          3.180797815322876,
          7.837594509124756,
          -7.176870346069336,
          0.21554003655910492,
          4.454207897186279,
          -5.982022285461426,
          -4.342718124389648,
          -5.132567882537842,
          -2.781083345413208,
          -2.4307172298431396,
          2.3017804622650146,
          7.536884307861328,
          7.595846652984619,
          6.745577335357666,
          -4.092658996582031,
          -7.174678802490234,
          0.8146052956581116,
          2.398237705230713,
          2.293281078338623
         ]
        },
        {
         "marker": {
          "color": "rgb(254, 254, 190)",
          "opacity": 0.7
         },
         "mode": "markers",
         "name": "70-79",
         "text": [
          "Afterglow",
          "Babe",
          "Begin Again (Taylor's Version)",
          "cowboy like me",
          "Enchanted",
          "False God",
          "Fearless (Taylor's Version)",
          "Forever Winter (Taylor's Version) [From The Vault]",
          "hoax",
          "Holy Ground (Taylor's Version)",
          "Last Kiss",
          "marjorie",
          "Renegade",
          "Superman (Taylor's Version)",
          "The Way I Loved You",
          "You Belong With Me (Taylor's Version)"
         ],
         "type": "scatter",
         "visible": "legendonly",
         "x": [
          -10.013408660888672,
          1.0233045816421509,
          10.907317161560059,
          20.187679290771484,
          0.5514543652534485,
          11.954933166503906,
          11.364622116088867,
          24.440412521362305,
          26.21058464050293,
          20.315797805786133,
          -9.003314018249512,
          20.496355056762695,
          -20.205055236816406,
          -7.648270606994629,
          11.631040573120117,
          -18.474231719970703
         ],
         "y": [
          3.591705799102783,
          1.6333500146865845,
          1.9163148403167725,
          2.6854443550109863,
          2.3766603469848633,
          6.825380325317383,
          6.340972900390625,
          2.782045841217041,
          -5.199653625488281,
          -1.8235883712768555,
          4.052852153778076,
          2.5964195728302,
          5.431983947753906,
          -0.16878728568553925,
          4.433477878570557,
          3.6406636238098145
         ]
        },
        {
         "marker": {
          "color": "rgb(230, 245, 152)",
          "opacity": 0.7
         },
         "mode": "markers",
         "name": "10-19",
         "text": [
          "All Of The Girls You Loved Before",
          "Back To December (Taylor's Version)",
          "Blank Space (Taylor's Version)",
          "Both Of Us",
          "Change",
          "Crazier",
          "Delicate",
          "Enchanted (Taylor's Version)",
          "End Game",
          "Eyes Open",
          "Gorgeous",
          "If This Was A Movie",
          "Jump Then Fall",
          "Labyrinth",
          "Love Story (Taylor's Version)",
          "Lover",
          "Mastermind",
          "Mean",
          "Mine (Taylor's Version)",
          "my tears ricochet",
          "Our Song",
          "Ours",
          "Out Of The Woods",
          "Out Of The Woods (Taylor's Version)",
          "Ronan",
          "Sparks Fly",
          "State Of Grace",
          "State Of Grace (Taylor's Version)",
          "Suburban Legends (Taylor's Version) [From The Vault]",
          "Sweet Nothing",
          "Teardrops On My Guitar",
          "the last great american dynasty",
          "Two Is Better Than One",
          "Untouchable",
          "Vigilante Shit",
          "Welcome To New York (Taylor's Version)",
          "White Horse",
          "Wildest Dreams (Taylor's Version)",
          "You're Not Sorry"
         ],
         "type": "scatter",
         "visible": "legendonly",
         "x": [
          1.5340639352798462,
          -18.553232192993164,
          -20.378271102905273,
          -10.793953895568848,
          11.467538833618164,
          25.775466918945312,
          -22.766021728515625,
          -21.57733726501465,
          -17.19584083557129,
          21.601947784423828,
          -18.852012634277344,
          -15.717806816101074,
          -6.835827350616455,
          16.82794761657715,
          -22.28081512451172,
          14.456709861755371,
          1.703292965888977,
          -21.522335052490234,
          -16.310564041137695,
          24.325288772583008,
          -9.75320053100586,
          12.20562744140625,
          -19.376930236816406,
          -19.46721076965332,
          23.236328125,
          11.546780586242676,
          25.258058547973633,
          1.563403844833374,
          18.918380737304688,
          18.331331253051758,
          12.516569137573242,
          1.9709583520889282,
          19.92572021484375,
          -20.535961151123047,
          24.96647071838379,
          -8.83055591583252,
          17.991174697875977,
          -22.86296844482422,
          1.7327827215194702
         ],
         "y": [
          -0.7831205129623413,
          -4.956475734710693,
          6.67941427230835,
          -3.0320332050323486,
          6.838220596313477,
          -5.888822078704834,
          4.9036970138549805,
          -4.0712761878967285,
          -4.8457183837890625,
          -3.3173060417175293,
          -7.304760456085205,
          -2.316269636154175,
          -0.17862924933433533,
          0.12636221945285797,
          4.781394958496094,
          1.5976511240005493,
          -1.1629778146743774,
          5.048314094543457,
          3.40828275680542,
          2.043200731277466,
          4.237757682800293,
          6.990732192993164,
          3.000838041305542,
          2.675117254257202,
          2.620478868484497,
          4.768598556518555,
          -3.6171398162841797,
          0.14661504328250885,
          -0.675508975982666,
          -0.8858075737953186,
          3.2048304080963135,
          -1.1289788484573364,
          -1.9066590070724487,
          7.047982215881348,
          -2.53151798248291,
          3.4127914905548096,
          0.9432900547981262,
          -3.7489631175994873,
          2.433469772338867
         ]
        },
        {
         "marker": {
          "color": "rgb(169, 220, 164)",
          "opacity": 0.7
         },
         "mode": "markers",
         "name": "80-89",
         "text": [
          "All Too Well",
          "Breathe",
          "closure",
          "Come Back...Be Here (Taylor's Version)",
          "Daylight",
          "Fifteen (Taylor's Version)",
          "Long Live",
          "Never Grow Up",
          "Sad Beautiful Tragic (Taylor's Version)",
          "The Lucky One (Taylor's Version)",
          "The Moment I Knew (Taylor's Version)",
          "You Are In Love"
         ],
         "type": "scatter",
         "visible": "legendonly",
         "x": [
          -12.743697166442871,
          11.807150840759277,
          21.645782470703125,
          20.250646591186523,
          -19.333683013916016,
          -12.319790840148926,
          -19.303190231323242,
          -16.483217239379883,
          27.019309997558594,
          -6.167802333831787,
          1.7760103940963745,
          -13.732283592224121
         ],
         "y": [
          2.4658844470977783,
          2.0594534873962402,
          -3.436115026473999,
          2.2516591548919678,
          -4.902587413787842,
          -2.7478461265563965,
          4.435573101043701,
          -4.085233211517334,
          -7.026496887207031,
          0.2277287393808365,
          -0.266368567943573,
          -4.213695526123047
         ]
        },
        {
         "marker": {
          "color": "rgb(102, 194, 165)",
          "opacity": 0.7
         },
         "mode": "markers",
         "name": "60-69",
         "text": [
          "Babe (Taylor's Version) [From The Vault]",
          "Carolina",
          "coney island",
          "Death By A Thousand Cuts",
          "dorothea",
          "Everything Has Changed (Taylor's Version)",
          "Forever & Always (Taylor's Version)",
          "Haunted",
          "I Almost Do",
          "Innocent (Taylor's Version)",
          "ivy",
          "London Boy",
          "long story short",
          "Ours (Taylor's Version)",
          "Soon You'll Get Better",
          "Stay Stay Stay (Taylor's Version)",
          "The Last Time (Taylor's Version)",
          "The Moment I Knew",
          "The Very First Night (Taylor's Version) [From The Vault]"
         ],
         "type": "scatter",
         "visible": "legendonly",
         "x": [
          0.6178637742996216,
          25.2305850982666,
          -1.0022903680801392,
          -19.79302978515625,
          2.912691354751587,
          -14.581941604614258,
          -22.24325180053711,
          11.138814926147461,
          14.074728965759277,
          23.287004470825195,
          -7.850844860076904,
          -11.6214017868042,
          -8.83264446258545,
          12.337179183959961,
          21.3870792388916,
          0.9407286643981934,
          -18.194494247436523,
          1.517180323600769,
          11.519939422607422
         ],
         "y": [
          1.7644503116607666,
          -3.8964529037475586,
          -0.6709194779396057,
          6.176346302032471,
          -1.3921680450439453,
          -3.633768081665039,
          -1.7956496477127075,
          3.1964526176452637,
          1.8650968074798584,
          1.6395293474197388,
          -1.097651720046997,
          1.2763422727584839,
          -1.6050469875335693,
          7.066287517547607,
          -2.844520092010498,
          1.9711648225784302,
          -7.087871551513672,
          -0.4053947329521179,
          5.841775894165039
         ]
        },
        {
         "marker": {
          "color": "rgb(50, 134, 188)",
          "opacity": 0.7
         },
         "mode": "markers",
         "name": "40-49",
         "text": [
          "betty",
          "Dear Reader",
          "Foolish One (Taylor's Version) [From The Vault]",
          "Glitch",
          "gold rush",
          "How You Get The Girl (Taylor's Version)",
          "I Knew You Were Trouble (Taylor's Version)",
          "illicit affairs",
          "mad woman",
          "Message In A Bottle (Taylor's Version) [From The Vault]",
          "Miss Americana & The Heartbreak Prince",
          "New Romantics",
          "Nothing New (Taylor's Version) [From The Vault]",
          "Paper Rings",
          "Run (Taylor's Version) [From The Vault]",
          "The Story Of Us",
          "The Story Of Us (Taylor's Version)",
          "This Love (Taylor's Version)",
          "Tim McGraw",
          "Timeless (Taylor's Version) [From The Vault]",
          "tolerate it",
          "Welcome To New York",
          "You Are In Love (Taylor's Version)"
         ],
         "type": "scatter",
         "visible": "legendonly",
         "x": [
          -20.530879974365234,
          25.746585845947266,
          -12.75794792175293,
          18.185420989990234,
          11.681785583496094,
          -20.260778427124023,
          -21.58329200744629,
          26.436939239501953,
          23.63740348815918,
          -19.965106964111328,
          -13.443687438964844,
          -12.755674362182617,
          0.9121124744415283,
          -18.751962661743164,
          -11.550259590148926,
          -11.948586463928223,
          -11.81997013092041,
          -21.202669143676758,
          -8.502391815185547,
          -16.269596099853516,
          24.213340759277344,
          -8.093070030212402,
          -13.354826927185059
         ],
         "y": [
          5.4386210441589355,
          -4.327270030975342,
          0.6104981899261475,
          -0.8153619766235352,
          5.663229942321777,
          -6.917760848999023,
          -4.616856098175049,
          -5.35788106918335,
          2.237217903137207,
          -4.967534065246582,
          2.679931163787842,
          3.1214544773101807,
          -0.6157843470573425,
          -6.077242374420166,
          2.0981199741363525,
          3.171290397644043,
          3.2620887756347656,
          -5.754333972930908,
          3.7992169857025146,
          -7.228626728057861,
          1.7304925918579102,
          3.314239025115967,
          -4.405050277709961
         ]
        },
        {
         "marker": {
          "color": "rgb(94, 79, 162)",
          "opacity": 0.7
         },
         "mode": "markers",
         "name": "90-99",
         "text": [
          "Hey Stephen",
          "It's Nice To Have A Friend",
          "Starlight (Taylor's Version)",
          "Stay Stay Stay",
          "The Way I Loved You (Taylor's Version)"
         ],
         "type": "scatter",
         "visible": "legendonly",
         "x": [
          -10.720643043518066,
          26.48418426513672,
          -19.156272888183594,
          1.263837456703186,
          11.019465446472168
         ],
         "y": [
          3.477088689804077,
          -7.147061824798584,
          5.362667083740234,
          2.05224347114563,
          3.829202651977539
         ]
        }
       ],
       "layout": {
        "hovermode": "closest",
        "legend": {
         "title": {
          "text": "Legend"
         }
        },
        "template": {
         "data": {
          "bar": [
           {
            "error_x": {
             "color": "#2a3f5f"
            },
            "error_y": {
             "color": "#2a3f5f"
            },
            "marker": {
             "line": {
              "color": "#E5ECF6",
              "width": 0.5
             },
             "pattern": {
              "fillmode": "overlay",
              "size": 10,
              "solidity": 0.2
             }
            },
            "type": "bar"
           }
          ],
          "barpolar": [
           {
            "marker": {
             "line": {
              "color": "#E5ECF6",
              "width": 0.5
             },
             "pattern": {
              "fillmode": "overlay",
              "size": 10,
              "solidity": 0.2
             }
            },
            "type": "barpolar"
           }
          ],
          "carpet": [
           {
            "aaxis": {
             "endlinecolor": "#2a3f5f",
             "gridcolor": "white",
             "linecolor": "white",
             "minorgridcolor": "white",
             "startlinecolor": "#2a3f5f"
            },
            "baxis": {
             "endlinecolor": "#2a3f5f",
             "gridcolor": "white",
             "linecolor": "white",
             "minorgridcolor": "white",
             "startlinecolor": "#2a3f5f"
            },
            "type": "carpet"
           }
          ],
          "choropleth": [
           {
            "colorbar": {
             "outlinewidth": 0,
             "ticks": ""
            },
            "type": "choropleth"
           }
          ],
          "contour": [
           {
            "colorbar": {
             "outlinewidth": 0,
             "ticks": ""
            },
            "colorscale": [
             [
              0,
              "#0d0887"
             ],
             [
              0.1111111111111111,
              "#46039f"
             ],
             [
              0.2222222222222222,
              "#7201a8"
             ],
             [
              0.3333333333333333,
              "#9c179e"
             ],
             [
              0.4444444444444444,
              "#bd3786"
             ],
             [
              0.5555555555555556,
              "#d8576b"
             ],
             [
              0.6666666666666666,
              "#ed7953"
             ],
             [
              0.7777777777777778,
              "#fb9f3a"
             ],
             [
              0.8888888888888888,
              "#fdca26"
             ],
             [
              1,
              "#f0f921"
             ]
            ],
            "type": "contour"
           }
          ],
          "contourcarpet": [
           {
            "colorbar": {
             "outlinewidth": 0,
             "ticks": ""
            },
            "type": "contourcarpet"
           }
          ],
          "heatmap": [
           {
            "colorbar": {
             "outlinewidth": 0,
             "ticks": ""
            },
            "colorscale": [
             [
              0,
              "#0d0887"
             ],
             [
              0.1111111111111111,
              "#46039f"
             ],
             [
              0.2222222222222222,
              "#7201a8"
             ],
             [
              0.3333333333333333,
              "#9c179e"
             ],
             [
              0.4444444444444444,
              "#bd3786"
             ],
             [
              0.5555555555555556,
              "#d8576b"
             ],
             [
              0.6666666666666666,
              "#ed7953"
             ],
             [
              0.7777777777777778,
              "#fb9f3a"
             ],
             [
              0.8888888888888888,
              "#fdca26"
             ],
             [
              1,
              "#f0f921"
             ]
            ],
            "type": "heatmap"
           }
          ],
          "heatmapgl": [
           {
            "colorbar": {
             "outlinewidth": 0,
             "ticks": ""
            },
            "colorscale": [
             [
              0,
              "#0d0887"
             ],
             [
              0.1111111111111111,
              "#46039f"
             ],
             [
              0.2222222222222222,
              "#7201a8"
             ],
             [
              0.3333333333333333,
              "#9c179e"
             ],
             [
              0.4444444444444444,
              "#bd3786"
             ],
             [
              0.5555555555555556,
              "#d8576b"
             ],
             [
              0.6666666666666666,
              "#ed7953"
             ],
             [
              0.7777777777777778,
              "#fb9f3a"
             ],
             [
              0.8888888888888888,
              "#fdca26"
             ],
             [
              1,
              "#f0f921"
             ]
            ],
            "type": "heatmapgl"
           }
          ],
          "histogram": [
           {
            "marker": {
             "pattern": {
              "fillmode": "overlay",
              "size": 10,
              "solidity": 0.2
             }
            },
            "type": "histogram"
           }
          ],
          "histogram2d": [
           {
            "colorbar": {
             "outlinewidth": 0,
             "ticks": ""
            },
            "colorscale": [
             [
              0,
              "#0d0887"
             ],
             [
              0.1111111111111111,
              "#46039f"
             ],
             [
              0.2222222222222222,
              "#7201a8"
             ],
             [
              0.3333333333333333,
              "#9c179e"
             ],
             [
              0.4444444444444444,
              "#bd3786"
             ],
             [
              0.5555555555555556,
              "#d8576b"
             ],
             [
              0.6666666666666666,
              "#ed7953"
             ],
             [
              0.7777777777777778,
              "#fb9f3a"
             ],
             [
              0.8888888888888888,
              "#fdca26"
             ],
             [
              1,
              "#f0f921"
             ]
            ],
            "type": "histogram2d"
           }
          ],
          "histogram2dcontour": [
           {
            "colorbar": {
             "outlinewidth": 0,
             "ticks": ""
            },
            "colorscale": [
             [
              0,
              "#0d0887"
             ],
             [
              0.1111111111111111,
              "#46039f"
             ],
             [
              0.2222222222222222,
              "#7201a8"
             ],
             [
              0.3333333333333333,
              "#9c179e"
             ],
             [
              0.4444444444444444,
              "#bd3786"
             ],
             [
              0.5555555555555556,
              "#d8576b"
             ],
             [
              0.6666666666666666,
              "#ed7953"
             ],
             [
              0.7777777777777778,
              "#fb9f3a"
             ],
             [
              0.8888888888888888,
              "#fdca26"
             ],
             [
              1,
              "#f0f921"
             ]
            ],
            "type": "histogram2dcontour"
           }
          ],
          "mesh3d": [
           {
            "colorbar": {
             "outlinewidth": 0,
             "ticks": ""
            },
            "type": "mesh3d"
           }
          ],
          "parcoords": [
           {
            "line": {
             "colorbar": {
              "outlinewidth": 0,
              "ticks": ""
             }
            },
            "type": "parcoords"
           }
          ],
          "pie": [
           {
            "automargin": true,
            "type": "pie"
           }
          ],
          "scatter": [
           {
            "fillpattern": {
             "fillmode": "overlay",
             "size": 10,
             "solidity": 0.2
            },
            "type": "scatter"
           }
          ],
          "scatter3d": [
           {
            "line": {
             "colorbar": {
              "outlinewidth": 0,
              "ticks": ""
             }
            },
            "marker": {
             "colorbar": {
              "outlinewidth": 0,
              "ticks": ""
             }
            },
            "type": "scatter3d"
           }
          ],
          "scattercarpet": [
           {
            "marker": {
             "colorbar": {
              "outlinewidth": 0,
              "ticks": ""
             }
            },
            "type": "scattercarpet"
           }
          ],
          "scattergeo": [
           {
            "marker": {
             "colorbar": {
              "outlinewidth": 0,
              "ticks": ""
             }
            },
            "type": "scattergeo"
           }
          ],
          "scattergl": [
           {
            "marker": {
             "colorbar": {
              "outlinewidth": 0,
              "ticks": ""
             }
            },
            "type": "scattergl"
           }
          ],
          "scattermapbox": [
           {
            "marker": {
             "colorbar": {
              "outlinewidth": 0,
              "ticks": ""
             }
            },
            "type": "scattermapbox"
           }
          ],
          "scatterpolar": [
           {
            "marker": {
             "colorbar": {
              "outlinewidth": 0,
              "ticks": ""
             }
            },
            "type": "scatterpolar"
           }
          ],
          "scatterpolargl": [
           {
            "marker": {
             "colorbar": {
              "outlinewidth": 0,
              "ticks": ""
             }
            },
            "type": "scatterpolargl"
           }
          ],
          "scatterternary": [
           {
            "marker": {
             "colorbar": {
              "outlinewidth": 0,
              "ticks": ""
             }
            },
            "type": "scatterternary"
           }
          ],
          "surface": [
           {
            "colorbar": {
             "outlinewidth": 0,
             "ticks": ""
            },
            "colorscale": [
             [
              0,
              "#0d0887"
             ],
             [
              0.1111111111111111,
              "#46039f"
             ],
             [
              0.2222222222222222,
              "#7201a8"
             ],
             [
              0.3333333333333333,
              "#9c179e"
             ],
             [
              0.4444444444444444,
              "#bd3786"
             ],
             [
              0.5555555555555556,
              "#d8576b"
             ],
             [
              0.6666666666666666,
              "#ed7953"
             ],
             [
              0.7777777777777778,
              "#fb9f3a"
             ],
             [
              0.8888888888888888,
              "#fdca26"
             ],
             [
              1,
              "#f0f921"
             ]
            ],
            "type": "surface"
           }
          ],
          "table": [
           {
            "cells": {
             "fill": {
              "color": "#EBF0F8"
             },
             "line": {
              "color": "white"
             }
            },
            "header": {
             "fill": {
              "color": "#C8D4E3"
             },
             "line": {
              "color": "white"
             }
            },
            "type": "table"
           }
          ]
         },
         "layout": {
          "annotationdefaults": {
           "arrowcolor": "#2a3f5f",
           "arrowhead": 0,
           "arrowwidth": 1
          },
          "autotypenumbers": "strict",
          "coloraxis": {
           "colorbar": {
            "outlinewidth": 0,
            "ticks": ""
           }
          },
          "colorscale": {
           "diverging": [
            [
             0,
             "#8e0152"
            ],
            [
             0.1,
             "#c51b7d"
            ],
            [
             0.2,
             "#de77ae"
            ],
            [
             0.3,
             "#f1b6da"
            ],
            [
             0.4,
             "#fde0ef"
            ],
            [
             0.5,
             "#f7f7f7"
            ],
            [
             0.6,
             "#e6f5d0"
            ],
            [
             0.7,
             "#b8e186"
            ],
            [
             0.8,
             "#7fbc41"
            ],
            [
             0.9,
             "#4d9221"
            ],
            [
             1,
             "#276419"
            ]
           ],
           "sequential": [
            [
             0,
             "#0d0887"
            ],
            [
             0.1111111111111111,
             "#46039f"
            ],
            [
             0.2222222222222222,
             "#7201a8"
            ],
            [
             0.3333333333333333,
             "#9c179e"
            ],
            [
             0.4444444444444444,
             "#bd3786"
            ],
            [
             0.5555555555555556,
             "#d8576b"
            ],
            [
             0.6666666666666666,
             "#ed7953"
            ],
            [
             0.7777777777777778,
             "#fb9f3a"
            ],
            [
             0.8888888888888888,
             "#fdca26"
            ],
            [
             1,
             "#f0f921"
            ]
           ],
           "sequentialminus": [
            [
             0,
             "#0d0887"
            ],
            [
             0.1111111111111111,
             "#46039f"
            ],
            [
             0.2222222222222222,
             "#7201a8"
            ],
            [
             0.3333333333333333,
             "#9c179e"
            ],
            [
             0.4444444444444444,
             "#bd3786"
            ],
            [
             0.5555555555555556,
             "#d8576b"
            ],
            [
             0.6666666666666666,
             "#ed7953"
            ],
            [
             0.7777777777777778,
             "#fb9f3a"
            ],
            [
             0.8888888888888888,
             "#fdca26"
            ],
            [
             1,
             "#f0f921"
            ]
           ]
          },
          "colorway": [
           "#636efa",
           "#EF553B",
           "#00cc96",
           "#ab63fa",
           "#FFA15A",
           "#19d3f3",
           "#FF6692",
           "#B6E880",
           "#FF97FF",
           "#FECB52"
          ],
          "font": {
           "color": "#2a3f5f"
          },
          "geo": {
           "bgcolor": "white",
           "lakecolor": "white",
           "landcolor": "#E5ECF6",
           "showlakes": true,
           "showland": true,
           "subunitcolor": "white"
          },
          "hoverlabel": {
           "align": "left"
          },
          "hovermode": "closest",
          "mapbox": {
           "style": "light"
          },
          "paper_bgcolor": "white",
          "plot_bgcolor": "#E5ECF6",
          "polar": {
           "angularaxis": {
            "gridcolor": "white",
            "linecolor": "white",
            "ticks": ""
           },
           "bgcolor": "#E5ECF6",
           "radialaxis": {
            "gridcolor": "white",
            "linecolor": "white",
            "ticks": ""
           }
          },
          "scene": {
           "xaxis": {
            "backgroundcolor": "#E5ECF6",
            "gridcolor": "white",
            "gridwidth": 2,
            "linecolor": "white",
            "showbackground": true,
            "ticks": "",
            "zerolinecolor": "white"
           },
           "yaxis": {
            "backgroundcolor": "#E5ECF6",
            "gridcolor": "white",
            "gridwidth": 2,
            "linecolor": "white",
            "showbackground": true,
            "ticks": "",
            "zerolinecolor": "white"
           },
           "zaxis": {
            "backgroundcolor": "#E5ECF6",
            "gridcolor": "white",
            "gridwidth": 2,
            "linecolor": "white",
            "showbackground": true,
            "ticks": "",
            "zerolinecolor": "white"
           }
          },
          "shapedefaults": {
           "line": {
            "color": "#2a3f5f"
           }
          },
          "ternary": {
           "aaxis": {
            "gridcolor": "white",
            "linecolor": "white",
            "ticks": ""
           },
           "baxis": {
            "gridcolor": "white",
            "linecolor": "white",
            "ticks": ""
           },
           "bgcolor": "#E5ECF6",
           "caxis": {
            "gridcolor": "white",
            "linecolor": "white",
            "ticks": ""
           }
          },
          "title": {
           "x": 0.05
          },
          "xaxis": {
           "automargin": true,
           "gridcolor": "white",
           "linecolor": "white",
           "ticks": "",
           "title": {
            "standoff": 15
           },
           "zerolinecolor": "white",
           "zerolinewidth": 2
          },
          "yaxis": {
           "automargin": true,
           "gridcolor": "white",
           "linecolor": "white",
           "ticks": "",
           "title": {
            "standoff": 15
           },
           "zerolinecolor": "white",
           "zerolinewidth": 2
          }
         }
        },
        "title": {
         "text": "Interactive Plot of Song Embeddings"
        },
        "xaxis": {
         "title": {
          "text": "TSNE 1"
         }
        },
        "yaxis": {
         "title": {
          "text": "TSNE 2"
         }
        }
       }
      }
     },
     "metadata": {},
     "output_type": "display_data"
    }
   ],
   "source": [
    "# Reducing with TSNE down to two dimensions to see if we can visually assess any separation?\n",
    "tsne = TSNE(n_components=2, random_state=256)\n",
    "embeddings_tsne_2d = tsne.fit_transform(reduced_UMAP)\n",
    "\n",
    "plot_embeddings_interactive(embeddings_tsne_2d)"
   ]
  },
  {
   "cell_type": "code",
   "execution_count": 7,
   "metadata": {},
   "outputs": [],
   "source": [
    "k = 15\n",
    "kmeans = KMeans(n_clusters=k, random_state=256, n_init=10).fit(embeddings)\n",
    "lyrics['cluster_assignment'] = kmeans.labels_"
   ]
  },
  {
   "cell_type": "code",
   "execution_count": 8,
   "metadata": {},
   "outputs": [
    {
     "name": "stdout",
     "output_type": "stream",
     "text": [
      "Cluster 0: 41 members (12.54%)\n",
      "Cluster 1: 26 members (7.95%)\n",
      "Cluster 2: 9 members (2.75%)\n",
      "Cluster 3: 26 members (7.95%)\n",
      "Cluster 4: 5 members (1.53%)\n",
      "Cluster 5: 28 members (8.56%)\n",
      "Cluster 6: 21 members (6.42%)\n",
      "Cluster 7: 20 members (6.12%)\n",
      "Cluster 8: 34 members (10.40%)\n",
      "Cluster 9: 24 members (7.34%)\n",
      "Cluster 10: 31 members (9.48%)\n",
      "Cluster 11: 9 members (2.75%)\n",
      "Cluster 12: 20 members (6.12%)\n",
      "Cluster 13: 7 members (2.14%)\n",
      "Cluster 14: 26 members (7.95%)\n"
     ]
    },
    {
     "data": {
      "image/png": "[encoded data removed]",
      "text/plain": [
       "<Figure size 1000x600 with 1 Axes>"
      ]
     },
     "metadata": {},
     "output_type": "display_data"
    }
   ],
   "source": [
    "cluster_sizes = Counter(lyrics['cluster_assignment'])\n",
    "\n",
    "sorted_cluster_sizes = dict(sorted(cluster_sizes.items()))\n",
    "\n",
    "total_items = sum(sorted_cluster_sizes.values())\n",
    "for label, size in sorted_cluster_sizes.items():\n",
    "    percentage = (size / total_items) * 100\n",
    "    print(f\"Cluster {label}: {size} members ({percentage:.2f}%)\")\n",
    "\n",
    "labels, sizes = zip(*sorted(cluster_sizes.items()))\n",
    "\n",
    "plt.figure(figsize=(10, 6))\n",
    "plt.bar(labels, sizes, color='skyblue')\n",
    "plt.title('Distribution of Cluster Sizes')\n",
    "plt.xlabel('Cluster Number')\n",
    "plt.ylabel('Size')\n",
    "plt.xticks(labels)\n",
    "plt.show()"
   ]
  },
  {
   "cell_type": "code",
   "execution_count": 11,
   "metadata": {},
   "outputs": [
    {
     "data": {
      "image/png": "[encoded data removed]",
      "text/plain": [
       "<Figure size 1200x600 with 1 Axes>"
      ]
     },
     "metadata": {},
     "output_type": "display_data"
    },
    {
     "data": {
      "image/png": "[encoded data removed]",
      "text/plain": [
       "<Figure size 1200x600 with 1 Axes>"
      ]
     },
     "metadata": {},
     "output_type": "display_data"
    }
   ],
   "source": [
    "c = 5\n",
    "cluster = lyrics[lyrics[\"cluster_assignment\"] == c].copy()\n",
    "\n",
    "plt.figure(figsize=(12, 6))\n",
    "album_name_counts = cluster['album_name'].value_counts()\n",
    "plt.bar(album_name_counts.index, album_name_counts.values)\n",
    "plt.xlabel('Album Name')\n",
    "plt.ylabel('Frequency')\n",
    "plt.title('Distribution of Album Names in Cluster')\n",
    "plt.xticks(rotation=45)\n",
    "plt.tight_layout()\n",
    "plt.show()\n",
    "\n",
    "plt.figure(figsize=(12, 6))\n",
    "\n",
    "# Handling NaN values by categorizing them as >100\n",
    "peak_pos_counts = cluster['peak_pos_bucketed'].value_counts().sort_index()\n",
    "\n",
    "plt.bar(peak_pos_counts.index, peak_pos_counts.values)\n",
    "plt.xlabel('Peak Position Bucket')\n",
    "plt.ylabel('Frequency')\n",
    "plt.title('Distribution of Peak Positions in Cluster')\n",
    "plt.xticks(rotation=45)\n",
    "plt.tight_layout()\n",
    "plt.show()"
   ]
  },
  {
   "cell_type": "code",
   "execution_count": 15,
   "metadata": {},
   "outputs": [
    {
     "data": {
      "image/png": "[encoded data removed]",
      "text/plain": [
       "<Figure size 2400x600 with 2 Axes>"
      ]
     },
     "metadata": {},
     "output_type": "display_data"
    }
   ],
   "source": [
    "fig, ax = plt.subplots(1, 2, figsize=(24, 6))\n",
    "\n",
    "# Distribution of Album Names\n",
    "album_name_counts = lyrics['album_name'].value_counts()\n",
    "ax[0].bar(album_name_counts.index, album_name_counts.values, color='skyblue')\n",
    "ax[0].set_xlabel('Album Name')\n",
    "ax[0].set_ylabel('Frequency')\n",
    "ax[0].set_title('Distribution of Album Names')\n",
    "ax[0].tick_params(axis='x', rotation=90)\n",
    "\n",
    "# Distribution of Peak Position Buckets\n",
    "peak_pos_counts = lyrics['peak_pos_bucketed'].value_counts().sort_index()\n",
    "ax[1].bar(peak_pos_counts.index, peak_pos_counts.values, color='coral')\n",
    "ax[1].set_xlabel('Peak Position Bucket')\n",
    "ax[1].set_ylabel('Frequency')\n",
    "ax[1].set_title('Distribution of Peak Positions')\n",
    "ax[1].tick_params(axis='x', rotation=45)\n",
    "\n",
    "plt.tight_layout()\n",
    "plt.show()\n"
   ]
  },
  {
   "cell_type": "code",
   "execution_count": 10,
   "metadata": {},
   "outputs": [],
   "source": [
    "# Convert latent embedding to something that is readable when we load the csv\n",
    "#lyrics['latent_embedding'] = lyrics['latent_embedding'].apply(lambda x: [t.item() for t in x[0]])\n",
    "# No need to run the above line again unless you re-encode the songs\n",
    "# lyrics.to_csv(\"../data/lyrics.csv\", index=False)"
   ]
  }
 ],
 "metadata": {
  "kernelspec": {
   "display_name": "Python 3",
   "language": "python",
   "name": "python3"
  },
  "language_info": {
   "codemirror_mode": {
    "name": "ipython",
    "version": 3
   },
   "file_extension": ".py",
   "mimetype": "text/x-python",
   "name": "python",
   "nbconvert_exporter": "python",
   "pygments_lexer": "ipython3",
   "version": "3.10.2"
  }
 },
 "nbformat": 4,
 "nbformat_minor": 2
}
