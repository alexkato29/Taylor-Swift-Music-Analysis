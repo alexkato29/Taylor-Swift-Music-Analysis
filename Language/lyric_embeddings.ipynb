{
 "cells": [
  {
   "cell_type": "code",
   "execution_count": 30,
   "metadata": {},
   "outputs": [],
   "source": [
    "import numpy as np\n",
    "import pandas as pd\n",
    "import matplotlib.pyplot as plt\n",
    "\n",
    "import torch\n",
    "\n",
    "from transformers import BertTokenizer, BertModel\n",
    "from transformers import AutoTokenizer, AutoModelWithLMHead\n",
    "\n",
    "from sklearn.cluster import KMeans\n",
    "\n",
    "from sklearn.manifold import TSNE\n",
    "from sklearn.decomposition import PCA"
   ]
  },
  {
   "cell_type": "code",
   "execution_count": 2,
   "metadata": {},
   "outputs": [
    {
     "data": {
      "text/html": [
       "<div>\n",
       "<style scoped>\n",
       "    .dataframe tbody tr th:only-of-type {\n",
       "        vertical-align: middle;\n",
       "    }\n",
       "\n",
       "    .dataframe tbody tr th {\n",
       "        vertical-align: top;\n",
       "    }\n",
       "\n",
       "    .dataframe thead th {\n",
       "        text-align: right;\n",
       "    }\n",
       "</style>\n",
       "<table border=\"1\" class=\"dataframe\">\n",
       "  <thead>\n",
       "    <tr style=\"text-align: right;\">\n",
       "      <th></th>\n",
       "      <th>track_name</th>\n",
       "      <th>peak_pos</th>\n",
       "      <th>album_name</th>\n",
       "      <th>lyrics</th>\n",
       "      <th>peak_pos_bucketed</th>\n",
       "    </tr>\n",
       "  </thead>\n",
       "  <tbody>\n",
       "    <tr>\n",
       "      <th>0</th>\n",
       "      <td>...Ready For It?</td>\n",
       "      <td>4.0</td>\n",
       "      <td>reputation</td>\n",
       "      <td>knew he was a killer first time that i saw him...</td>\n",
       "      <td>0-9</td>\n",
       "    </tr>\n",
       "    <tr>\n",
       "      <th>1</th>\n",
       "      <td>'tis the damn season</td>\n",
       "      <td>39.0</td>\n",
       "      <td>evermore</td>\n",
       "      <td>if i wanted to know who you were hanging with ...</td>\n",
       "      <td>30-39</td>\n",
       "    </tr>\n",
       "    <tr>\n",
       "      <th>2</th>\n",
       "      <td>\"Slut!\" (Taylor's Version) [From The Vault]</td>\n",
       "      <td>3.0</td>\n",
       "      <td>1989 (Taylor's Version)</td>\n",
       "      <td>flamingo pink, sunrise boulevard clink, clink,...</td>\n",
       "      <td>0-9</td>\n",
       "    </tr>\n",
       "    <tr>\n",
       "      <th>3</th>\n",
       "      <td>22</td>\n",
       "      <td>20.0</td>\n",
       "      <td>Red</td>\n",
       "      <td>it feels like a perfect night to dress up like...</td>\n",
       "      <td>20-29</td>\n",
       "    </tr>\n",
       "    <tr>\n",
       "      <th>4</th>\n",
       "      <td>22 (Taylor's Version)</td>\n",
       "      <td>52.0</td>\n",
       "      <td>Red (Taylor's Version)</td>\n",
       "      <td>it feels like a perfect night to dress up like...</td>\n",
       "      <td>50-59</td>\n",
       "    </tr>\n",
       "  </tbody>\n",
       "</table>\n",
       "</div>"
      ],
      "text/plain": [
       "                                    track_name  peak_pos  \\\n",
       "0                             ...Ready For It?       4.0   \n",
       "1                         'tis the damn season      39.0   \n",
       "2  \"Slut!\" (Taylor's Version) [From The Vault]       3.0   \n",
       "3                                           22      20.0   \n",
       "4                        22 (Taylor's Version)      52.0   \n",
       "\n",
       "                album_name                                             lyrics  \\\n",
       "0               reputation  knew he was a killer first time that i saw him...   \n",
       "1                 evermore  if i wanted to know who you were hanging with ...   \n",
       "2  1989 (Taylor's Version)  flamingo pink, sunrise boulevard clink, clink,...   \n",
       "3                      Red  it feels like a perfect night to dress up like...   \n",
       "4   Red (Taylor's Version)  it feels like a perfect night to dress up like...   \n",
       "\n",
       "  peak_pos_bucketed  \n",
       "0               0-9  \n",
       "1             30-39  \n",
       "2               0-9  \n",
       "3             20-29  \n",
       "4             50-59  "
      ]
     },
     "execution_count": 2,
     "metadata": {},
     "output_type": "execute_result"
    }
   ],
   "source": [
    "lyrics = pd.read_csv(\"../data/full.csv\")\n",
    "\n",
    "to_keep = [\"track_name\", \"peak_pos\", \"album_name\", \"lyrics\"]\n",
    "\n",
    "lyrics = lyrics[to_keep]\n",
    "lyrics['peak_pos_bucketed'] = lyrics['peak_pos'].apply(lambda x: '>100' if pd.isna(x) else str(int(x//10)*10) + '-' + str(int(x//10)*10 + 9))\n",
    "lyrics.head()"
   ]
  },
  {
   "cell_type": "code",
   "execution_count": 39,
   "metadata": {},
   "outputs": [],
   "source": [
    "# BERT for now, but I don't think it works too well\n",
    "\"\"\"tokenizer = BertTokenizer.from_pretrained('bert-base-uncased')\n",
    "model = BertModel.from_pretrained('bert-base-uncased')\"\"\"\n",
    "\n",
    "\n",
    "#This can be another model\n",
    "tokenizer = AutoTokenizer.from_pretrained(\"huggingartists/taylor-swift\")\n",
    "model = AutoModelWithLMHead.from_pretrained(\"huggingartists/taylor-swift\")\n",
    "\n",
    "# This tokenizer doesn't have a padding token by default...\n",
    "tokenizer.pad_token = tokenizer.eos_token\n",
    "\n",
    "\n",
    "def encode_text(text):\n",
    "    inputs = tokenizer(text, return_tensors='pt', max_length=512, truncation=True, padding='max_length')\n",
    "    \n",
    "    with torch.no_grad(): \n",
    "        outputs = model(**inputs, output_hidden_states=True)\n",
    "\n",
    "    embeddings = outputs.hidden_states[-1].mean(dim=1)\n",
    "    #embeddings = outputs.last_hidden_state.mean(dim=1)\n",
    "    return embeddings"
   ]
  },
  {
   "cell_type": "code",
   "execution_count": 40,
   "metadata": {},
   "outputs": [],
   "source": [
    "# https://huggingface.co/huggingartists/taylor-swift\n",
    "lyrics['latent_embedding'] = lyrics['lyrics'].apply(lambda x: encode_text(x))"
   ]
  },
  {
   "cell_type": "code",
   "execution_count": 41,
   "metadata": {},
   "outputs": [],
   "source": [
    "embeddings = np.array([embedding.flatten() for embedding in lyrics['latent_embedding']])\n",
    "\n",
    "# Reducing with TSNE down to two dimensions to see if we can visually assess any separation?\n",
    "tsne = TSNE(n_components=2, random_state=256)\n",
    "embeddings_2d = tsne.fit_transform(embeddings)"
   ]
  },
  {
   "cell_type": "code",
   "execution_count": 42,
   "metadata": {},
   "outputs": [
    {
     "data": {
      "application/vnd.plotly.v1+json": {
       "config": {
        "plotlyServerURL": "https://plot.ly"
       },
       "data": [
        {
         "marker": {
          "color": "rgb(127, 0, 255)",
          "opacity": 0.7
         },
         "mode": "markers",
         "name": "reputation",
         "text": [
          "...Ready For It?",
          "Call It What You Want",
          "Dancing With Our Hands Tied",
          "Delicate",
          "Don't Blame Me",
          "Dress",
          "End Game",
          "Getaway Car",
          "Gorgeous",
          "I Did Something Bad",
          "King Of My Heart",
          "Look What You Made Me Do",
          "New Year's Day",
          "So It Goes...",
          "This Is Why We Can't Have Nice Things"
         ],
         "type": "scatter",
         "x": [
          -13.96687126159668,
          -9.5643310546875,
          -18.63218116760254,
          -25.563066482543945,
          -11.470067977905273,
          -13.442172050476074,
          -16.521913528442383,
          -10.725234031677246,
          -19.432411193847656,
          -16.218563079833984,
          -15.475445747375488,
          -20.526430130004883,
          -14.472030639648438,
          -12.637673377990723,
          -11.75946044921875
         ],
         "y": [
          2.072885036468506,
          -8.434650421142578,
          -6.282413482666016,
          5.491937160491943,
          5.750568866729736,
          -3.7886734008789062,
          -5.553089141845703,
          7.6168951988220215,
          -9.179868698120117,
          7.894512176513672,
          2.3705575466156006,
          8.67463207244873,
          11.721755027770996,
          -5.929756164550781,
          -6.310898303985596
         ]
        },
        {
         "marker": {
          "color": "rgb(95, 49, 253)",
          "opacity": 0.7
         },
         "mode": "markers",
         "name": "evermore",
         "text": [
          "'tis the damn season",
          "champagne problems",
          "closure",
          "coney island",
          "cowboy like me",
          "dorothea",
          "evermore",
          "gold rush",
          "happiness",
          "it's time to go",
          "ivy",
          "long story short",
          "marjorie",
          "no body, no crime",
          "right where you left me",
          "tolerate it",
          "willow"
         ],
         "type": "scatter",
         "x": [
          -6.184904098510742,
          21.98655128479004,
          18.24493408203125,
          0.10381174087524414,
          15.025829315185547,
          9.043233871459961,
          3.6716036796569824,
          11.57900333404541,
          -14.409775733947754,
          4.719018459320068,
          -3.6111626625061035,
          -4.629549980163574,
          15.7567720413208,
          -4.355708599090576,
          -13.914044380187988,
          20.51888084411621,
          -14.756387710571289
         ],
         "y": [
          -6.85329532623291,
          2.9247684478759766,
          -5.48410177230835,
          -7.069079875946045,
          4.7088704109191895,
          -3.373126983642578,
          -7.525794982910156,
          7.436535358428955,
          -11.100422859191895,
          -6.6949615478515625,
          -5.070381164550781,
          -5.697549343109131,
          3.0525410175323486,
          -6.723652362823486,
          -12.17167854309082,
          2.5472538471221924,
          4.936916351318359
         ]
        },
        {
         "marker": {
          "color": "rgb(63, 97, 250)",
          "opacity": 0.7
         },
         "mode": "markers",
         "name": "1989 (Taylor's Version)",
         "text": [
          "\"Slut!\" (Taylor's Version) [From The Vault]",
          "All You Had To Do Was Stay (Taylor's Version)",
          "Bad Blood (Remix) [Taylor's Version]",
          "Bad Blood (Taylor's Version)",
          "Blank Space (Taylor's Version)",
          "Clean (Taylor's Version)",
          "How You Get The Girl (Taylor's Version)",
          "I Know Places (Taylor's Version)",
          "I Wish You Would (Taylor's Version)",
          "Is It Over Now? (Taylor's Version) [From The Vault]",
          "New Romantics (Taylor's Version)",
          "Now That We Don't Talk (Taylor's Version) [From The Vault]",
          "Out Of The Woods (Taylor's Version)",
          "Say Don't Go (Taylor's Version) [From The Vault]",
          "Shake It Off (Taylor's Version)",
          "Style (Taylor's Version)",
          "Suburban Legends (Taylor's Version) [From The Vault]",
          "Sweeter Than Fiction (Taylor's Version)",
          "This Love (Taylor's Version)",
          "Welcome To New York (Taylor's Version)",
          "Wildest Dreams (Taylor's Version)",
          "Wonderland (Taylor's Version)",
          "You Are In Love (Taylor's Version)"
         ],
         "type": "scatter",
         "x": [
          -1.1478368043899536,
          -20.295408248901367,
          -15.919255256652832,
          -18.74371910095215,
          -17.70148277282715,
          -0.524262011051178,
          -22.72538185119629,
          -2.0029637813568115,
          -19.334102630615234,
          -14.347182273864746,
          -12.6002779006958,
          22.223485946655273,
          -19.546281814575195,
          -24.65374755859375,
          -24.656051635742188,
          -8.00804328918457,
          14.217387199401855,
          -19.274944305419922,
          -22.16693687438965,
          -4.532735347747803,
          -24.992910385131836,
          -12.781625747680664,
          -11.488168716430664
         ],
         "y": [
          -6.504011154174805,
          -2.0956273078918457,
          -9.706761360168457,
          9.067411422729492,
          12.19994068145752,
          6.286645889282227,
          -9.250181198120117,
          -4.328349590301514,
          -3.3116002082824707,
          -7.4508280754089355,
          3.4304447174072266,
          1.9766629934310913,
          1.8489394187927246,
          -5.204229354858398,
          5.039580821990967,
          4.979703426361084,
          -2.0557172298431396,
          -8.031196594238281,
          -5.91369104385376,
          8.91214370727539,
          -0.5144668221473694,
          -2.1054747104644775,
          -8.436948776245117
         ]
        },
        {
         "marker": {
          "color": "rgb(31, 142, 243)",
          "opacity": 0.7
         },
         "mode": "markers",
         "name": "Red",
         "text": [
          "22",
          "All Too Well",
          "Begin Again",
          "Come Back...Be Here",
          "Everything Has Changed",
          "Girl At Home",
          "Holy Ground",
          "I Almost Do",
          "I Knew You Were Trouble",
          "Red",
          "Red (Original Demo Recording)",
          "Sad Beautiful Tragic",
          "Starlight",
          "State Of Grace",
          "State Of Grace (Acoustic Version)",
          "Stay Stay Stay",
          "The Last Time",
          "The Lucky One",
          "The Moment I Knew",
          "Treacherous",
          "Treacherous (Original Demo Recording)",
          "We Are Never Ever Getting Back Together"
         ],
         "type": "scatter",
         "x": [
          -24.35370635986328,
          -10.475488662719727,
          10.019433975219727,
          14.538352966308594,
          -12.193547248840332,
          -10.821736335754395,
          15.543904304504395,
          6.404295921325684,
          -22.146833419799805,
          1.15481698513031,
          9.853874206542969,
          30.49517059326172,
          -4.8348565101623535,
          24.834091186523438,
          27.362104415893555,
          1.0535447597503662,
          -18.508346557617188,
          0.3537950813770294,
          3.990342617034912,
          21.775053024291992,
          21.03679847717285,
          -25.994400024414062
         ],
         "y": [
          -2.007286787033081,
          1.151743769645691,
          2.5967299938201904,
          3.2526543140411377,
          -4.182620525360107,
          -4.580749988555908,
          -2.2086613178253174,
          11.305285453796387,
          -3.7355363368988037,
          6.2470808029174805,
          9.96467113494873,
          -2.9667909145355225,
          6.790400981903076,
          -0.548416256904602,
          -2.4626379013061523,
          4.526439189910889,
          -10.858075141906738,
          -1.1889041662216187,
          -3.2762300968170166,
          -9.14859676361084,
          -9.489431381225586,
          1.4926631450653076
         ]
        },
        {
         "marker": {
          "color": "rgb(0, 180, 235)",
          "opacity": 0.7
         },
         "mode": "markers",
         "name": "Red (Taylor's Version)",
         "text": [
          "22 (Taylor's Version)",
          "All Too Well (10 Minute Version) [Taylor's Version] [From The Vault]",
          "All Too Well (Taylor's Version)",
          "Babe (Taylor's Version) [From The Vault]",
          "Begin Again (Taylor's Version)",
          "Better Man (Taylor's Version) [From The Vault]",
          "Come Back...Be Here (Taylor's Version)",
          "Everything Has Changed (Taylor's Version)",
          "Forever Winter (Taylor's Version) [From The Vault]",
          "Girl At Home (Taylor's Version)",
          "Holy Ground (Taylor's Version)",
          "I Almost Do (Taylor's Version)",
          "I Bet You Think About Me (Taylor's Version) [From The Vault]",
          "I Knew You Were Trouble (Taylor's Version)",
          "Message In A Bottle (Taylor's Version) [From The Vault]",
          "Nothing New (Taylor's Version) [From The Vault]",
          "Red (Taylor's Version)",
          "Ronan (Taylor's Version)",
          "Run (Taylor's Version) [From The Vault]",
          "Sad Beautiful Tragic (Taylor's Version)",
          "Starlight (Taylor's Version)",
          "State Of Grace (Acoustic Version) [Taylor's Version]",
          "State Of Grace (Taylor's Version)",
          "Stay Stay Stay (Taylor's Version)",
          "The Last Time (Taylor's Version)",
          "The Lucky One (Taylor's Version)",
          "The Moment I Knew (Taylor's Version)",
          "The Very First Night (Taylor's Version) [From The Vault]",
          "Treacherous (Taylor's Version)",
          "We Are Never Ever Getting Back Together (Taylor's Version)"
         ],
         "type": "scatter",
         "x": [
          -23.916797637939453,
          -9.316839218139648,
          -10.48218822479248,
          0.46648719906806946,
          10.06200122833252,
          -10.503865242004395,
          14.621448516845703,
          -12.1555757522583,
          21.62668800354004,
          -9.633068084716797,
          17.22992706298828,
          6.456071376800537,
          -7.7476677894592285,
          -22.531352996826172,
          -20.00947380065918,
          3.215625762939453,
          -25.693666458129883,
          17.33936882019043,
          -7.692573070526123,
          29.954885482788086,
          -15.092616081237793,
          26.539091110229492,
          6.0984787940979,
          1.002246379852295,
          -18.340839385986328,
          0.11748218536376953,
          4.312609672546387,
          12.902685165405273,
          21.715431213378906,
          -25.994400024414062
         ],
         "y": [
          -1.471098780632019,
          1.3299757242202759,
          1.2188847064971924,
          2.6717591285705566,
          2.655336380004883,
          -0.8409651517868042,
          2.840470314025879,
          -4.404942035675049,
          6.059159278869629,
          -4.040533065795898,
          -1.3141919374465942,
          11.334531784057617,
          -9.529739379882812,
          -3.8611409664154053,
          -3.9737589359283447,
          -4.82142972946167,
          -4.044941425323486,
          3.6359641551971436,
          0.29842185974121094,
          -2.3207240104675293,
          6.461321830749512,
          -2.746779203414917,
          -2.6801652908325195,
          4.533327102661133,
          -10.964750289916992,
          -1.2138762474060059,
          -3.032761335372925,
          8.71943473815918,
          -9.7872896194458,
          1.4926631450653076
         ]
        },
        {
         "marker": {
          "color": "rgb(32, 212, 224)",
          "opacity": 0.7
         },
         "mode": "markers",
         "name": "Taylor Swift",
         "text": [
          "A Perfectly Good Heart",
          "A Place In This World",
          "Cold As You",
          "I'm Only Me When I'm With You",
          "I'm Only Me When I'm With You",
          "Invisible",
          "Mary's Song (Oh My My My)",
          "Our Song",
          "Picture To Burn",
          "Should've Said No",
          "Stay Beautiful",
          "Teardrops On My Guitar",
          "Teardrops On My Guitar (Pop Version)",
          "The Outside",
          "Tied Together With A Smile",
          "Tim McGraw"
         ],
         "type": "scatter",
         "x": [
          25.763381958007812,
          21.867387771606445,
          20.94663429260254,
          17.23997688293457,
          16.420753479003906,
          23.639657974243164,
          5.404781818389893,
          -7.478065013885498,
          20.268388748168945,
          2.0156688690185547,
          22.015695571899414,
          7.520346164703369,
          8.756524085998535,
          24.17970848083496,
          17.789491653442383,
          -4.4842119216918945
         ],
         "y": [
          -5.533117294311523,
          -3.9493179321289062,
          -4.73970365524292,
          1.3033615350723267,
          1.287091851234436,
          -4.552435398101807,
          -0.20865792036056519,
          6.927269458770752,
          -10.58785629272461,
          4.787115573883057,
          0.31818491220474243,
          9.388043403625488,
          9.312583923339844,
          -5.522275924682617,
          -3.7301034927368164,
          5.736354827880859
         ]
        },
        {
         "marker": {
          "color": "rgb(64, 236, 211)",
          "opacity": 0.7
         },
         "mode": "markers",
         "name": "Lover",
         "text": [
          "Afterglow",
          "Cornelia Street",
          "Cruel Summer",
          "Daylight",
          "Death By A Thousand Cuts",
          "False God",
          "I Forgot That You Existed",
          "I Think He Knows",
          "It's Nice To Have A Friend",
          "London Boy",
          "Lover",
          "ME!",
          "Miss Americana & The Heartbreak Prince",
          "Paper Rings",
          "Soon You'll Get Better",
          "The Archer",
          "The Man",
          "You Need To Calm Down"
         ],
         "type": "scatter",
         "x": [
          -7.370695114135742,
          -11.270515441894531,
          -21.476299285888672,
          -18.77585792541504,
          -15.182435989379883,
          19.447429656982422,
          10.683815002441406,
          -6.42588472366333,
          29.40597915649414,
          -7.766210079193115,
          4.651239395141602,
          -25.927207946777344,
          -12.315095901489258,
          -18.06830406188965,
          19.123491287231445,
          10.513877868652344,
          -16.51005744934082,
          -23.71388816833496
         ],
         "y": [
          3.5142180919647217,
          9.538041114807129,
          5.5654377937316895,
          -4.610194683074951,
          8.351439476013184,
          -11.61799144744873,
          -1.5152530670166016,
          -5.7860307693481445,
          -4.364065647125244,
          -1.6612060070037842,
          10.905266761779785,
          6.227673530578613,
          1.919928789138794,
          -7.237494945526123,
          -2.1408724784851074,
          -0.2755794823169708,
          -6.6507792472839355,
          6.719644069671631
         ]
        },
        {
         "marker": {
          "color": "rgb(96, 250, 196)",
          "opacity": 0.7
         },
         "mode": "markers",
         "name": "nan",
         "text": [],
         "type": "scatter",
         "x": [],
         "y": []
        },
        {
         "marker": {
          "color": "rgb(128, 254, 179)",
          "opacity": 0.7
         },
         "mode": "markers",
         "name": "1989",
         "text": [
          "All You Had To Do Was Stay",
          "Bad Blood",
          "Blank Space",
          "Clean",
          "How You Get The Girl",
          "I Know Places",
          "I Wish You Would",
          "New Romantics",
          "Out Of The Woods",
          "Shake It Off",
          "Style",
          "This Love",
          "Welcome To New York",
          "Wildest Dreams",
          "Wonderland",
          "You Are In Love"
         ],
         "type": "scatter",
         "x": [
          -20.036670684814453,
          -18.11893653869629,
          -17.604005813598633,
          -25.19542694091797,
          -22.292617797851562,
          -3.20493221282959,
          -18.527151107788086,
          -11.497673988342285,
          -19.382816314697266,
          -24.447538375854492,
          -7.113834857940674,
          -23.276416778564453,
          -4.056303977966309,
          -24.69601058959961,
          -14.87081527709961,
          -11.431231498718262
         ],
         "y": [
          -1.7863192558288574,
          10.23215389251709,
          12.504246711730957,
          -6.800926685333252,
          -9.321061134338379,
          -1.1904315948486328,
          -3.1220319271087646,
          3.5544052124023438,
          2.004727602005005,
          6.332953453063965,
          5.294351577758789,
          -5.69042444229126,
          8.856325149536133,
          -0.20231936872005463,
          -5.031076431274414,
          -8.114602088928223
         ]
        },
        {
         "marker": {
          "color": "rgb(160, 249, 161)",
          "opacity": 0.7
         },
         "mode": "markers",
         "name": "Midnights",
         "text": [
          "Anti-Hero",
          "Bejeweled",
          "Bigger Than The Whole Sky",
          "Dear Reader",
          "Glitch",
          "High Infidelity",
          "Hits Different",
          "Karma",
          "Karma (Remix)",
          "Labyrinth",
          "Lavender Haze",
          "Maroon",
          "Mastermind",
          "Midnight Rain",
          "Paris",
          "Question...?",
          "Snow On The Beach",
          "Snow On The Beach (More Lana Del Rey)",
          "Sweet Nothing",
          "Sweet Nothing (Piano Remix)",
          "The Great War",
          "Vigilante Shit",
          "Would've, Could've, Should've",
          "You're Losing Me (From The Vault)",
          "You're On Your Own, Kid",
          "You're On Your Own, Kid (Strings Remix)"
         ],
         "type": "scatter",
         "x": [
          0.9691262245178223,
          -14.040410995483398,
          16.06259536743164,
          25.98577117919922,
          12.145853996276855,
          -5.844794750213623,
          -8.953506469726562,
          -5.056787014007568,
          -10.384724617004395,
          9.061232566833496,
          11.293124198913574,
          -0.6153616309165955,
          5.829134464263916,
          20.170875549316406,
          23.00505256652832,
          -13.34741497039795,
          -22.66193389892578,
          -20.822786331176758,
          11.950870513916016,
          12.38602066040039,
          1.9924484491348267,
          23.238384246826172,
          -13.255461692810059,
          -9.103874206542969,
          20.540456771850586,
          21.059267044067383
         ],
         "y": [
          -4.256114959716797,
          -6.543163776397705,
          -4.494100093841553,
          -0.030574645847082138,
          -4.235445499420166,
          -2.679908275604248,
          -9.791484832763672,
          -2.8535194396972656,
          -10.218729972839355,
          -1.596051812171936,
          -2.887716770172119,
          1.531977653503418,
          -4.912627696990967,
          0.22081613540649414,
          6.864194869995117,
          -7.229592323303223,
          -7.514634609222412,
          -6.4898223876953125,
          -5.60048770904541,
          -5.792253494262695,
          -6.854321002960205,
          0.6013316512107849,
          -9.27101993560791,
          -7.442025184631348,
          4.0605010986328125,
          3.906240463256836
         ]
        },
        {
         "marker": {
          "color": "rgb(192, 234, 140)",
          "opacity": 0.7
         },
         "mode": "markers",
         "name": "folklore",
         "text": [
          "august",
          "betty",
          "cardigan",
          "epiphany",
          "exile",
          "hoax",
          "illicit affairs",
          "invisible string",
          "mad woman",
          "mirrorball",
          "my tears ricochet",
          "peace",
          "seven",
          "the 1",
          "the lakes",
          "the last great american dynasty",
          "this is me trying"
         ],
         "type": "scatter",
         "x": [
          -4.334921836853027,
          -18.745378494262695,
          -24.10984992980957,
          29.541196823120117,
          -16.427631378173828,
          27.873014450073242,
          27.397626876831055,
          17.68914222717285,
          20.50196647644043,
          17.44359588623047,
          21.38980484008789,
          16.030088424682617,
          27.366374969482422,
          9.004761695861816,
          23.871761322021484,
          7.087254524230957,
          20.155807495117188
         ],
         "y": [
          0.9685969352722168,
          7.0971550941467285,
          1.2970741987228394,
          -3.385340452194214,
          9.502157211303711,
          -0.035904817283153534,
          -0.8005786538124084,
          5.187438011169434,
          5.18734073638916,
          -2.313842535018921,
          4.727826118469238,
          -0.14688533544540405,
          -3.247859001159668,
          3.910884141921997,
          -9.015070915222168,
          -4.458167552947998,
          -4.830394268035889
         ]
        },
        {
         "marker": {
          "color": "rgb(224, 210, 119)",
          "opacity": 0.7
         },
         "mode": "markers",
         "name": "Speak Now",
         "text": [
          "Back To December",
          "Better Than Revenge",
          "Dear John",
          "Enchanted",
          "Haunted",
          "If This Was A Movie",
          "Innocent",
          "Last Kiss",
          "Long Live",
          "Mean",
          "Mine",
          "Never Grow Up",
          "Ours",
          "Sparks Fly",
          "Speak Now",
          "Superman",
          "The Story Of Us"
         ],
         "type": "scatter",
         "x": [
          -14.612293243408203,
          -17.435340881347656,
          -2.976516008377075,
          -0.6360546946525574,
          7.273067951202393,
          -14.921623229980469,
          19.231414794921875,
          -5.426051616668701,
          -17.119325637817383,
          -21.368690490722656,
          -6.378573894500732,
          -16.208160400390625,
          19.462902069091797,
          10.503961563110352,
          -8.796072006225586,
          -4.463640213012695,
          -9.801251411437988
         ],
         "y": [
          -1.0714927911758423,
          1.506861925125122,
          0.1528579443693161,
          3.8411223888397217,
          5.996779918670654,
          -1.9749982357025146,
          4.715189456939697,
          5.379148960113525,
          6.043229103088379,
          7.517876148223877,
          4.316723823547363,
          -3.507983446121216,
          -13.62926197052002,
          8.21544361114502,
          7.292018890380859,
          -1.2168834209442139,
          3.180962085723877
         ]
        },
        {
         "marker": {
          "color": "rgb(255, 178, 96)",
          "opacity": 0.7
         },
         "mode": "markers",
         "name": "Speak Now (Taylor's Version)",
         "text": [
          "Back To December (Taylor's Version)",
          "Better Than Revenge (Taylor's Version)",
          "Castles Crumbling (Taylor's Version) [From The Vault]",
          "Dear John (Taylor's Version)",
          "Electric Touch (Taylor's Version) [From The Vault]",
          "Enchanted (Taylor's Version)",
          "Foolish One (Taylor's Version) [From The Vault]",
          "Haunted (Taylor's Version)",
          "I Can See You (Taylor's Version) [From The Vault]",
          "Innocent (Taylor's Version)",
          "Last Kiss (Taylor's Version)",
          "Long Live (Taylor's Version)",
          "Mean (Taylor's Version)",
          "Mine (Taylor's Version)",
          "Never Grow Up (Taylor's Version)",
          "Ours (Taylor's Version)",
          "Sparks Fly (Taylor's Version)",
          "Speak Now (Taylor's Version)",
          "Superman (Taylor's Version)",
          "The Story Of Us (Taylor's Version)",
          "Timeless (Taylor's Version) [From The Vault]",
          "When Emma Falls In Love (Taylor's Version) [From The Vault]"
         ],
         "type": "scatter",
         "x": [
          -17.931970596313477,
          -17.0472412109375,
          13.800742149353027,
          -2.931321382522583,
          5.1416850090026855,
          -22.131025314331055,
          -10.648600578308105,
          8.022411346435547,
          -18.16139030456543,
          18.97640609741211,
          -7.267678737640381,
          -17.327651977539062,
          -21.786985397338867,
          -13.680536270141602,
          -16.31454849243164,
          19.456850051879883,
          7.286581993103027,
          -8.662585258483887,
          -4.911314010620117,
          -9.523537635803223,
          -12.99771785736084,
          0.08222875744104385
         ],
         "y": [
          -5.511773586273193,
          1.330285668373108,
          -0.18778520822525024,
          1.2397246360778809,
          -3.658130407333374,
          -1.5288220643997192,
          -1.5594180822372437,
          6.0620880126953125,
          -8.677783012390137,
          5.141107559204102,
          4.435190200805664,
          5.920009136199951,
          7.356319904327393,
          2.9393270015716553,
          -3.810730457305908,
          -13.633363723754883,
          7.490058422088623,
          8.071686744689941,
          -1.5791077613830566,
          3.6970791816711426,
          -10.77955150604248,
          -5.864756107330322
         ]
        },
        {
         "marker": {
          "color": "rgb(255, 139, 72)",
          "opacity": 0.7
         },
         "mode": "markers",
         "name": "Beautiful Eyes",
         "text": [
          "Beautiful Eyes",
          "I Heart ?",
          "I'm Only Me When I'm With You",
          "I'm Only Me When I'm With You",
          "Picture To Burn (Radio Edit)",
          "Should've Said No (Alternate Version)",
          "Teardrops On My Guitar (Acoustic Version)"
         ],
         "type": "scatter",
         "x": [
          29.281734466552734,
          17.667688369750977,
          16.420753479003906,
          17.120319366455078,
          20.548484802246094,
          8.326855659484863,
          7.791564464569092
         ],
         "y": [
          -6.196174621582031,
          2.6959006786346436,
          1.287091851234436,
          0.7343819737434387,
          -11.13675594329834,
          5.307530879974365,
          9.279709815979004
         ]
        },
        {
         "marker": {
          "color": "rgb(255, 95, 48)",
          "opacity": 0.7
         },
         "mode": "markers",
         "name": "Fearless",
         "text": [
          "Breathe",
          "Change",
          "Come In With The Rain",
          "Fearless",
          "Fifteen",
          "Forever & Always",
          "Forever & Always (Piano Version)",
          "Hey Stephen",
          "Jump Then Fall",
          "Love Story",
          "SuperStar",
          "Tell Me Why",
          "The Best Day",
          "The Other Side Of The Door",
          "The Way I Loved You",
          "Untouchable",
          "White Horse",
          "You Belong With Me",
          "You're Not Sorry"
         ],
         "type": "scatter",
         "x": [
          8.088823318481445,
          21.448545455932617,
          25.28041648864746,
          18.70168113708496,
          -9.445279121398926,
          -20.62885093688965,
          -21.35325813293457,
          -9.578407287597656,
          -2.7472352981567383,
          -24.59129524230957,
          22.45355987548828,
          4.277015686035156,
          23.11905860900879,
          -3.3322067260742188,
          10.115960121154785,
          -15.593132972717285,
          12.808099746704102,
          -16.941530227661133,
          3.014221668243408
         ],
         "y": [
          3.6447248458862305,
          -12.14615535736084,
          -4.86463737487793,
          -10.666906356811523,
          -6.215085983276367,
          3.6091411113739014,
          3.1123123168945312,
          5.795283794403076,
          -2.88305401802063,
          7.843670845031738,
          -10.534405708312988,
          -1.0307976007461548,
          8.295148849487305,
          2.786451816558838,
          7.269724369049072,
          11.374235153198242,
          0.4482683837413788,
          3.9802167415618896,
          7.115234375
         ]
        },
        {
         "marker": {
          "color": "rgb(255, 46, 23)",
          "opacity": 0.7
         },
         "mode": "markers",
         "name": "Fearless (Taylor's Version)",
         "text": [
          "Breathe (Taylor's Version)",
          "Bye Bye Baby (Taylor's Version) [From The Vault]",
          "Change (Taylor's Version)",
          "Come In With The Rain (Taylor's Version)",
          "Don't You (Taylor's Version) [From The Vault]",
          "Fearless (Taylor's Version)",
          "Fifteen (Taylor's Version)",
          "Forever & Always (Piano Version) [Taylor's Version]",
          "Forever & Always (Taylor's Version)",
          "Hey Stephen (Taylor's Version)",
          "Jump Then Fall (Taylor's Version)",
          "Love Story (Taylor's Version)",
          "Mr. Perfectly Fine (Taylor's Version) [From The Vault]",
          "SuperStar (Taylor's Version)",
          "Tell Me Why (Taylor's Version)",
          "That's When (Taylor's Version) [From The Vault]",
          "The Best Day (Taylor's Version)",
          "The Other Side Of The Door (Taylor's Version)",
          "The Way I Loved You (Taylor's Version)",
          "Today Was A Fairytale (Taylor's Version)",
          "Untouchable (Taylor's Version)",
          "We Were Happy (Taylor's Version) [From The Vault]",
          "White Horse (Taylor's Version)",
          "You All Over Me (Taylor's Version) [From The Vault]",
          "You Belong With Me (Taylor's Version)",
          "You're Not Sorry (Taylor's Version)"
         ],
         "type": "scatter",
         "x": [
          3.6381092071533203,
          9.32073974609375,
          20.754331588745117,
          24.78493881225586,
          22.604339599609375,
          18.314558029174805,
          -9.445279121398926,
          -23.42463493347168,
          -21.70740509033203,
          -9.754844665527344,
          -2.6035192012786865,
          -24.15300941467285,
          -16.901790618896484,
          22.794330596923828,
          4.046953201293945,
          -25.36488151550293,
          23.11962890625,
          -19.021751403808594,
          9.207137107849121,
          11.637104988098145,
          -16.025789260864258,
          23.437685012817383,
          12.601932525634766,
          12.836350440979004,
          -16.933488845825195,
          2.8271594047546387
         ],
         "y": [
          4.722619533538818,
          4.991269588470459,
          -12.345476150512695,
          -4.60844087600708,
          -6.540798664093018,
          -11.207390785217285,
          -6.215085983276367,
          -0.7203000783920288,
          2.6518197059631348,
          5.457304000854492,
          -2.907984733581543,
          7.927835941314697,
          -10.890372276306152,
          -9.655980110168457,
          -1.1809425354003906,
          -8.026023864746094,
          8.226890563964844,
          5.087423324584961,
          6.844314098358154,
          4.305319309234619,
          10.95366382598877,
          -2.4123566150665283,
          0.1578408181667328,
          -4.5561113357543945,
          3.796760082244873,
          7.188391208648682
         ]
        },
        {
         "marker": {
          "color": "rgb(255, 0, 0)",
          "opacity": 0.7
         },
         "mode": "markers",
         "name": "The Taylor Swift Holiday Collection",
         "text": [
          "Christmas Must Be Something More",
          "Christmases When You Were Mine",
          "Last Christmas",
          "Santa Baby",
          "Silent Night",
          "White Christmas"
         ],
         "type": "scatter",
         "x": [
          19.36737823486328,
          28.33193588256836,
          12.423409461975098,
          27.825334548950195,
          31.129329681396484,
          30.336624145507812
         ],
         "y": [
          6.155587673187256,
          -3.4315803050994873,
          1.7686079740524292,
          -4.485401630401611,
          -5.9374165534973145,
          -6.72349214553833
         ]
        },
        {
         "marker": {
          "color": "rgb(158, 1, 66)",
          "opacity": 0.7
         },
         "mode": "markers",
         "name": "0-9",
         "text": [
          "...Ready For It?",
          "\"Slut!\" (Taylor's Version) [From The Vault]",
          "All Too Well (Taylor's Version)",
          "Anti-Hero",
          "Back To December",
          "Bad Blood (Remix) [Taylor's Version]",
          "Bad Blood (Taylor's Version)",
          "Begin Again",
          "Bejeweled",
          "Blank Space",
          "cardigan",
          "Cruel Summer",
          "exile",
          "Fearless",
          "I Can See You (Taylor's Version) [From The Vault]",
          "I Don't Wanna Live Forever",
          "I Knew You Were Trouble",
          "Is It Over Now? (Taylor's Version) [From The Vault]",
          "Karma (Remix)",
          "Lavender Haze",
          "Look What You Made Me Do",
          "Love Story",
          "Maroon",
          "ME!",
          "Midnight Rain",
          "Mine",
          "Now That We Don't Talk (Taylor's Version) [From The Vault]",
          "Question...?",
          "Red",
          "Say Don't Go (Taylor's Version) [From The Vault]",
          "Shake It Off",
          "Snow On The Beach",
          "Speak Now",
          "Style",
          "Style (Taylor's Version)",
          "the 1",
          "Today Was A Fairytale",
          "We Are Never Ever Getting Back Together",
          "Wildest Dreams",
          "willow",
          "You Belong With Me",
          "You Need To Calm Down",
          "You're On Your Own, Kid"
         ],
         "type": "scatter",
         "visible": "legendonly",
         "x": [
          -13.96687126159668,
          -1.1478368043899536,
          -10.48218822479248,
          0.9691262245178223,
          -14.612293243408203,
          -15.919255256652832,
          -18.74371910095215,
          10.019433975219727,
          -14.040410995483398,
          -17.604005813598633,
          -24.10984992980957,
          -21.476299285888672,
          -16.427631378173828,
          18.70168113708496,
          -18.16139030456543,
          2.4537386894226074,
          -22.146833419799805,
          -14.347182273864746,
          -10.384724617004395,
          11.293124198913574,
          -20.526430130004883,
          -24.59129524230957,
          -0.6153616309165955,
          -25.927207946777344,
          20.170875549316406,
          -6.378573894500732,
          22.223485946655273,
          -13.34741497039795,
          1.15481698513031,
          -24.65374755859375,
          -24.447538375854492,
          -22.66193389892578,
          -8.796072006225586,
          -7.113834857940674,
          -8.00804328918457,
          9.004761695861816,
          11.89681625366211,
          -25.994400024414062,
          -24.69601058959961,
          -14.756387710571289,
          -16.941530227661133,
          -23.71388816833496,
          20.540456771850586
         ],
         "y": [
          2.072885036468506,
          -6.504011154174805,
          1.2188847064971924,
          -4.256114959716797,
          -1.0714927911758423,
          -9.706761360168457,
          9.067411422729492,
          2.5967299938201904,
          -6.543163776397705,
          12.504246711730957,
          1.2970741987228394,
          5.5654377937316895,
          9.502157211303711,
          -10.666906356811523,
          -8.677783012390137,
          8.651277542114258,
          -3.7355363368988037,
          -7.4508280754089355,
          -10.218729972839355,
          -2.887716770172119,
          8.67463207244873,
          7.843670845031738,
          1.531977653503418,
          6.227673530578613,
          0.22081613540649414,
          4.316723823547363,
          1.9766629934310913,
          -7.229592323303223,
          6.2470808029174805,
          -5.204229354858398,
          6.332953453063965,
          -7.514634609222412,
          7.292018890380859,
          5.294351577758789,
          4.979703426361084,
          3.910884141921997,
          4.2305073738098145,
          1.4926631450653076,
          -0.20231936872005463,
          4.936916351318359,
          3.9802167415618896,
          6.719644069671631,
          4.0605010986328125
         ]
        },
        {
         "marker": {
          "color": "rgb(211, 60, 78)",
          "opacity": 0.7
         },
         "mode": "markers",
         "name": "30-39",
         "text": [
          "'tis the damn season",
          "Castles Crumbling (Taylor's Version) [From The Vault]",
          "Clean (Taylor's Version)",
          "Come In With The Rain",
          "Electric Touch (Taylor's Version) [From The Vault]",
          "Everything Has Changed",
          "Forever & Always",
          "High Infidelity",
          "I Know Places (Taylor's Version)",
          "I Wish You Would (Taylor's Version)",
          "invisible string",
          "Mean (Taylor's Version)",
          "Mr. Perfectly Fine (Taylor's Version) [From The Vault]",
          "no body, no crime",
          "Paris",
          "Safe & Sound",
          "seven",
          "Should've Said No",
          "Speak Now (Taylor's Version)",
          "Sweeter Than Fiction",
          "The Archer",
          "this is me trying",
          "When Emma Falls In Love (Taylor's Version) [From The Vault]",
          "Wonderland (Taylor's Version)"
         ],
         "type": "scatter",
         "visible": "legendonly",
         "x": [
          -6.184904098510742,
          13.800742149353027,
          -0.524262011051178,
          25.28041648864746,
          5.1416850090026855,
          -12.193547248840332,
          -20.62885093688965,
          -5.844794750213623,
          -2.0029637813568115,
          -19.334102630615234,
          17.68914222717285,
          -21.786985397338867,
          -16.901790618896484,
          -4.355708599090576,
          23.00505256652832,
          28.199745178222656,
          27.366374969482422,
          2.0156688690185547,
          -8.662585258483887,
          -13.386754035949707,
          10.513877868652344,
          20.155807495117188,
          0.08222875744104385,
          -12.781625747680664
         ],
         "y": [
          -6.85329532623291,
          -0.18778520822525024,
          6.286645889282227,
          -4.86463737487793,
          -3.658130407333374,
          -4.182620525360107,
          3.6091411113739014,
          -2.679908275604248,
          -4.328349590301514,
          -3.3116002082824707,
          5.187438011169434,
          7.356319904327393,
          -10.890372276306152,
          -6.723652362823486,
          6.864194869995117,
          -8.142546653747559,
          -3.247859001159668,
          4.787115573883057,
          8.071686744689941,
          -5.536510467529297,
          -0.2755794823169708,
          -4.830394268035889,
          -5.864756107330322,
          -2.1054747104644775
         ]
        },
        {
         "marker": {
          "color": "rgb(244, 109, 67)",
          "opacity": 0.7
         },
         "mode": "markers",
         "name": "20-29",
         "text": [
          "22",
          "All You Had To Do Was Stay (Taylor's Version)",
          "august",
          "Better Than Revenge (Taylor's Version)",
          "Bigger Than The Whole Sky",
          "Call It What You Want",
          "champagne problems",
          "Dear John (Taylor's Version)",
          "Fifteen",
          "Highway Don't Care",
          "Hits Different",
          "I Bet You Think About Me (Taylor's Version) [From The Vault]",
          "I Forgot That You Existed",
          "Innocent",
          "mirrorball",
          "New Romantics (Taylor's Version)",
          "Picture To Burn",
          "Red (Taylor's Version)",
          "Shake It Off (Taylor's Version)",
          "Sparks Fly (Taylor's Version)",
          "Superman",
          "SuperStar",
          "The Great War",
          "The Joker And The Queen",
          "The Man",
          "The Other Side Of The Door",
          "Would've, Could've, Should've",
          "You're Losing Me (From The Vault)"
         ],
         "type": "scatter",
         "visible": "legendonly",
         "x": [
          -24.35370635986328,
          -20.295408248901367,
          -4.334921836853027,
          -17.0472412109375,
          16.06259536743164,
          -9.5643310546875,
          21.98655128479004,
          -2.931321382522583,
          -9.445279121398926,
          -15.756884574890137,
          -8.953506469726562,
          -7.7476677894592285,
          10.683815002441406,
          19.231414794921875,
          17.44359588623047,
          -12.6002779006958,
          20.268388748168945,
          -25.693666458129883,
          -24.656051635742188,
          7.286581993103027,
          -4.463640213012695,
          22.45355987548828,
          1.9924484491348267,
          27.907182693481445,
          -16.51005744934082,
          -3.3322067260742188,
          -13.255461692810059,
          -9.103874206542969
         ],
         "y": [
          -2.007286787033081,
          -2.0956273078918457,
          0.9685969352722168,
          1.330285668373108,
          -4.494100093841553,
          -8.434650421142578,
          2.9247684478759766,
          1.2397246360778809,
          -6.215085983276367,
          0.9607836008071899,
          -9.791484832763672,
          -9.529739379882812,
          -1.5152530670166016,
          4.715189456939697,
          -2.313842535018921,
          3.4304447174072266,
          -10.58785629272461,
          -4.044941425323486,
          5.039580821990967,
          7.490058422088623,
          -1.2168834209442139,
          -10.534405708312988,
          -6.854321002960205,
          -5.904885292053223,
          -6.6507792472839355,
          2.786451816558838,
          -9.27101993560791,
          -7.442025184631348
         ]
        },
        {
         "marker": {
          "color": "rgb(252, 172, 96)",
          "opacity": 0.7
         },
         "mode": "markers",
         "name": "50-59",
         "text": [
          "22 (Taylor's Version)",
          "Better Man (Taylor's Version) [From The Vault]",
          "Better Than Revenge",
          "Christmas Tree Farm",
          "Cornelia Street",
          "Dear John",
          "epiphany",
          "evermore",
          "happiness",
          "Haunted (Taylor's Version)",
          "I Almost Do (Taylor's Version)",
          "I Think He Knows",
          "Last Kiss (Taylor's Version)",
          "Long Live (Taylor's Version)",
          "Never Grow Up (Taylor's Version)",
          "Only The Young",
          "peace",
          "Treacherous (Taylor's Version)",
          "We Are Never Ever Getting Back Together (Taylor's Version)",
          "Wonderland",
          "You All Over Me (Taylor's Version) [From The Vault]"
         ],
         "type": "scatter",
         "visible": "legendonly",
         "x": [
          -23.916797637939453,
          -10.503865242004395,
          -17.435340881347656,
          6.418743133544922,
          -11.270515441894531,
          -2.976516008377075,
          29.541196823120117,
          3.6716036796569824,
          -14.409775733947754,
          8.022411346435547,
          6.456071376800537,
          -6.42588472366333,
          -7.267678737640381,
          -17.327651977539062,
          -16.31454849243164,
          18.896272659301758,
          16.030088424682617,
          21.715431213378906,
          -25.994400024414062,
          -14.87081527709961,
          12.836350440979004
         ],
         "y": [
          -1.471098780632019,
          -0.8409651517868042,
          1.506861925125122,
          -1.8296557664871216,
          9.538041114807129,
          0.1528579443693161,
          -3.385340452194214,
          -7.525794982910156,
          -11.100422859191895,
          6.0620880126953125,
          11.334531784057617,
          -5.7860307693481445,
          4.435190200805664,
          5.920009136199951,
          -3.810730457305908,
          2.472410202026367,
          -0.14688533544540405,
          -9.7872896194458,
          1.4926631450653076,
          -5.031076431274414,
          -4.5561113357543945
         ]
        },
        {
         "marker": {
          "color": "rgb(254, 224, 139)",
          "opacity": 0.7
         },
         "mode": "markers",
         "name": ">100",
         "text": [
          "A Perfectly Good Heart",
          "A Place In This World",
          "All Too Well (10 Minute Version) [Taylor's Version] [From The Vault]",
          "All You Had To Do Was Stay",
          "American Girl",
          "Bad Blood",
          "Bad Blood (Remix)",
          "Beautiful Eyes",
          "Beautiful Ghosts",
          "Birch",
          "Breathe (Taylor's Version)",
          "Bye Bye Baby (Taylor's Version) [From The Vault]",
          "Change (Taylor's Version)",
          "Christmas Must Be Something More",
          "Christmases When You Were Mine",
          "Clean",
          "Cold As You",
          "Come Back...Be Here",
          "Come In With The Rain (Taylor's Version)",
          "Dancing With Our Hands Tied",
          "Don't Blame Me",
          "Don't You (Taylor's Version) [From The Vault]",
          "Dress",
          "Eyes Open (Taylor's Version)",
          "Forever & Always (Piano Version)",
          "Forever & Always (Piano Version) [Taylor's Version]",
          "Gasoline (Remix)",
          "Getaway Car",
          "Girl At Home",
          "Girl At Home (Taylor's Version)",
          "Half Of My Heart",
          "Hey Stephen (Taylor's Version)",
          "Holy Ground",
          "How You Get The Girl",
          "I Did Something Bad",
          "I Heart ?",
          "I Know Places",
          "I Wish You Would",
          "I'm Only Me When I'm With You",
          "I'm Only Me When I'm With You",
          "I'm Only Me When I'm With You",
          "I'm Only Me When I'm With You",
          "If This Was A Movie (Taylor's Version)",
          "Invisible",
          "it's time to go",
          "Jump Then Fall (Taylor's Version)",
          "Karma",
          "King Of My Heart",
          "Last Christmas",
          "Lover (Remix)",
          "Mary's Song (Oh My My My)",
          "New Year's Day",
          "Picture To Burn (Radio Edit)",
          "Red (Original Demo Recording)",
          "right where you left me",
          "Ronan (Taylor's Version)",
          "Sad Beautiful Tragic",
          "Safe & Sound (Taylor's Version)",
          "Santa Baby",
          "September",
          "Should've Said No (Alternate Version)",
          "Silent Night",
          "Snow On The Beach (More Lana Del Rey)",
          "So It Goes...",
          "Starlight",
          "State Of Grace (Acoustic Version)",
          "State Of Grace (Acoustic Version) [Taylor's Version]",
          "Stay Beautiful",
          "SuperStar (Taylor's Version)",
          "Sweet Nothing (Piano Remix)",
          "Sweeter Than Fiction (Taylor's Version)",
          "Teardrops On My Guitar (Acoustic Version)",
          "Teardrops On My Guitar (Pop Version)",
          "Tell Me Why",
          "Tell Me Why (Taylor's Version)",
          "That's When (Taylor's Version) [From The Vault]",
          "The Alcott",
          "The Best Day",
          "The Best Day (Taylor's Version)",
          "the lakes",
          "The Last Time",
          "The Lucky One",
          "The Other Side Of The Door (Taylor's Version)",
          "The Outside",
          "This Is Why We Can't Have Nice Things",
          "This Love",
          "Three Sad Virgins",
          "Tied Together With A Smile",
          "Today Was A Fairytale (Taylor's Version)",
          "Treacherous",
          "Treacherous (Original Demo Recording)",
          "Untouchable (Taylor's Version)",
          "We Were Happy (Taylor's Version) [From The Vault]",
          "White Christmas",
          "White Horse (Taylor's Version)",
          "You're Not Sorry (Taylor's Version)",
          "You're On Your Own, Kid (Strings Remix)"
         ],
         "type": "scatter",
         "visible": "legendonly",
         "x": [
          25.763381958007812,
          21.867387771606445,
          -9.316839218139648,
          -20.036670684814453,
          30.28118896484375,
          -18.11893653869629,
          -7.594448566436768,
          29.281734466552734,
          23.9000186920166,
          29.0129451751709,
          3.6381092071533203,
          9.32073974609375,
          20.754331588745117,
          19.36737823486328,
          28.33193588256836,
          -25.19542694091797,
          20.94663429260254,
          14.538352966308594,
          24.78493881225586,
          -18.63218116760254,
          -11.470067977905273,
          22.604339599609375,
          -13.442172050476074,
          13.790382385253906,
          -21.35325813293457,
          -23.42463493347168,
          23.323657989501953,
          -10.725234031677246,
          -10.821736335754395,
          -9.633068084716797,
          10.212089538574219,
          -9.754844665527344,
          15.543904304504395,
          -22.292617797851562,
          -16.218563079833984,
          17.667688369750977,
          -3.20493221282959,
          -18.527151107788086,
          17.23997688293457,
          16.420753479003906,
          16.420753479003906,
          17.120319366455078,
          -16.428075790405273,
          23.639657974243164,
          4.719018459320068,
          -2.6035192012786865,
          -5.056787014007568,
          -15.475445747375488,
          12.423409461975098,
          4.697585105895996,
          5.404781818389893,
          -14.472030639648438,
          20.548484802246094,
          9.853874206542969,
          -13.914044380187988,
          17.33936882019043,
          30.49517059326172,
          27.682485580444336,
          27.825334548950195,
          14.438361167907715,
          8.326855659484863,
          31.129329681396484,
          -20.822786331176758,
          -12.637673377990723,
          -4.8348565101623535,
          27.362104415893555,
          26.539091110229492,
          22.015695571899414,
          22.794330596923828,
          12.38602066040039,
          -19.274944305419922,
          7.791564464569092,
          8.756524085998535,
          4.277015686035156,
          4.046953201293945,
          -25.36488151550293,
          -15.457937240600586,
          23.11905860900879,
          23.11962890625,
          23.871761322021484,
          -18.508346557617188,
          0.3537950813770294,
          -19.021751403808594,
          24.17970848083496,
          -11.75946044921875,
          -23.276416778564453,
          -6.241353988647461,
          17.789491653442383,
          11.637104988098145,
          21.775053024291992,
          21.03679847717285,
          -16.025789260864258,
          23.437685012817383,
          30.336624145507812,
          12.601932525634766,
          2.8271594047546387,
          21.059267044067383
         ],
         "y": [
          -5.533117294311523,
          -3.9493179321289062,
          1.3299757242202759,
          -1.7863192558288574,
          -4.221561431884766,
          10.23215389251709,
          -7.564284801483154,
          -6.196174621582031,
          -0.3378518223762512,
          -1.4805793762207031,
          4.722619533538818,
          4.991269588470459,
          -12.345476150512695,
          6.155587673187256,
          -3.4315803050994873,
          -6.800926685333252,
          -4.73970365524292,
          3.2526543140411377,
          -4.60844087600708,
          -6.282413482666016,
          5.750568866729736,
          -6.540798664093018,
          -3.7886734008789062,
          -4.667424201965332,
          3.1123123168945312,
          -0.7203000783920288,
          -3.480790376663208,
          7.6168951988220215,
          -4.580749988555908,
          -4.040533065795898,
          -5.577978134155273,
          5.457304000854492,
          -2.2086613178253174,
          -9.321061134338379,
          7.894512176513672,
          2.6959006786346436,
          -1.1904315948486328,
          -3.1220319271087646,
          1.3033615350723267,
          1.287091851234436,
          1.287091851234436,
          0.7343819737434387,
          -2.073160171508789,
          -4.552435398101807,
          -6.6949615478515625,
          -2.907984733581543,
          -2.8535194396972656,
          2.3705575466156006,
          1.7686079740524292,
          10.056046485900879,
          -0.20865792036056519,
          11.721755027770996,
          -11.13675594329834,
          9.96467113494873,
          -12.17167854309082,
          3.6359641551971436,
          -2.9667909145355225,
          -8.204347610473633,
          -4.485401630401611,
          -3.21630597114563,
          5.307530879974365,
          -5.9374165534973145,
          -6.4898223876953125,
          -5.929756164550781,
          6.790400981903076,
          -2.4626379013061523,
          -2.746779203414917,
          0.31818491220474243,
          -9.655980110168457,
          -5.792253494262695,
          -8.031196594238281,
          9.279709815979004,
          9.312583923339844,
          -1.0307976007461548,
          -1.1809425354003906,
          -8.026023864746094,
          -10.563409805297852,
          8.295148849487305,
          8.226890563964844,
          -9.015070915222168,
          -10.858075141906738,
          -1.1889041662216187,
          5.087423324584961,
          -5.522275924682617,
          -6.310898303985596,
          -5.69042444229126,
          -9.527873039245605,
          -3.7301034927368164,
          4.305319309234619,
          -9.14859676361084,
          -9.489431381225586,
          10.95366382598877,
          -2.4123566150665283,
          -6.72349214553833,
          0.1578408181667328,
          7.188391208648682,
          3.906240463256836
         ]
        },
        {
         "marker": {
          "color": "rgb(254, 254, 190)",
          "opacity": 0.7
         },
         "mode": "markers",
         "name": "70-79",
         "text": [
          "Afterglow",
          "Babe",
          "Begin Again (Taylor's Version)",
          "cowboy like me",
          "Enchanted",
          "False God",
          "Fearless (Taylor's Version)",
          "Forever Winter (Taylor's Version) [From The Vault]",
          "hoax",
          "Holy Ground (Taylor's Version)",
          "Last Kiss",
          "marjorie",
          "Renegade",
          "Superman (Taylor's Version)",
          "The Way I Loved You",
          "You Belong With Me (Taylor's Version)"
         ],
         "type": "scatter",
         "visible": "legendonly",
         "x": [
          -7.370695114135742,
          0.9200547337532043,
          10.06200122833252,
          15.025829315185547,
          -0.6360546946525574,
          19.447429656982422,
          18.314558029174805,
          21.62668800354004,
          27.873014450073242,
          17.22992706298828,
          -5.426051616668701,
          15.7567720413208,
          -18.083162307739258,
          -4.911314010620117,
          10.115960121154785,
          -16.933488845825195
         ],
         "y": [
          3.5142180919647217,
          3.010674238204956,
          2.655336380004883,
          4.7088704109191895,
          3.8411223888397217,
          -11.61799144744873,
          -11.207390785217285,
          6.059159278869629,
          -0.035904817283153534,
          -1.3141919374465942,
          5.379148960113525,
          3.0525410175323486,
          8.500486373901367,
          -1.5791077613830566,
          7.269724369049072,
          3.796760082244873
         ]
        },
        {
         "marker": {
          "color": "rgb(230, 245, 152)",
          "opacity": 0.7
         },
         "mode": "markers",
         "name": "10-19",
         "text": [
          "All Of The Girls You Loved Before",
          "Back To December (Taylor's Version)",
          "Blank Space (Taylor's Version)",
          "Both Of Us",
          "Change",
          "Crazier",
          "Delicate",
          "Enchanted (Taylor's Version)",
          "End Game",
          "Eyes Open",
          "Gorgeous",
          "If This Was A Movie",
          "Jump Then Fall",
          "Labyrinth",
          "Love Story (Taylor's Version)",
          "Lover",
          "Mastermind",
          "Mean",
          "Mine (Taylor's Version)",
          "my tears ricochet",
          "Our Song",
          "Ours",
          "Out Of The Woods",
          "Out Of The Woods (Taylor's Version)",
          "Ronan",
          "Sparks Fly",
          "State Of Grace",
          "State Of Grace (Taylor's Version)",
          "Suburban Legends (Taylor's Version) [From The Vault]",
          "Sweet Nothing",
          "Teardrops On My Guitar",
          "the last great american dynasty",
          "Two Is Better Than One",
          "Untouchable",
          "Vigilante Shit",
          "Welcome To New York (Taylor's Version)",
          "White Horse",
          "Wildest Dreams (Taylor's Version)",
          "You're Not Sorry"
         ],
         "type": "scatter",
         "visible": "legendonly",
         "x": [
          4.530072212219238,
          -17.931970596313477,
          -17.70148277282715,
          -6.883531093597412,
          21.448545455932617,
          26.31231689453125,
          -25.563066482543945,
          -22.131025314331055,
          -16.521913528442383,
          19.30406379699707,
          -19.432411193847656,
          -14.921623229980469,
          -2.7472352981567383,
          9.061232566833496,
          -24.15300941467285,
          4.651239395141602,
          5.829134464263916,
          -21.368690490722656,
          -13.680536270141602,
          21.38980484008789,
          -7.478065013885498,
          19.462902069091797,
          -19.382816314697266,
          -19.546281814575195,
          19.419422149658203,
          10.503961563110352,
          24.834091186523438,
          6.0984787940979,
          14.217387199401855,
          11.950870513916016,
          7.520346164703369,
          7.087254524230957,
          16.032974243164062,
          -15.593132972717285,
          23.238384246826172,
          -4.532735347747803,
          12.808099746704102,
          -24.992910385131836,
          3.014221668243408
         ],
         "y": [
          -4.350401401519775,
          -5.511773586273193,
          12.19994068145752,
          -9.923713684082031,
          -12.14615535736084,
          -3.970818281173706,
          5.491937160491943,
          -1.5288220643997192,
          -5.553089141845703,
          -3.9498403072357178,
          -9.179868698120117,
          -1.9749982357025146,
          -2.88305401802063,
          -1.596051812171936,
          7.927835941314697,
          10.905266761779785,
          -4.912627696990967,
          7.517876148223877,
          2.9393270015716553,
          4.727826118469238,
          6.927269458770752,
          -13.62926197052002,
          2.004727602005005,
          1.8489394187927246,
          3.260340452194214,
          8.21544361114502,
          -0.548416256904602,
          -2.6801652908325195,
          -2.0557172298431396,
          -5.60048770904541,
          9.388043403625488,
          -4.458167552947998,
          -2.934042453765869,
          11.374235153198242,
          0.6013316512107849,
          8.91214370727539,
          0.4482683837413788,
          -0.5144668221473694,
          7.115234375
         ]
        },
        {
         "marker": {
          "color": "rgb(169, 220, 164)",
          "opacity": 0.7
         },
         "mode": "markers",
         "name": "80-89",
         "text": [
          "All Too Well",
          "Breathe",
          "closure",
          "Come Back...Be Here (Taylor's Version)",
          "Daylight",
          "Fifteen (Taylor's Version)",
          "Long Live",
          "Never Grow Up",
          "Sad Beautiful Tragic (Taylor's Version)",
          "The Lucky One (Taylor's Version)",
          "The Moment I Knew (Taylor's Version)",
          "You Are In Love"
         ],
         "type": "scatter",
         "visible": "legendonly",
         "x": [
          -10.475488662719727,
          8.088823318481445,
          18.24493408203125,
          14.621448516845703,
          -18.77585792541504,
          -9.445279121398926,
          -17.119325637817383,
          -16.208160400390625,
          29.954885482788086,
          0.11748218536376953,
          4.312609672546387,
          -11.431231498718262
         ],
         "y": [
          1.151743769645691,
          3.6447248458862305,
          -5.48410177230835,
          2.840470314025879,
          -4.610194683074951,
          -6.215085983276367,
          6.043229103088379,
          -3.507983446121216,
          -2.3207240104675293,
          -1.2138762474060059,
          -3.032761335372925,
          -8.114602088928223
         ]
        },
        {
         "marker": {
          "color": "rgb(102, 194, 165)",
          "opacity": 0.7
         },
         "mode": "markers",
         "name": "60-69",
         "text": [
          "Babe (Taylor's Version) [From The Vault]",
          "Carolina",
          "coney island",
          "Death By A Thousand Cuts",
          "dorothea",
          "Everything Has Changed (Taylor's Version)",
          "Forever & Always (Taylor's Version)",
          "Haunted",
          "I Almost Do",
          "Innocent (Taylor's Version)",
          "ivy",
          "London Boy",
          "long story short",
          "Ours (Taylor's Version)",
          "Soon You'll Get Better",
          "Stay Stay Stay (Taylor's Version)",
          "The Last Time (Taylor's Version)",
          "The Moment I Knew",
          "The Very First Night (Taylor's Version) [From The Vault]"
         ],
         "type": "scatter",
         "visible": "legendonly",
         "x": [
          0.46648719906806946,
          24.68140411376953,
          0.10381174087524414,
          -15.182435989379883,
          9.043233871459961,
          -12.1555757522583,
          -21.70740509033203,
          7.273067951202393,
          6.404295921325684,
          18.97640609741211,
          -3.6111626625061035,
          -7.766210079193115,
          -4.629549980163574,
          19.456850051879883,
          19.123491287231445,
          1.002246379852295,
          -18.340839385986328,
          3.990342617034912,
          12.902685165405273
         ],
         "y": [
          2.6717591285705566,
          -1.362404465675354,
          -7.069079875946045,
          8.351439476013184,
          -3.373126983642578,
          -4.404942035675049,
          2.6518197059631348,
          5.996779918670654,
          11.305285453796387,
          5.141107559204102,
          -5.070381164550781,
          -1.6612060070037842,
          -5.697549343109131,
          -13.633363723754883,
          -2.1408724784851074,
          4.533327102661133,
          -10.964750289916992,
          -3.2762300968170166,
          8.71943473815918
         ]
        },
        {
         "marker": {
          "color": "rgb(50, 134, 188)",
          "opacity": 0.7
         },
         "mode": "markers",
         "name": "40-49",
         "text": [
          "betty",
          "Dear Reader",
          "Foolish One (Taylor's Version) [From The Vault]",
          "Glitch",
          "gold rush",
          "How You Get The Girl (Taylor's Version)",
          "I Knew You Were Trouble (Taylor's Version)",
          "illicit affairs",
          "mad woman",
          "Message In A Bottle (Taylor's Version) [From The Vault]",
          "Miss Americana & The Heartbreak Prince",
          "New Romantics",
          "Nothing New (Taylor's Version) [From The Vault]",
          "Paper Rings",
          "Run (Taylor's Version) [From The Vault]",
          "The Story Of Us",
          "The Story Of Us (Taylor's Version)",
          "This Love (Taylor's Version)",
          "Tim McGraw",
          "Timeless (Taylor's Version) [From The Vault]",
          "tolerate it",
          "Welcome To New York",
          "You Are In Love (Taylor's Version)"
         ],
         "type": "scatter",
         "visible": "legendonly",
         "x": [
          -18.745378494262695,
          25.98577117919922,
          -10.648600578308105,
          12.145853996276855,
          11.57900333404541,
          -22.72538185119629,
          -22.531352996826172,
          27.397626876831055,
          20.50196647644043,
          -20.00947380065918,
          -12.315095901489258,
          -11.497673988342285,
          3.215625762939453,
          -18.06830406188965,
          -7.692573070526123,
          -9.801251411437988,
          -9.523537635803223,
          -22.16693687438965,
          -4.4842119216918945,
          -12.99771785736084,
          20.51888084411621,
          -4.056303977966309,
          -11.488168716430664
         ],
         "y": [
          7.0971550941467285,
          -0.030574645847082138,
          -1.5594180822372437,
          -4.235445499420166,
          7.436535358428955,
          -9.250181198120117,
          -3.8611409664154053,
          -0.8005786538124084,
          5.18734073638916,
          -3.9737589359283447,
          1.919928789138794,
          3.5544052124023438,
          -4.82142972946167,
          -7.237494945526123,
          0.29842185974121094,
          3.180962085723877,
          3.6970791816711426,
          -5.91369104385376,
          5.736354827880859,
          -10.77955150604248,
          2.5472538471221924,
          8.856325149536133,
          -8.436948776245117
         ]
        },
        {
         "marker": {
          "color": "rgb(94, 79, 162)",
          "opacity": 0.7
         },
         "mode": "markers",
         "name": "90-99",
         "text": [
          "Hey Stephen",
          "It's Nice To Have A Friend",
          "Starlight (Taylor's Version)",
          "Stay Stay Stay",
          "The Way I Loved You (Taylor's Version)"
         ],
         "type": "scatter",
         "visible": "legendonly",
         "x": [
          -9.578407287597656,
          29.40597915649414,
          -15.092616081237793,
          1.0535447597503662,
          9.207137107849121
         ],
         "y": [
          5.795283794403076,
          -4.364065647125244,
          6.461321830749512,
          4.526439189910889,
          6.844314098358154
         ]
        }
       ],
       "layout": {
        "hovermode": "closest",
        "legend": {
         "title": {
          "text": "Legend"
         }
        },
        "template": {
         "data": {
          "bar": [
           {
            "error_x": {
             "color": "#2a3f5f"
            },
            "error_y": {
             "color": "#2a3f5f"
            },
            "marker": {
             "line": {
              "color": "#E5ECF6",
              "width": 0.5
             },
             "pattern": {
              "fillmode": "overlay",
              "size": 10,
              "solidity": 0.2
             }
            },
            "type": "bar"
           }
          ],
          "barpolar": [
           {
            "marker": {
             "line": {
              "color": "#E5ECF6",
              "width": 0.5
             },
             "pattern": {
              "fillmode": "overlay",
              "size": 10,
              "solidity": 0.2
             }
            },
            "type": "barpolar"
           }
          ],
          "carpet": [
           {
            "aaxis": {
             "endlinecolor": "#2a3f5f",
             "gridcolor": "white",
             "linecolor": "white",
             "minorgridcolor": "white",
             "startlinecolor": "#2a3f5f"
            },
            "baxis": {
             "endlinecolor": "#2a3f5f",
             "gridcolor": "white",
             "linecolor": "white",
             "minorgridcolor": "white",
             "startlinecolor": "#2a3f5f"
            },
            "type": "carpet"
           }
          ],
          "choropleth": [
           {
            "colorbar": {
             "outlinewidth": 0,
             "ticks": ""
            },
            "type": "choropleth"
           }
          ],
          "contour": [
           {
            "colorbar": {
             "outlinewidth": 0,
             "ticks": ""
            },
            "colorscale": [
             [
              0,
              "#0d0887"
             ],
             [
              0.1111111111111111,
              "#46039f"
             ],
             [
              0.2222222222222222,
              "#7201a8"
             ],
             [
              0.3333333333333333,
              "#9c179e"
             ],
             [
              0.4444444444444444,
              "#bd3786"
             ],
             [
              0.5555555555555556,
              "#d8576b"
             ],
             [
              0.6666666666666666,
              "#ed7953"
             ],
             [
              0.7777777777777778,
              "#fb9f3a"
             ],
             [
              0.8888888888888888,
              "#fdca26"
             ],
             [
              1,
              "#f0f921"
             ]
            ],
            "type": "contour"
           }
          ],
          "contourcarpet": [
           {
            "colorbar": {
             "outlinewidth": 0,
             "ticks": ""
            },
            "type": "contourcarpet"
           }
          ],
          "heatmap": [
           {
            "colorbar": {
             "outlinewidth": 0,
             "ticks": ""
            },
            "colorscale": [
             [
              0,
              "#0d0887"
             ],
             [
              0.1111111111111111,
              "#46039f"
             ],
             [
              0.2222222222222222,
              "#7201a8"
             ],
             [
              0.3333333333333333,
              "#9c179e"
             ],
             [
              0.4444444444444444,
              "#bd3786"
             ],
             [
              0.5555555555555556,
              "#d8576b"
             ],
             [
              0.6666666666666666,
              "#ed7953"
             ],
             [
              0.7777777777777778,
              "#fb9f3a"
             ],
             [
              0.8888888888888888,
              "#fdca26"
             ],
             [
              1,
              "#f0f921"
             ]
            ],
            "type": "heatmap"
           }
          ],
          "heatmapgl": [
           {
            "colorbar": {
             "outlinewidth": 0,
             "ticks": ""
            },
            "colorscale": [
             [
              0,
              "#0d0887"
             ],
             [
              0.1111111111111111,
              "#46039f"
             ],
             [
              0.2222222222222222,
              "#7201a8"
             ],
             [
              0.3333333333333333,
              "#9c179e"
             ],
             [
              0.4444444444444444,
              "#bd3786"
             ],
             [
              0.5555555555555556,
              "#d8576b"
             ],
             [
              0.6666666666666666,
              "#ed7953"
             ],
             [
              0.7777777777777778,
              "#fb9f3a"
             ],
             [
              0.8888888888888888,
              "#fdca26"
             ],
             [
              1,
              "#f0f921"
             ]
            ],
            "type": "heatmapgl"
           }
          ],
          "histogram": [
           {
            "marker": {
             "pattern": {
              "fillmode": "overlay",
              "size": 10,
              "solidity": 0.2
             }
            },
            "type": "histogram"
           }
          ],
          "histogram2d": [
           {
            "colorbar": {
             "outlinewidth": 0,
             "ticks": ""
            },
            "colorscale": [
             [
              0,
              "#0d0887"
             ],
             [
              0.1111111111111111,
              "#46039f"
             ],
             [
              0.2222222222222222,
              "#7201a8"
             ],
             [
              0.3333333333333333,
              "#9c179e"
             ],
             [
              0.4444444444444444,
              "#bd3786"
             ],
             [
              0.5555555555555556,
              "#d8576b"
             ],
             [
              0.6666666666666666,
              "#ed7953"
             ],
             [
              0.7777777777777778,
              "#fb9f3a"
             ],
             [
              0.8888888888888888,
              "#fdca26"
             ],
             [
              1,
              "#f0f921"
             ]
            ],
            "type": "histogram2d"
           }
          ],
          "histogram2dcontour": [
           {
            "colorbar": {
             "outlinewidth": 0,
             "ticks": ""
            },
            "colorscale": [
             [
              0,
              "#0d0887"
             ],
             [
              0.1111111111111111,
              "#46039f"
             ],
             [
              0.2222222222222222,
              "#7201a8"
             ],
             [
              0.3333333333333333,
              "#9c179e"
             ],
             [
              0.4444444444444444,
              "#bd3786"
             ],
             [
              0.5555555555555556,
              "#d8576b"
             ],
             [
              0.6666666666666666,
              "#ed7953"
             ],
             [
              0.7777777777777778,
              "#fb9f3a"
             ],
             [
              0.8888888888888888,
              "#fdca26"
             ],
             [
              1,
              "#f0f921"
             ]
            ],
            "type": "histogram2dcontour"
           }
          ],
          "mesh3d": [
           {
            "colorbar": {
             "outlinewidth": 0,
             "ticks": ""
            },
            "type": "mesh3d"
           }
          ],
          "parcoords": [
           {
            "line": {
             "colorbar": {
              "outlinewidth": 0,
              "ticks": ""
             }
            },
            "type": "parcoords"
           }
          ],
          "pie": [
           {
            "automargin": true,
            "type": "pie"
           }
          ],
          "scatter": [
           {
            "fillpattern": {
             "fillmode": "overlay",
             "size": 10,
             "solidity": 0.2
            },
            "type": "scatter"
           }
          ],
          "scatter3d": [
           {
            "line": {
             "colorbar": {
              "outlinewidth": 0,
              "ticks": ""
             }
            },
            "marker": {
             "colorbar": {
              "outlinewidth": 0,
              "ticks": ""
             }
            },
            "type": "scatter3d"
           }
          ],
          "scattercarpet": [
           {
            "marker": {
             "colorbar": {
              "outlinewidth": 0,
              "ticks": ""
             }
            },
            "type": "scattercarpet"
           }
          ],
          "scattergeo": [
           {
            "marker": {
             "colorbar": {
              "outlinewidth": 0,
              "ticks": ""
             }
            },
            "type": "scattergeo"
           }
          ],
          "scattergl": [
           {
            "marker": {
             "colorbar": {
              "outlinewidth": 0,
              "ticks": ""
             }
            },
            "type": "scattergl"
           }
          ],
          "scattermapbox": [
           {
            "marker": {
             "colorbar": {
              "outlinewidth": 0,
              "ticks": ""
             }
            },
            "type": "scattermapbox"
           }
          ],
          "scatterpolar": [
           {
            "marker": {
             "colorbar": {
              "outlinewidth": 0,
              "ticks": ""
             }
            },
            "type": "scatterpolar"
           }
          ],
          "scatterpolargl": [
           {
            "marker": {
             "colorbar": {
              "outlinewidth": 0,
              "ticks": ""
             }
            },
            "type": "scatterpolargl"
           }
          ],
          "scatterternary": [
           {
            "marker": {
             "colorbar": {
              "outlinewidth": 0,
              "ticks": ""
             }
            },
            "type": "scatterternary"
           }
          ],
          "surface": [
           {
            "colorbar": {
             "outlinewidth": 0,
             "ticks": ""
            },
            "colorscale": [
             [
              0,
              "#0d0887"
             ],
             [
              0.1111111111111111,
              "#46039f"
             ],
             [
              0.2222222222222222,
              "#7201a8"
             ],
             [
              0.3333333333333333,
              "#9c179e"
             ],
             [
              0.4444444444444444,
              "#bd3786"
             ],
             [
              0.5555555555555556,
              "#d8576b"
             ],
             [
              0.6666666666666666,
              "#ed7953"
             ],
             [
              0.7777777777777778,
              "#fb9f3a"
             ],
             [
              0.8888888888888888,
              "#fdca26"
             ],
             [
              1,
              "#f0f921"
             ]
            ],
            "type": "surface"
           }
          ],
          "table": [
           {
            "cells": {
             "fill": {
              "color": "#EBF0F8"
             },
             "line": {
              "color": "white"
             }
            },
            "header": {
             "fill": {
              "color": "#C8D4E3"
             },
             "line": {
              "color": "white"
             }
            },
            "type": "table"
           }
          ]
         },
         "layout": {
          "annotationdefaults": {
           "arrowcolor": "#2a3f5f",
           "arrowhead": 0,
           "arrowwidth": 1
          },
          "autotypenumbers": "strict",
          "coloraxis": {
           "colorbar": {
            "outlinewidth": 0,
            "ticks": ""
           }
          },
          "colorscale": {
           "diverging": [
            [
             0,
             "#8e0152"
            ],
            [
             0.1,
             "#c51b7d"
            ],
            [
             0.2,
             "#de77ae"
            ],
            [
             0.3,
             "#f1b6da"
            ],
            [
             0.4,
             "#fde0ef"
            ],
            [
             0.5,
             "#f7f7f7"
            ],
            [
             0.6,
             "#e6f5d0"
            ],
            [
             0.7,
             "#b8e186"
            ],
            [
             0.8,
             "#7fbc41"
            ],
            [
             0.9,
             "#4d9221"
            ],
            [
             1,
             "#276419"
            ]
           ],
           "sequential": [
            [
             0,
             "#0d0887"
            ],
            [
             0.1111111111111111,
             "#46039f"
            ],
            [
             0.2222222222222222,
             "#7201a8"
            ],
            [
             0.3333333333333333,
             "#9c179e"
            ],
            [
             0.4444444444444444,
             "#bd3786"
            ],
            [
             0.5555555555555556,
             "#d8576b"
            ],
            [
             0.6666666666666666,
             "#ed7953"
            ],
            [
             0.7777777777777778,
             "#fb9f3a"
            ],
            [
             0.8888888888888888,
             "#fdca26"
            ],
            [
             1,
             "#f0f921"
            ]
           ],
           "sequentialminus": [
            [
             0,
             "#0d0887"
            ],
            [
             0.1111111111111111,
             "#46039f"
            ],
            [
             0.2222222222222222,
             "#7201a8"
            ],
            [
             0.3333333333333333,
             "#9c179e"
            ],
            [
             0.4444444444444444,
             "#bd3786"
            ],
            [
             0.5555555555555556,
             "#d8576b"
            ],
            [
             0.6666666666666666,
             "#ed7953"
            ],
            [
             0.7777777777777778,
             "#fb9f3a"
            ],
            [
             0.8888888888888888,
             "#fdca26"
            ],
            [
             1,
             "#f0f921"
            ]
           ]
          },
          "colorway": [
           "#636efa",
           "#EF553B",
           "#00cc96",
           "#ab63fa",
           "#FFA15A",
           "#19d3f3",
           "#FF6692",
           "#B6E880",
           "#FF97FF",
           "#FECB52"
          ],
          "font": {
           "color": "#2a3f5f"
          },
          "geo": {
           "bgcolor": "white",
           "lakecolor": "white",
           "landcolor": "#E5ECF6",
           "showlakes": true,
           "showland": true,
           "subunitcolor": "white"
          },
          "hoverlabel": {
           "align": "left"
          },
          "hovermode": "closest",
          "mapbox": {
           "style": "light"
          },
          "paper_bgcolor": "white",
          "plot_bgcolor": "#E5ECF6",
          "polar": {
           "angularaxis": {
            "gridcolor": "white",
            "linecolor": "white",
            "ticks": ""
           },
           "bgcolor": "#E5ECF6",
           "radialaxis": {
            "gridcolor": "white",
            "linecolor": "white",
            "ticks": ""
           }
          },
          "scene": {
           "xaxis": {
            "backgroundcolor": "#E5ECF6",
            "gridcolor": "white",
            "gridwidth": 2,
            "linecolor": "white",
            "showbackground": true,
            "ticks": "",
            "zerolinecolor": "white"
           },
           "yaxis": {
            "backgroundcolor": "#E5ECF6",
            "gridcolor": "white",
            "gridwidth": 2,
            "linecolor": "white",
            "showbackground": true,
            "ticks": "",
            "zerolinecolor": "white"
           },
           "zaxis": {
            "backgroundcolor": "#E5ECF6",
            "gridcolor": "white",
            "gridwidth": 2,
            "linecolor": "white",
            "showbackground": true,
            "ticks": "",
            "zerolinecolor": "white"
           }
          },
          "shapedefaults": {
           "line": {
            "color": "#2a3f5f"
           }
          },
          "ternary": {
           "aaxis": {
            "gridcolor": "white",
            "linecolor": "white",
            "ticks": ""
           },
           "baxis": {
            "gridcolor": "white",
            "linecolor": "white",
            "ticks": ""
           },
           "bgcolor": "#E5ECF6",
           "caxis": {
            "gridcolor": "white",
            "linecolor": "white",
            "ticks": ""
           }
          },
          "title": {
           "x": 0.05
          },
          "xaxis": {
           "automargin": true,
           "gridcolor": "white",
           "linecolor": "white",
           "ticks": "",
           "title": {
            "standoff": 15
           },
           "zerolinecolor": "white",
           "zerolinewidth": 2
          },
          "yaxis": {
           "automargin": true,
           "gridcolor": "white",
           "linecolor": "white",
           "ticks": "",
           "title": {
            "standoff": 15
           },
           "zerolinecolor": "white",
           "zerolinewidth": 2
          }
         }
        },
        "title": {
         "text": "Interactive Plot of Song Embeddings"
        },
        "xaxis": {
         "title": {
          "text": "TSNE 1"
         }
        },
        "yaxis": {
         "title": {
          "text": "TSNE 2"
         }
        }
       }
      }
     },
     "metadata": {},
     "output_type": "display_data"
    }
   ],
   "source": [
    "import plotly.graph_objects as go\n",
    "\n",
    "def plot_embeddings_interactive(target_album=None, target_bucket=None):\n",
    "    \"\"\"\n",
    "    This is a function so we can see if there are patterns among different buckets of billboard scores.\n",
    "    It's a bit dizzying to look at everything overlaid...\n",
    "\n",
    "    This plot is interactive to make encoding EDA not as painful\n",
    "    \"\"\"\n",
    "    unique_albums = lyrics['album_name'].unique()\n",
    "    album_colors = plt.cm.rainbow(np.linspace(0, 1, len(unique_albums)))\n",
    "    album_color_map = {album: f'rgb({int(col[0]*255)}, {int(col[1]*255)}, {int(col[2]*255)})' for album, col in zip(unique_albums, album_colors)}\n",
    "\n",
    "    unique_buckets = lyrics['peak_pos_bucketed'].unique()\n",
    "    peak_pos_colors = plt.cm.Spectral(np.linspace(0, 1, len(unique_buckets)))\n",
    "    peak_pos_color_map = {bucket: f'rgb({int(col[0]*255)}, {int(col[1]*255)}, {int(col[2]*255)})' for bucket, col in zip(unique_buckets, peak_pos_colors)}\n",
    "\n",
    "    fig = go.Figure()\n",
    "\n",
    "    # Ensuring embeddings_2d is a NumPy array for indexing\n",
    "    embeddings_2d_np = np.array(embeddings_2d)\n",
    "\n",
    "    # Add traces for album names\n",
    "    for album in unique_albums:\n",
    "        if target_album is not None and target_album != album:\n",
    "            continue\n",
    "        idx = lyrics['album_name'] == album\n",
    "        selected_embeddings = embeddings_2d_np[idx]\n",
    "        fig.add_trace(go.Scatter(x=selected_embeddings[:, 0], y=selected_embeddings[:, 1],\n",
    "                                 mode='markers', marker=dict(color=album_color_map[album], opacity=0.7 if target_album is None or target_album == album else 0.2),\n",
    "                                 name=album, text=lyrics[idx]['track_name']))\n",
    "\n",
    "    # Add traces for peak position buckets, set to be initially hidden (visible on legend click)\n",
    "    for bucket in unique_buckets:\n",
    "        if target_bucket is not None and target_bucket != bucket:\n",
    "            continue\n",
    "        idx = lyrics['peak_pos_bucketed'] == bucket\n",
    "        selected_embeddings = embeddings_2d_np[idx]\n",
    "        fig.add_trace(go.Scatter(x=selected_embeddings[:, 0], y=selected_embeddings[:, 1],\n",
    "                                 mode='markers', marker=dict(color=peak_pos_color_map[bucket], opacity=0.7 if target_bucket is None or target_bucket == bucket else 0.2),\n",
    "                                 name=bucket, text=lyrics[idx]['track_name'],\n",
    "                                 visible='legendonly'))\n",
    "\n",
    "    fig.update_layout(title='Interactive Plot of Song Embeddings',\n",
    "                      xaxis_title='TSNE 1',\n",
    "                      yaxis_title='TSNE 2',\n",
    "                      legend_title_text='Legend',\n",
    "                      hovermode='closest')\n",
    "\n",
    "    fig.show()\n",
    "\n",
    "\n",
    "\n",
    "\n",
    "plot_embeddings_interactive()"
   ]
  },
  {
   "cell_type": "code",
   "execution_count": 43,
   "metadata": {},
   "outputs": [
    {
     "name": "stdout",
     "output_type": "stream",
     "text": [
      "Number of components to keep 95% of variance: 4\n"
     ]
    },
    {
     "data": {
      "image/png": "[encoded data removed]",
      "text/plain": [
       "<Figure size 1000x600 with 1 Axes>"
      ]
     },
     "metadata": {},
     "output_type": "display_data"
    }
   ],
   "source": [
    "\n",
    "# Performing PCA to reduce the dimension before clustering\n",
    "pca = PCA()\n",
    "\n",
    "pca.fit(embeddings)\n",
    "cumulative_variance = pca.explained_variance_ratio_.cumsum()\n",
    "n_components_95 = (cumulative_variance < 0.95).sum() + 1\n",
    "\n",
    "print(f\"Number of components to keep 95% of variance: {n_components_95}\")\n",
    "\n",
    "pca_95 = PCA(n_components=n_components_95)\n",
    "reduced_data_95 = pca_95.fit_transform(embeddings)\n",
    "\n",
    "k_values = range(5, 25) \n",
    "wcss = []\n",
    "\n",
    "for k in k_values:\n",
    "    kmeans = KMeans(n_clusters=k, random_state=256, n_init=10)\n",
    "    kmeans.fit(reduced_data_95)\n",
    "    wcss.append(kmeans.inertia_)\n",
    "\n",
    "# Plotting the results\n",
    "plt.figure(figsize=(10, 6))\n",
    "plt.plot(k_values, wcss, '-o', color='black')\n",
    "plt.title('The Elbow Method')\n",
    "plt.xlabel('Number of clusters (k)')\n",
    "plt.ylabel('WCSS')\n",
    "plt.xticks(k_values)\n",
    "plt.grid(True)\n",
    "plt.show()\n",
    "\n",
    "k = 10\n",
    "kmeans = KMeans(n_clusters=k, random_state=256, n_init=10).fit(embeddings)\n",
    "lyrics['cluster_assignment'] = kmeans.labels_"
   ]
  },
  {
   "cell_type": "code",
   "execution_count": 57,
   "metadata": {},
   "outputs": [
    {
     "name": "stdout",
     "output_type": "stream",
     "text": [
      "{4: 39, 2: 37, 8: 34, 9: 21, 0: 40, 5: 30, 3: 55, 7: 22, 6: 25, 1: 24}\n"
     ]
    }
   ],
   "source": [
    "cluster_sizes = {}\n",
    "\n",
    "for label in lyrics['cluster_assignment']:\n",
    "    if label in cluster_sizes:\n",
    "        cluster_sizes[label] += 1\n",
    "    else:\n",
    "        cluster_sizes[label] = 1\n",
    "\n",
    "print(cluster_sizes)\n",
    "\n",
    "clusters = lyrics[lyrics[\"cluster_assignment\"] == 5]"
   ]
  },
  {
   "cell_type": "code",
   "execution_count": 58,
   "metadata": {},
   "outputs": [
    {
     "data": {
      "image/png": "[encoded data removed]",
      "text/plain": [
       "<Figure size 1200x600 with 1 Axes>"
      ]
     },
     "metadata": {},
     "output_type": "display_data"
    },
    {
     "name": "stderr",
     "output_type": "stream",
     "text": [
      "/var/folders/fs/v9vqgp9d5zb2fzzy63_b2gcr0000gn/T/ipykernel_22966/3362208884.py:16: SettingWithCopyWarning:\n",
      "\n",
      "\n",
      "A value is trying to be set on a copy of a slice from a DataFrame.\n",
      "Try using .loc[row_indexer,col_indexer] = value instead\n",
      "\n",
      "See the caveats in the documentation: https://pandas.pydata.org/pandas-docs/stable/user_guide/indexing.html#returning-a-view-versus-a-copy\n",
      "\n"
     ]
    },
    {
     "data": {
      "image/png": "[encoded data removed]",
      "text/plain": [
       "<Figure size 1200x600 with 1 Axes>"
      ]
     },
     "metadata": {},
     "output_type": "display_data"
    }
   ],
   "source": [
    "# Plotting the distribution for 'album_name'\n",
    "plt.figure(figsize=(12, 6))\n",
    "album_name_counts = clusters['album_name'].value_counts()\n",
    "plt.bar(album_name_counts.index, album_name_counts.values)\n",
    "plt.xlabel('Album Name')\n",
    "plt.ylabel('Frequency')\n",
    "plt.title('Distribution of Album Names in Cluster')\n",
    "plt.xticks(rotation=45)\n",
    "plt.tight_layout()\n",
    "plt.show()\n",
    "\n",
    "# Plotting the distribution for 'peak_pos'\n",
    "plt.figure(figsize=(12, 6))\n",
    "\n",
    "# Handling NaN values by categorizing them as >100\n",
    "clusters['peak_pos_bucketed'] = clusters['peak_pos'].apply(lambda x: '>100' if pd.isna(x) else str(int(x//10)*10) + '-' + str(int(x//10)*10 + 9))\n",
    "\n",
    "# Counting values in each bucket including the '>100' category\n",
    "peak_pos_counts = clusters['peak_pos_bucketed'].value_counts().sort_index()\n",
    "\n",
    "plt.bar(peak_pos_counts.index, peak_pos_counts.values)\n",
    "plt.xlabel('Peak Position Bucket')\n",
    "plt.ylabel('Frequency')\n",
    "plt.title('Distribution of Peak Positions in Cluster')\n",
    "plt.xticks(rotation=45)\n",
    "plt.tight_layout()\n",
    "plt.show()"
   ]
  },
  {
   "cell_type": "code",
   "execution_count": 23,
   "metadata": {},
   "outputs": [],
   "source": [
    "lyrics.to_csv(\"../data/full.csv\", index=False)"
   ]
  }
 ],
 "metadata": {
  "kernelspec": {
   "display_name": "Python 3",
   "language": "python",
   "name": "python3"
  },
  "language_info": {
   "codemirror_mode": {
    "name": "ipython",
    "version": 3
   },
   "file_extension": ".py",
   "mimetype": "text/x-python",
   "name": "python",
   "nbconvert_exporter": "python",
   "pygments_lexer": "ipython3",
   "version": "3.10.2"
  }
 },
 "nbformat": 4,
 "nbformat_minor": 2
}
