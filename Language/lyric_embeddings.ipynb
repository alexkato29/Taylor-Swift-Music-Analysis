{
 "cells": [
  {
   "cell_type": "code",
   "execution_count": 1,
   "metadata": {},
   "outputs": [
    {
     "name": "stderr",
     "output_type": "stream",
     "text": [
      "2024-04-01 18:32:27.966840: I tensorflow/core/platform/cpu_feature_guard.cc:182] This TensorFlow binary is optimized to use available CPU instructions in performance-critical operations.\n",
      "To enable the following instructions: AVX2 FMA, in other operations, rebuild TensorFlow with the appropriate compiler flags.\n"
     ]
    }
   ],
   "source": [
    "import ast\n",
    "import numpy as np\n",
    "import pandas as pd\n",
    "from collections import Counter\n",
    "\n",
    "import matplotlib.pyplot as plt\n",
    "import plotly.graph_objects as go\n",
    "\n",
    "import torch\n",
    "\n",
    "from transformers import AutoTokenizer, AutoModelWithLMHead\n",
    "\n",
    "from sklearn.cluster import KMeans\n",
    "\n",
    "import umap\n",
    "from sklearn.manifold import TSNE"
   ]
  },
  {
   "cell_type": "code",
   "execution_count": 2,
   "metadata": {},
   "outputs": [
    {
     "data": {
      "text/plain": [
       "'lyrics = pd.read_csv(\"../data/full.csv\")\\n\\nto_keep = [\"track_name\", \"peak_pos\", \"album_name\", \"lyrics\"]\\n\\nlyrics = lyrics[to_keep]\\nlyrics[\\'peak_pos_bucketed\\'] = lyrics[\\'peak_pos\\'].apply(lambda x: \\'>100\\' if pd.isna(x) else str(int(x//10)*10) + \\'-\\' + str(int(x//10)*10 + 9))\\n\\n\\n# This is GPT2 pretrained on Taylor Swift lyrics\\ntokenizer = AutoTokenizer.from_pretrained(\"huggingartists/taylor-swift\")\\nmodel = AutoModelWithLMHead.from_pretrained(\"huggingartists/taylor-swift\")\\n\\n# This tokenizer doesn\\'t have a padding token by default...\\ntokenizer.pad_token = tokenizer.eos_token\\n\\ndef encode_text(text):\\n    inputs = tokenizer(text, return_tensors=\\'pt\\', max_length=512, truncation=True, padding=\\'max_length\\')\\n    \\n    with torch.no_grad(): \\n        outputs = model(**inputs, output_hidden_states=True)\\n\\n    embeddings = outputs.hidden_states[-1].mean(dim=1)\\n    return embeddings\\n\\n\\n# https://huggingface.co/huggingartists/taylor-swift\\n# lyrics[\\'latent_embedding\\'] = lyrics[\\'lyrics\\'].apply(lambda x: encode_text(x))'"
      ]
     },
     "execution_count": 2,
     "metadata": {},
     "output_type": "execute_result"
    }
   ],
   "source": [
    "\"\"\"lyrics = pd.read_csv(\"../data/full.csv\")\n",
    "\n",
    "to_keep = [\"track_name\", \"peak_pos\", \"album_name\", \"lyrics\"]\n",
    "\n",
    "lyrics = lyrics[to_keep]\n",
    "lyrics['peak_pos_bucketed'] = lyrics['peak_pos'].apply(lambda x: '>100' if pd.isna(x) else str(int(x//10)*10) + '-' + str(int(x//10)*10 + 9))\n",
    "\n",
    "\n",
    "# This is GPT2 pretrained on Taylor Swift lyrics\n",
    "tokenizer = AutoTokenizer.from_pretrained(\"huggingartists/taylor-swift\")\n",
    "model = AutoModelWithLMHead.from_pretrained(\"huggingartists/taylor-swift\")\n",
    "\n",
    "# This tokenizer doesn't have a padding token by default...\n",
    "tokenizer.pad_token = tokenizer.eos_token\n",
    "\n",
    "def encode_text(text):\n",
    "    inputs = tokenizer(text, return_tensors='pt', max_length=512, truncation=True, padding='max_length')\n",
    "    \n",
    "    with torch.no_grad(): \n",
    "        outputs = model(**inputs, output_hidden_states=True)\n",
    "\n",
    "    embeddings = outputs.hidden_states[-1].mean(dim=1)\n",
    "    return embeddings\n",
    "\n",
    "\n",
    "# https://huggingface.co/huggingartists/taylor-swift\n",
    "# lyrics['latent_embedding'] = lyrics['lyrics'].apply(lambda x: encode_text(x))\"\"\""
   ]
  },
  {
   "cell_type": "code",
   "execution_count": 3,
   "metadata": {},
   "outputs": [
    {
     "name": "stdout",
     "output_type": "stream",
     "text": [
      "track_name             object\n",
      "peak_pos              float64\n",
      "album_name             object\n",
      "lyrics                 object\n",
      "peak_pos_bucketed      object\n",
      "latent_embedding       object\n",
      "cluster_assignment      int64\n",
      "dtype: object\n"
     ]
    },
    {
     "data": {
      "text/html": [
       "<div>\n",
       "<style scoped>\n",
       "    .dataframe tbody tr th:only-of-type {\n",
       "        vertical-align: middle;\n",
       "    }\n",
       "\n",
       "    .dataframe tbody tr th {\n",
       "        vertical-align: top;\n",
       "    }\n",
       "\n",
       "    .dataframe thead th {\n",
       "        text-align: right;\n",
       "    }\n",
       "</style>\n",
       "<table border=\"1\" class=\"dataframe\">\n",
       "  <thead>\n",
       "    <tr style=\"text-align: right;\">\n",
       "      <th></th>\n",
       "      <th>track_name</th>\n",
       "      <th>peak_pos</th>\n",
       "      <th>album_name</th>\n",
       "      <th>lyrics</th>\n",
       "      <th>peak_pos_bucketed</th>\n",
       "      <th>latent_embedding</th>\n",
       "      <th>cluster_assignment</th>\n",
       "    </tr>\n",
       "  </thead>\n",
       "  <tbody>\n",
       "    <tr>\n",
       "      <th>0</th>\n",
       "      <td>...Ready For It?</td>\n",
       "      <td>4.0</td>\n",
       "      <td>reputation</td>\n",
       "      <td>knew he was a killer first time that i saw him...</td>\n",
       "      <td>0-9</td>\n",
       "      <td>[tensor(-0.0335), tensor(0.6539), tensor(0.216...</td>\n",
       "      <td>6</td>\n",
       "    </tr>\n",
       "    <tr>\n",
       "      <th>1</th>\n",
       "      <td>'tis the damn season</td>\n",
       "      <td>39.0</td>\n",
       "      <td>evermore</td>\n",
       "      <td>if i wanted to know who you were hanging with ...</td>\n",
       "      <td>30-39</td>\n",
       "      <td>[tensor(0.1974), tensor(0.4486), tensor(-0.253...</td>\n",
       "      <td>4</td>\n",
       "    </tr>\n",
       "    <tr>\n",
       "      <th>2</th>\n",
       "      <td>\"Slut!\" (Taylor's Version) [From The Vault]</td>\n",
       "      <td>3.0</td>\n",
       "      <td>1989 (Taylor's Version)</td>\n",
       "      <td>flamingo pink, sunrise boulevard clink, clink,...</td>\n",
       "      <td>0-9</td>\n",
       "      <td>[tensor(-0.0312), tensor(0.5336), tensor(0.154...</td>\n",
       "      <td>0</td>\n",
       "    </tr>\n",
       "    <tr>\n",
       "      <th>3</th>\n",
       "      <td>22</td>\n",
       "      <td>20.0</td>\n",
       "      <td>Red</td>\n",
       "      <td>it feels like a perfect night to dress up like...</td>\n",
       "      <td>20-29</td>\n",
       "      <td>[tensor(0.2236), tensor(0.6578), tensor(-0.195...</td>\n",
       "      <td>1</td>\n",
       "    </tr>\n",
       "    <tr>\n",
       "      <th>4</th>\n",
       "      <td>22 (Taylor's Version)</td>\n",
       "      <td>52.0</td>\n",
       "      <td>Red (Taylor's Version)</td>\n",
       "      <td>it feels like a perfect night to dress up like...</td>\n",
       "      <td>50-59</td>\n",
       "      <td>[tensor(0.2230), tensor(0.7470), tensor(-0.246...</td>\n",
       "      <td>1</td>\n",
       "    </tr>\n",
       "  </tbody>\n",
       "</table>\n",
       "</div>"
      ],
      "text/plain": [
       "                                    track_name  peak_pos  \\\n",
       "0                             ...Ready For It?       4.0   \n",
       "1                         'tis the damn season      39.0   \n",
       "2  \"Slut!\" (Taylor's Version) [From The Vault]       3.0   \n",
       "3                                           22      20.0   \n",
       "4                        22 (Taylor's Version)      52.0   \n",
       "\n",
       "                album_name                                             lyrics  \\\n",
       "0               reputation  knew he was a killer first time that i saw him...   \n",
       "1                 evermore  if i wanted to know who you were hanging with ...   \n",
       "2  1989 (Taylor's Version)  flamingo pink, sunrise boulevard clink, clink,...   \n",
       "3                      Red  it feels like a perfect night to dress up like...   \n",
       "4   Red (Taylor's Version)  it feels like a perfect night to dress up like...   \n",
       "\n",
       "  peak_pos_bucketed                                   latent_embedding  \\\n",
       "0               0-9  [tensor(-0.0335), tensor(0.6539), tensor(0.216...   \n",
       "1             30-39  [tensor(0.1974), tensor(0.4486), tensor(-0.253...   \n",
       "2               0-9  [tensor(-0.0312), tensor(0.5336), tensor(0.154...   \n",
       "3             20-29  [tensor(0.2236), tensor(0.6578), tensor(-0.195...   \n",
       "4             50-59  [tensor(0.2230), tensor(0.7470), tensor(-0.246...   \n",
       "\n",
       "   cluster_assignment  \n",
       "0                   6  \n",
       "1                   4  \n",
       "2                   0  \n",
       "3                   1  \n",
       "4                   1  "
      ]
     },
     "execution_count": 3,
     "metadata": {},
     "output_type": "execute_result"
    }
   ],
   "source": [
    "# This assumes you have latent embeddings and a valid lyrics.csv. If not, run the chunk above.\n",
    "lyrics = pd.read_csv(\"../data/lyrics.csv\")\n",
    "lyrics['latent_embedding'] = lyrics['latent_embedding'].apply(lambda x: torch.tensor(ast.literal_eval(x)))\n",
    "print(lyrics.dtypes)\n",
    "lyrics.head()"
   ]
  },
  {
   "cell_type": "code",
   "execution_count": 4,
   "metadata": {},
   "outputs": [],
   "source": [
    "def plot_embeddings_interactive(embeddings, target_album=None, target_bucket=None):\n",
    "    \"\"\"\n",
    "    This is a function so we can see if there are patterns among different buckets of billboard scores.\n",
    "    It's a bit dizzying to look at everything overlaid...\n",
    "\n",
    "    This plot is interactive to make encoding EDA not as painful\n",
    "    \"\"\"\n",
    "    unique_albums = lyrics['album_name'].unique()\n",
    "    album_colors = plt.cm.rainbow(np.linspace(0, 1, len(unique_albums)))\n",
    "    album_color_map = {album: f'rgb({int(col[0]*255)}, {int(col[1]*255)}, {int(col[2]*255)})' for album, col in zip(unique_albums, album_colors)}\n",
    "\n",
    "    unique_buckets = lyrics['peak_pos_bucketed'].unique()\n",
    "    peak_pos_colors = plt.cm.Spectral(np.linspace(0, 1, len(unique_buckets)))\n",
    "    peak_pos_color_map = {bucket: f'rgb({int(col[0]*255)}, {int(col[1]*255)}, {int(col[2]*255)})' for bucket, col in zip(unique_buckets, peak_pos_colors)}\n",
    "\n",
    "    fig = go.Figure()\n",
    "\n",
    "    # Ensuring embeddings_2d is a NumPy array for indexing\n",
    "    embeddings_2d_np = np.array(embeddings)\n",
    "\n",
    "    # Add traces for album names\n",
    "    for album in unique_albums:\n",
    "        if target_album is not None and target_album != album:\n",
    "            continue\n",
    "        idx = lyrics['album_name'] == album\n",
    "        selected_embeddings = embeddings_2d_np[idx]\n",
    "        fig.add_trace(go.Scatter(x=selected_embeddings[:, 0], y=selected_embeddings[:, 1],\n",
    "                                 mode='markers', marker=dict(color=album_color_map[album], opacity=0.7 if target_album is None or target_album == album else 0.2),\n",
    "                                 name=album, text=lyrics[idx]['track_name']))\n",
    "\n",
    "    # Add traces for peak position buckets, set to be initially hidden (visible on legend click)\n",
    "    for bucket in unique_buckets:\n",
    "        if target_bucket is not None and target_bucket != bucket:\n",
    "            continue\n",
    "        idx = lyrics['peak_pos_bucketed'] == bucket\n",
    "        selected_embeddings = embeddings_2d_np[idx]\n",
    "        fig.add_trace(go.Scatter(x=selected_embeddings[:, 0], y=selected_embeddings[:, 1],\n",
    "                                 mode='markers', marker=dict(color=peak_pos_color_map[bucket], opacity=0.7 if target_bucket is None or target_bucket == bucket else 0.2),\n",
    "                                 name=bucket, text=lyrics[idx]['track_name'],\n",
    "                                 visible='legendonly'))\n",
    "\n",
    "    fig.update_layout(title='Interactive Plot of Song Embeddings',\n",
    "                      xaxis_title='TSNE 1',\n",
    "                      yaxis_title='TSNE 2',\n",
    "                      legend_title_text='Legend',\n",
    "                      hovermode='closest')\n",
    "\n",
    "    fig.show()"
   ]
  },
  {
   "cell_type": "code",
   "execution_count": 5,
   "metadata": {},
   "outputs": [
    {
     "data": {
      "image/png": "[encoded data removed]",
      "text/plain": [
       "<Figure size 1000x600 with 1 Axes>"
      ]
     },
     "metadata": {},
     "output_type": "display_data"
    }
   ],
   "source": [
    "embeddings = np.array([embedding.flatten() for embedding in lyrics['latent_embedding']])\n",
    "\n",
    "# Number of components is arbitrary for now\n",
    "ndims = 40\n",
    "umap_reducer = umap.UMAP(n_components=ndims)\n",
    "reduced_UMAP = umap_reducer.fit_transform(embeddings)\n",
    "\n",
    "k_values = range(5, 45) \n",
    "wcss = []\n",
    "\n",
    "for k in k_values:\n",
    "    kmeans = KMeans(n_clusters=k, random_state=256, n_init=10)\n",
    "    kmeans.fit(reduced_UMAP)\n",
    "    wcss.append(kmeans.inertia_)\n",
    "\n",
    "# Plotting the results\n",
    "plt.figure(figsize=(10, 6))\n",
    "plt.plot(k_values, wcss, '-o', color='black')\n",
    "plt.title('The Elbow Method')\n",
    "plt.xlabel('Number of clusters (k)')\n",
    "plt.ylabel('WCSS')\n",
    "plt.xticks(k_values)\n",
    "plt.grid(True)\n",
    "plt.show()"
   ]
  },
  {
   "cell_type": "code",
   "execution_count": 6,
   "metadata": {},
   "outputs": [
    {
     "data": {
      "application/vnd.plotly.v1+json": {
       "config": {
        "plotlyServerURL": "https://plot.ly"
       },
       "data": [
        {
         "marker": {
          "color": "rgb(127, 0, 255)",
          "opacity": 0.7
         },
         "mode": "markers",
         "name": "reputation",
         "text": [
          "...Ready For It?",
          "Call It What You Want",
          "Dancing With Our Hands Tied",
          "Delicate",
          "Don't Blame Me",
          "Dress",
          "End Game",
          "Getaway Car",
          "Gorgeous",
          "I Did Something Bad",
          "King Of My Heart",
          "Look What You Made Me Do",
          "New Year's Day",
          "So It Goes...",
          "This Is Why We Can't Have Nice Things"
         ],
         "type": "scatter",
         "x": [
          -17.486330032348633,
          -13.040830612182617,
          -19.90822982788086,
          -23.607263565063477,
          -12.525033950805664,
          -16.503976821899414,
          -18.305280685424805,
          -12.15103530883789,
          -20.039196014404297,
          -19.92391014099121,
          -18.901630401611328,
          -22.157140731811523,
          -20.41558265686035,
          -15.573047637939453,
          -15.631919860839844
         ],
         "y": [
          4.5636138916015625,
          -3.980611562728882,
          -6.1316118240356445,
          6.82640266418457,
          4.037259101867676,
          -3.758993625640869,
          -4.619959354400635,
          3.8512537479400635,
          -8.199427604675293,
          7.1844801902771,
          4.723714828491211,
          7.194543838500977,
          8.081218719482422,
          -4.698850154876709,
          -4.467038154602051
         ]
        },
        {
         "marker": {
          "color": "rgb(95, 49, 253)",
          "opacity": 0.7
         },
         "mode": "markers",
         "name": "evermore",
         "text": [
          "'tis the damn season",
          "champagne problems",
          "closure",
          "coney island",
          "cowboy like me",
          "dorothea",
          "evermore",
          "gold rush",
          "happiness",
          "it's time to go",
          "ivy",
          "long story short",
          "marjorie",
          "no body, no crime",
          "right where you left me",
          "tolerate it",
          "willow"
         ],
         "type": "scatter",
         "x": [
          -10.570603370666504,
          24.120187759399414,
          21.760602951049805,
          -3.360124349594116,
          20.170259475708008,
          -0.3973499834537506,
          -2.2332913875579834,
          12.468440055847168,
          -17.493240356445312,
          -1.9453564882278442,
          -8.627769470214844,
          -9.519254684448242,
          20.42747688293457,
          -9.707674026489258,
          -17.112953186035156,
          24.498008728027344,
          -18.514204025268555
         ],
         "y": [
          -2.4582152366638184,
          0.717688262462616,
          -3.2180871963500977,
          -1.2408076524734497,
          2.3148956298828125,
          -2.6452887058258057,
          -1.750690221786499,
          4.929858684539795,
          -7.7015604972839355,
          -1.718564510345459,
          -1.4334564208984375,
          -1.7825819253921509,
          2.2581851482391357,
          -2.1069538593292236,
          -7.587738037109375,
          1.274169683456421,
          5.743708610534668
         ]
        },
        {
         "marker": {
          "color": "rgb(63, 97, 250)",
          "opacity": 0.7
         },
         "mode": "markers",
         "name": "1989 (Taylor's Version)",
         "text": [
          "\"Slut!\" (Taylor's Version) [From The Vault]",
          "All You Had To Do Was Stay (Taylor's Version)",
          "Bad Blood (Remix) [Taylor's Version]",
          "Bad Blood (Taylor's Version)",
          "Blank Space (Taylor's Version)",
          "Clean (Taylor's Version)",
          "How You Get The Girl (Taylor's Version)",
          "I Know Places (Taylor's Version)",
          "I Wish You Would (Taylor's Version)",
          "Is It Over Now? (Taylor's Version) [From The Vault]",
          "New Romantics (Taylor's Version)",
          "Now That We Don't Talk (Taylor's Version) [From The Vault]",
          "Out Of The Woods (Taylor's Version)",
          "Say Don't Go (Taylor's Version) [From The Vault]",
          "Shake It Off (Taylor's Version)",
          "Style (Taylor's Version)",
          "Suburban Legends (Taylor's Version) [From The Vault]",
          "Sweeter Than Fiction (Taylor's Version)",
          "This Love (Taylor's Version)",
          "Welcome To New York (Taylor's Version)",
          "Wildest Dreams (Taylor's Version)",
          "Wonderland (Taylor's Version)",
          "You Are In Love (Taylor's Version)"
         ],
         "type": "scatter",
         "x": [
          -3.8808774948120117,
          -21.532127380371094,
          -18.2873477935791,
          -21.4028263092041,
          -20.89488410949707,
          -1.5542714595794678,
          -20.654220581054688,
          -7.767573833465576,
          -21.0601863861084,
          -16.477188110351562,
          -15.744095802307129,
          24.832622528076172,
          -20.753786087036133,
          -22.790658950805664,
          -23.659645080566406,
          -11.7391996383667,
          19.07515525817871,
          -19.955368041992188,
          -22.048452377319336,
          -9.981378555297852,
          -23.889436721801758,
          -16.674964904785156,
          -14.564315795898438
         ],
         "y": [
          -1.147225022315979,
          -5.605617523193359,
          -7.831057548522949,
          7.177906513214111,
          8.131584167480469,
          1.483626127243042,
          -8.187674522399902,
          -1.4358536005020142,
          -5.6951680183410645,
          -5.274808406829834,
          4.199352264404297,
          0.03472442179918289,
          4.217421531677246,
          -7.273042678833008,
          6.475028038024902,
          3.736506223678589,
          -0.9400456547737122,
          -7.689333438873291,
          -7.3029680252075195,
          2.8141815662384033,
          -6.481441974639893,
          -2.197800397872925,
          -4.817992210388184
         ]
        },
        {
         "marker": {
          "color": "rgb(31, 142, 243)",
          "opacity": 0.7
         },
         "mode": "markers",
         "name": "Red",
         "text": [
          "22",
          "All Too Well",
          "Begin Again",
          "Come Back...Be Here",
          "Everything Has Changed",
          "Girl At Home",
          "Holy Ground",
          "I Almost Do",
          "I Knew You Were Trouble",
          "Red",
          "Red (Original Demo Recording)",
          "Sad Beautiful Tragic",
          "Starlight",
          "State Of Grace",
          "State Of Grace (Acoustic Version)",
          "Stay Stay Stay",
          "The Last Time",
          "The Lucky One",
          "The Moment I Knew",
          "Treacherous",
          "Treacherous (Original Demo Recording)",
          "We Are Never Ever Getting Back Together"
         ],
         "type": "scatter",
         "x": [
          -23.453340530395508,
          -14.158499717712402,
          11.27736759185791,
          20.156436920166016,
          -16.192041397094727,
          -15.555082321166992,
          19.518783569335938,
          13.76269245147705,
          -22.508399963378906,
          -0.6342834234237671,
          12.689477920532227,
          26.703269958496094,
          -9.788559913635254,
          25.845067977905273,
          27.575410842895508,
          -0.8887822031974792,
          -19.674297332763672,
          -6.505063533782959,
          -0.9827641844749451,
          13.015191078186035,
          12.98556900024414,
          -24.241329193115234
         ],
         "y": [
          -6.341862678527832,
          3.498525381088257,
          0.9182430505752563,
          2.216083526611328,
          -3.805238962173462,
          -4.0858001708984375,
          -1.535394549369812,
          1.9972026348114014,
          -6.399843215942383,
          1.815975308418274,
          4.039397239685059,
          -7.295376777648926,
          3.2764337062835693,
          -2.967844247817993,
          -5.649478435516357,
          1.3400211334228516,
          -7.551457405090332,
          -0.3870045840740204,
          -1.5066866874694824,
          7.114011287689209,
          6.838678359985352,
          -6.098775863647461
         ]
        },
        {
         "marker": {
          "color": "rgb(0, 180, 235)",
          "opacity": 0.7
         },
         "mode": "markers",
         "name": "Red (Taylor's Version)",
         "text": [
          "22 (Taylor's Version)",
          "All Too Well (10 Minute Version) [Taylor's Version] [From The Vault]",
          "All Too Well (Taylor's Version)",
          "Babe (Taylor's Version) [From The Vault]",
          "Begin Again (Taylor's Version)",
          "Better Man (Taylor's Version) [From The Vault]",
          "Come Back...Be Here (Taylor's Version)",
          "Everything Has Changed (Taylor's Version)",
          "Forever Winter (Taylor's Version) [From The Vault]",
          "Girl At Home (Taylor's Version)",
          "Holy Ground (Taylor's Version)",
          "I Almost Do (Taylor's Version)",
          "I Bet You Think About Me (Taylor's Version) [From The Vault]",
          "I Knew You Were Trouble (Taylor's Version)",
          "Message In A Bottle (Taylor's Version) [From The Vault]",
          "Nothing New (Taylor's Version) [From The Vault]",
          "Red (Taylor's Version)",
          "Ronan (Taylor's Version)",
          "Run (Taylor's Version) [From The Vault]",
          "Sad Beautiful Tragic (Taylor's Version)",
          "Starlight (Taylor's Version)",
          "State Of Grace (Acoustic Version) [Taylor's Version]",
          "State Of Grace (Taylor's Version)",
          "Stay Stay Stay (Taylor's Version)",
          "The Last Time (Taylor's Version)",
          "The Lucky One (Taylor's Version)",
          "The Moment I Knew (Taylor's Version)",
          "The Very First Night (Taylor's Version) [From The Vault]",
          "Treacherous (Taylor's Version)",
          "We Are Never Ever Getting Back Together (Taylor's Version)"
         ],
         "type": "scatter",
         "x": [
          -23.53074836730957,
          -13.57060718536377,
          -14.234100341796875,
          -1.4338597059249878,
          11.598925590515137,
          -14.038520812988281,
          20.030698776245117,
          -15.875246047973633,
          24.76029396057129,
          -15.030095100402832,
          20.434600830078125,
          14.246294021606445,
          -12.22585678100586,
          -22.72804832458496,
          -20.925840377807617,
          -1.7729301452636719,
          -23.16045570373535,
          22.06730079650879,
          -12.523688316345215,
          26.31950569152832,
          -19.098936080932617,
          27.361066818237305,
          -1.2313023805618286,
          -0.9298422932624817,
          -19.20918083190918,
          -6.5521931648254395,
          -1.3478224277496338,
          12.496210098266602,
          12.409965515136719,
          -24.305389404296875
         ],
         "y": [
          -5.704012393951416,
          3.4068210124969482,
          3.5524072647094727,
          1.2116731405258179,
          1.1440646648406982,
          2.9091222286224365,
          2.011475086212158,
          -3.6020827293395996,
          1.9504625797271729,
          -3.6354482173919678,
          -1.647059679031372,
          1.7285722494125366,
          -3.5631229877471924,
          -6.477637767791748,
          -5.753631591796875,
          -1.3271946907043457,
          -7.078427314758301,
          1.7529114484786987,
          2.634453535079956,
          -6.939699172973633,
          6.553272724151611,
          -5.127459526062012,
          -0.6904625296592712,
          1.62906014919281,
          -7.463474273681641,
          -0.3788039982318878,
          -1.3227860927581787,
          5.472577095031738,
          7.340519905090332,
          -5.911107063293457
         ]
        },
        {
         "marker": {
          "color": "rgb(32, 212, 224)",
          "opacity": 0.7
         },
         "mode": "markers",
         "name": "Taylor Swift",
         "text": [
          "A Perfectly Good Heart",
          "A Place In This World",
          "Cold As You",
          "I'm Only Me When I'm With You",
          "I'm Only Me When I'm With You",
          "Invisible",
          "Mary's Song (Oh My My My)",
          "Our Song",
          "Picture To Burn",
          "Should've Said No",
          "Stay Beautiful",
          "Teardrops On My Guitar",
          "Teardrops On My Guitar (Pop Version)",
          "The Outside",
          "Tied Together With A Smile",
          "Tim McGraw"
         ],
         "type": "scatter",
         "x": [
          26.39866828918457,
          24.647674560546875,
          24.3842830657959,
          21.446996688842773,
          21.33724594116211,
          25.62575340270996,
          -0.25677549839019775,
          -11.174510955810547,
          12.142837524414062,
          -0.787988007068634,
          25.166545867919922,
          13.03380012512207,
          12.783430099487305,
          25.865291595458984,
          20.608701705932617,
          -10.05958080291748
         ],
         "y": [
          -4.660981178283691,
          -4.365326404571533,
          -4.878457546234131,
          1.9903957843780518,
          2.2807278633117676,
          -4.623276710510254,
          -2.0134878158569336,
          4.1847825050354,
          6.537729263305664,
          1.3263263702392578,
          -0.9889698028564453,
          2.437087297439575,
          3.148434638977051,
          -4.732910633087158,
          -2.3603899478912354,
          3.4359586238861084
         ]
        },
        {
         "marker": {
          "color": "rgb(64, 236, 211)",
          "opacity": 0.7
         },
         "mode": "markers",
         "name": "Lover",
         "text": [
          "Afterglow",
          "Cornelia Street",
          "Cruel Summer",
          "Daylight",
          "Death By A Thousand Cuts",
          "False God",
          "I Forgot That You Existed",
          "I Think He Knows",
          "It's Nice To Have A Friend",
          "London Boy",
          "Lover",
          "ME!",
          "Miss Americana & The Heartbreak Prince",
          "Paper Rings",
          "Soon You'll Get Better",
          "The Archer",
          "The Man",
          "You Need To Calm Down"
         ],
         "type": "scatter",
         "x": [
          -11.135488510131836,
          -11.555359840393066,
          -21.84680938720703,
          -20.293344497680664,
          -19.934303283691406,
          12.853529930114746,
          17.589088439941406,
          -10.426255226135254,
          27.258407592773438,
          -12.092707633972168,
          14.174192428588867,
          -23.494787216186523,
          -15.017695426940918,
          -19.652496337890625,
          23.051897048950195,
          16.858638763427734,
          -18.363304138183594,
          -23.15325164794922
         ],
         "y": [
          3.0323963165283203,
          4.646475315093994,
          5.9624342918396,
          -5.589935302734375,
          7.438277721405029,
          6.278748512268066,
          -0.4291267991065979,
          -2.0769379138946533,
          -6.670370578765869,
          1.1590932607650757,
          1.628736138343811,
          6.3587236404418945,
          3.891733407974243,
          -6.874755382537842,
          -2.879222869873047,
          0.36375537514686584,
          -5.041549205780029,
          6.4882636070251465
         ]
        },
        {
         "marker": {
          "color": "rgb(96, 250, 196)",
          "opacity": 0.7
         },
         "mode": "markers",
         "name": "nan",
         "text": [],
         "type": "scatter",
         "x": [],
         "y": []
        },
        {
         "marker": {
          "color": "rgb(128, 254, 179)",
          "opacity": 0.7
         },
         "mode": "markers",
         "name": "1989",
         "text": [
          "All You Had To Do Was Stay",
          "Bad Blood",
          "Blank Space",
          "Clean",
          "How You Get The Girl",
          "I Know Places",
          "I Wish You Would",
          "New Romantics",
          "Out Of The Woods",
          "Shake It Off",
          "Style",
          "This Love",
          "Welcome To New York",
          "Wildest Dreams",
          "Wonderland",
          "You Are In Love"
         ],
         "type": "scatter",
         "x": [
          -21.224323272705078,
          -21.133634567260742,
          -21.015140533447266,
          -22.296571731567383,
          -20.894493103027344,
          -7.809818744659424,
          -20.38475227355957,
          -14.308813095092773,
          -20.314851760864258,
          -23.245868682861328,
          -11.015642166137695,
          -22.522714614868164,
          -9.432188034057617,
          -23.8049259185791,
          -17.77972984313965,
          -14.852058410644531
         ],
         "y": [
          -5.323428630828857,
          7.571949005126953,
          8.123879432678223,
          -7.874669551849365,
          -8.173727989196777,
          -0.26961424946784973,
          -5.155458927154541,
          3.9687750339508057,
          4.534005641937256,
          7.025697231292725,
          3.5196914672851562,
          -7.248902320861816,
          2.5746877193450928,
          -6.597123622894287,
          -5.071639537811279,
          -4.621156215667725
         ]
        },
        {
         "marker": {
          "color": "rgb(160, 249, 161)",
          "opacity": 0.7
         },
         "mode": "markers",
         "name": "Midnights",
         "text": [
          "Anti-Hero",
          "Bejeweled",
          "Bigger Than The Whole Sky",
          "Dear Reader",
          "Glitch",
          "High Infidelity",
          "Hits Different",
          "Karma",
          "Karma (Remix)",
          "Labyrinth",
          "Lavender Haze",
          "Maroon",
          "Mastermind",
          "Midnight Rain",
          "Paris",
          "Question...?",
          "Snow On The Beach",
          "Snow On The Beach (More Lana Del Rey)",
          "Sweet Nothing",
          "Sweet Nothing (Piano Remix)",
          "The Great War",
          "Vigilante Shit",
          "Would've, Could've, Should've",
          "You're Losing Me (From The Vault)",
          "You're On Your Own, Kid",
          "You're On Your Own, Kid (Strings Remix)"
         ],
         "type": "scatter",
         "x": [
          -1.9936809539794922,
          -16.81653594970703,
          19.787456512451172,
          26.179969787597656,
          18.4771785736084,
          -8.707958221435547,
          -12.529031753540039,
          -8.519611358642578,
          -13.461103439331055,
          17.396394729614258,
          18.16448211669922,
          -1.8434875011444092,
          -1.2812529802322388,
          22.58342933654785,
          24.858421325683594,
          -15.779497146606445,
          -21.307613372802734,
          -20.715408325195312,
          18.65782928466797,
          18.341787338256836,
          -2.770854949951172,
          25.221288681030273,
          -15.75209903717041,
          -13.425015449523926,
          23.875215530395508,
          24.47365379333496
         ],
         "y": [
          -0.0766092911362648,
          -4.659409999847412,
          -2.1258208751678467,
          -3.3533194065093994,
          -1.573474407196045,
          -0.5662814974784851,
          -3.8350322246551514,
          -0.5145329236984253,
          -4.507199287414551,
          -0.7706621289253235,
          -0.8054777383804321,
          0.9687708020210266,
          -2.1075899600982666,
          -0.06514459103345871,
          1.9485613107681274,
          -5.057276725769043,
          -7.861835479736328,
          -6.935596942901611,
          -2.033931255340576,
          -2.0574018955230713,
          -1.3638124465942383,
          -1.0690535306930542,
          -6.123929023742676,
          -3.6589438915252686,
          2.337700605392456,
          1.4922723770141602
         ]
        },
        {
         "marker": {
          "color": "rgb(192, 234, 140)",
          "opacity": 0.7
         },
         "mode": "markers",
         "name": "folklore",
         "text": [
          "august",
          "betty",
          "cardigan",
          "epiphany",
          "exile",
          "hoax",
          "illicit affairs",
          "invisible string",
          "mad woman",
          "mirrorball",
          "my tears ricochet",
          "peace",
          "seven",
          "the 1",
          "the lakes",
          "the last great american dynasty",
          "this is me trying"
         ],
         "type": "scatter",
         "x": [
          -8.672572135925293,
          -20.80508804321289,
          -24.03495979309082,
          27.071456909179688,
          -20.661911010742188,
          24.97205924987793,
          25.578336715698242,
          22.687185287475586,
          24.00635528564453,
          20.356338500976562,
          24.29228401184082,
          20.91581153869629,
          27.652875900268555,
          12.157699584960938,
          12.94301700592041,
          -1.0830366611480713,
          23.63688087463379
         ],
         "y": [
          0.5114067792892456,
          6.7609639167785645,
          -5.785972595214844,
          -7.226866722106934,
          7.421975612640381,
          -5.436019420623779,
          -5.992772102355957,
          1.4521560668945312,
          2.142258644104004,
          -1.6715199947357178,
          1.7795361280441284,
          1.6738300323486328,
          -5.737597465515137,
          1.647324562072754,
          7.469184398651123,
          -2.1432573795318604,
          -4.452408313751221
         ]
        },
        {
         "marker": {
          "color": "rgb(224, 210, 119)",
          "opacity": 0.7
         },
         "mode": "markers",
         "name": "Speak Now",
         "text": [
          "Back To December",
          "Better Than Revenge",
          "Dear John",
          "Enchanted",
          "Haunted",
          "If This Was A Movie",
          "Innocent",
          "Last Kiss",
          "Long Live",
          "Mean",
          "Mine",
          "Never Grow Up",
          "Ours",
          "Sparks Fly",
          "Speak Now",
          "Superman",
          "The Story Of Us"
         ],
         "type": "scatter",
         "x": [
          -18.20182991027832,
          -19.589439392089844,
          -7.923610210418701,
          -1.4458003044128418,
          11.5916748046875,
          -17.05343246459961,
          23.8232479095459,
          -10.388140678405762,
          -19.721956253051758,
          -22.192827224731445,
          -10.730480194091797,
          -17.77107810974121,
          13.1173677444458,
          12.342161178588867,
          -11.589383125305176,
          -8.328460693359375,
          -13.278667449951172
         ],
         "y": [
          3.7884039878845215,
          4.657886981964111,
          0.09110380709171295,
          1.6602901220321655,
          2.1347501277923584,
          -2.874307632446289,
          1.3417383432388306,
          3.2849040031433105,
          6.0933966636657715,
          6.6226115226745605,
          3.7815170288085938,
          -3.736812114715576,
          6.648898601531982,
          3.6627793312072754,
          4.113281726837158,
          -0.2996191382408142,
          3.7327330112457275
         ]
        },
        {
         "marker": {
          "color": "rgb(255, 178, 96)",
          "opacity": 0.7
         },
         "mode": "markers",
         "name": "Speak Now (Taylor's Version)",
         "text": [
          "Back To December (Taylor's Version)",
          "Better Than Revenge (Taylor's Version)",
          "Castles Crumbling (Taylor's Version) [From The Vault]",
          "Dear John (Taylor's Version)",
          "Electric Touch (Taylor's Version) [From The Vault]",
          "Enchanted (Taylor's Version)",
          "Foolish One (Taylor's Version) [From The Vault]",
          "Haunted (Taylor's Version)",
          "I Can See You (Taylor's Version) [From The Vault]",
          "Innocent (Taylor's Version)",
          "Last Kiss (Taylor's Version)",
          "Long Live (Taylor's Version)",
          "Mean (Taylor's Version)",
          "Mine (Taylor's Version)",
          "Never Grow Up (Taylor's Version)",
          "Ours (Taylor's Version)",
          "Sparks Fly (Taylor's Version)",
          "Speak Now (Taylor's Version)",
          "Superman (Taylor's Version)",
          "The Story Of Us (Taylor's Version)",
          "Timeless (Taylor's Version) [From The Vault]",
          "When Emma Falls In Love (Taylor's Version) [From The Vault]"
         ],
         "type": "scatter",
         "x": [
          -19.841501235961914,
          -18.69889259338379,
          18.72035026550293,
          -8.20846939086914,
          -0.9596063494682312,
          -22.729164123535156,
          -14.225868225097656,
          12.072209358215332,
          -19.492841720581055,
          23.345211029052734,
          -11.203401565551758,
          -19.418455123901367,
          -22.357486724853516,
          -17.77671241760254,
          -17.542695999145508,
          12.99654769897461,
          11.746227264404297,
          -12.411611557006836,
          -8.816816329956055,
          -13.185680389404297,
          -16.777063369750977,
          -3.4458749294281006
         ],
         "y": [
          -5.625671863555908,
          4.369473457336426,
          0.42902469635009766,
          0.5516765117645264,
          -1.1724913120269775,
          -5.654808044433594,
          -2.5327513217926025,
          2.3586976528167725,
          -7.997723579406738,
          1.3796494007110596,
          3.8141493797302246,
          5.9232401847839355,
          6.790857315063477,
          5.047318458557129,
          -4.060163497924805,
          6.280478477478027,
          2.7513067722320557,
          4.370805740356445,
          -0.4930649697780609,
          3.528092622756958,
          -7.199321269989014,
          -1.0437229871749878
         ]
        },
        {
         "marker": {
          "color": "rgb(255, 139, 72)",
          "opacity": 0.7
         },
         "mode": "markers",
         "name": "Beautiful Eyes",
         "text": [
          "Beautiful Eyes",
          "I Heart ?",
          "I'm Only Me When I'm With You",
          "I'm Only Me When I'm With You",
          "Picture To Burn (Radio Edit)",
          "Should've Said No (Alternate Version)",
          "Teardrops On My Guitar (Acoustic Version)"
         ],
         "type": "scatter",
         "x": [
          26.489330291748047,
          22.00629425048828,
          21.31157684326172,
          21.219646453857422,
          12.120689392089844,
          12.312621116638184,
          12.78210163116455
         ],
         "y": [
          -6.478647708892822,
          2.131028890609741,
          2.1523730754852295,
          1.8873958587646484,
          6.97226095199585,
          2.3488359451293945,
          2.856318473815918
         ]
        },
        {
         "marker": {
          "color": "rgb(255, 95, 48)",
          "opacity": 0.7
         },
         "mode": "markers",
         "name": "Fearless",
         "text": [
          "Breathe",
          "Change",
          "Come In With The Rain",
          "Fearless",
          "Fifteen",
          "Forever & Always",
          "Forever & Always (Piano Version)",
          "Hey Stephen",
          "Jump Then Fall",
          "Love Story",
          "SuperStar",
          "Tell Me Why",
          "The Best Day",
          "The Other Side Of The Door",
          "The Way I Loved You",
          "Untouchable",
          "White Horse",
          "You Belong With Me",
          "You're Not Sorry"
         ],
         "type": "scatter",
         "x": [
          12.34675407409668,
          12.549362182617188,
          26.251644134521484,
          12.455692291259766,
          -13.647027969360352,
          -20.849699020385742,
          -21.34427833557129,
          -11.871028900146484,
          -7.958521366119385,
          -23.171724319458008,
          12.199285507202148,
          -0.4020569622516632,
          24.597003936767578,
          -9.066847801208496,
          12.304991722106934,
          -20.310766220092773,
          18.236370086669922,
          -18.936555862426758,
          -0.15949603915214539
         ],
         "y": [
          1.42451012134552,
          6.671211242675781,
          -4.780226707458496,
          5.977421283721924,
          -3.6889827251434326,
          5.171115875244141,
          4.774219036102295,
          3.238057851791382,
          -0.8243331909179688,
          7.079601287841797,
          7.1856608390808105,
          -1.969582200050354,
          2.4588708877563477,
          1.7511571645736694,
          3.3027117252349854,
          7.705383777618408,
          0.5064853429794312,
          5.400181293487549,
          1.3095979690551758
         ]
        },
        {
         "marker": {
          "color": "rgb(255, 46, 23)",
          "opacity": 0.7
         },
         "mode": "markers",
         "name": "Fearless (Taylor's Version)",
         "text": [
          "Breathe (Taylor's Version)",
          "Bye Bye Baby (Taylor's Version) [From The Vault]",
          "Change (Taylor's Version)",
          "Come In With The Rain (Taylor's Version)",
          "Don't You (Taylor's Version) [From The Vault]",
          "Fearless (Taylor's Version)",
          "Fifteen (Taylor's Version)",
          "Forever & Always (Piano Version) [Taylor's Version]",
          "Forever & Always (Taylor's Version)",
          "Hey Stephen (Taylor's Version)",
          "Jump Then Fall (Taylor's Version)",
          "Love Story (Taylor's Version)",
          "Mr. Perfectly Fine (Taylor's Version) [From The Vault]",
          "SuperStar (Taylor's Version)",
          "Tell Me Why (Taylor's Version)",
          "That's When (Taylor's Version) [From The Vault]",
          "The Best Day (Taylor's Version)",
          "The Other Side Of The Door (Taylor's Version)",
          "The Way I Loved You (Taylor's Version)",
          "Today Was A Fairytale (Taylor's Version)",
          "Untouchable (Taylor's Version)",
          "We Were Happy (Taylor's Version) [From The Vault]",
          "White Horse (Taylor's Version)",
          "You All Over Me (Taylor's Version) [From The Vault]",
          "You Belong With Me (Taylor's Version)",
          "You're Not Sorry (Taylor's Version)"
         ],
         "type": "scatter",
         "x": [
          -0.3864327669143677,
          12.225921630859375,
          12.010520935058594,
          25.969799041748047,
          24.14836311340332,
          12.178644180297852,
          -14.226407051086426,
          -23.61388397216797,
          -21.40641212463379,
          -12.378002166748047,
          -7.813525199890137,
          -22.901575088500977,
          -18.753353118896484,
          12.700469970703125,
          -0.41568779945373535,
          -21.87302589416504,
          24.644123077392578,
          -20.16301727294922,
          11.613710403442383,
          12.769599914550781,
          -20.993820190429688,
          25.22040557861328,
          18.172603607177734,
          18.799177169799805,
          -18.558076858520508,
          -0.20795875787734985
         ],
         "y": [
          0.8834803104400635,
          1.840301275253296,
          6.6890177726745605,
          -4.5658769607543945,
          -3.1738314628601074,
          6.0298171043396,
          -3.9133574962615967,
          -6.043997287750244,
          4.271083354949951,
          3.2811150550842285,
          -0.8268131017684937,
          6.609555244445801,
          -7.935561180114746,
          7.388745307922363,
          -1.6771574020385742,
          -8.185126304626465,
          2.444610595703125,
          5.962327003479004,
          2.6144866943359375,
          1.36489737033844,
          7.497206687927246,
          -3.4658844470977783,
          0.3388266861438751,
          -2.160478115081787,
          5.196522235870361,
          1.47409987449646
         ]
        },
        {
         "marker": {
          "color": "rgb(255, 0, 0)",
          "opacity": 0.7
         },
         "mode": "markers",
         "name": "The Taylor Swift Holiday Collection",
         "text": [
          "Christmas Must Be Something More",
          "Christmases When You Were Mine",
          "Last Christmas",
          "Santa Baby",
          "Silent Night",
          "White Christmas"
         ],
         "type": "scatter",
         "x": [
          23.515945434570312,
          27.712261199951172,
          17.956445693969727,
          27.143022537231445,
          27.49078941345215,
          26.828657150268555
         ],
         "y": [
          1.6457629203796387,
          -6.161428928375244,
          0.8936880230903625,
          -5.778781414031982,
          -7.012519836425781,
          -6.718005657196045
         ]
        },
        {
         "marker": {
          "color": "rgb(158, 1, 66)",
          "opacity": 0.7
         },
         "mode": "markers",
         "name": "0-9",
         "text": [
          "...Ready For It?",
          "\"Slut!\" (Taylor's Version) [From The Vault]",
          "All Too Well (Taylor's Version)",
          "Anti-Hero",
          "Back To December",
          "Bad Blood (Remix) [Taylor's Version]",
          "Bad Blood (Taylor's Version)",
          "Begin Again",
          "Bejeweled",
          "Blank Space",
          "cardigan",
          "Cruel Summer",
          "exile",
          "Fearless",
          "I Can See You (Taylor's Version) [From The Vault]",
          "I Don't Wanna Live Forever",
          "I Knew You Were Trouble",
          "Is It Over Now? (Taylor's Version) [From The Vault]",
          "Karma (Remix)",
          "Lavender Haze",
          "Look What You Made Me Do",
          "Love Story",
          "Maroon",
          "ME!",
          "Midnight Rain",
          "Mine",
          "Now That We Don't Talk (Taylor's Version) [From The Vault]",
          "Question...?",
          "Red",
          "Say Don't Go (Taylor's Version) [From The Vault]",
          "Shake It Off",
          "Snow On The Beach",
          "Speak Now",
          "Style",
          "Style (Taylor's Version)",
          "the 1",
          "Today Was A Fairytale",
          "We Are Never Ever Getting Back Together",
          "Wildest Dreams",
          "willow",
          "You Belong With Me",
          "You Need To Calm Down",
          "You're On Your Own, Kid"
         ],
         "type": "scatter",
         "visible": "legendonly",
         "x": [
          -17.486330032348633,
          -3.8808774948120117,
          -14.234100341796875,
          -1.9936809539794922,
          -18.20182991027832,
          -18.2873477935791,
          -21.4028263092041,
          11.27736759185791,
          -16.81653594970703,
          -21.015140533447266,
          -24.03495979309082,
          -21.84680938720703,
          -20.661911010742188,
          12.455692291259766,
          -19.492841720581055,
          -0.021189434453845024,
          -22.508399963378906,
          -16.477188110351562,
          -13.461103439331055,
          18.16448211669922,
          -22.157140731811523,
          -23.171724319458008,
          -1.8434875011444092,
          -23.494787216186523,
          22.58342933654785,
          -10.730480194091797,
          24.832622528076172,
          -15.779497146606445,
          -0.6342834234237671,
          -22.790658950805664,
          -23.245868682861328,
          -21.307613372802734,
          -11.589383125305176,
          -11.015642166137695,
          -11.7391996383667,
          12.157699584960938,
          12.844215393066406,
          -24.241329193115234,
          -23.8049259185791,
          -18.514204025268555,
          -18.936555862426758,
          -23.15325164794922,
          23.875215530395508
         ],
         "y": [
          4.5636138916015625,
          -1.147225022315979,
          3.5524072647094727,
          -0.0766092911362648,
          3.7884039878845215,
          -7.831057548522949,
          7.177906513214111,
          0.9182430505752563,
          -4.659409999847412,
          8.123879432678223,
          -5.785972595214844,
          5.9624342918396,
          7.421975612640381,
          5.977421283721924,
          -7.997723579406738,
          1.6343458890914917,
          -6.399843215942383,
          -5.274808406829834,
          -4.507199287414551,
          -0.8054777383804321,
          7.194543838500977,
          7.079601287841797,
          0.9687708020210266,
          6.3587236404418945,
          -0.06514459103345871,
          3.7815170288085938,
          0.03472442179918289,
          -5.057276725769043,
          1.815975308418274,
          -7.273042678833008,
          7.025697231292725,
          -7.861835479736328,
          4.113281726837158,
          3.5196914672851562,
          3.736506223678589,
          1.647324562072754,
          1.6223677396774292,
          -6.098775863647461,
          -6.597123622894287,
          5.743708610534668,
          5.400181293487549,
          6.4882636070251465,
          2.337700605392456
         ]
        },
        {
         "marker": {
          "color": "rgb(211, 60, 78)",
          "opacity": 0.7
         },
         "mode": "markers",
         "name": "30-39",
         "text": [
          "'tis the damn season",
          "Castles Crumbling (Taylor's Version) [From The Vault]",
          "Clean (Taylor's Version)",
          "Come In With The Rain",
          "Electric Touch (Taylor's Version) [From The Vault]",
          "Everything Has Changed",
          "Forever & Always",
          "High Infidelity",
          "I Know Places (Taylor's Version)",
          "I Wish You Would (Taylor's Version)",
          "invisible string",
          "Mean (Taylor's Version)",
          "Mr. Perfectly Fine (Taylor's Version) [From The Vault]",
          "no body, no crime",
          "Paris",
          "Safe & Sound",
          "seven",
          "Should've Said No",
          "Speak Now (Taylor's Version)",
          "Sweeter Than Fiction",
          "The Archer",
          "this is me trying",
          "When Emma Falls In Love (Taylor's Version) [From The Vault]",
          "Wonderland (Taylor's Version)"
         ],
         "type": "scatter",
         "visible": "legendonly",
         "x": [
          -10.570603370666504,
          18.72035026550293,
          -1.5542714595794678,
          26.251644134521484,
          -0.9596063494682312,
          -16.192041397094727,
          -20.849699020385742,
          -8.707958221435547,
          -7.767573833465576,
          -21.0601863861084,
          22.687185287475586,
          -22.357486724853516,
          -18.753353118896484,
          -9.707674026489258,
          24.858421325683594,
          26.469865798950195,
          27.652875900268555,
          -0.787988007068634,
          -12.411611557006836,
          -16.237510681152344,
          16.858638763427734,
          23.63688087463379,
          -3.4458749294281006,
          -16.674964904785156
         ],
         "y": [
          -2.4582152366638184,
          0.42902469635009766,
          1.483626127243042,
          -4.780226707458496,
          -1.1724913120269775,
          -3.805238962173462,
          5.171115875244141,
          -0.5662814974784851,
          -1.4358536005020142,
          -5.6951680183410645,
          1.4521560668945312,
          6.790857315063477,
          -7.935561180114746,
          -2.1069538593292236,
          1.9485613107681274,
          -5.660928249359131,
          -5.737597465515137,
          1.3263263702392578,
          4.370805740356445,
          -4.5653910636901855,
          0.36375537514686584,
          -4.452408313751221,
          -1.0437229871749878,
          -2.197800397872925
         ]
        },
        {
         "marker": {
          "color": "rgb(244, 109, 67)",
          "opacity": 0.7
         },
         "mode": "markers",
         "name": "20-29",
         "text": [
          "22",
          "All You Had To Do Was Stay (Taylor's Version)",
          "august",
          "Better Than Revenge (Taylor's Version)",
          "Bigger Than The Whole Sky",
          "Call It What You Want",
          "champagne problems",
          "Dear John (Taylor's Version)",
          "Fifteen",
          "Highway Don't Care",
          "Hits Different",
          "I Bet You Think About Me (Taylor's Version) [From The Vault]",
          "I Forgot That You Existed",
          "Innocent",
          "mirrorball",
          "New Romantics (Taylor's Version)",
          "Picture To Burn",
          "Red (Taylor's Version)",
          "Shake It Off (Taylor's Version)",
          "Sparks Fly (Taylor's Version)",
          "Superman",
          "SuperStar",
          "The Great War",
          "The Joker And The Queen",
          "The Man",
          "The Other Side Of The Door",
          "Would've, Could've, Should've",
          "You're Losing Me (From The Vault)"
         ],
         "type": "scatter",
         "visible": "legendonly",
         "x": [
          -23.453340530395508,
          -21.532127380371094,
          -8.672572135925293,
          -18.69889259338379,
          19.787456512451172,
          -13.040830612182617,
          24.120187759399414,
          -8.20846939086914,
          -13.647027969360352,
          -18.593639373779297,
          -12.529031753540039,
          -12.22585678100586,
          17.589088439941406,
          23.8232479095459,
          20.356338500976562,
          -15.744095802307129,
          12.142837524414062,
          -23.16045570373535,
          -23.659645080566406,
          11.746227264404297,
          -8.328460693359375,
          12.199285507202148,
          -2.770854949951172,
          26.517189025878906,
          -18.363304138183594,
          -9.066847801208496,
          -15.75209903717041,
          -13.425015449523926
         ],
         "y": [
          -6.341862678527832,
          -5.605617523193359,
          0.5114067792892456,
          4.369473457336426,
          -2.1258208751678467,
          -3.980611562728882,
          0.717688262462616,
          0.5516765117645264,
          -3.6889827251434326,
          3.8481338024139404,
          -3.8350322246551514,
          -3.5631229877471924,
          -0.4291267991065979,
          1.3417383432388306,
          -1.6715199947357178,
          4.199352264404297,
          6.537729263305664,
          -7.078427314758301,
          6.475028038024902,
          2.7513067722320557,
          -0.2996191382408142,
          7.1856608390808105,
          -1.3638124465942383,
          -6.054939270019531,
          -5.041549205780029,
          1.7511571645736694,
          -6.123929023742676,
          -3.6589438915252686
         ]
        },
        {
         "marker": {
          "color": "rgb(252, 172, 96)",
          "opacity": 0.7
         },
         "mode": "markers",
         "name": "50-59",
         "text": [
          "22 (Taylor's Version)",
          "Better Man (Taylor's Version) [From The Vault]",
          "Better Than Revenge",
          "Christmas Tree Farm",
          "Cornelia Street",
          "Dear John",
          "epiphany",
          "evermore",
          "happiness",
          "Haunted (Taylor's Version)",
          "I Almost Do (Taylor's Version)",
          "I Think He Knows",
          "Last Kiss (Taylor's Version)",
          "Long Live (Taylor's Version)",
          "Never Grow Up (Taylor's Version)",
          "Only The Young",
          "peace",
          "Treacherous (Taylor's Version)",
          "We Are Never Ever Getting Back Together (Taylor's Version)",
          "Wonderland",
          "You All Over Me (Taylor's Version) [From The Vault]"
         ],
         "type": "scatter",
         "visible": "legendonly",
         "x": [
          -23.53074836730957,
          -14.038520812988281,
          -19.589439392089844,
          -1.1794703006744385,
          -11.555359840393066,
          -7.923610210418701,
          27.071456909179688,
          -2.2332913875579834,
          -17.493240356445312,
          12.072209358215332,
          14.246294021606445,
          -10.426255226135254,
          -11.203401565551758,
          -19.418455123901367,
          -17.542695999145508,
          23.1453800201416,
          20.91581153869629,
          12.409965515136719,
          -24.305389404296875,
          -17.77972984313965,
          18.799177169799805
         ],
         "y": [
          -5.704012393951416,
          2.9091222286224365,
          4.657886981964111,
          0.23373928666114807,
          4.646475315093994,
          0.09110380709171295,
          -7.226866722106934,
          -1.750690221786499,
          -7.7015604972839355,
          2.3586976528167725,
          1.7285722494125366,
          -2.0769379138946533,
          3.8141493797302246,
          5.9232401847839355,
          -4.060163497924805,
          2.2680044174194336,
          1.6738300323486328,
          7.340519905090332,
          -5.911107063293457,
          -5.071639537811279,
          -2.160478115081787
         ]
        },
        {
         "marker": {
          "color": "rgb(254, 224, 139)",
          "opacity": 0.7
         },
         "mode": "markers",
         "name": ">100",
         "text": [
          "A Perfectly Good Heart",
          "A Place In This World",
          "All Too Well (10 Minute Version) [Taylor's Version] [From The Vault]",
          "All You Had To Do Was Stay",
          "American Girl",
          "Bad Blood",
          "Bad Blood (Remix)",
          "Beautiful Eyes",
          "Beautiful Ghosts",
          "Birch",
          "Breathe (Taylor's Version)",
          "Bye Bye Baby (Taylor's Version) [From The Vault]",
          "Change (Taylor's Version)",
          "Christmas Must Be Something More",
          "Christmases When You Were Mine",
          "Clean",
          "Cold As You",
          "Come Back...Be Here",
          "Come In With The Rain (Taylor's Version)",
          "Dancing With Our Hands Tied",
          "Don't Blame Me",
          "Don't You (Taylor's Version) [From The Vault]",
          "Dress",
          "Eyes Open (Taylor's Version)",
          "Forever & Always (Piano Version)",
          "Forever & Always (Piano Version) [Taylor's Version]",
          "Gasoline (Remix)",
          "Getaway Car",
          "Girl At Home",
          "Girl At Home (Taylor's Version)",
          "Half Of My Heart",
          "Hey Stephen (Taylor's Version)",
          "Holy Ground",
          "How You Get The Girl",
          "I Did Something Bad",
          "I Heart ?",
          "I Know Places",
          "I Wish You Would",
          "I'm Only Me When I'm With You",
          "I'm Only Me When I'm With You",
          "I'm Only Me When I'm With You",
          "I'm Only Me When I'm With You",
          "If This Was A Movie (Taylor's Version)",
          "Invisible",
          "it's time to go",
          "Jump Then Fall (Taylor's Version)",
          "Karma",
          "King Of My Heart",
          "Last Christmas",
          "Lover (Remix)",
          "Mary's Song (Oh My My My)",
          "New Year's Day",
          "Picture To Burn (Radio Edit)",
          "Red (Original Demo Recording)",
          "right where you left me",
          "Ronan (Taylor's Version)",
          "Sad Beautiful Tragic",
          "Safe & Sound (Taylor's Version)",
          "Santa Baby",
          "September",
          "Should've Said No (Alternate Version)",
          "Silent Night",
          "Snow On The Beach (More Lana Del Rey)",
          "So It Goes...",
          "Starlight",
          "State Of Grace (Acoustic Version)",
          "State Of Grace (Acoustic Version) [Taylor's Version]",
          "Stay Beautiful",
          "SuperStar (Taylor's Version)",
          "Sweet Nothing (Piano Remix)",
          "Sweeter Than Fiction (Taylor's Version)",
          "Teardrops On My Guitar (Acoustic Version)",
          "Teardrops On My Guitar (Pop Version)",
          "Tell Me Why",
          "Tell Me Why (Taylor's Version)",
          "That's When (Taylor's Version) [From The Vault]",
          "The Alcott",
          "The Best Day",
          "The Best Day (Taylor's Version)",
          "the lakes",
          "The Last Time",
          "The Lucky One",
          "The Other Side Of The Door (Taylor's Version)",
          "The Outside",
          "This Is Why We Can't Have Nice Things",
          "This Love",
          "Three Sad Virgins",
          "Tied Together With A Smile",
          "Today Was A Fairytale (Taylor's Version)",
          "Treacherous",
          "Treacherous (Original Demo Recording)",
          "Untouchable (Taylor's Version)",
          "We Were Happy (Taylor's Version) [From The Vault]",
          "White Christmas",
          "White Horse (Taylor's Version)",
          "You're Not Sorry (Taylor's Version)",
          "You're On Your Own, Kid (Strings Remix)"
         ],
         "type": "scatter",
         "visible": "legendonly",
         "x": [
          26.39866828918457,
          24.647674560546875,
          -13.57060718536377,
          -21.224323272705078,
          27.035539627075195,
          -21.133634567260742,
          -12.244895935058594,
          26.489330291748047,
          25.635377883911133,
          27.677597045898438,
          -0.3864327669143677,
          12.225921630859375,
          12.010520935058594,
          23.515945434570312,
          27.712261199951172,
          -22.296571731567383,
          24.3842830657959,
          20.156436920166016,
          25.969799041748047,
          -19.90822982788086,
          -12.525033950805664,
          24.14836311340332,
          -16.503976821899414,
          18.883926391601562,
          -21.34427833557129,
          -23.61388397216797,
          24.96424674987793,
          -12.15103530883789,
          -15.555082321166992,
          -15.030095100402832,
          18.06781578063965,
          -12.378002166748047,
          19.518783569335938,
          -20.894493103027344,
          -19.92391014099121,
          22.00629425048828,
          -7.809818744659424,
          -20.38475227355957,
          21.446996688842773,
          21.33724594116211,
          21.31157684326172,
          21.219646453857422,
          -18.65408706665039,
          25.62575340270996,
          -1.9453564882278442,
          -7.813525199890137,
          -8.519611358642578,
          -18.901630401611328,
          17.956445693969727,
          14.563894271850586,
          -0.25677549839019775,
          -20.41558265686035,
          12.120689392089844,
          12.689477920532227,
          -17.112953186035156,
          22.06730079650879,
          26.703269958496094,
          26.1972599029541,
          27.143022537231445,
          19.166656494140625,
          12.312621116638184,
          27.49078941345215,
          -20.715408325195312,
          -15.573047637939453,
          -9.788559913635254,
          27.575410842895508,
          27.361066818237305,
          25.166545867919922,
          12.700469970703125,
          18.341787338256836,
          -19.955368041992188,
          12.78210163116455,
          12.783430099487305,
          -0.4020569622516632,
          -0.41568779945373535,
          -21.87302589416504,
          -18.06847381591797,
          24.597003936767578,
          24.644123077392578,
          12.94301700592041,
          -19.674297332763672,
          -6.505063533782959,
          -20.16301727294922,
          25.865291595458984,
          -15.631919860839844,
          -22.522714614868164,
          -11.706055641174316,
          20.608701705932617,
          12.769599914550781,
          13.015191078186035,
          12.98556900024414,
          -20.993820190429688,
          25.22040557861328,
          26.828657150268555,
          18.172603607177734,
          -0.20795875787734985,
          24.47365379333496
         ],
         "y": [
          -4.660981178283691,
          -4.365326404571533,
          3.4068210124969482,
          -5.323428630828857,
          -6.456781387329102,
          7.571949005126953,
          -3.1925389766693115,
          -6.478647708892822,
          -2.3973135948181152,
          -6.597239971160889,
          0.8834803104400635,
          1.840301275253296,
          6.6890177726745605,
          1.6457629203796387,
          -6.161428928375244,
          -7.874669551849365,
          -4.878457546234131,
          2.216083526611328,
          -4.5658769607543945,
          -6.1316118240356445,
          4.037259101867676,
          -3.1738314628601074,
          -3.758993625640869,
          -1.7243373394012451,
          4.774219036102295,
          -6.043997287750244,
          -3.8671019077301025,
          3.8512537479400635,
          -4.0858001708984375,
          -3.6354482173919678,
          -1.7480710744857788,
          3.2811150550842285,
          -1.535394549369812,
          -8.173727989196777,
          7.1844801902771,
          2.131028890609741,
          -0.26961424946784973,
          -5.155458927154541,
          1.9903957843780518,
          2.2807278633117676,
          2.1523730754852295,
          1.8873958587646484,
          -4.0389909744262695,
          -4.623276710510254,
          -1.718564510345459,
          -0.8268131017684937,
          -0.5145329236984253,
          4.723714828491211,
          0.8936880230903625,
          1.3101271390914917,
          -2.0134878158569336,
          8.081218719482422,
          6.97226095199585,
          4.039397239685059,
          -7.587738037109375,
          1.7529114484786987,
          -7.295376777648926,
          -5.328403949737549,
          -5.778781414031982,
          -1.2834513187408447,
          2.3488359451293945,
          -7.012519836425781,
          -6.935596942901611,
          -4.698850154876709,
          3.2764337062835693,
          -5.649478435516357,
          -5.127459526062012,
          -0.9889698028564453,
          7.388745307922363,
          -2.0574018955230713,
          -7.689333438873291,
          2.856318473815918,
          3.148434638977051,
          -1.969582200050354,
          -1.6771574020385742,
          -8.185126304626465,
          -7.801941394805908,
          2.4588708877563477,
          2.444610595703125,
          7.469184398651123,
          -7.551457405090332,
          -0.3870045840740204,
          5.962327003479004,
          -4.732910633087158,
          -4.467038154602051,
          -7.248902320861816,
          -3.151853084564209,
          -2.3603899478912354,
          1.36489737033844,
          7.114011287689209,
          6.838678359985352,
          7.497206687927246,
          -3.4658844470977783,
          -6.718005657196045,
          0.3388266861438751,
          1.47409987449646,
          1.4922723770141602
         ]
        },
        {
         "marker": {
          "color": "rgb(254, 254, 190)",
          "opacity": 0.7
         },
         "mode": "markers",
         "name": "70-79",
         "text": [
          "Afterglow",
          "Babe",
          "Begin Again (Taylor's Version)",
          "cowboy like me",
          "Enchanted",
          "False God",
          "Fearless (Taylor's Version)",
          "Forever Winter (Taylor's Version) [From The Vault]",
          "hoax",
          "Holy Ground (Taylor's Version)",
          "Last Kiss",
          "marjorie",
          "Renegade",
          "Superman (Taylor's Version)",
          "The Way I Loved You",
          "You Belong With Me (Taylor's Version)"
         ],
         "type": "scatter",
         "visible": "legendonly",
         "x": [
          -11.135488510131836,
          -1.2113375663757324,
          11.598925590515137,
          20.170259475708008,
          -1.4458003044128418,
          12.853529930114746,
          12.178644180297852,
          24.76029396057129,
          24.97205924987793,
          20.434600830078125,
          -10.388140678405762,
          20.42747688293457,
          -20.270009994506836,
          -8.816816329956055,
          12.304991722106934,
          -18.558076858520508
         ],
         "y": [
          3.0323963165283203,
          0.9838184714317322,
          1.1440646648406982,
          2.3148956298828125,
          1.6602901220321655,
          6.278748512268066,
          6.0298171043396,
          1.9504625797271729,
          -5.436019420623779,
          -1.647059679031372,
          3.2849040031433105,
          2.2581851482391357,
          6.509668827056885,
          -0.4930649697780609,
          3.3027117252349854,
          5.196522235870361
         ]
        },
        {
         "marker": {
          "color": "rgb(230, 245, 152)",
          "opacity": 0.7
         },
         "mode": "markers",
         "name": "10-19",
         "text": [
          "All Of The Girls You Loved Before",
          "Back To December (Taylor's Version)",
          "Blank Space (Taylor's Version)",
          "Both Of Us",
          "Change",
          "Crazier",
          "Delicate",
          "Enchanted (Taylor's Version)",
          "End Game",
          "Eyes Open",
          "Gorgeous",
          "If This Was A Movie",
          "Jump Then Fall",
          "Labyrinth",
          "Love Story (Taylor's Version)",
          "Lover",
          "Mastermind",
          "Mean",
          "Mine (Taylor's Version)",
          "my tears ricochet",
          "Our Song",
          "Ours",
          "Out Of The Woods",
          "Out Of The Woods (Taylor's Version)",
          "Ronan",
          "Sparks Fly",
          "State Of Grace",
          "State Of Grace (Taylor's Version)",
          "Suburban Legends (Taylor's Version) [From The Vault]",
          "Sweet Nothing",
          "Teardrops On My Guitar",
          "the last great american dynasty",
          "Two Is Better Than One",
          "Untouchable",
          "Vigilante Shit",
          "Welcome To New York (Taylor's Version)",
          "White Horse",
          "Wildest Dreams (Taylor's Version)",
          "You're Not Sorry"
         ],
         "type": "scatter",
         "visible": "legendonly",
         "x": [
          -1.1543163061141968,
          -19.841501235961914,
          -20.89488410949707,
          -11.982495307922363,
          12.549362182617188,
          27.013208389282227,
          -23.607263565063477,
          -22.729164123535156,
          -18.305280685424805,
          22.688106536865234,
          -20.039196014404297,
          -17.05343246459961,
          -7.958521366119385,
          17.396394729614258,
          -22.901575088500977,
          14.174192428588867,
          -1.2812529802322388,
          -22.192827224731445,
          -17.77671241760254,
          24.29228401184082,
          -11.174510955810547,
          13.1173677444458,
          -20.314851760864258,
          -20.753786087036133,
          23.5993709564209,
          12.342161178588867,
          25.845067977905273,
          -1.2313023805618286,
          19.07515525817871,
          18.65782928466797,
          13.03380012512207,
          -1.0830366611480713,
          19.963605880737305,
          -20.310766220092773,
          25.221288681030273,
          -9.981378555297852,
          18.236370086669922,
          -23.889436721801758,
          -0.15949603915214539
         ],
         "y": [
          -1.60340416431427,
          -5.625671863555908,
          8.131584167480469,
          -3.449049949645996,
          6.671211242675781,
          -4.948541164398193,
          6.82640266418457,
          -5.654808044433594,
          -4.619959354400635,
          -3.7484402656555176,
          -8.199427604675293,
          -2.874307632446289,
          -0.8243331909179688,
          -0.7706621289253235,
          6.609555244445801,
          1.628736138343811,
          -2.1075899600982666,
          6.6226115226745605,
          5.047318458557129,
          1.7795361280441284,
          4.1847825050354,
          6.648898601531982,
          4.534005641937256,
          4.217421531677246,
          1.9653034210205078,
          3.6627793312072754,
          -2.967844247817993,
          -0.6904625296592712,
          -0.9400456547737122,
          -2.033931255340576,
          2.437087297439575,
          -2.1432573795318604,
          -2.024165630340576,
          7.705383777618408,
          -1.0690535306930542,
          2.8141815662384033,
          0.5064853429794312,
          -6.481441974639893,
          1.3095979690551758
         ]
        },
        {
         "marker": {
          "color": "rgb(169, 220, 164)",
          "opacity": 0.7
         },
         "mode": "markers",
         "name": "80-89",
         "text": [
          "All Too Well",
          "Breathe",
          "closure",
          "Come Back...Be Here (Taylor's Version)",
          "Daylight",
          "Fifteen (Taylor's Version)",
          "Long Live",
          "Never Grow Up",
          "Sad Beautiful Tragic (Taylor's Version)",
          "The Lucky One (Taylor's Version)",
          "The Moment I Knew (Taylor's Version)",
          "You Are In Love"
         ],
         "type": "scatter",
         "visible": "legendonly",
         "x": [
          -14.158499717712402,
          12.34675407409668,
          21.760602951049805,
          20.030698776245117,
          -20.293344497680664,
          -14.226407051086426,
          -19.721956253051758,
          -17.77107810974121,
          26.31950569152832,
          -6.5521931648254395,
          -1.3478224277496338,
          -14.852058410644531
         ],
         "y": [
          3.498525381088257,
          1.42451012134552,
          -3.2180871963500977,
          2.011475086212158,
          -5.589935302734375,
          -3.9133574962615967,
          6.0933966636657715,
          -3.736812114715576,
          -6.939699172973633,
          -0.3788039982318878,
          -1.3227860927581787,
          -4.621156215667725
         ]
        },
        {
         "marker": {
          "color": "rgb(102, 194, 165)",
          "opacity": 0.7
         },
         "mode": "markers",
         "name": "60-69",
         "text": [
          "Babe (Taylor's Version) [From The Vault]",
          "Carolina",
          "coney island",
          "Death By A Thousand Cuts",
          "dorothea",
          "Everything Has Changed (Taylor's Version)",
          "Forever & Always (Taylor's Version)",
          "Haunted",
          "I Almost Do",
          "Innocent (Taylor's Version)",
          "ivy",
          "London Boy",
          "long story short",
          "Ours (Taylor's Version)",
          "Soon You'll Get Better",
          "Stay Stay Stay (Taylor's Version)",
          "The Last Time (Taylor's Version)",
          "The Moment I Knew",
          "The Very First Night (Taylor's Version) [From The Vault]"
         ],
         "type": "scatter",
         "visible": "legendonly",
         "x": [
          -1.4338597059249878,
          25.88612174987793,
          -3.360124349594116,
          -19.934303283691406,
          -0.3973499834537506,
          -15.875246047973633,
          -21.40641212463379,
          11.5916748046875,
          13.76269245147705,
          23.345211029052734,
          -8.627769470214844,
          -12.092707633972168,
          -9.519254684448242,
          12.99654769897461,
          23.051897048950195,
          -0.9298422932624817,
          -19.20918083190918,
          -0.9827641844749451,
          12.496210098266602
         ],
         "y": [
          1.2116731405258179,
          -3.256722927093506,
          -1.2408076524734497,
          7.438277721405029,
          -2.6452887058258057,
          -3.6020827293395996,
          4.271083354949951,
          2.1347501277923584,
          1.9972026348114014,
          1.3796494007110596,
          -1.4334564208984375,
          1.1590932607650757,
          -1.7825819253921509,
          6.280478477478027,
          -2.879222869873047,
          1.62906014919281,
          -7.463474273681641,
          -1.5066866874694824,
          5.472577095031738
         ]
        },
        {
         "marker": {
          "color": "rgb(50, 134, 188)",
          "opacity": 0.7
         },
         "mode": "markers",
         "name": "40-49",
         "text": [
          "betty",
          "Dear Reader",
          "Foolish One (Taylor's Version) [From The Vault]",
          "Glitch",
          "gold rush",
          "How You Get The Girl (Taylor's Version)",
          "I Knew You Were Trouble (Taylor's Version)",
          "illicit affairs",
          "mad woman",
          "Message In A Bottle (Taylor's Version) [From The Vault]",
          "Miss Americana & The Heartbreak Prince",
          "New Romantics",
          "Nothing New (Taylor's Version) [From The Vault]",
          "Paper Rings",
          "Run (Taylor's Version) [From The Vault]",
          "The Story Of Us",
          "The Story Of Us (Taylor's Version)",
          "This Love (Taylor's Version)",
          "Tim McGraw",
          "Timeless (Taylor's Version) [From The Vault]",
          "tolerate it",
          "Welcome To New York",
          "You Are In Love (Taylor's Version)"
         ],
         "type": "scatter",
         "visible": "legendonly",
         "x": [
          -20.80508804321289,
          26.179969787597656,
          -14.225868225097656,
          18.4771785736084,
          12.468440055847168,
          -20.654220581054688,
          -22.72804832458496,
          25.578336715698242,
          24.00635528564453,
          -20.925840377807617,
          -15.017695426940918,
          -14.308813095092773,
          -1.7729301452636719,
          -19.652496337890625,
          -12.523688316345215,
          -13.278667449951172,
          -13.185680389404297,
          -22.048452377319336,
          -10.05958080291748,
          -16.777063369750977,
          24.498008728027344,
          -9.432188034057617,
          -14.564315795898438
         ],
         "y": [
          6.7609639167785645,
          -3.3533194065093994,
          -2.5327513217926025,
          -1.573474407196045,
          4.929858684539795,
          -8.187674522399902,
          -6.477637767791748,
          -5.992772102355957,
          2.142258644104004,
          -5.753631591796875,
          3.891733407974243,
          3.9687750339508057,
          -1.3271946907043457,
          -6.874755382537842,
          2.634453535079956,
          3.7327330112457275,
          3.528092622756958,
          -7.3029680252075195,
          3.4359586238861084,
          -7.199321269989014,
          1.274169683456421,
          2.5746877193450928,
          -4.817992210388184
         ]
        },
        {
         "marker": {
          "color": "rgb(94, 79, 162)",
          "opacity": 0.7
         },
         "mode": "markers",
         "name": "90-99",
         "text": [
          "Hey Stephen",
          "It's Nice To Have A Friend",
          "Starlight (Taylor's Version)",
          "Stay Stay Stay",
          "The Way I Loved You (Taylor's Version)"
         ],
         "type": "scatter",
         "visible": "legendonly",
         "x": [
          -11.871028900146484,
          27.258407592773438,
          -19.098936080932617,
          -0.8887822031974792,
          11.613710403442383
         ],
         "y": [
          3.238057851791382,
          -6.670370578765869,
          6.553272724151611,
          1.3400211334228516,
          2.6144866943359375
         ]
        }
       ],
       "layout": {
        "hovermode": "closest",
        "legend": {
         "title": {
          "text": "Legend"
         }
        },
        "template": {
         "data": {
          "bar": [
           {
            "error_x": {
             "color": "#2a3f5f"
            },
            "error_y": {
             "color": "#2a3f5f"
            },
            "marker": {
             "line": {
              "color": "#E5ECF6",
              "width": 0.5
             },
             "pattern": {
              "fillmode": "overlay",
              "size": 10,
              "solidity": 0.2
             }
            },
            "type": "bar"
           }
          ],
          "barpolar": [
           {
            "marker": {
             "line": {
              "color": "#E5ECF6",
              "width": 0.5
             },
             "pattern": {
              "fillmode": "overlay",
              "size": 10,
              "solidity": 0.2
             }
            },
            "type": "barpolar"
           }
          ],
          "carpet": [
           {
            "aaxis": {
             "endlinecolor": "#2a3f5f",
             "gridcolor": "white",
             "linecolor": "white",
             "minorgridcolor": "white",
             "startlinecolor": "#2a3f5f"
            },
            "baxis": {
             "endlinecolor": "#2a3f5f",
             "gridcolor": "white",
             "linecolor": "white",
             "minorgridcolor": "white",
             "startlinecolor": "#2a3f5f"
            },
            "type": "carpet"
           }
          ],
          "choropleth": [
           {
            "colorbar": {
             "outlinewidth": 0,
             "ticks": ""
            },
            "type": "choropleth"
           }
          ],
          "contour": [
           {
            "colorbar": {
             "outlinewidth": 0,
             "ticks": ""
            },
            "colorscale": [
             [
              0,
              "#0d0887"
             ],
             [
              0.1111111111111111,
              "#46039f"
             ],
             [
              0.2222222222222222,
              "#7201a8"
             ],
             [
              0.3333333333333333,
              "#9c179e"
             ],
             [
              0.4444444444444444,
              "#bd3786"
             ],
             [
              0.5555555555555556,
              "#d8576b"
             ],
             [
              0.6666666666666666,
              "#ed7953"
             ],
             [
              0.7777777777777778,
              "#fb9f3a"
             ],
             [
              0.8888888888888888,
              "#fdca26"
             ],
             [
              1,
              "#f0f921"
             ]
            ],
            "type": "contour"
           }
          ],
          "contourcarpet": [
           {
            "colorbar": {
             "outlinewidth": 0,
             "ticks": ""
            },
            "type": "contourcarpet"
           }
          ],
          "heatmap": [
           {
            "colorbar": {
             "outlinewidth": 0,
             "ticks": ""
            },
            "colorscale": [
             [
              0,
              "#0d0887"
             ],
             [
              0.1111111111111111,
              "#46039f"
             ],
             [
              0.2222222222222222,
              "#7201a8"
             ],
             [
              0.3333333333333333,
              "#9c179e"
             ],
             [
              0.4444444444444444,
              "#bd3786"
             ],
             [
              0.5555555555555556,
              "#d8576b"
             ],
             [
              0.6666666666666666,
              "#ed7953"
             ],
             [
              0.7777777777777778,
              "#fb9f3a"
             ],
             [
              0.8888888888888888,
              "#fdca26"
             ],
             [
              1,
              "#f0f921"
             ]
            ],
            "type": "heatmap"
           }
          ],
          "heatmapgl": [
           {
            "colorbar": {
             "outlinewidth": 0,
             "ticks": ""
            },
            "colorscale": [
             [
              0,
              "#0d0887"
             ],
             [
              0.1111111111111111,
              "#46039f"
             ],
             [
              0.2222222222222222,
              "#7201a8"
             ],
             [
              0.3333333333333333,
              "#9c179e"
             ],
             [
              0.4444444444444444,
              "#bd3786"
             ],
             [
              0.5555555555555556,
              "#d8576b"
             ],
             [
              0.6666666666666666,
              "#ed7953"
             ],
             [
              0.7777777777777778,
              "#fb9f3a"
             ],
             [
              0.8888888888888888,
              "#fdca26"
             ],
             [
              1,
              "#f0f921"
             ]
            ],
            "type": "heatmapgl"
           }
          ],
          "histogram": [
           {
            "marker": {
             "pattern": {
              "fillmode": "overlay",
              "size": 10,
              "solidity": 0.2
             }
            },
            "type": "histogram"
           }
          ],
          "histogram2d": [
           {
            "colorbar": {
             "outlinewidth": 0,
             "ticks": ""
            },
            "colorscale": [
             [
              0,
              "#0d0887"
             ],
             [
              0.1111111111111111,
              "#46039f"
             ],
             [
              0.2222222222222222,
              "#7201a8"
             ],
             [
              0.3333333333333333,
              "#9c179e"
             ],
             [
              0.4444444444444444,
              "#bd3786"
             ],
             [
              0.5555555555555556,
              "#d8576b"
             ],
             [
              0.6666666666666666,
              "#ed7953"
             ],
             [
              0.7777777777777778,
              "#fb9f3a"
             ],
             [
              0.8888888888888888,
              "#fdca26"
             ],
             [
              1,
              "#f0f921"
             ]
            ],
            "type": "histogram2d"
           }
          ],
          "histogram2dcontour": [
           {
            "colorbar": {
             "outlinewidth": 0,
             "ticks": ""
            },
            "colorscale": [
             [
              0,
              "#0d0887"
             ],
             [
              0.1111111111111111,
              "#46039f"
             ],
             [
              0.2222222222222222,
              "#7201a8"
             ],
             [
              0.3333333333333333,
              "#9c179e"
             ],
             [
              0.4444444444444444,
              "#bd3786"
             ],
             [
              0.5555555555555556,
              "#d8576b"
             ],
             [
              0.6666666666666666,
              "#ed7953"
             ],
             [
              0.7777777777777778,
              "#fb9f3a"
             ],
             [
              0.8888888888888888,
              "#fdca26"
             ],
             [
              1,
              "#f0f921"
             ]
            ],
            "type": "histogram2dcontour"
           }
          ],
          "mesh3d": [
           {
            "colorbar": {
             "outlinewidth": 0,
             "ticks": ""
            },
            "type": "mesh3d"
           }
          ],
          "parcoords": [
           {
            "line": {
             "colorbar": {
              "outlinewidth": 0,
              "ticks": ""
             }
            },
            "type": "parcoords"
           }
          ],
          "pie": [
           {
            "automargin": true,
            "type": "pie"
           }
          ],
          "scatter": [
           {
            "fillpattern": {
             "fillmode": "overlay",
             "size": 10,
             "solidity": 0.2
            },
            "type": "scatter"
           }
          ],
          "scatter3d": [
           {
            "line": {
             "colorbar": {
              "outlinewidth": 0,
              "ticks": ""
             }
            },
            "marker": {
             "colorbar": {
              "outlinewidth": 0,
              "ticks": ""
             }
            },
            "type": "scatter3d"
           }
          ],
          "scattercarpet": [
           {
            "marker": {
             "colorbar": {
              "outlinewidth": 0,
              "ticks": ""
             }
            },
            "type": "scattercarpet"
           }
          ],
          "scattergeo": [
           {
            "marker": {
             "colorbar": {
              "outlinewidth": 0,
              "ticks": ""
             }
            },
            "type": "scattergeo"
           }
          ],
          "scattergl": [
           {
            "marker": {
             "colorbar": {
              "outlinewidth": 0,
              "ticks": ""
             }
            },
            "type": "scattergl"
           }
          ],
          "scattermapbox": [
           {
            "marker": {
             "colorbar": {
              "outlinewidth": 0,
              "ticks": ""
             }
            },
            "type": "scattermapbox"
           }
          ],
          "scatterpolar": [
           {
            "marker": {
             "colorbar": {
              "outlinewidth": 0,
              "ticks": ""
             }
            },
            "type": "scatterpolar"
           }
          ],
          "scatterpolargl": [
           {
            "marker": {
             "colorbar": {
              "outlinewidth": 0,
              "ticks": ""
             }
            },
            "type": "scatterpolargl"
           }
          ],
          "scatterternary": [
           {
            "marker": {
             "colorbar": {
              "outlinewidth": 0,
              "ticks": ""
             }
            },
            "type": "scatterternary"
           }
          ],
          "surface": [
           {
            "colorbar": {
             "outlinewidth": 0,
             "ticks": ""
            },
            "colorscale": [
             [
              0,
              "#0d0887"
             ],
             [
              0.1111111111111111,
              "#46039f"
             ],
             [
              0.2222222222222222,
              "#7201a8"
             ],
             [
              0.3333333333333333,
              "#9c179e"
             ],
             [
              0.4444444444444444,
              "#bd3786"
             ],
             [
              0.5555555555555556,
              "#d8576b"
             ],
             [
              0.6666666666666666,
              "#ed7953"
             ],
             [
              0.7777777777777778,
              "#fb9f3a"
             ],
             [
              0.8888888888888888,
              "#fdca26"
             ],
             [
              1,
              "#f0f921"
             ]
            ],
            "type": "surface"
           }
          ],
          "table": [
           {
            "cells": {
             "fill": {
              "color": "#EBF0F8"
             },
             "line": {
              "color": "white"
             }
            },
            "header": {
             "fill": {
              "color": "#C8D4E3"
             },
             "line": {
              "color": "white"
             }
            },
            "type": "table"
           }
          ]
         },
         "layout": {
          "annotationdefaults": {
           "arrowcolor": "#2a3f5f",
           "arrowhead": 0,
           "arrowwidth": 1
          },
          "autotypenumbers": "strict",
          "coloraxis": {
           "colorbar": {
            "outlinewidth": 0,
            "ticks": ""
           }
          },
          "colorscale": {
           "diverging": [
            [
             0,
             "#8e0152"
            ],
            [
             0.1,
             "#c51b7d"
            ],
            [
             0.2,
             "#de77ae"
            ],
            [
             0.3,
             "#f1b6da"
            ],
            [
             0.4,
             "#fde0ef"
            ],
            [
             0.5,
             "#f7f7f7"
            ],
            [
             0.6,
             "#e6f5d0"
            ],
            [
             0.7,
             "#b8e186"
            ],
            [
             0.8,
             "#7fbc41"
            ],
            [
             0.9,
             "#4d9221"
            ],
            [
             1,
             "#276419"
            ]
           ],
           "sequential": [
            [
             0,
             "#0d0887"
            ],
            [
             0.1111111111111111,
             "#46039f"
            ],
            [
             0.2222222222222222,
             "#7201a8"
            ],
            [
             0.3333333333333333,
             "#9c179e"
            ],
            [
             0.4444444444444444,
             "#bd3786"
            ],
            [
             0.5555555555555556,
             "#d8576b"
            ],
            [
             0.6666666666666666,
             "#ed7953"
            ],
            [
             0.7777777777777778,
             "#fb9f3a"
            ],
            [
             0.8888888888888888,
             "#fdca26"
            ],
            [
             1,
             "#f0f921"
            ]
           ],
           "sequentialminus": [
            [
             0,
             "#0d0887"
            ],
            [
             0.1111111111111111,
             "#46039f"
            ],
            [
             0.2222222222222222,
             "#7201a8"
            ],
            [
             0.3333333333333333,
             "#9c179e"
            ],
            [
             0.4444444444444444,
             "#bd3786"
            ],
            [
             0.5555555555555556,
             "#d8576b"
            ],
            [
             0.6666666666666666,
             "#ed7953"
            ],
            [
             0.7777777777777778,
             "#fb9f3a"
            ],
            [
             0.8888888888888888,
             "#fdca26"
            ],
            [
             1,
             "#f0f921"
            ]
           ]
          },
          "colorway": [
           "#636efa",
           "#EF553B",
           "#00cc96",
           "#ab63fa",
           "#FFA15A",
           "#19d3f3",
           "#FF6692",
           "#B6E880",
           "#FF97FF",
           "#FECB52"
          ],
          "font": {
           "color": "#2a3f5f"
          },
          "geo": {
           "bgcolor": "white",
           "lakecolor": "white",
           "landcolor": "#E5ECF6",
           "showlakes": true,
           "showland": true,
           "subunitcolor": "white"
          },
          "hoverlabel": {
           "align": "left"
          },
          "hovermode": "closest",
          "mapbox": {
           "style": "light"
          },
          "paper_bgcolor": "white",
          "plot_bgcolor": "#E5ECF6",
          "polar": {
           "angularaxis": {
            "gridcolor": "white",
            "linecolor": "white",
            "ticks": ""
           },
           "bgcolor": "#E5ECF6",
           "radialaxis": {
            "gridcolor": "white",
            "linecolor": "white",
            "ticks": ""
           }
          },
          "scene": {
           "xaxis": {
            "backgroundcolor": "#E5ECF6",
            "gridcolor": "white",
            "gridwidth": 2,
            "linecolor": "white",
            "showbackground": true,
            "ticks": "",
            "zerolinecolor": "white"
           },
           "yaxis": {
            "backgroundcolor": "#E5ECF6",
            "gridcolor": "white",
            "gridwidth": 2,
            "linecolor": "white",
            "showbackground": true,
            "ticks": "",
            "zerolinecolor": "white"
           },
           "zaxis": {
            "backgroundcolor": "#E5ECF6",
            "gridcolor": "white",
            "gridwidth": 2,
            "linecolor": "white",
            "showbackground": true,
            "ticks": "",
            "zerolinecolor": "white"
           }
          },
          "shapedefaults": {
           "line": {
            "color": "#2a3f5f"
           }
          },
          "ternary": {
           "aaxis": {
            "gridcolor": "white",
            "linecolor": "white",
            "ticks": ""
           },
           "baxis": {
            "gridcolor": "white",
            "linecolor": "white",
            "ticks": ""
           },
           "bgcolor": "#E5ECF6",
           "caxis": {
            "gridcolor": "white",
            "linecolor": "white",
            "ticks": ""
           }
          },
          "title": {
           "x": 0.05
          },
          "xaxis": {
           "automargin": true,
           "gridcolor": "white",
           "linecolor": "white",
           "ticks": "",
           "title": {
            "standoff": 15
           },
           "zerolinecolor": "white",
           "zerolinewidth": 2
          },
          "yaxis": {
           "automargin": true,
           "gridcolor": "white",
           "linecolor": "white",
           "ticks": "",
           "title": {
            "standoff": 15
           },
           "zerolinecolor": "white",
           "zerolinewidth": 2
          }
         }
        },
        "title": {
         "text": "Interactive Plot of Song Embeddings"
        },
        "xaxis": {
         "title": {
          "text": "TSNE 1"
         }
        },
        "yaxis": {
         "title": {
          "text": "TSNE 2"
         }
        }
       }
      }
     },
     "metadata": {},
     "output_type": "display_data"
    }
   ],
   "source": [
    "# Reducing with TSNE down to two dimensions to see if we can visually assess any separation?\n",
    "tsne = TSNE(n_components=2, random_state=256)\n",
    "embeddings_tsne_2d = tsne.fit_transform(reduced_UMAP)\n",
    "\n",
    "plot_embeddings_interactive(embeddings_tsne_2d)"
   ]
  },
  {
   "cell_type": "code",
   "execution_count": 7,
   "metadata": {},
   "outputs": [],
   "source": [
    "k = 15\n",
    "kmeans = KMeans(n_clusters=k, random_state=256, n_init=10).fit(embeddings)\n",
    "lyrics['cluster_assignment'] = kmeans.labels_"
   ]
  },
  {
   "cell_type": "code",
   "execution_count": 8,
   "metadata": {},
   "outputs": [
    {
     "name": "stdout",
     "output_type": "stream",
     "text": [
      "Cluster 0: 41 members (12.54%)\n",
      "Cluster 1: 26 members (7.95%)\n",
      "Cluster 2: 9 members (2.75%)\n",
      "Cluster 3: 26 members (7.95%)\n",
      "Cluster 4: 5 members (1.53%)\n",
      "Cluster 5: 28 members (8.56%)\n",
      "Cluster 6: 21 members (6.42%)\n",
      "Cluster 7: 20 members (6.12%)\n",
      "Cluster 8: 34 members (10.40%)\n",
      "Cluster 9: 24 members (7.34%)\n",
      "Cluster 10: 31 members (9.48%)\n",
      "Cluster 11: 9 members (2.75%)\n",
      "Cluster 12: 20 members (6.12%)\n",
      "Cluster 13: 7 members (2.14%)\n",
      "Cluster 14: 26 members (7.95%)\n"
     ]
    },
    {
     "data": {
      "image/png": "[encoded data removed]",
      "text/plain": [
       "<Figure size 1000x600 with 1 Axes>"
      ]
     },
     "metadata": {},
     "output_type": "display_data"
    }
   ],
   "source": [
    "cluster_sizes = Counter(lyrics['cluster_assignment'])\n",
    "\n",
    "sorted_cluster_sizes = dict(sorted(cluster_sizes.items()))\n",
    "\n",
    "total_items = sum(sorted_cluster_sizes.values())\n",
    "for label, size in sorted_cluster_sizes.items():\n",
    "    percentage = (size / total_items) * 100\n",
    "    print(f\"Cluster {label}: {size} members ({percentage:.2f}%)\")\n",
    "\n",
    "labels, sizes = zip(*sorted(cluster_sizes.items()))\n",
    "\n",
    "plt.figure(figsize=(10, 6))\n",
    "plt.bar(labels, sizes, color='skyblue')\n",
    "plt.title('Distribution of Cluster Sizes')\n",
    "plt.xlabel('Cluster Number')\n",
    "plt.ylabel('Size')\n",
    "plt.xticks(labels)\n",
    "plt.show()"
   ]
  },
  {
   "cell_type": "code",
   "execution_count": 35,
   "metadata": {},
   "outputs": [
    {
     "data": {
      "image/png": "[encoded data removed]",
      "text/plain": [
       "<Figure size 1200x600 with 1 Axes>"
      ]
     },
     "metadata": {},
     "output_type": "display_data"
    },
    {
     "data": {
      "image/png": "[encoded data removed]",
      "text/plain": [
       "<Figure size 1200x600 with 1 Axes>"
      ]
     },
     "metadata": {},
     "output_type": "display_data"
    }
   ],
   "source": [
    "c = 15\n",
    "cluster = lyrics[lyrics[\"cluster_assignment\"] == c].copy()\n",
    "\n",
    "plt.figure(figsize=(12, 6))\n",
    "album_name_counts = cluster['album_name'].value_counts()\n",
    "plt.bar(album_name_counts.index, album_name_counts.values)\n",
    "plt.xlabel('Album Name')\n",
    "plt.ylabel('Frequency')\n",
    "plt.title('Distribution of Album Names in Cluster')\n",
    "plt.xticks(rotation=90)\n",
    "plt.tight_layout()\n",
    "plt.show()\n",
    "\n",
    "plt.figure(figsize=(12, 6))\n",
    "\n",
    "# Handling NaN values by categorizing them as >100\n",
    "peak_pos_counts = cluster['peak_pos_bucketed'].value_counts().sort_index()\n",
    "\n",
    "plt.bar(peak_pos_counts.index, peak_pos_counts.values)\n",
    "plt.xlabel('Peak Position Bucket')\n",
    "plt.ylabel('Frequency')\n",
    "plt.title('Distribution of Peak Positions in Cluster')\n",
    "plt.xticks(rotation=45)\n",
    "plt.tight_layout()\n",
    "plt.show()"
   ]
  },
  {
   "cell_type": "code",
   "execution_count": 14,
   "metadata": {},
   "outputs": [
    {
     "data": {
      "image/png": "[encoded data removed]",
      "text/plain": [
       "<Figure size 2400x600 with 2 Axes>"
      ]
     },
     "metadata": {},
     "output_type": "display_data"
    }
   ],
   "source": [
    "fig, ax = plt.subplots(1, 2, figsize=(24, 6))\n",
    "\n",
    "# Distribution of Album Names\n",
    "album_name_counts = lyrics['album_name'].value_counts()\n",
    "ax[0].bar(album_name_counts.index, album_name_counts.values, color='skyblue')\n",
    "ax[0].set_xlabel('Album Name')\n",
    "ax[0].set_ylabel('Frequency')\n",
    "ax[0].set_title('Distribution of Album Names')\n",
    "ax[0].tick_params(axis='x', rotation=90)\n",
    "\n",
    "# Distribution of Peak Position Buckets\n",
    "peak_pos_counts = lyrics['peak_pos_bucketed'].value_counts().sort_index()\n",
    "ax[1].bar(peak_pos_counts.index, peak_pos_counts.values, color='coral')\n",
    "ax[1].set_xlabel('Peak Position Bucket')\n",
    "ax[1].set_ylabel('Frequency')\n",
    "ax[1].set_title('Distribution of Peak Positions')\n",
    "ax[1].tick_params(axis='x', rotation=45)\n",
    "\n",
    "plt.tight_layout()\n",
    "plt.show()"
   ]
  },
  {
   "cell_type": "code",
   "execution_count": 19,
   "metadata": {},
   "outputs": [
    {
     "ename": "TypeError",
     "evalue": "iteration over a 0-d tensor",
     "output_type": "error",
     "traceback": [
      "\u001b[0;31m---------------------------------------------------------------------------\u001b[0m",
      "\u001b[0;31mTypeError\u001b[0m                                 Traceback (most recent call last)",
      "Cell \u001b[0;32mIn[19], line 2\u001b[0m\n\u001b[1;32m      1\u001b[0m \u001b[38;5;66;03m# Convert latent embedding to something that is readable when we load the csv\u001b[39;00m\n\u001b[0;32m----> 2\u001b[0m lyrics[\u001b[38;5;124m'\u001b[39m\u001b[38;5;124mlatent_embedding\u001b[39m\u001b[38;5;124m'\u001b[39m] \u001b[38;5;241m=\u001b[39m \u001b[43mlyrics\u001b[49m\u001b[43m[\u001b[49m\u001b[38;5;124;43m'\u001b[39;49m\u001b[38;5;124;43mlatent_embedding\u001b[39;49m\u001b[38;5;124;43m'\u001b[39;49m\u001b[43m]\u001b[49m\u001b[38;5;241;43m.\u001b[39;49m\u001b[43mapply\u001b[49m\u001b[43m(\u001b[49m\u001b[38;5;28;43;01mlambda\u001b[39;49;00m\u001b[43m \u001b[49m\u001b[43mx\u001b[49m\u001b[43m:\u001b[49m\u001b[43m \u001b[49m\u001b[43m[\u001b[49m\u001b[43mt\u001b[49m\u001b[38;5;241;43m.\u001b[39;49m\u001b[43mitem\u001b[49m\u001b[43m(\u001b[49m\u001b[43m)\u001b[49m\u001b[43m \u001b[49m\u001b[38;5;28;43;01mfor\u001b[39;49;00m\u001b[43m \u001b[49m\u001b[43mt\u001b[49m\u001b[43m \u001b[49m\u001b[38;5;129;43;01min\u001b[39;49;00m\u001b[43m \u001b[49m\u001b[43mx\u001b[49m\u001b[43m[\u001b[49m\u001b[38;5;241;43m0\u001b[39;49m\u001b[43m]\u001b[49m\u001b[43m]\u001b[49m\u001b[43m)\u001b[49m\n\u001b[1;32m      3\u001b[0m \u001b[38;5;66;03m# No need to run the above line again unless you re-encode the songs\u001b[39;00m\n\u001b[1;32m      4\u001b[0m lyrics\u001b[38;5;241m.\u001b[39mto_csv(\u001b[38;5;124m\"\u001b[39m\u001b[38;5;124m../data/lyrics2.csv\u001b[39m\u001b[38;5;124m\"\u001b[39m, index\u001b[38;5;241m=\u001b[39m\u001b[38;5;28;01mFalse\u001b[39;00m)\n",
      "File \u001b[0;32m/Library/Frameworks/Python.framework/Versions/3.10/lib/python3.10/site-packages/pandas/core/series.py:4774\u001b[0m, in \u001b[0;36mSeries.apply\u001b[0;34m(self, func, convert_dtype, args, **kwargs)\u001b[0m\n\u001b[1;32m   4664\u001b[0m \u001b[38;5;28;01mdef\u001b[39;00m \u001b[38;5;21mapply\u001b[39m(\n\u001b[1;32m   4665\u001b[0m     \u001b[38;5;28mself\u001b[39m,\n\u001b[1;32m   4666\u001b[0m     func: AggFuncType,\n\u001b[0;32m   (...)\u001b[0m\n\u001b[1;32m   4669\u001b[0m     \u001b[38;5;241m*\u001b[39m\u001b[38;5;241m*\u001b[39mkwargs,\n\u001b[1;32m   4670\u001b[0m ) \u001b[38;5;241m-\u001b[39m\u001b[38;5;241m>\u001b[39m DataFrame \u001b[38;5;241m|\u001b[39m Series:\n\u001b[1;32m   4671\u001b[0m     \u001b[38;5;124;03m\"\"\"\u001b[39;00m\n\u001b[1;32m   4672\u001b[0m \u001b[38;5;124;03m    Invoke function on values of Series.\u001b[39;00m\n\u001b[1;32m   4673\u001b[0m \n\u001b[0;32m   (...)\u001b[0m\n\u001b[1;32m   4772\u001b[0m \u001b[38;5;124;03m    dtype: float64\u001b[39;00m\n\u001b[1;32m   4773\u001b[0m \u001b[38;5;124;03m    \"\"\"\u001b[39;00m\n\u001b[0;32m-> 4774\u001b[0m     \u001b[38;5;28;01mreturn\u001b[39;00m \u001b[43mSeriesApply\u001b[49m\u001b[43m(\u001b[49m\u001b[38;5;28;43mself\u001b[39;49m\u001b[43m,\u001b[49m\u001b[43m \u001b[49m\u001b[43mfunc\u001b[49m\u001b[43m,\u001b[49m\u001b[43m \u001b[49m\u001b[43mconvert_dtype\u001b[49m\u001b[43m,\u001b[49m\u001b[43m \u001b[49m\u001b[43margs\u001b[49m\u001b[43m,\u001b[49m\u001b[43m \u001b[49m\u001b[43mkwargs\u001b[49m\u001b[43m)\u001b[49m\u001b[38;5;241;43m.\u001b[39;49m\u001b[43mapply\u001b[49m\u001b[43m(\u001b[49m\u001b[43m)\u001b[49m\n",
      "File \u001b[0;32m/Library/Frameworks/Python.framework/Versions/3.10/lib/python3.10/site-packages/pandas/core/apply.py:1100\u001b[0m, in \u001b[0;36mSeriesApply.apply\u001b[0;34m(self)\u001b[0m\n\u001b[1;32m   1097\u001b[0m     \u001b[38;5;28;01mreturn\u001b[39;00m \u001b[38;5;28mself\u001b[39m\u001b[38;5;241m.\u001b[39mapply_str()\n\u001b[1;32m   1099\u001b[0m \u001b[38;5;66;03m# self.f is Callable\u001b[39;00m\n\u001b[0;32m-> 1100\u001b[0m \u001b[38;5;28;01mreturn\u001b[39;00m \u001b[38;5;28;43mself\u001b[39;49m\u001b[38;5;241;43m.\u001b[39;49m\u001b[43mapply_standard\u001b[49m\u001b[43m(\u001b[49m\u001b[43m)\u001b[49m\n",
      "File \u001b[0;32m/Library/Frameworks/Python.framework/Versions/3.10/lib/python3.10/site-packages/pandas/core/apply.py:1151\u001b[0m, in \u001b[0;36mSeriesApply.apply_standard\u001b[0;34m(self)\u001b[0m\n\u001b[1;32m   1149\u001b[0m     \u001b[38;5;28;01melse\u001b[39;00m:\n\u001b[1;32m   1150\u001b[0m         values \u001b[38;5;241m=\u001b[39m obj\u001b[38;5;241m.\u001b[39mastype(\u001b[38;5;28mobject\u001b[39m)\u001b[38;5;241m.\u001b[39m_values\n\u001b[0;32m-> 1151\u001b[0m         mapped \u001b[38;5;241m=\u001b[39m \u001b[43mlib\u001b[49m\u001b[38;5;241;43m.\u001b[39;49m\u001b[43mmap_infer\u001b[49m\u001b[43m(\u001b[49m\n\u001b[1;32m   1152\u001b[0m \u001b[43m            \u001b[49m\u001b[43mvalues\u001b[49m\u001b[43m,\u001b[49m\n\u001b[1;32m   1153\u001b[0m \u001b[43m            \u001b[49m\u001b[43mf\u001b[49m\u001b[43m,\u001b[49m\n\u001b[1;32m   1154\u001b[0m \u001b[43m            \u001b[49m\u001b[43mconvert\u001b[49m\u001b[38;5;241;43m=\u001b[39;49m\u001b[38;5;28;43mself\u001b[39;49m\u001b[38;5;241;43m.\u001b[39;49m\u001b[43mconvert_dtype\u001b[49m\u001b[43m,\u001b[49m\n\u001b[1;32m   1155\u001b[0m \u001b[43m        \u001b[49m\u001b[43m)\u001b[49m\n\u001b[1;32m   1157\u001b[0m \u001b[38;5;28;01mif\u001b[39;00m \u001b[38;5;28mlen\u001b[39m(mapped) \u001b[38;5;129;01mand\u001b[39;00m \u001b[38;5;28misinstance\u001b[39m(mapped[\u001b[38;5;241m0\u001b[39m], ABCSeries):\n\u001b[1;32m   1158\u001b[0m     \u001b[38;5;66;03m# GH#43986 Need to do list(mapped) in order to get treated as nested\u001b[39;00m\n\u001b[1;32m   1159\u001b[0m     \u001b[38;5;66;03m#  See also GH#25959 regarding EA support\u001b[39;00m\n\u001b[1;32m   1160\u001b[0m     \u001b[38;5;28;01mreturn\u001b[39;00m obj\u001b[38;5;241m.\u001b[39m_constructor_expanddim(\u001b[38;5;28mlist\u001b[39m(mapped), index\u001b[38;5;241m=\u001b[39mobj\u001b[38;5;241m.\u001b[39mindex)\n",
      "File \u001b[0;32m/Library/Frameworks/Python.framework/Versions/3.10/lib/python3.10/site-packages/pandas/_libs/lib.pyx:2919\u001b[0m, in \u001b[0;36mpandas._libs.lib.map_infer\u001b[0;34m()\u001b[0m\n",
      "Cell \u001b[0;32mIn[19], line 2\u001b[0m, in \u001b[0;36m<lambda>\u001b[0;34m(x)\u001b[0m\n\u001b[1;32m      1\u001b[0m \u001b[38;5;66;03m# Convert latent embedding to something that is readable when we load the csv\u001b[39;00m\n\u001b[0;32m----> 2\u001b[0m lyrics[\u001b[38;5;124m'\u001b[39m\u001b[38;5;124mlatent_embedding\u001b[39m\u001b[38;5;124m'\u001b[39m] \u001b[38;5;241m=\u001b[39m lyrics[\u001b[38;5;124m'\u001b[39m\u001b[38;5;124mlatent_embedding\u001b[39m\u001b[38;5;124m'\u001b[39m]\u001b[38;5;241m.\u001b[39mapply(\u001b[38;5;28;01mlambda\u001b[39;00m x: [t\u001b[38;5;241m.\u001b[39mitem() \u001b[38;5;28;01mfor\u001b[39;00m t \u001b[38;5;129;01min\u001b[39;00m x[\u001b[38;5;241m0\u001b[39m]])\n\u001b[1;32m      3\u001b[0m \u001b[38;5;66;03m# No need to run the above line again unless you re-encode the songs\u001b[39;00m\n\u001b[1;32m      4\u001b[0m lyrics\u001b[38;5;241m.\u001b[39mto_csv(\u001b[38;5;124m\"\u001b[39m\u001b[38;5;124m../data/lyrics2.csv\u001b[39m\u001b[38;5;124m\"\u001b[39m, index\u001b[38;5;241m=\u001b[39m\u001b[38;5;28;01mFalse\u001b[39;00m)\n",
      "File \u001b[0;32m/Library/Frameworks/Python.framework/Versions/3.10/lib/python3.10/site-packages/torch/_tensor.py:1022\u001b[0m, in \u001b[0;36mTensor.__iter__\u001b[0;34m(self)\u001b[0m\n\u001b[1;32m   1012\u001b[0m \u001b[38;5;28;01mdef\u001b[39;00m \u001b[38;5;21m__iter__\u001b[39m(\u001b[38;5;28mself\u001b[39m):\n\u001b[1;32m   1013\u001b[0m     \u001b[38;5;66;03m# NB: we use 'imap' and not 'map' here, so that in Python 2 we get a\u001b[39;00m\n\u001b[1;32m   1014\u001b[0m     \u001b[38;5;66;03m# generator and don't eagerly perform all the indexes.  This could\u001b[39;00m\n\u001b[0;32m   (...)\u001b[0m\n\u001b[1;32m   1019\u001b[0m     \u001b[38;5;66;03m# NB: We have intentionally skipped __torch_function__ dispatch here.\u001b[39;00m\n\u001b[1;32m   1020\u001b[0m     \u001b[38;5;66;03m# See gh-54457\u001b[39;00m\n\u001b[1;32m   1021\u001b[0m     \u001b[38;5;28;01mif\u001b[39;00m \u001b[38;5;28mself\u001b[39m\u001b[38;5;241m.\u001b[39mdim() \u001b[38;5;241m==\u001b[39m \u001b[38;5;241m0\u001b[39m:\n\u001b[0;32m-> 1022\u001b[0m         \u001b[38;5;28;01mraise\u001b[39;00m \u001b[38;5;167;01mTypeError\u001b[39;00m(\u001b[38;5;124m\"\u001b[39m\u001b[38;5;124miteration over a 0-d tensor\u001b[39m\u001b[38;5;124m\"\u001b[39m)\n\u001b[1;32m   1023\u001b[0m     \u001b[38;5;28;01mif\u001b[39;00m torch\u001b[38;5;241m.\u001b[39m_C\u001b[38;5;241m.\u001b[39m_get_tracing_state():\n\u001b[1;32m   1024\u001b[0m         warnings\u001b[38;5;241m.\u001b[39mwarn(\n\u001b[1;32m   1025\u001b[0m             \u001b[38;5;124m\"\u001b[39m\u001b[38;5;124mIterating over a tensor might cause the trace to be incorrect. \u001b[39m\u001b[38;5;124m\"\u001b[39m\n\u001b[1;32m   1026\u001b[0m             \u001b[38;5;124m\"\u001b[39m\u001b[38;5;124mPassing a tensor of different shape won\u001b[39m\u001b[38;5;124m'\u001b[39m\u001b[38;5;124mt change the number of \u001b[39m\u001b[38;5;124m\"\u001b[39m\n\u001b[0;32m   (...)\u001b[0m\n\u001b[1;32m   1030\u001b[0m             stacklevel\u001b[38;5;241m=\u001b[39m\u001b[38;5;241m2\u001b[39m,\n\u001b[1;32m   1031\u001b[0m         )\n",
      "\u001b[0;31mTypeError\u001b[0m: iteration over a 0-d tensor"
     ]
    }
   ],
   "source": [
    "# Convert latent embedding to something that is readable when we load the csv\n",
    "#lyrics['latent_embedding'] = lyrics['latent_embedding'].apply(lambda x: [t.item() for t in x[0]])\n",
    "# No need to run the above line again unless you re-encode the songs\n",
    "# lyrics.to_csv(\"../data/lyrics.csv\", index=False)"
   ]
  }
 ],
 "metadata": {
  "kernelspec": {
   "display_name": "Python 3",
   "language": "python",
   "name": "python3"
  },
  "language_info": {
   "codemirror_mode": {
    "name": "ipython",
    "version": 3
   },
   "file_extension": ".py",
   "mimetype": "text/x-python",
   "name": "python",
   "nbconvert_exporter": "python",
   "pygments_lexer": "ipython3",
   "version": "3.10.2"
  }
 },
 "nbformat": 4,
 "nbformat_minor": 2
}
