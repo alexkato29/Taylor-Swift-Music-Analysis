{
 "cells": [
  {
   "cell_type": "code",
   "execution_count": 47,
   "metadata": {},
   "outputs": [],
   "source": [
    "import ast\n",
    "import numpy as np\n",
    "import pandas as pd\n",
    "from collections import Counter\n",
    "\n",
    "import matplotlib.pyplot as plt\n",
    "import plotly.graph_objects as go\n",
    "\n",
    "import torch\n",
    "\n",
    "from transformers import AutoTokenizer, AutoModelWithLMHead\n",
    "\n",
    "from sklearn.cluster import KMeans\n",
    "\n",
    "import umap\n",
    "from sklearn.manifold import TSNE"
   ]
  },
  {
   "cell_type": "code",
   "execution_count": 7,
   "metadata": {},
   "outputs": [
    {
     "data": {
      "text/html": [
       "<div>\n",
       "<style scoped>\n",
       "    .dataframe tbody tr th:only-of-type {\n",
       "        vertical-align: middle;\n",
       "    }\n",
       "\n",
       "    .dataframe tbody tr th {\n",
       "        vertical-align: top;\n",
       "    }\n",
       "\n",
       "    .dataframe thead th {\n",
       "        text-align: right;\n",
       "    }\n",
       "</style>\n",
       "<table border=\"1\" class=\"dataframe\">\n",
       "  <thead>\n",
       "    <tr style=\"text-align: right;\">\n",
       "      <th></th>\n",
       "      <th>track_name</th>\n",
       "      <th>peak_pos</th>\n",
       "      <th>album_name</th>\n",
       "      <th>lyrics</th>\n",
       "      <th>peak_pos_bucketed</th>\n",
       "    </tr>\n",
       "  </thead>\n",
       "  <tbody>\n",
       "    <tr>\n",
       "      <th>0</th>\n",
       "      <td>...Ready For It?</td>\n",
       "      <td>4.0</td>\n",
       "      <td>reputation</td>\n",
       "      <td>knew he was a killer first time that i saw him...</td>\n",
       "      <td>0-9</td>\n",
       "    </tr>\n",
       "    <tr>\n",
       "      <th>1</th>\n",
       "      <td>'tis the damn season</td>\n",
       "      <td>39.0</td>\n",
       "      <td>evermore</td>\n",
       "      <td>if i wanted to know who you were hanging with ...</td>\n",
       "      <td>30-39</td>\n",
       "    </tr>\n",
       "    <tr>\n",
       "      <th>2</th>\n",
       "      <td>\"Slut!\" (Taylor's Version) [From The Vault]</td>\n",
       "      <td>3.0</td>\n",
       "      <td>1989 (Taylor's Version)</td>\n",
       "      <td>flamingo pink, sunrise boulevard clink, clink,...</td>\n",
       "      <td>0-9</td>\n",
       "    </tr>\n",
       "    <tr>\n",
       "      <th>3</th>\n",
       "      <td>22</td>\n",
       "      <td>20.0</td>\n",
       "      <td>Red</td>\n",
       "      <td>it feels like a perfect night to dress up like...</td>\n",
       "      <td>20-29</td>\n",
       "    </tr>\n",
       "    <tr>\n",
       "      <th>4</th>\n",
       "      <td>22 (Taylor's Version)</td>\n",
       "      <td>52.0</td>\n",
       "      <td>Red (Taylor's Version)</td>\n",
       "      <td>it feels like a perfect night to dress up like...</td>\n",
       "      <td>50-59</td>\n",
       "    </tr>\n",
       "  </tbody>\n",
       "</table>\n",
       "</div>"
      ],
      "text/plain": [
       "                                    track_name  peak_pos  \\\n",
       "0                             ...Ready For It?       4.0   \n",
       "1                         'tis the damn season      39.0   \n",
       "2  \"Slut!\" (Taylor's Version) [From The Vault]       3.0   \n",
       "3                                           22      20.0   \n",
       "4                        22 (Taylor's Version)      52.0   \n",
       "\n",
       "                album_name                                             lyrics  \\\n",
       "0               reputation  knew he was a killer first time that i saw him...   \n",
       "1                 evermore  if i wanted to know who you were hanging with ...   \n",
       "2  1989 (Taylor's Version)  flamingo pink, sunrise boulevard clink, clink,...   \n",
       "3                      Red  it feels like a perfect night to dress up like...   \n",
       "4   Red (Taylor's Version)  it feels like a perfect night to dress up like...   \n",
       "\n",
       "  peak_pos_bucketed  \n",
       "0               0-9  \n",
       "1             30-39  \n",
       "2               0-9  \n",
       "3             20-29  \n",
       "4             50-59  "
      ]
     },
     "execution_count": 7,
     "metadata": {},
     "output_type": "execute_result"
    }
   ],
   "source": [
    "lyrics = pd.read_csv(\"../data/full.csv\")\n",
    "\n",
    "to_keep = [\"track_name\", \"peak_pos\", \"album_name\", \"lyrics\"]\n",
    "\n",
    "lyrics = lyrics[to_keep]\n",
    "lyrics['peak_pos_bucketed'] = lyrics['peak_pos'].apply(lambda x: '>100' if pd.isna(x) else str(int(x//10)*10) + '-' + str(int(x//10)*10 + 9))\n",
    "lyrics.head()"
   ]
  },
  {
   "cell_type": "code",
   "execution_count": 8,
   "metadata": {},
   "outputs": [
    {
     "name": "stderr",
     "output_type": "stream",
     "text": [
      "/Library/Frameworks/Python.framework/Versions/3.10/lib/python3.10/site-packages/transformers/models/auto/modeling_auto.py:1682: FutureWarning: The class `AutoModelWithLMHead` is deprecated and will be removed in a future version. Please use `AutoModelForCausalLM` for causal language models, `AutoModelForMaskedLM` for masked language models and `AutoModelForSeq2SeqLM` for encoder-decoder models.\n",
      "  warnings.warn(\n",
      "/Library/Frameworks/Python.framework/Versions/3.10/lib/python3.10/site-packages/torch/_utils.py:776: UserWarning: TypedStorage is deprecated. It will be removed in the future and UntypedStorage will be the only storage class. This should only matter to you if you are using storages directly.  To access UntypedStorage directly, use tensor.untyped_storage() instead of tensor.storage()\n",
      "  return self.fget.__get__(instance, owner)()\n"
     ]
    }
   ],
   "source": [
    "# BERT for now, but I don't think it works too well\n",
    "\"\"\"tokenizer = BertTokenizer.from_pretrained('bert-base-uncased')\n",
    "model = BertModel.from_pretrained('bert-base-uncased')\"\"\"\n",
    "\n",
    "\n",
    "#This can be another model\n",
    "tokenizer = AutoTokenizer.from_pretrained(\"huggingartists/taylor-swift\")\n",
    "model = AutoModelWithLMHead.from_pretrained(\"huggingartists/taylor-swift\")\n",
    "\n",
    "# This tokenizer doesn't have a padding token by default...\n",
    "tokenizer.pad_token = tokenizer.eos_token\n",
    "\n",
    "\n",
    "def encode_text(text):\n",
    "    inputs = tokenizer(text, return_tensors='pt', max_length=512, truncation=True, padding='max_length')\n",
    "    \n",
    "    with torch.no_grad(): \n",
    "        outputs = model(**inputs, output_hidden_states=True)\n",
    "\n",
    "    embeddings = outputs.hidden_states[-1].mean(dim=1)\n",
    "    #embeddings = outputs.last_hidden_state.mean(dim=1)\n",
    "    return embeddings"
   ]
  },
  {
   "cell_type": "code",
   "execution_count": 9,
   "metadata": {},
   "outputs": [],
   "source": [
    "# https://huggingface.co/huggingartists/taylor-swift\n",
    "lyrics['latent_embedding'] = lyrics['lyrics'].apply(lambda x: encode_text(x))"
   ]
  },
  {
   "cell_type": "code",
   "execution_count": 19,
   "metadata": {},
   "outputs": [
    {
     "name": "stdout",
     "output_type": "stream",
     "text": [
      "track_name             object\n",
      "peak_pos              float64\n",
      "album_name             object\n",
      "lyrics                 object\n",
      "peak_pos_bucketed      object\n",
      "latent_embedding       object\n",
      "cluster_assignment      int64\n",
      "dtype: object\n"
     ]
    },
    {
     "data": {
      "text/html": [
       "<div>\n",
       "<style scoped>\n",
       "    .dataframe tbody tr th:only-of-type {\n",
       "        vertical-align: middle;\n",
       "    }\n",
       "\n",
       "    .dataframe tbody tr th {\n",
       "        vertical-align: top;\n",
       "    }\n",
       "\n",
       "    .dataframe thead th {\n",
       "        text-align: right;\n",
       "    }\n",
       "</style>\n",
       "<table border=\"1\" class=\"dataframe\">\n",
       "  <thead>\n",
       "    <tr style=\"text-align: right;\">\n",
       "      <th></th>\n",
       "      <th>track_name</th>\n",
       "      <th>peak_pos</th>\n",
       "      <th>album_name</th>\n",
       "      <th>lyrics</th>\n",
       "      <th>peak_pos_bucketed</th>\n",
       "      <th>latent_embedding</th>\n",
       "      <th>cluster_assignment</th>\n",
       "    </tr>\n",
       "  </thead>\n",
       "  <tbody>\n",
       "    <tr>\n",
       "      <th>0</th>\n",
       "      <td>...Ready For It?</td>\n",
       "      <td>4.0</td>\n",
       "      <td>reputation</td>\n",
       "      <td>knew he was a killer first time that i saw him...</td>\n",
       "      <td>0-9</td>\n",
       "      <td>[tensor(-0.0335), tensor(0.6539), tensor(0.216...</td>\n",
       "      <td>6</td>\n",
       "    </tr>\n",
       "    <tr>\n",
       "      <th>1</th>\n",
       "      <td>'tis the damn season</td>\n",
       "      <td>39.0</td>\n",
       "      <td>evermore</td>\n",
       "      <td>if i wanted to know who you were hanging with ...</td>\n",
       "      <td>30-39</td>\n",
       "      <td>[tensor(0.1974), tensor(0.4486), tensor(-0.253...</td>\n",
       "      <td>4</td>\n",
       "    </tr>\n",
       "    <tr>\n",
       "      <th>2</th>\n",
       "      <td>\"Slut!\" (Taylor's Version) [From The Vault]</td>\n",
       "      <td>3.0</td>\n",
       "      <td>1989 (Taylor's Version)</td>\n",
       "      <td>flamingo pink, sunrise boulevard clink, clink,...</td>\n",
       "      <td>0-9</td>\n",
       "      <td>[tensor(-0.0312), tensor(0.5336), tensor(0.154...</td>\n",
       "      <td>0</td>\n",
       "    </tr>\n",
       "    <tr>\n",
       "      <th>3</th>\n",
       "      <td>22</td>\n",
       "      <td>20.0</td>\n",
       "      <td>Red</td>\n",
       "      <td>it feels like a perfect night to dress up like...</td>\n",
       "      <td>20-29</td>\n",
       "      <td>[tensor(0.2236), tensor(0.6578), tensor(-0.195...</td>\n",
       "      <td>1</td>\n",
       "    </tr>\n",
       "    <tr>\n",
       "      <th>4</th>\n",
       "      <td>22 (Taylor's Version)</td>\n",
       "      <td>52.0</td>\n",
       "      <td>Red (Taylor's Version)</td>\n",
       "      <td>it feels like a perfect night to dress up like...</td>\n",
       "      <td>50-59</td>\n",
       "      <td>[tensor(0.2230), tensor(0.7470), tensor(-0.246...</td>\n",
       "      <td>1</td>\n",
       "    </tr>\n",
       "  </tbody>\n",
       "</table>\n",
       "</div>"
      ],
      "text/plain": [
       "                                    track_name  peak_pos  \\\n",
       "0                             ...Ready For It?       4.0   \n",
       "1                         'tis the damn season      39.0   \n",
       "2  \"Slut!\" (Taylor's Version) [From The Vault]       3.0   \n",
       "3                                           22      20.0   \n",
       "4                        22 (Taylor's Version)      52.0   \n",
       "\n",
       "                album_name                                             lyrics  \\\n",
       "0               reputation  knew he was a killer first time that i saw him...   \n",
       "1                 evermore  if i wanted to know who you were hanging with ...   \n",
       "2  1989 (Taylor's Version)  flamingo pink, sunrise boulevard clink, clink,...   \n",
       "3                      Red  it feels like a perfect night to dress up like...   \n",
       "4   Red (Taylor's Version)  it feels like a perfect night to dress up like...   \n",
       "\n",
       "  peak_pos_bucketed                                   latent_embedding  \\\n",
       "0               0-9  [tensor(-0.0335), tensor(0.6539), tensor(0.216...   \n",
       "1             30-39  [tensor(0.1974), tensor(0.4486), tensor(-0.253...   \n",
       "2               0-9  [tensor(-0.0312), tensor(0.5336), tensor(0.154...   \n",
       "3             20-29  [tensor(0.2236), tensor(0.6578), tensor(-0.195...   \n",
       "4             50-59  [tensor(0.2230), tensor(0.7470), tensor(-0.246...   \n",
       "\n",
       "   cluster_assignment  \n",
       "0                   6  \n",
       "1                   4  \n",
       "2                   0  \n",
       "3                   1  \n",
       "4                   1  "
      ]
     },
     "execution_count": 19,
     "metadata": {},
     "output_type": "execute_result"
    }
   ],
   "source": [
    "\"\"\"\n",
    "This code is to be run to get the data from lyrics.csv in lieu of redoing all the embedding\n",
    "\n",
    "Otherwise, DO NOT RUN\n",
    "\"\"\"\n",
    "\n",
    "lyricstest = pd.read_csv(\"../data/lyrics.csv\")\n",
    "lyricstest['latent_embedding'] = lyricstest['latent_embedding'].apply(lambda x: torch.tensor(ast.literal_eval(x)))\n",
    "print(lyricstest.dtypes)\n",
    "lyricstest.head()"
   ]
  },
  {
   "cell_type": "code",
   "execution_count": 32,
   "metadata": {},
   "outputs": [],
   "source": [
    "def plot_embeddings_interactive(embeddings, target_album=None, target_bucket=None):\n",
    "    \"\"\"\n",
    "    This is a function so we can see if there are patterns among different buckets of billboard scores.\n",
    "    It's a bit dizzying to look at everything overlaid...\n",
    "\n",
    "    This plot is interactive to make encoding EDA not as painful\n",
    "    \"\"\"\n",
    "    unique_albums = lyrics['album_name'].unique()\n",
    "    album_colors = plt.cm.rainbow(np.linspace(0, 1, len(unique_albums)))\n",
    "    album_color_map = {album: f'rgb({int(col[0]*255)}, {int(col[1]*255)}, {int(col[2]*255)})' for album, col in zip(unique_albums, album_colors)}\n",
    "\n",
    "    unique_buckets = lyrics['peak_pos_bucketed'].unique()\n",
    "    peak_pos_colors = plt.cm.Spectral(np.linspace(0, 1, len(unique_buckets)))\n",
    "    peak_pos_color_map = {bucket: f'rgb({int(col[0]*255)}, {int(col[1]*255)}, {int(col[2]*255)})' for bucket, col in zip(unique_buckets, peak_pos_colors)}\n",
    "\n",
    "    fig = go.Figure()\n",
    "\n",
    "    # Ensuring embeddings_2d is a NumPy array for indexing\n",
    "    embeddings_2d_np = np.array(embeddings)\n",
    "\n",
    "    # Add traces for album names\n",
    "    for album in unique_albums:\n",
    "        if target_album is not None and target_album != album:\n",
    "            continue\n",
    "        idx = lyrics['album_name'] == album\n",
    "        selected_embeddings = embeddings_2d_np[idx]\n",
    "        fig.add_trace(go.Scatter(x=selected_embeddings[:, 0], y=selected_embeddings[:, 1],\n",
    "                                 mode='markers', marker=dict(color=album_color_map[album], opacity=0.7 if target_album is None or target_album == album else 0.2),\n",
    "                                 name=album, text=lyrics[idx]['track_name']))\n",
    "\n",
    "    # Add traces for peak position buckets, set to be initially hidden (visible on legend click)\n",
    "    for bucket in unique_buckets:\n",
    "        if target_bucket is not None and target_bucket != bucket:\n",
    "            continue\n",
    "        idx = lyrics['peak_pos_bucketed'] == bucket\n",
    "        selected_embeddings = embeddings_2d_np[idx]\n",
    "        fig.add_trace(go.Scatter(x=selected_embeddings[:, 0], y=selected_embeddings[:, 1],\n",
    "                                 mode='markers', marker=dict(color=peak_pos_color_map[bucket], opacity=0.7 if target_bucket is None or target_bucket == bucket else 0.2),\n",
    "                                 name=bucket, text=lyrics[idx]['track_name'],\n",
    "                                 visible='legendonly'))\n",
    "\n",
    "    fig.update_layout(title='Interactive Plot of Song Embeddings',\n",
    "                      xaxis_title='TSNE 1',\n",
    "                      yaxis_title='TSNE 2',\n",
    "                      legend_title_text='Legend',\n",
    "                      hovermode='closest')\n",
    "\n",
    "    fig.show()"
   ]
  },
  {
   "cell_type": "code",
   "execution_count": 42,
   "metadata": {},
   "outputs": [
    {
     "data": {
      "image/png": "[encoded data removed]",
      "text/plain": [
       "<Figure size 1000x600 with 1 Axes>"
      ]
     },
     "metadata": {},
     "output_type": "display_data"
    }
   ],
   "source": [
    "embeddings = np.array([embedding.flatten() for embedding in lyricstest['latent_embedding']])\n",
    "\n",
    "# Number of components is arbitrary for now\n",
    "ndims = 40\n",
    "umap_reducer = umap.UMAP(n_components=ndims)\n",
    "reduced_UMAP = umap_reducer.fit_transform(embeddings)\n",
    "\n",
    "k_values = range(5, 45) \n",
    "wcss = []\n",
    "\n",
    "for k in k_values:\n",
    "    kmeans = KMeans(n_clusters=k, random_state=256, n_init=10)\n",
    "    kmeans.fit(reduced_UMAP)\n",
    "    wcss.append(kmeans.inertia_)\n",
    "\n",
    "# Plotting the results\n",
    "plt.figure(figsize=(10, 6))\n",
    "plt.plot(k_values, wcss, '-o', color='black')\n",
    "plt.title('The Elbow Method')\n",
    "plt.xlabel('Number of clusters (k)')\n",
    "plt.ylabel('WCSS')\n",
    "plt.xticks(k_values)\n",
    "plt.grid(True)\n",
    "plt.show()"
   ]
  },
  {
   "cell_type": "code",
   "execution_count": 43,
   "metadata": {},
   "outputs": [
    {
     "data": {
      "application/vnd.plotly.v1+json": {
       "config": {
        "plotlyServerURL": "https://plot.ly"
       },
       "data": [
        {
         "marker": {
          "color": "rgb(127, 0, 255)",
          "opacity": 0.7
         },
         "mode": "markers",
         "name": "reputation",
         "text": [
          "...Ready For It?",
          "Call It What You Want",
          "Dancing With Our Hands Tied",
          "Delicate",
          "Don't Blame Me",
          "Dress",
          "End Game",
          "Getaway Car",
          "Gorgeous",
          "I Did Something Bad",
          "King Of My Heart",
          "Look What You Made Me Do",
          "New Year's Day",
          "So It Goes...",
          "This Is Why We Can't Have Nice Things"
         ],
         "type": "scatter",
         "x": [
          -14.815033912658691,
          -12.575311660766602,
          -20.116613388061523,
          -20.52131462097168,
          -9.905412673950195,
          -15.96249771118164,
          -17.83687973022461,
          -9.537141799926758,
          -20.317611694335938,
          -17.26494026184082,
          -16.434267044067383,
          -18.924257278442383,
          -17.417490005493164,
          -14.954424858093262,
          -15.093989372253418
         ],
         "y": [
          4.946878433227539,
          -2.9208743572235107,
          -3.509181022644043,
          7.223804950714111,
          4.94879150390625,
          -2.30566143989563,
          -3.124753952026367,
          4.855848789215088,
          -5.437410354614258,
          7.808690071105957,
          5.076572418212891,
          7.905762672424316,
          8.883002281188965,
          -3.140972375869751,
          -3.3396291732788086
         ]
        },
        {
         "marker": {
          "color": "rgb(95, 49, 253)",
          "opacity": 0.7
         },
         "mode": "markers",
         "name": "evermore",
         "text": [
          "'tis the damn season",
          "champagne problems",
          "closure",
          "coney island",
          "cowboy like me",
          "dorothea",
          "evermore",
          "gold rush",
          "happiness",
          "it's time to go",
          "ivy",
          "long story short",
          "marjorie",
          "no body, no crime",
          "right where you left me",
          "tolerate it",
          "willow"
         ],
         "type": "scatter",
         "x": [
          -10.184420585632324,
          26.10431671142578,
          25.335906982421875,
          -2.824954032897949,
          22.096750259399414,
          1.552761435508728,
          -1.166163444519043,
          13.159259796142578,
          -18.174489974975586,
          -0.5875735878944397,
          -6.925543308258057,
          -8.238109588623047,
          22.386262893676758,
          -9.057117462158203,
          -17.905994415283203,
          25.388607025146484,
          -15.592161178588867
         ],
         "y": [
          -2.1763882637023926,
          -2.8130548000335693,
          2.5902047157287598,
          -1.3248281478881836,
          -1.6899462938308716,
          -1.097255825996399,
          -1.0608479976654053,
          1.1394550800323486,
          -6.056049346923828,
          -1.015910029411316,
          -0.9357216954231262,
          -1.3266702890396118,
          -1.873401165008545,
          -1.7260913848876953,
          -6.244187355041504,
          -3.554994821548462,
          5.469973564147949
         ]
        },
        {
         "marker": {
          "color": "rgb(63, 97, 250)",
          "opacity": 0.7
         },
         "mode": "markers",
         "name": "1989 (Taylor's Version)",
         "text": [
          "\"Slut!\" (Taylor's Version) [From The Vault]",
          "All You Had To Do Was Stay (Taylor's Version)",
          "Bad Blood (Remix) [Taylor's Version]",
          "Bad Blood (Taylor's Version)",
          "Blank Space (Taylor's Version)",
          "Clean (Taylor's Version)",
          "How You Get The Girl (Taylor's Version)",
          "I Know Places (Taylor's Version)",
          "I Wish You Would (Taylor's Version)",
          "Is It Over Now? (Taylor's Version) [From The Vault]",
          "New Romantics (Taylor's Version)",
          "Now That We Don't Talk (Taylor's Version) [From The Vault]",
          "Out Of The Woods (Taylor's Version)",
          "Say Don't Go (Taylor's Version) [From The Vault]",
          "Shake It Off (Taylor's Version)",
          "Style (Taylor's Version)",
          "Suburban Legends (Taylor's Version) [From The Vault]",
          "Sweeter Than Fiction (Taylor's Version)",
          "This Love (Taylor's Version)",
          "Welcome To New York (Taylor's Version)",
          "Wildest Dreams (Taylor's Version)",
          "Wonderland (Taylor's Version)",
          "You Are In Love (Taylor's Version)"
         ],
         "type": "scatter",
         "x": [
          -3.5881264209747314,
          -21.490663528442383,
          -19.033824920654297,
          -18.327672958374023,
          -17.25916862487793,
          -2.6889734268188477,
          -21.55843162536621,
          -5.610220909118652,
          -21.043045043945312,
          -16.115737915039062,
          -12.536909103393555,
          26.679378509521484,
          -18.40055274963379,
          -22.876949310302734,
          -20.613651275634766,
          -9.190924644470215,
          22.54417610168457,
          -20.365957260131836,
          -22.219926834106445,
          -7.880302906036377,
          -23.386821746826172,
          -15.585479736328125,
          -14.327631950378418
         ],
         "y": [
          -1.278680443763733,
          -2.564845323562622,
          -5.820069789886475,
          7.931621074676514,
          8.352654457092285,
          -4.302833557128906,
          -5.180677890777588,
          -1.0822288990020752,
          -3.0642714500427246,
          -3.573918342590332,
          4.659756660461426,
          -2.3932504653930664,
          4.909056186676025,
          -3.623983383178711,
          6.808700084686279,
          4.374086856842041,
          1.8095600605010986,
          -4.76332950592041,
          -4.212654113769531,
          3.68930983543396,
          -1.8540992736816406,
          -1.194487452507019,
          -3.3887834548950195
         ]
        },
        {
         "marker": {
          "color": "rgb(31, 142, 243)",
          "opacity": 0.7
         },
         "mode": "markers",
         "name": "Red",
         "text": [
          "22",
          "All Too Well",
          "Begin Again",
          "Come Back...Be Here",
          "Everything Has Changed",
          "Girl At Home",
          "Holy Ground",
          "I Almost Do",
          "I Knew You Were Trouble",
          "Red",
          "Red (Original Demo Recording)",
          "Sad Beautiful Tragic",
          "Starlight",
          "State Of Grace",
          "State Of Grace (Acoustic Version)",
          "Stay Stay Stay",
          "The Last Time",
          "The Lucky One",
          "The Moment I Knew",
          "Treacherous",
          "Treacherous (Original Demo Recording)",
          "We Are Never Ever Getting Back Together"
         ],
         "type": "scatter",
         "x": [
          -22.90218734741211,
          -11.730008125305176,
          15.779651641845703,
          22.214805603027344,
          -15.484509468078613,
          -14.928204536437988,
          23.306272506713867,
          17.088539123535156,
          -22.0308895111084,
          -2.1032967567443848,
          14.356858253479004,
          31.77932357788086,
          -7.421724796295166,
          29.611082077026367,
          31.7500057220459,
          -2.0490965843200684,
          -20.08568000793457,
          -5.282905578613281,
          0.08999665826559067,
          11.595486640930176,
          11.239465713500977,
          -23.317211151123047
         ],
         "y": [
          -2.0744597911834717,
          4.0969767570495605,
          3.5329606533050537,
          -1.5755254030227661,
          -2.499561309814453,
          -2.704334020614624,
          1.9281580448150635,
          1.6706537008285522,
          -2.758737802505493,
          -4.33480167388916,
          1.4306354522705078,
          4.280467987060547,
          4.155149936676025,
          1.150923728942871,
          2.6041133403778076,
          -4.062830924987793,
          -5.250545024871826,
          0.20645436644554138,
          -1.3785334825515747,
          0.14262519776821136,
          0.701274037361145,
          -1.4014616012573242
         ]
        },
        {
         "marker": {
          "color": "rgb(0, 180, 235)",
          "opacity": 0.7
         },
         "mode": "markers",
         "name": "Red (Taylor's Version)",
         "text": [
          "22 (Taylor's Version)",
          "All Too Well (10 Minute Version) [Taylor's Version] [From The Vault]",
          "All Too Well (Taylor's Version)",
          "Babe (Taylor's Version) [From The Vault]",
          "Begin Again (Taylor's Version)",
          "Better Man (Taylor's Version) [From The Vault]",
          "Come Back...Be Here (Taylor's Version)",
          "Everything Has Changed (Taylor's Version)",
          "Forever Winter (Taylor's Version) [From The Vault]",
          "Girl At Home (Taylor's Version)",
          "Holy Ground (Taylor's Version)",
          "I Almost Do (Taylor's Version)",
          "I Bet You Think About Me (Taylor's Version) [From The Vault]",
          "I Knew You Were Trouble (Taylor's Version)",
          "Message In A Bottle (Taylor's Version) [From The Vault]",
          "Nothing New (Taylor's Version) [From The Vault]",
          "Red (Taylor's Version)",
          "Ronan (Taylor's Version)",
          "Run (Taylor's Version) [From The Vault]",
          "Sad Beautiful Tragic (Taylor's Version)",
          "Starlight (Taylor's Version)",
          "State Of Grace (Acoustic Version) [Taylor's Version]",
          "State Of Grace (Taylor's Version)",
          "Stay Stay Stay (Taylor's Version)",
          "The Last Time (Taylor's Version)",
          "The Lucky One (Taylor's Version)",
          "The Moment I Knew (Taylor's Version)",
          "The Very First Night (Taylor's Version) [From The Vault]",
          "Treacherous (Taylor's Version)",
          "We Are Never Ever Getting Back Together (Taylor's Version)"
         ],
         "type": "scatter",
         "x": [
          -22.73232650756836,
          -11.273649215698242,
          -11.691985130310059,
          -2.193953037261963,
          16.090194702148438,
          -11.912443161010742,
          21.97091293334961,
          -15.278151512145996,
          25.615325927734375,
          -14.462797164916992,
          24.079425811767578,
          16.920394897460938,
          -11.733536720275879,
          -22.385761260986328,
          -20.753543853759766,
          -0.4935852289199829,
          -23.002920150756836,
          24.087390899658203,
          -10.442386627197266,
          31.16733741760254,
          -16.390579223632812,
          31.301279067993164,
          -0.2381633222103119,
          -2.276787042617798,
          -19.560815811157227,
          -5.284581184387207,
          0.28981155157089233,
          12.774812698364258,
          11.183298110961914,
          -23.51433753967285
         ],
         "y": [
          -1.4973844289779663,
          3.950131416320801,
          4.127352714538574,
          -3.36152982711792,
          3.3753039836883545,
          3.543126344680786,
          -1.5309327840805054,
          -2.477820873260498,
          -3.9497690200805664,
          -2.2546534538269043,
          1.768983244895935,
          1.4868264198303223,
          -2.8979649543762207,
          -3.003918409347534,
          -3.436105489730835,
          -1.3025413751602173,
          -3.3616981506347656,
          -2.430297613143921,
          3.2501795291900635,
          3.740539073944092,
          7.142060279846191,
          2.435023546218872,
          -1.8313716650009155,
          -4.002911567687988,
          -5.330787181854248,
          0.1958129107952118,
          -1.61487877368927,
          0.9032961130142212,
          0.866585910320282,
          -1.3407847881317139
         ]
        },
        {
         "marker": {
          "color": "rgb(32, 212, 224)",
          "opacity": 0.7
         },
         "mode": "markers",
         "name": "Taylor Swift",
         "text": [
          "A Perfectly Good Heart",
          "A Place In This World",
          "Cold As You",
          "I'm Only Me When I'm With You",
          "I'm Only Me When I'm With You",
          "Invisible",
          "Mary's Song (Oh My My My)",
          "Our Song",
          "Picture To Burn",
          "Should've Said No",
          "Stay Beautiful",
          "Teardrops On My Guitar",
          "Teardrops On My Guitar (Pop Version)",
          "The Outside",
          "Tied Together With A Smile",
          "Tim McGraw"
         ],
         "type": "scatter",
         "x": [
          30.154054641723633,
          28.09855842590332,
          27.806556701660156,
          23.298171997070312,
          23.46552085876465,
          28.999238967895508,
          0.9043468832969666,
          -8.782703399658203,
          11.664451599121094,
          -1.7911005020141602,
          28.69001007080078,
          15.272478103637695,
          14.801855087280273,
          29.24659538269043,
          24.3787784576416,
          -7.602462291717529
         ],
         "y": [
          2.7581825256347656,
          2.783153772354126,
          3.193206548690796,
          -2.90458607673645,
          -2.2315893173217773,
          2.454501152038574,
          -0.6441506147384644,
          4.952073574066162,
          1.1218290328979492,
          -3.9036812782287598,
          0.14955343306064606,
          1.783157229423523,
          1.5083837509155273,
          2.9078056812286377,
          2.221858263015747,
          4.160237789154053
         ]
        },
        {
         "marker": {
          "color": "rgb(64, 236, 211)",
          "opacity": 0.7
         },
         "mode": "markers",
         "name": "Lover",
         "text": [
          "Afterglow",
          "Cornelia Street",
          "Cruel Summer",
          "Daylight",
          "Death By A Thousand Cuts",
          "False God",
          "I Forgot That You Existed",
          "I Think He Knows",
          "It's Nice To Have A Friend",
          "London Boy",
          "Lover",
          "ME!",
          "Miss Americana & The Heartbreak Prince",
          "Paper Rings",
          "Soon You'll Get Better",
          "The Archer",
          "The Man",
          "You Need To Calm Down"
         ],
         "type": "scatter",
         "x": [
          -8.616528511047363,
          -9.232364654541016,
          -19.268829345703125,
          -20.11357879638672,
          -16.873741149902344,
          12.168745040893555,
          21.16014289855957,
          -10.016702651977539,
          32.178897857666016,
          -10.670171737670898,
          17.382816314697266,
          -20.576507568359375,
          -12.42824649810791,
          -19.89532470703125,
          25.904882431030273,
          19.85477066040039,
          -18.11229705810547,
          -20.397899627685547
         ],
         "y": [
          3.7247231006622314,
          5.5690789222717285,
          6.508752346038818,
          -3.3809280395507812,
          7.923450469970703,
          0.5449160933494568,
          1.8328853845596313,
          -1.9179391860961914,
          3.9288923740386963,
          2.6099631786346436,
          1.8498587608337402,
          6.863151550292969,
          4.464880466461182,
          -4.313207149505615,
          1.9323660135269165,
          1.646445870399475,
          -3.372039794921875,
          7.518585681915283
         ]
        },
        {
         "marker": {
          "color": "rgb(96, 250, 196)",
          "opacity": 0.7
         },
         "mode": "markers",
         "name": "nan",
         "text": [],
         "type": "scatter",
         "x": [],
         "y": []
        },
        {
         "marker": {
          "color": "rgb(128, 254, 179)",
          "opacity": 0.7
         },
         "mode": "markers",
         "name": "1989",
         "text": [
          "All You Had To Do Was Stay",
          "Bad Blood",
          "Blank Space",
          "Clean",
          "How You Get The Girl",
          "I Know Places",
          "I Wish You Would",
          "New Romantics",
          "Out Of The Woods",
          "Shake It Off",
          "Style",
          "This Love",
          "Welcome To New York",
          "Wildest Dreams",
          "Wonderland",
          "You Are In Love"
         ],
         "type": "scatter",
         "x": [
          -21.02275276184082,
          -17.957889556884766,
          -17.24928855895996,
          -22.593704223632812,
          -21.42686653137207,
          -6.227971076965332,
          -20.421043395996094,
          -11.518728256225586,
          -17.916576385498047,
          -20.52006721496582,
          -8.455573081970215,
          -22.76312255859375,
          -7.381346225738525,
          -23.29772186279297,
          -18.748905181884766,
          -14.336283683776855
         ],
         "y": [
          -2.3350303173065186,
          8.2101469039917,
          8.597436904907227,
          -4.504428386688232,
          -5.0656328201293945,
          0.21265344321727753,
          -2.5980119705200195,
          4.697612285614014,
          5.199066638946533,
          7.357907772064209,
          4.447397232055664,
          -3.557439088821411,
          3.497565746307373,
          -2.131300687789917,
          -3.3875210285186768,
          -3.119852066040039
         ]
        },
        {
         "marker": {
          "color": "rgb(160, 249, 161)",
          "opacity": 0.7
         },
         "mode": "markers",
         "name": "Midnights",
         "text": [
          "Anti-Hero",
          "Bejeweled",
          "Bigger Than The Whole Sky",
          "Dear Reader",
          "Glitch",
          "High Infidelity",
          "Hits Different",
          "Karma",
          "Karma (Remix)",
          "Labyrinth",
          "Lavender Haze",
          "Maroon",
          "Mastermind",
          "Midnight Rain",
          "Paris",
          "Question...?",
          "Snow On The Beach",
          "Snow On The Beach (More Lana Del Rey)",
          "Sweet Nothing",
          "Sweet Nothing (Piano Remix)",
          "The Great War",
          "Vigilante Shit",
          "Would've, Could've, Should've",
          "You're Losing Me (From The Vault)",
          "You're On Your Own, Kid",
          "You're On Your Own, Kid (Strings Remix)"
         ],
         "type": "scatter",
         "x": [
          -1.9914147853851318,
          -16.477935791015625,
          23.49321174621582,
          29.82647132873535,
          22.251583099365234,
          -7.24582052230835,
          -12.208053588867188,
          -7.026468753814697,
          -12.938631057739258,
          20.846435546875,
          21.614120483398438,
          -2.2652347087860107,
          0.45713767409324646,
          25.082271575927734,
          25.076322555541992,
          -15.412646293640137,
          -21.80943489074707,
          -20.885467529296875,
          22.650989532470703,
          22.505619049072266,
          -1.5914578437805176,
          28.912324905395508,
          -14.593754768371582,
          -12.775078773498535,
          26.052635192871094,
          26.138980865478516
         ],
         "y": [
          -2.293612241744995,
          -3.0650177001953125,
          2.3441710472106934,
          1.2515298128128052,
          2.720478057861328,
          0.2840941548347473,
          -3.1798315048217773,
          -0.04933391138911247,
          -3.346660614013672,
          1.994557499885559,
          1.9989959001541138,
          -3.031954765319824,
          -1.318742036819458,
          0.4888575077056885,
          -4.005309104919434,
          -3.565340280532837,
          -4.491260051727295,
          -4.488836765289307,
          3.1550636291503906,
          3.302076816558838,
          -1.166032314300537,
          0.3477333188056946,
          -4.132980823516846,
          -2.514035224914551,
          -3.563215494155884,
          -3.265779495239258
         ]
        },
        {
         "marker": {
          "color": "rgb(192, 234, 140)",
          "opacity": 0.7
         },
         "mode": "markers",
         "name": "folklore",
         "text": [
          "august",
          "betty",
          "cardigan",
          "epiphany",
          "exile",
          "hoax",
          "illicit affairs",
          "invisible string",
          "mad woman",
          "mirrorball",
          "my tears ricochet",
          "peace",
          "seven",
          "the 1",
          "the lakes",
          "the last great american dynasty",
          "this is me trying"
         ],
         "type": "scatter",
         "x": [
          -6.646457195281982,
          -17.94495391845703,
          -23.47879409790039,
          31.363506317138672,
          -17.89942169189453,
          29.88457489013672,
          30.608606338500977,
          24.819561004638672,
          25.990076065063477,
          24.053138732910156,
          25.479949951171875,
          23.19744873046875,
          31.58961296081543,
          16.217689514160156,
          11.434557914733887,
          0.68694669008255,
          26.653982162475586
         ],
         "y": [
          0.9432427287101746,
          7.213322162628174,
          -1.914204716682434,
          4.153451919555664,
          8.183684349060059,
          3.477879285812378,
          3.129295587539673,
          -2.590815544128418,
          -3.8042328357696533,
          1.836549997329712,
          -3.6693131923675537,
          -2.5936105251312256,
          2.648989677429199,
          2.657958507537842,
          -0.0760514885187149,
          -1.38202702999115,
          2.814573287963867
         ]
        },
        {
         "marker": {
          "color": "rgb(224, 210, 119)",
          "opacity": 0.7
         },
         "mode": "markers",
         "name": "Speak Now",
         "text": [
          "Back To December",
          "Better Than Revenge",
          "Dear John",
          "Enchanted",
          "Haunted",
          "If This Was A Movie",
          "Innocent",
          "Last Kiss",
          "Long Live",
          "Mean",
          "Mine",
          "Never Grow Up",
          "Ours",
          "Sparks Fly",
          "Speak Now",
          "Superman",
          "The Story Of Us"
         ],
         "type": "scatter",
         "x": [
          -16.37911033630371,
          -17.14940071105957,
          -6.245270252227783,
          -2.5893707275390625,
          15.198291778564453,
          -16.189916610717773,
          25.602588653564453,
          -7.897287845611572,
          -16.629045486450195,
          -19.04756736755371,
          -8.510879516601562,
          -17.120553970336914,
          11.878618240356445,
          13.89568042755127,
          -9.199300765991211,
          -6.591118335723877,
          -10.775629997253418
         ],
         "y": [
          3.6043970584869385,
          4.786977767944336,
          0.5038793683052063,
          -3.777780771255493,
          2.6861793994903564,
          -1.7887171506881714,
          -2.7602601051330566,
          4.538752555847168,
          6.197024345397949,
          7.145866870880127,
          4.10208797454834,
          -2.3255510330200195,
          0.02598724327981472,
          1.4991217851638794,
          4.969404220581055,
          0.17104318737983704,
          4.439328193664551
         ]
        },
        {
         "marker": {
          "color": "rgb(255, 178, 96)",
          "opacity": 0.7
         },
         "mode": "markers",
         "name": "Speak Now (Taylor's Version)",
         "text": [
          "Back To December (Taylor's Version)",
          "Better Than Revenge (Taylor's Version)",
          "Castles Crumbling (Taylor's Version) [From The Vault]",
          "Dear John (Taylor's Version)",
          "Electric Touch (Taylor's Version) [From The Vault]",
          "Enchanted (Taylor's Version)",
          "Foolish One (Taylor's Version) [From The Vault]",
          "Haunted (Taylor's Version)",
          "I Can See You (Taylor's Version) [From The Vault]",
          "Innocent (Taylor's Version)",
          "Last Kiss (Taylor's Version)",
          "Long Live (Taylor's Version)",
          "Mean (Taylor's Version)",
          "Mine (Taylor's Version)",
          "Never Grow Up (Taylor's Version)",
          "Ours (Taylor's Version)",
          "Sparks Fly (Taylor's Version)",
          "Speak Now (Taylor's Version)",
          "Superman (Taylor's Version)",
          "The Story Of Us (Taylor's Version)",
          "Timeless (Taylor's Version) [From The Vault]",
          "When Emma Falls In Love (Taylor's Version) [From The Vault]"
         ],
         "type": "scatter",
         "x": [
          -19.594900131225586,
          -16.50157356262207,
          21.909212112426758,
          -6.232151508331299,
          0.1399032175540924,
          -22.337541580200195,
          -12.615813255310059,
          15.263792991638184,
          -20.253328323364258,
          25.208539962768555,
          -8.513744354248047,
          -17.169700622558594,
          -19.36294174194336,
          -13.704827308654785,
          -17.10504150390625,
          12.242286682128906,
          14.730608940124512,
          -10.112800598144531,
          -7.040724754333496,
          -10.32666301727295,
          -17.597061157226562,
          -2.9313273429870605
         ],
         "y": [
          -3.291992425918579,
          4.449910640716553,
          1.0848119258880615,
          0.7247424125671387,
          -0.9970150589942932,
          -2.0678694248199463,
          -0.4962880313396454,
          2.287611961364746,
          -5.280552387237549,
          -2.896214723587036,
          4.538280487060547,
          6.175253868103027,
          7.504329204559326,
          4.951194763183594,
          -2.738313674926758,
          0.16369479894638062,
          2.3228719234466553,
          5.216494083404541,
          0.012880071997642517,
          4.450186252593994,
          -5.8639936447143555,
          -1.5823862552642822
         ]
        },
        {
         "marker": {
          "color": "rgb(255, 139, 72)",
          "opacity": 0.7
         },
         "mode": "markers",
         "name": "Beautiful Eyes",
         "text": [
          "Beautiful Eyes",
          "I Heart ?",
          "I'm Only Me When I'm With You",
          "I'm Only Me When I'm With You",
          "Picture To Burn (Radio Edit)",
          "Should've Said No (Alternate Version)",
          "Teardrops On My Guitar (Acoustic Version)"
         ],
         "type": "scatter",
         "x": [
          30.9697265625,
          23.793851852416992,
          23.509563446044922,
          23.055105209350586,
          12.229239463806152,
          15.781347274780273,
          15.561295509338379
         ],
         "y": [
          4.430777072906494,
          -2.7496087551116943,
          -2.5263290405273438,
          -2.3467700481414795,
          0.24024753272533417,
          2.215946912765503,
          1.6294782161712646
         ]
        },
        {
         "marker": {
          "color": "rgb(255, 95, 48)",
          "opacity": 0.7
         },
         "mode": "markers",
         "name": "Fearless",
         "text": [
          "Breathe",
          "Change",
          "Come In With The Rain",
          "Fearless",
          "Fifteen",
          "Forever & Always",
          "Forever & Always (Piano Version)",
          "Hey Stephen",
          "Jump Then Fall",
          "Love Story",
          "SuperStar",
          "Tell Me Why",
          "The Best Day",
          "The Other Side Of The Door",
          "The Way I Loved You",
          "Untouchable",
          "White Horse",
          "You Belong With Me",
          "You're Not Sorry"
         ],
         "type": "scatter",
         "x": [
          16.127307891845703,
          11.70259952545166,
          30.075382232666016,
          12.218405723571777,
          -13.058595657348633,
          -18.535503387451172,
          -19.161441802978516,
          -9.711164474487305,
          -6.2823100090026855,
          -20.051719665527344,
          11.126459121704102,
          1.019956111907959,
          24.68771743774414,
          -7.278375625610352,
          14.657035827636719,
          -17.717069625854492,
          21.416351318359375,
          -16.404756546020508,
          -1.4543335437774658
         ],
         "y": [
          2.8979735374450684,
          0.7236842513084412,
          2.352011203765869,
          1.16665780544281,
          -2.3124663829803467,
          5.409674167633057,
          5.40040397644043,
          4.181349754333496,
          -0.3207795023918152,
          7.313052177429199,
          0.35540860891342163,
          -0.9457848072052002,
          -3.958343982696533,
          2.7982280254364014,
          1.885632872581482,
          8.734382629394531,
          0.7328619360923767,
          5.598264217376709,
          -4.255861759185791
         ]
        },
        {
         "marker": {
          "color": "rgb(255, 46, 23)",
          "opacity": 0.7
         },
         "mode": "markers",
         "name": "Fearless (Taylor's Version)",
         "text": [
          "Breathe (Taylor's Version)",
          "Bye Bye Baby (Taylor's Version) [From The Vault]",
          "Change (Taylor's Version)",
          "Come In With The Rain (Taylor's Version)",
          "Don't You (Taylor's Version) [From The Vault]",
          "Fearless (Taylor's Version)",
          "Fifteen (Taylor's Version)",
          "Forever & Always (Piano Version) [Taylor's Version]",
          "Forever & Always (Taylor's Version)",
          "Hey Stephen (Taylor's Version)",
          "Jump Then Fall (Taylor's Version)",
          "Love Story (Taylor's Version)",
          "Mr. Perfectly Fine (Taylor's Version) [From The Vault]",
          "SuperStar (Taylor's Version)",
          "Tell Me Why (Taylor's Version)",
          "That's When (Taylor's Version) [From The Vault]",
          "The Best Day (Taylor's Version)",
          "The Other Side Of The Door (Taylor's Version)",
          "The Way I Loved You (Taylor's Version)",
          "Today Was A Fairytale (Taylor's Version)",
          "Untouchable (Taylor's Version)",
          "We Were Happy (Taylor's Version) [From The Vault]",
          "White Horse (Taylor's Version)",
          "You All Over Me (Taylor's Version) [From The Vault]",
          "You Belong With Me (Taylor's Version)",
          "You're Not Sorry (Taylor's Version)"
         ],
         "type": "scatter",
         "x": [
          -1.407925009727478,
          15.682379722595215,
          11.688911437988281,
          29.44552993774414,
          28.413246154785156,
          12.27087688446045,
          -12.923630714416504,
          -22.95092010498047,
          -19.583667755126953,
          -9.687318801879883,
          -6.076079845428467,
          -20.012510299682617,
          -19.474651336669922,
          11.175464630126953,
          0.5161663889884949,
          -22.48321533203125,
          25.119537353515625,
          -17.708606719970703,
          14.812491416931152,
          16.607376098632812,
          -17.9865779876709,
          28.943073272705078,
          21.19499397277832,
          22.298622131347656,
          -16.104360580444336,
          -1.6603407859802246
         ],
         "y": [
          -3.747922658920288,
          2.6574866771698,
          1.1438114643096924,
          2.585991859436035,
          1.9453102350234985,
          0.8881993293762207,
          -2.3108365535736084,
          -1.392932653427124,
          4.701720714569092,
          4.068729877471924,
          -0.41152557730674744,
          7.0995683670043945,
          -5.806314468383789,
          0.193243145942688,
          -0.7212390303611755,
          -4.892116546630859,
          -4.250004768371582,
          6.39866828918457,
          2.5934128761291504,
          2.582012891769409,
          8.735547065734863,
          1.520717978477478,
          1.1745555400848389,
          2.740753173828125,
          5.1414475440979,
          -4.375856876373291
         ]
        },
        {
         "marker": {
          "color": "rgb(255, 0, 0)",
          "opacity": 0.7
         },
         "mode": "markers",
         "name": "The Taylor Swift Holiday Collection",
         "text": [
          "Christmas Must Be Something More",
          "Christmases When You Were Mine",
          "Last Christmas",
          "Santa Baby",
          "Silent Night",
          "White Christmas"
         ],
         "type": "scatter",
         "x": [
          25.593900680541992,
          31.63200569152832,
          21.025421142578125,
          31.283449172973633,
          32.07789993286133,
          31.502546310424805
         ],
         "y": [
          -2.9408035278320312,
          3.3078951835632324,
          0.8869249224662781,
          3.26230525970459,
          3.7353382110595703,
          4.542845249176025
         ]
        },
        {
         "marker": {
          "color": "rgb(158, 1, 66)",
          "opacity": 0.7
         },
         "mode": "markers",
         "name": "0-9",
         "text": [
          "...Ready For It?",
          "\"Slut!\" (Taylor's Version) [From The Vault]",
          "All Too Well (Taylor's Version)",
          "Anti-Hero",
          "Back To December",
          "Bad Blood (Remix) [Taylor's Version]",
          "Bad Blood (Taylor's Version)",
          "Begin Again",
          "Bejeweled",
          "Blank Space",
          "cardigan",
          "Cruel Summer",
          "exile",
          "Fearless",
          "I Can See You (Taylor's Version) [From The Vault]",
          "I Don't Wanna Live Forever",
          "I Knew You Were Trouble",
          "Is It Over Now? (Taylor's Version) [From The Vault]",
          "Karma (Remix)",
          "Lavender Haze",
          "Look What You Made Me Do",
          "Love Story",
          "Maroon",
          "ME!",
          "Midnight Rain",
          "Mine",
          "Now That We Don't Talk (Taylor's Version) [From The Vault]",
          "Question...?",
          "Red",
          "Say Don't Go (Taylor's Version) [From The Vault]",
          "Shake It Off",
          "Snow On The Beach",
          "Speak Now",
          "Style",
          "Style (Taylor's Version)",
          "the 1",
          "Today Was A Fairytale",
          "We Are Never Ever Getting Back Together",
          "Wildest Dreams",
          "willow",
          "You Belong With Me",
          "You Need To Calm Down",
          "You're On Your Own, Kid"
         ],
         "type": "scatter",
         "visible": "legendonly",
         "x": [
          -14.815033912658691,
          -3.5881264209747314,
          -11.691985130310059,
          -1.9914147853851318,
          -16.37911033630371,
          -19.033824920654297,
          -18.327672958374023,
          15.779651641845703,
          -16.477935791015625,
          -17.24928855895996,
          -23.47879409790039,
          -19.268829345703125,
          -17.89942169189453,
          12.218405723571777,
          -20.253328323364258,
          -1.4514119625091553,
          -22.0308895111084,
          -16.115737915039062,
          -12.938631057739258,
          21.614120483398438,
          -18.924257278442383,
          -20.051719665527344,
          -2.2652347087860107,
          -20.576507568359375,
          25.082271575927734,
          -8.510879516601562,
          26.679378509521484,
          -15.412646293640137,
          -2.1032967567443848,
          -22.876949310302734,
          -20.52006721496582,
          -21.80943489074707,
          -9.199300765991211,
          -8.455573081970215,
          -9.190924644470215,
          16.217689514160156,
          16.660551071166992,
          -23.317211151123047,
          -23.29772186279297,
          -15.592161178588867,
          -16.404756546020508,
          -20.397899627685547,
          26.052635192871094
         ],
         "y": [
          4.946878433227539,
          -1.278680443763733,
          4.127352714538574,
          -2.293612241744995,
          3.6043970584869385,
          -5.820069789886475,
          7.931621074676514,
          3.5329606533050537,
          -3.0650177001953125,
          8.597436904907227,
          -1.914204716682434,
          6.508752346038818,
          8.183684349060059,
          1.16665780544281,
          -5.280552387237549,
          -4.505205154418945,
          -2.758737802505493,
          -3.573918342590332,
          -3.346660614013672,
          1.9989959001541138,
          7.905762672424316,
          7.313052177429199,
          -3.031954765319824,
          6.863151550292969,
          0.4888575077056885,
          4.10208797454834,
          -2.3932504653930664,
          -3.565340280532837,
          -4.33480167388916,
          -3.623983383178711,
          7.357907772064209,
          -4.491260051727295,
          4.969404220581055,
          4.447397232055664,
          4.374086856842041,
          2.657958507537842,
          2.5385780334472656,
          -1.4014616012573242,
          -2.131300687789917,
          5.469973564147949,
          5.598264217376709,
          7.518585681915283,
          -3.563215494155884
         ]
        },
        {
         "marker": {
          "color": "rgb(211, 60, 78)",
          "opacity": 0.7
         },
         "mode": "markers",
         "name": "30-39",
         "text": [
          "'tis the damn season",
          "Castles Crumbling (Taylor's Version) [From The Vault]",
          "Clean (Taylor's Version)",
          "Come In With The Rain",
          "Electric Touch (Taylor's Version) [From The Vault]",
          "Everything Has Changed",
          "Forever & Always",
          "High Infidelity",
          "I Know Places (Taylor's Version)",
          "I Wish You Would (Taylor's Version)",
          "invisible string",
          "Mean (Taylor's Version)",
          "Mr. Perfectly Fine (Taylor's Version) [From The Vault]",
          "no body, no crime",
          "Paris",
          "Safe & Sound",
          "seven",
          "Should've Said No",
          "Speak Now (Taylor's Version)",
          "Sweeter Than Fiction",
          "The Archer",
          "this is me trying",
          "When Emma Falls In Love (Taylor's Version) [From The Vault]",
          "Wonderland (Taylor's Version)"
         ],
         "type": "scatter",
         "visible": "legendonly",
         "x": [
          -10.184420585632324,
          21.909212112426758,
          -2.6889734268188477,
          30.075382232666016,
          0.1399032175540924,
          -15.484509468078613,
          -18.535503387451172,
          -7.24582052230835,
          -5.610220909118652,
          -21.043045043945312,
          24.819561004638672,
          -19.36294174194336,
          -19.474651336669922,
          -9.057117462158203,
          25.076322555541992,
          30.567352294921875,
          31.58961296081543,
          -1.7911005020141602,
          -10.112800598144531,
          -15.651670455932617,
          19.85477066040039,
          26.653982162475586,
          -2.9313273429870605,
          -15.585479736328125
         ],
         "y": [
          -2.1763882637023926,
          1.0848119258880615,
          -4.302833557128906,
          2.352011203765869,
          -0.9970150589942932,
          -2.499561309814453,
          5.409674167633057,
          0.2840941548347473,
          -1.0822288990020752,
          -3.0642714500427246,
          -2.590815544128418,
          7.504329204559326,
          -5.806314468383789,
          -1.7260913848876953,
          -4.005309104919434,
          4.195408344268799,
          2.648989677429199,
          -3.9036812782287598,
          5.216494083404541,
          -3.190730094909668,
          1.646445870399475,
          2.814573287963867,
          -1.5823862552642822,
          -1.194487452507019
         ]
        },
        {
         "marker": {
          "color": "rgb(244, 109, 67)",
          "opacity": 0.7
         },
         "mode": "markers",
         "name": "20-29",
         "text": [
          "22",
          "All You Had To Do Was Stay (Taylor's Version)",
          "august",
          "Better Than Revenge (Taylor's Version)",
          "Bigger Than The Whole Sky",
          "Call It What You Want",
          "champagne problems",
          "Dear John (Taylor's Version)",
          "Fifteen",
          "Highway Don't Care",
          "Hits Different",
          "I Bet You Think About Me (Taylor's Version) [From The Vault]",
          "I Forgot That You Existed",
          "Innocent",
          "mirrorball",
          "New Romantics (Taylor's Version)",
          "Picture To Burn",
          "Red (Taylor's Version)",
          "Shake It Off (Taylor's Version)",
          "Sparks Fly (Taylor's Version)",
          "Superman",
          "SuperStar",
          "The Great War",
          "The Joker And The Queen",
          "The Man",
          "The Other Side Of The Door",
          "Would've, Could've, Should've",
          "You're Losing Me (From The Vault)"
         ],
         "type": "scatter",
         "visible": "legendonly",
         "x": [
          -22.90218734741211,
          -21.490663528442383,
          -6.646457195281982,
          -16.50157356262207,
          23.49321174621582,
          -12.575311660766602,
          26.10431671142578,
          -6.232151508331299,
          -13.058595657348633,
          -16.55098533630371,
          -12.208053588867188,
          -11.733536720275879,
          21.16014289855957,
          25.602588653564453,
          24.053138732910156,
          -12.536909103393555,
          11.664451599121094,
          -23.002920150756836,
          -20.613651275634766,
          14.730608940124512,
          -6.591118335723877,
          11.126459121704102,
          -1.5914578437805176,
          30.65981674194336,
          -18.11229705810547,
          -7.278375625610352,
          -14.593754768371582,
          -12.775078773498535
         ],
         "y": [
          -2.0744597911834717,
          -2.564845323562622,
          0.9432427287101746,
          4.449910640716553,
          2.3441710472106934,
          -2.9208743572235107,
          -2.8130548000335693,
          0.7247424125671387,
          -2.3124663829803467,
          4.629128932952881,
          -3.1798315048217773,
          -2.8979649543762207,
          1.8328853845596313,
          -2.7602601051330566,
          1.836549997329712,
          4.659756660461426,
          1.1218290328979492,
          -3.3616981506347656,
          6.808700084686279,
          2.3228719234466553,
          0.17104318737983704,
          0.35540860891342163,
          -1.166032314300537,
          3.813096761703491,
          -3.372039794921875,
          2.7982280254364014,
          -4.132980823516846,
          -2.514035224914551
         ]
        },
        {
         "marker": {
          "color": "rgb(252, 172, 96)",
          "opacity": 0.7
         },
         "mode": "markers",
         "name": "50-59",
         "text": [
          "22 (Taylor's Version)",
          "Better Man (Taylor's Version) [From The Vault]",
          "Better Than Revenge",
          "Christmas Tree Farm",
          "Cornelia Street",
          "Dear John",
          "epiphany",
          "evermore",
          "happiness",
          "Haunted (Taylor's Version)",
          "I Almost Do (Taylor's Version)",
          "I Think He Knows",
          "Last Kiss (Taylor's Version)",
          "Long Live (Taylor's Version)",
          "Never Grow Up (Taylor's Version)",
          "Only The Young",
          "peace",
          "Treacherous (Taylor's Version)",
          "We Are Never Ever Getting Back Together (Taylor's Version)",
          "Wonderland",
          "You All Over Me (Taylor's Version) [From The Vault]"
         ],
         "type": "scatter",
         "visible": "legendonly",
         "x": [
          -22.73232650756836,
          -11.912443161010742,
          -17.14940071105957,
          -1.0943142175674438,
          -9.232364654541016,
          -6.245270252227783,
          31.363506317138672,
          -1.166163444519043,
          -18.174489974975586,
          15.263792991638184,
          16.920394897460938,
          -10.016702651977539,
          -8.513744354248047,
          -17.169700622558594,
          -17.10504150390625,
          24.39345932006836,
          23.19744873046875,
          11.183298110961914,
          -23.51433753967285,
          -18.748905181884766,
          22.298622131347656
         ],
         "y": [
          -1.4973844289779663,
          3.543126344680786,
          4.786977767944336,
          -2.6224608421325684,
          5.5690789222717285,
          0.5038793683052063,
          4.153451919555664,
          -1.0608479976654053,
          -6.056049346923828,
          2.287611961364746,
          1.4868264198303223,
          -1.9179391860961914,
          4.538280487060547,
          6.175253868103027,
          -2.738313674926758,
          -3.239511251449585,
          -2.5936105251312256,
          0.866585910320282,
          -1.3407847881317139,
          -3.3875210285186768,
          2.740753173828125
         ]
        },
        {
         "marker": {
          "color": "rgb(254, 224, 139)",
          "opacity": 0.7
         },
         "mode": "markers",
         "name": ">100",
         "text": [
          "A Perfectly Good Heart",
          "A Place In This World",
          "All Too Well (10 Minute Version) [Taylor's Version] [From The Vault]",
          "All You Had To Do Was Stay",
          "American Girl",
          "Bad Blood",
          "Bad Blood (Remix)",
          "Beautiful Eyes",
          "Beautiful Ghosts",
          "Birch",
          "Breathe (Taylor's Version)",
          "Bye Bye Baby (Taylor's Version) [From The Vault]",
          "Change (Taylor's Version)",
          "Christmas Must Be Something More",
          "Christmases When You Were Mine",
          "Clean",
          "Cold As You",
          "Come Back...Be Here",
          "Come In With The Rain (Taylor's Version)",
          "Dancing With Our Hands Tied",
          "Don't Blame Me",
          "Don't You (Taylor's Version) [From The Vault]",
          "Dress",
          "Eyes Open (Taylor's Version)",
          "Forever & Always (Piano Version)",
          "Forever & Always (Piano Version) [Taylor's Version]",
          "Gasoline (Remix)",
          "Getaway Car",
          "Girl At Home",
          "Girl At Home (Taylor's Version)",
          "Half Of My Heart",
          "Hey Stephen (Taylor's Version)",
          "Holy Ground",
          "How You Get The Girl",
          "I Did Something Bad",
          "I Heart ?",
          "I Know Places",
          "I Wish You Would",
          "I'm Only Me When I'm With You",
          "I'm Only Me When I'm With You",
          "I'm Only Me When I'm With You",
          "I'm Only Me When I'm With You",
          "If This Was A Movie (Taylor's Version)",
          "Invisible",
          "it's time to go",
          "Jump Then Fall (Taylor's Version)",
          "Karma",
          "King Of My Heart",
          "Last Christmas",
          "Lover (Remix)",
          "Mary's Song (Oh My My My)",
          "New Year's Day",
          "Picture To Burn (Radio Edit)",
          "Red (Original Demo Recording)",
          "right where you left me",
          "Ronan (Taylor's Version)",
          "Sad Beautiful Tragic",
          "Safe & Sound (Taylor's Version)",
          "Santa Baby",
          "September",
          "Should've Said No (Alternate Version)",
          "Silent Night",
          "Snow On The Beach (More Lana Del Rey)",
          "So It Goes...",
          "Starlight",
          "State Of Grace (Acoustic Version)",
          "State Of Grace (Acoustic Version) [Taylor's Version]",
          "Stay Beautiful",
          "SuperStar (Taylor's Version)",
          "Sweet Nothing (Piano Remix)",
          "Sweeter Than Fiction (Taylor's Version)",
          "Teardrops On My Guitar (Acoustic Version)",
          "Teardrops On My Guitar (Pop Version)",
          "Tell Me Why",
          "Tell Me Why (Taylor's Version)",
          "That's When (Taylor's Version) [From The Vault]",
          "The Alcott",
          "The Best Day",
          "The Best Day (Taylor's Version)",
          "the lakes",
          "The Last Time",
          "The Lucky One",
          "The Other Side Of The Door (Taylor's Version)",
          "The Outside",
          "This Is Why We Can't Have Nice Things",
          "This Love",
          "Three Sad Virgins",
          "Tied Together With A Smile",
          "Today Was A Fairytale (Taylor's Version)",
          "Treacherous",
          "Treacherous (Original Demo Recording)",
          "Untouchable (Taylor's Version)",
          "We Were Happy (Taylor's Version) [From The Vault]",
          "White Christmas",
          "White Horse (Taylor's Version)",
          "You're Not Sorry (Taylor's Version)",
          "You're On Your Own, Kid (Strings Remix)"
         ],
         "type": "scatter",
         "visible": "legendonly",
         "x": [
          30.154054641723633,
          28.09855842590332,
          -11.273649215698242,
          -21.02275276184082,
          31.717636108398438,
          -17.957889556884766,
          -11.747336387634277,
          30.9697265625,
          29.268705368041992,
          31.994441986083984,
          -1.407925009727478,
          15.682379722595215,
          11.688911437988281,
          25.593900680541992,
          31.63200569152832,
          -22.593704223632812,
          27.806556701660156,
          22.214805603027344,
          29.44552993774414,
          -20.116613388061523,
          -9.905412673950195,
          28.413246154785156,
          -15.96249771118164,
          22.828603744506836,
          -19.161441802978516,
          -22.95092010498047,
          28.986404418945312,
          -9.537141799926758,
          -14.928204536437988,
          -14.462797164916992,
          22.00764274597168,
          -9.687318801879883,
          23.306272506713867,
          -21.42686653137207,
          -17.26494026184082,
          23.793851852416992,
          -6.227971076965332,
          -20.421043395996094,
          23.298171997070312,
          23.46552085876465,
          23.509563446044922,
          23.055105209350586,
          -18.097997665405273,
          28.999238967895508,
          -0.5875735878944397,
          -6.076079845428467,
          -7.026468753814697,
          -16.434267044067383,
          21.025421142578125,
          17.49254035949707,
          0.9043468832969666,
          -17.417490005493164,
          12.229239463806152,
          14.356858253479004,
          -17.905994415283203,
          24.087390899658203,
          31.77932357788086,
          30.00356101989746,
          31.283449172973633,
          22.721179962158203,
          15.781347274780273,
          32.07789993286133,
          -20.885467529296875,
          -14.954424858093262,
          -7.421724796295166,
          31.7500057220459,
          31.301279067993164,
          28.69001007080078,
          11.175464630126953,
          22.505619049072266,
          -20.365957260131836,
          15.561295509338379,
          14.801855087280273,
          1.019956111907959,
          0.5161663889884949,
          -22.48321533203125,
          -18.636669158935547,
          24.68771743774414,
          25.119537353515625,
          11.434557914733887,
          -20.08568000793457,
          -5.282905578613281,
          -17.708606719970703,
          29.24659538269043,
          -15.093989372253418,
          -22.76312255859375,
          -11.292935371398926,
          24.3787784576416,
          16.607376098632812,
          11.595486640930176,
          11.239465713500977,
          -17.9865779876709,
          28.943073272705078,
          31.502546310424805,
          21.19499397277832,
          -1.6603407859802246,
          26.138980865478516
         ],
         "y": [
          2.7581825256347656,
          2.783153772354126,
          3.950131416320801,
          -2.3350303173065186,
          4.137025833129883,
          8.2101469039917,
          -2.5596201419830322,
          4.430777072906494,
          0.7506446242332458,
          3.2683627605438232,
          -3.747922658920288,
          2.6574866771698,
          1.1438114643096924,
          -2.9408035278320312,
          3.3078951835632324,
          -4.504428386688232,
          3.193206548690796,
          -1.5755254030227661,
          2.585991859436035,
          -3.509181022644043,
          4.94879150390625,
          1.9453102350234985,
          -2.30566143989563,
          2.9588253498077393,
          5.40040397644043,
          -1.392932653427124,
          2.022705316543579,
          4.855848789215088,
          -2.704334020614624,
          -2.2546534538269043,
          3.0965359210968018,
          4.068729877471924,
          1.9281580448150635,
          -5.0656328201293945,
          7.808690071105957,
          -2.7496087551116943,
          0.21265344321727753,
          -2.5980119705200195,
          -2.90458607673645,
          -2.2315893173217773,
          -2.5263290405273438,
          -2.3467700481414795,
          -2.273505210876465,
          2.454501152038574,
          -1.015910029411316,
          -0.41152557730674744,
          -0.04933391138911247,
          5.076572418212891,
          0.8869249224662781,
          1.883094072341919,
          -0.6441506147384644,
          8.883002281188965,
          0.24024753272533417,
          1.4306354522705078,
          -6.244187355041504,
          -2.430297613143921,
          4.280467987060547,
          4.02831506729126,
          3.26230525970459,
          1.9545634984970093,
          2.215946912765503,
          3.7353382110595703,
          -4.488836765289307,
          -3.140972375869751,
          4.155149936676025,
          2.6041133403778076,
          2.435023546218872,
          0.14955343306064606,
          0.193243145942688,
          3.302076816558838,
          -4.76332950592041,
          1.6294782161712646,
          1.5083837509155273,
          -0.9457848072052002,
          -0.7212390303611755,
          -4.892116546630859,
          -6.002727508544922,
          -3.958343982696533,
          -4.250004768371582,
          -0.0760514885187149,
          -5.250545024871826,
          0.20645436644554138,
          6.39866828918457,
          2.9078056812286377,
          -3.3396291732788086,
          -3.557439088821411,
          -2.578204393386841,
          2.221858263015747,
          2.582012891769409,
          0.14262519776821136,
          0.701274037361145,
          8.735547065734863,
          1.520717978477478,
          4.542845249176025,
          1.1745555400848389,
          -4.375856876373291,
          -3.265779495239258
         ]
        },
        {
         "marker": {
          "color": "rgb(254, 254, 190)",
          "opacity": 0.7
         },
         "mode": "markers",
         "name": "70-79",
         "text": [
          "Afterglow",
          "Babe",
          "Begin Again (Taylor's Version)",
          "cowboy like me",
          "Enchanted",
          "False God",
          "Fearless (Taylor's Version)",
          "Forever Winter (Taylor's Version) [From The Vault]",
          "hoax",
          "Holy Ground (Taylor's Version)",
          "Last Kiss",
          "marjorie",
          "Renegade",
          "Superman (Taylor's Version)",
          "The Way I Loved You",
          "You Belong With Me (Taylor's Version)"
         ],
         "type": "scatter",
         "visible": "legendonly",
         "x": [
          -8.616528511047363,
          -1.9415626525878906,
          16.090194702148438,
          22.096750259399414,
          -2.5893707275390625,
          12.168745040893555,
          12.27087688446045,
          25.615325927734375,
          29.88457489013672,
          24.079425811767578,
          -7.897287845611572,
          22.386262893676758,
          -17.447296142578125,
          -7.040724754333496,
          14.657035827636719,
          -16.104360580444336
         ],
         "y": [
          3.7247231006622314,
          -3.5299360752105713,
          3.3753039836883545,
          -1.6899462938308716,
          -3.777780771255493,
          0.5449160933494568,
          0.8881993293762207,
          -3.9497690200805664,
          3.477879285812378,
          1.768983244895935,
          4.538752555847168,
          -1.873401165008545,
          7.479090213775635,
          0.012880071997642517,
          1.885632872581482,
          5.1414475440979
         ]
        },
        {
         "marker": {
          "color": "rgb(230, 245, 152)",
          "opacity": 0.7
         },
         "mode": "markers",
         "name": "10-19",
         "text": [
          "All Of The Girls You Loved Before",
          "Back To December (Taylor's Version)",
          "Blank Space (Taylor's Version)",
          "Both Of Us",
          "Change",
          "Crazier",
          "Delicate",
          "Enchanted (Taylor's Version)",
          "End Game",
          "Eyes Open",
          "Gorgeous",
          "If This Was A Movie",
          "Jump Then Fall",
          "Labyrinth",
          "Love Story (Taylor's Version)",
          "Lover",
          "Mastermind",
          "Mean",
          "Mine (Taylor's Version)",
          "my tears ricochet",
          "Our Song",
          "Ours",
          "Out Of The Woods",
          "Out Of The Woods (Taylor's Version)",
          "Ronan",
          "Sparks Fly",
          "State Of Grace",
          "State Of Grace (Taylor's Version)",
          "Suburban Legends (Taylor's Version) [From The Vault]",
          "Sweet Nothing",
          "Teardrops On My Guitar",
          "the last great american dynasty",
          "Two Is Better Than One",
          "Untouchable",
          "Vigilante Shit",
          "Welcome To New York (Taylor's Version)",
          "White Horse",
          "Wildest Dreams (Taylor's Version)",
          "You're Not Sorry"
         ],
         "type": "scatter",
         "visible": "legendonly",
         "x": [
          0.08535164594650269,
          -19.594900131225586,
          -17.25916862487793,
          -11.559182167053223,
          11.70259952545166,
          30.80991554260254,
          -20.52131462097168,
          -22.337541580200195,
          -17.83687973022461,
          25.61032485961914,
          -20.317611694335938,
          -16.189916610717773,
          -6.2823100090026855,
          20.846435546875,
          -20.012510299682617,
          17.382816314697266,
          0.45713767409324646,
          -19.04756736755371,
          -13.704827308654785,
          25.479949951171875,
          -8.782703399658203,
          11.878618240356445,
          -17.916576385498047,
          -18.40055274963379,
          24.875606536865234,
          13.89568042755127,
          29.611082077026367,
          -0.2381633222103119,
          22.54417610168457,
          22.650989532470703,
          15.272478103637695,
          0.68694669008255,
          23.606792449951172,
          -17.717069625854492,
          28.912324905395508,
          -7.880302906036377,
          21.416351318359375,
          -23.386821746826172,
          -1.4543335437774658
         ],
         "y": [
          -0.9563730955123901,
          -3.291992425918579,
          8.352654457092285,
          -2.878589153289795,
          0.7236842513084412,
          2.5246522426605225,
          7.223804950714111,
          -2.0678694248199463,
          -3.124753952026367,
          2.5264220237731934,
          -5.437410354614258,
          -1.7887171506881714,
          -0.3207795023918152,
          1.994557499885559,
          7.0995683670043945,
          1.8498587608337402,
          -1.318742036819458,
          7.145866870880127,
          4.951194763183594,
          -3.6693131923675537,
          4.952073574066162,
          0.02598724327981472,
          5.199066638946533,
          4.909056186676025,
          -3.1603245735168457,
          1.4991217851638794,
          1.150923728942871,
          -1.8313716650009155,
          1.8095600605010986,
          3.1550636291503906,
          1.783157229423523,
          -1.38202702999115,
          1.8904731273651123,
          8.734382629394531,
          0.3477333188056946,
          3.68930983543396,
          0.7328619360923767,
          -1.8540992736816406,
          -4.255861759185791
         ]
        },
        {
         "marker": {
          "color": "rgb(169, 220, 164)",
          "opacity": 0.7
         },
         "mode": "markers",
         "name": "80-89",
         "text": [
          "All Too Well",
          "Breathe",
          "closure",
          "Come Back...Be Here (Taylor's Version)",
          "Daylight",
          "Fifteen (Taylor's Version)",
          "Long Live",
          "Never Grow Up",
          "Sad Beautiful Tragic (Taylor's Version)",
          "The Lucky One (Taylor's Version)",
          "The Moment I Knew (Taylor's Version)",
          "You Are In Love"
         ],
         "type": "scatter",
         "visible": "legendonly",
         "x": [
          -11.730008125305176,
          16.127307891845703,
          25.335906982421875,
          21.97091293334961,
          -20.11357879638672,
          -12.923630714416504,
          -16.629045486450195,
          -17.120553970336914,
          31.16733741760254,
          -5.284581184387207,
          0.28981155157089233,
          -14.336283683776855
         ],
         "y": [
          4.0969767570495605,
          2.8979735374450684,
          2.5902047157287598,
          -1.5309327840805054,
          -3.3809280395507812,
          -2.3108365535736084,
          6.197024345397949,
          -2.3255510330200195,
          3.740539073944092,
          0.1958129107952118,
          -1.61487877368927,
          -3.119852066040039
         ]
        },
        {
         "marker": {
          "color": "rgb(102, 194, 165)",
          "opacity": 0.7
         },
         "mode": "markers",
         "name": "60-69",
         "text": [
          "Babe (Taylor's Version) [From The Vault]",
          "Carolina",
          "coney island",
          "Death By A Thousand Cuts",
          "dorothea",
          "Everything Has Changed (Taylor's Version)",
          "Forever & Always (Taylor's Version)",
          "Haunted",
          "I Almost Do",
          "Innocent (Taylor's Version)",
          "ivy",
          "London Boy",
          "long story short",
          "Ours (Taylor's Version)",
          "Soon You'll Get Better",
          "Stay Stay Stay (Taylor's Version)",
          "The Last Time (Taylor's Version)",
          "The Moment I Knew",
          "The Very First Night (Taylor's Version) [From The Vault]"
         ],
         "type": "scatter",
         "visible": "legendonly",
         "x": [
          -2.193953037261963,
          29.649560928344727,
          -2.824954032897949,
          -16.873741149902344,
          1.552761435508728,
          -15.278151512145996,
          -19.583667755126953,
          15.198291778564453,
          17.088539123535156,
          25.208539962768555,
          -6.925543308258057,
          -10.670171737670898,
          -8.238109588623047,
          12.242286682128906,
          25.904882431030273,
          -2.276787042617798,
          -19.560815811157227,
          0.08999665826559067,
          12.774812698364258
         ],
         "y": [
          -3.36152982711792,
          1.2892980575561523,
          -1.3248281478881836,
          7.923450469970703,
          -1.097255825996399,
          -2.477820873260498,
          4.701720714569092,
          2.6861793994903564,
          1.6706537008285522,
          -2.896214723587036,
          -0.9357216954231262,
          2.6099631786346436,
          -1.3266702890396118,
          0.16369479894638062,
          1.9323660135269165,
          -4.002911567687988,
          -5.330787181854248,
          -1.3785334825515747,
          0.9032961130142212
         ]
        },
        {
         "marker": {
          "color": "rgb(50, 134, 188)",
          "opacity": 0.7
         },
         "mode": "markers",
         "name": "40-49",
         "text": [
          "betty",
          "Dear Reader",
          "Foolish One (Taylor's Version) [From The Vault]",
          "Glitch",
          "gold rush",
          "How You Get The Girl (Taylor's Version)",
          "I Knew You Were Trouble (Taylor's Version)",
          "illicit affairs",
          "mad woman",
          "Message In A Bottle (Taylor's Version) [From The Vault]",
          "Miss Americana & The Heartbreak Prince",
          "New Romantics",
          "Nothing New (Taylor's Version) [From The Vault]",
          "Paper Rings",
          "Run (Taylor's Version) [From The Vault]",
          "The Story Of Us",
          "The Story Of Us (Taylor's Version)",
          "This Love (Taylor's Version)",
          "Tim McGraw",
          "Timeless (Taylor's Version) [From The Vault]",
          "tolerate it",
          "Welcome To New York",
          "You Are In Love (Taylor's Version)"
         ],
         "type": "scatter",
         "visible": "legendonly",
         "x": [
          -17.94495391845703,
          29.82647132873535,
          -12.615813255310059,
          22.251583099365234,
          13.159259796142578,
          -21.55843162536621,
          -22.385761260986328,
          30.608606338500977,
          25.990076065063477,
          -20.753543853759766,
          -12.42824649810791,
          -11.518728256225586,
          -0.4935852289199829,
          -19.89532470703125,
          -10.442386627197266,
          -10.775629997253418,
          -10.32666301727295,
          -22.219926834106445,
          -7.602462291717529,
          -17.597061157226562,
          25.388607025146484,
          -7.381346225738525,
          -14.327631950378418
         ],
         "y": [
          7.213322162628174,
          1.2515298128128052,
          -0.4962880313396454,
          2.720478057861328,
          1.1394550800323486,
          -5.180677890777588,
          -3.003918409347534,
          3.129295587539673,
          -3.8042328357696533,
          -3.436105489730835,
          4.464880466461182,
          4.697612285614014,
          -1.3025413751602173,
          -4.313207149505615,
          3.2501795291900635,
          4.439328193664551,
          4.450186252593994,
          -4.212654113769531,
          4.160237789154053,
          -5.8639936447143555,
          -3.554994821548462,
          3.497565746307373,
          -3.3887834548950195
         ]
        },
        {
         "marker": {
          "color": "rgb(94, 79, 162)",
          "opacity": 0.7
         },
         "mode": "markers",
         "name": "90-99",
         "text": [
          "Hey Stephen",
          "It's Nice To Have A Friend",
          "Starlight (Taylor's Version)",
          "Stay Stay Stay",
          "The Way I Loved You (Taylor's Version)"
         ],
         "type": "scatter",
         "visible": "legendonly",
         "x": [
          -9.711164474487305,
          32.178897857666016,
          -16.390579223632812,
          -2.0490965843200684,
          14.812491416931152
         ],
         "y": [
          4.181349754333496,
          3.9288923740386963,
          7.142060279846191,
          -4.062830924987793,
          2.5934128761291504
         ]
        }
       ],
       "layout": {
        "hovermode": "closest",
        "legend": {
         "title": {
          "text": "Legend"
         }
        },
        "template": {
         "data": {
          "bar": [
           {
            "error_x": {
             "color": "#2a3f5f"
            },
            "error_y": {
             "color": "#2a3f5f"
            },
            "marker": {
             "line": {
              "color": "#E5ECF6",
              "width": 0.5
             },
             "pattern": {
              "fillmode": "overlay",
              "size": 10,
              "solidity": 0.2
             }
            },
            "type": "bar"
           }
          ],
          "barpolar": [
           {
            "marker": {
             "line": {
              "color": "#E5ECF6",
              "width": 0.5
             },
             "pattern": {
              "fillmode": "overlay",
              "size": 10,
              "solidity": 0.2
             }
            },
            "type": "barpolar"
           }
          ],
          "carpet": [
           {
            "aaxis": {
             "endlinecolor": "#2a3f5f",
             "gridcolor": "white",
             "linecolor": "white",
             "minorgridcolor": "white",
             "startlinecolor": "#2a3f5f"
            },
            "baxis": {
             "endlinecolor": "#2a3f5f",
             "gridcolor": "white",
             "linecolor": "white",
             "minorgridcolor": "white",
             "startlinecolor": "#2a3f5f"
            },
            "type": "carpet"
           }
          ],
          "choropleth": [
           {
            "colorbar": {
             "outlinewidth": 0,
             "ticks": ""
            },
            "type": "choropleth"
           }
          ],
          "contour": [
           {
            "colorbar": {
             "outlinewidth": 0,
             "ticks": ""
            },
            "colorscale": [
             [
              0,
              "#0d0887"
             ],
             [
              0.1111111111111111,
              "#46039f"
             ],
             [
              0.2222222222222222,
              "#7201a8"
             ],
             [
              0.3333333333333333,
              "#9c179e"
             ],
             [
              0.4444444444444444,
              "#bd3786"
             ],
             [
              0.5555555555555556,
              "#d8576b"
             ],
             [
              0.6666666666666666,
              "#ed7953"
             ],
             [
              0.7777777777777778,
              "#fb9f3a"
             ],
             [
              0.8888888888888888,
              "#fdca26"
             ],
             [
              1,
              "#f0f921"
             ]
            ],
            "type": "contour"
           }
          ],
          "contourcarpet": [
           {
            "colorbar": {
             "outlinewidth": 0,
             "ticks": ""
            },
            "type": "contourcarpet"
           }
          ],
          "heatmap": [
           {
            "colorbar": {
             "outlinewidth": 0,
             "ticks": ""
            },
            "colorscale": [
             [
              0,
              "#0d0887"
             ],
             [
              0.1111111111111111,
              "#46039f"
             ],
             [
              0.2222222222222222,
              "#7201a8"
             ],
             [
              0.3333333333333333,
              "#9c179e"
             ],
             [
              0.4444444444444444,
              "#bd3786"
             ],
             [
              0.5555555555555556,
              "#d8576b"
             ],
             [
              0.6666666666666666,
              "#ed7953"
             ],
             [
              0.7777777777777778,
              "#fb9f3a"
             ],
             [
              0.8888888888888888,
              "#fdca26"
             ],
             [
              1,
              "#f0f921"
             ]
            ],
            "type": "heatmap"
           }
          ],
          "heatmapgl": [
           {
            "colorbar": {
             "outlinewidth": 0,
             "ticks": ""
            },
            "colorscale": [
             [
              0,
              "#0d0887"
             ],
             [
              0.1111111111111111,
              "#46039f"
             ],
             [
              0.2222222222222222,
              "#7201a8"
             ],
             [
              0.3333333333333333,
              "#9c179e"
             ],
             [
              0.4444444444444444,
              "#bd3786"
             ],
             [
              0.5555555555555556,
              "#d8576b"
             ],
             [
              0.6666666666666666,
              "#ed7953"
             ],
             [
              0.7777777777777778,
              "#fb9f3a"
             ],
             [
              0.8888888888888888,
              "#fdca26"
             ],
             [
              1,
              "#f0f921"
             ]
            ],
            "type": "heatmapgl"
           }
          ],
          "histogram": [
           {
            "marker": {
             "pattern": {
              "fillmode": "overlay",
              "size": 10,
              "solidity": 0.2
             }
            },
            "type": "histogram"
           }
          ],
          "histogram2d": [
           {
            "colorbar": {
             "outlinewidth": 0,
             "ticks": ""
            },
            "colorscale": [
             [
              0,
              "#0d0887"
             ],
             [
              0.1111111111111111,
              "#46039f"
             ],
             [
              0.2222222222222222,
              "#7201a8"
             ],
             [
              0.3333333333333333,
              "#9c179e"
             ],
             [
              0.4444444444444444,
              "#bd3786"
             ],
             [
              0.5555555555555556,
              "#d8576b"
             ],
             [
              0.6666666666666666,
              "#ed7953"
             ],
             [
              0.7777777777777778,
              "#fb9f3a"
             ],
             [
              0.8888888888888888,
              "#fdca26"
             ],
             [
              1,
              "#f0f921"
             ]
            ],
            "type": "histogram2d"
           }
          ],
          "histogram2dcontour": [
           {
            "colorbar": {
             "outlinewidth": 0,
             "ticks": ""
            },
            "colorscale": [
             [
              0,
              "#0d0887"
             ],
             [
              0.1111111111111111,
              "#46039f"
             ],
             [
              0.2222222222222222,
              "#7201a8"
             ],
             [
              0.3333333333333333,
              "#9c179e"
             ],
             [
              0.4444444444444444,
              "#bd3786"
             ],
             [
              0.5555555555555556,
              "#d8576b"
             ],
             [
              0.6666666666666666,
              "#ed7953"
             ],
             [
              0.7777777777777778,
              "#fb9f3a"
             ],
             [
              0.8888888888888888,
              "#fdca26"
             ],
             [
              1,
              "#f0f921"
             ]
            ],
            "type": "histogram2dcontour"
           }
          ],
          "mesh3d": [
           {
            "colorbar": {
             "outlinewidth": 0,
             "ticks": ""
            },
            "type": "mesh3d"
           }
          ],
          "parcoords": [
           {
            "line": {
             "colorbar": {
              "outlinewidth": 0,
              "ticks": ""
             }
            },
            "type": "parcoords"
           }
          ],
          "pie": [
           {
            "automargin": true,
            "type": "pie"
           }
          ],
          "scatter": [
           {
            "fillpattern": {
             "fillmode": "overlay",
             "size": 10,
             "solidity": 0.2
            },
            "type": "scatter"
           }
          ],
          "scatter3d": [
           {
            "line": {
             "colorbar": {
              "outlinewidth": 0,
              "ticks": ""
             }
            },
            "marker": {
             "colorbar": {
              "outlinewidth": 0,
              "ticks": ""
             }
            },
            "type": "scatter3d"
           }
          ],
          "scattercarpet": [
           {
            "marker": {
             "colorbar": {
              "outlinewidth": 0,
              "ticks": ""
             }
            },
            "type": "scattercarpet"
           }
          ],
          "scattergeo": [
           {
            "marker": {
             "colorbar": {
              "outlinewidth": 0,
              "ticks": ""
             }
            },
            "type": "scattergeo"
           }
          ],
          "scattergl": [
           {
            "marker": {
             "colorbar": {
              "outlinewidth": 0,
              "ticks": ""
             }
            },
            "type": "scattergl"
           }
          ],
          "scattermapbox": [
           {
            "marker": {
             "colorbar": {
              "outlinewidth": 0,
              "ticks": ""
             }
            },
            "type": "scattermapbox"
           }
          ],
          "scatterpolar": [
           {
            "marker": {
             "colorbar": {
              "outlinewidth": 0,
              "ticks": ""
             }
            },
            "type": "scatterpolar"
           }
          ],
          "scatterpolargl": [
           {
            "marker": {
             "colorbar": {
              "outlinewidth": 0,
              "ticks": ""
             }
            },
            "type": "scatterpolargl"
           }
          ],
          "scatterternary": [
           {
            "marker": {
             "colorbar": {
              "outlinewidth": 0,
              "ticks": ""
             }
            },
            "type": "scatterternary"
           }
          ],
          "surface": [
           {
            "colorbar": {
             "outlinewidth": 0,
             "ticks": ""
            },
            "colorscale": [
             [
              0,
              "#0d0887"
             ],
             [
              0.1111111111111111,
              "#46039f"
             ],
             [
              0.2222222222222222,
              "#7201a8"
             ],
             [
              0.3333333333333333,
              "#9c179e"
             ],
             [
              0.4444444444444444,
              "#bd3786"
             ],
             [
              0.5555555555555556,
              "#d8576b"
             ],
             [
              0.6666666666666666,
              "#ed7953"
             ],
             [
              0.7777777777777778,
              "#fb9f3a"
             ],
             [
              0.8888888888888888,
              "#fdca26"
             ],
             [
              1,
              "#f0f921"
             ]
            ],
            "type": "surface"
           }
          ],
          "table": [
           {
            "cells": {
             "fill": {
              "color": "#EBF0F8"
             },
             "line": {
              "color": "white"
             }
            },
            "header": {
             "fill": {
              "color": "#C8D4E3"
             },
             "line": {
              "color": "white"
             }
            },
            "type": "table"
           }
          ]
         },
         "layout": {
          "annotationdefaults": {
           "arrowcolor": "#2a3f5f",
           "arrowhead": 0,
           "arrowwidth": 1
          },
          "autotypenumbers": "strict",
          "coloraxis": {
           "colorbar": {
            "outlinewidth": 0,
            "ticks": ""
           }
          },
          "colorscale": {
           "diverging": [
            [
             0,
             "#8e0152"
            ],
            [
             0.1,
             "#c51b7d"
            ],
            [
             0.2,
             "#de77ae"
            ],
            [
             0.3,
             "#f1b6da"
            ],
            [
             0.4,
             "#fde0ef"
            ],
            [
             0.5,
             "#f7f7f7"
            ],
            [
             0.6,
             "#e6f5d0"
            ],
            [
             0.7,
             "#b8e186"
            ],
            [
             0.8,
             "#7fbc41"
            ],
            [
             0.9,
             "#4d9221"
            ],
            [
             1,
             "#276419"
            ]
           ],
           "sequential": [
            [
             0,
             "#0d0887"
            ],
            [
             0.1111111111111111,
             "#46039f"
            ],
            [
             0.2222222222222222,
             "#7201a8"
            ],
            [
             0.3333333333333333,
             "#9c179e"
            ],
            [
             0.4444444444444444,
             "#bd3786"
            ],
            [
             0.5555555555555556,
             "#d8576b"
            ],
            [
             0.6666666666666666,
             "#ed7953"
            ],
            [
             0.7777777777777778,
             "#fb9f3a"
            ],
            [
             0.8888888888888888,
             "#fdca26"
            ],
            [
             1,
             "#f0f921"
            ]
           ],
           "sequentialminus": [
            [
             0,
             "#0d0887"
            ],
            [
             0.1111111111111111,
             "#46039f"
            ],
            [
             0.2222222222222222,
             "#7201a8"
            ],
            [
             0.3333333333333333,
             "#9c179e"
            ],
            [
             0.4444444444444444,
             "#bd3786"
            ],
            [
             0.5555555555555556,
             "#d8576b"
            ],
            [
             0.6666666666666666,
             "#ed7953"
            ],
            [
             0.7777777777777778,
             "#fb9f3a"
            ],
            [
             0.8888888888888888,
             "#fdca26"
            ],
            [
             1,
             "#f0f921"
            ]
           ]
          },
          "colorway": [
           "#636efa",
           "#EF553B",
           "#00cc96",
           "#ab63fa",
           "#FFA15A",
           "#19d3f3",
           "#FF6692",
           "#B6E880",
           "#FF97FF",
           "#FECB52"
          ],
          "font": {
           "color": "#2a3f5f"
          },
          "geo": {
           "bgcolor": "white",
           "lakecolor": "white",
           "landcolor": "#E5ECF6",
           "showlakes": true,
           "showland": true,
           "subunitcolor": "white"
          },
          "hoverlabel": {
           "align": "left"
          },
          "hovermode": "closest",
          "mapbox": {
           "style": "light"
          },
          "paper_bgcolor": "white",
          "plot_bgcolor": "#E5ECF6",
          "polar": {
           "angularaxis": {
            "gridcolor": "white",
            "linecolor": "white",
            "ticks": ""
           },
           "bgcolor": "#E5ECF6",
           "radialaxis": {
            "gridcolor": "white",
            "linecolor": "white",
            "ticks": ""
           }
          },
          "scene": {
           "xaxis": {
            "backgroundcolor": "#E5ECF6",
            "gridcolor": "white",
            "gridwidth": 2,
            "linecolor": "white",
            "showbackground": true,
            "ticks": "",
            "zerolinecolor": "white"
           },
           "yaxis": {
            "backgroundcolor": "#E5ECF6",
            "gridcolor": "white",
            "gridwidth": 2,
            "linecolor": "white",
            "showbackground": true,
            "ticks": "",
            "zerolinecolor": "white"
           },
           "zaxis": {
            "backgroundcolor": "#E5ECF6",
            "gridcolor": "white",
            "gridwidth": 2,
            "linecolor": "white",
            "showbackground": true,
            "ticks": "",
            "zerolinecolor": "white"
           }
          },
          "shapedefaults": {
           "line": {
            "color": "#2a3f5f"
           }
          },
          "ternary": {
           "aaxis": {
            "gridcolor": "white",
            "linecolor": "white",
            "ticks": ""
           },
           "baxis": {
            "gridcolor": "white",
            "linecolor": "white",
            "ticks": ""
           },
           "bgcolor": "#E5ECF6",
           "caxis": {
            "gridcolor": "white",
            "linecolor": "white",
            "ticks": ""
           }
          },
          "title": {
           "x": 0.05
          },
          "xaxis": {
           "automargin": true,
           "gridcolor": "white",
           "linecolor": "white",
           "ticks": "",
           "title": {
            "standoff": 15
           },
           "zerolinecolor": "white",
           "zerolinewidth": 2
          },
          "yaxis": {
           "automargin": true,
           "gridcolor": "white",
           "linecolor": "white",
           "ticks": "",
           "title": {
            "standoff": 15
           },
           "zerolinecolor": "white",
           "zerolinewidth": 2
          }
         }
        },
        "title": {
         "text": "Interactive Plot of Song Embeddings"
        },
        "xaxis": {
         "title": {
          "text": "TSNE 1"
         }
        },
        "yaxis": {
         "title": {
          "text": "TSNE 2"
         }
        }
       }
      }
     },
     "metadata": {},
     "output_type": "display_data"
    }
   ],
   "source": [
    "# Reducing with TSNE down to two dimensions to see if we can visually assess any separation?\n",
    "tsne = TSNE(n_components=2, random_state=256)\n",
    "embeddings_tsne_2d = tsne.fit_transform(reduced_UMAP)\n",
    "\n",
    "plot_embeddings_interactive(embeddings_tsne_2d)"
   ]
  },
  {
   "cell_type": "code",
   "execution_count": 45,
   "metadata": {},
   "outputs": [],
   "source": [
    "k = 15\n",
    "kmeans = KMeans(n_clusters=k, random_state=256, n_init=10).fit(embeddings)\n",
    "lyrics['cluster_assignment'] = kmeans.labels_"
   ]
  },
  {
   "cell_type": "code",
   "execution_count": 51,
   "metadata": {},
   "outputs": [
    {
     "name": "stdout",
     "output_type": "stream",
     "text": [
      "Cluster 0: 41 members (12.54%)\n",
      "Cluster 1: 26 members (7.95%)\n",
      "Cluster 2: 9 members (2.75%)\n",
      "Cluster 3: 26 members (7.95%)\n",
      "Cluster 4: 5 members (1.53%)\n",
      "Cluster 5: 28 members (8.56%)\n",
      "Cluster 6: 21 members (6.42%)\n",
      "Cluster 7: 20 members (6.12%)\n",
      "Cluster 8: 34 members (10.40%)\n",
      "Cluster 9: 24 members (7.34%)\n",
      "Cluster 10: 31 members (9.48%)\n",
      "Cluster 11: 9 members (2.75%)\n",
      "Cluster 12: 20 members (6.12%)\n",
      "Cluster 13: 7 members (2.14%)\n",
      "Cluster 14: 26 members (7.95%)\n"
     ]
    },
    {
     "data": {
      "image/png": "[encoded data removed]",
      "text/plain": [
       "<Figure size 1000x600 with 1 Axes>"
      ]
     },
     "metadata": {},
     "output_type": "display_data"
    }
   ],
   "source": [
    "cluster_sizes = Counter(lyrics['cluster_assignment'])\n",
    "\n",
    "sorted_cluster_sizes = dict(sorted(cluster_sizes.items()))\n",
    "\n",
    "total_items = sum(sorted_cluster_sizes.values())\n",
    "for label, size in sorted_cluster_sizes.items():\n",
    "    percentage = (size / total_items) * 100\n",
    "    print(f\"Cluster {label}: {size} members ({percentage:.2f}%)\")\n",
    "\n",
    "labels, sizes = zip(*sorted(cluster_sizes.items()))\n",
    "\n",
    "plt.figure(figsize=(10, 6))\n",
    "plt.bar(labels, sizes, color='skyblue')\n",
    "plt.title('Distribution of Cluster Sizes')\n",
    "plt.xlabel('Cluster Number')\n",
    "plt.ylabel('Size')\n",
    "plt.xticks(labels)\n",
    "plt.show()"
   ]
  },
  {
   "cell_type": "code",
   "execution_count": 14,
   "metadata": {},
   "outputs": [
    {
     "data": {
      "image/png": "[encoded data removed]",
      "text/plain": [
       "<Figure size 1200x600 with 1 Axes>"
      ]
     },
     "metadata": {},
     "output_type": "display_data"
    },
    {
     "name": "stderr",
     "output_type": "stream",
     "text": [
      "/var/folders/fs/v9vqgp9d5zb2fzzy63_b2gcr0000gn/T/ipykernel_11983/1566498833.py:19: SettingWithCopyWarning:\n",
      "\n",
      "\n",
      "A value is trying to be set on a copy of a slice from a DataFrame.\n",
      "Try using .loc[row_indexer,col_indexer] = value instead\n",
      "\n",
      "See the caveats in the documentation: https://pandas.pydata.org/pandas-docs/stable/user_guide/indexing.html#returning-a-view-versus-a-copy\n",
      "\n"
     ]
    },
    {
     "data": {
      "image/png": "[encoded data removed]",
      "text/plain": [
       "<Figure size 1200x600 with 1 Axes>"
      ]
     },
     "metadata": {},
     "output_type": "display_data"
    }
   ],
   "source": [
    "c = 5\n",
    "clusters = lyrics[lyrics[\"cluster_assignment\"] == c]\n",
    "\n",
    "# Plotting the distribution for 'album_name'\n",
    "plt.figure(figsize=(12, 6))\n",
    "album_name_counts = clusters['album_name'].value_counts()\n",
    "plt.bar(album_name_counts.index, album_name_counts.values)\n",
    "plt.xlabel('Album Name')\n",
    "plt.ylabel('Frequency')\n",
    "plt.title('Distribution of Album Names in Cluster')\n",
    "plt.xticks(rotation=45)\n",
    "plt.tight_layout()\n",
    "plt.show()\n",
    "\n",
    "# Plotting the distribution for 'peak_pos'\n",
    "plt.figure(figsize=(12, 6))\n",
    "\n",
    "# Handling NaN values by categorizing them as >100\n",
    "clusters['peak_pos_bucketed'] = clusters['peak_pos'].apply(lambda x: '>100' if pd.isna(x) else str(int(x//10)*10) + '-' + str(int(x//10)*10 + 9))\n",
    "\n",
    "# Counting values in each bucket including the '>100' category\n",
    "peak_pos_counts = clusters['peak_pos_bucketed'].value_counts().sort_index()\n",
    "\n",
    "plt.bar(peak_pos_counts.index, peak_pos_counts.values)\n",
    "plt.xlabel('Peak Position Bucket')\n",
    "plt.ylabel('Frequency')\n",
    "plt.title('Distribution of Peak Positions in Cluster')\n",
    "plt.xticks(rotation=45)\n",
    "plt.tight_layout()\n",
    "plt.show()"
   ]
  },
  {
   "cell_type": "code",
   "execution_count": 17,
   "metadata": {},
   "outputs": [],
   "source": [
    "# Convert latent embedding to something that is readable when we load the csv\n",
    "#lyrics['latent_embedding'] = lyrics['latent_embedding'].apply(lambda x: [t.item() for t in x[0]])\n",
    "# No need to run the above line again unless you re-encode the songs\n",
    "\n",
    "\n",
    "lyrics.to_csv(\"../data/lyrics.csv\", index=False)"
   ]
  }
 ],
 "metadata": {
  "kernelspec": {
   "display_name": "Python 3",
   "language": "python",
   "name": "python3"
  },
  "language_info": {
   "codemirror_mode": {
    "name": "ipython",
    "version": 3
   },
   "file_extension": ".py",
   "mimetype": "text/x-python",
   "name": "python",
   "nbconvert_exporter": "python",
   "pygments_lexer": "ipython3",
   "version": "3.10.2"
  }
 },
 "nbformat": 4,
 "nbformat_minor": 2
}
