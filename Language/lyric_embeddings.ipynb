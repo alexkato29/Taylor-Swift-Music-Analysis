{
 "cells": [
  {
   "cell_type": "code",
   "execution_count": 1,
   "metadata": {},
   "outputs": [
    {
     "name": "stderr",
     "output_type": "stream",
     "text": [
      "2024-04-02 13:24:27.695232: I tensorflow/core/platform/cpu_feature_guard.cc:182] This TensorFlow binary is optimized to use available CPU instructions in performance-critical operations.\n",
      "To enable the following instructions: AVX2 FMA, in other operations, rebuild TensorFlow with the appropriate compiler flags.\n"
     ]
    }
   ],
   "source": [
    "import ast\n",
    "import numpy as np\n",
    "import pandas as pd\n",
    "from collections import Counter\n",
    "\n",
    "import matplotlib.pyplot as plt\n",
    "import plotly.graph_objects as go\n",
    "\n",
    "import torch\n",
    "\n",
    "from transformers import AutoTokenizer, AutoModelWithLMHead\n",
    "\n",
    "from sklearn.cluster import KMeans\n",
    "\n",
    "import umap\n",
    "from sklearn.manifold import TSNE"
   ]
  },
  {
   "cell_type": "code",
   "execution_count": 2,
   "metadata": {},
   "outputs": [
    {
     "data": {
      "text/plain": [
       "'lyrics = pd.read_csv(\"../data/full.csv\")\\n\\nto_keep = [\"track_name\", \"peak_pos\", \"album_name\", \"lyrics\"]\\n\\nlyrics = lyrics[to_keep]\\nlyrics[\\'peak_pos_bucketed\\'] = lyrics[\\'peak_pos\\'].apply(lambda x: \\'>100\\' if pd.isna(x) else str(int(x//10)*10) + \\'-\\' + str(int(x//10)*10 + 9))\\n\\n\\n# This is GPT2 pretrained on Taylor Swift lyrics\\ntokenizer = AutoTokenizer.from_pretrained(\"huggingartists/taylor-swift\")\\nmodel = AutoModelWithLMHead.from_pretrained(\"huggingartists/taylor-swift\")\\n\\n# This tokenizer doesn\\'t have a padding token by default...\\ntokenizer.pad_token = tokenizer.eos_token\\n\\ndef encode_text(text):\\n    inputs = tokenizer(text, return_tensors=\\'pt\\', max_length=512, truncation=True, padding=\\'max_length\\')\\n    \\n    with torch.no_grad(): \\n        outputs = model(**inputs, output_hidden_states=True)\\n\\n    embeddings = outputs.hidden_states[-1].mean(dim=1)\\n    return embeddings\\n\\n\\n# https://huggingface.co/huggingartists/taylor-swift\\n# lyrics[\\'latent_embedding\\'] = lyrics[\\'lyrics\\'].apply(lambda x: encode_text(x))'"
      ]
     },
     "execution_count": 2,
     "metadata": {},
     "output_type": "execute_result"
    }
   ],
   "source": [
    "\"\"\"lyrics = pd.read_csv(\"../data/full.csv\")\n",
    "\n",
    "to_keep = [\"track_name\", \"peak_pos\", \"album_name\", \"lyrics\"]\n",
    "\n",
    "lyrics = lyrics[to_keep]\n",
    "lyrics['peak_pos_bucketed'] = lyrics['peak_pos'].apply(lambda x: '>100' if pd.isna(x) else str(int(x//10)*10) + '-' + str(int(x//10)*10 + 9))\n",
    "\n",
    "\n",
    "# This is GPT2 pretrained on Taylor Swift lyrics\n",
    "tokenizer = AutoTokenizer.from_pretrained(\"huggingartists/taylor-swift\")\n",
    "model = AutoModelWithLMHead.from_pretrained(\"huggingartists/taylor-swift\")\n",
    "\n",
    "# This tokenizer doesn't have a padding token by default...\n",
    "tokenizer.pad_token = tokenizer.eos_token\n",
    "\n",
    "def encode_text(text):\n",
    "    inputs = tokenizer(text, return_tensors='pt', max_length=512, truncation=True, padding='max_length')\n",
    "    \n",
    "    with torch.no_grad(): \n",
    "        outputs = model(**inputs, output_hidden_states=True)\n",
    "\n",
    "    embeddings = outputs.hidden_states[-1].mean(dim=1)\n",
    "    return embeddings\n",
    "\n",
    "\n",
    "# https://huggingface.co/huggingartists/taylor-swift\n",
    "# lyrics['latent_embedding'] = lyrics['lyrics'].apply(lambda x: encode_text(x))\"\"\""
   ]
  },
  {
   "cell_type": "code",
   "execution_count": 3,
   "metadata": {},
   "outputs": [
    {
     "name": "stdout",
     "output_type": "stream",
     "text": [
      "track_name             object\n",
      "peak_pos              float64\n",
      "album_name             object\n",
      "lyrics                 object\n",
      "peak_pos_bucketed      object\n",
      "latent_embedding       object\n",
      "cluster_assignment      int64\n",
      "dtype: object\n"
     ]
    },
    {
     "data": {
      "text/html": [
       "<div>\n",
       "<style scoped>\n",
       "    .dataframe tbody tr th:only-of-type {\n",
       "        vertical-align: middle;\n",
       "    }\n",
       "\n",
       "    .dataframe tbody tr th {\n",
       "        vertical-align: top;\n",
       "    }\n",
       "\n",
       "    .dataframe thead th {\n",
       "        text-align: right;\n",
       "    }\n",
       "</style>\n",
       "<table border=\"1\" class=\"dataframe\">\n",
       "  <thead>\n",
       "    <tr style=\"text-align: right;\">\n",
       "      <th></th>\n",
       "      <th>track_name</th>\n",
       "      <th>peak_pos</th>\n",
       "      <th>album_name</th>\n",
       "      <th>lyrics</th>\n",
       "      <th>peak_pos_bucketed</th>\n",
       "      <th>latent_embedding</th>\n",
       "      <th>cluster_assignment</th>\n",
       "    </tr>\n",
       "  </thead>\n",
       "  <tbody>\n",
       "    <tr>\n",
       "      <th>0</th>\n",
       "      <td>...Ready For It?</td>\n",
       "      <td>4.0</td>\n",
       "      <td>reputation</td>\n",
       "      <td>knew he was a killer first time that i saw him...</td>\n",
       "      <td>0-9</td>\n",
       "      <td>[tensor(-0.0335), tensor(0.6539), tensor(0.216...</td>\n",
       "      <td>6</td>\n",
       "    </tr>\n",
       "    <tr>\n",
       "      <th>1</th>\n",
       "      <td>'tis the damn season</td>\n",
       "      <td>39.0</td>\n",
       "      <td>evermore</td>\n",
       "      <td>if i wanted to know who you were hanging with ...</td>\n",
       "      <td>30-39</td>\n",
       "      <td>[tensor(0.1974), tensor(0.4486), tensor(-0.253...</td>\n",
       "      <td>4</td>\n",
       "    </tr>\n",
       "    <tr>\n",
       "      <th>2</th>\n",
       "      <td>\"Slut!\" (Taylor's Version) [From The Vault]</td>\n",
       "      <td>3.0</td>\n",
       "      <td>1989 (Taylor's Version)</td>\n",
       "      <td>flamingo pink, sunrise boulevard clink, clink,...</td>\n",
       "      <td>0-9</td>\n",
       "      <td>[tensor(-0.0312), tensor(0.5336), tensor(0.154...</td>\n",
       "      <td>0</td>\n",
       "    </tr>\n",
       "    <tr>\n",
       "      <th>3</th>\n",
       "      <td>22</td>\n",
       "      <td>20.0</td>\n",
       "      <td>Red</td>\n",
       "      <td>it feels like a perfect night to dress up like...</td>\n",
       "      <td>20-29</td>\n",
       "      <td>[tensor(0.2236), tensor(0.6578), tensor(-0.195...</td>\n",
       "      <td>1</td>\n",
       "    </tr>\n",
       "    <tr>\n",
       "      <th>4</th>\n",
       "      <td>22 (Taylor's Version)</td>\n",
       "      <td>52.0</td>\n",
       "      <td>Red (Taylor's Version)</td>\n",
       "      <td>it feels like a perfect night to dress up like...</td>\n",
       "      <td>50-59</td>\n",
       "      <td>[tensor(0.2230), tensor(0.7470), tensor(-0.246...</td>\n",
       "      <td>1</td>\n",
       "    </tr>\n",
       "  </tbody>\n",
       "</table>\n",
       "</div>"
      ],
      "text/plain": [
       "                                    track_name  peak_pos  \\\n",
       "0                             ...Ready For It?       4.0   \n",
       "1                         'tis the damn season      39.0   \n",
       "2  \"Slut!\" (Taylor's Version) [From The Vault]       3.0   \n",
       "3                                           22      20.0   \n",
       "4                        22 (Taylor's Version)      52.0   \n",
       "\n",
       "                album_name                                             lyrics  \\\n",
       "0               reputation  knew he was a killer first time that i saw him...   \n",
       "1                 evermore  if i wanted to know who you were hanging with ...   \n",
       "2  1989 (Taylor's Version)  flamingo pink, sunrise boulevard clink, clink,...   \n",
       "3                      Red  it feels like a perfect night to dress up like...   \n",
       "4   Red (Taylor's Version)  it feels like a perfect night to dress up like...   \n",
       "\n",
       "  peak_pos_bucketed                                   latent_embedding  \\\n",
       "0               0-9  [tensor(-0.0335), tensor(0.6539), tensor(0.216...   \n",
       "1             30-39  [tensor(0.1974), tensor(0.4486), tensor(-0.253...   \n",
       "2               0-9  [tensor(-0.0312), tensor(0.5336), tensor(0.154...   \n",
       "3             20-29  [tensor(0.2236), tensor(0.6578), tensor(-0.195...   \n",
       "4             50-59  [tensor(0.2230), tensor(0.7470), tensor(-0.246...   \n",
       "\n",
       "   cluster_assignment  \n",
       "0                   6  \n",
       "1                   4  \n",
       "2                   0  \n",
       "3                   1  \n",
       "4                   1  "
      ]
     },
     "execution_count": 3,
     "metadata": {},
     "output_type": "execute_result"
    }
   ],
   "source": [
    "# This assumes you have latent embeddings and a valid lyrics.csv. If not, run the chunk above.\n",
    "lyrics = pd.read_csv(\"../data/lyrics.csv\")\n",
    "lyrics['latent_embedding'] = lyrics['latent_embedding'].apply(lambda x: torch.tensor(ast.literal_eval(x)))\n",
    "print(lyrics.dtypes)\n",
    "lyrics.head()"
   ]
  },
  {
   "cell_type": "code",
   "execution_count": 4,
   "metadata": {},
   "outputs": [],
   "source": [
    "def plot_embeddings_interactive(embeddings, target_album=None, target_bucket=None):\n",
    "    \"\"\"\n",
    "    This is a function so we can see if there are patterns among different buckets of billboard scores.\n",
    "    It's a bit dizzying to look at everything overlaid...\n",
    "\n",
    "    This plot is interactive to make encoding EDA not as painful\n",
    "    \"\"\"\n",
    "    unique_albums = lyrics['album_name'].unique()\n",
    "    album_colors = plt.cm.rainbow(np.linspace(0, 1, len(unique_albums)))\n",
    "    album_color_map = {album: f'rgb({int(col[0]*255)}, {int(col[1]*255)}, {int(col[2]*255)})' for album, col in zip(unique_albums, album_colors)}\n",
    "\n",
    "    unique_buckets = lyrics['peak_pos_bucketed'].unique()\n",
    "    peak_pos_colors = plt.cm.Spectral(np.linspace(0, 1, len(unique_buckets)))\n",
    "    peak_pos_color_map = {bucket: f'rgb({int(col[0]*255)}, {int(col[1]*255)}, {int(col[2]*255)})' for bucket, col in zip(unique_buckets, peak_pos_colors)}\n",
    "\n",
    "    fig = go.Figure()\n",
    "\n",
    "    # Ensuring embeddings_2d is a NumPy array for indexing\n",
    "    embeddings_2d_np = np.array(embeddings)\n",
    "\n",
    "    # Add traces for album names\n",
    "    for album in unique_albums:\n",
    "        if target_album is not None and target_album != album:\n",
    "            continue\n",
    "        idx = lyrics['album_name'] == album\n",
    "        selected_embeddings = embeddings_2d_np[idx]\n",
    "        fig.add_trace(go.Scatter(x=selected_embeddings[:, 0], y=selected_embeddings[:, 1],\n",
    "                                 mode='markers', marker=dict(color=album_color_map[album], opacity=0.7 if target_album is None or target_album == album else 0.2),\n",
    "                                 name=album, text=lyrics[idx]['track_name']))\n",
    "\n",
    "    # Add traces for peak position buckets, set to be initially hidden (visible on legend click)\n",
    "    for bucket in unique_buckets:\n",
    "        if target_bucket is not None and target_bucket != bucket:\n",
    "            continue\n",
    "        idx = lyrics['peak_pos_bucketed'] == bucket\n",
    "        selected_embeddings = embeddings_2d_np[idx]\n",
    "        fig.add_trace(go.Scatter(x=selected_embeddings[:, 0], y=selected_embeddings[:, 1],\n",
    "                                 mode='markers', marker=dict(color=peak_pos_color_map[bucket], opacity=0.7 if target_bucket is None or target_bucket == bucket else 0.2),\n",
    "                                 name=bucket, text=lyrics[idx]['track_name'],\n",
    "                                 visible='legendonly'))\n",
    "\n",
    "    fig.update_layout(title='Interactive Plot of Song Embeddings',\n",
    "                      xaxis_title='TSNE 1',\n",
    "                      yaxis_title='TSNE 2',\n",
    "                      legend_title_text='Legend',\n",
    "                      hovermode='closest')\n",
    "\n",
    "    fig.show()"
   ]
  },
  {
   "cell_type": "code",
   "execution_count": 5,
   "metadata": {},
   "outputs": [
    {
     "name": "stderr",
     "output_type": "stream",
     "text": [
      "/Library/Frameworks/Python.framework/Versions/3.10/lib/python3.10/site-packages/umap/umap_.py:1943: UserWarning: n_jobs value -1 overridden to 1 by setting random_state. Use no seed for parallelism.\n",
      "  warn(f\"n_jobs value {self.n_jobs} overridden to 1 by setting random_state. Use no seed for parallelism.\")\n"
     ]
    },
    {
     "data": {
      "image/png": "[encoded data removed]",
      "text/plain": [
       "<Figure size 1000x600 with 1 Axes>"
      ]
     },
     "metadata": {},
     "output_type": "display_data"
    }
   ],
   "source": [
    "embeddings = np.array([embedding.flatten() for embedding in lyrics['latent_embedding']])\n",
    "\n",
    "# Number of components is arbitrary for now\n",
    "ndims = 40\n",
    "umap_reducer = umap.UMAP(n_components=ndims, random_state=256)\n",
    "reduced_UMAP = umap_reducer.fit_transform(embeddings)\n",
    "\n",
    "k_values = range(5, 45) \n",
    "wcss = []\n",
    "\n",
    "for k in k_values:\n",
    "    kmeans = KMeans(n_clusters=k, random_state=256, n_init=10)\n",
    "    kmeans.fit(reduced_UMAP)\n",
    "    wcss.append(kmeans.inertia_)\n",
    "\n",
    "# Plotting the results\n",
    "plt.figure(figsize=(10, 6))\n",
    "plt.plot(k_values, wcss, '-o', color='black')\n",
    "plt.title('The Elbow Method')\n",
    "plt.xlabel('Number of clusters (k)')\n",
    "plt.ylabel('WCSS')\n",
    "plt.xticks(k_values)\n",
    "plt.grid(True)\n",
    "plt.show()"
   ]
  },
  {
   "cell_type": "code",
   "execution_count": 6,
   "metadata": {},
   "outputs": [
    {
     "data": {
      "application/vnd.plotly.v1+json": {
       "config": {
        "plotlyServerURL": "https://plot.ly"
       },
       "data": [
        {
         "marker": {
          "color": "rgb(127, 0, 255)",
          "opacity": 0.7
         },
         "mode": "markers",
         "name": "reputation",
         "text": [
          "...Ready For It?",
          "Call It What You Want",
          "Dancing With Our Hands Tied",
          "Delicate",
          "Don't Blame Me",
          "Dress",
          "End Game",
          "Getaway Car",
          "Gorgeous",
          "I Did Something Bad",
          "King Of My Heart",
          "Look What You Made Me Do",
          "New Year's Day",
          "So It Goes...",
          "This Is Why We Can't Have Nice Things"
         ],
         "type": "scatter",
         "x": [
          -15.693038940429688,
          -14.298378944396973,
          -21.378084182739258,
          -20.60722541809082,
          -11.063630104064941,
          -17.207365036010742,
          -19.042888641357422,
          -10.47227954864502,
          -21.802902221679688,
          -17.340667724609375,
          -16.86097526550293,
          -19.011808395385742,
          -17.304603576660156,
          -16.469497680664062,
          -16.861242294311523
         ],
         "y": [
          -3.4662246704101562,
          4.518928050994873,
          4.160506725311279,
          -7.245440483093262,
          -2.2514400482177734,
          3.691118001937866,
          3.9180057048797607,
          -2.0900468826293945,
          5.829648971557617,
          -6.722088813781738,
          -3.9150495529174805,
          -7.434148788452148,
          -7.574016571044922,
          4.963761329650879,
          4.219346046447754
         ]
        },
        {
         "marker": {
          "color": "rgb(95, 49, 253)",
          "opacity": 0.7
         },
         "mode": "markers",
         "name": "evermore",
         "text": [
          "'tis the damn season",
          "champagne problems",
          "closure",
          "coney island",
          "cowboy like me",
          "dorothea",
          "evermore",
          "gold rush",
          "happiness",
          "it's time to go",
          "ivy",
          "long story short",
          "marjorie",
          "no body, no crime",
          "right where you left me",
          "tolerate it",
          "willow"
         ],
         "type": "scatter",
         "x": [
          -11.277000427246094,
          29.503589630126953,
          30.949451446533203,
          -2.4403750896453857,
          25.696613311767578,
          0.4588541090488434,
          -1.4696956872940063,
          18.896940231323242,
          -19.61004638671875,
          -1.3204225301742554,
          -9.296221733093262,
          -10.029791831970215,
          26.09479331970215,
          -10.29797077178955,
          -19.625913619995117,
          28.5430908203125,
          -16.201387405395508
         ],
         "y": [
          3.896981716156006,
          2.143709659576416,
          -2.8855478763580322,
          6.363365650177002,
          -0.023411110043525696,
          6.608078956604004,
          6.674551486968994,
          -5.788214683532715,
          6.82168436050415,
          6.613417625427246,
          3.5878732204437256,
          3.593940258026123,
          0.3249482810497284,
          3.81618332862854,
          6.938529968261719,
          2.908299207687378,
          -4.522099018096924
         ]
        },
        {
         "marker": {
          "color": "rgb(63, 97, 250)",
          "opacity": 0.7
         },
         "mode": "markers",
         "name": "1989 (Taylor's Version)",
         "text": [
          "\"Slut!\" (Taylor's Version) [From The Vault]",
          "All You Had To Do Was Stay (Taylor's Version)",
          "Bad Blood (Remix) [Taylor's Version]",
          "Bad Blood (Taylor's Version)",
          "Blank Space (Taylor's Version)",
          "Clean (Taylor's Version)",
          "How You Get The Girl (Taylor's Version)",
          "I Know Places (Taylor's Version)",
          "I Wish You Would (Taylor's Version)",
          "Is It Over Now? (Taylor's Version) [From The Vault]",
          "New Romantics (Taylor's Version)",
          "Now That We Don't Talk (Taylor's Version) [From The Vault]",
          "Out Of The Woods (Taylor's Version)",
          "Say Don't Go (Taylor's Version) [From The Vault]",
          "Shake It Off (Taylor's Version)",
          "Style (Taylor's Version)",
          "Suburban Legends (Taylor's Version) [From The Vault]",
          "Sweeter Than Fiction (Taylor's Version)",
          "This Love (Taylor's Version)",
          "Welcome To New York (Taylor's Version)",
          "Wildest Dreams (Taylor's Version)",
          "Wonderland (Taylor's Version)",
          "You Are In Love (Taylor's Version)"
         ],
         "type": "scatter",
         "x": [
          -2.7288553714752197,
          -22.64505386352539,
          -20.479162216186523,
          -18.361833572387695,
          -18.00965690612793,
          -2.834282398223877,
          -22.76862907409668,
          -8.027721405029297,
          -22.266998291015625,
          -17.552467346191406,
          -13.4228515625,
          30.27850914001465,
          -18.297903060913086,
          -24.538612365722656,
          -20.787675857543945,
          -10.538793563842773,
          27.812381744384766,
          -21.806276321411133,
          -23.758216857910156,
          -8.847140312194824,
          -24.864585876464844,
          -16.781879425048828,
          -16.069631576538086
         ],
         "y": [
          6.189320087432861,
          2.9140443801879883,
          6.5033040046691895,
          -7.021124362945557,
          -7.295309543609619,
          3.0467703342437744,
          5.176914691925049,
          3.799685478210449,
          3.5710396766662598,
          5.113120079040527,
          -2.705294370651245,
          2.0311999320983887,
          -3.699424982070923,
          3.081355571746826,
          -7.38222599029541,
          -1.993060827255249,
          -2.9800972938537598,
          5.211345195770264,
          3.652838706970215,
          -1.9372848272323608,
          1.9935259819030762,
          2.7736849784851074,
          5.353058815002441
         ]
        },
        {
         "marker": {
          "color": "rgb(31, 142, 243)",
          "opacity": 0.7
         },
         "mode": "markers",
         "name": "Red",
         "text": [
          "22",
          "All Too Well",
          "Begin Again",
          "Come Back...Be Here",
          "Everything Has Changed",
          "Girl At Home",
          "Holy Ground",
          "I Almost Do",
          "I Knew You Were Trouble",
          "Red",
          "Red (Original Demo Recording)",
          "Sad Beautiful Tragic",
          "Starlight",
          "State Of Grace",
          "State Of Grace (Acoustic Version)",
          "Stay Stay Stay",
          "The Last Time",
          "The Lucky One",
          "The Moment I Knew",
          "Treacherous",
          "Treacherous (Original Demo Recording)",
          "We Are Never Ever Getting Back Together"
         ],
         "type": "scatter",
         "x": [
          -24.320606231689453,
          -12.533883094787598,
          21.639301300048828,
          25.889829635620117,
          -16.621017456054688,
          -16.406940460205078,
          29.016998291015625,
          23.426910400390625,
          -23.552248001098633,
          -2.31868839263916,
          19.31081771850586,
          37.24387741088867,
          -8.480730056762695,
          34.11016845703125,
          36.78701400756836,
          -2.4228103160858154,
          -21.555530548095703,
          -6.75092077255249,
          -0.7126246094703674,
          16.907238006591797,
          17.121225357055664,
          -24.764089584350586
         ],
         "y": [
          2.025291681289673,
          -1.9026347398757935,
          -3.9936394691467285,
          0.004494891501963139,
          4.628786087036133,
          4.959364891052246,
          -3.0032176971435547,
          -3.8882811069488525,
          2.8320069313049316,
          3.2944653034210205,
          -5.280430793762207,
          -0.5067197680473328,
          -1.3281983137130737,
          0.19957295060157776,
          0.012753834947943687,
          3.1929893493652344,
          5.822991371154785,
          3.3056819438934326,
          5.983275890350342,
          -6.418132305145264,
          -6.75372838973999,
          1.4652830362319946
         ]
        },
        {
         "marker": {
          "color": "rgb(0, 180, 235)",
          "opacity": 0.7
         },
         "mode": "markers",
         "name": "Red (Taylor's Version)",
         "text": [
          "22 (Taylor's Version)",
          "All Too Well (10 Minute Version) [Taylor's Version] [From The Vault]",
          "All Too Well (Taylor's Version)",
          "Babe (Taylor's Version) [From The Vault]",
          "Begin Again (Taylor's Version)",
          "Better Man (Taylor's Version) [From The Vault]",
          "Come Back...Be Here (Taylor's Version)",
          "Everything Has Changed (Taylor's Version)",
          "Forever Winter (Taylor's Version) [From The Vault]",
          "Girl At Home (Taylor's Version)",
          "Holy Ground (Taylor's Version)",
          "I Almost Do (Taylor's Version)",
          "I Bet You Think About Me (Taylor's Version) [From The Vault]",
          "I Knew You Were Trouble (Taylor's Version)",
          "Message In A Bottle (Taylor's Version) [From The Vault]",
          "Nothing New (Taylor's Version) [From The Vault]",
          "Red (Taylor's Version)",
          "Ronan (Taylor's Version)",
          "Run (Taylor's Version) [From The Vault]",
          "Sad Beautiful Tragic (Taylor's Version)",
          "Starlight (Taylor's Version)",
          "State Of Grace (Acoustic Version) [Taylor's Version]",
          "State Of Grace (Taylor's Version)",
          "Stay Stay Stay (Taylor's Version)",
          "The Last Time (Taylor's Version)",
          "The Lucky One (Taylor's Version)",
          "The Moment I Knew (Taylor's Version)",
          "The Very First Night (Taylor's Version) [From The Vault]",
          "Treacherous (Taylor's Version)",
          "We Are Never Ever Getting Back Together (Taylor's Version)"
         ],
         "type": "scatter",
         "x": [
          -23.955942153930664,
          -12.345925331115723,
          -12.615819931030273,
          -2.9590532779693604,
          21.83948516845703,
          -12.945114135742188,
          25.89776039123535,
          -16.74497413635254,
          28.416446685791016,
          -15.821524620056152,
          29.764728546142578,
          23.6346492767334,
          -12.914166450500488,
          -24.017009735107422,
          -22.313791275024414,
          -1.3314878940582275,
          -24.604339599609375,
          28.034679412841797,
          -11.188294410705566,
          37.25511932373047,
          -16.770750045776367,
          36.401458740234375,
          -1.0863407850265503,
          -2.78589129447937,
          -21.16857147216797,
          -6.7802252769470215,
          -0.6352538466453552,
          18.68230438232422,
          17.14141273498535,
          -24.88667869567871
         ],
         "y": [
          1.560117483139038,
          -1.5627398490905762,
          -1.8648910522460938,
          3.8103127479553223,
          -4.491129398345947,
          -1.3940293788909912,
          -0.03986423835158348,
          4.374691963195801,
          2.986593246459961,
          4.5014238357543945,
          -2.818842887878418,
          -3.7783358097076416,
          4.425198554992676,
          3.0255749225616455,
          3.67962908744812,
          6.193441867828369,
          2.962005615234375,
          1.3057708740234375,
          -0.0058063543401658535,
          -1.0933024883270264,
          -5.854722023010254,
          -0.2348194122314453,
          5.509929656982422,
          3.334832191467285,
          6.107100963592529,
          3.2961649894714355,
          5.998371601104736,
          -6.004720211029053,
          -5.933665752410889,
          1.558679223060608
         ]
        },
        {
         "marker": {
          "color": "rgb(32, 212, 224)",
          "opacity": 0.7
         },
         "mode": "markers",
         "name": "Taylor Swift",
         "text": [
          "A Perfectly Good Heart",
          "A Place In This World",
          "Cold As You",
          "I'm Only Me When I'm With You",
          "I'm Only Me When I'm With You",
          "Invisible",
          "Mary's Song (Oh My My My)",
          "Our Song",
          "Picture To Burn",
          "Should've Said No",
          "Stay Beautiful",
          "Teardrops On My Guitar",
          "Teardrops On My Guitar (Pop Version)",
          "The Outside",
          "Tied Together With A Smile",
          "Tim McGraw"
         ],
         "type": "scatter",
         "x": [
          35.12978744506836,
          33.80245590209961,
          34.24943542480469,
          26.637601852416992,
          26.891590118408203,
          34.78351593017578,
          0.05507767200469971,
          -9.592680931091309,
          17.66928482055664,
          -2.3942418098449707,
          32.5107421875,
          20.479433059692383,
          20.131750106811523,
          34.57587814331055,
          30.0156307220459,
          -8.783206939697266
         ],
         "y": [
          -1.5612715482711792,
          -1.977197289466858,
          -2.032174825668335,
          1.1013597249984741,
          0.8862281441688538,
          -1.68641197681427,
          5.859969615936279,
          -2.178046226501465,
          -6.784233093261719,
          3.8085134029388428,
          0.7844400405883789,
          -4.567322731018066,
          -4.896257400512695,
          -2.2283432483673096,
          -3.1286063194274902,
          -1.1332874298095703
         ]
        },
        {
         "marker": {
          "color": "rgb(64, 236, 211)",
          "opacity": 0.7
         },
         "mode": "markers",
         "name": "Lover",
         "text": [
          "Afterglow",
          "Cornelia Street",
          "Cruel Summer",
          "Daylight",
          "Death By A Thousand Cuts",
          "False God",
          "I Forgot That You Existed",
          "I Think He Knows",
          "It's Nice To Have A Friend",
          "London Boy",
          "Lover",
          "ME!",
          "Miss Americana & The Heartbreak Prince",
          "Paper Rings",
          "Soon You'll Get Better",
          "The Archer",
          "The Man",
          "You Need To Calm Down"
         ],
         "type": "scatter",
         "x": [
          -9.842909812927246,
          -10.005631446838379,
          -19.555038452148438,
          -21.658309936523438,
          -16.960834503173828,
          17.931991577148438,
          26.108293533325195,
          -11.048389434814453,
          37.574398040771484,
          -11.077191352844238,
          23.8342342376709,
          -20.59635353088379,
          -13.253679275512695,
          -21.18450164794922,
          31.988765716552734,
          25.011171340942383,
          -19.575027465820312,
          -20.106552124023438
         ],
         "y": [
          -1.041817307472229,
          -3.022317409515381,
          -6.3718390464782715,
          3.7244503498077393,
          -6.879136085510254,
          -6.2726945877075195,
          -3.4077916145324707,
          3.4488446712493896,
          -0.978005051612854,
          1.619178056716919,
          -3.7566957473754883,
          -7.170931339263916,
          -2.3142542839050293,
          4.746555805206299,
          -2.059140205383301,
          -3.2736592292785645,
          3.9973459243774414,
          -7.632185459136963
         ]
        },
        {
         "marker": {
          "color": "rgb(96, 250, 196)",
          "opacity": 0.7
         },
         "mode": "markers",
         "name": "nan",
         "text": [],
         "type": "scatter",
         "x": [],
         "y": []
        },
        {
         "marker": {
          "color": "rgb(128, 254, 179)",
          "opacity": 0.7
         },
         "mode": "markers",
         "name": "1989",
         "text": [
          "All You Had To Do Was Stay",
          "Bad Blood",
          "Blank Space",
          "Clean",
          "How You Get The Girl",
          "I Know Places",
          "I Wish You Would",
          "New Romantics",
          "Out Of The Woods",
          "Shake It Off",
          "Style",
          "This Love",
          "Welcome To New York",
          "Wildest Dreams",
          "Wonderland",
          "You Are In Love"
         ],
         "type": "scatter",
         "x": [
          -22.225303649902344,
          -17.836284637451172,
          -17.62611961364746,
          -24.10931396484375,
          -22.38115692138672,
          -8.347216606140137,
          -21.756242752075195,
          -12.42104434967041,
          -18.19815444946289,
          -20.44521141052246,
          -9.876556396484375,
          -24.35716438293457,
          -8.404196739196777,
          -24.57938575744629,
          -20.535388946533203,
          -15.89697265625
         ],
         "y": [
          2.6395061016082764,
          -7.302360534667969,
          -7.3109517097473145,
          3.7936460971832275,
          5.536182403564453,
          2.947984218597412,
          2.88571834564209,
          -2.388967275619507,
          -4.144822120666504,
          -7.7025604248046875,
          -1.5493288040161133,
          3.696089506149292,
          -0.7658241391181946,
          2.295494318008423,
          4.238633632659912,
          5.114251613616943
         ]
        },
        {
         "marker": {
          "color": "rgb(160, 249, 161)",
          "opacity": 0.7
         },
         "mode": "markers",
         "name": "Midnights",
         "text": [
          "Anti-Hero",
          "Bejeweled",
          "Bigger Than The Whole Sky",
          "Dear Reader",
          "Glitch",
          "High Infidelity",
          "Hits Different",
          "Karma",
          "Karma (Remix)",
          "Labyrinth",
          "Lavender Haze",
          "Maroon",
          "Mastermind",
          "Midnight Rain",
          "Paris",
          "Question...?",
          "Snow On The Beach",
          "Snow On The Beach (More Lana Del Rey)",
          "Sweet Nothing",
          "Sweet Nothing (Piano Remix)",
          "The Great War",
          "Vigilante Shit",
          "Would've, Could've, Should've",
          "You're Losing Me (From The Vault)",
          "You're On Your Own, Kid",
          "You're On Your Own, Kid (Strings Remix)"
         ],
         "type": "scatter",
         "x": [
          -2.2909674644470215,
          -17.678600311279297,
          29.255128860473633,
          34.926963806152344,
          28.048856735229492,
          -9.425999641418457,
          -13.702251434326172,
          -9.020122528076172,
          -14.921954154968262,
          25.748088836669922,
          26.937746047973633,
          -3.0882413387298584,
          -0.4663981795310974,
          29.27535057067871,
          27.859573364257812,
          -17.36922836303711,
          -23.449384689331055,
          -22.47108268737793,
          28.291309356689453,
          28.196971893310547,
          -1.9773821830749512,
          33.030948638916016,
          -16.861526489257812,
          -14.35792350769043,
          29.0942440032959,
          28.502361297607422
         ],
         "y": [
          5.341499328613281,
          4.559144020080566,
          -3.4227631092071533,
          0.10733110457658768,
          -3.587857246398926,
          2.713627338409424,
          4.745815277099609,
          2.836465835571289,
          5.200523376464844,
          -3.560769557952881,
          -3.161670207977295,
          4.141523361206055,
          6.676025390625,
          -1.899431824684143,
          2.7095093727111816,
          4.598936080932617,
          4.280637741088867,
          4.678833961486816,
          -3.8509833812713623,
          -3.9098830223083496,
          6.42418098449707,
          0.5935513377189636,
          5.842945575714111,
          3.9933693408966064,
          2.7085256576538086,
          2.474893093109131
         ]
        },
        {
         "marker": {
          "color": "rgb(192, 234, 140)",
          "opacity": 0.7
         },
         "mode": "markers",
         "name": "folklore",
         "text": [
          "august",
          "betty",
          "cardigan",
          "epiphany",
          "exile",
          "hoax",
          "illicit affairs",
          "invisible string",
          "mad woman",
          "mirrorball",
          "my tears ricochet",
          "peace",
          "seven",
          "the 1",
          "the lakes",
          "the last great american dynasty",
          "this is me trying"
         ],
         "type": "scatter",
         "x": [
          -8.234399795532227,
          -18.26399040222168,
          -24.503734588623047,
          36.993717193603516,
          -18.130178451538086,
          35.16566467285156,
          35.56583786010742,
          28.47577667236328,
          28.940004348754883,
          29.654266357421875,
          28.97644805908203,
          26.837738037109375,
          36.52812957763672,
          21.682222366333008,
          16.978452682495117,
          -0.15690471231937408,
          31.982906341552734
         ],
         "y": [
          2.3971621990203857,
          -6.593677997589111,
          1.4116003513336182,
          -1.4394869804382324,
          -7.644134521484375,
          -0.49809882044792175,
          -0.25571340322494507,
          1.3884025812149048,
          2.615255832672119,
          -2.9493820667266846,
          3.0133557319641113,
          0.694503903388977,
          -0.4854157865047455,
          -4.3926262855529785,
          -5.808507442474365,
          6.557812213897705,
          -2.6694130897521973
         ]
        },
        {
         "marker": {
          "color": "rgb(224, 210, 119)",
          "opacity": 0.7
         },
         "mode": "markers",
         "name": "Speak Now",
         "text": [
          "Back To December",
          "Better Than Revenge",
          "Dear John",
          "Enchanted",
          "Haunted",
          "If This Was A Movie",
          "Innocent",
          "Last Kiss",
          "Long Live",
          "Mean",
          "Mine",
          "Never Grow Up",
          "Ours",
          "Sparks Fly",
          "Speak Now",
          "Superman",
          "The Story Of Us"
         ],
         "type": "scatter",
         "x": [
          -16.889890670776367,
          -17.683156967163086,
          -7.890531063079834,
          -2.979349136352539,
          21.410505294799805,
          -17.315805435180664,
          28.583513259887695,
          -9.183540344238281,
          -16.992252349853516,
          -19.410112380981445,
          -9.487014770507812,
          -17.97046661376953,
          18.124706268310547,
          19.491329193115234,
          -9.957493782043457,
          -8.568170547485352,
          -11.605393409729004
         ],
         "y": [
          -2.517678737640381,
          -3.9025943279266357,
          2.6547744274139404,
          3.5040345191955566,
          -5.30049467086792,
          2.7507195472717285,
          1.8219908475875854,
          -1.1136418581008911,
          -4.955886363983154,
          -6.977155685424805,
          -1.5868359804153442,
          3.343926429748535,
          -6.622241497039795,
          -5.588070869445801,
          -2.2974443435668945,
          2.564460039138794,
          -2.004150867462158
         ]
        },
        {
         "marker": {
          "color": "rgb(255, 178, 96)",
          "opacity": 0.7
         },
         "mode": "markers",
         "name": "Speak Now (Taylor's Version)",
         "text": [
          "Back To December (Taylor's Version)",
          "Better Than Revenge (Taylor's Version)",
          "Castles Crumbling (Taylor's Version) [From The Vault]",
          "Dear John (Taylor's Version)",
          "Electric Touch (Taylor's Version) [From The Vault]",
          "Enchanted (Taylor's Version)",
          "Foolish One (Taylor's Version) [From The Vault]",
          "Haunted (Taylor's Version)",
          "I Can See You (Taylor's Version) [From The Vault]",
          "Innocent (Taylor's Version)",
          "Last Kiss (Taylor's Version)",
          "Long Live (Taylor's Version)",
          "Mean (Taylor's Version)",
          "Mine (Taylor's Version)",
          "Never Grow Up (Taylor's Version)",
          "Ours (Taylor's Version)",
          "Sparks Fly (Taylor's Version)",
          "Speak Now (Taylor's Version)",
          "Superman (Taylor's Version)",
          "The Story Of Us (Taylor's Version)",
          "Timeless (Taylor's Version) [From The Vault]",
          "When Emma Falls In Love (Taylor's Version) [From The Vault]"
         ],
         "type": "scatter",
         "x": [
          -20.728342056274414,
          -17.13153648376465,
          26.435392379760742,
          -7.714797496795654,
          -0.6036523580551147,
          -23.489910125732422,
          -14.421669006347656,
          21.12717628479004,
          -21.405759811401367,
          28.769723892211914,
          -9.777106285095215,
          -17.46253204345703,
          -19.562767028808594,
          -15.15212631225586,
          -18.144420623779297,
          18.110559463500977,
          20.81320571899414,
          -10.33456039428711,
          -8.810436248779297,
          -11.577335357666016,
          -18.89290428161621,
          -2.613939046859741
         ],
         "y": [
          3.79714298248291,
          -3.4633560180664062,
          -2.3936655521392822,
          2.3190791606903076,
          5.795104503631592,
          2.3189096450805664,
          2.990795135498047,
          -4.892540454864502,
          5.682938575744629,
          1.8880587816238403,
          -1.7905548810958862,
          -5.315857887268066,
          -7.232304573059082,
          -3.528021812438965,
          3.7260096073150635,
          -6.49505090713501,
          -5.458907604217529,
          -2.486063003540039,
          2.5839896202087402,
          -1.6966315507888794,
          6.670549392700195,
          6.134185314178467
         ]
        },
        {
         "marker": {
          "color": "rgb(255, 139, 72)",
          "opacity": 0.7
         },
         "mode": "markers",
         "name": "Beautiful Eyes",
         "text": [
          "Beautiful Eyes",
          "I Heart ?",
          "I'm Only Me When I'm With You",
          "I'm Only Me When I'm With You",
          "Picture To Burn (Radio Edit)",
          "Should've Said No (Alternate Version)",
          "Teardrops On My Guitar (Acoustic Version)"
         ],
         "type": "scatter",
         "x": [
          36.63746643066406,
          27.420757293701172,
          26.89884376525879,
          26.81805419921875,
          17.542768478393555,
          20.93689727783203,
          20.796566009521484
         ],
         "y": [
          -1.6924043893814087,
          1.470680594444275,
          0.7915273904800415,
          1.1271189451217651,
          -6.0080156326293945,
          -4.80221700668335,
          -4.33080530166626
         ]
        },
        {
         "marker": {
          "color": "rgb(255, 95, 48)",
          "opacity": 0.7
         },
         "mode": "markers",
         "name": "Fearless",
         "text": [
          "Breathe",
          "Change",
          "Come In With The Rain",
          "Fearless",
          "Fifteen",
          "Forever & Always",
          "Forever & Always (Piano Version)",
          "Hey Stephen",
          "Jump Then Fall",
          "Love Story",
          "SuperStar",
          "Tell Me Why",
          "The Best Day",
          "The Other Side Of The Door",
          "The Way I Loved You",
          "Untouchable",
          "White Horse",
          "You Belong With Me",
          "You're Not Sorry"
         ],
         "type": "scatter",
         "x": [
          21.884613037109375,
          17.5645751953125,
          35.093753814697266,
          18.062549591064453,
          -14.3946533203125,
          -18.6901912689209,
          -19.187213897705078,
          -10.802352905273438,
          -8.35119915008545,
          -20.059606552124023,
          17.05936622619629,
          0.021106215193867683,
          27.57513427734375,
          -8.316632270812988,
          19.95728302001953,
          -17.426239013671875,
          25.876047134399414,
          -17.17365074157715,
          -1.9365962743759155
         ],
         "y": [
          -4.624202251434326,
          -5.614429950714111,
          -1.3801748752593994,
          -5.752020835876465,
          4.046380996704102,
          -4.705559253692627,
          -4.601916313171387,
          -1.4236741065979004,
          3.1787004470825195,
          -7.57231330871582,
          -6.479024410247803,
          6.083138942718506,
          2.965569257736206,
          0.21783003211021423,
          -5.401515007019043,
          -7.839176654815674,
          -2.3832452297210693,
          -4.482804298400879,
          3.7445948123931885
         ]
        },
        {
         "marker": {
          "color": "rgb(255, 46, 23)",
          "opacity": 0.7
         },
         "mode": "markers",
         "name": "Fearless (Taylor's Version)",
         "text": [
          "Breathe (Taylor's Version)",
          "Bye Bye Baby (Taylor's Version) [From The Vault]",
          "Change (Taylor's Version)",
          "Come In With The Rain (Taylor's Version)",
          "Don't You (Taylor's Version) [From The Vault]",
          "Fearless (Taylor's Version)",
          "Fifteen (Taylor's Version)",
          "Forever & Always (Piano Version) [Taylor's Version]",
          "Forever & Always (Taylor's Version)",
          "Hey Stephen (Taylor's Version)",
          "Jump Then Fall (Taylor's Version)",
          "Love Story (Taylor's Version)",
          "Mr. Perfectly Fine (Taylor's Version) [From The Vault]",
          "SuperStar (Taylor's Version)",
          "Tell Me Why (Taylor's Version)",
          "That's When (Taylor's Version) [From The Vault]",
          "The Best Day (Taylor's Version)",
          "The Other Side Of The Door (Taylor's Version)",
          "The Way I Loved You (Taylor's Version)",
          "Today Was A Fairytale (Taylor's Version)",
          "Untouchable (Taylor's Version)",
          "We Were Happy (Taylor's Version) [From The Vault]",
          "White Horse (Taylor's Version)",
          "You All Over Me (Taylor's Version) [From The Vault]",
          "You Belong With Me (Taylor's Version)",
          "You're Not Sorry (Taylor's Version)"
         ],
         "type": "scatter",
         "x": [
          -1.7530874013900757,
          21.283519744873047,
          17.599349975585938,
          34.51002883911133,
          33.22320556640625,
          18.009992599487305,
          -14.890859603881836,
          -24.21759033203125,
          -19.69281005859375,
          -10.836509704589844,
          -7.870237350463867,
          -20.006511688232422,
          -20.810876846313477,
          16.829500198364258,
          -0.22770477831363678,
          -23.808218002319336,
          27.5957088470459,
          -17.977985382080078,
          20.946752548217773,
          22.070003509521484,
          -17.96578598022461,
          33.76913070678711,
          26.092304229736328,
          28.189117431640625,
          -16.846248626708984,
          -2.089155435562134
         ],
         "y": [
          3.9239084720611572,
          -4.693949222564697,
          -6.576023578643799,
          -1.4579969644546509,
          -1.4108210802078247,
          -5.765720844268799,
          4.372039794921875,
          1.7793982028961182,
          -4.141268730163574,
          -1.399097204208374,
          3.2135825157165527,
          -7.148304462432861,
          6.497555732727051,
          -6.040366172790527,
          5.699657440185547,
          4.502722263336182,
          2.985319137573242,
          -5.4634504318237305,
          -5.4091386795043945,
          -3.7552597522735596,
          -7.877328395843506,
          -0.662537693977356,
          -2.6252517700195312,
          -3.436427354812622,
          -4.366328239440918,
          3.387308120727539
         ]
        },
        {
         "marker": {
          "color": "rgb(255, 0, 0)",
          "opacity": 0.7
         },
         "mode": "markers",
         "name": "The Taylor Swift Holiday Collection",
         "text": [
          "Christmas Must Be Something More",
          "Christmases When You Were Mine",
          "Last Christmas",
          "Santa Baby",
          "Silent Night",
          "White Christmas"
         ],
         "type": "scatter",
         "x": [
          29.044893264770508,
          36.788818359375,
          25.66063117980957,
          36.25048828125,
          37.53163528442383,
          37.23568344116211
         ],
         "y": [
          2.1964213848114014,
          -0.765292763710022,
          -2.5162856578826904,
          -1.168044090270996,
          -1.2136529684066772,
          -1.9366716146469116
         ]
        },
        {
         "marker": {
          "color": "rgb(158, 1, 66)",
          "opacity": 0.7
         },
         "mode": "markers",
         "name": "0-9",
         "text": [
          "...Ready For It?",
          "\"Slut!\" (Taylor's Version) [From The Vault]",
          "All Too Well (Taylor's Version)",
          "Anti-Hero",
          "Back To December",
          "Bad Blood (Remix) [Taylor's Version]",
          "Bad Blood (Taylor's Version)",
          "Begin Again",
          "Bejeweled",
          "Blank Space",
          "cardigan",
          "Cruel Summer",
          "exile",
          "Fearless",
          "I Can See You (Taylor's Version) [From The Vault]",
          "I Don't Wanna Live Forever",
          "I Knew You Were Trouble",
          "Is It Over Now? (Taylor's Version) [From The Vault]",
          "Karma (Remix)",
          "Lavender Haze",
          "Look What You Made Me Do",
          "Love Story",
          "Maroon",
          "ME!",
          "Midnight Rain",
          "Mine",
          "Now That We Don't Talk (Taylor's Version) [From The Vault]",
          "Question...?",
          "Red",
          "Say Don't Go (Taylor's Version) [From The Vault]",
          "Shake It Off",
          "Snow On The Beach",
          "Speak Now",
          "Style",
          "Style (Taylor's Version)",
          "the 1",
          "Today Was A Fairytale",
          "We Are Never Ever Getting Back Together",
          "Wildest Dreams",
          "willow",
          "You Belong With Me",
          "You Need To Calm Down",
          "You're On Your Own, Kid"
         ],
         "type": "scatter",
         "visible": "legendonly",
         "x": [
          -15.693038940429688,
          -2.7288553714752197,
          -12.615819931030273,
          -2.2909674644470215,
          -16.889890670776367,
          -20.479162216186523,
          -18.361833572387695,
          21.639301300048828,
          -17.678600311279297,
          -17.62611961364746,
          -24.503734588623047,
          -19.555038452148438,
          -18.130178451538086,
          18.062549591064453,
          -21.405759811401367,
          -1.69913911819458,
          -23.552248001098633,
          -17.552467346191406,
          -14.921954154968262,
          26.937746047973633,
          -19.011808395385742,
          -20.059606552124023,
          -3.0882413387298584,
          -20.59635353088379,
          29.27535057067871,
          -9.487014770507812,
          30.27850914001465,
          -17.36922836303711,
          -2.31868839263916,
          -24.538612365722656,
          -20.44521141052246,
          -23.449384689331055,
          -9.957493782043457,
          -9.876556396484375,
          -10.538793563842773,
          21.682222366333008,
          22.047008514404297,
          -24.764089584350586,
          -24.57938575744629,
          -16.201387405395508,
          -17.17365074157715,
          -20.106552124023438,
          29.0942440032959
         ],
         "y": [
          -3.4662246704101562,
          6.189320087432861,
          -1.8648910522460938,
          5.341499328613281,
          -2.517678737640381,
          6.5033040046691895,
          -7.021124362945557,
          -3.9936394691467285,
          4.559144020080566,
          -7.3109517097473145,
          1.4116003513336182,
          -6.3718390464782715,
          -7.644134521484375,
          -5.752020835876465,
          5.682938575744629,
          3.293285846710205,
          2.8320069313049316,
          5.113120079040527,
          5.200523376464844,
          -3.161670207977295,
          -7.434148788452148,
          -7.57231330871582,
          4.141523361206055,
          -7.170931339263916,
          -1.899431824684143,
          -1.5868359804153442,
          2.0311999320983887,
          4.598936080932617,
          3.2944653034210205,
          3.081355571746826,
          -7.7025604248046875,
          4.280637741088867,
          -2.2974443435668945,
          -1.5493288040161133,
          -1.993060827255249,
          -4.3926262855529785,
          -3.892967700958252,
          1.4652830362319946,
          2.295494318008423,
          -4.522099018096924,
          -4.482804298400879,
          -7.632185459136963,
          2.7085256576538086
         ]
        },
        {
         "marker": {
          "color": "rgb(211, 60, 78)",
          "opacity": 0.7
         },
         "mode": "markers",
         "name": "30-39",
         "text": [
          "'tis the damn season",
          "Castles Crumbling (Taylor's Version) [From The Vault]",
          "Clean (Taylor's Version)",
          "Come In With The Rain",
          "Electric Touch (Taylor's Version) [From The Vault]",
          "Everything Has Changed",
          "Forever & Always",
          "High Infidelity",
          "I Know Places (Taylor's Version)",
          "I Wish You Would (Taylor's Version)",
          "invisible string",
          "Mean (Taylor's Version)",
          "Mr. Perfectly Fine (Taylor's Version) [From The Vault]",
          "no body, no crime",
          "Paris",
          "Safe & Sound",
          "seven",
          "Should've Said No",
          "Speak Now (Taylor's Version)",
          "Sweeter Than Fiction",
          "The Archer",
          "this is me trying",
          "When Emma Falls In Love (Taylor's Version) [From The Vault]",
          "Wonderland (Taylor's Version)"
         ],
         "type": "scatter",
         "visible": "legendonly",
         "x": [
          -11.277000427246094,
          26.435392379760742,
          -2.834282398223877,
          35.093753814697266,
          -0.6036523580551147,
          -16.621017456054688,
          -18.6901912689209,
          -9.425999641418457,
          -8.027721405029297,
          -22.266998291015625,
          28.47577667236328,
          -19.562767028808594,
          -20.810876846313477,
          -10.29797077178955,
          27.859573364257812,
          35.940303802490234,
          36.52812957763672,
          -2.3942418098449707,
          -10.33456039428711,
          -17.134157180786133,
          25.011171340942383,
          31.982906341552734,
          -2.613939046859741,
          -16.781879425048828
         ],
         "y": [
          3.896981716156006,
          -2.3936655521392822,
          3.0467703342437744,
          -1.3801748752593994,
          5.795104503631592,
          4.628786087036133,
          -4.705559253692627,
          2.713627338409424,
          3.799685478210449,
          3.5710396766662598,
          1.3884025812149048,
          -7.232304573059082,
          6.497555732727051,
          3.81618332862854,
          2.7095093727111816,
          -1.8632259368896484,
          -0.4854157865047455,
          3.8085134029388428,
          -2.486063003540039,
          5.008856773376465,
          -3.2736592292785645,
          -2.6694130897521973,
          6.134185314178467,
          2.7736849784851074
         ]
        },
        {
         "marker": {
          "color": "rgb(244, 109, 67)",
          "opacity": 0.7
         },
         "mode": "markers",
         "name": "20-29",
         "text": [
          "22",
          "All You Had To Do Was Stay (Taylor's Version)",
          "august",
          "Better Than Revenge (Taylor's Version)",
          "Bigger Than The Whole Sky",
          "Call It What You Want",
          "champagne problems",
          "Dear John (Taylor's Version)",
          "Fifteen",
          "Highway Don't Care",
          "Hits Different",
          "I Bet You Think About Me (Taylor's Version) [From The Vault]",
          "I Forgot That You Existed",
          "Innocent",
          "mirrorball",
          "New Romantics (Taylor's Version)",
          "Picture To Burn",
          "Red (Taylor's Version)",
          "Shake It Off (Taylor's Version)",
          "Sparks Fly (Taylor's Version)",
          "Superman",
          "SuperStar",
          "The Great War",
          "The Joker And The Queen",
          "The Man",
          "The Other Side Of The Door",
          "Would've, Could've, Should've",
          "You're Losing Me (From The Vault)"
         ],
         "type": "scatter",
         "visible": "legendonly",
         "x": [
          -24.320606231689453,
          -22.64505386352539,
          -8.234399795532227,
          -17.13153648376465,
          29.255128860473633,
          -14.298378944396973,
          29.503589630126953,
          -7.714797496795654,
          -14.3946533203125,
          -17.10687828063965,
          -13.702251434326172,
          -12.914166450500488,
          26.108293533325195,
          28.583513259887695,
          29.654266357421875,
          -13.4228515625,
          17.66928482055664,
          -24.604339599609375,
          -20.787675857543945,
          20.81320571899414,
          -8.568170547485352,
          17.05936622619629,
          -1.9773821830749512,
          36.389652252197266,
          -19.575027465820312,
          -8.316632270812988,
          -16.861526489257812,
          -14.35792350769043
         ],
         "y": [
          2.025291681289673,
          2.9140443801879883,
          2.3971621990203857,
          -3.4633560180664062,
          -3.4227631092071533,
          4.518928050994873,
          2.143709659576416,
          2.3190791606903076,
          4.046380996704102,
          -3.486356496810913,
          4.745815277099609,
          4.425198554992676,
          -3.4077916145324707,
          1.8219908475875854,
          -2.9493820667266846,
          -2.705294370651245,
          -6.784233093261719,
          2.962005615234375,
          -7.38222599029541,
          -5.458907604217529,
          2.564460039138794,
          -6.479024410247803,
          6.42418098449707,
          -1.7717797756195068,
          3.9973459243774414,
          0.21783003211021423,
          5.842945575714111,
          3.9933693408966064
         ]
        },
        {
         "marker": {
          "color": "rgb(252, 172, 96)",
          "opacity": 0.7
         },
         "mode": "markers",
         "name": "50-59",
         "text": [
          "22 (Taylor's Version)",
          "Better Man (Taylor's Version) [From The Vault]",
          "Better Than Revenge",
          "Christmas Tree Farm",
          "Cornelia Street",
          "Dear John",
          "epiphany",
          "evermore",
          "happiness",
          "Haunted (Taylor's Version)",
          "I Almost Do (Taylor's Version)",
          "I Think He Knows",
          "Last Kiss (Taylor's Version)",
          "Long Live (Taylor's Version)",
          "Never Grow Up (Taylor's Version)",
          "Only The Young",
          "peace",
          "Treacherous (Taylor's Version)",
          "We Are Never Ever Getting Back Together (Taylor's Version)",
          "Wonderland",
          "You All Over Me (Taylor's Version) [From The Vault]"
         ],
         "type": "scatter",
         "visible": "legendonly",
         "x": [
          -23.955942153930664,
          -12.945114135742188,
          -17.683156967163086,
          -1.6316941976547241,
          -10.005631446838379,
          -7.890531063079834,
          36.993717193603516,
          -1.4696956872940063,
          -19.61004638671875,
          21.12717628479004,
          23.6346492767334,
          -11.048389434814453,
          -9.777106285095215,
          -17.46253204345703,
          -18.144420623779297,
          27.69223403930664,
          26.837738037109375,
          17.14141273498535,
          -24.88667869567871,
          -20.535388946533203,
          28.189117431640625
         ],
         "y": [
          1.560117483139038,
          -1.3940293788909912,
          -3.9025943279266357,
          4.754029273986816,
          -3.022317409515381,
          2.6547744274139404,
          -1.4394869804382324,
          6.674551486968994,
          6.82168436050415,
          -4.892540454864502,
          -3.7783358097076416,
          3.4488446712493896,
          -1.7905548810958862,
          -5.315857887268066,
          3.7260096073150635,
          1.982056975364685,
          0.694503903388977,
          -5.933665752410889,
          1.558679223060608,
          4.238633632659912,
          -3.436427354812622
         ]
        },
        {
         "marker": {
          "color": "rgb(254, 224, 139)",
          "opacity": 0.7
         },
         "mode": "markers",
         "name": ">100",
         "text": [
          "A Perfectly Good Heart",
          "A Place In This World",
          "All Too Well (10 Minute Version) [Taylor's Version] [From The Vault]",
          "All You Had To Do Was Stay",
          "American Girl",
          "Bad Blood",
          "Bad Blood (Remix)",
          "Beautiful Eyes",
          "Beautiful Ghosts",
          "Birch",
          "Breathe (Taylor's Version)",
          "Bye Bye Baby (Taylor's Version) [From The Vault]",
          "Change (Taylor's Version)",
          "Christmas Must Be Something More",
          "Christmases When You Were Mine",
          "Clean",
          "Cold As You",
          "Come Back...Be Here",
          "Come In With The Rain (Taylor's Version)",
          "Dancing With Our Hands Tied",
          "Don't Blame Me",
          "Don't You (Taylor's Version) [From The Vault]",
          "Dress",
          "Eyes Open (Taylor's Version)",
          "Forever & Always (Piano Version)",
          "Forever & Always (Piano Version) [Taylor's Version]",
          "Gasoline (Remix)",
          "Getaway Car",
          "Girl At Home",
          "Girl At Home (Taylor's Version)",
          "Half Of My Heart",
          "Hey Stephen (Taylor's Version)",
          "Holy Ground",
          "How You Get The Girl",
          "I Did Something Bad",
          "I Heart ?",
          "I Know Places",
          "I Wish You Would",
          "I'm Only Me When I'm With You",
          "I'm Only Me When I'm With You",
          "I'm Only Me When I'm With You",
          "I'm Only Me When I'm With You",
          "If This Was A Movie (Taylor's Version)",
          "Invisible",
          "it's time to go",
          "Jump Then Fall (Taylor's Version)",
          "Karma",
          "King Of My Heart",
          "Last Christmas",
          "Lover (Remix)",
          "Mary's Song (Oh My My My)",
          "New Year's Day",
          "Picture To Burn (Radio Edit)",
          "Red (Original Demo Recording)",
          "right where you left me",
          "Ronan (Taylor's Version)",
          "Sad Beautiful Tragic",
          "Safe & Sound (Taylor's Version)",
          "Santa Baby",
          "September",
          "Should've Said No (Alternate Version)",
          "Silent Night",
          "Snow On The Beach (More Lana Del Rey)",
          "So It Goes...",
          "Starlight",
          "State Of Grace (Acoustic Version)",
          "State Of Grace (Acoustic Version) [Taylor's Version]",
          "Stay Beautiful",
          "SuperStar (Taylor's Version)",
          "Sweet Nothing (Piano Remix)",
          "Sweeter Than Fiction (Taylor's Version)",
          "Teardrops On My Guitar (Acoustic Version)",
          "Teardrops On My Guitar (Pop Version)",
          "Tell Me Why",
          "Tell Me Why (Taylor's Version)",
          "That's When (Taylor's Version) [From The Vault]",
          "The Alcott",
          "The Best Day",
          "The Best Day (Taylor's Version)",
          "the lakes",
          "The Last Time",
          "The Lucky One",
          "The Other Side Of The Door (Taylor's Version)",
          "The Outside",
          "This Is Why We Can't Have Nice Things",
          "This Love",
          "Three Sad Virgins",
          "Tied Together With A Smile",
          "Today Was A Fairytale (Taylor's Version)",
          "Treacherous",
          "Treacherous (Original Demo Recording)",
          "Untouchable (Taylor's Version)",
          "We Were Happy (Taylor's Version) [From The Vault]",
          "White Christmas",
          "White Horse (Taylor's Version)",
          "You're Not Sorry (Taylor's Version)",
          "You're On Your Own, Kid (Strings Remix)"
         ],
         "type": "scatter",
         "visible": "legendonly",
         "x": [
          35.12978744506836,
          33.80245590209961,
          -12.345925331115723,
          -22.225303649902344,
          37.236968994140625,
          -17.836284637451172,
          -13.670952796936035,
          36.63746643066406,
          33.5885009765625,
          37.362056732177734,
          -1.7530874013900757,
          21.283519744873047,
          17.599349975585938,
          29.044893264770508,
          36.788818359375,
          -24.10931396484375,
          34.24943542480469,
          25.889829635620117,
          34.51002883911133,
          -21.378084182739258,
          -11.063630104064941,
          33.22320556640625,
          -17.207365036010742,
          28.71343994140625,
          -19.187213897705078,
          -24.21759033203125,
          33.85963439941406,
          -10.47227954864502,
          -16.406940460205078,
          -15.821524620056152,
          27.633974075317383,
          -10.836509704589844,
          29.016998291015625,
          -22.38115692138672,
          -17.340667724609375,
          27.420757293701172,
          -8.347216606140137,
          -21.756242752075195,
          26.637601852416992,
          26.891590118408203,
          26.89884376525879,
          26.81805419921875,
          -19.13311767578125,
          34.78351593017578,
          -1.3204225301742554,
          -7.870237350463867,
          -9.020122528076172,
          -16.86097526550293,
          25.66063117980957,
          23.90092658996582,
          0.05507767200469971,
          -17.304603576660156,
          17.542768478393555,
          19.31081771850586,
          -19.625913619995117,
          28.034679412841797,
          37.24387741088867,
          35.520694732666016,
          36.25048828125,
          28.470670700073242,
          20.93689727783203,
          37.53163528442383,
          -22.47108268737793,
          -16.469497680664062,
          -8.480730056762695,
          36.78701400756836,
          36.401458740234375,
          32.5107421875,
          16.829500198364258,
          28.196971893310547,
          -21.806276321411133,
          20.796566009521484,
          20.131750106811523,
          0.021106215193867683,
          -0.22770477831363678,
          -23.808218002319336,
          -20.198020935058594,
          27.57513427734375,
          27.5957088470459,
          16.978452682495117,
          -21.555530548095703,
          -6.75092077255249,
          -17.977985382080078,
          34.57587814331055,
          -16.861242294311523,
          -24.35716438293457,
          -12.27248764038086,
          30.0156307220459,
          22.070003509521484,
          16.907238006591797,
          17.121225357055664,
          -17.96578598022461,
          33.76913070678711,
          37.23568344116211,
          26.092304229736328,
          -2.089155435562134,
          28.502361297607422
         ],
         "y": [
          -1.5612715482711792,
          -1.977197289466858,
          -1.5627398490905762,
          2.6395061016082764,
          -1.5606063604354858,
          -7.302360534667969,
          4.560070514678955,
          -1.6924043893814087,
          0.31126710772514343,
          -0.3442118763923645,
          3.9239084720611572,
          -4.693949222564697,
          -6.576023578643799,
          2.1964213848114014,
          -0.765292763710022,
          3.7936460971832275,
          -2.032174825668335,
          0.004494891501963139,
          -1.4579969644546509,
          4.160506725311279,
          -2.2514400482177734,
          -1.4108210802078247,
          3.691118001937866,
          -3.593561887741089,
          -4.601916313171387,
          1.7793982028961182,
          -1.40361750125885,
          -2.0900468826293945,
          4.959364891052246,
          4.5014238357543945,
          -3.83921480178833,
          -1.399097204208374,
          -3.0032176971435547,
          5.536182403564453,
          -6.722088813781738,
          1.470680594444275,
          2.947984218597412,
          2.88571834564209,
          1.1013597249984741,
          0.8862281441688538,
          0.7915273904800415,
          1.1271189451217651,
          2.9686477184295654,
          -1.68641197681427,
          6.613417625427246,
          3.2135825157165527,
          2.836465835571289,
          -3.9150495529174805,
          -2.5162856578826904,
          -3.715315818786621,
          5.859969615936279,
          -7.574016571044922,
          -6.0080156326293945,
          -5.280430793762207,
          6.938529968261719,
          1.3057708740234375,
          -0.5067197680473328,
          -1.8721075057983398,
          -1.168044090270996,
          -2.9635581970214844,
          -4.80221700668335,
          -1.2136529684066772,
          4.678833961486816,
          4.963761329650879,
          -1.3281983137130737,
          0.012753834947943687,
          -0.2348194122314453,
          0.7844400405883789,
          -6.040366172790527,
          -3.9098830223083496,
          5.211345195770264,
          -4.33080530166626,
          -4.896257400512695,
          6.083138942718506,
          5.699657440185547,
          4.502722263336182,
          6.775326251983643,
          2.965569257736206,
          2.985319137573242,
          -5.808507442474365,
          5.822991371154785,
          3.3056819438934326,
          -5.4634504318237305,
          -2.2283432483673096,
          4.219346046447754,
          3.696089506149292,
          4.121809005737305,
          -3.1286063194274902,
          -3.7552597522735596,
          -6.418132305145264,
          -6.75372838973999,
          -7.877328395843506,
          -0.662537693977356,
          -1.9366716146469116,
          -2.6252517700195312,
          3.387308120727539,
          2.474893093109131
         ]
        },
        {
         "marker": {
          "color": "rgb(254, 254, 190)",
          "opacity": 0.7
         },
         "mode": "markers",
         "name": "70-79",
         "text": [
          "Afterglow",
          "Babe",
          "Begin Again (Taylor's Version)",
          "cowboy like me",
          "Enchanted",
          "False God",
          "Fearless (Taylor's Version)",
          "Forever Winter (Taylor's Version) [From The Vault]",
          "hoax",
          "Holy Ground (Taylor's Version)",
          "Last Kiss",
          "marjorie",
          "Renegade",
          "Superman (Taylor's Version)",
          "The Way I Loved You",
          "You Belong With Me (Taylor's Version)"
         ],
         "type": "scatter",
         "visible": "legendonly",
         "x": [
          -9.842909812927246,
          -2.5852136611938477,
          21.83948516845703,
          25.696613311767578,
          -2.979349136352539,
          17.931991577148438,
          18.009992599487305,
          28.416446685791016,
          35.16566467285156,
          29.764728546142578,
          -9.183540344238281,
          26.09479331970215,
          -17.614412307739258,
          -8.810436248779297,
          19.95728302001953,
          -16.846248626708984
         ],
         "y": [
          -1.041817307472229,
          4.02771520614624,
          -4.491129398345947,
          -0.023411110043525696,
          3.5040345191955566,
          -6.2726945877075195,
          -5.765720844268799,
          2.986593246459961,
          -0.49809882044792175,
          -2.818842887878418,
          -1.1136418581008911,
          0.3249482810497284,
          -6.420905590057373,
          2.5839896202087402,
          -5.401515007019043,
          -4.366328239440918
         ]
        },
        {
         "marker": {
          "color": "rgb(230, 245, 152)",
          "opacity": 0.7
         },
         "mode": "markers",
         "name": "10-19",
         "text": [
          "All Of The Girls You Loved Before",
          "Back To December (Taylor's Version)",
          "Blank Space (Taylor's Version)",
          "Both Of Us",
          "Change",
          "Crazier",
          "Delicate",
          "Enchanted (Taylor's Version)",
          "End Game",
          "Eyes Open",
          "Gorgeous",
          "If This Was A Movie",
          "Jump Then Fall",
          "Labyrinth",
          "Love Story (Taylor's Version)",
          "Lover",
          "Mastermind",
          "Mean",
          "Mine (Taylor's Version)",
          "my tears ricochet",
          "Our Song",
          "Ours",
          "Out Of The Woods",
          "Out Of The Woods (Taylor's Version)",
          "Ronan",
          "Sparks Fly",
          "State Of Grace",
          "State Of Grace (Taylor's Version)",
          "Suburban Legends (Taylor's Version) [From The Vault]",
          "Sweet Nothing",
          "Teardrops On My Guitar",
          "the last great american dynasty",
          "Two Is Better Than One",
          "Untouchable",
          "Vigilante Shit",
          "Welcome To New York (Taylor's Version)",
          "White Horse",
          "Wildest Dreams (Taylor's Version)",
          "You're Not Sorry"
         ],
         "type": "scatter",
         "visible": "legendonly",
         "x": [
          -0.6588037610054016,
          -20.728342056274414,
          -18.00965690612793,
          -12.757501602172852,
          17.5645751953125,
          36.01028060913086,
          -20.60722541809082,
          -23.489910125732422,
          -19.042888641357422,
          30.75177574157715,
          -21.802902221679688,
          -17.315805435180664,
          -8.35119915008545,
          25.748088836669922,
          -20.006511688232422,
          23.8342342376709,
          -0.4663981795310974,
          -19.410112380981445,
          -15.15212631225586,
          28.97644805908203,
          -9.592680931091309,
          18.124706268310547,
          -18.19815444946289,
          -18.297903060913086,
          28.213420867919922,
          19.491329193115234,
          34.11016845703125,
          -1.0863407850265503,
          27.812381744384766,
          28.291309356689453,
          20.479433059692383,
          -0.15690471231937408,
          29.333627700805664,
          -17.426239013671875,
          33.030948638916016,
          -8.847140312194824,
          25.876047134399414,
          -24.864585876464844,
          -1.9365962743759155
         ],
         "y": [
          6.438695907592773,
          3.79714298248291,
          -7.295309543609619,
          4.336517810821533,
          -5.614429950714111,
          -0.7097635269165039,
          -7.245440483093262,
          2.3189096450805664,
          3.9180057048797607,
          -2.9010746479034424,
          5.829648971557617,
          2.7507195472717285,
          3.1787004470825195,
          -3.560769557952881,
          -7.148304462432861,
          -3.7566957473754883,
          6.676025390625,
          -6.977155685424805,
          -3.528021812438965,
          3.0133557319641113,
          -2.178046226501465,
          -6.622241497039795,
          -4.144822120666504,
          -3.699424982070923,
          2.2889199256896973,
          -5.588070869445801,
          0.19957295060157776,
          5.509929656982422,
          -2.9800972938537598,
          -3.8509833812713623,
          -4.567322731018066,
          6.557812213897705,
          -3.1805760860443115,
          -7.839176654815674,
          0.5935513377189636,
          -1.9372848272323608,
          -2.3832452297210693,
          1.9935259819030762,
          3.7445948123931885
         ]
        },
        {
         "marker": {
          "color": "rgb(169, 220, 164)",
          "opacity": 0.7
         },
         "mode": "markers",
         "name": "80-89",
         "text": [
          "All Too Well",
          "Breathe",
          "closure",
          "Come Back...Be Here (Taylor's Version)",
          "Daylight",
          "Fifteen (Taylor's Version)",
          "Long Live",
          "Never Grow Up",
          "Sad Beautiful Tragic (Taylor's Version)",
          "The Lucky One (Taylor's Version)",
          "The Moment I Knew (Taylor's Version)",
          "You Are In Love"
         ],
         "type": "scatter",
         "visible": "legendonly",
         "x": [
          -12.533883094787598,
          21.884613037109375,
          30.949451446533203,
          25.89776039123535,
          -21.658309936523438,
          -14.890859603881836,
          -16.992252349853516,
          -17.97046661376953,
          37.25511932373047,
          -6.7802252769470215,
          -0.6352538466453552,
          -15.89697265625
         ],
         "y": [
          -1.9026347398757935,
          -4.624202251434326,
          -2.8855478763580322,
          -0.03986423835158348,
          3.7244503498077393,
          4.372039794921875,
          -4.955886363983154,
          3.343926429748535,
          -1.0933024883270264,
          3.2961649894714355,
          5.998371601104736,
          5.114251613616943
         ]
        },
        {
         "marker": {
          "color": "rgb(102, 194, 165)",
          "opacity": 0.7
         },
         "mode": "markers",
         "name": "60-69",
         "text": [
          "Babe (Taylor's Version) [From The Vault]",
          "Carolina",
          "coney island",
          "Death By A Thousand Cuts",
          "dorothea",
          "Everything Has Changed (Taylor's Version)",
          "Forever & Always (Taylor's Version)",
          "Haunted",
          "I Almost Do",
          "Innocent (Taylor's Version)",
          "ivy",
          "London Boy",
          "long story short",
          "Ours (Taylor's Version)",
          "Soon You'll Get Better",
          "Stay Stay Stay (Taylor's Version)",
          "The Last Time (Taylor's Version)",
          "The Moment I Knew",
          "The Very First Night (Taylor's Version) [From The Vault]"
         ],
         "type": "scatter",
         "visible": "legendonly",
         "x": [
          -2.9590532779693604,
          34.321475982666016,
          -2.4403750896453857,
          -16.960834503173828,
          0.4588541090488434,
          -16.74497413635254,
          -19.69281005859375,
          21.410505294799805,
          23.426910400390625,
          28.769723892211914,
          -9.296221733093262,
          -11.077191352844238,
          -10.029791831970215,
          18.110559463500977,
          31.988765716552734,
          -2.78589129447937,
          -21.16857147216797,
          -0.7126246094703674,
          18.68230438232422
         ],
         "y": [
          3.8103127479553223,
          -0.08349326997995377,
          6.363365650177002,
          -6.879136085510254,
          6.608078956604004,
          4.374691963195801,
          -4.141268730163574,
          -5.30049467086792,
          -3.8882811069488525,
          1.8880587816238403,
          3.5878732204437256,
          1.619178056716919,
          3.593940258026123,
          -6.49505090713501,
          -2.059140205383301,
          3.334832191467285,
          6.107100963592529,
          5.983275890350342,
          -6.004720211029053
         ]
        },
        {
         "marker": {
          "color": "rgb(50, 134, 188)",
          "opacity": 0.7
         },
         "mode": "markers",
         "name": "40-49",
         "text": [
          "betty",
          "Dear Reader",
          "Foolish One (Taylor's Version) [From The Vault]",
          "Glitch",
          "gold rush",
          "How You Get The Girl (Taylor's Version)",
          "I Knew You Were Trouble (Taylor's Version)",
          "illicit affairs",
          "mad woman",
          "Message In A Bottle (Taylor's Version) [From The Vault]",
          "Miss Americana & The Heartbreak Prince",
          "New Romantics",
          "Nothing New (Taylor's Version) [From The Vault]",
          "Paper Rings",
          "Run (Taylor's Version) [From The Vault]",
          "The Story Of Us",
          "The Story Of Us (Taylor's Version)",
          "This Love (Taylor's Version)",
          "Tim McGraw",
          "Timeless (Taylor's Version) [From The Vault]",
          "tolerate it",
          "Welcome To New York",
          "You Are In Love (Taylor's Version)"
         ],
         "type": "scatter",
         "visible": "legendonly",
         "x": [
          -18.26399040222168,
          34.926963806152344,
          -14.421669006347656,
          28.048856735229492,
          18.896940231323242,
          -22.76862907409668,
          -24.017009735107422,
          35.56583786010742,
          28.940004348754883,
          -22.313791275024414,
          -13.253679275512695,
          -12.42104434967041,
          -1.3314878940582275,
          -21.18450164794922,
          -11.188294410705566,
          -11.605393409729004,
          -11.577335357666016,
          -23.758216857910156,
          -8.783206939697266,
          -18.89290428161621,
          28.5430908203125,
          -8.404196739196777,
          -16.069631576538086
         ],
         "y": [
          -6.593677997589111,
          0.10733110457658768,
          2.990795135498047,
          -3.587857246398926,
          -5.788214683532715,
          5.176914691925049,
          3.0255749225616455,
          -0.25571340322494507,
          2.615255832672119,
          3.67962908744812,
          -2.3142542839050293,
          -2.388967275619507,
          6.193441867828369,
          4.746555805206299,
          -0.0058063543401658535,
          -2.004150867462158,
          -1.6966315507888794,
          3.652838706970215,
          -1.1332874298095703,
          6.670549392700195,
          2.908299207687378,
          -0.7658241391181946,
          5.353058815002441
         ]
        },
        {
         "marker": {
          "color": "rgb(94, 79, 162)",
          "opacity": 0.7
         },
         "mode": "markers",
         "name": "90-99",
         "text": [
          "Hey Stephen",
          "It's Nice To Have A Friend",
          "Starlight (Taylor's Version)",
          "Stay Stay Stay",
          "The Way I Loved You (Taylor's Version)"
         ],
         "type": "scatter",
         "visible": "legendonly",
         "x": [
          -10.802352905273438,
          37.574398040771484,
          -16.770750045776367,
          -2.4228103160858154,
          20.946752548217773
         ],
         "y": [
          -1.4236741065979004,
          -0.978005051612854,
          -5.854722023010254,
          3.1929893493652344,
          -5.4091386795043945
         ]
        }
       ],
       "layout": {
        "hovermode": "closest",
        "legend": {
         "title": {
          "text": "Legend"
         }
        },
        "template": {
         "data": {
          "bar": [
           {
            "error_x": {
             "color": "#2a3f5f"
            },
            "error_y": {
             "color": "#2a3f5f"
            },
            "marker": {
             "line": {
              "color": "#E5ECF6",
              "width": 0.5
             },
             "pattern": {
              "fillmode": "overlay",
              "size": 10,
              "solidity": 0.2
             }
            },
            "type": "bar"
           }
          ],
          "barpolar": [
           {
            "marker": {
             "line": {
              "color": "#E5ECF6",
              "width": 0.5
             },
             "pattern": {
              "fillmode": "overlay",
              "size": 10,
              "solidity": 0.2
             }
            },
            "type": "barpolar"
           }
          ],
          "carpet": [
           {
            "aaxis": {
             "endlinecolor": "#2a3f5f",
             "gridcolor": "white",
             "linecolor": "white",
             "minorgridcolor": "white",
             "startlinecolor": "#2a3f5f"
            },
            "baxis": {
             "endlinecolor": "#2a3f5f",
             "gridcolor": "white",
             "linecolor": "white",
             "minorgridcolor": "white",
             "startlinecolor": "#2a3f5f"
            },
            "type": "carpet"
           }
          ],
          "choropleth": [
           {
            "colorbar": {
             "outlinewidth": 0,
             "ticks": ""
            },
            "type": "choropleth"
           }
          ],
          "contour": [
           {
            "colorbar": {
             "outlinewidth": 0,
             "ticks": ""
            },
            "colorscale": [
             [
              0,
              "#0d0887"
             ],
             [
              0.1111111111111111,
              "#46039f"
             ],
             [
              0.2222222222222222,
              "#7201a8"
             ],
             [
              0.3333333333333333,
              "#9c179e"
             ],
             [
              0.4444444444444444,
              "#bd3786"
             ],
             [
              0.5555555555555556,
              "#d8576b"
             ],
             [
              0.6666666666666666,
              "#ed7953"
             ],
             [
              0.7777777777777778,
              "#fb9f3a"
             ],
             [
              0.8888888888888888,
              "#fdca26"
             ],
             [
              1,
              "#f0f921"
             ]
            ],
            "type": "contour"
           }
          ],
          "contourcarpet": [
           {
            "colorbar": {
             "outlinewidth": 0,
             "ticks": ""
            },
            "type": "contourcarpet"
           }
          ],
          "heatmap": [
           {
            "colorbar": {
             "outlinewidth": 0,
             "ticks": ""
            },
            "colorscale": [
             [
              0,
              "#0d0887"
             ],
             [
              0.1111111111111111,
              "#46039f"
             ],
             [
              0.2222222222222222,
              "#7201a8"
             ],
             [
              0.3333333333333333,
              "#9c179e"
             ],
             [
              0.4444444444444444,
              "#bd3786"
             ],
             [
              0.5555555555555556,
              "#d8576b"
             ],
             [
              0.6666666666666666,
              "#ed7953"
             ],
             [
              0.7777777777777778,
              "#fb9f3a"
             ],
             [
              0.8888888888888888,
              "#fdca26"
             ],
             [
              1,
              "#f0f921"
             ]
            ],
            "type": "heatmap"
           }
          ],
          "heatmapgl": [
           {
            "colorbar": {
             "outlinewidth": 0,
             "ticks": ""
            },
            "colorscale": [
             [
              0,
              "#0d0887"
             ],
             [
              0.1111111111111111,
              "#46039f"
             ],
             [
              0.2222222222222222,
              "#7201a8"
             ],
             [
              0.3333333333333333,
              "#9c179e"
             ],
             [
              0.4444444444444444,
              "#bd3786"
             ],
             [
              0.5555555555555556,
              "#d8576b"
             ],
             [
              0.6666666666666666,
              "#ed7953"
             ],
             [
              0.7777777777777778,
              "#fb9f3a"
             ],
             [
              0.8888888888888888,
              "#fdca26"
             ],
             [
              1,
              "#f0f921"
             ]
            ],
            "type": "heatmapgl"
           }
          ],
          "histogram": [
           {
            "marker": {
             "pattern": {
              "fillmode": "overlay",
              "size": 10,
              "solidity": 0.2
             }
            },
            "type": "histogram"
           }
          ],
          "histogram2d": [
           {
            "colorbar": {
             "outlinewidth": 0,
             "ticks": ""
            },
            "colorscale": [
             [
              0,
              "#0d0887"
             ],
             [
              0.1111111111111111,
              "#46039f"
             ],
             [
              0.2222222222222222,
              "#7201a8"
             ],
             [
              0.3333333333333333,
              "#9c179e"
             ],
             [
              0.4444444444444444,
              "#bd3786"
             ],
             [
              0.5555555555555556,
              "#d8576b"
             ],
             [
              0.6666666666666666,
              "#ed7953"
             ],
             [
              0.7777777777777778,
              "#fb9f3a"
             ],
             [
              0.8888888888888888,
              "#fdca26"
             ],
             [
              1,
              "#f0f921"
             ]
            ],
            "type": "histogram2d"
           }
          ],
          "histogram2dcontour": [
           {
            "colorbar": {
             "outlinewidth": 0,
             "ticks": ""
            },
            "colorscale": [
             [
              0,
              "#0d0887"
             ],
             [
              0.1111111111111111,
              "#46039f"
             ],
             [
              0.2222222222222222,
              "#7201a8"
             ],
             [
              0.3333333333333333,
              "#9c179e"
             ],
             [
              0.4444444444444444,
              "#bd3786"
             ],
             [
              0.5555555555555556,
              "#d8576b"
             ],
             [
              0.6666666666666666,
              "#ed7953"
             ],
             [
              0.7777777777777778,
              "#fb9f3a"
             ],
             [
              0.8888888888888888,
              "#fdca26"
             ],
             [
              1,
              "#f0f921"
             ]
            ],
            "type": "histogram2dcontour"
           }
          ],
          "mesh3d": [
           {
            "colorbar": {
             "outlinewidth": 0,
             "ticks": ""
            },
            "type": "mesh3d"
           }
          ],
          "parcoords": [
           {
            "line": {
             "colorbar": {
              "outlinewidth": 0,
              "ticks": ""
             }
            },
            "type": "parcoords"
           }
          ],
          "pie": [
           {
            "automargin": true,
            "type": "pie"
           }
          ],
          "scatter": [
           {
            "fillpattern": {
             "fillmode": "overlay",
             "size": 10,
             "solidity": 0.2
            },
            "type": "scatter"
           }
          ],
          "scatter3d": [
           {
            "line": {
             "colorbar": {
              "outlinewidth": 0,
              "ticks": ""
             }
            },
            "marker": {
             "colorbar": {
              "outlinewidth": 0,
              "ticks": ""
             }
            },
            "type": "scatter3d"
           }
          ],
          "scattercarpet": [
           {
            "marker": {
             "colorbar": {
              "outlinewidth": 0,
              "ticks": ""
             }
            },
            "type": "scattercarpet"
           }
          ],
          "scattergeo": [
           {
            "marker": {
             "colorbar": {
              "outlinewidth": 0,
              "ticks": ""
             }
            },
            "type": "scattergeo"
           }
          ],
          "scattergl": [
           {
            "marker": {
             "colorbar": {
              "outlinewidth": 0,
              "ticks": ""
             }
            },
            "type": "scattergl"
           }
          ],
          "scattermapbox": [
           {
            "marker": {
             "colorbar": {
              "outlinewidth": 0,
              "ticks": ""
             }
            },
            "type": "scattermapbox"
           }
          ],
          "scatterpolar": [
           {
            "marker": {
             "colorbar": {
              "outlinewidth": 0,
              "ticks": ""
             }
            },
            "type": "scatterpolar"
           }
          ],
          "scatterpolargl": [
           {
            "marker": {
             "colorbar": {
              "outlinewidth": 0,
              "ticks": ""
             }
            },
            "type": "scatterpolargl"
           }
          ],
          "scatterternary": [
           {
            "marker": {
             "colorbar": {
              "outlinewidth": 0,
              "ticks": ""
             }
            },
            "type": "scatterternary"
           }
          ],
          "surface": [
           {
            "colorbar": {
             "outlinewidth": 0,
             "ticks": ""
            },
            "colorscale": [
             [
              0,
              "#0d0887"
             ],
             [
              0.1111111111111111,
              "#46039f"
             ],
             [
              0.2222222222222222,
              "#7201a8"
             ],
             [
              0.3333333333333333,
              "#9c179e"
             ],
             [
              0.4444444444444444,
              "#bd3786"
             ],
             [
              0.5555555555555556,
              "#d8576b"
             ],
             [
              0.6666666666666666,
              "#ed7953"
             ],
             [
              0.7777777777777778,
              "#fb9f3a"
             ],
             [
              0.8888888888888888,
              "#fdca26"
             ],
             [
              1,
              "#f0f921"
             ]
            ],
            "type": "surface"
           }
          ],
          "table": [
           {
            "cells": {
             "fill": {
              "color": "#EBF0F8"
             },
             "line": {
              "color": "white"
             }
            },
            "header": {
             "fill": {
              "color": "#C8D4E3"
             },
             "line": {
              "color": "white"
             }
            },
            "type": "table"
           }
          ]
         },
         "layout": {
          "annotationdefaults": {
           "arrowcolor": "#2a3f5f",
           "arrowhead": 0,
           "arrowwidth": 1
          },
          "autotypenumbers": "strict",
          "coloraxis": {
           "colorbar": {
            "outlinewidth": 0,
            "ticks": ""
           }
          },
          "colorscale": {
           "diverging": [
            [
             0,
             "#8e0152"
            ],
            [
             0.1,
             "#c51b7d"
            ],
            [
             0.2,
             "#de77ae"
            ],
            [
             0.3,
             "#f1b6da"
            ],
            [
             0.4,
             "#fde0ef"
            ],
            [
             0.5,
             "#f7f7f7"
            ],
            [
             0.6,
             "#e6f5d0"
            ],
            [
             0.7,
             "#b8e186"
            ],
            [
             0.8,
             "#7fbc41"
            ],
            [
             0.9,
             "#4d9221"
            ],
            [
             1,
             "#276419"
            ]
           ],
           "sequential": [
            [
             0,
             "#0d0887"
            ],
            [
             0.1111111111111111,
             "#46039f"
            ],
            [
             0.2222222222222222,
             "#7201a8"
            ],
            [
             0.3333333333333333,
             "#9c179e"
            ],
            [
             0.4444444444444444,
             "#bd3786"
            ],
            [
             0.5555555555555556,
             "#d8576b"
            ],
            [
             0.6666666666666666,
             "#ed7953"
            ],
            [
             0.7777777777777778,
             "#fb9f3a"
            ],
            [
             0.8888888888888888,
             "#fdca26"
            ],
            [
             1,
             "#f0f921"
            ]
           ],
           "sequentialminus": [
            [
             0,
             "#0d0887"
            ],
            [
             0.1111111111111111,
             "#46039f"
            ],
            [
             0.2222222222222222,
             "#7201a8"
            ],
            [
             0.3333333333333333,
             "#9c179e"
            ],
            [
             0.4444444444444444,
             "#bd3786"
            ],
            [
             0.5555555555555556,
             "#d8576b"
            ],
            [
             0.6666666666666666,
             "#ed7953"
            ],
            [
             0.7777777777777778,
             "#fb9f3a"
            ],
            [
             0.8888888888888888,
             "#fdca26"
            ],
            [
             1,
             "#f0f921"
            ]
           ]
          },
          "colorway": [
           "#636efa",
           "#EF553B",
           "#00cc96",
           "#ab63fa",
           "#FFA15A",
           "#19d3f3",
           "#FF6692",
           "#B6E880",
           "#FF97FF",
           "#FECB52"
          ],
          "font": {
           "color": "#2a3f5f"
          },
          "geo": {
           "bgcolor": "white",
           "lakecolor": "white",
           "landcolor": "#E5ECF6",
           "showlakes": true,
           "showland": true,
           "subunitcolor": "white"
          },
          "hoverlabel": {
           "align": "left"
          },
          "hovermode": "closest",
          "mapbox": {
           "style": "light"
          },
          "paper_bgcolor": "white",
          "plot_bgcolor": "#E5ECF6",
          "polar": {
           "angularaxis": {
            "gridcolor": "white",
            "linecolor": "white",
            "ticks": ""
           },
           "bgcolor": "#E5ECF6",
           "radialaxis": {
            "gridcolor": "white",
            "linecolor": "white",
            "ticks": ""
           }
          },
          "scene": {
           "xaxis": {
            "backgroundcolor": "#E5ECF6",
            "gridcolor": "white",
            "gridwidth": 2,
            "linecolor": "white",
            "showbackground": true,
            "ticks": "",
            "zerolinecolor": "white"
           },
           "yaxis": {
            "backgroundcolor": "#E5ECF6",
            "gridcolor": "white",
            "gridwidth": 2,
            "linecolor": "white",
            "showbackground": true,
            "ticks": "",
            "zerolinecolor": "white"
           },
           "zaxis": {
            "backgroundcolor": "#E5ECF6",
            "gridcolor": "white",
            "gridwidth": 2,
            "linecolor": "white",
            "showbackground": true,
            "ticks": "",
            "zerolinecolor": "white"
           }
          },
          "shapedefaults": {
           "line": {
            "color": "#2a3f5f"
           }
          },
          "ternary": {
           "aaxis": {
            "gridcolor": "white",
            "linecolor": "white",
            "ticks": ""
           },
           "baxis": {
            "gridcolor": "white",
            "linecolor": "white",
            "ticks": ""
           },
           "bgcolor": "#E5ECF6",
           "caxis": {
            "gridcolor": "white",
            "linecolor": "white",
            "ticks": ""
           }
          },
          "title": {
           "x": 0.05
          },
          "xaxis": {
           "automargin": true,
           "gridcolor": "white",
           "linecolor": "white",
           "ticks": "",
           "title": {
            "standoff": 15
           },
           "zerolinecolor": "white",
           "zerolinewidth": 2
          },
          "yaxis": {
           "automargin": true,
           "gridcolor": "white",
           "linecolor": "white",
           "ticks": "",
           "title": {
            "standoff": 15
           },
           "zerolinecolor": "white",
           "zerolinewidth": 2
          }
         }
        },
        "title": {
         "text": "Interactive Plot of Song Embeddings"
        },
        "xaxis": {
         "title": {
          "text": "TSNE 1"
         }
        },
        "yaxis": {
         "title": {
          "text": "TSNE 2"
         }
        }
       }
      }
     },
     "metadata": {},
     "output_type": "display_data"
    }
   ],
   "source": [
    "# Reducing with TSNE down to two dimensions to see if we can visually assess any separation?\n",
    "tsne = TSNE(n_components=2, random_state=256)\n",
    "embeddings_tsne_2d = tsne.fit_transform(reduced_UMAP)\n",
    "\n",
    "plot_embeddings_interactive(embeddings_tsne_2d)"
   ]
  },
  {
   "cell_type": "code",
   "execution_count": 7,
   "metadata": {},
   "outputs": [],
   "source": [
    "k = 15\n",
    "kmeans = KMeans(n_clusters=k, random_state=256, n_init=10).fit(embeddings)\n",
    "lyrics['cluster_assignment'] = kmeans.labels_"
   ]
  },
  {
   "cell_type": "code",
   "execution_count": 8,
   "metadata": {},
   "outputs": [
    {
     "name": "stdout",
     "output_type": "stream",
     "text": [
      "Cluster 0: 41 members (12.54%)\n",
      "Cluster 1: 26 members (7.95%)\n",
      "Cluster 2: 9 members (2.75%)\n",
      "Cluster 3: 26 members (7.95%)\n",
      "Cluster 4: 5 members (1.53%)\n",
      "Cluster 5: 28 members (8.56%)\n",
      "Cluster 6: 21 members (6.42%)\n",
      "Cluster 7: 20 members (6.12%)\n",
      "Cluster 8: 34 members (10.40%)\n",
      "Cluster 9: 24 members (7.34%)\n",
      "Cluster 10: 31 members (9.48%)\n",
      "Cluster 11: 9 members (2.75%)\n",
      "Cluster 12: 20 members (6.12%)\n",
      "Cluster 13: 7 members (2.14%)\n",
      "Cluster 14: 26 members (7.95%)\n"
     ]
    },
    {
     "data": {
      "image/png": "[encoded data removed]",
      "text/plain": [
       "<Figure size 1000x600 with 1 Axes>"
      ]
     },
     "metadata": {},
     "output_type": "display_data"
    }
   ],
   "source": [
    "cluster_sizes = Counter(lyrics['cluster_assignment'])\n",
    "\n",
    "sorted_cluster_sizes = dict(sorted(cluster_sizes.items()))\n",
    "\n",
    "total_items = sum(sorted_cluster_sizes.values())\n",
    "for label, size in sorted_cluster_sizes.items():\n",
    "    percentage = (size / total_items) * 100\n",
    "    print(f\"Cluster {label}: {size} members ({percentage:.2f}%)\")\n",
    "\n",
    "labels, sizes = zip(*sorted(cluster_sizes.items()))\n",
    "\n",
    "plt.figure(figsize=(10, 6))\n",
    "plt.bar(labels, sizes, color='skyblue')\n",
    "plt.title('Distribution of Cluster Sizes')\n",
    "plt.xlabel('Cluster Number')\n",
    "plt.ylabel('Size')\n",
    "plt.xticks(labels)\n",
    "plt.show()"
   ]
  },
  {
   "cell_type": "code",
   "execution_count": 9,
   "metadata": {},
   "outputs": [
    {
     "data": {
      "image/png": "[encoded data removed]",
      "text/plain": [
       "<Figure size 1200x600 with 1 Axes>"
      ]
     },
     "metadata": {},
     "output_type": "display_data"
    },
    {
     "data": {
      "image/png": "[encoded data removed]",
      "text/plain": [
       "<Figure size 1200x600 with 1 Axes>"
      ]
     },
     "metadata": {},
     "output_type": "display_data"
    }
   ],
   "source": [
    "c = 5\n",
    "cluster = lyrics[lyrics[\"cluster_assignment\"] == c].copy()\n",
    "\n",
    "plt.figure(figsize=(12, 6))\n",
    "album_name_counts = cluster['album_name'].value_counts()\n",
    "plt.bar(album_name_counts.index, album_name_counts.values)\n",
    "plt.xlabel('Album Name')\n",
    "plt.ylabel('Frequency')\n",
    "plt.title('Distribution of Album Names in Cluster')\n",
    "plt.xticks(rotation=90)\n",
    "plt.tight_layout()\n",
    "plt.show()\n",
    "\n",
    "plt.figure(figsize=(12, 6))\n",
    "\n",
    "# Handling NaN values by categorizing them as >100\n",
    "peak_pos_counts = cluster['peak_pos_bucketed'].value_counts().sort_index()\n",
    "\n",
    "plt.bar(peak_pos_counts.index, peak_pos_counts.values)\n",
    "plt.xlabel('Peak Position Bucket')\n",
    "plt.ylabel('Frequency')\n",
    "plt.title('Distribution of Peak Positions in Cluster')\n",
    "plt.xticks(rotation=45)\n",
    "plt.tight_layout()\n",
    "plt.show()"
   ]
  },
  {
   "cell_type": "code",
   "execution_count": 10,
   "metadata": {},
   "outputs": [
    {
     "data": {
      "image/png": "[encoded data removed]",
      "text/plain": [
       "<Figure size 2400x600 with 2 Axes>"
      ]
     },
     "metadata": {},
     "output_type": "display_data"
    }
   ],
   "source": [
    "fig, ax = plt.subplots(1, 2, figsize=(24, 6))\n",
    "\n",
    "# Distribution of Album Names\n",
    "album_name_counts = lyrics['album_name'].value_counts()\n",
    "ax[0].bar(album_name_counts.index, album_name_counts.values, color='skyblue')\n",
    "ax[0].set_xlabel('Album Name')\n",
    "ax[0].set_ylabel('Frequency')\n",
    "ax[0].set_title('Distribution of Album Names')\n",
    "ax[0].tick_params(axis='x', rotation=90)\n",
    "\n",
    "# Distribution of Peak Position Buckets\n",
    "peak_pos_counts = lyrics['peak_pos_bucketed'].value_counts().sort_index()\n",
    "ax[1].bar(peak_pos_counts.index, peak_pos_counts.values, color='coral')\n",
    "ax[1].set_xlabel('Peak Position Bucket')\n",
    "ax[1].set_ylabel('Frequency')\n",
    "ax[1].set_title('Distribution of Peak Positions')\n",
    "ax[1].tick_params(axis='x', rotation=45)\n",
    "\n",
    "plt.tight_layout()\n",
    "plt.show()"
   ]
  },
  {
   "cell_type": "code",
   "execution_count": 11,
   "metadata": {},
   "outputs": [],
   "source": [
    "# Convert latent embedding to something that is readable when we load the csv\n",
    "lyrics['latent_embedding'] = lyrics['latent_embedding'].apply(lambda x: [t.item() for t in x])\n",
    "# No need to run the above line again unless you re-encode the songs\n",
    "lyrics.to_csv(\"../data/lyrics.csv\", index=False)"
   ]
  }
 ],
 "metadata": {
  "kernelspec": {
   "display_name": "Python 3",
   "language": "python",
   "name": "python3"
  },
  "language_info": {
   "codemirror_mode": {
    "name": "ipython",
    "version": 3
   },
   "file_extension": ".py",
   "mimetype": "text/x-python",
   "name": "python",
   "nbconvert_exporter": "python",
   "pygments_lexer": "ipython3",
   "version": "3.10.2"
  }
 },
 "nbformat": 4,
 "nbformat_minor": 2
}
