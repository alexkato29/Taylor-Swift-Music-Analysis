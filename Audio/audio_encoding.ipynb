{
 "cells": [
  {
   "cell_type": "code",
   "execution_count": 1,
   "metadata": {},
   "outputs": [
    {
     "name": "stderr",
     "output_type": "stream",
     "text": [
      "2024-04-23 13:37:17.863693: I tensorflow/core/platform/cpu_feature_guard.cc:182] This TensorFlow binary is optimized to use available CPU instructions in performance-critical operations.\n",
      "To enable the following instructions: AVX2 FMA, in other operations, rebuild TensorFlow with the appropriate compiler flags.\n"
     ]
    }
   ],
   "source": [
    "import numpy as np\n",
    "import pandas as pd\n",
    "from collections import Counter\n",
    "\n",
    "import matplotlib.pyplot as plt\n",
    "import plotly.graph_objects as go\n",
    "\n",
    "import torch\n",
    "\n",
    "from sklearn.cluster import KMeans\n",
    "\n",
    "import umap\n",
    "from sklearn.manifold import TSNE"
   ]
  },
  {
   "cell_type": "code",
   "execution_count": 2,
   "metadata": {},
   "outputs": [],
   "source": [
    "audio = pd.read_csv(\"../data/audio.csv\")\n",
    "\n",
    "def list_to_tensor(lst):\n",
    "    if lst is not None:\n",
    "        return torch.tensor([float(x) for x in lst.strip(\"[]\").split(\",\") if x])\n",
    "    else:\n",
    "        return None\n",
    "\n",
    "# Convert the 'latent_audio' column back to tensors\n",
    "audio['latent_audio'] = audio['latent_audio'].apply(lambda x: list_to_tensor(x) if pd.notnull(x) else None)"
   ]
  },
  {
   "cell_type": "code",
   "execution_count": 3,
   "metadata": {},
   "outputs": [],
   "source": [
    "def plot_embeddings_interactive(embeddings, df, target_album=None, target_bucket=None):\n",
    "    \"\"\"\n",
    "    This is a function so we can see if there are patterns among different buckets of billboard scores.\n",
    "    It's a bit dizzying to look at everything overlaid...\n",
    "\n",
    "    This plot is interactive to make encoding EDA not as painful\n",
    "    \"\"\"\n",
    "    unique_albums = df['album_name'].unique()\n",
    "    album_colors = plt.cm.rainbow(np.linspace(0, 1, len(unique_albums)))\n",
    "    album_color_map = {album: f'rgb({int(col[0]*255)}, {int(col[1]*255)}, {int(col[2]*255)})' for album, col in zip(unique_albums, album_colors)}\n",
    "\n",
    "    s = \"cluster_assignment\"\n",
    "    unique_buckets = df[s].unique()\n",
    "    peak_pos_colors = plt.cm.Spectral(np.linspace(0, 1, len(unique_buckets)))\n",
    "    peak_pos_color_map = {bucket: f'rgb({int(col[0]*255)}, {int(col[1]*255)}, {int(col[2]*255)})' for bucket, col in zip(unique_buckets, peak_pos_colors)}\n",
    "\n",
    "    fig = go.Figure()\n",
    "\n",
    "    # Ensuring embeddings_2d is a NumPy array for indexing\n",
    "    embeddings_2d_np = np.array(embeddings)\n",
    "\n",
    "    # Add traces for album names\n",
    "    for album in unique_albums:\n",
    "        if target_album is not None and target_album != album:\n",
    "            continue\n",
    "        idx = df['album_name'] == album\n",
    "        selected_embeddings = embeddings_2d_np[idx]\n",
    "        fig.add_trace(go.Scatter(x=selected_embeddings[:, 0], y=selected_embeddings[:, 1],\n",
    "                                 mode='markers', marker=dict(color=album_color_map[album], opacity=0.7 if target_album is None or target_album == album else 0.2),\n",
    "                                 name=album, text=df[idx]['track_name']))\n",
    "\n",
    "    # Add traces for peak position buckets, set to be initially hidden (visible on legend click)\n",
    "    for bucket in unique_buckets:\n",
    "        if target_bucket is not None and target_bucket != bucket:\n",
    "            continue\n",
    "        idx = df[s] == bucket\n",
    "        selected_embeddings = embeddings_2d_np[idx]\n",
    "        fig.add_trace(go.Scatter(x=selected_embeddings[:, 0], y=selected_embeddings[:, 1],\n",
    "                                 mode='markers', marker=dict(color=peak_pos_color_map[bucket], opacity=0.7 if target_bucket is None or target_bucket == bucket else 0.2),\n",
    "                                 name=str(bucket), text=df[idx]['track_name'],\n",
    "                                 visible='legendonly'))\n",
    "\n",
    "    fig.update_layout(title='Interactive Plot of Song Embeddings',\n",
    "                      xaxis_title='TSNE 1',\n",
    "                      yaxis_title='TSNE 2',\n",
    "                      legend_title_text='Legend',\n",
    "                      hovermode='closest')\n",
    "\n",
    "    fig.show()"
   ]
  },
  {
   "cell_type": "code",
   "execution_count": 4,
   "metadata": {},
   "outputs": [],
   "source": [
    "embedding_dim = 768\n",
    "embeddings = np.array([embedding.flatten() if embedding is not None else np.zeros(embedding_dim) for embedding in audio['latent_audio']])"
   ]
  },
  {
   "cell_type": "code",
   "execution_count": 5,
   "metadata": {},
   "outputs": [
    {
     "name": "stderr",
     "output_type": "stream",
     "text": [
      "/Library/Frameworks/Python.framework/Versions/3.10/lib/python3.10/site-packages/umap/umap_.py:1943: UserWarning: n_jobs value -1 overridden to 1 by setting random_state. Use no seed for parallelism.\n",
      "  warn(f\"n_jobs value {self.n_jobs} overridden to 1 by setting random_state. Use no seed for parallelism.\")\n"
     ]
    }
   ],
   "source": [
    "ndims = 40\n",
    "umap_reducer = umap.UMAP(n_components=ndims, random_state=256)\n",
    "reduced_UMAP = umap_reducer.fit_transform(embeddings)"
   ]
  },
  {
   "cell_type": "code",
   "execution_count": 6,
   "metadata": {},
   "outputs": [
    {
     "data": {
      "application/vnd.plotly.v1+json": {
       "config": {
        "plotlyServerURL": "https://plot.ly"
       },
       "data": [
        {
         "marker": {
          "color": "rgb(127, 0, 255)",
          "opacity": 0.7
         },
         "mode": "markers",
         "name": "reputation",
         "text": [
          "...Ready For It?",
          "Call It What You Want",
          "Dancing With Our Hands Tied",
          "Delicate",
          "Don't Blame Me",
          "Dress",
          "End Game",
          "Getaway Car",
          "Gorgeous",
          "I Did Something Bad",
          "King Of My Heart",
          "Look What You Made Me Do",
          "New Year's Day",
          "So It Goes...",
          "This Is Why We Can't Have Nice Things"
         ],
         "type": "scatter",
         "x": [
          -1.37330961227417,
          -8.210262298583984,
          -5.935607433319092,
          -1.2388837337493896,
          -6.225342273712158,
          -10.925427436828613,
          12.912749290466309,
          10.209587097167969,
          -11.039345741271973,
          10.55580997467041,
          -6.031784534454346,
          10.653042793273926,
          -14.12110424041748,
          0.7037891149520874,
          -9.93532657623291
         ],
         "y": [
          -9.807506561279297,
          -9.513614654541016,
          -8.813295364379883,
          -11.352120399475098,
          -12.082259178161621,
          -3.5995330810546875,
          -4.498360633850098,
          -1.6520757675170898,
          -10.219375610351562,
          -2.4205310344696045,
          -12.526652336120605,
          -2.1628265380859375,
          8.928544044494629,
          9.60948657989502,
          8.960335731506348
         ]
        },
        {
         "marker": {
          "color": "rgb(95, 49, 253)",
          "opacity": 0.7
         },
         "mode": "markers",
         "name": "evermore",
         "text": [
          "'tis the damn season",
          "champagne problems",
          "closure",
          "coney island",
          "cowboy like me",
          "dorothea",
          "evermore",
          "gold rush",
          "happiness",
          "it's time to go",
          "ivy",
          "long story short",
          "marjorie",
          "no body, no crime",
          "right where you left me",
          "tolerate it",
          "willow"
         ],
         "type": "scatter",
         "x": [
          13.600905418395996,
          8.0919771194458,
          -13.868878364562988,
          -14.30394172668457,
          -11.6123628616333,
          0.5658310651779175,
          8.452840805053711,
          8.748405456542969,
          -12.865791320800781,
          -13.400175094604492,
          -12.964385032653809,
          -6.739874362945557,
          -11.413444519042969,
          -2.1787641048431396,
          8.705584526062012,
          -11.995071411132812,
          -11.569985389709473
         ],
         "y": [
          1.9553982019424438,
          4.423562049865723,
          10.02038860321045,
          10.185918807983398,
          6.464216232299805,
          -8.917009353637695,
          5.181754112243652,
          -4.793994903564453,
          -3.085519313812256,
          10.530094146728516,
          5.4524245262146,
          -8.635749816894531,
          -4.203527927398682,
          -11.61163330078125,
          -4.548676490783691,
          8.553380966186523,
          -9.421181678771973
         ]
        },
        {
         "marker": {
          "color": "rgb(63, 97, 250)",
          "opacity": 0.7
         },
         "mode": "markers",
         "name": "1989 (Taylor's Version)",
         "text": [
          "\"Slut!\" (Taylor's Version) [From The Vault]",
          "All You Had To Do Was Stay (Taylor's Version)",
          "Bad Blood (Remix) [Taylor's Version]",
          "Bad Blood (Taylor's Version)",
          "Blank Space (Taylor's Version)",
          "Clean (Taylor's Version)",
          "How You Get The Girl (Taylor's Version)",
          "I Know Places (Taylor's Version)",
          "I Wish You Would (Taylor's Version)",
          "Is It Over Now? (Taylor's Version) [From The Vault]",
          "New Romantics (Taylor's Version)",
          "Now That We Don't Talk (Taylor's Version) [From The Vault]",
          "Out Of The Woods (Taylor's Version)",
          "Say Don't Go (Taylor's Version) [From The Vault]",
          "Shake It Off (Taylor's Version)",
          "Style (Taylor's Version)",
          "Suburban Legends (Taylor's Version) [From The Vault]",
          "Sweeter Than Fiction (Taylor's Version)",
          "This Love (Taylor's Version)",
          "Welcome To New York (Taylor's Version)",
          "Wildest Dreams (Taylor's Version)",
          "Wonderland (Taylor's Version)",
          "You Are In Love (Taylor's Version)"
         ],
         "type": "scatter",
         "x": [
          -3.9671130180358887,
          18.30305290222168,
          -6.784209728240967,
          -5.412980556488037,
          -8.196043014526367,
          10.697213172912598,
          -9.685216903686523,
          14.10587215423584,
          2.165363311767578,
          -9.988973617553711,
          -4.036023139953613,
          4.973002910614014,
          15.786349296569824,
          -10.801841735839844,
          2.3209540843963623,
          -1.2549927234649658,
          4.12070894241333,
          12.878790855407715,
          -10.40364933013916,
          -4.593881130218506,
          13.405257225036621,
          1.6019436120986938,
          -13.748106002807617
         ],
         "y": [
          -11.505532264709473,
          4.536459445953369,
          -12.40023136138916,
          -12.181595802307129,
          -11.762313842773438,
          -2.6008033752441406,
          8.972344398498535,
          3.1797332763671875,
          8.678557395935059,
          -10.682069778442383,
          9.606175422668457,
          -7.573320388793945,
          4.03550386428833,
          7.253529071807861,
          9.448221206665039,
          -11.735881805419922,
          -9.249615669250488,
          -4.675885200500488,
          -6.35490083694458,
          -11.777322769165039,
          3.9976329803466797,
          9.371834754943848,
          10.703084945678711
         ]
        },
        {
         "marker": {
          "color": "rgb(31, 142, 243)",
          "opacity": 0.7
         },
         "mode": "markers",
         "name": "Red",
         "text": [
          "22",
          "All Too Well",
          "Begin Again",
          "Come Back...Be Here",
          "Everything Has Changed",
          "Girl At Home",
          "Holy Ground",
          "I Almost Do",
          "I Knew You Were Trouble",
          "Red",
          "Red (Original Demo Recording)",
          "Sad Beautiful Tragic",
          "Starlight",
          "State Of Grace",
          "State Of Grace (Acoustic Version)",
          "Stay Stay Stay",
          "The Last Time",
          "The Lucky One",
          "The Moment I Knew",
          "Treacherous",
          "Treacherous (Original Demo Recording)",
          "We Are Never Ever Getting Back Together"
         ],
         "type": "scatter",
         "x": [
          -3.807241201400757,
          -4.515919208526611,
          7.921637058258057,
          10.705153465270996,
          6.923664093017578,
          19.218908309936523,
          9.511859893798828,
          -0.577079176902771,
          4.455359935760498,
          21.14443016052246,
          13.284889221191406,
          -9.277583122253418,
          8.334981918334961,
          9.589674949645996,
          -10.691144943237305,
          13.935744285583496,
          -3.5563743114471436,
          20.11363410949707,
          -12.148772239685059,
          2.4536430835723877,
          13.19920539855957,
          -0.400925874710083
         ],
         "y": [
          10.381290435791016,
          9.557743072509766,
          4.687380790710449,
          5.781468868255615,
          6.4408135414123535,
          3.837738275527954,
          5.42780876159668,
          9.942428588867188,
          -9.983513832092285,
          5.4050984382629395,
          -4.314830780029297,
          8.179414749145508,
          -5.7827630043029785,
          6.135200500488281,
          5.460024833679199,
          2.768824577331543,
          9.571386337280273,
          3.6911473274230957,
          -3.0843770503997803,
          9.230629920959473,
          -4.880037784576416,
          -10.378500938415527
         ]
        },
        {
         "marker": {
          "color": "rgb(0, 180, 235)",
          "opacity": 0.7
         },
         "mode": "markers",
         "name": "Red (Taylor's Version)",
         "text": [
          "22 (Taylor's Version)",
          "All Too Well (10 Minute Version) [Taylor's Version] [From The Vault]",
          "All Too Well (Taylor's Version)",
          "Babe (Taylor's Version) [From The Vault]",
          "Begin Again (Taylor's Version)",
          "Better Man (Taylor's Version) [From The Vault]",
          "Come Back...Be Here (Taylor's Version)",
          "Everything Has Changed (Taylor's Version)",
          "Forever Winter (Taylor's Version) [From The Vault]",
          "Girl At Home (Taylor's Version)",
          "Holy Ground (Taylor's Version)",
          "I Almost Do (Taylor's Version)",
          "I Bet You Think About Me (Taylor's Version) [From The Vault]",
          "I Knew You Were Trouble (Taylor's Version)",
          "Message In A Bottle (Taylor's Version) [From The Vault]",
          "Nothing New (Taylor's Version) [From The Vault]",
          "Red (Taylor's Version)",
          "Ronan (Taylor's Version)",
          "Run (Taylor's Version) [From The Vault]",
          "Sad Beautiful Tragic (Taylor's Version)",
          "Starlight (Taylor's Version)",
          "State Of Grace (Acoustic Version) [Taylor's Version]",
          "State Of Grace (Taylor's Version)",
          "Stay Stay Stay (Taylor's Version)",
          "The Last Time (Taylor's Version)",
          "The Lucky One (Taylor's Version)",
          "The Moment I Knew (Taylor's Version)",
          "The Very First Night (Taylor's Version) [From The Vault]",
          "Treacherous (Taylor's Version)",
          "We Are Never Ever Getting Back Together (Taylor's Version)"
         ],
         "type": "scatter",
         "x": [
          -3.735929250717163,
          -3.1865055561065674,
          -4.783659934997559,
          8.315474510192871,
          8.456509590148926,
          3.844146251678467,
          10.793405532836914,
          6.986034870147705,
          10.879125595092773,
          19.3572998046875,
          9.768649101257324,
          -0.44286566972732544,
          -1.9467076063156128,
          4.667202472686768,
          8.27805233001709,
          -11.02939224243164,
          20.935800552368164,
          -14.57650089263916,
          -12.048906326293945,
          -9.447484970092773,
          8.38609504699707,
          -10.619852066040039,
          9.21456527709961,
          14.100227355957031,
          -3.365408420562744,
          20.18339729309082,
          -12.035191535949707,
          -0.3365686237812042,
          2.7221765518188477,
          -0.6473339796066284
         ],
         "y": [
          10.392555236816406,
          -11.181896209716797,
          10.017019271850586,
          5.5540289878845215,
          4.852311611175537,
          -7.393093109130859,
          5.722553253173828,
          6.355495452880859,
          5.423551559448242,
          3.550567150115967,
          5.27542781829834,
          9.444998741149902,
          9.88758373260498,
          -9.42560863494873,
          6.008594512939453,
          -3.60467791557312,
          5.496203422546387,
          9.150230407714844,
          6.581368446350098,
          8.030354499816895,
          -5.607371807098389,
          5.583898067474365,
          6.217302322387695,
          2.6146621704101562,
          9.614880561828613,
          3.3767049312591553,
          -2.8486809730529785,
          -9.496533393859863,
          9.152466773986816,
          -10.534200668334961
         ]
        },
        {
         "marker": {
          "color": "rgb(32, 212, 224)",
          "opacity": 0.7
         },
         "mode": "markers",
         "name": "Taylor Swift",
         "text": [
          "A Perfectly Good Heart",
          "A Place In This World",
          "Cold As You",
          "I'm Only Me When I'm With You",
          "I'm Only Me When I'm With You",
          "Invisible",
          "Mary's Song (Oh My My My)",
          "Our Song",
          "Picture To Burn",
          "Should've Said No",
          "Stay Beautiful",
          "Teardrops On My Guitar",
          "Teardrops On My Guitar (Pop Version)",
          "The Outside",
          "Tied Together With A Smile",
          "Tim McGraw"
         ],
         "type": "scatter",
         "x": [
          -4.955780029296875,
          -8.245399475097656,
          7.558688640594482,
          -4.9802565574646,
          -5.103453636169434,
          -12.367773056030273,
          -0.1861163079738617,
          13.097429275512695,
          8.175429344177246,
          -11.17424201965332,
          16.276504516601562,
          -6.297052383422852,
          -11.01693058013916,
          4.71163272857666,
          -4.66229772567749,
          -7.119119644165039
         ],
         "y": [
          9.75700855255127,
          9.033766746520996,
          -6.176255226135254,
          -7.006817817687988,
          -7.053248405456543,
          -7.580348014831543,
          -8.912858963012695,
          -4.336127758026123,
          -6.366244316101074,
          6.015754699707031,
          3.9888525009155273,
          -10.27873706817627,
          7.599287986755371,
          -8.279770851135254,
          -12.308869361877441,
          -9.238051414489746
         ]
        },
        {
         "marker": {
          "color": "rgb(64, 236, 211)",
          "opacity": 0.7
         },
         "mode": "markers",
         "name": "Lover",
         "text": [
          "Afterglow",
          "Cornelia Street",
          "Cruel Summer",
          "Daylight",
          "Death By A Thousand Cuts",
          "False God",
          "I Forgot That You Existed",
          "I Think He Knows",
          "It's Nice To Have A Friend",
          "London Boy",
          "Lover",
          "ME!",
          "Miss Americana & The Heartbreak Prince",
          "Paper Rings",
          "Soon You'll Get Better",
          "The Archer",
          "The Man",
          "You Need To Calm Down"
         ],
         "type": "scatter",
         "x": [
          -11.621193885803223,
          -8.797776222229004,
          20.370073318481445,
          8.872452735900879,
          -7.337822914123535,
          -12.514286041259766,
          -14.659500122070312,
          -9.287798881530762,
          -11.214604377746582,
          5.048120498657227,
          -9.05440616607666,
          10.089277267456055,
          9.940449714660645,
          5.360517501831055,
          -9.807143211364746,
          -11.744211196899414,
          10.916443824768066,
          -9.291159629821777
         ],
         "y": [
          7.231712341308594,
          -10.880922317504883,
          5.059384822845459,
          5.96022367477417,
          -12.12260913848877,
          8.013476371765137,
          9.678426742553711,
          -11.285390853881836,
          -5.335153579711914,
          -6.564382553100586,
          8.6368989944458,
          -3.050231456756592,
          -3.1536262035369873,
          -7.614887237548828,
          -7.248100757598877,
          -4.720943450927734,
          -1.6539703607559204,
          -11.267276763916016
         ]
        },
        {
         "marker": {
          "color": "rgb(96, 250, 196)",
          "opacity": 0.7
         },
         "mode": "markers",
         "name": "nan",
         "text": [],
         "type": "scatter",
         "x": [],
         "y": []
        },
        {
         "marker": {
          "color": "rgb(128, 254, 179)",
          "opacity": 0.7
         },
         "mode": "markers",
         "name": "1989",
         "text": [
          "All You Had To Do Was Stay",
          "Bad Blood",
          "Blank Space",
          "Clean",
          "How You Get The Girl",
          "I Know Places",
          "I Wish You Would",
          "New Romantics",
          "Out Of The Woods",
          "Shake It Off",
          "Style",
          "This Love",
          "Welcome To New York",
          "Wildest Dreams",
          "Wonderland",
          "You Are In Love"
         ],
         "type": "scatter",
         "x": [
          17.994953155517578,
          -5.468176364898682,
          -8.698384284973145,
          -7.333608150482178,
          -9.476630210876465,
          14.010200500488281,
          2.07548189163208,
          -4.322015762329102,
          16.04230499267578,
          2.327756881713867,
          -1.3086735010147095,
          -10.639277458190918,
          -4.710607528686523,
          13.432720184326172,
          1.7506957054138184,
          -13.934674263000488
         ],
         "y": [
          4.391685485839844,
          -12.301752090454102,
          -11.597357749938965,
          -8.655495643615723,
          8.743975639343262,
          3.2710530757904053,
          8.693506240844727,
          10.35993480682373,
          4.245743751525879,
          9.379378318786621,
          -11.610469818115234,
          -6.174683094024658,
          -11.969681739807129,
          3.9279651641845703,
          9.370622634887695,
          11.066866874694824
         ]
        },
        {
         "marker": {
          "color": "rgb(160, 249, 161)",
          "opacity": 0.7
         },
         "mode": "markers",
         "name": "Midnights",
         "text": [
          "Anti-Hero",
          "Bejeweled",
          "Bigger Than The Whole Sky",
          "Dear Reader",
          "Glitch",
          "High Infidelity",
          "Hits Different",
          "Karma",
          "Karma (Remix)",
          "Labyrinth",
          "Lavender Haze",
          "Maroon",
          "Mastermind",
          "Midnight Rain",
          "Paris",
          "Question...?",
          "Snow On The Beach",
          "Snow On The Beach (More Lana Del Rey)",
          "Sweet Nothing",
          "Sweet Nothing (Piano Remix)",
          "The Great War",
          "Vigilante Shit",
          "Would've, Could've, Should've",
          "You're Losing Me (From The Vault)",
          "You're On Your Own, Kid",
          "You're On Your Own, Kid (Strings Remix)"
         ],
         "type": "scatter",
         "x": [
          10.536494255065918,
          -2.2676477432250977,
          -11.95309066772461,
          -14.671035766601562,
          -9.315176010131836,
          -10.755749702453613,
          19.98672103881836,
          5.52484130859375,
          9.378812789916992,
          8.528779983520508,
          -7.752572536468506,
          -14.234604835510254,
          -14.02824878692627,
          -11.874719619750977,
          10.185392379760742,
          -14.988239288330078,
          -11.446711540222168,
          -8.553277015686035,
          -11.803699493408203,
          -11.763472557067871,
          18.765644073486328,
          -13.419534683227539,
          20.02956199645996,
          -10.9425048828125,
          -11.023563385009766,
          -5.84175968170166
         ],
         "y": [
          -1.023718237876892,
          -10.976434707641602,
          -4.480001449584961,
          10.258857727050781,
          -10.415882110595703,
          -10.1355619430542,
          3.2965924739837646,
          -6.425111770629883,
          -3.818950653076172,
          4.734474182128906,
          -11.791717529296875,
          10.88723373413086,
          9.588357925415039,
          -9.655355453491211,
          -2.171722412109375,
          8.928363800048828,
          9.834120750427246,
          -9.04813003540039,
          -9.317452430725098,
          -9.957085609436035,
          3.1414783000946045,
          10.887978553771973,
          3.282778739929199,
          -9.344053268432617,
          -9.899252891540527,
          -10.334712028503418
         ]
        },
        {
         "marker": {
          "color": "rgb(192, 234, 140)",
          "opacity": 0.7
         },
         "mode": "markers",
         "name": "folklore",
         "text": [
          "august",
          "betty",
          "cardigan",
          "epiphany",
          "exile",
          "hoax",
          "illicit affairs",
          "invisible string",
          "mad woman",
          "mirrorball",
          "my tears ricochet",
          "peace",
          "seven",
          "the 1",
          "the lakes",
          "the last great american dynasty",
          "this is me trying"
         ],
         "type": "scatter",
         "x": [
          -10.265926361083984,
          14.184447288513184,
          -11.37113094329834,
          21.297595977783203,
          -12.45927906036377,
          -14.826566696166992,
          -12.430294036865234,
          -13.47714614868164,
          -8.602004051208496,
          20.037385940551758,
          7.095906734466553,
          -13.838981628417969,
          -11.49001407623291,
          -14.612531661987305,
          -12.45361614227295,
          -11.452916145324707,
          4.09279203414917
         ],
         "y": [
          -6.613118648529053,
          2.0736966133117676,
          -1.2906785011291504,
          4.98600959777832,
          -4.02541971206665,
          10.017685890197754,
          -8.678441047668457,
          5.578546524047852,
          -8.83936882019043,
          4.1182732582092285,
          -6.257778644561768,
          7.545657157897949,
          -4.1520586013793945,
          10.664758682250977,
          -7.804928302764893,
          8.521665573120117,
          -6.801442623138428
         ]
        },
        {
         "marker": {
          "color": "rgb(224, 210, 119)",
          "opacity": 0.7
         },
         "mode": "markers",
         "name": "Speak Now",
         "text": [
          "Back To December",
          "Better Than Revenge",
          "Dear John",
          "Enchanted",
          "Haunted",
          "If This Was A Movie",
          "Innocent",
          "Last Kiss",
          "Long Live",
          "Mean",
          "Mine",
          "Never Grow Up",
          "Ours",
          "Sparks Fly",
          "Speak Now",
          "Superman",
          "The Story Of Us"
         ],
         "type": "scatter",
         "x": [
          7.845767498016357,
          3.5836737155914307,
          5.118841648101807,
          -3.0621445178985596,
          -13.25723934173584,
          20.115039825439453,
          -12.059097290039062,
          4.086921691894531,
          0.3517531752586365,
          -7.673745155334473,
          14.63520336151123,
          -12.249114990234375,
          -8.44748592376709,
          0.5925644040107727,
          2.787538528442383,
          7.377112865447998,
          2.1899828910827637
         ],
         "y": [
          -5.15181303024292,
          -9.117033004760742,
          -9.839741706848145,
          10.126200675964355,
          -2.4033203125,
          5.431666851043701,
          -3.483869791030884,
          -7.118414878845215,
          -9.502313613891602,
          9.144207954406738,
          3.528646230697632,
          -7.898265361785889,
          -10.15555477142334,
          -9.316229820251465,
          -9.309150695800781,
          6.3892693519592285,
          -9.407997131347656
         ]
        },
        {
         "marker": {
          "color": "rgb(255, 178, 96)",
          "opacity": 0.7
         },
         "mode": "markers",
         "name": "Speak Now (Taylor's Version)",
         "text": [
          "Back To December (Taylor's Version)",
          "Better Than Revenge (Taylor's Version)",
          "Castles Crumbling (Taylor's Version) [From The Vault]",
          "Dear John (Taylor's Version)",
          "Electric Touch (Taylor's Version) [From The Vault]",
          "Enchanted (Taylor's Version)",
          "Foolish One (Taylor's Version) [From The Vault]",
          "Haunted (Taylor's Version)",
          "I Can See You (Taylor's Version) [From The Vault]",
          "Innocent (Taylor's Version)",
          "Last Kiss (Taylor's Version)",
          "Long Live (Taylor's Version)",
          "Mean (Taylor's Version)",
          "Mine (Taylor's Version)",
          "Never Grow Up (Taylor's Version)",
          "Ours (Taylor's Version)",
          "Sparks Fly (Taylor's Version)",
          "Speak Now (Taylor's Version)",
          "Superman (Taylor's Version)",
          "The Story Of Us (Taylor's Version)",
          "Timeless (Taylor's Version) [From The Vault]",
          "When Emma Falls In Love (Taylor's Version) [From The Vault]"
         ],
         "type": "scatter",
         "x": [
          7.926735877990723,
          3.8018035888671875,
          4.73752498626709,
          4.876450061798096,
          19.512807846069336,
          -3.4017891883850098,
          3.7143394947052,
          -12.910383224487305,
          20.606945037841797,
          -12.054503440856934,
          3.9827346801757812,
          0.3347950577735901,
          -8.089774131774902,
          14.46700382232666,
          -11.873637199401855,
          -8.625585556030273,
          0.5276153087615967,
          2.828836441040039,
          7.37412166595459,
          1.7492942810058594,
          -6.231845378875732,
          -0.08123934268951416
         ],
         "y": [
          -5.06591272354126,
          -9.122797966003418,
          -7.743677139282227,
          -10.034977912902832,
          5.080223560333252,
          10.400423049926758,
          -7.183605194091797,
          -2.4195544719696045,
          5.730347156524658,
          -3.659691333770752,
          -6.852931976318359,
          -9.501157760620117,
          8.959667205810547,
          3.535961389541626,
          -7.982557773590088,
          -10.102153778076172,
          -9.040315628051758,
          -9.255403518676758,
          6.052701473236084,
          -9.445591926574707,
          -7.655584812164307,
          9.930630683898926
         ]
        },
        {
         "marker": {
          "color": "rgb(255, 139, 72)",
          "opacity": 0.7
         },
         "mode": "markers",
         "name": "Beautiful Eyes",
         "text": [
          "Beautiful Eyes",
          "I Heart ?",
          "I'm Only Me When I'm With You",
          "I'm Only Me When I'm With You",
          "Picture To Burn (Radio Edit)",
          "Should've Said No (Alternate Version)",
          "Teardrops On My Guitar (Acoustic Version)"
         ],
         "type": "scatter",
         "x": [
          -13.312614440917969,
          -4.16532564163208,
          -5.295614719390869,
          -5.2652435302734375,
          -2.0354225635528564,
          13.52078914642334,
          -10.321788787841797
         ],
         "y": [
          -2.8221447467803955,
          -7.0960774421691895,
          -7.074659824371338,
          -7.090743064880371,
          9.91354751586914,
          -4.441153049468994,
          7.434200763702393
         ]
        },
        {
         "marker": {
          "color": "rgb(255, 95, 48)",
          "opacity": 0.7
         },
         "mode": "markers",
         "name": "Fearless",
         "text": [
          "Breathe",
          "Change",
          "Come In With The Rain",
          "Fearless",
          "Fifteen",
          "Forever & Always",
          "Forever & Always (Piano Version)",
          "Hey Stephen",
          "Jump Then Fall",
          "Love Story",
          "SuperStar",
          "Tell Me Why",
          "The Best Day",
          "The Other Side Of The Door",
          "The Way I Loved You",
          "Untouchable",
          "White Horse",
          "You Belong With Me",
          "You're Not Sorry"
         ],
         "type": "scatter",
         "x": [
          -13.181327819824219,
          11.178926467895508,
          -12.710951805114746,
          11.185452461242676,
          18.990625381469727,
          -1.0250205993652344,
          7.42461633682251,
          -11.229888916015625,
          -0.24958088994026184,
          18.83444595336914,
          -1.7649811506271362,
          20.59713363647461,
          -10.731236457824707,
          7.635143756866455,
          16.258359909057617,
          20.771568298339844,
          -6.348515510559082,
          11.50027847290039,
          12.649829864501953
         ],
         "y": [
          -2.3291873931884766,
          4.99626350402832,
          -3.829418897628784,
          -0.8470332026481628,
          4.0865912437438965,
          9.837760925292969,
          -5.787498950958252,
          9.249319076538086,
          9.947088241577148,
          4.482906818389893,
          -11.386117935180664,
          4.66829776763916,
          6.536922454833984,
          5.98130464553833,
          4.200235843658447,
          4.620675563812256,
          -8.244293212890625,
          5.41910982131958,
          4.464230537414551
         ]
        },
        {
         "marker": {
          "color": "rgb(255, 46, 23)",
          "opacity": 0.7
         },
         "mode": "markers",
         "name": "Fearless (Taylor's Version)",
         "text": [
          "Breathe (Taylor's Version)",
          "Bye Bye Baby (Taylor's Version) [From The Vault]",
          "Change (Taylor's Version)",
          "Come In With The Rain (Taylor's Version)",
          "Don't You (Taylor's Version) [From The Vault]",
          "Fearless (Taylor's Version)",
          "Fifteen (Taylor's Version)",
          "Forever & Always (Piano Version) [Taylor's Version]",
          "Forever & Always (Taylor's Version)",
          "Hey Stephen (Taylor's Version)",
          "Jump Then Fall (Taylor's Version)",
          "Love Story (Taylor's Version)",
          "Mr. Perfectly Fine (Taylor's Version) [From The Vault]",
          "SuperStar (Taylor's Version)",
          "Tell Me Why (Taylor's Version)",
          "That's When (Taylor's Version) [From The Vault]",
          "The Best Day (Taylor's Version)",
          "The Other Side Of The Door (Taylor's Version)",
          "The Way I Loved You (Taylor's Version)",
          "Today Was A Fairytale (Taylor's Version)",
          "Untouchable (Taylor's Version)",
          "We Were Happy (Taylor's Version) [From The Vault]",
          "White Horse (Taylor's Version)",
          "You All Over Me (Taylor's Version) [From The Vault]",
          "You Belong With Me (Taylor's Version)",
          "You're Not Sorry (Taylor's Version)"
         ],
         "type": "scatter",
         "x": [
          -13.418718338012695,
          4.775540351867676,
          11.298920631408691,
          -12.713077545166016,
          -1.8246116638183594,
          10.90223503112793,
          18.83460235595703,
          7.790019989013672,
          -0.8936884999275208,
          -11.306461334228516,
          -0.10769067704677582,
          18.55567741394043,
          10.879385948181152,
          -1.7909592390060425,
          21.077880859375,
          -7.366974353790283,
          -10.676855087280273,
          7.15658712387085,
          16.14903450012207,
          10.056575775146484,
          21.12925148010254,
          -11.561443328857422,
          -6.587027549743652,
          -12.344833374023438,
          11.691839218139648,
          12.65886402130127
         ],
         "y": [
          -2.6991453170776367,
          -9.964372634887695,
          5.023001670837402,
          -3.8379926681518555,
          -10.911368370056152,
          -0.7778089642524719,
          3.6438984870910645,
          -5.7262396812438965,
          9.69163990020752,
          9.223006248474121,
          9.442364692687988,
          4.504212379455566,
          -1.1251696348190308,
          -11.310039520263672,
          4.319201946258545,
          -10.203399658203125,
          6.22713565826416,
          5.671371936798096,
          4.409392833709717,
          1.0781528949737549,
          4.4280877113342285,
          7.832067489624023,
          -8.30068588256836,
          6.10460901260376,
          5.0962371826171875,
          4.470848560333252
         ]
        },
        {
         "marker": {
          "color": "rgb(255, 0, 0)",
          "opacity": 0.7
         },
         "mode": "markers",
         "name": "The Taylor Swift Holiday Collection",
         "text": [
          "Christmas Must Be Something More",
          "Christmases When You Were Mine",
          "Last Christmas",
          "Santa Baby",
          "Silent Night",
          "White Christmas"
         ],
         "type": "scatter",
         "x": [
          4.185108184814453,
          -14.079647064208984,
          -5.774231910705566,
          -13.518705368041992,
          0.20221936702728271,
          -5.645961761474609
         ],
         "y": [
          -9.825531005859375,
          9.526931762695312,
          -9.95181655883789,
          8.266999244689941,
          9.514036178588867,
          9.632805824279785
         ]
        },
        {
         "marker": {
          "color": "rgb(158, 1, 66)",
          "opacity": 0.7
         },
         "mode": "markers",
         "name": "14",
         "text": [
          "...Ready For It?",
          "\"Slut!\" (Taylor's Version) [From The Vault]",
          "All Too Well (10 Minute Version) [Taylor's Version] [From The Vault]",
          "Bad Blood",
          "Bad Blood (Remix)",
          "Bad Blood (Remix) [Taylor's Version]",
          "Bad Blood (Taylor's Version)",
          "Bejeweled",
          "Blank Space",
          "Blank Space (Taylor's Version)",
          "Both Of Us",
          "Death By A Thousand Cuts",
          "Delicate",
          "Don't Blame Me",
          "End Game",
          "Foolish One (Taylor's Version) [From The Vault]",
          "I Knew You Were Trouble",
          "I Knew You Were Trouble (Taylor's Version)",
          "I Think He Knows",
          "It's Nice To Have A Friend",
          "King Of My Heart",
          "Last Christmas",
          "Lavender Haze",
          "London Boy",
          "mad woman",
          "no body, no crime",
          "Now That We Don't Talk (Taylor's Version) [From The Vault]",
          "Paper Rings",
          "Suburban Legends (Taylor's Version) [From The Vault]",
          "Teardrops On My Guitar",
          "this is me trying",
          "Tied Together With A Smile",
          "Welcome To New York",
          "Welcome To New York (Taylor's Version)",
          "You're On Your Own, Kid (Strings Remix)"
         ],
         "type": "scatter",
         "visible": "legendonly",
         "x": [
          -1.37330961227417,
          -3.9671130180358887,
          -3.1865055561065674,
          -5.468176364898682,
          -6.599368095397949,
          -6.784209728240967,
          -5.412980556488037,
          -2.2676477432250977,
          -8.698384284973145,
          -8.196043014526367,
          -2.6600394248962402,
          -7.337822914123535,
          -1.2388837337493896,
          -6.225342273712158,
          12.912749290466309,
          3.7143394947052,
          4.455359935760498,
          4.667202472686768,
          -9.287798881530762,
          -11.214604377746582,
          -6.031784534454346,
          -5.774231910705566,
          -7.752572536468506,
          5.048120498657227,
          -8.602004051208496,
          -2.1787641048431396,
          4.973002910614014,
          5.360517501831055,
          4.12070894241333,
          -6.297052383422852,
          4.09279203414917,
          -4.66229772567749,
          -4.710607528686523,
          -4.593881130218506,
          -5.84175968170166
         ],
         "y": [
          -9.807506561279297,
          -11.505532264709473,
          -11.181896209716797,
          -12.301752090454102,
          -12.456143379211426,
          -12.40023136138916,
          -12.181595802307129,
          -10.976434707641602,
          -11.597357749938965,
          -11.762313842773438,
          -11.735295295715332,
          -12.12260913848877,
          -11.352120399475098,
          -12.082259178161621,
          -4.498360633850098,
          -7.183605194091797,
          -9.983513832092285,
          -9.42560863494873,
          -11.285390853881836,
          -5.335153579711914,
          -12.526652336120605,
          -9.95181655883789,
          -11.791717529296875,
          -6.564382553100586,
          -8.83936882019043,
          -11.61163330078125,
          -7.573320388793945,
          -7.614887237548828,
          -9.249615669250488,
          -10.27873706817627,
          -6.801442623138428,
          -12.308869361877441,
          -11.969681739807129,
          -11.777322769165039,
          -10.334712028503418
         ]
        },
        {
         "marker": {
          "color": "rgb(196, 44, 75)",
          "opacity": 0.7
         },
         "mode": "markers",
         "name": "8",
         "text": [
          "'tis the damn season",
          "Better Man (Taylor's Version) [From The Vault]",
          "Better Than Revenge",
          "Better Than Revenge (Taylor's Version)",
          "betty",
          "Crazier",
          "Dear John",
          "Dear John (Taylor's Version)",
          "dorothea",
          "I Know Places",
          "I Know Places (Taylor's Version)",
          "Last Kiss",
          "Last Kiss (Taylor's Version)",
          "Mine",
          "Mine (Taylor's Version)",
          "Out Of The Woods",
          "Out Of The Woods (Taylor's Version)",
          "Speak Now",
          "Speak Now (Taylor's Version)",
          "Stay Beautiful",
          "Stay Stay Stay",
          "Stay Stay Stay (Taylor's Version)",
          "Style",
          "Style (Taylor's Version)",
          "The Outside",
          "The Story Of Us",
          "The Story Of Us (Taylor's Version)",
          "The Way I Loved You",
          "The Way I Loved You (Taylor's Version)",
          "Two Is Better Than One",
          "We Are Never Ever Getting Back Together",
          "We Are Never Ever Getting Back Together (Taylor's Version)",
          "Wildest Dreams",
          "Wildest Dreams (Taylor's Version)",
          "You Belong With Me",
          "You Belong With Me (Taylor's Version)"
         ],
         "type": "scatter",
         "visible": "legendonly",
         "x": [
          13.600905418395996,
          3.844146251678467,
          3.5836737155914307,
          3.8018035888671875,
          14.184447288513184,
          13.516551971435547,
          5.118841648101807,
          4.876450061798096,
          0.5658310651779175,
          14.010200500488281,
          14.10587215423584,
          4.086921691894531,
          3.9827346801757812,
          14.63520336151123,
          14.46700382232666,
          16.04230499267578,
          15.786349296569824,
          2.787538528442383,
          2.828836441040039,
          16.276504516601562,
          13.935744285583496,
          14.100227355957031,
          -1.3086735010147095,
          -1.2549927234649658,
          4.71163272857666,
          2.1899828910827637,
          1.7492942810058594,
          16.258359909057617,
          16.14903450012207,
          18.210552215576172,
          -0.400925874710083,
          -0.6473339796066284,
          13.432720184326172,
          13.405257225036621,
          11.50027847290039,
          11.691839218139648
         ],
         "y": [
          1.9553982019424438,
          -7.393093109130859,
          -9.117033004760742,
          -9.122797966003418,
          2.0736966133117676,
          1.9389294385910034,
          -9.839741706848145,
          -10.034977912902832,
          -8.917009353637695,
          3.2710530757904053,
          3.1797332763671875,
          -7.118414878845215,
          -6.852931976318359,
          3.528646230697632,
          3.535961389541626,
          4.245743751525879,
          4.03550386428833,
          -9.309150695800781,
          -9.255403518676758,
          3.9888525009155273,
          2.768824577331543,
          2.6146621704101562,
          -11.610469818115234,
          -11.735881805419922,
          -8.279770851135254,
          -9.407997131347656,
          -9.445591926574707,
          4.200235843658447,
          4.409392833709717,
          3.858224391937256,
          -10.378500938415527,
          -10.534200668334961,
          3.9279651641845703,
          3.9976329803466797,
          5.41910982131958,
          5.0962371826171875
         ]
        },
        {
         "marker": {
          "color": "rgb(225, 81, 74)",
          "opacity": 0.7
         },
         "mode": "markers",
         "name": "6",
         "text": [
          "22",
          "22 (Taylor's Version)",
          "American Girl",
          "Enchanted",
          "Enchanted (Taylor's Version)",
          "I Wish You Would",
          "I Wish You Would (Taylor's Version)",
          "New Romantics",
          "New Romantics (Taylor's Version)",
          "Picture To Burn (Radio Edit)",
          "The Last Time",
          "The Last Time (Taylor's Version)",
          "White Christmas"
         ],
         "type": "scatter",
         "visible": "legendonly",
         "x": [
          -3.807241201400757,
          -3.735929250717163,
          -3.360461473464966,
          -3.0621445178985596,
          -3.4017891883850098,
          2.07548189163208,
          2.165363311767578,
          -4.322015762329102,
          -4.036023139953613,
          -2.0354225635528564,
          -3.5563743114471436,
          -3.365408420562744,
          -5.645961761474609
         ],
         "y": [
          10.381290435791016,
          10.392555236816406,
          9.860682487487793,
          10.126200675964355,
          10.400423049926758,
          8.693506240844727,
          8.678557395935059,
          10.35993480682373,
          9.606175422668457,
          9.91354751586914,
          9.571386337280273,
          9.614880561828613,
          9.632805824279785
         ]
        },
        {
         "marker": {
          "color": "rgb(245, 116, 70)",
          "opacity": 0.7
         },
         "mode": "markers",
         "name": "11",
         "text": [
          "A Perfectly Good Heart",
          "All Too Well",
          "All Too Well (Taylor's Version)",
          "Sweeter Than Fiction"
         ],
         "type": "scatter",
         "visible": "legendonly",
         "x": [
          -4.955780029296875,
          -4.515919208526611,
          -4.783659934997559,
          -4.2986016273498535
         ],
         "y": [
          9.75700855255127,
          9.557743072509766,
          10.017019271850586,
          9.986615180969238
         ]
        },
        {
         "marker": {
          "color": "rgb(251, 165, 92)",
          "opacity": 0.7
         },
         "mode": "markers",
         "name": "12",
         "text": [
          "A Place In This World",
          "Afterglow",
          "cowboy like me",
          "False God",
          "Hey Stephen",
          "Hey Stephen (Taylor's Version)",
          "How You Get The Girl",
          "How You Get The Girl (Taylor's Version)",
          "Lover",
          "Mean",
          "Mean (Taylor's Version)",
          "Sad Beautiful Tragic",
          "Sad Beautiful Tragic (Taylor's Version)",
          "Safe & Sound",
          "Say Don't Go (Taylor's Version) [From The Vault]",
          "Should've Said No",
          "Snow On The Beach",
          "State Of Grace (Acoustic Version)",
          "State Of Grace (Acoustic Version) [Taylor's Version]",
          "Teardrops On My Guitar (Acoustic Version)",
          "Teardrops On My Guitar (Pop Version)",
          "The Best Day",
          "The Best Day (Taylor's Version)",
          "the last great american dynasty",
          "This Is Why We Can't Have Nice Things",
          "We Were Happy (Taylor's Version) [From The Vault]"
         ],
         "type": "scatter",
         "visible": "legendonly",
         "x": [
          -8.245399475097656,
          -11.621193885803223,
          -11.6123628616333,
          -12.514286041259766,
          -11.229888916015625,
          -11.306461334228516,
          -9.476630210876465,
          -9.685216903686523,
          -9.05440616607666,
          -7.673745155334473,
          -8.089774131774902,
          -9.277583122253418,
          -9.447484970092773,
          -10.74825382232666,
          -10.801841735839844,
          -11.17424201965332,
          -11.446711540222168,
          -10.691144943237305,
          -10.619852066040039,
          -10.321788787841797,
          -11.01693058013916,
          -10.731236457824707,
          -10.676855087280273,
          -11.452916145324707,
          -9.93532657623291,
          -11.561443328857422
         ],
         "y": [
          9.033766746520996,
          7.231712341308594,
          6.464216232299805,
          8.013476371765137,
          9.249319076538086,
          9.223006248474121,
          8.743975639343262,
          8.972344398498535,
          8.6368989944458,
          9.144207954406738,
          8.959667205810547,
          8.179414749145508,
          8.030354499816895,
          5.905524253845215,
          7.253529071807861,
          6.015754699707031,
          9.834120750427246,
          5.460024833679199,
          5.583898067474365,
          7.434200763702393,
          7.599287986755371,
          6.536922454833984,
          6.22713565826416,
          8.521665573120117,
          8.960335731506348,
          7.832067489624023
         ]
        },
        {
         "marker": {
          "color": "rgb(253, 202, 120)",
          "opacity": 0.7
         },
         "mode": "markers",
         "name": "7",
         "text": [
          "All Of The Girls You Loved Before",
          "august",
          "Bigger Than The Whole Sky",
          "Call It What You Want",
          "Cornelia Street",
          "Dancing With Our Hands Tied",
          "Dress",
          "Gorgeous",
          "High Infidelity",
          "I Don't Wanna Live Forever",
          "illicit affairs",
          "Invisible",
          "invisible string",
          "Is It Over Now? (Taylor's Version) [From The Vault]",
          "ivy",
          "long story short",
          "marjorie",
          "Midnight Rain",
          "Never Grow Up",
          "Never Grow Up (Taylor's Version)",
          "Nothing New (Taylor's Version) [From The Vault]",
          "Run (Taylor's Version) [From The Vault]",
          "Snow On The Beach (More Lana Del Rey)",
          "Soon You'll Get Better",
          "Sweet Nothing",
          "Sweet Nothing (Piano Remix)",
          "That's When (Taylor's Version) [From The Vault]",
          "the lakes",
          "Three Sad Virgins",
          "willow",
          "You All Over Me (Taylor's Version) [From The Vault]",
          "You Need To Calm Down",
          "You're Losing Me (From The Vault)",
          "You're On Your Own, Kid"
         ],
         "type": "scatter",
         "visible": "legendonly",
         "x": [
          -11.897602081298828,
          -10.265926361083984,
          -11.95309066772461,
          -8.210262298583984,
          -8.797776222229004,
          -5.935607433319092,
          -10.925427436828613,
          -11.039345741271973,
          -10.755749702453613,
          -11.901018142700195,
          -12.430294036865234,
          -12.367773056030273,
          -13.47714614868164,
          -9.988973617553711,
          -12.964385032653809,
          -6.739874362945557,
          -11.413444519042969,
          -11.874719619750977,
          -12.249114990234375,
          -11.873637199401855,
          -11.02939224243164,
          -12.048906326293945,
          -8.553277015686035,
          -9.807143211364746,
          -11.803699493408203,
          -11.763472557067871,
          -7.366974353790283,
          -12.45361614227295,
          -10.928651809692383,
          -11.569985389709473,
          -12.344833374023438,
          -9.291159629821777,
          -10.9425048828125,
          -11.023563385009766
         ],
         "y": [
          -8.70761489868164,
          -6.613118648529053,
          -4.480001449584961,
          -9.513614654541016,
          -10.880922317504883,
          -8.813295364379883,
          -3.5995330810546875,
          -10.219375610351562,
          -10.1355619430542,
          -6.32295036315918,
          -8.678441047668457,
          -7.580348014831543,
          5.578546524047852,
          -10.682069778442383,
          5.4524245262146,
          -8.635749816894531,
          -4.203527927398682,
          -9.655355453491211,
          -7.898265361785889,
          -7.982557773590088,
          -3.60467791557312,
          6.581368446350098,
          -9.04813003540039,
          -7.248100757598877,
          -9.317452430725098,
          -9.957085609436035,
          -10.203399658203125,
          -7.804928302764893,
          -10.559500694274902,
          -9.421181678771973,
          6.10460901260376,
          -11.267276763916016,
          -9.344053268432617,
          -9.899252891540527
         ]
        },
        {
         "marker": {
          "color": "rgb(254, 232, 153)",
          "opacity": 0.7
         },
         "mode": "markers",
         "name": "4",
         "text": [
          "All You Had To Do Was Stay",
          "All You Had To Do Was Stay (Taylor's Version)",
          "Change",
          "Change (Taylor's Version)",
          "Electric Touch (Taylor's Version) [From The Vault]",
          "Forever Winter (Taylor's Version) [From The Vault]",
          "Half Of My Heart",
          "If This Was A Movie (Taylor's Version)",
          "Love Story",
          "Love Story (Taylor's Version)",
          "State Of Grace",
          "State Of Grace (Taylor's Version)",
          "You're Not Sorry",
          "You're Not Sorry (Taylor's Version)"
         ],
         "type": "scatter",
         "visible": "legendonly",
         "x": [
          17.994953155517578,
          18.30305290222168,
          11.178926467895508,
          11.298920631408691,
          19.512807846069336,
          10.879125595092773,
          13.95256233215332,
          2.7714316844940186,
          18.83444595336914,
          18.55567741394043,
          9.589674949645996,
          9.21456527709961,
          12.649829864501953,
          12.65886402130127
         ],
         "y": [
          4.391685485839844,
          4.536459445953369,
          4.99626350402832,
          5.023001670837402,
          5.080223560333252,
          5.423551559448242,
          4.029842853546143,
          8.544857025146484,
          4.482906818389893,
          4.504212379455566,
          6.135200500488281,
          6.217302322387695,
          4.464230537414551,
          4.470848560333252
         ]
        },
        {
         "marker": {
          "color": "rgb(254, 254, 190)",
          "opacity": 0.7
         },
         "mode": "markers",
         "name": "1",
         "text": [
          "Anti-Hero",
          "Babe",
          "Back To December",
          "Back To December (Taylor's Version)",
          "Begin Again",
          "Begin Again (Taylor's Version)",
          "Birch",
          "Castles Crumbling (Taylor's Version) [From The Vault]",
          "champagne problems",
          "Clean (Taylor's Version)",
          "Cold As You",
          "Eyes Open",
          "Eyes Open (Taylor's Version)",
          "Fearless",
          "Fearless (Taylor's Version)",
          "Forever & Always (Piano Version)",
          "Forever & Always (Piano Version) [Taylor's Version]",
          "Gasoline (Remix)",
          "Getaway Car",
          "gold rush",
          "I Did Something Bad",
          "Karma",
          "Karma (Remix)",
          "Look What You Made Me Do",
          "ME!",
          "Miss Americana & The Heartbreak Prince",
          "my tears ricochet",
          "Paris",
          "Picture To Burn",
          "Renegade",
          "right where you left me",
          "Starlight",
          "Starlight (Taylor's Version)",
          "The Man",
          "The Other Side Of The Door",
          "The Other Side Of The Door (Taylor's Version)",
          "Today Was A Fairytale"
         ],
         "type": "scatter",
         "visible": "legendonly",
         "x": [
          10.536494255065918,
          7.916139125823975,
          7.845767498016357,
          7.926735877990723,
          7.921637058258057,
          8.456509590148926,
          7.537504196166992,
          4.73752498626709,
          8.0919771194458,
          10.697213172912598,
          7.558688640594482,
          5.781653881072998,
          5.390324115753174,
          11.185452461242676,
          10.90223503112793,
          7.42461633682251,
          7.790019989013672,
          10.218533515930176,
          10.209587097167969,
          8.748405456542969,
          10.55580997467041,
          5.52484130859375,
          9.378812789916992,
          10.653042793273926,
          10.089277267456055,
          9.940449714660645,
          7.095906734466553,
          10.185392379760742,
          8.175429344177246,
          8.25980281829834,
          8.705584526062012,
          8.334981918334961,
          8.38609504699707,
          10.916443824768066,
          7.635143756866455,
          7.15658712387085,
          10.1683988571167
         ],
         "y": [
          -1.023718237876892,
          4.954090595245361,
          -5.15181303024292,
          -5.06591272354126,
          4.687380790710449,
          4.852311611175537,
          -5.082563400268555,
          -7.743677139282227,
          4.423562049865723,
          -2.6008033752441406,
          -6.176255226135254,
          -7.901050090789795,
          -8.037995338439941,
          -0.8470332026481628,
          -0.7778089642524719,
          -5.787498950958252,
          -5.7262396812438965,
          0.5476952195167542,
          -1.6520757675170898,
          -4.793994903564453,
          -2.4205310344696045,
          -6.425111770629883,
          -3.818950653076172,
          -2.1628265380859375,
          -3.050231456756592,
          -3.1536262035369873,
          -6.257778644561768,
          -2.171722412109375,
          -6.366244316101074,
          -6.006068706512451,
          -4.548676490783691,
          -5.7827630043029785,
          -5.607371807098389,
          -1.6539703607559204,
          5.98130464553833,
          5.671371936798096,
          0.669338583946228
         ]
        },
        {
         "marker": {
          "color": "rgb(236, 247, 162)",
          "opacity": 0.7
         },
         "mode": "markers",
         "name": "9",
         "text": [
          "Babe (Taylor's Version) [From The Vault]",
          "Come Back...Be Here",
          "Come Back...Be Here (Taylor's Version)",
          "Daylight",
          "evermore",
          "Everything Has Changed",
          "Everything Has Changed (Taylor's Version)",
          "Forever & Always",
          "Forever & Always (Taylor's Version)",
          "Holy Ground",
          "Holy Ground (Taylor's Version)",
          "I Almost Do",
          "I Almost Do (Taylor's Version)",
          "I Bet You Think About Me (Taylor's Version) [From The Vault]",
          "I Heart ?",
          "Jump Then Fall",
          "Jump Then Fall (Taylor's Version)",
          "Labyrinth",
          "Message In A Bottle (Taylor's Version) [From The Vault]",
          "Only The Young",
          "September",
          "Shake It Off",
          "Shake It Off (Taylor's Version)",
          "Silent Night",
          "So It Goes...",
          "Superman",
          "Superman (Taylor's Version)",
          "Treacherous",
          "Treacherous (Taylor's Version)",
          "When Emma Falls In Love (Taylor's Version) [From The Vault]",
          "Wonderland",
          "Wonderland (Taylor's Version)"
         ],
         "type": "scatter",
         "visible": "legendonly",
         "x": [
          8.315474510192871,
          10.705153465270996,
          10.793405532836914,
          8.872452735900879,
          8.452840805053711,
          6.923664093017578,
          6.986034870147705,
          -1.0250205993652344,
          -0.8936884999275208,
          9.511859893798828,
          9.768649101257324,
          -0.577079176902771,
          -0.44286566972732544,
          -1.9467076063156128,
          -4.16532564163208,
          -0.24958088994026184,
          -0.10769067704677582,
          8.528779983520508,
          8.27805233001709,
          1.7090387344360352,
          7.420897960662842,
          2.327756881713867,
          2.3209540843963623,
          0.20221936702728271,
          0.7037891149520874,
          7.377112865447998,
          7.37412166595459,
          2.4536430835723877,
          2.7221765518188477,
          -0.08123934268951416,
          1.7506957054138184,
          1.6019436120986938
         ],
         "y": [
          5.5540289878845215,
          5.781468868255615,
          5.722553253173828,
          5.96022367477417,
          5.181754112243652,
          6.4408135414123535,
          6.355495452880859,
          9.837760925292969,
          9.69163990020752,
          5.42780876159668,
          5.27542781829834,
          9.942428588867188,
          9.444998741149902,
          9.88758373260498,
          -7.0960774421691895,
          9.947088241577148,
          9.442364692687988,
          4.734474182128906,
          6.008594512939453,
          9.588146209716797,
          5.645021438598633,
          9.379378318786621,
          9.448221206665039,
          9.514036178588867,
          9.60948657989502,
          6.3892693519592285,
          6.052701473236084,
          9.230629920959473,
          9.152466773986816,
          9.930630683898926,
          9.370622634887695,
          9.371834754943848
         ]
        },
        {
         "marker": {
          "color": "rgb(204, 234, 157)",
          "opacity": 0.7
         },
         "mode": "markers",
         "name": "0",
         "text": [
          "Beautiful Eyes",
          "Breathe",
          "Breathe (Taylor's Version)",
          "Bye Bye Baby (Taylor's Version) [From The Vault]",
          "cardigan",
          "Christmas Must Be Something More",
          "Clean",
          "Come In With The Rain",
          "Come In With The Rain (Taylor's Version)",
          "Don't You (Taylor's Version) [From The Vault]",
          "exile",
          "Glitch",
          "happiness",
          "Haunted",
          "Haunted (Taylor's Version)",
          "I'm Only Me When I'm With You",
          "I'm Only Me When I'm With You",
          "I'm Only Me When I'm With You",
          "I'm Only Me When I'm With You",
          "Innocent",
          "Innocent (Taylor's Version)",
          "Long Live",
          "Long Live (Taylor's Version)",
          "Mary's Song (Oh My My My)",
          "Ours",
          "Ours (Taylor's Version)",
          "seven",
          "Sparks Fly",
          "Sparks Fly (Taylor's Version)",
          "SuperStar",
          "SuperStar (Taylor's Version)",
          "The Archer",
          "The Joker And The Queen",
          "The Moment I Knew",
          "The Moment I Knew (Taylor's Version)",
          "The Very First Night (Taylor's Version) [From The Vault]",
          "This Love",
          "This Love (Taylor's Version)",
          "Tim McGraw",
          "Timeless (Taylor's Version) [From The Vault]",
          "White Horse",
          "White Horse (Taylor's Version)"
         ],
         "type": "scatter",
         "visible": "legendonly",
         "x": [
          -13.312614440917969,
          -13.181327819824219,
          -13.418718338012695,
          4.775540351867676,
          -11.37113094329834,
          4.185108184814453,
          -7.333608150482178,
          -12.710951805114746,
          -12.713077545166016,
          -1.8246116638183594,
          -12.45927906036377,
          -9.315176010131836,
          -12.865791320800781,
          -13.25723934173584,
          -12.910383224487305,
          -4.9802565574646,
          -5.103453636169434,
          -5.295614719390869,
          -5.2652435302734375,
          -12.059097290039062,
          -12.054503440856934,
          0.3517531752586365,
          0.3347950577735901,
          -0.1861163079738617,
          -8.44748592376709,
          -8.625585556030273,
          -11.49001407623291,
          0.5925644040107727,
          0.5276153087615967,
          -1.7649811506271362,
          -1.7909592390060425,
          -11.744211196899414,
          -11.369568824768066,
          -12.148772239685059,
          -12.035191535949707,
          -0.3365686237812042,
          -10.639277458190918,
          -10.40364933013916,
          -7.119119644165039,
          -6.231845378875732,
          -6.348515510559082,
          -6.587027549743652
         ],
         "y": [
          -2.8221447467803955,
          -2.3291873931884766,
          -2.6991453170776367,
          -9.964372634887695,
          -1.2906785011291504,
          -9.825531005859375,
          -8.655495643615723,
          -3.829418897628784,
          -3.8379926681518555,
          -10.911368370056152,
          -4.02541971206665,
          -10.415882110595703,
          -3.085519313812256,
          -2.4033203125,
          -2.4195544719696045,
          -7.006817817687988,
          -7.053248405456543,
          -7.074659824371338,
          -7.090743064880371,
          -3.483869791030884,
          -3.659691333770752,
          -9.502313613891602,
          -9.501157760620117,
          -8.912858963012695,
          -10.15555477142334,
          -10.102153778076172,
          -4.1520586013793945,
          -9.316229820251465,
          -9.040315628051758,
          -11.386117935180664,
          -11.310039520263672,
          -4.720943450927734,
          5.256460666656494,
          -3.0843770503997803,
          -2.8486809730529785,
          -9.496533393859863,
          -6.174683094024658,
          -6.35490083694458,
          -9.238051414489746,
          -7.655584812164307,
          -8.244293212890625,
          -8.30068588256836
         ]
        },
        {
         "marker": {
          "color": "rgb(161, 217, 164)",
          "opacity": 0.7
         },
         "mode": "markers",
         "name": "5",
         "text": [
          "Beautiful Ghosts",
          "Carolina",
          "Christmases When You Were Mine",
          "closure",
          "coney island",
          "Dear Reader",
          "hoax",
          "I Forgot That You Existed",
          "it's time to go",
          "Maroon",
          "Mastermind",
          "New Year's Day",
          "peace",
          "Question...?",
          "Ronan",
          "Ronan (Taylor's Version)",
          "Santa Baby",
          "the 1",
          "tolerate it",
          "Vigilante Shit",
          "You Are In Love",
          "You Are In Love (Taylor's Version)"
         ],
         "type": "scatter",
         "visible": "legendonly",
         "x": [
          -13.311593055725098,
          -12.841078758239746,
          -14.079647064208984,
          -13.868878364562988,
          -14.30394172668457,
          -14.671035766601562,
          -14.826566696166992,
          -14.659500122070312,
          -13.400175094604492,
          -14.234604835510254,
          -14.02824878692627,
          -14.12110424041748,
          -13.838981628417969,
          -14.988239288330078,
          -14.621790885925293,
          -14.57650089263916,
          -13.518705368041992,
          -14.612531661987305,
          -11.995071411132812,
          -13.419534683227539,
          -13.934674263000488,
          -13.748106002807617
         ],
         "y": [
          9.572375297546387,
          7.353146553039551,
          9.526931762695312,
          10.02038860321045,
          10.185918807983398,
          10.258857727050781,
          10.017685890197754,
          9.678426742553711,
          10.530094146728516,
          10.88723373413086,
          9.588357925415039,
          8.928544044494629,
          7.545657157897949,
          8.928363800048828,
          8.74605941772461,
          9.150230407714844,
          8.266999244689941,
          10.664758682250977,
          8.553380966186523,
          10.887978553771973,
          11.066866874694824,
          10.703084945678711
         ]
        },
        {
         "marker": {
          "color": "rgb(110, 197, 164)",
          "opacity": 0.7
         },
         "mode": "markers",
         "name": "10",
         "text": [
          "Christmas Tree Farm",
          "Fifteen",
          "Fifteen (Taylor's Version)",
          "Girl At Home",
          "Girl At Home (Taylor's Version)",
          "Hits Different",
          "mirrorball",
          "Mr. Perfectly Fine (Taylor's Version) [From The Vault]",
          "The Great War",
          "The Lucky One",
          "The Lucky One (Taylor's Version)",
          "Today Was A Fairytale (Taylor's Version)",
          "Would've, Could've, Should've"
         ],
         "type": "scatter",
         "visible": "legendonly",
         "x": [
          10.861038208007812,
          18.990625381469727,
          18.83460235595703,
          19.218908309936523,
          19.3572998046875,
          19.98672103881836,
          20.037385940551758,
          10.879385948181152,
          18.765644073486328,
          20.11363410949707,
          20.18339729309082,
          10.056575775146484,
          20.02956199645996
         ],
         "y": [
          -0.09638075530529022,
          4.0865912437438965,
          3.6438984870910645,
          3.837738275527954,
          3.550567150115967,
          3.2965924739837646,
          4.1182732582092285,
          -1.1251696348190308,
          3.1414783000946045,
          3.6911473274230957,
          3.3767049312591553,
          1.0781528949737549,
          3.282778739929199
         ]
        },
        {
         "marker": {
          "color": "rgb(71, 159, 179)",
          "opacity": 0.7
         },
         "mode": "markers",
         "name": "3",
         "text": [
          "Cruel Summer",
          "epiphany",
          "Highway Don't Care",
          "I Can See You (Taylor's Version) [From The Vault]",
          "If This Was A Movie",
          "Red",
          "Red (Taylor's Version)"
         ],
         "type": "scatter",
         "visible": "legendonly",
         "x": [
          20.370073318481445,
          21.297595977783203,
          20.437232971191406,
          20.606945037841797,
          20.115039825439453,
          21.14443016052246,
          20.935800552368164
         ],
         "y": [
          5.059384822845459,
          4.98600959777832,
          5.344511985778809,
          5.730347156524658,
          5.431666851043701,
          5.4050984382629395,
          5.496203422546387
         ]
        },
        {
         "marker": {
          "color": "rgb(62, 119, 181)",
          "opacity": 0.7
         },
         "mode": "markers",
         "name": "2",
         "text": [
          "Lover (Remix)",
          "Our Song",
          "Red (Original Demo Recording)",
          "Safe & Sound (Taylor's Version)",
          "Should've Said No (Alternate Version)",
          "Sweeter Than Fiction (Taylor's Version)",
          "The Alcott",
          "Treacherous (Original Demo Recording)"
         ],
         "type": "scatter",
         "visible": "legendonly",
         "x": [
          13.51249885559082,
          13.097429275512695,
          13.284889221191406,
          13.414800643920898,
          13.52078914642334,
          12.878790855407715,
          13.176222801208496,
          13.19920539855957
         ],
         "y": [
          -4.576886177062988,
          -4.336127758026123,
          -4.314830780029297,
          -4.778404235839844,
          -4.441153049468994,
          -4.675885200500488,
          -4.910701274871826,
          -4.880037784576416
         ]
        },
        {
         "marker": {
          "color": "rgb(94, 79, 162)",
          "opacity": 0.7
         },
         "mode": "markers",
         "name": "13",
         "text": [
          "Tell Me Why",
          "Tell Me Why (Taylor's Version)",
          "Untouchable",
          "Untouchable (Taylor's Version)"
         ],
         "type": "scatter",
         "visible": "legendonly",
         "x": [
          20.59713363647461,
          21.077880859375,
          20.771568298339844,
          21.12925148010254
         ],
         "y": [
          4.66829776763916,
          4.319201946258545,
          4.620675563812256,
          4.4280877113342285
         ]
        }
       ],
       "layout": {
        "hovermode": "closest",
        "legend": {
         "title": {
          "text": "Legend"
         }
        },
        "template": {
         "data": {
          "bar": [
           {
            "error_x": {
             "color": "#2a3f5f"
            },
            "error_y": {
             "color": "#2a3f5f"
            },
            "marker": {
             "line": {
              "color": "#E5ECF6",
              "width": 0.5
             },
             "pattern": {
              "fillmode": "overlay",
              "size": 10,
              "solidity": 0.2
             }
            },
            "type": "bar"
           }
          ],
          "barpolar": [
           {
            "marker": {
             "line": {
              "color": "#E5ECF6",
              "width": 0.5
             },
             "pattern": {
              "fillmode": "overlay",
              "size": 10,
              "solidity": 0.2
             }
            },
            "type": "barpolar"
           }
          ],
          "carpet": [
           {
            "aaxis": {
             "endlinecolor": "#2a3f5f",
             "gridcolor": "white",
             "linecolor": "white",
             "minorgridcolor": "white",
             "startlinecolor": "#2a3f5f"
            },
            "baxis": {
             "endlinecolor": "#2a3f5f",
             "gridcolor": "white",
             "linecolor": "white",
             "minorgridcolor": "white",
             "startlinecolor": "#2a3f5f"
            },
            "type": "carpet"
           }
          ],
          "choropleth": [
           {
            "colorbar": {
             "outlinewidth": 0,
             "ticks": ""
            },
            "type": "choropleth"
           }
          ],
          "contour": [
           {
            "colorbar": {
             "outlinewidth": 0,
             "ticks": ""
            },
            "colorscale": [
             [
              0,
              "#0d0887"
             ],
             [
              0.1111111111111111,
              "#46039f"
             ],
             [
              0.2222222222222222,
              "#7201a8"
             ],
             [
              0.3333333333333333,
              "#9c179e"
             ],
             [
              0.4444444444444444,
              "#bd3786"
             ],
             [
              0.5555555555555556,
              "#d8576b"
             ],
             [
              0.6666666666666666,
              "#ed7953"
             ],
             [
              0.7777777777777778,
              "#fb9f3a"
             ],
             [
              0.8888888888888888,
              "#fdca26"
             ],
             [
              1,
              "#f0f921"
             ]
            ],
            "type": "contour"
           }
          ],
          "contourcarpet": [
           {
            "colorbar": {
             "outlinewidth": 0,
             "ticks": ""
            },
            "type": "contourcarpet"
           }
          ],
          "heatmap": [
           {
            "colorbar": {
             "outlinewidth": 0,
             "ticks": ""
            },
            "colorscale": [
             [
              0,
              "#0d0887"
             ],
             [
              0.1111111111111111,
              "#46039f"
             ],
             [
              0.2222222222222222,
              "#7201a8"
             ],
             [
              0.3333333333333333,
              "#9c179e"
             ],
             [
              0.4444444444444444,
              "#bd3786"
             ],
             [
              0.5555555555555556,
              "#d8576b"
             ],
             [
              0.6666666666666666,
              "#ed7953"
             ],
             [
              0.7777777777777778,
              "#fb9f3a"
             ],
             [
              0.8888888888888888,
              "#fdca26"
             ],
             [
              1,
              "#f0f921"
             ]
            ],
            "type": "heatmap"
           }
          ],
          "heatmapgl": [
           {
            "colorbar": {
             "outlinewidth": 0,
             "ticks": ""
            },
            "colorscale": [
             [
              0,
              "#0d0887"
             ],
             [
              0.1111111111111111,
              "#46039f"
             ],
             [
              0.2222222222222222,
              "#7201a8"
             ],
             [
              0.3333333333333333,
              "#9c179e"
             ],
             [
              0.4444444444444444,
              "#bd3786"
             ],
             [
              0.5555555555555556,
              "#d8576b"
             ],
             [
              0.6666666666666666,
              "#ed7953"
             ],
             [
              0.7777777777777778,
              "#fb9f3a"
             ],
             [
              0.8888888888888888,
              "#fdca26"
             ],
             [
              1,
              "#f0f921"
             ]
            ],
            "type": "heatmapgl"
           }
          ],
          "histogram": [
           {
            "marker": {
             "pattern": {
              "fillmode": "overlay",
              "size": 10,
              "solidity": 0.2
             }
            },
            "type": "histogram"
           }
          ],
          "histogram2d": [
           {
            "colorbar": {
             "outlinewidth": 0,
             "ticks": ""
            },
            "colorscale": [
             [
              0,
              "#0d0887"
             ],
             [
              0.1111111111111111,
              "#46039f"
             ],
             [
              0.2222222222222222,
              "#7201a8"
             ],
             [
              0.3333333333333333,
              "#9c179e"
             ],
             [
              0.4444444444444444,
              "#bd3786"
             ],
             [
              0.5555555555555556,
              "#d8576b"
             ],
             [
              0.6666666666666666,
              "#ed7953"
             ],
             [
              0.7777777777777778,
              "#fb9f3a"
             ],
             [
              0.8888888888888888,
              "#fdca26"
             ],
             [
              1,
              "#f0f921"
             ]
            ],
            "type": "histogram2d"
           }
          ],
          "histogram2dcontour": [
           {
            "colorbar": {
             "outlinewidth": 0,
             "ticks": ""
            },
            "colorscale": [
             [
              0,
              "#0d0887"
             ],
             [
              0.1111111111111111,
              "#46039f"
             ],
             [
              0.2222222222222222,
              "#7201a8"
             ],
             [
              0.3333333333333333,
              "#9c179e"
             ],
             [
              0.4444444444444444,
              "#bd3786"
             ],
             [
              0.5555555555555556,
              "#d8576b"
             ],
             [
              0.6666666666666666,
              "#ed7953"
             ],
             [
              0.7777777777777778,
              "#fb9f3a"
             ],
             [
              0.8888888888888888,
              "#fdca26"
             ],
             [
              1,
              "#f0f921"
             ]
            ],
            "type": "histogram2dcontour"
           }
          ],
          "mesh3d": [
           {
            "colorbar": {
             "outlinewidth": 0,
             "ticks": ""
            },
            "type": "mesh3d"
           }
          ],
          "parcoords": [
           {
            "line": {
             "colorbar": {
              "outlinewidth": 0,
              "ticks": ""
             }
            },
            "type": "parcoords"
           }
          ],
          "pie": [
           {
            "automargin": true,
            "type": "pie"
           }
          ],
          "scatter": [
           {
            "fillpattern": {
             "fillmode": "overlay",
             "size": 10,
             "solidity": 0.2
            },
            "type": "scatter"
           }
          ],
          "scatter3d": [
           {
            "line": {
             "colorbar": {
              "outlinewidth": 0,
              "ticks": ""
             }
            },
            "marker": {
             "colorbar": {
              "outlinewidth": 0,
              "ticks": ""
             }
            },
            "type": "scatter3d"
           }
          ],
          "scattercarpet": [
           {
            "marker": {
             "colorbar": {
              "outlinewidth": 0,
              "ticks": ""
             }
            },
            "type": "scattercarpet"
           }
          ],
          "scattergeo": [
           {
            "marker": {
             "colorbar": {
              "outlinewidth": 0,
              "ticks": ""
             }
            },
            "type": "scattergeo"
           }
          ],
          "scattergl": [
           {
            "marker": {
             "colorbar": {
              "outlinewidth": 0,
              "ticks": ""
             }
            },
            "type": "scattergl"
           }
          ],
          "scattermapbox": [
           {
            "marker": {
             "colorbar": {
              "outlinewidth": 0,
              "ticks": ""
             }
            },
            "type": "scattermapbox"
           }
          ],
          "scatterpolar": [
           {
            "marker": {
             "colorbar": {
              "outlinewidth": 0,
              "ticks": ""
             }
            },
            "type": "scatterpolar"
           }
          ],
          "scatterpolargl": [
           {
            "marker": {
             "colorbar": {
              "outlinewidth": 0,
              "ticks": ""
             }
            },
            "type": "scatterpolargl"
           }
          ],
          "scatterternary": [
           {
            "marker": {
             "colorbar": {
              "outlinewidth": 0,
              "ticks": ""
             }
            },
            "type": "scatterternary"
           }
          ],
          "surface": [
           {
            "colorbar": {
             "outlinewidth": 0,
             "ticks": ""
            },
            "colorscale": [
             [
              0,
              "#0d0887"
             ],
             [
              0.1111111111111111,
              "#46039f"
             ],
             [
              0.2222222222222222,
              "#7201a8"
             ],
             [
              0.3333333333333333,
              "#9c179e"
             ],
             [
              0.4444444444444444,
              "#bd3786"
             ],
             [
              0.5555555555555556,
              "#d8576b"
             ],
             [
              0.6666666666666666,
              "#ed7953"
             ],
             [
              0.7777777777777778,
              "#fb9f3a"
             ],
             [
              0.8888888888888888,
              "#fdca26"
             ],
             [
              1,
              "#f0f921"
             ]
            ],
            "type": "surface"
           }
          ],
          "table": [
           {
            "cells": {
             "fill": {
              "color": "#EBF0F8"
             },
             "line": {
              "color": "white"
             }
            },
            "header": {
             "fill": {
              "color": "#C8D4E3"
             },
             "line": {
              "color": "white"
             }
            },
            "type": "table"
           }
          ]
         },
         "layout": {
          "annotationdefaults": {
           "arrowcolor": "#2a3f5f",
           "arrowhead": 0,
           "arrowwidth": 1
          },
          "autotypenumbers": "strict",
          "coloraxis": {
           "colorbar": {
            "outlinewidth": 0,
            "ticks": ""
           }
          },
          "colorscale": {
           "diverging": [
            [
             0,
             "#8e0152"
            ],
            [
             0.1,
             "#c51b7d"
            ],
            [
             0.2,
             "#de77ae"
            ],
            [
             0.3,
             "#f1b6da"
            ],
            [
             0.4,
             "#fde0ef"
            ],
            [
             0.5,
             "#f7f7f7"
            ],
            [
             0.6,
             "#e6f5d0"
            ],
            [
             0.7,
             "#b8e186"
            ],
            [
             0.8,
             "#7fbc41"
            ],
            [
             0.9,
             "#4d9221"
            ],
            [
             1,
             "#276419"
            ]
           ],
           "sequential": [
            [
             0,
             "#0d0887"
            ],
            [
             0.1111111111111111,
             "#46039f"
            ],
            [
             0.2222222222222222,
             "#7201a8"
            ],
            [
             0.3333333333333333,
             "#9c179e"
            ],
            [
             0.4444444444444444,
             "#bd3786"
            ],
            [
             0.5555555555555556,
             "#d8576b"
            ],
            [
             0.6666666666666666,
             "#ed7953"
            ],
            [
             0.7777777777777778,
             "#fb9f3a"
            ],
            [
             0.8888888888888888,
             "#fdca26"
            ],
            [
             1,
             "#f0f921"
            ]
           ],
           "sequentialminus": [
            [
             0,
             "#0d0887"
            ],
            [
             0.1111111111111111,
             "#46039f"
            ],
            [
             0.2222222222222222,
             "#7201a8"
            ],
            [
             0.3333333333333333,
             "#9c179e"
            ],
            [
             0.4444444444444444,
             "#bd3786"
            ],
            [
             0.5555555555555556,
             "#d8576b"
            ],
            [
             0.6666666666666666,
             "#ed7953"
            ],
            [
             0.7777777777777778,
             "#fb9f3a"
            ],
            [
             0.8888888888888888,
             "#fdca26"
            ],
            [
             1,
             "#f0f921"
            ]
           ]
          },
          "colorway": [
           "#636efa",
           "#EF553B",
           "#00cc96",
           "#ab63fa",
           "#FFA15A",
           "#19d3f3",
           "#FF6692",
           "#B6E880",
           "#FF97FF",
           "#FECB52"
          ],
          "font": {
           "color": "#2a3f5f"
          },
          "geo": {
           "bgcolor": "white",
           "lakecolor": "white",
           "landcolor": "#E5ECF6",
           "showlakes": true,
           "showland": true,
           "subunitcolor": "white"
          },
          "hoverlabel": {
           "align": "left"
          },
          "hovermode": "closest",
          "mapbox": {
           "style": "light"
          },
          "paper_bgcolor": "white",
          "plot_bgcolor": "#E5ECF6",
          "polar": {
           "angularaxis": {
            "gridcolor": "white",
            "linecolor": "white",
            "ticks": ""
           },
           "bgcolor": "#E5ECF6",
           "radialaxis": {
            "gridcolor": "white",
            "linecolor": "white",
            "ticks": ""
           }
          },
          "scene": {
           "xaxis": {
            "backgroundcolor": "#E5ECF6",
            "gridcolor": "white",
            "gridwidth": 2,
            "linecolor": "white",
            "showbackground": true,
            "ticks": "",
            "zerolinecolor": "white"
           },
           "yaxis": {
            "backgroundcolor": "#E5ECF6",
            "gridcolor": "white",
            "gridwidth": 2,
            "linecolor": "white",
            "showbackground": true,
            "ticks": "",
            "zerolinecolor": "white"
           },
           "zaxis": {
            "backgroundcolor": "#E5ECF6",
            "gridcolor": "white",
            "gridwidth": 2,
            "linecolor": "white",
            "showbackground": true,
            "ticks": "",
            "zerolinecolor": "white"
           }
          },
          "shapedefaults": {
           "line": {
            "color": "#2a3f5f"
           }
          },
          "ternary": {
           "aaxis": {
            "gridcolor": "white",
            "linecolor": "white",
            "ticks": ""
           },
           "baxis": {
            "gridcolor": "white",
            "linecolor": "white",
            "ticks": ""
           },
           "bgcolor": "#E5ECF6",
           "caxis": {
            "gridcolor": "white",
            "linecolor": "white",
            "ticks": ""
           }
          },
          "title": {
           "x": 0.05
          },
          "xaxis": {
           "automargin": true,
           "gridcolor": "white",
           "linecolor": "white",
           "ticks": "",
           "title": {
            "standoff": 15
           },
           "zerolinecolor": "white",
           "zerolinewidth": 2
          },
          "yaxis": {
           "automargin": true,
           "gridcolor": "white",
           "linecolor": "white",
           "ticks": "",
           "title": {
            "standoff": 15
           },
           "zerolinecolor": "white",
           "zerolinewidth": 2
          }
         }
        },
        "title": {
         "text": "Interactive Plot of Song Embeddings"
        },
        "xaxis": {
         "title": {
          "text": "TSNE 1"
         }
        },
        "yaxis": {
         "title": {
          "text": "TSNE 2"
         }
        }
       }
      }
     },
     "metadata": {},
     "output_type": "display_data"
    }
   ],
   "source": [
    "# Reducing with TSNE down to two dimensions to see if we can visually assess any separation?\n",
    "tsne = TSNE(n_components=2, random_state=256)\n",
    "embeddings_tsne_2d = tsne.fit_transform(reduced_UMAP)\n",
    "\n",
    "plot_embeddings_interactive(embeddings_tsne_2d, audio)"
   ]
  },
  {
   "cell_type": "code",
   "execution_count": 7,
   "metadata": {},
   "outputs": [
    {
     "data": {
      "image/png": "[encoded data removed]",
      "text/plain": [
       "<Figure size 1000x600 with 1 Axes>"
      ]
     },
     "metadata": {},
     "output_type": "display_data"
    }
   ],
   "source": [
    "k_values = range(5, 45) \n",
    "wcss = []\n",
    "\n",
    "for k in k_values:\n",
    "    kmeans = KMeans(n_clusters=k, random_state=256, n_init=10)\n",
    "    kmeans.fit(reduced_UMAP)\n",
    "    wcss.append(kmeans.inertia_)\n",
    "\n",
    "# Plotting the results\n",
    "plt.figure(figsize=(10, 6))\n",
    "plt.plot(k_values, wcss, '-o', color='black')\n",
    "plt.title('The Elbow Method')\n",
    "plt.xlabel('Number of clusters (k)')\n",
    "plt.ylabel('WCSS')\n",
    "plt.xticks(k_values)\n",
    "plt.grid(True)\n",
    "plt.show()"
   ]
  },
  {
   "cell_type": "code",
   "execution_count": 8,
   "metadata": {},
   "outputs": [],
   "source": [
    "k = 15\n",
    "kmeans = KMeans(n_clusters=k, random_state=256, n_init=10).fit(embeddings)\n",
    "audio['cluster_assignment'] = kmeans.labels_"
   ]
  },
  {
   "cell_type": "code",
   "execution_count": 9,
   "metadata": {},
   "outputs": [
    {
     "name": "stdout",
     "output_type": "stream",
     "text": [
      "Cluster 0: 42 members (12.84%)\n",
      "Cluster 1: 37 members (11.31%)\n",
      "Cluster 2: 8 members (2.45%)\n",
      "Cluster 3: 7 members (2.14%)\n",
      "Cluster 4: 14 members (4.28%)\n",
      "Cluster 5: 22 members (6.73%)\n",
      "Cluster 6: 13 members (3.98%)\n",
      "Cluster 7: 34 members (10.40%)\n",
      "Cluster 8: 36 members (11.01%)\n",
      "Cluster 9: 32 members (9.79%)\n",
      "Cluster 10: 13 members (3.98%)\n",
      "Cluster 11: 4 members (1.22%)\n",
      "Cluster 12: 26 members (7.95%)\n",
      "Cluster 13: 4 members (1.22%)\n",
      "Cluster 14: 35 members (10.70%)\n"
     ]
    },
    {
     "data": {
      "image/png": "[encoded data removed]",
      "text/plain": [
       "<Figure size 1000x600 with 1 Axes>"
      ]
     },
     "metadata": {},
     "output_type": "display_data"
    }
   ],
   "source": [
    "cluster_sizes = Counter(audio['cluster_assignment'])\n",
    "\n",
    "sorted_cluster_sizes = dict(sorted(cluster_sizes.items()))\n",
    "\n",
    "total_items = sum(sorted_cluster_sizes.values())\n",
    "for label, size in sorted_cluster_sizes.items():\n",
    "    percentage = (size / total_items) * 100\n",
    "    print(f\"Cluster {label}: {size} members ({percentage:.2f}%)\")\n",
    "\n",
    "labels, sizes = zip(*sorted(cluster_sizes.items()))\n",
    "\n",
    "plt.figure(figsize=(10, 6))\n",
    "plt.bar(labels, sizes, color='skyblue')\n",
    "plt.title('Distribution of Cluster Sizes')\n",
    "plt.xlabel('Cluster Number')\n",
    "plt.ylabel('Size')\n",
    "plt.xticks(labels)\n",
    "plt.show()"
   ]
  },
  {
   "cell_type": "code",
   "execution_count": 13,
   "metadata": {},
   "outputs": [
    {
     "data": {
      "text/html": [
       "<div>\n",
       "<style scoped>\n",
       "    .dataframe tbody tr th:only-of-type {\n",
       "        vertical-align: middle;\n",
       "    }\n",
       "\n",
       "    .dataframe tbody tr th {\n",
       "        vertical-align: top;\n",
       "    }\n",
       "\n",
       "    .dataframe thead th {\n",
       "        text-align: right;\n",
       "    }\n",
       "</style>\n",
       "<table border=\"1\" class=\"dataframe\">\n",
       "  <thead>\n",
       "    <tr style=\"text-align: right;\">\n",
       "      <th></th>\n",
       "      <th>track_name</th>\n",
       "      <th>peak_pos</th>\n",
       "      <th>album_name</th>\n",
       "      <th>key</th>\n",
       "      <th>tempo</th>\n",
       "      <th>video_url</th>\n",
       "      <th>latent_audio</th>\n",
       "      <th>peak_pos_bucketed</th>\n",
       "      <th>cluster_assignment</th>\n",
       "    </tr>\n",
       "  </thead>\n",
       "  <tbody>\n",
       "    <tr>\n",
       "      <th>12</th>\n",
       "      <td>All You Had To Do Was Stay</td>\n",
       "      <td>NaN</td>\n",
       "      <td>1989</td>\n",
       "      <td>5.0</td>\n",
       "      <td>96.970</td>\n",
       "      <td>https://www.youtube.com/watch?v=cEUCx9x8G_0</td>\n",
       "      <td>[tensor(-0.0923), tensor(0.0547), tensor(0.008...</td>\n",
       "      <td>&gt;100</td>\n",
       "      <td>4</td>\n",
       "    </tr>\n",
       "    <tr>\n",
       "      <th>13</th>\n",
       "      <td>All You Had To Do Was Stay (Taylor's Version)</td>\n",
       "      <td>20.0</td>\n",
       "      <td>1989 (Taylor's Version)</td>\n",
       "      <td>0.0</td>\n",
       "      <td>96.997</td>\n",
       "      <td>https://www.youtube.com/watch?v=cEUCx9x8G_0</td>\n",
       "      <td>[tensor(-0.0923), tensor(0.0547), tensor(0.008...</td>\n",
       "      <td>20-29</td>\n",
       "      <td>4</td>\n",
       "    </tr>\n",
       "    <tr>\n",
       "      <th>47</th>\n",
       "      <td>Change</td>\n",
       "      <td>10.0</td>\n",
       "      <td>Fearless</td>\n",
       "      <td>5.0</td>\n",
       "      <td>96.038</td>\n",
       "      <td>https://www.youtube.com/watch?v=jwWR1cQTKyw</td>\n",
       "      <td>[tensor(-0.0897), tensor(0.0502), tensor(0.021...</td>\n",
       "      <td>10-19</td>\n",
       "      <td>4</td>\n",
       "    </tr>\n",
       "    <tr>\n",
       "      <th>48</th>\n",
       "      <td>Change (Taylor's Version)</td>\n",
       "      <td>NaN</td>\n",
       "      <td>Fearless (Taylor's Version)</td>\n",
       "      <td>5.0</td>\n",
       "      <td>95.999</td>\n",
       "      <td>https://www.youtube.com/watch?v=jwWR1cQTKyw</td>\n",
       "      <td>[tensor(-0.0897), tensor(0.0502), tensor(0.021...</td>\n",
       "      <td>&gt;100</td>\n",
       "      <td>4</td>\n",
       "    </tr>\n",
       "    <tr>\n",
       "      <th>76</th>\n",
       "      <td>Electric Touch (Taylor's Version) [From The Va...</td>\n",
       "      <td>35.0</td>\n",
       "      <td>Speak Now (Taylor's Version)</td>\n",
       "      <td>7.0</td>\n",
       "      <td>131.073</td>\n",
       "      <td>https://www.youtube.com/watch?v=6ySa23nqXso</td>\n",
       "      <td>[tensor(-0.1332), tensor(0.0809), tensor(0.030...</td>\n",
       "      <td>30-39</td>\n",
       "      <td>4</td>\n",
       "    </tr>\n",
       "    <tr>\n",
       "      <th>97</th>\n",
       "      <td>Forever Winter (Taylor's Version) [From The Va...</td>\n",
       "      <td>79.0</td>\n",
       "      <td>Red (Taylor's Version)</td>\n",
       "      <td>7.0</td>\n",
       "      <td>116.012</td>\n",
       "      <td>https://www.youtube.com/watch?v=UVa0YRSbK9E</td>\n",
       "      <td>[tensor(-0.0774), tensor(0.0429), tensor(-0.02...</td>\n",
       "      <td>70-79</td>\n",
       "      <td>4</td>\n",
       "    </tr>\n",
       "    <tr>\n",
       "      <th>105</th>\n",
       "      <td>Half Of My Heart</td>\n",
       "      <td>NaN</td>\n",
       "      <td>NaN</td>\n",
       "      <td>5.0</td>\n",
       "      <td>115.058</td>\n",
       "      <td>https://www.youtube.com/watch?v=aojTGWAqUIQ&amp;pp...</td>\n",
       "      <td>[tensor(-0.0861), tensor(0.0406), tensor(-0.05...</td>\n",
       "      <td>&gt;100</td>\n",
       "      <td>4</td>\n",
       "    </tr>\n",
       "    <tr>\n",
       "      <th>139</th>\n",
       "      <td>If This Was A Movie (Taylor's Version)</td>\n",
       "      <td>NaN</td>\n",
       "      <td>NaN</td>\n",
       "      <td>4.0</td>\n",
       "      <td>147.895</td>\n",
       "      <td>https://www.youtube.com/watch?v=9wZEx9A8p9k&amp;pp...</td>\n",
       "      <td>[tensor(-0.0961), tensor(0.0460), tensor(0.029...</td>\n",
       "      <td>&gt;100</td>\n",
       "      <td>4</td>\n",
       "    </tr>\n",
       "    <tr>\n",
       "      <th>164</th>\n",
       "      <td>Love Story</td>\n",
       "      <td>4.0</td>\n",
       "      <td>Fearless</td>\n",
       "      <td>2.0</td>\n",
       "      <td>118.982</td>\n",
       "      <td>https://www.youtube.com/watch?v=aXzVF3XeS8M</td>\n",
       "      <td>[tensor(-0.1061), tensor(0.0617), tensor(0.010...</td>\n",
       "      <td>0-9</td>\n",
       "      <td>4</td>\n",
       "    </tr>\n",
       "    <tr>\n",
       "      <th>165</th>\n",
       "      <td>Love Story (Taylor's Version)</td>\n",
       "      <td>11.0</td>\n",
       "      <td>Fearless (Taylor's Version)</td>\n",
       "      <td>2.0</td>\n",
       "      <td>119.054</td>\n",
       "      <td>https://www.youtube.com/watch?v=aXzVF3XeS8M</td>\n",
       "      <td>[tensor(-0.1061), tensor(0.0617), tensor(0.010...</td>\n",
       "      <td>10-19</td>\n",
       "      <td>4</td>\n",
       "    </tr>\n",
       "    <tr>\n",
       "      <th>235</th>\n",
       "      <td>State Of Grace</td>\n",
       "      <td>13.0</td>\n",
       "      <td>Red</td>\n",
       "      <td>4.0</td>\n",
       "      <td>129.968</td>\n",
       "      <td>https://www.youtube.com/watch?v=gr4cqcqnAN0</td>\n",
       "      <td>[tensor(-0.0830), tensor(0.0538), tensor(0.033...</td>\n",
       "      <td>10-19</td>\n",
       "      <td>4</td>\n",
       "    </tr>\n",
       "    <tr>\n",
       "      <th>238</th>\n",
       "      <td>State Of Grace (Taylor's Version)</td>\n",
       "      <td>18.0</td>\n",
       "      <td>Red (Taylor's Version)</td>\n",
       "      <td>9.0</td>\n",
       "      <td>129.958</td>\n",
       "      <td>https://www.youtube.com/watch?v=gr4cqcqnAN0</td>\n",
       "      <td>[tensor(-0.0830), tensor(0.0538), tensor(0.033...</td>\n",
       "      <td>10-19</td>\n",
       "      <td>4</td>\n",
       "    </tr>\n",
       "    <tr>\n",
       "      <th>323</th>\n",
       "      <td>You're Not Sorry</td>\n",
       "      <td>11.0</td>\n",
       "      <td>Fearless</td>\n",
       "      <td>6.0</td>\n",
       "      <td>134.018</td>\n",
       "      <td>https://www.youtube.com/watch?v=DNaSlUYIXBg</td>\n",
       "      <td>[tensor(-0.0599), tensor(0.0502), tensor(-0.06...</td>\n",
       "      <td>10-19</td>\n",
       "      <td>4</td>\n",
       "    </tr>\n",
       "    <tr>\n",
       "      <th>324</th>\n",
       "      <td>You're Not Sorry (Taylor's Version)</td>\n",
       "      <td>NaN</td>\n",
       "      <td>Fearless (Taylor's Version)</td>\n",
       "      <td>6.0</td>\n",
       "      <td>133.873</td>\n",
       "      <td>https://www.youtube.com/watch?v=DNaSlUYIXBg</td>\n",
       "      <td>[tensor(-0.0599), tensor(0.0502), tensor(-0.06...</td>\n",
       "      <td>&gt;100</td>\n",
       "      <td>4</td>\n",
       "    </tr>\n",
       "  </tbody>\n",
       "</table>\n",
       "</div>"
      ],
      "text/plain": [
       "                                            track_name  peak_pos  \\\n",
       "12                          All You Had To Do Was Stay       NaN   \n",
       "13       All You Had To Do Was Stay (Taylor's Version)      20.0   \n",
       "47                                              Change      10.0   \n",
       "48                           Change (Taylor's Version)       NaN   \n",
       "76   Electric Touch (Taylor's Version) [From The Va...      35.0   \n",
       "97   Forever Winter (Taylor's Version) [From The Va...      79.0   \n",
       "105                                   Half Of My Heart       NaN   \n",
       "139             If This Was A Movie (Taylor's Version)       NaN   \n",
       "164                                         Love Story       4.0   \n",
       "165                      Love Story (Taylor's Version)      11.0   \n",
       "235                                     State Of Grace      13.0   \n",
       "238                  State Of Grace (Taylor's Version)      18.0   \n",
       "323                                   You're Not Sorry      11.0   \n",
       "324                You're Not Sorry (Taylor's Version)       NaN   \n",
       "\n",
       "                       album_name  key    tempo  \\\n",
       "12                           1989  5.0   96.970   \n",
       "13        1989 (Taylor's Version)  0.0   96.997   \n",
       "47                       Fearless  5.0   96.038   \n",
       "48    Fearless (Taylor's Version)  5.0   95.999   \n",
       "76   Speak Now (Taylor's Version)  7.0  131.073   \n",
       "97         Red (Taylor's Version)  7.0  116.012   \n",
       "105                           NaN  5.0  115.058   \n",
       "139                           NaN  4.0  147.895   \n",
       "164                      Fearless  2.0  118.982   \n",
       "165   Fearless (Taylor's Version)  2.0  119.054   \n",
       "235                           Red  4.0  129.968   \n",
       "238        Red (Taylor's Version)  9.0  129.958   \n",
       "323                      Fearless  6.0  134.018   \n",
       "324   Fearless (Taylor's Version)  6.0  133.873   \n",
       "\n",
       "                                             video_url  \\\n",
       "12         https://www.youtube.com/watch?v=cEUCx9x8G_0   \n",
       "13         https://www.youtube.com/watch?v=cEUCx9x8G_0   \n",
       "47         https://www.youtube.com/watch?v=jwWR1cQTKyw   \n",
       "48         https://www.youtube.com/watch?v=jwWR1cQTKyw   \n",
       "76         https://www.youtube.com/watch?v=6ySa23nqXso   \n",
       "97         https://www.youtube.com/watch?v=UVa0YRSbK9E   \n",
       "105  https://www.youtube.com/watch?v=aojTGWAqUIQ&pp...   \n",
       "139  https://www.youtube.com/watch?v=9wZEx9A8p9k&pp...   \n",
       "164        https://www.youtube.com/watch?v=aXzVF3XeS8M   \n",
       "165        https://www.youtube.com/watch?v=aXzVF3XeS8M   \n",
       "235        https://www.youtube.com/watch?v=gr4cqcqnAN0   \n",
       "238        https://www.youtube.com/watch?v=gr4cqcqnAN0   \n",
       "323        https://www.youtube.com/watch?v=DNaSlUYIXBg   \n",
       "324        https://www.youtube.com/watch?v=DNaSlUYIXBg   \n",
       "\n",
       "                                          latent_audio peak_pos_bucketed  \\\n",
       "12   [tensor(-0.0923), tensor(0.0547), tensor(0.008...              >100   \n",
       "13   [tensor(-0.0923), tensor(0.0547), tensor(0.008...             20-29   \n",
       "47   [tensor(-0.0897), tensor(0.0502), tensor(0.021...             10-19   \n",
       "48   [tensor(-0.0897), tensor(0.0502), tensor(0.021...              >100   \n",
       "76   [tensor(-0.1332), tensor(0.0809), tensor(0.030...             30-39   \n",
       "97   [tensor(-0.0774), tensor(0.0429), tensor(-0.02...             70-79   \n",
       "105  [tensor(-0.0861), tensor(0.0406), tensor(-0.05...              >100   \n",
       "139  [tensor(-0.0961), tensor(0.0460), tensor(0.029...              >100   \n",
       "164  [tensor(-0.1061), tensor(0.0617), tensor(0.010...               0-9   \n",
       "165  [tensor(-0.1061), tensor(0.0617), tensor(0.010...             10-19   \n",
       "235  [tensor(-0.0830), tensor(0.0538), tensor(0.033...             10-19   \n",
       "238  [tensor(-0.0830), tensor(0.0538), tensor(0.033...             10-19   \n",
       "323  [tensor(-0.0599), tensor(0.0502), tensor(-0.06...             10-19   \n",
       "324  [tensor(-0.0599), tensor(0.0502), tensor(-0.06...              >100   \n",
       "\n",
       "     cluster_assignment  \n",
       "12                    4  \n",
       "13                    4  \n",
       "47                    4  \n",
       "48                    4  \n",
       "76                    4  \n",
       "97                    4  \n",
       "105                   4  \n",
       "139                   4  \n",
       "164                   4  \n",
       "165                   4  \n",
       "235                   4  \n",
       "238                   4  \n",
       "323                   4  \n",
       "324                   4  "
      ]
     },
     "execution_count": 13,
     "metadata": {},
     "output_type": "execute_result"
    }
   ],
   "source": [
    "audio[audio[\"cluster_assignment\"] == 4]"
   ]
  },
  {
   "cell_type": "code",
   "execution_count": 10,
   "metadata": {},
   "outputs": [
    {
     "data": {
      "image/png": "[encoded data removed]",
      "text/plain": [
       "<Figure size 1200x600 with 1 Axes>"
      ]
     },
     "metadata": {},
     "output_type": "display_data"
    },
    {
     "data": {
      "image/png": "[encoded data removed]",
      "text/plain": [
       "<Figure size 1200x600 with 1 Axes>"
      ]
     },
     "metadata": {},
     "output_type": "display_data"
    }
   ],
   "source": [
    "c = 2\n",
    "cluster = audio[audio[\"cluster_assignment\"] == c].copy()\n",
    "\n",
    "plt.figure(figsize=(12, 6))\n",
    "album_name_counts = cluster['album_name'].value_counts()\n",
    "plt.bar(album_name_counts.index, album_name_counts.values)\n",
    "plt.xlabel('Album Name')\n",
    "plt.ylabel('Frequency')\n",
    "plt.title('Distribution of Album Names in Cluster')\n",
    "plt.xticks(rotation=90)\n",
    "plt.tight_layout()\n",
    "plt.show()\n",
    "\n",
    "plt.figure(figsize=(12, 6))\n",
    "\n",
    "# Handling NaN values by categorizing them as >100\n",
    "peak_pos_counts = cluster['peak_pos_bucketed'].value_counts().sort_index()\n",
    "\n",
    "plt.bar(peak_pos_counts.index, peak_pos_counts.values)\n",
    "plt.xlabel('Peak Position Bucket')\n",
    "plt.ylabel('Frequency')\n",
    "plt.title('Distribution of Peak Positions in Cluster')\n",
    "plt.xticks(rotation=45)\n",
    "plt.tight_layout()\n",
    "plt.show()"
   ]
  },
  {
   "cell_type": "code",
   "execution_count": 11,
   "metadata": {},
   "outputs": [
    {
     "data": {
      "image/png": "[encoded data removed]",
      "text/plain": [
       "<Figure size 2400x600 with 2 Axes>"
      ]
     },
     "metadata": {},
     "output_type": "display_data"
    }
   ],
   "source": [
    "fig, ax = plt.subplots(1, 2, figsize=(24, 6))\n",
    "\n",
    "# Distribution of Album Names\n",
    "album_name_counts = audio['album_name'].value_counts()\n",
    "ax[0].bar(album_name_counts.index, album_name_counts.values, color='skyblue')\n",
    "ax[0].set_xlabel('Album Name')\n",
    "ax[0].set_ylabel('Frequency')\n",
    "ax[0].set_title('Distribution of Album Names')\n",
    "ax[0].tick_params(axis='x', rotation=90)\n",
    "\n",
    "# Distribution of Peak Position Buckets\n",
    "peak_pos_counts = audio['peak_pos_bucketed'].value_counts().sort_index()\n",
    "ax[1].bar(peak_pos_counts.index, peak_pos_counts.values, color='coral')\n",
    "ax[1].set_xlabel('Peak Position Bucket')\n",
    "ax[1].set_ylabel('Frequency')\n",
    "ax[1].set_title('Distribution of Peak Positions')\n",
    "ax[1].tick_params(axis='x', rotation=45)\n",
    "\n",
    "plt.tight_layout()\n",
    "plt.show()"
   ]
  },
  {
   "cell_type": "code",
   "execution_count": 12,
   "metadata": {},
   "outputs": [],
   "source": [
    "audio['latent_audio'] = audio['latent_audio'].apply(lambda x: [t.item() for t in x] if x != None else None)\n",
    "audio.to_csv(\"../data/audio.csv\", index=False)"
   ]
  }
 ],
 "metadata": {
  "kernelspec": {
   "display_name": "Python 3",
   "language": "python",
   "name": "python3"
  },
  "language_info": {
   "codemirror_mode": {
    "name": "ipython",
    "version": 3
   },
   "file_extension": ".py",
   "mimetype": "text/x-python",
   "name": "python",
   "nbconvert_exporter": "python",
   "pygments_lexer": "ipython3",
   "version": "3.undefined.undefined"
  }
 },
 "nbformat": 4,
 "nbformat_minor": 2
}
