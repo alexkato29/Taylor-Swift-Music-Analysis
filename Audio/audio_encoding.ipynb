{
 "cells": [
  {
   "cell_type": "code",
   "execution_count": 1,
   "metadata": {},
   "outputs": [
    {
     "name": "stderr",
     "output_type": "stream",
     "text": [
      "2024-04-01 18:59:29.984083: I tensorflow/core/platform/cpu_feature_guard.cc:182] This TensorFlow binary is optimized to use available CPU instructions in performance-critical operations.\n",
      "To enable the following instructions: AVX2 FMA, in other operations, rebuild TensorFlow with the appropriate compiler flags.\n"
     ]
    }
   ],
   "source": [
    "import numpy as np\n",
    "import pandas as pd\n",
    "from collections import Counter\n",
    "\n",
    "import matplotlib.pyplot as plt\n",
    "import plotly.graph_objects as go\n",
    "\n",
    "import torch\n",
    "\n",
    "from sklearn.cluster import KMeans\n",
    "\n",
    "import umap\n",
    "from sklearn.manifold import TSNE"
   ]
  },
  {
   "cell_type": "code",
   "execution_count": 2,
   "metadata": {},
   "outputs": [],
   "source": [
    "audio = pd.read_csv(\"../data/audio.csv\")\n",
    "\n",
    "def list_to_tensor(lst):\n",
    "    if lst is not None:\n",
    "        return torch.tensor([float(x) for x in lst.strip(\"[]\").split(\",\") if x])\n",
    "    else:\n",
    "        return None\n",
    "\n",
    "# Convert the 'latent_audio' column back to tensors\n",
    "audio['latent_audio'] = audio['latent_audio'].apply(lambda x: list_to_tensor(x) if pd.notnull(x) else None)"
   ]
  },
  {
   "cell_type": "code",
   "execution_count": 3,
   "metadata": {},
   "outputs": [],
   "source": [
    "def plot_embeddings_interactive(embeddings, df, target_album=None, target_bucket=None):\n",
    "    \"\"\"\n",
    "    This is a function so we can see if there are patterns among different buckets of billboard scores.\n",
    "    It's a bit dizzying to look at everything overlaid...\n",
    "\n",
    "    This plot is interactive to make encoding EDA not as painful\n",
    "    \"\"\"\n",
    "    unique_albums = df['album_name'].unique()\n",
    "    album_colors = plt.cm.rainbow(np.linspace(0, 1, len(unique_albums)))\n",
    "    album_color_map = {album: f'rgb({int(col[0]*255)}, {int(col[1]*255)}, {int(col[2]*255)})' for album, col in zip(unique_albums, album_colors)}\n",
    "\n",
    "    unique_buckets = df['peak_pos_bucketed'].unique()\n",
    "    peak_pos_colors = plt.cm.Spectral(np.linspace(0, 1, len(unique_buckets)))\n",
    "    peak_pos_color_map = {bucket: f'rgb({int(col[0]*255)}, {int(col[1]*255)}, {int(col[2]*255)})' for bucket, col in zip(unique_buckets, peak_pos_colors)}\n",
    "\n",
    "    fig = go.Figure()\n",
    "\n",
    "    # Ensuring embeddings_2d is a NumPy array for indexing\n",
    "    embeddings_2d_np = np.array(embeddings)\n",
    "\n",
    "    # Add traces for album names\n",
    "    for album in unique_albums:\n",
    "        if target_album is not None and target_album != album:\n",
    "            continue\n",
    "        idx = df['album_name'] == album\n",
    "        selected_embeddings = embeddings_2d_np[idx]\n",
    "        fig.add_trace(go.Scatter(x=selected_embeddings[:, 0], y=selected_embeddings[:, 1],\n",
    "                                 mode='markers', marker=dict(color=album_color_map[album], opacity=0.7 if target_album is None or target_album == album else 0.2),\n",
    "                                 name=album, text=df[idx]['track_name']))\n",
    "\n",
    "    # Add traces for peak position buckets, set to be initially hidden (visible on legend click)\n",
    "    for bucket in unique_buckets:\n",
    "        if target_bucket is not None and target_bucket != bucket:\n",
    "            continue\n",
    "        idx = df['peak_pos_bucketed'] == bucket\n",
    "        selected_embeddings = embeddings_2d_np[idx]\n",
    "        fig.add_trace(go.Scatter(x=selected_embeddings[:, 0], y=selected_embeddings[:, 1],\n",
    "                                 mode='markers', marker=dict(color=peak_pos_color_map[bucket], opacity=0.7 if target_bucket is None or target_bucket == bucket else 0.2),\n",
    "                                 name=bucket, text=df[idx]['track_name'],\n",
    "                                 visible='legendonly'))\n",
    "\n",
    "    fig.update_layout(title='Interactive Plot of Song Embeddings',\n",
    "                      xaxis_title='TSNE 1',\n",
    "                      yaxis_title='TSNE 2',\n",
    "                      legend_title_text='Legend',\n",
    "                      hovermode='closest')\n",
    "\n",
    "    fig.show()"
   ]
  },
  {
   "cell_type": "code",
   "execution_count": 4,
   "metadata": {},
   "outputs": [],
   "source": [
    "embedding_dim = 768\n",
    "embeddings = np.array([embedding.flatten() if embedding is not None else np.zeros(embedding_dim) for embedding in audio['latent_audio']])"
   ]
  },
  {
   "cell_type": "code",
   "execution_count": 15,
   "metadata": {},
   "outputs": [
    {
     "name": "stderr",
     "output_type": "stream",
     "text": [
      "/Library/Frameworks/Python.framework/Versions/3.10/lib/python3.10/site-packages/umap/umap_.py:1943: UserWarning:\n",
      "\n",
      "n_jobs value -1 overridden to 1 by setting random_state. Use no seed for parallelism.\n",
      "\n"
     ]
    }
   ],
   "source": [
    "# Number of components is arbitrary for now\n",
    "ndims = 40\n",
    "umap_reducer = umap.UMAP(n_components=ndims, random_state=256)\n",
    "reduced_UMAP = umap_reducer.fit_transform(embeddings)"
   ]
  },
  {
   "cell_type": "code",
   "execution_count": 16,
   "metadata": {},
   "outputs": [
    {
     "data": {
      "application/vnd.plotly.v1+json": {
       "config": {
        "plotlyServerURL": "https://plot.ly"
       },
       "data": [
        {
         "marker": {
          "color": "rgb(127, 0, 255)",
          "opacity": 0.7
         },
         "mode": "markers",
         "name": "reputation",
         "text": [
          "...Ready For It?",
          "Call It What You Want",
          "Dancing With Our Hands Tied",
          "Delicate",
          "Don't Blame Me",
          "Dress",
          "End Game",
          "Getaway Car",
          "Gorgeous",
          "I Did Something Bad",
          "King Of My Heart",
          "Look What You Made Me Do",
          "New Year's Day",
          "So It Goes...",
          "This Is Why We Can't Have Nice Things"
         ],
         "type": "scatter",
         "x": [
          -1.37330961227417,
          -8.210262298583984,
          -5.935607433319092,
          -1.2388837337493896,
          -6.225342273712158,
          -10.925427436828613,
          12.912749290466309,
          10.209587097167969,
          -11.039345741271973,
          10.55580997467041,
          -6.031784534454346,
          10.653042793273926,
          -14.12110424041748,
          0.7037891149520874,
          -9.93532657623291
         ],
         "y": [
          -9.807506561279297,
          -9.513614654541016,
          -8.813295364379883,
          -11.352120399475098,
          -12.082259178161621,
          -3.5995330810546875,
          -4.498360633850098,
          -1.6520757675170898,
          -10.219375610351562,
          -2.4205310344696045,
          -12.526652336120605,
          -2.1628265380859375,
          8.928544044494629,
          9.60948657989502,
          8.960335731506348
         ]
        },
        {
         "marker": {
          "color": "rgb(95, 49, 253)",
          "opacity": 0.7
         },
         "mode": "markers",
         "name": "evermore",
         "text": [
          "'tis the damn season",
          "champagne problems",
          "closure",
          "coney island",
          "cowboy like me",
          "dorothea",
          "evermore",
          "gold rush",
          "happiness",
          "it's time to go",
          "ivy",
          "long story short",
          "marjorie",
          "no body, no crime",
          "right where you left me",
          "tolerate it",
          "willow"
         ],
         "type": "scatter",
         "x": [
          13.600905418395996,
          8.0919771194458,
          -13.868878364562988,
          -14.30394172668457,
          -11.6123628616333,
          0.5658310651779175,
          8.452840805053711,
          8.748405456542969,
          -12.865791320800781,
          -13.400175094604492,
          -12.964385032653809,
          -6.739874362945557,
          -11.413444519042969,
          -2.1787641048431396,
          8.705584526062012,
          -11.995071411132812,
          -11.569985389709473
         ],
         "y": [
          1.9553982019424438,
          4.423562049865723,
          10.02038860321045,
          10.185918807983398,
          6.464216232299805,
          -8.917009353637695,
          5.181754112243652,
          -4.793994903564453,
          -3.085519313812256,
          10.530094146728516,
          5.4524245262146,
          -8.635749816894531,
          -4.203527927398682,
          -11.61163330078125,
          -4.548676490783691,
          8.553380966186523,
          -9.421181678771973
         ]
        },
        {
         "marker": {
          "color": "rgb(63, 97, 250)",
          "opacity": 0.7
         },
         "mode": "markers",
         "name": "1989 (Taylor's Version)",
         "text": [
          "\"Slut!\" (Taylor's Version) [From The Vault]",
          "All You Had To Do Was Stay (Taylor's Version)",
          "Bad Blood (Remix) [Taylor's Version]",
          "Bad Blood (Taylor's Version)",
          "Blank Space (Taylor's Version)",
          "Clean (Taylor's Version)",
          "How You Get The Girl (Taylor's Version)",
          "I Know Places (Taylor's Version)",
          "I Wish You Would (Taylor's Version)",
          "Is It Over Now? (Taylor's Version) [From The Vault]",
          "New Romantics (Taylor's Version)",
          "Now That We Don't Talk (Taylor's Version) [From The Vault]",
          "Out Of The Woods (Taylor's Version)",
          "Say Don't Go (Taylor's Version) [From The Vault]",
          "Shake It Off (Taylor's Version)",
          "Style (Taylor's Version)",
          "Suburban Legends (Taylor's Version) [From The Vault]",
          "Sweeter Than Fiction (Taylor's Version)",
          "This Love (Taylor's Version)",
          "Welcome To New York (Taylor's Version)",
          "Wildest Dreams (Taylor's Version)",
          "Wonderland (Taylor's Version)",
          "You Are In Love (Taylor's Version)"
         ],
         "type": "scatter",
         "x": [
          -3.9671130180358887,
          18.30305290222168,
          -6.784209728240967,
          -5.412980556488037,
          -8.196043014526367,
          10.697213172912598,
          -9.685216903686523,
          14.10587215423584,
          2.165363311767578,
          -9.988973617553711,
          -4.036023139953613,
          4.973002910614014,
          15.786349296569824,
          -10.801841735839844,
          2.3209540843963623,
          -1.2549927234649658,
          4.12070894241333,
          12.878790855407715,
          -10.40364933013916,
          -4.593881130218506,
          13.405257225036621,
          1.6019436120986938,
          -13.748106002807617
         ],
         "y": [
          -11.505532264709473,
          4.536459445953369,
          -12.40023136138916,
          -12.181595802307129,
          -11.762313842773438,
          -2.6008033752441406,
          8.972344398498535,
          3.1797332763671875,
          8.678557395935059,
          -10.682069778442383,
          9.606175422668457,
          -7.573320388793945,
          4.03550386428833,
          7.253529071807861,
          9.448221206665039,
          -11.735881805419922,
          -9.249615669250488,
          -4.675885200500488,
          -6.35490083694458,
          -11.777322769165039,
          3.9976329803466797,
          9.371834754943848,
          10.703084945678711
         ]
        },
        {
         "marker": {
          "color": "rgb(31, 142, 243)",
          "opacity": 0.7
         },
         "mode": "markers",
         "name": "Red",
         "text": [
          "22",
          "All Too Well",
          "Begin Again",
          "Come Back...Be Here",
          "Everything Has Changed",
          "Girl At Home",
          "Holy Ground",
          "I Almost Do",
          "I Knew You Were Trouble",
          "Red",
          "Red (Original Demo Recording)",
          "Sad Beautiful Tragic",
          "Starlight",
          "State Of Grace",
          "State Of Grace (Acoustic Version)",
          "Stay Stay Stay",
          "The Last Time",
          "The Lucky One",
          "The Moment I Knew",
          "Treacherous",
          "Treacherous (Original Demo Recording)",
          "We Are Never Ever Getting Back Together"
         ],
         "type": "scatter",
         "x": [
          -3.807241201400757,
          -4.515919208526611,
          7.921637058258057,
          10.705153465270996,
          6.923664093017578,
          19.218908309936523,
          9.511859893798828,
          -0.577079176902771,
          4.455359935760498,
          21.14443016052246,
          13.284889221191406,
          -9.277583122253418,
          8.334981918334961,
          9.589674949645996,
          -10.691144943237305,
          13.935744285583496,
          -3.5563743114471436,
          20.11363410949707,
          -12.148772239685059,
          2.4536430835723877,
          13.19920539855957,
          -0.400925874710083
         ],
         "y": [
          10.381290435791016,
          9.557743072509766,
          4.687380790710449,
          5.781468868255615,
          6.4408135414123535,
          3.837738275527954,
          5.42780876159668,
          9.942428588867188,
          -9.983513832092285,
          5.4050984382629395,
          -4.314830780029297,
          8.179414749145508,
          -5.7827630043029785,
          6.135200500488281,
          5.460024833679199,
          2.768824577331543,
          9.571386337280273,
          3.6911473274230957,
          -3.0843770503997803,
          9.230629920959473,
          -4.880037784576416,
          -10.378500938415527
         ]
        },
        {
         "marker": {
          "color": "rgb(0, 180, 235)",
          "opacity": 0.7
         },
         "mode": "markers",
         "name": "Red (Taylor's Version)",
         "text": [
          "22 (Taylor's Version)",
          "All Too Well (10 Minute Version) [Taylor's Version] [From The Vault]",
          "All Too Well (Taylor's Version)",
          "Babe (Taylor's Version) [From The Vault]",
          "Begin Again (Taylor's Version)",
          "Better Man (Taylor's Version) [From The Vault]",
          "Come Back...Be Here (Taylor's Version)",
          "Everything Has Changed (Taylor's Version)",
          "Forever Winter (Taylor's Version) [From The Vault]",
          "Girl At Home (Taylor's Version)",
          "Holy Ground (Taylor's Version)",
          "I Almost Do (Taylor's Version)",
          "I Bet You Think About Me (Taylor's Version) [From The Vault]",
          "I Knew You Were Trouble (Taylor's Version)",
          "Message In A Bottle (Taylor's Version) [From The Vault]",
          "Nothing New (Taylor's Version) [From The Vault]",
          "Red (Taylor's Version)",
          "Ronan (Taylor's Version)",
          "Run (Taylor's Version) [From The Vault]",
          "Sad Beautiful Tragic (Taylor's Version)",
          "Starlight (Taylor's Version)",
          "State Of Grace (Acoustic Version) [Taylor's Version]",
          "State Of Grace (Taylor's Version)",
          "Stay Stay Stay (Taylor's Version)",
          "The Last Time (Taylor's Version)",
          "The Lucky One (Taylor's Version)",
          "The Moment I Knew (Taylor's Version)",
          "The Very First Night (Taylor's Version) [From The Vault]",
          "Treacherous (Taylor's Version)",
          "We Are Never Ever Getting Back Together (Taylor's Version)"
         ],
         "type": "scatter",
         "x": [
          -3.735929250717163,
          -3.1865055561065674,
          -4.783659934997559,
          8.315474510192871,
          8.456509590148926,
          3.844146251678467,
          10.793405532836914,
          6.986034870147705,
          10.879125595092773,
          19.3572998046875,
          9.768649101257324,
          -0.44286566972732544,
          -1.9467076063156128,
          4.667202472686768,
          8.27805233001709,
          -11.02939224243164,
          20.935800552368164,
          -14.57650089263916,
          -12.048906326293945,
          -9.447484970092773,
          8.38609504699707,
          -10.619852066040039,
          9.21456527709961,
          14.100227355957031,
          -3.365408420562744,
          20.18339729309082,
          -12.035191535949707,
          -0.3365686237812042,
          2.7221765518188477,
          -0.6473339796066284
         ],
         "y": [
          10.392555236816406,
          -11.181896209716797,
          10.017019271850586,
          5.5540289878845215,
          4.852311611175537,
          -7.393093109130859,
          5.722553253173828,
          6.355495452880859,
          5.423551559448242,
          3.550567150115967,
          5.27542781829834,
          9.444998741149902,
          9.88758373260498,
          -9.42560863494873,
          6.008594512939453,
          -3.60467791557312,
          5.496203422546387,
          9.150230407714844,
          6.581368446350098,
          8.030354499816895,
          -5.607371807098389,
          5.583898067474365,
          6.217302322387695,
          2.6146621704101562,
          9.614880561828613,
          3.3767049312591553,
          -2.8486809730529785,
          -9.496533393859863,
          9.152466773986816,
          -10.534200668334961
         ]
        },
        {
         "marker": {
          "color": "rgb(32, 212, 224)",
          "opacity": 0.7
         },
         "mode": "markers",
         "name": "Taylor Swift",
         "text": [
          "A Perfectly Good Heart",
          "A Place In This World",
          "Cold As You",
          "I'm Only Me When I'm With You",
          "I'm Only Me When I'm With You",
          "Invisible",
          "Mary's Song (Oh My My My)",
          "Our Song",
          "Picture To Burn",
          "Should've Said No",
          "Stay Beautiful",
          "Teardrops On My Guitar",
          "Teardrops On My Guitar (Pop Version)",
          "The Outside",
          "Tied Together With A Smile",
          "Tim McGraw"
         ],
         "type": "scatter",
         "x": [
          -4.955780029296875,
          -8.245399475097656,
          7.558688640594482,
          -4.9802565574646,
          -5.103453636169434,
          -12.367773056030273,
          -0.1861163079738617,
          13.097429275512695,
          8.175429344177246,
          -11.17424201965332,
          16.276504516601562,
          -6.297052383422852,
          -11.01693058013916,
          4.71163272857666,
          -4.66229772567749,
          -7.119119644165039
         ],
         "y": [
          9.75700855255127,
          9.033766746520996,
          -6.176255226135254,
          -7.006817817687988,
          -7.053248405456543,
          -7.580348014831543,
          -8.912858963012695,
          -4.336127758026123,
          -6.366244316101074,
          6.015754699707031,
          3.9888525009155273,
          -10.27873706817627,
          7.599287986755371,
          -8.279770851135254,
          -12.308869361877441,
          -9.238051414489746
         ]
        },
        {
         "marker": {
          "color": "rgb(64, 236, 211)",
          "opacity": 0.7
         },
         "mode": "markers",
         "name": "Lover",
         "text": [
          "Afterglow",
          "Cornelia Street",
          "Cruel Summer",
          "Daylight",
          "Death By A Thousand Cuts",
          "False God",
          "I Forgot That You Existed",
          "I Think He Knows",
          "It's Nice To Have A Friend",
          "London Boy",
          "Lover",
          "ME!",
          "Miss Americana & The Heartbreak Prince",
          "Paper Rings",
          "Soon You'll Get Better",
          "The Archer",
          "The Man",
          "You Need To Calm Down"
         ],
         "type": "scatter",
         "x": [
          -11.621193885803223,
          -8.797776222229004,
          20.370073318481445,
          8.872452735900879,
          -7.337822914123535,
          -12.514286041259766,
          -14.659500122070312,
          -9.287798881530762,
          -11.214604377746582,
          5.048120498657227,
          -9.05440616607666,
          10.089277267456055,
          9.940449714660645,
          5.360517501831055,
          -9.807143211364746,
          -11.744211196899414,
          10.916443824768066,
          -9.291159629821777
         ],
         "y": [
          7.231712341308594,
          -10.880922317504883,
          5.059384822845459,
          5.96022367477417,
          -12.12260913848877,
          8.013476371765137,
          9.678426742553711,
          -11.285390853881836,
          -5.335153579711914,
          -6.564382553100586,
          8.6368989944458,
          -3.050231456756592,
          -3.1536262035369873,
          -7.614887237548828,
          -7.248100757598877,
          -4.720943450927734,
          -1.6539703607559204,
          -11.267276763916016
         ]
        },
        {
         "marker": {
          "color": "rgb(96, 250, 196)",
          "opacity": 0.7
         },
         "mode": "markers",
         "name": "nan",
         "text": [],
         "type": "scatter",
         "x": [],
         "y": []
        },
        {
         "marker": {
          "color": "rgb(128, 254, 179)",
          "opacity": 0.7
         },
         "mode": "markers",
         "name": "1989",
         "text": [
          "All You Had To Do Was Stay",
          "Bad Blood",
          "Blank Space",
          "Clean",
          "How You Get The Girl",
          "I Know Places",
          "I Wish You Would",
          "New Romantics",
          "Out Of The Woods",
          "Shake It Off",
          "Style",
          "This Love",
          "Welcome To New York",
          "Wildest Dreams",
          "Wonderland",
          "You Are In Love"
         ],
         "type": "scatter",
         "x": [
          17.994953155517578,
          -5.468176364898682,
          -8.698384284973145,
          -7.333608150482178,
          -9.476630210876465,
          14.010200500488281,
          2.07548189163208,
          -4.322015762329102,
          16.04230499267578,
          2.327756881713867,
          -1.3086735010147095,
          -10.639277458190918,
          -4.710607528686523,
          13.432720184326172,
          1.7506957054138184,
          -13.934674263000488
         ],
         "y": [
          4.391685485839844,
          -12.301752090454102,
          -11.597357749938965,
          -8.655495643615723,
          8.743975639343262,
          3.2710530757904053,
          8.693506240844727,
          10.35993480682373,
          4.245743751525879,
          9.379378318786621,
          -11.610469818115234,
          -6.174683094024658,
          -11.969681739807129,
          3.9279651641845703,
          9.370622634887695,
          11.066866874694824
         ]
        },
        {
         "marker": {
          "color": "rgb(160, 249, 161)",
          "opacity": 0.7
         },
         "mode": "markers",
         "name": "Midnights",
         "text": [
          "Anti-Hero",
          "Bejeweled",
          "Bigger Than The Whole Sky",
          "Dear Reader",
          "Glitch",
          "High Infidelity",
          "Hits Different",
          "Karma",
          "Karma (Remix)",
          "Labyrinth",
          "Lavender Haze",
          "Maroon",
          "Mastermind",
          "Midnight Rain",
          "Paris",
          "Question...?",
          "Snow On The Beach",
          "Snow On The Beach (More Lana Del Rey)",
          "Sweet Nothing",
          "Sweet Nothing (Piano Remix)",
          "The Great War",
          "Vigilante Shit",
          "Would've, Could've, Should've",
          "You're Losing Me (From The Vault)",
          "You're On Your Own, Kid",
          "You're On Your Own, Kid (Strings Remix)"
         ],
         "type": "scatter",
         "x": [
          10.536494255065918,
          -2.2676477432250977,
          -11.95309066772461,
          -14.671035766601562,
          -9.315176010131836,
          -10.755749702453613,
          19.98672103881836,
          5.52484130859375,
          9.378812789916992,
          8.528779983520508,
          -7.752572536468506,
          -14.234604835510254,
          -14.02824878692627,
          -11.874719619750977,
          10.185392379760742,
          -14.988239288330078,
          -11.446711540222168,
          -8.553277015686035,
          -11.803699493408203,
          -11.763472557067871,
          18.765644073486328,
          -13.419534683227539,
          20.02956199645996,
          -10.9425048828125,
          -11.023563385009766,
          -5.84175968170166
         ],
         "y": [
          -1.023718237876892,
          -10.976434707641602,
          -4.480001449584961,
          10.258857727050781,
          -10.415882110595703,
          -10.1355619430542,
          3.2965924739837646,
          -6.425111770629883,
          -3.818950653076172,
          4.734474182128906,
          -11.791717529296875,
          10.88723373413086,
          9.588357925415039,
          -9.655355453491211,
          -2.171722412109375,
          8.928363800048828,
          9.834120750427246,
          -9.04813003540039,
          -9.317452430725098,
          -9.957085609436035,
          3.1414783000946045,
          10.887978553771973,
          3.282778739929199,
          -9.344053268432617,
          -9.899252891540527,
          -10.334712028503418
         ]
        },
        {
         "marker": {
          "color": "rgb(192, 234, 140)",
          "opacity": 0.7
         },
         "mode": "markers",
         "name": "folklore",
         "text": [
          "august",
          "betty",
          "cardigan",
          "epiphany",
          "exile",
          "hoax",
          "illicit affairs",
          "invisible string",
          "mad woman",
          "mirrorball",
          "my tears ricochet",
          "peace",
          "seven",
          "the 1",
          "the lakes",
          "the last great american dynasty",
          "this is me trying"
         ],
         "type": "scatter",
         "x": [
          -10.265926361083984,
          14.184447288513184,
          -11.37113094329834,
          21.297595977783203,
          -12.45927906036377,
          -14.826566696166992,
          -12.430294036865234,
          -13.47714614868164,
          -8.602004051208496,
          20.037385940551758,
          7.095906734466553,
          -13.838981628417969,
          -11.49001407623291,
          -14.612531661987305,
          -12.45361614227295,
          -11.452916145324707,
          4.09279203414917
         ],
         "y": [
          -6.613118648529053,
          2.0736966133117676,
          -1.2906785011291504,
          4.98600959777832,
          -4.02541971206665,
          10.017685890197754,
          -8.678441047668457,
          5.578546524047852,
          -8.83936882019043,
          4.1182732582092285,
          -6.257778644561768,
          7.545657157897949,
          -4.1520586013793945,
          10.664758682250977,
          -7.804928302764893,
          8.521665573120117,
          -6.801442623138428
         ]
        },
        {
         "marker": {
          "color": "rgb(224, 210, 119)",
          "opacity": 0.7
         },
         "mode": "markers",
         "name": "Speak Now",
         "text": [
          "Back To December",
          "Better Than Revenge",
          "Dear John",
          "Enchanted",
          "Haunted",
          "If This Was A Movie",
          "Innocent",
          "Last Kiss",
          "Long Live",
          "Mean",
          "Mine",
          "Never Grow Up",
          "Ours",
          "Sparks Fly",
          "Speak Now",
          "Superman",
          "The Story Of Us"
         ],
         "type": "scatter",
         "x": [
          7.845767498016357,
          3.5836737155914307,
          5.118841648101807,
          -3.0621445178985596,
          -13.25723934173584,
          20.115039825439453,
          -12.059097290039062,
          4.086921691894531,
          0.3517531752586365,
          -7.673745155334473,
          14.63520336151123,
          -12.249114990234375,
          -8.44748592376709,
          0.5925644040107727,
          2.787538528442383,
          7.377112865447998,
          2.1899828910827637
         ],
         "y": [
          -5.15181303024292,
          -9.117033004760742,
          -9.839741706848145,
          10.126200675964355,
          -2.4033203125,
          5.431666851043701,
          -3.483869791030884,
          -7.118414878845215,
          -9.502313613891602,
          9.144207954406738,
          3.528646230697632,
          -7.898265361785889,
          -10.15555477142334,
          -9.316229820251465,
          -9.309150695800781,
          6.3892693519592285,
          -9.407997131347656
         ]
        },
        {
         "marker": {
          "color": "rgb(255, 178, 96)",
          "opacity": 0.7
         },
         "mode": "markers",
         "name": "Speak Now (Taylor's Version)",
         "text": [
          "Back To December (Taylor's Version)",
          "Better Than Revenge (Taylor's Version)",
          "Castles Crumbling (Taylor's Version) [From The Vault]",
          "Dear John (Taylor's Version)",
          "Electric Touch (Taylor's Version) [From The Vault]",
          "Enchanted (Taylor's Version)",
          "Foolish One (Taylor's Version) [From The Vault]",
          "Haunted (Taylor's Version)",
          "I Can See You (Taylor's Version) [From The Vault]",
          "Innocent (Taylor's Version)",
          "Last Kiss (Taylor's Version)",
          "Long Live (Taylor's Version)",
          "Mean (Taylor's Version)",
          "Mine (Taylor's Version)",
          "Never Grow Up (Taylor's Version)",
          "Ours (Taylor's Version)",
          "Sparks Fly (Taylor's Version)",
          "Speak Now (Taylor's Version)",
          "Superman (Taylor's Version)",
          "The Story Of Us (Taylor's Version)",
          "Timeless (Taylor's Version) [From The Vault]",
          "When Emma Falls In Love (Taylor's Version) [From The Vault]"
         ],
         "type": "scatter",
         "x": [
          7.926735877990723,
          3.8018035888671875,
          4.73752498626709,
          4.876450061798096,
          19.512807846069336,
          -3.4017891883850098,
          3.7143394947052,
          -12.910383224487305,
          20.606945037841797,
          -12.054503440856934,
          3.9827346801757812,
          0.3347950577735901,
          -8.089774131774902,
          14.46700382232666,
          -11.873637199401855,
          -8.625585556030273,
          0.5276153087615967,
          2.828836441040039,
          7.37412166595459,
          1.7492942810058594,
          -6.231845378875732,
          -0.08123934268951416
         ],
         "y": [
          -5.06591272354126,
          -9.122797966003418,
          -7.743677139282227,
          -10.034977912902832,
          5.080223560333252,
          10.400423049926758,
          -7.183605194091797,
          -2.4195544719696045,
          5.730347156524658,
          -3.659691333770752,
          -6.852931976318359,
          -9.501157760620117,
          8.959667205810547,
          3.535961389541626,
          -7.982557773590088,
          -10.102153778076172,
          -9.040315628051758,
          -9.255403518676758,
          6.052701473236084,
          -9.445591926574707,
          -7.655584812164307,
          9.930630683898926
         ]
        },
        {
         "marker": {
          "color": "rgb(255, 139, 72)",
          "opacity": 0.7
         },
         "mode": "markers",
         "name": "Beautiful Eyes",
         "text": [
          "Beautiful Eyes",
          "I Heart ?",
          "I'm Only Me When I'm With You",
          "I'm Only Me When I'm With You",
          "Picture To Burn (Radio Edit)",
          "Should've Said No (Alternate Version)",
          "Teardrops On My Guitar (Acoustic Version)"
         ],
         "type": "scatter",
         "x": [
          -13.312614440917969,
          -4.16532564163208,
          -5.295614719390869,
          -5.2652435302734375,
          -2.0354225635528564,
          13.52078914642334,
          -10.321788787841797
         ],
         "y": [
          -2.8221447467803955,
          -7.0960774421691895,
          -7.074659824371338,
          -7.090743064880371,
          9.91354751586914,
          -4.441153049468994,
          7.434200763702393
         ]
        },
        {
         "marker": {
          "color": "rgb(255, 95, 48)",
          "opacity": 0.7
         },
         "mode": "markers",
         "name": "Fearless",
         "text": [
          "Breathe",
          "Change",
          "Come In With The Rain",
          "Fearless",
          "Fifteen",
          "Forever & Always",
          "Forever & Always (Piano Version)",
          "Hey Stephen",
          "Jump Then Fall",
          "Love Story",
          "SuperStar",
          "Tell Me Why",
          "The Best Day",
          "The Other Side Of The Door",
          "The Way I Loved You",
          "Untouchable",
          "White Horse",
          "You Belong With Me",
          "You're Not Sorry"
         ],
         "type": "scatter",
         "x": [
          -13.181327819824219,
          11.178926467895508,
          -12.710951805114746,
          11.185452461242676,
          18.990625381469727,
          -1.0250205993652344,
          7.42461633682251,
          -11.229888916015625,
          -0.24958088994026184,
          18.83444595336914,
          -1.7649811506271362,
          20.59713363647461,
          -10.731236457824707,
          7.635143756866455,
          16.258359909057617,
          20.771568298339844,
          -6.348515510559082,
          11.50027847290039,
          12.649829864501953
         ],
         "y": [
          -2.3291873931884766,
          4.99626350402832,
          -3.829418897628784,
          -0.8470332026481628,
          4.0865912437438965,
          9.837760925292969,
          -5.787498950958252,
          9.249319076538086,
          9.947088241577148,
          4.482906818389893,
          -11.386117935180664,
          4.66829776763916,
          6.536922454833984,
          5.98130464553833,
          4.200235843658447,
          4.620675563812256,
          -8.244293212890625,
          5.41910982131958,
          4.464230537414551
         ]
        },
        {
         "marker": {
          "color": "rgb(255, 46, 23)",
          "opacity": 0.7
         },
         "mode": "markers",
         "name": "Fearless (Taylor's Version)",
         "text": [
          "Breathe (Taylor's Version)",
          "Bye Bye Baby (Taylor's Version) [From The Vault]",
          "Change (Taylor's Version)",
          "Come In With The Rain (Taylor's Version)",
          "Don't You (Taylor's Version) [From The Vault]",
          "Fearless (Taylor's Version)",
          "Fifteen (Taylor's Version)",
          "Forever & Always (Piano Version) [Taylor's Version]",
          "Forever & Always (Taylor's Version)",
          "Hey Stephen (Taylor's Version)",
          "Jump Then Fall (Taylor's Version)",
          "Love Story (Taylor's Version)",
          "Mr. Perfectly Fine (Taylor's Version) [From The Vault]",
          "SuperStar (Taylor's Version)",
          "Tell Me Why (Taylor's Version)",
          "That's When (Taylor's Version) [From The Vault]",
          "The Best Day (Taylor's Version)",
          "The Other Side Of The Door (Taylor's Version)",
          "The Way I Loved You (Taylor's Version)",
          "Today Was A Fairytale (Taylor's Version)",
          "Untouchable (Taylor's Version)",
          "We Were Happy (Taylor's Version) [From The Vault]",
          "White Horse (Taylor's Version)",
          "You All Over Me (Taylor's Version) [From The Vault]",
          "You Belong With Me (Taylor's Version)",
          "You're Not Sorry (Taylor's Version)"
         ],
         "type": "scatter",
         "x": [
          -13.418718338012695,
          4.775540351867676,
          11.298920631408691,
          -12.713077545166016,
          -1.8246116638183594,
          10.90223503112793,
          18.83460235595703,
          7.790019989013672,
          -0.8936884999275208,
          -11.306461334228516,
          -0.10769067704677582,
          18.55567741394043,
          10.879385948181152,
          -1.7909592390060425,
          21.077880859375,
          -7.366974353790283,
          -10.676855087280273,
          7.15658712387085,
          16.14903450012207,
          10.056575775146484,
          21.12925148010254,
          -11.561443328857422,
          -6.587027549743652,
          -12.344833374023438,
          11.691839218139648,
          12.65886402130127
         ],
         "y": [
          -2.6991453170776367,
          -9.964372634887695,
          5.023001670837402,
          -3.8379926681518555,
          -10.911368370056152,
          -0.7778089642524719,
          3.6438984870910645,
          -5.7262396812438965,
          9.69163990020752,
          9.223006248474121,
          9.442364692687988,
          4.504212379455566,
          -1.1251696348190308,
          -11.310039520263672,
          4.319201946258545,
          -10.203399658203125,
          6.22713565826416,
          5.671371936798096,
          4.409392833709717,
          1.0781528949737549,
          4.4280877113342285,
          7.832067489624023,
          -8.30068588256836,
          6.10460901260376,
          5.0962371826171875,
          4.470848560333252
         ]
        },
        {
         "marker": {
          "color": "rgb(255, 0, 0)",
          "opacity": 0.7
         },
         "mode": "markers",
         "name": "The Taylor Swift Holiday Collection",
         "text": [
          "Christmas Must Be Something More",
          "Christmases When You Were Mine",
          "Last Christmas",
          "Santa Baby",
          "Silent Night",
          "White Christmas"
         ],
         "type": "scatter",
         "x": [
          4.185108184814453,
          -14.079647064208984,
          -5.774231910705566,
          -13.518705368041992,
          0.20221936702728271,
          -5.645961761474609
         ],
         "y": [
          -9.825531005859375,
          9.526931762695312,
          -9.95181655883789,
          8.266999244689941,
          9.514036178588867,
          9.632805824279785
         ]
        },
        {
         "marker": {
          "color": "rgb(158, 1, 66)",
          "opacity": 0.7
         },
         "mode": "markers",
         "name": "0-9",
         "text": [
          "...Ready For It?",
          "\"Slut!\" (Taylor's Version) [From The Vault]",
          "All Too Well (Taylor's Version)",
          "Anti-Hero",
          "Back To December",
          "Bad Blood (Remix) [Taylor's Version]",
          "Bad Blood (Taylor's Version)",
          "Begin Again",
          "Bejeweled",
          "Blank Space",
          "cardigan",
          "Cruel Summer",
          "exile",
          "Fearless",
          "I Can See You (Taylor's Version) [From The Vault]",
          "I Don't Wanna Live Forever",
          "I Knew You Were Trouble",
          "Is It Over Now? (Taylor's Version) [From The Vault]",
          "Karma (Remix)",
          "Lavender Haze",
          "Look What You Made Me Do",
          "Love Story",
          "Maroon",
          "ME!",
          "Midnight Rain",
          "Mine",
          "Now That We Don't Talk (Taylor's Version) [From The Vault]",
          "Question...?",
          "Red",
          "Say Don't Go (Taylor's Version) [From The Vault]",
          "Shake It Off",
          "Snow On The Beach",
          "Speak Now",
          "Style",
          "Style (Taylor's Version)",
          "the 1",
          "Today Was A Fairytale",
          "We Are Never Ever Getting Back Together",
          "Wildest Dreams",
          "willow",
          "You Belong With Me",
          "You Need To Calm Down",
          "You're On Your Own, Kid"
         ],
         "type": "scatter",
         "visible": "legendonly",
         "x": [
          -1.37330961227417,
          -3.9671130180358887,
          -4.783659934997559,
          10.536494255065918,
          7.845767498016357,
          -6.784209728240967,
          -5.412980556488037,
          7.921637058258057,
          -2.2676477432250977,
          -8.698384284973145,
          -11.37113094329834,
          20.370073318481445,
          -12.45927906036377,
          11.185452461242676,
          20.606945037841797,
          -11.901018142700195,
          4.455359935760498,
          -9.988973617553711,
          9.378812789916992,
          -7.752572536468506,
          10.653042793273926,
          18.83444595336914,
          -14.234604835510254,
          10.089277267456055,
          -11.874719619750977,
          14.63520336151123,
          4.973002910614014,
          -14.988239288330078,
          21.14443016052246,
          -10.801841735839844,
          2.327756881713867,
          -11.446711540222168,
          2.787538528442383,
          -1.3086735010147095,
          -1.2549927234649658,
          -14.612531661987305,
          10.1683988571167,
          -0.400925874710083,
          13.432720184326172,
          -11.569985389709473,
          11.50027847290039,
          -9.291159629821777,
          -11.023563385009766
         ],
         "y": [
          -9.807506561279297,
          -11.505532264709473,
          10.017019271850586,
          -1.023718237876892,
          -5.15181303024292,
          -12.40023136138916,
          -12.181595802307129,
          4.687380790710449,
          -10.976434707641602,
          -11.597357749938965,
          -1.2906785011291504,
          5.059384822845459,
          -4.02541971206665,
          -0.8470332026481628,
          5.730347156524658,
          -6.32295036315918,
          -9.983513832092285,
          -10.682069778442383,
          -3.818950653076172,
          -11.791717529296875,
          -2.1628265380859375,
          4.482906818389893,
          10.88723373413086,
          -3.050231456756592,
          -9.655355453491211,
          3.528646230697632,
          -7.573320388793945,
          8.928363800048828,
          5.4050984382629395,
          7.253529071807861,
          9.379378318786621,
          9.834120750427246,
          -9.309150695800781,
          -11.610469818115234,
          -11.735881805419922,
          10.664758682250977,
          0.669338583946228,
          -10.378500938415527,
          3.9279651641845703,
          -9.421181678771973,
          5.41910982131958,
          -11.267276763916016,
          -9.899252891540527
         ]
        },
        {
         "marker": {
          "color": "rgb(211, 60, 78)",
          "opacity": 0.7
         },
         "mode": "markers",
         "name": "30-39",
         "text": [
          "'tis the damn season",
          "Castles Crumbling (Taylor's Version) [From The Vault]",
          "Clean (Taylor's Version)",
          "Come In With The Rain",
          "Electric Touch (Taylor's Version) [From The Vault]",
          "Everything Has Changed",
          "Forever & Always",
          "High Infidelity",
          "I Know Places (Taylor's Version)",
          "I Wish You Would (Taylor's Version)",
          "invisible string",
          "Mean (Taylor's Version)",
          "Mr. Perfectly Fine (Taylor's Version) [From The Vault]",
          "no body, no crime",
          "Paris",
          "Safe & Sound",
          "seven",
          "Should've Said No",
          "Speak Now (Taylor's Version)",
          "Sweeter Than Fiction",
          "The Archer",
          "this is me trying",
          "When Emma Falls In Love (Taylor's Version) [From The Vault]",
          "Wonderland (Taylor's Version)"
         ],
         "type": "scatter",
         "visible": "legendonly",
         "x": [
          13.600905418395996,
          4.73752498626709,
          10.697213172912598,
          -12.710951805114746,
          19.512807846069336,
          6.923664093017578,
          -1.0250205993652344,
          -10.755749702453613,
          14.10587215423584,
          2.165363311767578,
          -13.47714614868164,
          -8.089774131774902,
          10.879385948181152,
          -2.1787641048431396,
          10.185392379760742,
          -10.74825382232666,
          -11.49001407623291,
          -11.17424201965332,
          2.828836441040039,
          -4.2986016273498535,
          -11.744211196899414,
          4.09279203414917,
          -0.08123934268951416,
          1.6019436120986938
         ],
         "y": [
          1.9553982019424438,
          -7.743677139282227,
          -2.6008033752441406,
          -3.829418897628784,
          5.080223560333252,
          6.4408135414123535,
          9.837760925292969,
          -10.1355619430542,
          3.1797332763671875,
          8.678557395935059,
          5.578546524047852,
          8.959667205810547,
          -1.1251696348190308,
          -11.61163330078125,
          -2.171722412109375,
          5.905524253845215,
          -4.1520586013793945,
          6.015754699707031,
          -9.255403518676758,
          9.986615180969238,
          -4.720943450927734,
          -6.801442623138428,
          9.930630683898926,
          9.371834754943848
         ]
        },
        {
         "marker": {
          "color": "rgb(244, 109, 67)",
          "opacity": 0.7
         },
         "mode": "markers",
         "name": "20-29",
         "text": [
          "22",
          "All You Had To Do Was Stay (Taylor's Version)",
          "august",
          "Better Than Revenge (Taylor's Version)",
          "Bigger Than The Whole Sky",
          "Call It What You Want",
          "champagne problems",
          "Dear John (Taylor's Version)",
          "Fifteen",
          "Highway Don't Care",
          "Hits Different",
          "I Bet You Think About Me (Taylor's Version) [From The Vault]",
          "I Forgot That You Existed",
          "Innocent",
          "mirrorball",
          "New Romantics (Taylor's Version)",
          "Picture To Burn",
          "Red (Taylor's Version)",
          "Shake It Off (Taylor's Version)",
          "Sparks Fly (Taylor's Version)",
          "Superman",
          "SuperStar",
          "The Great War",
          "The Joker And The Queen",
          "The Man",
          "The Other Side Of The Door",
          "Would've, Could've, Should've",
          "You're Losing Me (From The Vault)"
         ],
         "type": "scatter",
         "visible": "legendonly",
         "x": [
          -3.807241201400757,
          18.30305290222168,
          -10.265926361083984,
          3.8018035888671875,
          -11.95309066772461,
          -8.210262298583984,
          8.0919771194458,
          4.876450061798096,
          18.990625381469727,
          20.437232971191406,
          19.98672103881836,
          -1.9467076063156128,
          -14.659500122070312,
          -12.059097290039062,
          20.037385940551758,
          -4.036023139953613,
          8.175429344177246,
          20.935800552368164,
          2.3209540843963623,
          0.5276153087615967,
          7.377112865447998,
          -1.7649811506271362,
          18.765644073486328,
          -11.369568824768066,
          10.916443824768066,
          7.635143756866455,
          20.02956199645996,
          -10.9425048828125
         ],
         "y": [
          10.381290435791016,
          4.536459445953369,
          -6.613118648529053,
          -9.122797966003418,
          -4.480001449584961,
          -9.513614654541016,
          4.423562049865723,
          -10.034977912902832,
          4.0865912437438965,
          5.344511985778809,
          3.2965924739837646,
          9.88758373260498,
          9.678426742553711,
          -3.483869791030884,
          4.1182732582092285,
          9.606175422668457,
          -6.366244316101074,
          5.496203422546387,
          9.448221206665039,
          -9.040315628051758,
          6.3892693519592285,
          -11.386117935180664,
          3.1414783000946045,
          5.256460666656494,
          -1.6539703607559204,
          5.98130464553833,
          3.282778739929199,
          -9.344053268432617
         ]
        },
        {
         "marker": {
          "color": "rgb(252, 172, 96)",
          "opacity": 0.7
         },
         "mode": "markers",
         "name": "50-59",
         "text": [
          "22 (Taylor's Version)",
          "Better Man (Taylor's Version) [From The Vault]",
          "Better Than Revenge",
          "Christmas Tree Farm",
          "Cornelia Street",
          "Dear John",
          "epiphany",
          "evermore",
          "happiness",
          "Haunted (Taylor's Version)",
          "I Almost Do (Taylor's Version)",
          "I Think He Knows",
          "Last Kiss (Taylor's Version)",
          "Long Live (Taylor's Version)",
          "Never Grow Up (Taylor's Version)",
          "Only The Young",
          "peace",
          "Treacherous (Taylor's Version)",
          "We Are Never Ever Getting Back Together (Taylor's Version)",
          "Wonderland",
          "You All Over Me (Taylor's Version) [From The Vault]"
         ],
         "type": "scatter",
         "visible": "legendonly",
         "x": [
          -3.735929250717163,
          3.844146251678467,
          3.5836737155914307,
          10.861038208007812,
          -8.797776222229004,
          5.118841648101807,
          21.297595977783203,
          8.452840805053711,
          -12.865791320800781,
          -12.910383224487305,
          -0.44286566972732544,
          -9.287798881530762,
          3.9827346801757812,
          0.3347950577735901,
          -11.873637199401855,
          1.7090387344360352,
          -13.838981628417969,
          2.7221765518188477,
          -0.6473339796066284,
          1.7506957054138184,
          -12.344833374023438
         ],
         "y": [
          10.392555236816406,
          -7.393093109130859,
          -9.117033004760742,
          -0.09638075530529022,
          -10.880922317504883,
          -9.839741706848145,
          4.98600959777832,
          5.181754112243652,
          -3.085519313812256,
          -2.4195544719696045,
          9.444998741149902,
          -11.285390853881836,
          -6.852931976318359,
          -9.501157760620117,
          -7.982557773590088,
          9.588146209716797,
          7.545657157897949,
          9.152466773986816,
          -10.534200668334961,
          9.370622634887695,
          6.10460901260376
         ]
        },
        {
         "marker": {
          "color": "rgb(254, 224, 139)",
          "opacity": 0.7
         },
         "mode": "markers",
         "name": ">100",
         "text": [
          "A Perfectly Good Heart",
          "A Place In This World",
          "All Too Well (10 Minute Version) [Taylor's Version] [From The Vault]",
          "All You Had To Do Was Stay",
          "American Girl",
          "Bad Blood",
          "Bad Blood (Remix)",
          "Beautiful Eyes",
          "Beautiful Ghosts",
          "Birch",
          "Breathe (Taylor's Version)",
          "Bye Bye Baby (Taylor's Version) [From The Vault]",
          "Change (Taylor's Version)",
          "Christmas Must Be Something More",
          "Christmases When You Were Mine",
          "Clean",
          "Cold As You",
          "Come Back...Be Here",
          "Come In With The Rain (Taylor's Version)",
          "Dancing With Our Hands Tied",
          "Don't Blame Me",
          "Don't You (Taylor's Version) [From The Vault]",
          "Dress",
          "Eyes Open (Taylor's Version)",
          "Forever & Always (Piano Version)",
          "Forever & Always (Piano Version) [Taylor's Version]",
          "Gasoline (Remix)",
          "Getaway Car",
          "Girl At Home",
          "Girl At Home (Taylor's Version)",
          "Half Of My Heart",
          "Hey Stephen (Taylor's Version)",
          "Holy Ground",
          "How You Get The Girl",
          "I Did Something Bad",
          "I Heart ?",
          "I Know Places",
          "I Wish You Would",
          "I'm Only Me When I'm With You",
          "I'm Only Me When I'm With You",
          "I'm Only Me When I'm With You",
          "I'm Only Me When I'm With You",
          "If This Was A Movie (Taylor's Version)",
          "Invisible",
          "it's time to go",
          "Jump Then Fall (Taylor's Version)",
          "Karma",
          "King Of My Heart",
          "Last Christmas",
          "Lover (Remix)",
          "Mary's Song (Oh My My My)",
          "New Year's Day",
          "Picture To Burn (Radio Edit)",
          "Red (Original Demo Recording)",
          "right where you left me",
          "Ronan (Taylor's Version)",
          "Sad Beautiful Tragic",
          "Safe & Sound (Taylor's Version)",
          "Santa Baby",
          "September",
          "Should've Said No (Alternate Version)",
          "Silent Night",
          "Snow On The Beach (More Lana Del Rey)",
          "So It Goes...",
          "Starlight",
          "State Of Grace (Acoustic Version)",
          "State Of Grace (Acoustic Version) [Taylor's Version]",
          "Stay Beautiful",
          "SuperStar (Taylor's Version)",
          "Sweet Nothing (Piano Remix)",
          "Sweeter Than Fiction (Taylor's Version)",
          "Teardrops On My Guitar (Acoustic Version)",
          "Teardrops On My Guitar (Pop Version)",
          "Tell Me Why",
          "Tell Me Why (Taylor's Version)",
          "That's When (Taylor's Version) [From The Vault]",
          "The Alcott",
          "The Best Day",
          "The Best Day (Taylor's Version)",
          "the lakes",
          "The Last Time",
          "The Lucky One",
          "The Other Side Of The Door (Taylor's Version)",
          "The Outside",
          "This Is Why We Can't Have Nice Things",
          "This Love",
          "Three Sad Virgins",
          "Tied Together With A Smile",
          "Today Was A Fairytale (Taylor's Version)",
          "Treacherous",
          "Treacherous (Original Demo Recording)",
          "Untouchable (Taylor's Version)",
          "We Were Happy (Taylor's Version) [From The Vault]",
          "White Christmas",
          "White Horse (Taylor's Version)",
          "You're Not Sorry (Taylor's Version)",
          "You're On Your Own, Kid (Strings Remix)"
         ],
         "type": "scatter",
         "visible": "legendonly",
         "x": [
          -4.955780029296875,
          -8.245399475097656,
          -3.1865055561065674,
          17.994953155517578,
          -3.360461473464966,
          -5.468176364898682,
          -6.599368095397949,
          -13.312614440917969,
          -13.311593055725098,
          7.537504196166992,
          -13.418718338012695,
          4.775540351867676,
          11.298920631408691,
          4.185108184814453,
          -14.079647064208984,
          -7.333608150482178,
          7.558688640594482,
          10.705153465270996,
          -12.713077545166016,
          -5.935607433319092,
          -6.225342273712158,
          -1.8246116638183594,
          -10.925427436828613,
          5.390324115753174,
          7.42461633682251,
          7.790019989013672,
          10.218533515930176,
          10.209587097167969,
          19.218908309936523,
          19.3572998046875,
          13.95256233215332,
          -11.306461334228516,
          9.511859893798828,
          -9.476630210876465,
          10.55580997467041,
          -4.16532564163208,
          14.010200500488281,
          2.07548189163208,
          -4.9802565574646,
          -5.103453636169434,
          -5.295614719390869,
          -5.2652435302734375,
          2.7714316844940186,
          -12.367773056030273,
          -13.400175094604492,
          -0.10769067704677582,
          5.52484130859375,
          -6.031784534454346,
          -5.774231910705566,
          13.51249885559082,
          -0.1861163079738617,
          -14.12110424041748,
          -2.0354225635528564,
          13.284889221191406,
          8.705584526062012,
          -14.57650089263916,
          -9.277583122253418,
          13.414800643920898,
          -13.518705368041992,
          7.420897960662842,
          13.52078914642334,
          0.20221936702728271,
          -8.553277015686035,
          0.7037891149520874,
          8.334981918334961,
          -10.691144943237305,
          -10.619852066040039,
          16.276504516601562,
          -1.7909592390060425,
          -11.763472557067871,
          12.878790855407715,
          -10.321788787841797,
          -11.01693058013916,
          20.59713363647461,
          21.077880859375,
          -7.366974353790283,
          13.176222801208496,
          -10.731236457824707,
          -10.676855087280273,
          -12.45361614227295,
          -3.5563743114471436,
          20.11363410949707,
          7.15658712387085,
          4.71163272857666,
          -9.93532657623291,
          -10.639277458190918,
          -10.928651809692383,
          -4.66229772567749,
          10.056575775146484,
          2.4536430835723877,
          13.19920539855957,
          21.12925148010254,
          -11.561443328857422,
          -5.645961761474609,
          -6.587027549743652,
          12.65886402130127,
          -5.84175968170166
         ],
         "y": [
          9.75700855255127,
          9.033766746520996,
          -11.181896209716797,
          4.391685485839844,
          9.860682487487793,
          -12.301752090454102,
          -12.456143379211426,
          -2.8221447467803955,
          9.572375297546387,
          -5.082563400268555,
          -2.6991453170776367,
          -9.964372634887695,
          5.023001670837402,
          -9.825531005859375,
          9.526931762695312,
          -8.655495643615723,
          -6.176255226135254,
          5.781468868255615,
          -3.8379926681518555,
          -8.813295364379883,
          -12.082259178161621,
          -10.911368370056152,
          -3.5995330810546875,
          -8.037995338439941,
          -5.787498950958252,
          -5.7262396812438965,
          0.5476952195167542,
          -1.6520757675170898,
          3.837738275527954,
          3.550567150115967,
          4.029842853546143,
          9.223006248474121,
          5.42780876159668,
          8.743975639343262,
          -2.4205310344696045,
          -7.0960774421691895,
          3.2710530757904053,
          8.693506240844727,
          -7.006817817687988,
          -7.053248405456543,
          -7.074659824371338,
          -7.090743064880371,
          8.544857025146484,
          -7.580348014831543,
          10.530094146728516,
          9.442364692687988,
          -6.425111770629883,
          -12.526652336120605,
          -9.95181655883789,
          -4.576886177062988,
          -8.912858963012695,
          8.928544044494629,
          9.91354751586914,
          -4.314830780029297,
          -4.548676490783691,
          9.150230407714844,
          8.179414749145508,
          -4.778404235839844,
          8.266999244689941,
          5.645021438598633,
          -4.441153049468994,
          9.514036178588867,
          -9.04813003540039,
          9.60948657989502,
          -5.7827630043029785,
          5.460024833679199,
          5.583898067474365,
          3.9888525009155273,
          -11.310039520263672,
          -9.957085609436035,
          -4.675885200500488,
          7.434200763702393,
          7.599287986755371,
          4.66829776763916,
          4.319201946258545,
          -10.203399658203125,
          -4.910701274871826,
          6.536922454833984,
          6.22713565826416,
          -7.804928302764893,
          9.571386337280273,
          3.6911473274230957,
          5.671371936798096,
          -8.279770851135254,
          8.960335731506348,
          -6.174683094024658,
          -10.559500694274902,
          -12.308869361877441,
          1.0781528949737549,
          9.230629920959473,
          -4.880037784576416,
          4.4280877113342285,
          7.832067489624023,
          9.632805824279785,
          -8.30068588256836,
          4.470848560333252,
          -10.334712028503418
         ]
        },
        {
         "marker": {
          "color": "rgb(254, 254, 190)",
          "opacity": 0.7
         },
         "mode": "markers",
         "name": "70-79",
         "text": [
          "Afterglow",
          "Babe",
          "Begin Again (Taylor's Version)",
          "cowboy like me",
          "Enchanted",
          "False God",
          "Fearless (Taylor's Version)",
          "Forever Winter (Taylor's Version) [From The Vault]",
          "hoax",
          "Holy Ground (Taylor's Version)",
          "Last Kiss",
          "marjorie",
          "Renegade",
          "Superman (Taylor's Version)",
          "The Way I Loved You",
          "You Belong With Me (Taylor's Version)"
         ],
         "type": "scatter",
         "visible": "legendonly",
         "x": [
          -11.621193885803223,
          7.916139125823975,
          8.456509590148926,
          -11.6123628616333,
          -3.0621445178985596,
          -12.514286041259766,
          10.90223503112793,
          10.879125595092773,
          -14.826566696166992,
          9.768649101257324,
          4.086921691894531,
          -11.413444519042969,
          8.25980281829834,
          7.37412166595459,
          16.258359909057617,
          11.691839218139648
         ],
         "y": [
          7.231712341308594,
          4.954090595245361,
          4.852311611175537,
          6.464216232299805,
          10.126200675964355,
          8.013476371765137,
          -0.7778089642524719,
          5.423551559448242,
          10.017685890197754,
          5.27542781829834,
          -7.118414878845215,
          -4.203527927398682,
          -6.006068706512451,
          6.052701473236084,
          4.200235843658447,
          5.0962371826171875
         ]
        },
        {
         "marker": {
          "color": "rgb(230, 245, 152)",
          "opacity": 0.7
         },
         "mode": "markers",
         "name": "10-19",
         "text": [
          "All Of The Girls You Loved Before",
          "Back To December (Taylor's Version)",
          "Blank Space (Taylor's Version)",
          "Both Of Us",
          "Change",
          "Crazier",
          "Delicate",
          "Enchanted (Taylor's Version)",
          "End Game",
          "Eyes Open",
          "Gorgeous",
          "If This Was A Movie",
          "Jump Then Fall",
          "Labyrinth",
          "Love Story (Taylor's Version)",
          "Lover",
          "Mastermind",
          "Mean",
          "Mine (Taylor's Version)",
          "my tears ricochet",
          "Our Song",
          "Ours",
          "Out Of The Woods",
          "Out Of The Woods (Taylor's Version)",
          "Ronan",
          "Sparks Fly",
          "State Of Grace",
          "State Of Grace (Taylor's Version)",
          "Suburban Legends (Taylor's Version) [From The Vault]",
          "Sweet Nothing",
          "Teardrops On My Guitar",
          "the last great american dynasty",
          "Two Is Better Than One",
          "Untouchable",
          "Vigilante Shit",
          "Welcome To New York (Taylor's Version)",
          "White Horse",
          "Wildest Dreams (Taylor's Version)",
          "You're Not Sorry"
         ],
         "type": "scatter",
         "visible": "legendonly",
         "x": [
          -11.897602081298828,
          7.926735877990723,
          -8.196043014526367,
          -2.6600394248962402,
          11.178926467895508,
          13.516551971435547,
          -1.2388837337493896,
          -3.4017891883850098,
          12.912749290466309,
          5.781653881072998,
          -11.039345741271973,
          20.115039825439453,
          -0.24958088994026184,
          8.528779983520508,
          18.55567741394043,
          -9.05440616607666,
          -14.02824878692627,
          -7.673745155334473,
          14.46700382232666,
          7.095906734466553,
          13.097429275512695,
          -8.44748592376709,
          16.04230499267578,
          15.786349296569824,
          -14.621790885925293,
          0.5925644040107727,
          9.589674949645996,
          9.21456527709961,
          4.12070894241333,
          -11.803699493408203,
          -6.297052383422852,
          -11.452916145324707,
          18.210552215576172,
          20.771568298339844,
          -13.419534683227539,
          -4.593881130218506,
          -6.348515510559082,
          13.405257225036621,
          12.649829864501953
         ],
         "y": [
          -8.70761489868164,
          -5.06591272354126,
          -11.762313842773438,
          -11.735295295715332,
          4.99626350402832,
          1.9389294385910034,
          -11.352120399475098,
          10.400423049926758,
          -4.498360633850098,
          -7.901050090789795,
          -10.219375610351562,
          5.431666851043701,
          9.947088241577148,
          4.734474182128906,
          4.504212379455566,
          8.6368989944458,
          9.588357925415039,
          9.144207954406738,
          3.535961389541626,
          -6.257778644561768,
          -4.336127758026123,
          -10.15555477142334,
          4.245743751525879,
          4.03550386428833,
          8.74605941772461,
          -9.316229820251465,
          6.135200500488281,
          6.217302322387695,
          -9.249615669250488,
          -9.317452430725098,
          -10.27873706817627,
          8.521665573120117,
          3.858224391937256,
          4.620675563812256,
          10.887978553771973,
          -11.777322769165039,
          -8.244293212890625,
          3.9976329803466797,
          4.464230537414551
         ]
        },
        {
         "marker": {
          "color": "rgb(169, 220, 164)",
          "opacity": 0.7
         },
         "mode": "markers",
         "name": "80-89",
         "text": [
          "All Too Well",
          "Breathe",
          "closure",
          "Come Back...Be Here (Taylor's Version)",
          "Daylight",
          "Fifteen (Taylor's Version)",
          "Long Live",
          "Never Grow Up",
          "Sad Beautiful Tragic (Taylor's Version)",
          "The Lucky One (Taylor's Version)",
          "The Moment I Knew (Taylor's Version)",
          "You Are In Love"
         ],
         "type": "scatter",
         "visible": "legendonly",
         "x": [
          -4.515919208526611,
          -13.181327819824219,
          -13.868878364562988,
          10.793405532836914,
          8.872452735900879,
          18.83460235595703,
          0.3517531752586365,
          -12.249114990234375,
          -9.447484970092773,
          20.18339729309082,
          -12.035191535949707,
          -13.934674263000488
         ],
         "y": [
          9.557743072509766,
          -2.3291873931884766,
          10.02038860321045,
          5.722553253173828,
          5.96022367477417,
          3.6438984870910645,
          -9.502313613891602,
          -7.898265361785889,
          8.030354499816895,
          3.3767049312591553,
          -2.8486809730529785,
          11.066866874694824
         ]
        },
        {
         "marker": {
          "color": "rgb(102, 194, 165)",
          "opacity": 0.7
         },
         "mode": "markers",
         "name": "60-69",
         "text": [
          "Babe (Taylor's Version) [From The Vault]",
          "Carolina",
          "coney island",
          "Death By A Thousand Cuts",
          "dorothea",
          "Everything Has Changed (Taylor's Version)",
          "Forever & Always (Taylor's Version)",
          "Haunted",
          "I Almost Do",
          "Innocent (Taylor's Version)",
          "ivy",
          "London Boy",
          "long story short",
          "Ours (Taylor's Version)",
          "Soon You'll Get Better",
          "Stay Stay Stay (Taylor's Version)",
          "The Last Time (Taylor's Version)",
          "The Moment I Knew",
          "The Very First Night (Taylor's Version) [From The Vault]"
         ],
         "type": "scatter",
         "visible": "legendonly",
         "x": [
          8.315474510192871,
          -12.841078758239746,
          -14.30394172668457,
          -7.337822914123535,
          0.5658310651779175,
          6.986034870147705,
          -0.8936884999275208,
          -13.25723934173584,
          -0.577079176902771,
          -12.054503440856934,
          -12.964385032653809,
          5.048120498657227,
          -6.739874362945557,
          -8.625585556030273,
          -9.807143211364746,
          14.100227355957031,
          -3.365408420562744,
          -12.148772239685059,
          -0.3365686237812042
         ],
         "y": [
          5.5540289878845215,
          7.353146553039551,
          10.185918807983398,
          -12.12260913848877,
          -8.917009353637695,
          6.355495452880859,
          9.69163990020752,
          -2.4033203125,
          9.942428588867188,
          -3.659691333770752,
          5.4524245262146,
          -6.564382553100586,
          -8.635749816894531,
          -10.102153778076172,
          -7.248100757598877,
          2.6146621704101562,
          9.614880561828613,
          -3.0843770503997803,
          -9.496533393859863
         ]
        },
        {
         "marker": {
          "color": "rgb(50, 134, 188)",
          "opacity": 0.7
         },
         "mode": "markers",
         "name": "40-49",
         "text": [
          "betty",
          "Dear Reader",
          "Foolish One (Taylor's Version) [From The Vault]",
          "Glitch",
          "gold rush",
          "How You Get The Girl (Taylor's Version)",
          "I Knew You Were Trouble (Taylor's Version)",
          "illicit affairs",
          "mad woman",
          "Message In A Bottle (Taylor's Version) [From The Vault]",
          "Miss Americana & The Heartbreak Prince",
          "New Romantics",
          "Nothing New (Taylor's Version) [From The Vault]",
          "Paper Rings",
          "Run (Taylor's Version) [From The Vault]",
          "The Story Of Us",
          "The Story Of Us (Taylor's Version)",
          "This Love (Taylor's Version)",
          "Tim McGraw",
          "Timeless (Taylor's Version) [From The Vault]",
          "tolerate it",
          "Welcome To New York",
          "You Are In Love (Taylor's Version)"
         ],
         "type": "scatter",
         "visible": "legendonly",
         "x": [
          14.184447288513184,
          -14.671035766601562,
          3.7143394947052,
          -9.315176010131836,
          8.748405456542969,
          -9.685216903686523,
          4.667202472686768,
          -12.430294036865234,
          -8.602004051208496,
          8.27805233001709,
          9.940449714660645,
          -4.322015762329102,
          -11.02939224243164,
          5.360517501831055,
          -12.048906326293945,
          2.1899828910827637,
          1.7492942810058594,
          -10.40364933013916,
          -7.119119644165039,
          -6.231845378875732,
          -11.995071411132812,
          -4.710607528686523,
          -13.748106002807617
         ],
         "y": [
          2.0736966133117676,
          10.258857727050781,
          -7.183605194091797,
          -10.415882110595703,
          -4.793994903564453,
          8.972344398498535,
          -9.42560863494873,
          -8.678441047668457,
          -8.83936882019043,
          6.008594512939453,
          -3.1536262035369873,
          10.35993480682373,
          -3.60467791557312,
          -7.614887237548828,
          6.581368446350098,
          -9.407997131347656,
          -9.445591926574707,
          -6.35490083694458,
          -9.238051414489746,
          -7.655584812164307,
          8.553380966186523,
          -11.969681739807129,
          10.703084945678711
         ]
        },
        {
         "marker": {
          "color": "rgb(94, 79, 162)",
          "opacity": 0.7
         },
         "mode": "markers",
         "name": "90-99",
         "text": [
          "Hey Stephen",
          "It's Nice To Have A Friend",
          "Starlight (Taylor's Version)",
          "Stay Stay Stay",
          "The Way I Loved You (Taylor's Version)"
         ],
         "type": "scatter",
         "visible": "legendonly",
         "x": [
          -11.229888916015625,
          -11.214604377746582,
          8.38609504699707,
          13.935744285583496,
          16.14903450012207
         ],
         "y": [
          9.249319076538086,
          -5.335153579711914,
          -5.607371807098389,
          2.768824577331543,
          4.409392833709717
         ]
        }
       ],
       "layout": {
        "hovermode": "closest",
        "legend": {
         "title": {
          "text": "Legend"
         }
        },
        "template": {
         "data": {
          "bar": [
           {
            "error_x": {
             "color": "#2a3f5f"
            },
            "error_y": {
             "color": "#2a3f5f"
            },
            "marker": {
             "line": {
              "color": "#E5ECF6",
              "width": 0.5
             },
             "pattern": {
              "fillmode": "overlay",
              "size": 10,
              "solidity": 0.2
             }
            },
            "type": "bar"
           }
          ],
          "barpolar": [
           {
            "marker": {
             "line": {
              "color": "#E5ECF6",
              "width": 0.5
             },
             "pattern": {
              "fillmode": "overlay",
              "size": 10,
              "solidity": 0.2
             }
            },
            "type": "barpolar"
           }
          ],
          "carpet": [
           {
            "aaxis": {
             "endlinecolor": "#2a3f5f",
             "gridcolor": "white",
             "linecolor": "white",
             "minorgridcolor": "white",
             "startlinecolor": "#2a3f5f"
            },
            "baxis": {
             "endlinecolor": "#2a3f5f",
             "gridcolor": "white",
             "linecolor": "white",
             "minorgridcolor": "white",
             "startlinecolor": "#2a3f5f"
            },
            "type": "carpet"
           }
          ],
          "choropleth": [
           {
            "colorbar": {
             "outlinewidth": 0,
             "ticks": ""
            },
            "type": "choropleth"
           }
          ],
          "contour": [
           {
            "colorbar": {
             "outlinewidth": 0,
             "ticks": ""
            },
            "colorscale": [
             [
              0,
              "#0d0887"
             ],
             [
              0.1111111111111111,
              "#46039f"
             ],
             [
              0.2222222222222222,
              "#7201a8"
             ],
             [
              0.3333333333333333,
              "#9c179e"
             ],
             [
              0.4444444444444444,
              "#bd3786"
             ],
             [
              0.5555555555555556,
              "#d8576b"
             ],
             [
              0.6666666666666666,
              "#ed7953"
             ],
             [
              0.7777777777777778,
              "#fb9f3a"
             ],
             [
              0.8888888888888888,
              "#fdca26"
             ],
             [
              1,
              "#f0f921"
             ]
            ],
            "type": "contour"
           }
          ],
          "contourcarpet": [
           {
            "colorbar": {
             "outlinewidth": 0,
             "ticks": ""
            },
            "type": "contourcarpet"
           }
          ],
          "heatmap": [
           {
            "colorbar": {
             "outlinewidth": 0,
             "ticks": ""
            },
            "colorscale": [
             [
              0,
              "#0d0887"
             ],
             [
              0.1111111111111111,
              "#46039f"
             ],
             [
              0.2222222222222222,
              "#7201a8"
             ],
             [
              0.3333333333333333,
              "#9c179e"
             ],
             [
              0.4444444444444444,
              "#bd3786"
             ],
             [
              0.5555555555555556,
              "#d8576b"
             ],
             [
              0.6666666666666666,
              "#ed7953"
             ],
             [
              0.7777777777777778,
              "#fb9f3a"
             ],
             [
              0.8888888888888888,
              "#fdca26"
             ],
             [
              1,
              "#f0f921"
             ]
            ],
            "type": "heatmap"
           }
          ],
          "heatmapgl": [
           {
            "colorbar": {
             "outlinewidth": 0,
             "ticks": ""
            },
            "colorscale": [
             [
              0,
              "#0d0887"
             ],
             [
              0.1111111111111111,
              "#46039f"
             ],
             [
              0.2222222222222222,
              "#7201a8"
             ],
             [
              0.3333333333333333,
              "#9c179e"
             ],
             [
              0.4444444444444444,
              "#bd3786"
             ],
             [
              0.5555555555555556,
              "#d8576b"
             ],
             [
              0.6666666666666666,
              "#ed7953"
             ],
             [
              0.7777777777777778,
              "#fb9f3a"
             ],
             [
              0.8888888888888888,
              "#fdca26"
             ],
             [
              1,
              "#f0f921"
             ]
            ],
            "type": "heatmapgl"
           }
          ],
          "histogram": [
           {
            "marker": {
             "pattern": {
              "fillmode": "overlay",
              "size": 10,
              "solidity": 0.2
             }
            },
            "type": "histogram"
           }
          ],
          "histogram2d": [
           {
            "colorbar": {
             "outlinewidth": 0,
             "ticks": ""
            },
            "colorscale": [
             [
              0,
              "#0d0887"
             ],
             [
              0.1111111111111111,
              "#46039f"
             ],
             [
              0.2222222222222222,
              "#7201a8"
             ],
             [
              0.3333333333333333,
              "#9c179e"
             ],
             [
              0.4444444444444444,
              "#bd3786"
             ],
             [
              0.5555555555555556,
              "#d8576b"
             ],
             [
              0.6666666666666666,
              "#ed7953"
             ],
             [
              0.7777777777777778,
              "#fb9f3a"
             ],
             [
              0.8888888888888888,
              "#fdca26"
             ],
             [
              1,
              "#f0f921"
             ]
            ],
            "type": "histogram2d"
           }
          ],
          "histogram2dcontour": [
           {
            "colorbar": {
             "outlinewidth": 0,
             "ticks": ""
            },
            "colorscale": [
             [
              0,
              "#0d0887"
             ],
             [
              0.1111111111111111,
              "#46039f"
             ],
             [
              0.2222222222222222,
              "#7201a8"
             ],
             [
              0.3333333333333333,
              "#9c179e"
             ],
             [
              0.4444444444444444,
              "#bd3786"
             ],
             [
              0.5555555555555556,
              "#d8576b"
             ],
             [
              0.6666666666666666,
              "#ed7953"
             ],
             [
              0.7777777777777778,
              "#fb9f3a"
             ],
             [
              0.8888888888888888,
              "#fdca26"
             ],
             [
              1,
              "#f0f921"
             ]
            ],
            "type": "histogram2dcontour"
           }
          ],
          "mesh3d": [
           {
            "colorbar": {
             "outlinewidth": 0,
             "ticks": ""
            },
            "type": "mesh3d"
           }
          ],
          "parcoords": [
           {
            "line": {
             "colorbar": {
              "outlinewidth": 0,
              "ticks": ""
             }
            },
            "type": "parcoords"
           }
          ],
          "pie": [
           {
            "automargin": true,
            "type": "pie"
           }
          ],
          "scatter": [
           {
            "fillpattern": {
             "fillmode": "overlay",
             "size": 10,
             "solidity": 0.2
            },
            "type": "scatter"
           }
          ],
          "scatter3d": [
           {
            "line": {
             "colorbar": {
              "outlinewidth": 0,
              "ticks": ""
             }
            },
            "marker": {
             "colorbar": {
              "outlinewidth": 0,
              "ticks": ""
             }
            },
            "type": "scatter3d"
           }
          ],
          "scattercarpet": [
           {
            "marker": {
             "colorbar": {
              "outlinewidth": 0,
              "ticks": ""
             }
            },
            "type": "scattercarpet"
           }
          ],
          "scattergeo": [
           {
            "marker": {
             "colorbar": {
              "outlinewidth": 0,
              "ticks": ""
             }
            },
            "type": "scattergeo"
           }
          ],
          "scattergl": [
           {
            "marker": {
             "colorbar": {
              "outlinewidth": 0,
              "ticks": ""
             }
            },
            "type": "scattergl"
           }
          ],
          "scattermapbox": [
           {
            "marker": {
             "colorbar": {
              "outlinewidth": 0,
              "ticks": ""
             }
            },
            "type": "scattermapbox"
           }
          ],
          "scatterpolar": [
           {
            "marker": {
             "colorbar": {
              "outlinewidth": 0,
              "ticks": ""
             }
            },
            "type": "scatterpolar"
           }
          ],
          "scatterpolargl": [
           {
            "marker": {
             "colorbar": {
              "outlinewidth": 0,
              "ticks": ""
             }
            },
            "type": "scatterpolargl"
           }
          ],
          "scatterternary": [
           {
            "marker": {
             "colorbar": {
              "outlinewidth": 0,
              "ticks": ""
             }
            },
            "type": "scatterternary"
           }
          ],
          "surface": [
           {
            "colorbar": {
             "outlinewidth": 0,
             "ticks": ""
            },
            "colorscale": [
             [
              0,
              "#0d0887"
             ],
             [
              0.1111111111111111,
              "#46039f"
             ],
             [
              0.2222222222222222,
              "#7201a8"
             ],
             [
              0.3333333333333333,
              "#9c179e"
             ],
             [
              0.4444444444444444,
              "#bd3786"
             ],
             [
              0.5555555555555556,
              "#d8576b"
             ],
             [
              0.6666666666666666,
              "#ed7953"
             ],
             [
              0.7777777777777778,
              "#fb9f3a"
             ],
             [
              0.8888888888888888,
              "#fdca26"
             ],
             [
              1,
              "#f0f921"
             ]
            ],
            "type": "surface"
           }
          ],
          "table": [
           {
            "cells": {
             "fill": {
              "color": "#EBF0F8"
             },
             "line": {
              "color": "white"
             }
            },
            "header": {
             "fill": {
              "color": "#C8D4E3"
             },
             "line": {
              "color": "white"
             }
            },
            "type": "table"
           }
          ]
         },
         "layout": {
          "annotationdefaults": {
           "arrowcolor": "#2a3f5f",
           "arrowhead": 0,
           "arrowwidth": 1
          },
          "autotypenumbers": "strict",
          "coloraxis": {
           "colorbar": {
            "outlinewidth": 0,
            "ticks": ""
           }
          },
          "colorscale": {
           "diverging": [
            [
             0,
             "#8e0152"
            ],
            [
             0.1,
             "#c51b7d"
            ],
            [
             0.2,
             "#de77ae"
            ],
            [
             0.3,
             "#f1b6da"
            ],
            [
             0.4,
             "#fde0ef"
            ],
            [
             0.5,
             "#f7f7f7"
            ],
            [
             0.6,
             "#e6f5d0"
            ],
            [
             0.7,
             "#b8e186"
            ],
            [
             0.8,
             "#7fbc41"
            ],
            [
             0.9,
             "#4d9221"
            ],
            [
             1,
             "#276419"
            ]
           ],
           "sequential": [
            [
             0,
             "#0d0887"
            ],
            [
             0.1111111111111111,
             "#46039f"
            ],
            [
             0.2222222222222222,
             "#7201a8"
            ],
            [
             0.3333333333333333,
             "#9c179e"
            ],
            [
             0.4444444444444444,
             "#bd3786"
            ],
            [
             0.5555555555555556,
             "#d8576b"
            ],
            [
             0.6666666666666666,
             "#ed7953"
            ],
            [
             0.7777777777777778,
             "#fb9f3a"
            ],
            [
             0.8888888888888888,
             "#fdca26"
            ],
            [
             1,
             "#f0f921"
            ]
           ],
           "sequentialminus": [
            [
             0,
             "#0d0887"
            ],
            [
             0.1111111111111111,
             "#46039f"
            ],
            [
             0.2222222222222222,
             "#7201a8"
            ],
            [
             0.3333333333333333,
             "#9c179e"
            ],
            [
             0.4444444444444444,
             "#bd3786"
            ],
            [
             0.5555555555555556,
             "#d8576b"
            ],
            [
             0.6666666666666666,
             "#ed7953"
            ],
            [
             0.7777777777777778,
             "#fb9f3a"
            ],
            [
             0.8888888888888888,
             "#fdca26"
            ],
            [
             1,
             "#f0f921"
            ]
           ]
          },
          "colorway": [
           "#636efa",
           "#EF553B",
           "#00cc96",
           "#ab63fa",
           "#FFA15A",
           "#19d3f3",
           "#FF6692",
           "#B6E880",
           "#FF97FF",
           "#FECB52"
          ],
          "font": {
           "color": "#2a3f5f"
          },
          "geo": {
           "bgcolor": "white",
           "lakecolor": "white",
           "landcolor": "#E5ECF6",
           "showlakes": true,
           "showland": true,
           "subunitcolor": "white"
          },
          "hoverlabel": {
           "align": "left"
          },
          "hovermode": "closest",
          "mapbox": {
           "style": "light"
          },
          "paper_bgcolor": "white",
          "plot_bgcolor": "#E5ECF6",
          "polar": {
           "angularaxis": {
            "gridcolor": "white",
            "linecolor": "white",
            "ticks": ""
           },
           "bgcolor": "#E5ECF6",
           "radialaxis": {
            "gridcolor": "white",
            "linecolor": "white",
            "ticks": ""
           }
          },
          "scene": {
           "xaxis": {
            "backgroundcolor": "#E5ECF6",
            "gridcolor": "white",
            "gridwidth": 2,
            "linecolor": "white",
            "showbackground": true,
            "ticks": "",
            "zerolinecolor": "white"
           },
           "yaxis": {
            "backgroundcolor": "#E5ECF6",
            "gridcolor": "white",
            "gridwidth": 2,
            "linecolor": "white",
            "showbackground": true,
            "ticks": "",
            "zerolinecolor": "white"
           },
           "zaxis": {
            "backgroundcolor": "#E5ECF6",
            "gridcolor": "white",
            "gridwidth": 2,
            "linecolor": "white",
            "showbackground": true,
            "ticks": "",
            "zerolinecolor": "white"
           }
          },
          "shapedefaults": {
           "line": {
            "color": "#2a3f5f"
           }
          },
          "ternary": {
           "aaxis": {
            "gridcolor": "white",
            "linecolor": "white",
            "ticks": ""
           },
           "baxis": {
            "gridcolor": "white",
            "linecolor": "white",
            "ticks": ""
           },
           "bgcolor": "#E5ECF6",
           "caxis": {
            "gridcolor": "white",
            "linecolor": "white",
            "ticks": ""
           }
          },
          "title": {
           "x": 0.05
          },
          "xaxis": {
           "automargin": true,
           "gridcolor": "white",
           "linecolor": "white",
           "ticks": "",
           "title": {
            "standoff": 15
           },
           "zerolinecolor": "white",
           "zerolinewidth": 2
          },
          "yaxis": {
           "automargin": true,
           "gridcolor": "white",
           "linecolor": "white",
           "ticks": "",
           "title": {
            "standoff": 15
           },
           "zerolinecolor": "white",
           "zerolinewidth": 2
          }
         }
        },
        "title": {
         "text": "Interactive Plot of Song Embeddings"
        },
        "xaxis": {
         "title": {
          "text": "TSNE 1"
         }
        },
        "yaxis": {
         "title": {
          "text": "TSNE 2"
         }
        }
       }
      }
     },
     "metadata": {},
     "output_type": "display_data"
    }
   ],
   "source": [
    "# Reducing with TSNE down to two dimensions to see if we can visually assess any separation?\n",
    "tsne = TSNE(n_components=2, random_state=256)\n",
    "embeddings_tsne_2d = tsne.fit_transform(reduced_UMAP)\n",
    "\n",
    "plot_embeddings_interactive(embeddings_tsne_2d, audio)"
   ]
  },
  {
   "cell_type": "code",
   "execution_count": 17,
   "metadata": {},
   "outputs": [
    {
     "data": {
      "image/png": "[encoded data removed]",
      "text/plain": [
       "<Figure size 1000x600 with 1 Axes>"
      ]
     },
     "metadata": {},
     "output_type": "display_data"
    }
   ],
   "source": [
    "k_values = range(5, 45) \n",
    "wcss = []\n",
    "\n",
    "for k in k_values:\n",
    "    kmeans = KMeans(n_clusters=k, random_state=256, n_init=10)\n",
    "    kmeans.fit(reduced_UMAP)\n",
    "    wcss.append(kmeans.inertia_)\n",
    "\n",
    "# Plotting the results\n",
    "plt.figure(figsize=(10, 6))\n",
    "plt.plot(k_values, wcss, '-o', color='black')\n",
    "plt.title('The Elbow Method')\n",
    "plt.xlabel('Number of clusters (k)')\n",
    "plt.ylabel('WCSS')\n",
    "plt.xticks(k_values)\n",
    "plt.grid(True)\n",
    "plt.show()"
   ]
  },
  {
   "cell_type": "code",
   "execution_count": 19,
   "metadata": {},
   "outputs": [],
   "source": [
    "k = 15\n",
    "kmeans = KMeans(n_clusters=k, random_state=256, n_init=10).fit(embeddings)\n",
    "audio['cluster_assignment'] = kmeans.labels_"
   ]
  },
  {
   "cell_type": "code",
   "execution_count": 20,
   "metadata": {},
   "outputs": [
    {
     "name": "stdout",
     "output_type": "stream",
     "text": [
      "Cluster 0: 42 members (12.84%)\n",
      "Cluster 1: 37 members (11.31%)\n",
      "Cluster 2: 8 members (2.45%)\n",
      "Cluster 3: 7 members (2.14%)\n",
      "Cluster 4: 14 members (4.28%)\n",
      "Cluster 5: 22 members (6.73%)\n",
      "Cluster 6: 13 members (3.98%)\n",
      "Cluster 7: 34 members (10.40%)\n",
      "Cluster 8: 36 members (11.01%)\n",
      "Cluster 9: 32 members (9.79%)\n",
      "Cluster 10: 13 members (3.98%)\n",
      "Cluster 11: 4 members (1.22%)\n",
      "Cluster 12: 26 members (7.95%)\n",
      "Cluster 13: 4 members (1.22%)\n",
      "Cluster 14: 35 members (10.70%)\n"
     ]
    },
    {
     "data": {
      "image/png": "[encoded data removed]",
      "text/plain": [
       "<Figure size 1000x600 with 1 Axes>"
      ]
     },
     "metadata": {},
     "output_type": "display_data"
    }
   ],
   "source": [
    "cluster_sizes = Counter(audio['cluster_assignment'])\n",
    "\n",
    "sorted_cluster_sizes = dict(sorted(cluster_sizes.items()))\n",
    "\n",
    "total_items = sum(sorted_cluster_sizes.values())\n",
    "for label, size in sorted_cluster_sizes.items():\n",
    "    percentage = (size / total_items) * 100\n",
    "    print(f\"Cluster {label}: {size} members ({percentage:.2f}%)\")\n",
    "\n",
    "labels, sizes = zip(*sorted(cluster_sizes.items()))\n",
    "\n",
    "plt.figure(figsize=(10, 6))\n",
    "plt.bar(labels, sizes, color='skyblue')\n",
    "plt.title('Distribution of Cluster Sizes')\n",
    "plt.xlabel('Cluster Number')\n",
    "plt.ylabel('Size')\n",
    "plt.xticks(labels)\n",
    "plt.show()"
   ]
  },
  {
   "cell_type": "code",
   "execution_count": 35,
   "metadata": {},
   "outputs": [
    {
     "data": {
      "image/png": "[encoded data removed]",
      "text/plain": [
       "<Figure size 1200x600 with 1 Axes>"
      ]
     },
     "metadata": {},
     "output_type": "display_data"
    },
    {
     "data": {
      "image/png": "[encoded data removed]",
      "text/plain": [
       "<Figure size 1200x600 with 1 Axes>"
      ]
     },
     "metadata": {},
     "output_type": "display_data"
    }
   ],
   "source": [
    "c = 14\n",
    "cluster = audio[audio[\"cluster_assignment\"] == c].copy()\n",
    "\n",
    "plt.figure(figsize=(12, 6))\n",
    "album_name_counts = cluster['album_name'].value_counts()\n",
    "plt.bar(album_name_counts.index, album_name_counts.values)\n",
    "plt.xlabel('Album Name')\n",
    "plt.ylabel('Frequency')\n",
    "plt.title('Distribution of Album Names in Cluster')\n",
    "plt.xticks(rotation=90)\n",
    "plt.tight_layout()\n",
    "plt.show()\n",
    "\n",
    "plt.figure(figsize=(12, 6))\n",
    "\n",
    "# Handling NaN values by categorizing them as >100\n",
    "peak_pos_counts = cluster['peak_pos_bucketed'].value_counts().sort_index()\n",
    "\n",
    "plt.bar(peak_pos_counts.index, peak_pos_counts.values)\n",
    "plt.xlabel('Peak Position Bucket')\n",
    "plt.ylabel('Frequency')\n",
    "plt.title('Distribution of Peak Positions in Cluster')\n",
    "plt.xticks(rotation=45)\n",
    "plt.tight_layout()\n",
    "plt.show()"
   ]
  },
  {
   "cell_type": "code",
   "execution_count": 11,
   "metadata": {},
   "outputs": [
    {
     "data": {
      "image/png": "[encoded data removed]",
      "text/plain": [
       "<Figure size 2400x600 with 2 Axes>"
      ]
     },
     "metadata": {},
     "output_type": "display_data"
    }
   ],
   "source": [
    "fig, ax = plt.subplots(1, 2, figsize=(24, 6))\n",
    "\n",
    "# Distribution of Album Names\n",
    "album_name_counts = audio['album_name'].value_counts()\n",
    "ax[0].bar(album_name_counts.index, album_name_counts.values, color='skyblue')\n",
    "ax[0].set_xlabel('Album Name')\n",
    "ax[0].set_ylabel('Frequency')\n",
    "ax[0].set_title('Distribution of Album Names')\n",
    "ax[0].tick_params(axis='x', rotation=90)\n",
    "\n",
    "# Distribution of Peak Position Buckets\n",
    "peak_pos_counts = audio['peak_pos_bucketed'].value_counts().sort_index()\n",
    "ax[1].bar(peak_pos_counts.index, peak_pos_counts.values, color='coral')\n",
    "ax[1].set_xlabel('Peak Position Bucket')\n",
    "ax[1].set_ylabel('Frequency')\n",
    "ax[1].set_title('Distribution of Peak Positions')\n",
    "ax[1].tick_params(axis='x', rotation=45)\n",
    "\n",
    "plt.tight_layout()\n",
    "plt.show()"
   ]
  }
 ],
 "metadata": {
  "kernelspec": {
   "display_name": "Python 3",
   "language": "python",
   "name": "python3"
  },
  "language_info": {
   "codemirror_mode": {
    "name": "ipython",
    "version": 3
   },
   "file_extension": ".py",
   "mimetype": "text/x-python",
   "name": "python",
   "nbconvert_exporter": "python",
   "pygments_lexer": "ipython3",
   "version": "3.10.2"
  }
 },
 "nbformat": 4,
 "nbformat_minor": 2
}
