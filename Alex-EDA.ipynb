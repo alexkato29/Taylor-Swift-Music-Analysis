{
 "cells": [
  {
   "cell_type": "code",
   "execution_count": 1,
   "metadata": {},
   "outputs": [
    {
     "name": "stderr",
     "output_type": "stream",
     "text": [
      "2024-04-09 11:06:11.451410: I tensorflow/core/platform/cpu_feature_guard.cc:182] This TensorFlow binary is optimized to use available CPU instructions in performance-critical operations.\n",
      "To enable the following instructions: AVX2 FMA, in other operations, rebuild TensorFlow with the appropriate compiler flags.\n"
     ]
    }
   ],
   "source": [
    "import pandas as pd\n",
    "import numpy as np\n",
    "\n",
    "import ast\n",
    "import torch\n",
    "\n",
    "from utils.interactive_plot import plot_embeddings_interactive\n",
    "from utils.kl_divergence import compute_kls\n",
    "from utils.dimension_reduction import get_tsne_embeddings\n",
    "\n",
    "audio = pd.read_csv(\"data/audio.csv\")\n",
    "lyrics = pd.read_csv(\"data/lyrics.csv\")\n",
    "full = pd.read_csv(\"data/full.csv\")\n",
    "\n",
    "full[\"sqrt_wks\"] = full[\"wks_on_chart\"].apply(lambda x: np.sqrt(x))\n",
    "full['wks_bucketed'] = full['sqrt_wks'].astype(int)\n",
    "\n",
    "to_merge = ['track_name', 'wks_on_chart', 'wks_bucketed', 'key', 'key_mode']\n",
    "\n",
    "audio = audio.merge(full[to_merge], on='track_name', how='left')\n",
    "lyrics = lyrics.merge(full[to_merge], on='track_name', how='left')"
   ]
  },
  {
   "cell_type": "code",
   "execution_count": 2,
   "metadata": {},
   "outputs": [],
   "source": [
    "def list_to_tensor(lst):\n",
    "    if lst is not None:\n",
    "        return torch.tensor([float(x) for x in lst.strip(\"[]\").split(\",\") if x])\n",
    "    else:\n",
    "        return None\n",
    "\n",
    "audio['latent_audio'] = audio['latent_audio'].apply(lambda x: list_to_tensor(x) if pd.notnull(x) else None)\n",
    "lyrics['latent_embedding'] = lyrics['latent_embedding'].apply(lambda x: torch.tensor(ast.literal_eval(x)))"
   ]
  },
  {
   "cell_type": "code",
   "execution_count": 3,
   "metadata": {},
   "outputs": [
    {
     "name": "stdout",
     "output_type": "stream",
     "text": [
      "The cluster most similar to the overall distribution is: 0\n",
      "KL Divergences by cluster:\n",
      "Cluster 0: 0.2110428290889822\n",
      "Cluster 6: 0.25427667087705697\n",
      "Cluster 7: 0.27770737279481517\n",
      "Cluster 9: 0.2882718861480844\n",
      "Cluster 12: 0.34802911098494427\n",
      "Cluster 1: 0.4009614888979761\n",
      "Cluster 5: 0.44810921873213877\n",
      "Cluster 4: 0.46431604351138084\n",
      "Cluster 14: 0.4757839799037803\n",
      "Cluster 10: 0.5734805843645955\n",
      "Cluster 8: 0.5971418191334149\n",
      "Cluster 13: 0.856317033055617\n",
      "Cluster 11: 1.1325952436656401\n",
      "Cluster 2: 1.2576571152366296\n",
      "Cluster 3: 1.702261692267202\n"
     ]
    }
   ],
   "source": [
    "compute_kls(audio, \"wks_on_chart\")"
   ]
  },
  {
   "cell_type": "code",
   "execution_count": 4,
   "metadata": {},
   "outputs": [
    {
     "name": "stdout",
     "output_type": "stream",
     "text": [
      "The cluster most similar to the overall distribution is: 3\n",
      "KL Divergences by cluster:\n",
      "Cluster 3: 0.23379734932819404\n",
      "Cluster 14: 0.28937617946640015\n",
      "Cluster 0: 0.3260878037577486\n",
      "Cluster 10: 0.3322540618378864\n",
      "Cluster 7: 0.34538143848009495\n",
      "Cluster 8: 0.36509220740021675\n",
      "Cluster 1: 0.3816692846274304\n",
      "Cluster 6: 0.42861129278253285\n",
      "Cluster 9: 0.44747640680663886\n",
      "Cluster 5: 0.5096761503616904\n",
      "Cluster 12: 0.5670417761316591\n",
      "Cluster 13: 1.1485117979548258\n",
      "Cluster 2: 1.2639310676053295\n",
      "Cluster 4: 1.5725192807267954\n",
      "Cluster 11: 1.801134277872217\n"
     ]
    }
   ],
   "source": [
    "compute_kls(lyrics, \"wks_on_chart\")"
   ]
  },
  {
   "cell_type": "code",
   "execution_count": 5,
   "metadata": {},
   "outputs": [
    {
     "name": "stderr",
     "output_type": "stream",
     "text": [
      "/Library/Frameworks/Python.framework/Versions/3.10/lib/python3.10/site-packages/umap/umap_.py:1943: UserWarning: n_jobs value -1 overridden to 1 by setting random_state. Use no seed for parallelism.\n",
      "  warn(f\"n_jobs value {self.n_jobs} overridden to 1 by setting random_state. Use no seed for parallelism.\")\n",
      "/Library/Frameworks/Python.framework/Versions/3.10/lib/python3.10/site-packages/umap/umap_.py:1943: UserWarning: n_jobs value -1 overridden to 1 by setting random_state. Use no seed for parallelism.\n",
      "  warn(f\"n_jobs value {self.n_jobs} overridden to 1 by setting random_state. Use no seed for parallelism.\")\n"
     ]
    }
   ],
   "source": [
    "audio_embeddings = get_tsne_embeddings(audio, \"latent_audio\")\n",
    "lyric_embeddings = get_tsne_embeddings(lyrics, \"latent_embedding\")"
   ]
  },
  {
   "cell_type": "code",
   "execution_count": 33,
   "metadata": {},
   "outputs": [],
   "source": [
    "import matplotlib.pyplot as plt\n",
    "import plotly.graph_objects as go\n",
    "\n",
    "\n",
    "def plot_embeddings_interactive_test(df, embeddings, feature, emphasis=[]):\n",
    "    \"\"\"\n",
    "    This is a function so we can see if there are patterns among different buckets of billboard scores.\n",
    "    It's a bit dizzying to look at everything overlaid...\n",
    "\n",
    "    This plot is interactive to make encoding EDA not as painful\n",
    "    \"\"\"\n",
    "    unique = df[feature].astype(str).unique()\n",
    "    colors = plt.cm.cividis(np.linspace(0, 1, len(unique)))\n",
    "    color_map = {category: f'rgb({int(col[0]*255)}, {int(col[1]*255)}, {int(col[2]*255)})' for category, col in zip(unique, colors)}\n",
    "\n",
    "    fig = go.Figure()\n",
    "\n",
    "    # Ensuring embeddings_2d is a NumPy array for indexing\n",
    "    embeddings_2d_np = np.array(embeddings)\n",
    "\n",
    "    # Add traces for album names\n",
    "    for category in unique:\n",
    "        idx = df[feature].astype(str) == category\n",
    "        selected_embeddings = embeddings_2d_np[idx]\n",
    "        fig.add_trace(go.Scatter(x=selected_embeddings[:, 0], y=selected_embeddings[:, 1],\n",
    "                                 mode='markers', marker=dict(color=color_map[category], opacity=1.0 if category in emphasis else 0.1),\n",
    "                                 name=category, text=df[idx]['track_name']))\n",
    "\n",
    "    fig.update_layout(title='Interactive Plot of Song Embeddings',\n",
    "                      xaxis_title='TSNE 1',\n",
    "                      yaxis_title='TSNE 2',\n",
    "                      legend_title_text='Legend',\n",
    "                      hovermode='closest')\n",
    "\n",
    "    fig.show()"
   ]
  },
  {
   "cell_type": "code",
   "execution_count": 34,
   "metadata": {},
   "outputs": [
    {
     "data": {
      "application/vnd.plotly.v1+json": {
       "config": {
        "plotlyServerURL": "https://plot.ly"
       },
       "data": [
        {
         "marker": {
          "color": "rgb(0, 34, 77)",
          "opacity": 0.1
         },
         "mode": "markers",
         "name": "4",
         "text": [
          "...Ready For It?",
          "22",
          "Back To December",
          "Begin Again",
          "Both Of Us",
          "Everything Has Changed",
          "Fifteen",
          "Highway Don't Care",
          "I Don't Wanna Live Forever",
          "Is It Over Now? (Taylor's Version) [From The Vault]",
          "Look What You Made Me Do",
          "Lover",
          "ME!",
          "Mean",
          "Mine",
          "Ours",
          "Picture To Burn",
          "Red",
          "Safe & Sound",
          "Should've Said No",
          "Sparks Fly",
          "Tim McGraw",
          "Today Was A Fairytale",
          "Two Is Better Than One",
          "We Are Never Ever Getting Back Together",
          "White Horse",
          "willow",
          "You Need To Calm Down"
         ],
         "type": "scatter",
         "x": [
          -4.302668571472168,
          6.613466739654541,
          -11.014166831970215,
          -7.7742390632629395,
          -4.231258392333984,
          -6.148597717285156,
          -17.077302932739258,
          -17.667163848876953,
          8.969684600830078,
          6.141604423522949,
          -11.684818267822266,
          11.912083625793457,
          -11.776694297790527,
          11.228923797607422,
          -12.799111366271973,
          4.7367987632751465,
          -9.925958633422852,
          -17.544212341308594,
          12.487984657287598,
          13.002885818481445,
          -7.07323694229126,
          3.8160486221313477,
          -10.751680374145508,
          -16.37367820739746,
          -5.99040412902832,
          3.7525784969329834,
          7.59265661239624,
          4.968189716339111
         ],
         "y": [
          -12.113478660583496,
          6.500113487243652,
          -2.679400682449341,
          4.681288719177246,
          -11.06701946258545,
          5.771451950073242,
          9.169888496398926,
          11.058815002441406,
          -8.210205078125,
          -12.022855758666992,
          0.10775132477283478,
          2.9222254753112793,
          -0.7840674519538879,
          3.4545483589172363,
          6.484702110290527,
          -11.781871795654297,
          -3.4070146083831787,
          11.357625961303711,
          0.3735605776309967,
          0.253136545419693,
          -12.073468208312988,
          -10.86325740814209,
          2.392763614654541,
          9.258162498474121,
          -11.220908164978027,
          -10.243950843811035,
          -10.967326164245605,
          -12.796835899353027
         ]
        },
        {
         "marker": {
          "color": "rgb(33, 59, 110)",
          "opacity": 0.1
         },
         "mode": "markers",
         "name": "1",
         "text": [
          "'tis the damn season",
          "22 (Taylor's Version)",
          "Afterglow",
          "All Too Well",
          "All You Had To Do Was Stay (Taylor's Version)",
          "august",
          "Babe",
          "Babe (Taylor's Version) [From The Vault]",
          "Back To December (Taylor's Version)",
          "Bad Blood (Taylor's Version)",
          "Begin Again (Taylor's Version)",
          "Better Man (Taylor's Version) [From The Vault]",
          "Better Than Revenge",
          "Better Than Revenge (Taylor's Version)",
          "betty",
          "Blank Space (Taylor's Version)",
          "Breathe",
          "Call It What You Want",
          "Carolina",
          "Castles Crumbling (Taylor's Version) [From The Vault]",
          "champagne problems",
          "Change",
          "Christmas Tree Farm",
          "Clean (Taylor's Version)",
          "closure",
          "Come Back...Be Here (Taylor's Version)",
          "Come In With The Rain",
          "coney island",
          "Cornelia Street",
          "cowboy like me",
          "Daylight",
          "Dear John",
          "Dear John (Taylor's Version)",
          "Dear Reader",
          "Death By A Thousand Cuts",
          "dorothea",
          "Electric Touch (Taylor's Version) [From The Vault]",
          "Enchanted",
          "Enchanted (Taylor's Version)",
          "epiphany",
          "evermore",
          "Everything Has Changed (Taylor's Version)",
          "False God",
          "Fearless (Taylor's Version)",
          "Fifteen (Taylor's Version)",
          "Foolish One (Taylor's Version) [From The Vault]",
          "Forever & Always",
          "Forever & Always (Taylor's Version)",
          "Forever Winter (Taylor's Version) [From The Vault]",
          "Glitch",
          "gold rush",
          "happiness",
          "Haunted",
          "Haunted (Taylor's Version)",
          "Hey Stephen",
          "High Infidelity",
          "Hits Different",
          "hoax",
          "Holy Ground (Taylor's Version)",
          "How You Get The Girl (Taylor's Version)",
          "I Almost Do",
          "I Almost Do (Taylor's Version)",
          "I Bet You Think About Me (Taylor's Version) [From The Vault]",
          "I Forgot That You Existed",
          "I Knew You Were Trouble (Taylor's Version)",
          "I Know Places (Taylor's Version)",
          "I Think He Knows",
          "I Wish You Would (Taylor's Version)",
          "If This Was A Movie",
          "illicit affairs",
          "Innocent",
          "Innocent (Taylor's Version)",
          "invisible string",
          "It's Nice To Have A Friend",
          "ivy",
          "Jump Then Fall",
          "Last Kiss",
          "Last Kiss (Taylor's Version)",
          "London Boy",
          "Long Live",
          "Long Live (Taylor's Version)",
          "long story short",
          "Love Story (Taylor's Version)",
          "mad woman",
          "marjorie",
          "Mean (Taylor's Version)",
          "Mine (Taylor's Version)",
          "mirrorball",
          "Miss Americana & The Heartbreak Prince",
          "Mr. Perfectly Fine (Taylor's Version) [From The Vault]",
          "my tears ricochet",
          "Never Grow Up",
          "Never Grow Up (Taylor's Version)",
          "New Romantics (Taylor's Version)",
          "no body, no crime",
          "Nothing New (Taylor's Version) [From The Vault]",
          "Only The Young",
          "Ours (Taylor's Version)",
          "Out Of The Woods (Taylor's Version)",
          "Paper Rings",
          "Paris",
          "peace",
          "Red (Taylor's Version)",
          "Renegade",
          "Ronan",
          "Run (Taylor's Version) [From The Vault]",
          "Sad Beautiful Tragic (Taylor's Version)",
          "seven",
          "Shake It Off (Taylor's Version)",
          "Soon You'll Get Better",
          "Sparks Fly (Taylor's Version)",
          "Speak Now",
          "Speak Now (Taylor's Version)",
          "Starlight (Taylor's Version)",
          "State Of Grace",
          "State Of Grace (Taylor's Version)",
          "Stay Stay Stay",
          "Stay Stay Stay (Taylor's Version)",
          "Suburban Legends (Taylor's Version) [From The Vault]",
          "Superman",
          "Superman (Taylor's Version)",
          "SuperStar",
          "Sweeter Than Fiction",
          "The Archer",
          "The Joker And The Queen",
          "the last great american dynasty",
          "The Last Time (Taylor's Version)",
          "The Lucky One (Taylor's Version)",
          "The Moment I Knew",
          "The Moment I Knew (Taylor's Version)",
          "The Other Side Of The Door",
          "The Story Of Us (Taylor's Version)",
          "The Very First Night (Taylor's Version) [From The Vault]",
          "The Way I Loved You",
          "The Way I Loved You (Taylor's Version)",
          "this is me trying",
          "This Love (Taylor's Version)",
          "Timeless (Taylor's Version) [From The Vault]",
          "tolerate it",
          "Treacherous (Taylor's Version)",
          "Untouchable",
          "We Are Never Ever Getting Back Together (Taylor's Version)",
          "Welcome To New York",
          "Welcome To New York (Taylor's Version)",
          "When Emma Falls In Love (Taylor's Version) [From The Vault]",
          "Wonderland",
          "Wonderland (Taylor's Version)",
          "You All Over Me (Taylor's Version) [From The Vault]",
          "You Are In Love",
          "You Are In Love (Taylor's Version)",
          "You Belong With Me (Taylor's Version)"
         ],
         "type": "scatter",
         "x": [
          -12.610526084899902,
          6.512587070465088,
          13.74617862701416,
          7.397975444793701,
          -16.402145385742188,
          5.9133453369140625,
          -7.503016948699951,
          -7.443982124328613,
          -10.920453071594238,
          1.1401735544204712,
          -7.7151923179626465,
          -6.004474639892578,
          -8.735977172851562,
          -8.817336082458496,
          -13.167231559753418,
          3.8243978023529053,
          10.971189498901367,
          4.318016052246094,
          14.730538368225098,
          -7.552489280700684,
          -8.10068130493164,
          -9.371660232543945,
          -11.499871253967285,
          -11.160452842712402,
          16.886842727661133,
          -8.772079467773438,
          10.706491470336914,
          17.377519607543945,
          4.268478870391846,
          13.616503715515137,
          -7.4378342628479,
          -9.65235424041748,
          -9.854852676391602,
          17.2747745513916,
          2.7705488204956055,
          -7.109887599945068,
          -17.00706672668457,
          6.058454990386963,
          6.05820894241333,
          -18.090274810791016,
          -7.3780999183654785,
          -5.897183895111084,
          14.705263137817383,
          -11.834280967712402,
          -16.991912841796875,
          -6.244778633117676,
          2.8160934448242188,
          2.882373094558716,
          -8.921332359313965,
          5.393158912658691,
          -10.708844184875488,
          10.673027038574219,
          10.865888595581055,
          10.88657283782959,
          13.541826248168945,
          6.643115997314453,
          -17.768686294555664,
          17.70842933654785,
          -8.219060897827148,
          12.31252384185791,
          2.3987128734588623,
          2.4507391452789307,
          4.453271865844727,
          17.87192153930664,
          -9.734719276428223,
          -12.54444694519043,
          4.697877883911133,
          0.24311403930187225,
          -17.505020141601562,
          8.36762523651123,
          10.765957832336426,
          10.922085762023926,
          14.653671264648438,
          9.077595710754395,
          14.179596900939941,
          2.456578254699707,
          -6.3207550048828125,
          -6.4696550369262695,
          -4.221092700958252,
          -6.747191429138184,
          -6.639493942260742,
          3.661522626876831,
          -16.812095642089844,
          5.042035102844238,
          9.765114784240723,
          11.282135963439941,
          -12.50606918334961,
          -17.769006729125977,
          -11.55880069732666,
          -11.643987655639648,
          -10.455703735351562,
          8.381172180175781,
          8.49588680267334,
          6.836838722229004,
          -4.6724748611450195,
          9.449865341186523,
          0.7003644108772278,
          4.568789005279541,
          -15.0018892288208,
          -8.178362846374512,
          -11.852859497070312,
          15.704374313354492,
          -17.357271194458008,
          -10.718015670776367,
          16.767404556274414,
          14.043935775756836,
          12.069171905517578,
          9.71772289276123,
          0.10833816230297089,
          5.65770959854126,
          -6.925095081329346,
          -8.37203598022461,
          -8.145378112792969,
          -10.195503234863281,
          -7.568681240081787,
          -7.599392890930176,
          -12.701181411743164,
          -12.449817657470703,
          -8.979759216308594,
          -6.205446720123291,
          -6.391236305236816,
          -4.893270015716553,
          7.124719619750977,
          10.244909286499023,
          12.807339668273926,
          14.009185791015625,
          5.876165390014648,
          -18.04326629638672,
          11.093154907226562,
          11.282758712768555,
          -6.4894208908081055,
          -7.5751729011535645,
          -6.200323104858398,
          -15.092803955078125,
          -15.292923927307129,
          -6.097325325012207,
          6.177335739135742,
          4.255970478057861,
          14.727782249450684,
          -0.5563202500343323,
          -18.549043655395508,
          -6.019991874694824,
          0.6279436945915222,
          0.792140781879425,
          2.697401285171509,
          0.5162118077278137,
          0.569929838180542,
          14.001964569091797,
          16.57627296447754,
          16.594270706176758,
          -10.005718231201172
         ],
         "y": [
          4.841666221618652,
          6.570840835571289,
          0.9929347634315491,
          5.8642778396606445,
          9.799378395080566,
          -9.732114791870117,
          4.691875457763672,
          5.591187477111816,
          -2.5578300952911377,
          -12.914353370666504,
          4.821799278259277,
          -8.709449768066406,
          -9.095694541931152,
          -8.844396591186523,
          5.612232685089111,
          -12.926400184631348,
          -4.039509296417236,
          -11.519994735717773,
          0.6231676936149597,
          -8.151701927185059,
          4.167734622955322,
          6.4085307121276855,
          1.9395084381103516,
          -0.7626510262489319,
          2.470198154449463,
          7.149245262145996,
          -5.806864261627197,
          2.767719268798828,
          -12.470162391662598,
          0.3727155029773712,
          6.41929817199707,
          -8.211212158203125,
          -8.328901290893555,
          2.264382839202881,
          -13.175540924072266,
          -11.944513320922852,
          10.860490798950195,
          6.118593692779541,
          6.6014404296875,
          11.876551628112793,
          5.150791168212891,
          5.445944786071777,
          1.509125828742981,
          1.193001389503479,
          9.44540023803711,
          -8.922955513000488,
          7.090344429016113,
          7.06892728805542,
          6.752233028411865,
          -11.912955284118652,
          -2.241997480392456,
          -4.627219200134277,
          -4.276151180267334,
          -4.219806671142578,
          3.1255943775177,
          -11.973856925964355,
          9.567164421081543,
          2.1215169429779053,
          5.9432573318481445,
          3.2977428436279297,
          7.106806755065918,
          6.9670515060424805,
          6.766573429107666,
          2.273451089859009,
          -8.71622085571289,
          5.96211576461792,
          -12.898097038269043,
          7.656046390533447,
          11.657464027404785,
          -10.225323677062988,
          -6.249560356140137,
          -6.129698753356934,
          -1.4314714670181274,
          -7.688356399536133,
          -1.5045560598373413,
          7.503345012664795,
          -8.510946273803711,
          -8.54381275177002,
          -9.874083518981934,
          -11.677536964416504,
          -11.607629776000977,
          -9.629735946655273,
          9.916942596435547,
          -10.467535972595215,
          -6.752072334289551,
          3.374460458755493,
          6.653542518615723,
          10.160943984985352,
          -0.7922714352607727,
          1.0801265239715576,
          -3.9946823120117188,
          -9.171106338500977,
          -9.30434799194336,
          6.385966777801514,
          -10.974899291992188,
          -6.3738579750061035,
          7.331698417663574,
          -12.217273712158203,
          8.78201961517334,
          -7.992097854614258,
          -0.10582228749990463,
          0.2143660932779312,
          11.515031814575195,
          -3.5435054302215576,
          1.1553982496261597,
          0.3144788146018982,
          2.515801191329956,
          -6.831349849700928,
          7.207461357116699,
          -9.959388732910156,
          -11.954169273376465,
          -9.681320190429688,
          -9.762093544006348,
          -3.149080991744995,
          6.919588088989258,
          6.914615154266357,
          5.555595397949219,
          5.834693431854248,
          -8.564253807067871,
          5.632450103759766,
          5.777412414550781,
          -10.96878433227539,
          6.170985698699951,
          -6.195215702056885,
          -0.7480725646018982,
          2.244767665863037,
          6.563539028167725,
          9.659967422485352,
          -5.944714069366455,
          -5.81599235534668,
          5.236530780792236,
          -10.659018516540527,
          -11.932296752929688,
          8.719634056091309,
          9.118934631347656,
          -8.42280387878418,
          -9.421887397766113,
          -10.000507354736328,
          2.2175071239471436,
          7.2935099601745605,
          11.14555835723877,
          -11.221531867980957,
          -12.321932792663574,
          -12.5375394821167,
          7.29953145980835,
          7.11094331741333,
          7.1894659996032715,
          -0.5526706576347351,
          3.0784244537353516,
          2.9840734004974365,
          6.922573566436768
         ]
        },
        {
         "marker": {
          "color": "rgb(76, 84, 108)",
          "opacity": 0.1
         },
         "mode": "markers",
         "name": "2",
         "text": [
          "\"Slut!\" (Taylor's Version) [From The Vault]",
          "All Of The Girls You Loved Before",
          "Bigger Than The Whole Sky",
          "Crazier",
          "exile",
          "Gorgeous",
          "I Can See You (Taylor's Version) [From The Vault]",
          "Labyrinth",
          "Maroon",
          "Mastermind",
          "Midnight Rain",
          "New Romantics",
          "Now That We Don't Talk (Taylor's Version) [From The Vault]",
          "Question...?",
          "Say Don't Go (Taylor's Version) [From The Vault]",
          "Snow On The Beach",
          "Style (Taylor's Version)",
          "Sweet Nothing",
          "the 1",
          "The Great War",
          "The Man",
          "Vigilante Shit",
          "Wildest Dreams (Taylor's Version)",
          "Would've, Could've, Should've",
          "You're Losing Me (From The Vault)",
          "You're Not Sorry",
          "You're On Your Own, Kid"
         ],
         "type": "scatter",
         "x": [
          -0.04162836819887161,
          7.86834192276001,
          10.590900421142578,
          -12.742942810058594,
          10.27972412109375,
          7.257323741912842,
          -17.889577865600586,
          -7.821210861206055,
          17.23101234436035,
          17.575773239135742,
          7.470362186431885,
          6.673325061798096,
          -7.5219807624816895,
          17.520153045654297,
          12.74804401397705,
          13.781656265258789,
          -4.841072082519531,
          7.2774858474731445,
          17.61158561706543,
          -16.767004013061523,
          -11.665026664733887,
          17.38896942138672,
          -11.571710586547852,
          -17.465784072875977,
          7.016395568847656,
          -10.987752914428711,
          6.90951681137085
         ],
         "y": [
          -12.066301345825195,
          -10.384876251220703,
          -6.587580680847168,
          5.072004318237305,
          -5.9357147216796875,
          -11.380921363830566,
          11.946807861328125,
          4.859196662902832,
          3.19930362701416,
          1.9201183319091797,
          -11.881261825561523,
          5.9022417068481445,
          -8.328601837158203,
          1.2533937692642212,
          1.3116401433944702,
          3.4313793182373047,
          -10.320353507995605,
          -11.68250846862793,
          2.9661672115325928,
          8.696919441223145,
          0.6134008765220642,
          3.2468199729919434,
          6.499449253082275,
          9.607379913330078,
          -10.604162216186523,
          6.51135778427124,
          -11.186361312866211
         ]
        },
        {
         "marker": {
          "color": "rgb(108, 109, 114)",
          "opacity": 0.1
         },
         "mode": "markers",
         "name": "0",
         "text": [
          "A Perfectly Good Heart",
          "A Place In This World",
          "All Too Well (10 Minute Version) [Taylor's Version] [From The Vault]",
          "All You Had To Do Was Stay",
          "American Girl",
          "Bad Blood",
          "Bad Blood (Remix)",
          "Beautiful Eyes",
          "Beautiful Ghosts",
          "Birch",
          "Breathe (Taylor's Version)",
          "Bye Bye Baby (Taylor's Version) [From The Vault]",
          "Change (Taylor's Version)",
          "Christmas Must Be Something More",
          "Christmases When You Were Mine",
          "Clean",
          "Cold As You",
          "Come Back...Be Here",
          "Come In With The Rain (Taylor's Version)",
          "Dancing With Our Hands Tied",
          "Don't Blame Me",
          "Don't You (Taylor's Version) [From The Vault]",
          "Dress",
          "Eyes Open (Taylor's Version)",
          "Forever & Always (Piano Version)",
          "Forever & Always (Piano Version) [Taylor's Version]",
          "Gasoline (Remix)",
          "Getaway Car",
          "Girl At Home",
          "Girl At Home (Taylor's Version)",
          "Half Of My Heart",
          "Hey Stephen (Taylor's Version)",
          "Holy Ground",
          "How You Get The Girl",
          "I Did Something Bad",
          "I Heart ?",
          "I Know Places",
          "I Wish You Would",
          "I'm Only Me When I'm With You",
          "I'm Only Me When I'm With You",
          "I'm Only Me When I'm With You",
          "I'm Only Me When I'm With You",
          "I'm Only Me When I'm With You",
          "I'm Only Me When I'm With You",
          "I'm Only Me When I'm With You",
          "I'm Only Me When I'm With You",
          "I'm Only Me When I'm With You",
          "I'm Only Me When I'm With You",
          "I'm Only Me When I'm With You",
          "I'm Only Me When I'm With You",
          "I'm Only Me When I'm With You",
          "I'm Only Me When I'm With You",
          "I'm Only Me When I'm With You",
          "I'm Only Me When I'm With You",
          "If This Was A Movie (Taylor's Version)",
          "Invisible",
          "it's time to go",
          "Jump Then Fall (Taylor's Version)",
          "Karma",
          "King Of My Heart",
          "Last Christmas",
          "Lover (Remix)",
          "Mary's Song (Oh My My My)",
          "New Year's Day",
          "Picture To Burn (Radio Edit)",
          "Red (Original Demo Recording)",
          "right where you left me",
          "Ronan (Taylor's Version)",
          "Sad Beautiful Tragic",
          "Safe & Sound (Taylor's Version)",
          "Santa Baby",
          "September",
          "Should've Said No (Alternate Version)",
          "Silent Night",
          "Snow On The Beach (More Lana Del Rey)",
          "So It Goes...",
          "Starlight",
          "State Of Grace (Acoustic Version)",
          "State Of Grace (Acoustic Version) [Taylor's Version]",
          "Stay Beautiful",
          "SuperStar (Taylor's Version)",
          "Sweet Nothing (Piano Remix)",
          "Sweeter Than Fiction (Taylor's Version)",
          "Teardrops On My Guitar (Acoustic Version)",
          "Teardrops On My Guitar (Pop Version)",
          "Tell Me Why",
          "Tell Me Why (Taylor's Version)",
          "That's When (Taylor's Version) [From The Vault]",
          "The Alcott",
          "The Best Day",
          "The Best Day (Taylor's Version)",
          "the lakes",
          "The Last Time",
          "The Lucky One",
          "The Other Side Of The Door (Taylor's Version)",
          "The Outside",
          "This Is Why We Can't Have Nice Things",
          "This Love",
          "Three Sad Virgins",
          "Tied Together With A Smile",
          "Today Was A Fairytale (Taylor's Version)",
          "Treacherous",
          "Treacherous (Original Demo Recording)",
          "Untouchable (Taylor's Version)",
          "We Were Happy (Taylor's Version) [From The Vault]",
          "White Christmas",
          "White Horse (Taylor's Version)",
          "You're Not Sorry (Taylor's Version)",
          "You're On Your Own, Kid (Strings Remix)"
         ],
         "type": "scatter",
         "x": [
          7.667068004608154,
          11.595926284790039,
          -3.3852455615997314,
          -16.28270149230957,
          6.3218865394592285,
          1.277923822402954,
          1.939014196395874,
          10.926817893981934,
          16.16586685180664,
          -11.132392883300781,
          10.928057670593262,
          -9.615069389343262,
          -8.931778907775879,
          -9.22566032409668,
          16.995800018310547,
          3.9569385051727295,
          -10.228189468383789,
          -8.917174339294434,
          10.511815071105957,
          3.029611349105835,
          2.1339058876037598,
          -4.918203830718994,
          9.41246509552002,
          -8.845059394836426,
          -10.866437911987305,
          -10.651729583740234,
          -10.646814346313477,
          -11.145230293273926,
          -17.65703773498535,
          -17.509138107299805,
          -12.19933795928955,
          13.998780250549316,
          -8.185340881347656,
          12.245865821838379,
          -11.532913208007812,
          15.90784740447998,
          -12.669220924377441,
          0.39976805448532104,
          16.99422264099121,
          16.128849029541016,
          16.574201583862305,
          16.17028045654297,
          16.491657257080078,
          17.00711441040039,
          16.786964416503906,
          16.747995376586914,
          16.989051818847656,
          16.74276351928711,
          16.01648712158203,
          16.469867706298828,
          15.978150367736816,
          16.1229248046875,
          16.275846481323242,
          17.004152297973633,
          -0.10198360681533813,
          8.69117259979248,
          16.758129119873047,
          2.412731647491455,
          -5.440511226654053,
          1.6458300352096558,
          2.6036360263824463,
          -15.474105834960938,
          -6.202460765838623,
          16.90508460998535,
          3.906132936477661,
          -15.16981029510498,
          -11.074782371520996,
          16.833736419677734,
          12.119002342224121,
          -15.376267433166504,
          15.87950325012207,
          -6.461093425750732,
          -15.367340087890625,
          2.358247756958008,
          5.476409912109375,
          1.906880497932434,
          -10.129446983337402,
          12.213912010192871,
          12.067500114440918,
          -15.266701698303223,
          -4.991037845611572,
          7.818753719329834,
          -15.165741920471191,
          12.790797233581543,
          13.235036849975586,
          -18.4948673248291,
          -18.12484359741211,
          3.9323229789733887,
          -15.312895774841309,
          12.873441696166992,
          12.749773979187012,
          8.982311248779297,
          5.857545852661133,
          -18.035181045532227,
          -6.563453197479248,
          -7.777811527252197,
          12.599720001220703,
          6.195070743560791,
          7.043705940246582,
          0.3539460301399231,
          -10.379685401916504,
          -0.34858256578445435,
          -15.49775505065918,
          -18.57923126220703,
          14.247557640075684,
          8.118657112121582,
          3.7577247619628906,
          -10.708906173706055,
          2.9849565029144287
         ],
         "y": [
          5.713272571563721,
          3.6742074489593506,
          -11.33659839630127,
          9.881499290466309,
          5.968613624572754,
          -12.758736610412598,
          -13.088165283203125,
          -3.856353759765625,
          2.409308671951294,
          -2.643516778945923,
          -3.939872980117798,
          -8.171213150024414,
          6.347605228424072,
          -8.77519702911377,
          2.045790433883667,
          -10.222314834594727,
          -3.7546064853668213,
          7.180100917816162,
          -5.86602783203125,
          -9.778761863708496,
          -12.685429573059082,
          -11.541864395141602,
          -6.0814666748046875,
          -7.314779758453369,
          -3.22829008102417,
          -3.6206579208374023,
          2.231419563293457,
          0.190988689661026,
          9.143692970275879,
          9.01976490020752,
          6.811049938201904,
          3.1108100414276123,
          5.920465469360352,
          3.385996103286743,
          -0.2145054191350937,
          12.163666725158691,
          6.0006608963012695,
          7.6539788246154785,
          12.378580093383789,
          11.774837493896484,
          11.63458251953125,
          11.740976333618164,
          11.632906913757324,
          12.289532661437988,
          11.699501037597656,
          12.624382972717285,
          11.91301441192627,
          12.59567928314209,
          12.413985252380371,
          12.702184677124023,
          12.025341033935547,
          12.515815734863281,
          12.653759002685547,
          11.958883285522461,
          7.707195281982422,
          -9.082869529724121,
          3.3946008682250977,
          7.576676368713379,
          -9.24378490447998,
          -13.156429290771484,
          -10.50098705291748,
          -2.846494674682617,
          -12.22490119934082,
          1.571847677230835,
          6.89670467376709,
          -2.923759937286377,
          -1.8324625492095947,
          1.7688616514205933,
          2.392087936401367,
          -2.945692300796509,
          1.3715330362319946,
          5.079641342163086,
          -2.5657379627227783,
          7.676513195037842,
          -10.475811004638672,
          7.104941368103027,
          -3.1424946784973145,
          0.2374177724123001,
          0.24040859937667847,
          8.992711067199707,
          -11.103327751159668,
          -11.130331039428711,
          -2.5929625034332275,
          2.030616044998169,
          1.5131101608276367,
          11.096516609191895,
          11.317991256713867,
          -11.763603210449219,
          -2.5397205352783203,
          0.879007875919342,
          0.7253678441047668,
          -8.858305931091309,
          6.291792392730713,
          9.579997062683105,
          5.44047212600708,
          -7.9152512550354,
          3.31976318359375,
          -9.37345027923584,
          -12.247258186340332,
          -12.57522201538086,
          3.0565438270568848,
          7.3071818351745605,
          -2.7557425498962402,
          11.59848690032959,
          1.4130290746688843,
          5.430894374847412,
          -10.365544319152832,
          6.487076759338379,
          -10.977962493896484
         ]
        },
        {
         "marker": {
          "color": "rgb(141, 137, 120)",
          "opacity": 0.1
         },
         "mode": "markers",
         "name": "3",
         "text": [
          "All Too Well (Taylor's Version)",
          "Bejeweled",
          "cardigan",
          "End Game",
          "Eyes Open",
          "Fearless",
          "Message In A Bottle (Taylor's Version) [From The Vault]",
          "Out Of The Woods",
          "The Story Of Us"
         ],
         "type": "scatter",
         "x": [
          7.171773433685303,
          -4.099142551422119,
          11.228711128234863,
          -15.070932388305664,
          -8.477861404418945,
          -11.77635383605957,
          -7.053623676300049,
          -14.900487899780273,
          -7.409033298492432
         ],
         "y": [
          5.749057292938232,
          -11.15673542022705,
          -2.7977054119110107,
          -2.6964519023895264,
          -7.720698833465576,
          1.181915044784546,
          5.828104496002197,
          8.666704177856445,
          -10.843894004821777
         ]
        },
        {
         "marker": {
          "color": "rgb(177, 165, 112)",
          "opacity": 1
         },
         "mode": "markers",
         "name": "7",
         "text": [
          "Anti-Hero",
          "Love Story",
          "Shake It Off",
          "You Belong With Me"
         ],
         "type": "scatter",
         "x": [
          -11.241602897644043,
          -16.74883270263672,
          -0.16033215820789337,
          -9.47176456451416
         ],
         "y": [
          1.235339641571045,
          9.87015438079834,
          7.150392532348633,
          7.024324417114258
         ]
        },
        {
         "marker": {
          "color": "rgb(216, 196, 91)",
          "opacity": 1
         },
         "mode": "markers",
         "name": "5",
         "text": [
          "Bad Blood (Remix) [Taylor's Version]",
          "Delicate",
          "Karma (Remix)",
          "Lavender Haze",
          "Style",
          "Wildest Dreams"
         ],
         "type": "scatter",
         "x": [
          1.809809923171997,
          -4.599315166473389,
          -11.362565040588379,
          2.9070165157318115,
          -4.949890613555908,
          -11.755436897277832
         ],
         "y": [
          -13.192364692687988,
          -10.266304969787598,
          -1.5106732845306396,
          -12.978673934936523,
          -10.231180191040039,
          6.499735355377197
         ]
        },
        {
         "marker": {
          "color": "rgb(253, 231, 55)",
          "opacity": 1
         },
         "mode": "markers",
         "name": "6",
         "text": [
          "Blank Space",
          "Cruel Summer",
          "I Knew You Were Trouble",
          "Our Song",
          "Teardrops On My Guitar"
         ],
         "type": "scatter",
         "x": [
          3.6384706497192383,
          -18.140233993530273,
          -9.392868995666504,
          -15.159975051879883,
          2.427021026611328
         ],
         "y": [
          -12.981075286865234,
          10.937575340270996,
          -8.393986701965332,
          -2.899533271789551,
          -11.15062427520752
         ]
        }
       ],
       "layout": {
        "hovermode": "closest",
        "legend": {
         "title": {
          "text": "Legend"
         }
        },
        "template": {
         "data": {
          "bar": [
           {
            "error_x": {
             "color": "#2a3f5f"
            },
            "error_y": {
             "color": "#2a3f5f"
            },
            "marker": {
             "line": {
              "color": "#E5ECF6",
              "width": 0.5
             },
             "pattern": {
              "fillmode": "overlay",
              "size": 10,
              "solidity": 0.2
             }
            },
            "type": "bar"
           }
          ],
          "barpolar": [
           {
            "marker": {
             "line": {
              "color": "#E5ECF6",
              "width": 0.5
             },
             "pattern": {
              "fillmode": "overlay",
              "size": 10,
              "solidity": 0.2
             }
            },
            "type": "barpolar"
           }
          ],
          "carpet": [
           {
            "aaxis": {
             "endlinecolor": "#2a3f5f",
             "gridcolor": "white",
             "linecolor": "white",
             "minorgridcolor": "white",
             "startlinecolor": "#2a3f5f"
            },
            "baxis": {
             "endlinecolor": "#2a3f5f",
             "gridcolor": "white",
             "linecolor": "white",
             "minorgridcolor": "white",
             "startlinecolor": "#2a3f5f"
            },
            "type": "carpet"
           }
          ],
          "choropleth": [
           {
            "colorbar": {
             "outlinewidth": 0,
             "ticks": ""
            },
            "type": "choropleth"
           }
          ],
          "contour": [
           {
            "colorbar": {
             "outlinewidth": 0,
             "ticks": ""
            },
            "colorscale": [
             [
              0,
              "#0d0887"
             ],
             [
              0.1111111111111111,
              "#46039f"
             ],
             [
              0.2222222222222222,
              "#7201a8"
             ],
             [
              0.3333333333333333,
              "#9c179e"
             ],
             [
              0.4444444444444444,
              "#bd3786"
             ],
             [
              0.5555555555555556,
              "#d8576b"
             ],
             [
              0.6666666666666666,
              "#ed7953"
             ],
             [
              0.7777777777777778,
              "#fb9f3a"
             ],
             [
              0.8888888888888888,
              "#fdca26"
             ],
             [
              1,
              "#f0f921"
             ]
            ],
            "type": "contour"
           }
          ],
          "contourcarpet": [
           {
            "colorbar": {
             "outlinewidth": 0,
             "ticks": ""
            },
            "type": "contourcarpet"
           }
          ],
          "heatmap": [
           {
            "colorbar": {
             "outlinewidth": 0,
             "ticks": ""
            },
            "colorscale": [
             [
              0,
              "#0d0887"
             ],
             [
              0.1111111111111111,
              "#46039f"
             ],
             [
              0.2222222222222222,
              "#7201a8"
             ],
             [
              0.3333333333333333,
              "#9c179e"
             ],
             [
              0.4444444444444444,
              "#bd3786"
             ],
             [
              0.5555555555555556,
              "#d8576b"
             ],
             [
              0.6666666666666666,
              "#ed7953"
             ],
             [
              0.7777777777777778,
              "#fb9f3a"
             ],
             [
              0.8888888888888888,
              "#fdca26"
             ],
             [
              1,
              "#f0f921"
             ]
            ],
            "type": "heatmap"
           }
          ],
          "heatmapgl": [
           {
            "colorbar": {
             "outlinewidth": 0,
             "ticks": ""
            },
            "colorscale": [
             [
              0,
              "#0d0887"
             ],
             [
              0.1111111111111111,
              "#46039f"
             ],
             [
              0.2222222222222222,
              "#7201a8"
             ],
             [
              0.3333333333333333,
              "#9c179e"
             ],
             [
              0.4444444444444444,
              "#bd3786"
             ],
             [
              0.5555555555555556,
              "#d8576b"
             ],
             [
              0.6666666666666666,
              "#ed7953"
             ],
             [
              0.7777777777777778,
              "#fb9f3a"
             ],
             [
              0.8888888888888888,
              "#fdca26"
             ],
             [
              1,
              "#f0f921"
             ]
            ],
            "type": "heatmapgl"
           }
          ],
          "histogram": [
           {
            "marker": {
             "pattern": {
              "fillmode": "overlay",
              "size": 10,
              "solidity": 0.2
             }
            },
            "type": "histogram"
           }
          ],
          "histogram2d": [
           {
            "colorbar": {
             "outlinewidth": 0,
             "ticks": ""
            },
            "colorscale": [
             [
              0,
              "#0d0887"
             ],
             [
              0.1111111111111111,
              "#46039f"
             ],
             [
              0.2222222222222222,
              "#7201a8"
             ],
             [
              0.3333333333333333,
              "#9c179e"
             ],
             [
              0.4444444444444444,
              "#bd3786"
             ],
             [
              0.5555555555555556,
              "#d8576b"
             ],
             [
              0.6666666666666666,
              "#ed7953"
             ],
             [
              0.7777777777777778,
              "#fb9f3a"
             ],
             [
              0.8888888888888888,
              "#fdca26"
             ],
             [
              1,
              "#f0f921"
             ]
            ],
            "type": "histogram2d"
           }
          ],
          "histogram2dcontour": [
           {
            "colorbar": {
             "outlinewidth": 0,
             "ticks": ""
            },
            "colorscale": [
             [
              0,
              "#0d0887"
             ],
             [
              0.1111111111111111,
              "#46039f"
             ],
             [
              0.2222222222222222,
              "#7201a8"
             ],
             [
              0.3333333333333333,
              "#9c179e"
             ],
             [
              0.4444444444444444,
              "#bd3786"
             ],
             [
              0.5555555555555556,
              "#d8576b"
             ],
             [
              0.6666666666666666,
              "#ed7953"
             ],
             [
              0.7777777777777778,
              "#fb9f3a"
             ],
             [
              0.8888888888888888,
              "#fdca26"
             ],
             [
              1,
              "#f0f921"
             ]
            ],
            "type": "histogram2dcontour"
           }
          ],
          "mesh3d": [
           {
            "colorbar": {
             "outlinewidth": 0,
             "ticks": ""
            },
            "type": "mesh3d"
           }
          ],
          "parcoords": [
           {
            "line": {
             "colorbar": {
              "outlinewidth": 0,
              "ticks": ""
             }
            },
            "type": "parcoords"
           }
          ],
          "pie": [
           {
            "automargin": true,
            "type": "pie"
           }
          ],
          "scatter": [
           {
            "fillpattern": {
             "fillmode": "overlay",
             "size": 10,
             "solidity": 0.2
            },
            "type": "scatter"
           }
          ],
          "scatter3d": [
           {
            "line": {
             "colorbar": {
              "outlinewidth": 0,
              "ticks": ""
             }
            },
            "marker": {
             "colorbar": {
              "outlinewidth": 0,
              "ticks": ""
             }
            },
            "type": "scatter3d"
           }
          ],
          "scattercarpet": [
           {
            "marker": {
             "colorbar": {
              "outlinewidth": 0,
              "ticks": ""
             }
            },
            "type": "scattercarpet"
           }
          ],
          "scattergeo": [
           {
            "marker": {
             "colorbar": {
              "outlinewidth": 0,
              "ticks": ""
             }
            },
            "type": "scattergeo"
           }
          ],
          "scattergl": [
           {
            "marker": {
             "colorbar": {
              "outlinewidth": 0,
              "ticks": ""
             }
            },
            "type": "scattergl"
           }
          ],
          "scattermapbox": [
           {
            "marker": {
             "colorbar": {
              "outlinewidth": 0,
              "ticks": ""
             }
            },
            "type": "scattermapbox"
           }
          ],
          "scatterpolar": [
           {
            "marker": {
             "colorbar": {
              "outlinewidth": 0,
              "ticks": ""
             }
            },
            "type": "scatterpolar"
           }
          ],
          "scatterpolargl": [
           {
            "marker": {
             "colorbar": {
              "outlinewidth": 0,
              "ticks": ""
             }
            },
            "type": "scatterpolargl"
           }
          ],
          "scatterternary": [
           {
            "marker": {
             "colorbar": {
              "outlinewidth": 0,
              "ticks": ""
             }
            },
            "type": "scatterternary"
           }
          ],
          "surface": [
           {
            "colorbar": {
             "outlinewidth": 0,
             "ticks": ""
            },
            "colorscale": [
             [
              0,
              "#0d0887"
             ],
             [
              0.1111111111111111,
              "#46039f"
             ],
             [
              0.2222222222222222,
              "#7201a8"
             ],
             [
              0.3333333333333333,
              "#9c179e"
             ],
             [
              0.4444444444444444,
              "#bd3786"
             ],
             [
              0.5555555555555556,
              "#d8576b"
             ],
             [
              0.6666666666666666,
              "#ed7953"
             ],
             [
              0.7777777777777778,
              "#fb9f3a"
             ],
             [
              0.8888888888888888,
              "#fdca26"
             ],
             [
              1,
              "#f0f921"
             ]
            ],
            "type": "surface"
           }
          ],
          "table": [
           {
            "cells": {
             "fill": {
              "color": "#EBF0F8"
             },
             "line": {
              "color": "white"
             }
            },
            "header": {
             "fill": {
              "color": "#C8D4E3"
             },
             "line": {
              "color": "white"
             }
            },
            "type": "table"
           }
          ]
         },
         "layout": {
          "annotationdefaults": {
           "arrowcolor": "#2a3f5f",
           "arrowhead": 0,
           "arrowwidth": 1
          },
          "autotypenumbers": "strict",
          "coloraxis": {
           "colorbar": {
            "outlinewidth": 0,
            "ticks": ""
           }
          },
          "colorscale": {
           "diverging": [
            [
             0,
             "#8e0152"
            ],
            [
             0.1,
             "#c51b7d"
            ],
            [
             0.2,
             "#de77ae"
            ],
            [
             0.3,
             "#f1b6da"
            ],
            [
             0.4,
             "#fde0ef"
            ],
            [
             0.5,
             "#f7f7f7"
            ],
            [
             0.6,
             "#e6f5d0"
            ],
            [
             0.7,
             "#b8e186"
            ],
            [
             0.8,
             "#7fbc41"
            ],
            [
             0.9,
             "#4d9221"
            ],
            [
             1,
             "#276419"
            ]
           ],
           "sequential": [
            [
             0,
             "#0d0887"
            ],
            [
             0.1111111111111111,
             "#46039f"
            ],
            [
             0.2222222222222222,
             "#7201a8"
            ],
            [
             0.3333333333333333,
             "#9c179e"
            ],
            [
             0.4444444444444444,
             "#bd3786"
            ],
            [
             0.5555555555555556,
             "#d8576b"
            ],
            [
             0.6666666666666666,
             "#ed7953"
            ],
            [
             0.7777777777777778,
             "#fb9f3a"
            ],
            [
             0.8888888888888888,
             "#fdca26"
            ],
            [
             1,
             "#f0f921"
            ]
           ],
           "sequentialminus": [
            [
             0,
             "#0d0887"
            ],
            [
             0.1111111111111111,
             "#46039f"
            ],
            [
             0.2222222222222222,
             "#7201a8"
            ],
            [
             0.3333333333333333,
             "#9c179e"
            ],
            [
             0.4444444444444444,
             "#bd3786"
            ],
            [
             0.5555555555555556,
             "#d8576b"
            ],
            [
             0.6666666666666666,
             "#ed7953"
            ],
            [
             0.7777777777777778,
             "#fb9f3a"
            ],
            [
             0.8888888888888888,
             "#fdca26"
            ],
            [
             1,
             "#f0f921"
            ]
           ]
          },
          "colorway": [
           "#636efa",
           "#EF553B",
           "#00cc96",
           "#ab63fa",
           "#FFA15A",
           "#19d3f3",
           "#FF6692",
           "#B6E880",
           "#FF97FF",
           "#FECB52"
          ],
          "font": {
           "color": "#2a3f5f"
          },
          "geo": {
           "bgcolor": "white",
           "lakecolor": "white",
           "landcolor": "#E5ECF6",
           "showlakes": true,
           "showland": true,
           "subunitcolor": "white"
          },
          "hoverlabel": {
           "align": "left"
          },
          "hovermode": "closest",
          "mapbox": {
           "style": "light"
          },
          "paper_bgcolor": "white",
          "plot_bgcolor": "#E5ECF6",
          "polar": {
           "angularaxis": {
            "gridcolor": "white",
            "linecolor": "white",
            "ticks": ""
           },
           "bgcolor": "#E5ECF6",
           "radialaxis": {
            "gridcolor": "white",
            "linecolor": "white",
            "ticks": ""
           }
          },
          "scene": {
           "xaxis": {
            "backgroundcolor": "#E5ECF6",
            "gridcolor": "white",
            "gridwidth": 2,
            "linecolor": "white",
            "showbackground": true,
            "ticks": "",
            "zerolinecolor": "white"
           },
           "yaxis": {
            "backgroundcolor": "#E5ECF6",
            "gridcolor": "white",
            "gridwidth": 2,
            "linecolor": "white",
            "showbackground": true,
            "ticks": "",
            "zerolinecolor": "white"
           },
           "zaxis": {
            "backgroundcolor": "#E5ECF6",
            "gridcolor": "white",
            "gridwidth": 2,
            "linecolor": "white",
            "showbackground": true,
            "ticks": "",
            "zerolinecolor": "white"
           }
          },
          "shapedefaults": {
           "line": {
            "color": "#2a3f5f"
           }
          },
          "ternary": {
           "aaxis": {
            "gridcolor": "white",
            "linecolor": "white",
            "ticks": ""
           },
           "baxis": {
            "gridcolor": "white",
            "linecolor": "white",
            "ticks": ""
           },
           "bgcolor": "#E5ECF6",
           "caxis": {
            "gridcolor": "white",
            "linecolor": "white",
            "ticks": ""
           }
          },
          "title": {
           "x": 0.05
          },
          "xaxis": {
           "automargin": true,
           "gridcolor": "white",
           "linecolor": "white",
           "ticks": "",
           "title": {
            "standoff": 15
           },
           "zerolinecolor": "white",
           "zerolinewidth": 2
          },
          "yaxis": {
           "automargin": true,
           "gridcolor": "white",
           "linecolor": "white",
           "ticks": "",
           "title": {
            "standoff": 15
           },
           "zerolinecolor": "white",
           "zerolinewidth": 2
          }
         }
        },
        "title": {
         "text": "Interactive Plot of Song Embeddings"
        },
        "xaxis": {
         "title": {
          "text": "TSNE 1"
         }
        },
        "yaxis": {
         "title": {
          "text": "TSNE 2"
         }
        }
       }
      }
     },
     "metadata": {},
     "output_type": "display_data"
    }
   ],
   "source": [
    "plot_embeddings_interactive_test(audio, audio_embeddings, \"wks_bucketed\", emphasis=[\"5\", \"6\", \"7\"])"
   ]
  }
 ],
 "metadata": {
  "kernelspec": {
   "display_name": "Python 3",
   "language": "python",
   "name": "python3"
  },
  "language_info": {
   "codemirror_mode": {
    "name": "ipython",
    "version": 3
   },
   "file_extension": ".py",
   "mimetype": "text/x-python",
   "name": "python",
   "nbconvert_exporter": "python",
   "pygments_lexer": "ipython3",
   "version": "3.10.2"
  }
 },
 "nbformat": 4,
 "nbformat_minor": 2
}
