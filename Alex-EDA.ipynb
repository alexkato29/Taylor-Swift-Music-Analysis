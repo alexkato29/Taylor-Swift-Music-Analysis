{
 "cells": [
  {
   "cell_type": "code",
   "execution_count": 11,
   "metadata": {},
   "outputs": [],
   "source": [
    "import pandas as pd\n",
    "\n",
    "billboard = pd.read_csv(\"data/billboard_charts.csv\")\n",
    "tracks = pd.read_csv(\"data/tracks.csv\")\n",
    "tracks = tracks[\"taylor_all_songs.track_name\"]"
   ]
  },
  {
   "cell_type": "code",
   "execution_count": 7,
   "metadata": {},
   "outputs": [],
   "source": [
    "titles = billboard[\"track_name\"]\n",
    "\n",
    "def clean_string(s):\n",
    "    return s.replace(u'\\xa0', u' ').replace(u'\\x85', u'')\n",
    "\n",
    "# Apply the cleaning function to each element of both series\n",
    "titles = titles.apply(clean_string)"
   ]
  },
  {
   "cell_type": "code",
   "execution_count": 8,
   "metadata": {},
   "outputs": [],
   "source": [
    "billboard[\"track_name\"] = titles"
   ]
  },
  {
   "cell_type": "code",
   "execution_count": 12,
   "metadata": {},
   "outputs": [
    {
     "name": "stdout",
     "output_type": "stream",
     "text": [
      "Number of overlapping values: 230\n"
     ]
    }
   ],
   "source": [
    "overlap_count = billboard[\"track_name\"].isin(tracks).sum()\n",
    "print(\"Number of overlapping values:\", overlap_count)"
   ]
  },
  {
   "cell_type": "code",
   "execution_count": 10,
   "metadata": {},
   "outputs": [],
   "source": [
    "billboard.to_csv(\"data/billboard_charts.csv\", index=False)"
   ]
  }
 ],
 "metadata": {
  "kernelspec": {
   "display_name": "Python 3",
   "language": "python",
   "name": "python3"
  },
  "language_info": {
   "codemirror_mode": {
    "name": "ipython",
    "version": 3
   },
   "file_extension": ".py",
   "mimetype": "text/x-python",
   "name": "python",
   "nbconvert_exporter": "python",
   "pygments_lexer": "ipython3",
   "version": "3.10.2"
  }
 },
 "nbformat": 4,
 "nbformat_minor": 2
}
