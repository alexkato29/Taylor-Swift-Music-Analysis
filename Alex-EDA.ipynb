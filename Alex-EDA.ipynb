{
 "cells": [
  {
   "cell_type": "code",
   "execution_count": 1,
   "metadata": {},
   "outputs": [
    {
     "name": "stderr",
     "output_type": "stream",
     "text": [
      "2024-04-23 13:29:55.592476: I tensorflow/core/platform/cpu_feature_guard.cc:182] This TensorFlow binary is optimized to use available CPU instructions in performance-critical operations.\n",
      "To enable the following instructions: AVX2 FMA, in other operations, rebuild TensorFlow with the appropriate compiler flags.\n"
     ]
    }
   ],
   "source": [
    "import pandas as pd\n",
    "import numpy as np\n",
    "\n",
    "import ast\n",
    "import torch\n",
    "\n",
    "from utils.interactive_plot import plot_embeddings_interactive\n",
    "from utils.kl_divergence import compute_kls\n",
    "from utils.dimension_reduction import get_tsne_embeddings\n",
    "\n",
    "audio = pd.read_csv(\"data/audio.csv\")\n",
    "lyrics = pd.read_csv(\"data/lyrics.csv\")\n",
    "full = pd.read_csv(\"data/full.csv\")\n",
    "\n",
    "full[\"sqrt_wks\"] = full[\"wks_on_chart\"].apply(lambda x: np.sqrt(x))\n",
    "full['wks_bucketed'] = full['sqrt_wks'].astype(int)\n",
    "\n",
    "to_merge = ['track_name', 'wks_on_chart', 'sqrt_wks', 'wks_bucketed', 'key', 'key_mode']\n",
    "\n",
    "audio = audio.merge(full[to_merge], on='track_name', how='left')\n",
    "lyrics = lyrics.merge(full[to_merge], on='track_name', how='left')"
   ]
  },
  {
   "cell_type": "code",
   "execution_count": 2,
   "metadata": {},
   "outputs": [],
   "source": [
    "def list_to_tensor(lst):\n",
    "    if lst is not None:\n",
    "        return torch.tensor([float(x) for x in lst.strip(\"[]\").split(\",\") if x])\n",
    "    else:\n",
    "        return None\n",
    "\n",
    "audio['latent_audio'] = audio['latent_audio'].apply(lambda x: list_to_tensor(x) if pd.notnull(x) else None)\n",
    "lyrics['latent_embedding'] = lyrics['latent_embedding'].apply(lambda x: torch.tensor(ast.literal_eval(x)))"
   ]
  },
  {
   "cell_type": "code",
   "execution_count": 3,
   "metadata": {},
   "outputs": [
    {
     "name": "stdout",
     "output_type": "stream",
     "text": [
      "The cluster most similar to the overall distribution is: 0\n",
      "KL Divergences by cluster:\n",
      "Cluster 0: 0.2110428290889822\n",
      "Cluster 6: 0.25427667087705697\n",
      "Cluster 7: 0.27770737279481517\n",
      "Cluster 9: 0.2882718861480844\n",
      "Cluster 12: 0.34802911098494427\n",
      "Cluster 1: 0.4009614888979761\n",
      "Cluster 5: 0.44810921873213877\n",
      "Cluster 4: 0.46431604351138084\n",
      "Cluster 14: 0.4757839799037803\n",
      "Cluster 10: 0.5734805843645955\n",
      "Cluster 8: 0.5971418191334149\n",
      "Cluster 13: 0.856317033055617\n",
      "Cluster 11: 1.1325952436656401\n",
      "Cluster 2: 1.2576571152366296\n",
      "Cluster 3: 1.702261692267202\n"
     ]
    }
   ],
   "source": [
    "compute_kls(audio, \"wks_on_chart\")"
   ]
  },
  {
   "cell_type": "code",
   "execution_count": 4,
   "metadata": {},
   "outputs": [
    {
     "name": "stdout",
     "output_type": "stream",
     "text": [
      "The cluster most similar to the overall distribution is: 3\n",
      "KL Divergences by cluster:\n",
      "Cluster 3: 0.23379734932819404\n",
      "Cluster 14: 0.28937617946640015\n",
      "Cluster 0: 0.3260878037577486\n",
      "Cluster 10: 0.3322540618378864\n",
      "Cluster 7: 0.34538143848009495\n",
      "Cluster 8: 0.36509220740021675\n",
      "Cluster 1: 0.3816692846274304\n",
      "Cluster 6: 0.42861129278253285\n",
      "Cluster 9: 0.44747640680663886\n",
      "Cluster 5: 0.5096761503616904\n",
      "Cluster 12: 0.5670417761316591\n",
      "Cluster 13: 1.1485117979548258\n",
      "Cluster 2: 1.2639310676053295\n",
      "Cluster 4: 1.5725192807267954\n",
      "Cluster 11: 1.801134277872217\n"
     ]
    }
   ],
   "source": [
    "compute_kls(lyrics, \"wks_on_chart\")"
   ]
  },
  {
   "cell_type": "code",
   "execution_count": 5,
   "metadata": {},
   "outputs": [
    {
     "name": "stderr",
     "output_type": "stream",
     "text": [
      "/Library/Frameworks/Python.framework/Versions/3.10/lib/python3.10/site-packages/umap/umap_.py:1943: UserWarning: n_jobs value -1 overridden to 1 by setting random_state. Use no seed for parallelism.\n",
      "  warn(f\"n_jobs value {self.n_jobs} overridden to 1 by setting random_state. Use no seed for parallelism.\")\n",
      "/Library/Frameworks/Python.framework/Versions/3.10/lib/python3.10/site-packages/umap/umap_.py:1943: UserWarning: n_jobs value -1 overridden to 1 by setting random_state. Use no seed for parallelism.\n",
      "  warn(f\"n_jobs value {self.n_jobs} overridden to 1 by setting random_state. Use no seed for parallelism.\")\n"
     ]
    }
   ],
   "source": [
    "audio_embeddings = get_tsne_embeddings(audio, \"latent_audio\")\n",
    "lyric_embeddings = get_tsne_embeddings(lyrics, \"latent_embedding\")"
   ]
  },
  {
   "cell_type": "code",
   "execution_count": 6,
   "metadata": {},
   "outputs": [
    {
     "data": {
      "application/vnd.plotly.v1+json": {
       "config": {
        "plotlyServerURL": "https://plot.ly"
       },
       "data": [
        {
         "marker": {
          "color": "rgb(68, 1, 84)",
          "opacity": 1
         },
         "mode": "markers",
         "name": "14",
         "text": [
          "...Ready For It?",
          "\"Slut!\" (Taylor's Version) [From The Vault]",
          "All Too Well (10 Minute Version) [Taylor's Version] [From The Vault]",
          "Bad Blood",
          "Bad Blood (Remix)",
          "Bad Blood (Remix) [Taylor's Version]",
          "Bad Blood (Taylor's Version)",
          "Bejeweled",
          "Blank Space",
          "Blank Space (Taylor's Version)",
          "Both Of Us",
          "Death By A Thousand Cuts",
          "Delicate",
          "Don't Blame Me",
          "End Game",
          "Foolish One (Taylor's Version) [From The Vault]",
          "I Knew You Were Trouble",
          "I Knew You Were Trouble (Taylor's Version)",
          "I Think He Knows",
          "It's Nice To Have A Friend",
          "King Of My Heart",
          "Last Christmas",
          "Lavender Haze",
          "London Boy",
          "mad woman",
          "no body, no crime",
          "Now That We Don't Talk (Taylor's Version) [From The Vault]",
          "Paper Rings",
          "Suburban Legends (Taylor's Version) [From The Vault]",
          "Teardrops On My Guitar",
          "this is me trying",
          "Tied Together With A Smile",
          "Welcome To New York",
          "Welcome To New York (Taylor's Version)",
          "You're On Your Own, Kid (Strings Remix)"
         ],
         "type": "scatter",
         "x": [
          -4.302668571472168,
          -0.04162836819887161,
          -3.3852455615997314,
          1.277923822402954,
          1.939014196395874,
          1.809809923171997,
          1.1401735544204712,
          -4.099142551422119,
          3.6384706497192383,
          3.8243978023529053,
          -4.231258392333984,
          2.7705488204956055,
          -4.599315166473389,
          2.1339058876037598,
          -15.070932388305664,
          -6.244778633117676,
          -9.392868995666504,
          -9.734719276428223,
          4.697877883911133,
          9.077595710754395,
          1.6458300352096558,
          2.6036360263824463,
          2.9070165157318115,
          -4.221092700958252,
          5.042035102844238,
          -4.6724748611450195,
          -7.5219807624816895,
          -8.178362846374512,
          -8.979759216308594,
          2.427021026611328,
          -6.097325325012207,
          0.3539460301399231,
          0.6279436945915222,
          0.792140781879425,
          2.9849565029144287
         ],
         "y": [
          -12.113478660583496,
          -12.066301345825195,
          -11.33659839630127,
          -12.758736610412598,
          -13.088165283203125,
          -13.192364692687988,
          -12.914353370666504,
          -11.15673542022705,
          -12.981075286865234,
          -12.926400184631348,
          -11.06701946258545,
          -13.175540924072266,
          -10.266304969787598,
          -12.685429573059082,
          -2.6964519023895264,
          -8.922955513000488,
          -8.393986701965332,
          -8.71622085571289,
          -12.898097038269043,
          -7.688356399536133,
          -13.156429290771484,
          -10.50098705291748,
          -12.978673934936523,
          -9.874083518981934,
          -10.467535972595215,
          -10.974899291992188,
          -8.328601837158203,
          -7.992097854614258,
          -8.564253807067871,
          -11.15062427520752,
          -8.42280387878418,
          -12.57522201538086,
          -12.321932792663574,
          -12.5375394821167,
          -10.977962493896484
         ]
        },
        {
         "marker": {
          "color": "rgb(72, 26, 108)",
          "opacity": 1
         },
         "mode": "markers",
         "name": "8",
         "text": [
          "'tis the damn season",
          "Better Man (Taylor's Version) [From The Vault]",
          "Better Than Revenge",
          "Better Than Revenge (Taylor's Version)",
          "betty",
          "Crazier",
          "Dear John",
          "Dear John (Taylor's Version)",
          "dorothea",
          "I Know Places",
          "I Know Places (Taylor's Version)",
          "Last Kiss",
          "Last Kiss (Taylor's Version)",
          "Mine",
          "Mine (Taylor's Version)",
          "Out Of The Woods",
          "Out Of The Woods (Taylor's Version)",
          "Speak Now",
          "Speak Now (Taylor's Version)",
          "Stay Beautiful",
          "Stay Stay Stay",
          "Stay Stay Stay (Taylor's Version)",
          "Style",
          "Style (Taylor's Version)",
          "The Outside",
          "The Story Of Us",
          "The Story Of Us (Taylor's Version)",
          "The Way I Loved You",
          "The Way I Loved You (Taylor's Version)",
          "Two Is Better Than One",
          "We Are Never Ever Getting Back Together",
          "We Are Never Ever Getting Back Together (Taylor's Version)",
          "Wildest Dreams",
          "Wildest Dreams (Taylor's Version)",
          "You Belong With Me",
          "You Belong With Me (Taylor's Version)"
         ],
         "type": "scatter",
         "x": [
          -12.610526084899902,
          -6.004474639892578,
          -8.735977172851562,
          -8.817336082458496,
          -13.167231559753418,
          -12.742942810058594,
          -9.65235424041748,
          -9.854852676391602,
          -7.109887599945068,
          -12.669220924377441,
          -12.54444694519043,
          -6.3207550048828125,
          -6.4696550369262695,
          -12.799111366271973,
          -12.50606918334961,
          -14.900487899780273,
          -15.0018892288208,
          -8.37203598022461,
          -8.145378112792969,
          -15.266701698303223,
          -12.701181411743164,
          -12.449817657470703,
          -4.949890613555908,
          -4.841072082519531,
          -7.777811527252197,
          -7.409033298492432,
          -7.5751729011535645,
          -15.092803955078125,
          -15.292923927307129,
          -16.37367820739746,
          -5.99040412902832,
          -6.019991874694824,
          -11.755436897277832,
          -11.571710586547852,
          -9.47176456451416,
          -10.005718231201172
         ],
         "y": [
          4.841666221618652,
          -8.709449768066406,
          -9.095694541931152,
          -8.844396591186523,
          5.612232685089111,
          5.072004318237305,
          -8.211212158203125,
          -8.328901290893555,
          -11.944513320922852,
          6.0006608963012695,
          5.96211576461792,
          -8.510946273803711,
          -8.54381275177002,
          6.484702110290527,
          6.653542518615723,
          8.666704177856445,
          8.78201961517334,
          -9.681320190429688,
          -9.762093544006348,
          8.992711067199707,
          5.555595397949219,
          5.834693431854248,
          -10.231180191040039,
          -10.320353507995605,
          -7.9152512550354,
          -10.843894004821777,
          -10.659018516540527,
          8.719634056091309,
          9.118934631347656,
          9.258162498474121,
          -11.220908164978027,
          -11.221531867980957,
          6.499735355377197,
          6.499449253082275,
          7.024324417114258,
          6.922573566436768
         ]
        },
        {
         "marker": {
          "color": "rgb(70, 49, 126)",
          "opacity": 1
         },
         "mode": "markers",
         "name": "6",
         "text": [
          "22",
          "22 (Taylor's Version)",
          "American Girl",
          "Enchanted",
          "Enchanted (Taylor's Version)",
          "I Wish You Would",
          "I Wish You Would (Taylor's Version)",
          "New Romantics",
          "New Romantics (Taylor's Version)",
          "Picture To Burn (Radio Edit)",
          "The Last Time",
          "The Last Time (Taylor's Version)",
          "White Christmas"
         ],
         "type": "scatter",
         "x": [
          6.613466739654541,
          6.512587070465088,
          6.3218865394592285,
          6.058454990386963,
          6.05820894241333,
          0.39976805448532104,
          0.24311403930187225,
          6.673325061798096,
          6.836838722229004,
          3.906132936477661,
          5.857545852661133,
          5.876165390014648,
          8.118657112121582
         ],
         "y": [
          6.500113487243652,
          6.570840835571289,
          5.968613624572754,
          6.118593692779541,
          6.6014404296875,
          7.6539788246154785,
          7.656046390533447,
          5.9022417068481445,
          6.385966777801514,
          6.89670467376709,
          6.291792392730713,
          6.563539028167725,
          5.430894374847412
         ]
        },
        {
         "marker": {
          "color": "rgb(63, 71, 136)",
          "opacity": 1
         },
         "mode": "markers",
         "name": "11",
         "text": [
          "A Perfectly Good Heart",
          "All Too Well",
          "All Too Well (Taylor's Version)",
          "Sweeter Than Fiction"
         ],
         "type": "scatter",
         "x": [
          7.667068004608154,
          7.397975444793701,
          7.171773433685303,
          7.124719619750977
         ],
         "y": [
          5.713272571563721,
          5.8642778396606445,
          5.749057292938232,
          6.170985698699951
         ]
        },
        {
         "marker": {
          "color": "rgb(54, 91, 140)",
          "opacity": 1
         },
         "mode": "markers",
         "name": "12",
         "text": [
          "A Place In This World",
          "Afterglow",
          "cowboy like me",
          "False God",
          "Hey Stephen",
          "Hey Stephen (Taylor's Version)",
          "How You Get The Girl",
          "How You Get The Girl (Taylor's Version)",
          "Lover",
          "Mean",
          "Mean (Taylor's Version)",
          "Sad Beautiful Tragic",
          "Sad Beautiful Tragic (Taylor's Version)",
          "Safe & Sound",
          "Say Don't Go (Taylor's Version) [From The Vault]",
          "Should've Said No",
          "Snow On The Beach",
          "State Of Grace (Acoustic Version)",
          "State Of Grace (Acoustic Version) [Taylor's Version]",
          "Teardrops On My Guitar (Acoustic Version)",
          "Teardrops On My Guitar (Pop Version)",
          "The Best Day",
          "The Best Day (Taylor's Version)",
          "the last great american dynasty",
          "This Is Why We Can't Have Nice Things",
          "We Were Happy (Taylor's Version) [From The Vault]"
         ],
         "type": "scatter",
         "x": [
          11.595926284790039,
          13.74617862701416,
          13.616503715515137,
          14.705263137817383,
          13.541826248168945,
          13.998780250549316,
          12.245865821838379,
          12.31252384185791,
          11.912083625793457,
          11.228923797607422,
          11.282135963439941,
          12.119002342224121,
          12.069171905517578,
          12.487984657287598,
          12.74804401397705,
          13.002885818481445,
          13.781656265258789,
          12.213912010192871,
          12.067500114440918,
          12.790797233581543,
          13.235036849975586,
          12.873441696166992,
          12.749773979187012,
          14.009185791015625,
          12.599720001220703,
          14.247557640075684
         ],
         "y": [
          3.6742074489593506,
          0.9929347634315491,
          0.3727155029773712,
          1.509125828742981,
          3.1255943775177,
          3.1108100414276123,
          3.385996103286743,
          3.2977428436279297,
          2.9222254753112793,
          3.4545483589172363,
          3.374460458755493,
          2.392087936401367,
          2.515801191329956,
          0.3735605776309967,
          1.3116401433944702,
          0.253136545419693,
          3.4313793182373047,
          0.2374177724123001,
          0.24040859937667847,
          2.030616044998169,
          1.5131101608276367,
          0.879007875919342,
          0.7253678441047668,
          2.244767665863037,
          3.31976318359375,
          1.4130290746688843
         ]
        },
        {
         "marker": {
          "color": "rgb(46, 109, 142)",
          "opacity": 1
         },
         "mode": "markers",
         "name": "7",
         "text": [
          "All Of The Girls You Loved Before",
          "august",
          "Bigger Than The Whole Sky",
          "Call It What You Want",
          "Cornelia Street",
          "Dancing With Our Hands Tied",
          "Dress",
          "Gorgeous",
          "High Infidelity",
          "I Don't Wanna Live Forever",
          "illicit affairs",
          "Invisible",
          "invisible string",
          "Is It Over Now? (Taylor's Version) [From The Vault]",
          "ivy",
          "long story short",
          "marjorie",
          "Midnight Rain",
          "Never Grow Up",
          "Never Grow Up (Taylor's Version)",
          "Nothing New (Taylor's Version) [From The Vault]",
          "Run (Taylor's Version) [From The Vault]",
          "Snow On The Beach (More Lana Del Rey)",
          "Soon You'll Get Better",
          "Sweet Nothing",
          "Sweet Nothing (Piano Remix)",
          "That's When (Taylor's Version) [From The Vault]",
          "the lakes",
          "Three Sad Virgins",
          "willow",
          "You All Over Me (Taylor's Version) [From The Vault]",
          "You Need To Calm Down",
          "You're Losing Me (From The Vault)",
          "You're On Your Own, Kid"
         ],
         "type": "scatter",
         "x": [
          7.86834192276001,
          5.9133453369140625,
          10.590900421142578,
          4.318016052246094,
          4.268478870391846,
          3.029611349105835,
          9.41246509552002,
          7.257323741912842,
          6.643115997314453,
          8.969684600830078,
          8.36762523651123,
          8.69117259979248,
          14.653671264648438,
          6.141604423522949,
          14.179596900939941,
          3.661522626876831,
          9.765114784240723,
          7.470362186431885,
          8.381172180175781,
          8.49588680267334,
          9.449865341186523,
          14.043935775756836,
          5.476409912109375,
          5.65770959854126,
          7.2774858474731445,
          7.818753719329834,
          3.9323229789733887,
          8.982311248779297,
          7.043705940246582,
          7.59265661239624,
          14.001964569091797,
          4.968189716339111,
          7.016395568847656,
          6.90951681137085
         ],
         "y": [
          -10.384876251220703,
          -9.732114791870117,
          -6.587580680847168,
          -11.519994735717773,
          -12.470162391662598,
          -9.778761863708496,
          -6.0814666748046875,
          -11.380921363830566,
          -11.973856925964355,
          -8.210205078125,
          -10.225323677062988,
          -9.082869529724121,
          -1.4314714670181274,
          -12.022855758666992,
          -1.5045560598373413,
          -9.629735946655273,
          -6.752072334289551,
          -11.881261825561523,
          -9.171106338500977,
          -9.30434799194336,
          -6.3738579750061035,
          0.3144788146018982,
          -10.475811004638672,
          -9.959388732910156,
          -11.68250846862793,
          -11.130331039428711,
          -11.763603210449219,
          -8.858305931091309,
          -12.247258186340332,
          -10.967326164245605,
          -0.5526706576347351,
          -12.796835899353027,
          -10.604162216186523,
          -11.186361312866211
         ]
        },
        {
         "marker": {
          "color": "rgb(39, 126, 142)",
          "opacity": 1
         },
         "mode": "markers",
         "name": "4",
         "text": [
          "All You Had To Do Was Stay",
          "All You Had To Do Was Stay (Taylor's Version)",
          "Change",
          "Change (Taylor's Version)",
          "Electric Touch (Taylor's Version) [From The Vault]",
          "Forever Winter (Taylor's Version) [From The Vault]",
          "Half Of My Heart",
          "If This Was A Movie (Taylor's Version)",
          "Love Story",
          "Love Story (Taylor's Version)",
          "State Of Grace",
          "State Of Grace (Taylor's Version)",
          "You're Not Sorry",
          "You're Not Sorry (Taylor's Version)"
         ],
         "type": "scatter",
         "x": [
          -16.28270149230957,
          -16.402145385742188,
          -9.371660232543945,
          -8.931778907775879,
          -17.00706672668457,
          -8.921332359313965,
          -12.19933795928955,
          -0.10198360681533813,
          -16.74883270263672,
          -16.812095642089844,
          -7.568681240081787,
          -7.599392890930176,
          -10.987752914428711,
          -10.708906173706055
         ],
         "y": [
          9.881499290466309,
          9.799378395080566,
          6.4085307121276855,
          6.347605228424072,
          10.860490798950195,
          6.752233028411865,
          6.811049938201904,
          7.707195281982422,
          9.87015438079834,
          9.916942596435547,
          6.919588088989258,
          6.914615154266357,
          6.51135778427124,
          6.487076759338379
         ]
        },
        {
         "marker": {
          "color": "rgb(32, 144, 140)",
          "opacity": 1
         },
         "mode": "markers",
         "name": "1",
         "text": [
          "Anti-Hero",
          "Babe",
          "Back To December",
          "Back To December (Taylor's Version)",
          "Begin Again",
          "Begin Again (Taylor's Version)",
          "Birch",
          "Castles Crumbling (Taylor's Version) [From The Vault]",
          "champagne problems",
          "Clean (Taylor's Version)",
          "Cold As You",
          "Eyes Open",
          "Eyes Open (Taylor's Version)",
          "Fearless",
          "Fearless (Taylor's Version)",
          "Forever & Always (Piano Version)",
          "Forever & Always (Piano Version) [Taylor's Version]",
          "Gasoline (Remix)",
          "Getaway Car",
          "gold rush",
          "I Did Something Bad",
          "Karma",
          "Karma (Remix)",
          "Look What You Made Me Do",
          "ME!",
          "Miss Americana & The Heartbreak Prince",
          "my tears ricochet",
          "Paris",
          "Picture To Burn",
          "Renegade",
          "right where you left me",
          "Starlight",
          "Starlight (Taylor's Version)",
          "The Man",
          "The Other Side Of The Door",
          "The Other Side Of The Door (Taylor's Version)",
          "Today Was A Fairytale"
         ],
         "type": "scatter",
         "x": [
          -11.241602897644043,
          -7.503016948699951,
          -11.014166831970215,
          -10.920453071594238,
          -7.7742390632629395,
          -7.7151923179626465,
          -11.132392883300781,
          -7.552489280700684,
          -8.10068130493164,
          -11.160452842712402,
          -10.228189468383789,
          -8.477861404418945,
          -8.845059394836426,
          -11.77635383605957,
          -11.834280967712402,
          -10.866437911987305,
          -10.651729583740234,
          -10.646814346313477,
          -11.145230293273926,
          -10.708844184875488,
          -11.532913208007812,
          -5.440511226654053,
          -11.362565040588379,
          -11.684818267822266,
          -11.776694297790527,
          -11.55880069732666,
          -10.455703735351562,
          -11.852859497070312,
          -9.925958633422852,
          -10.718015670776367,
          -11.074782371520996,
          -10.129446983337402,
          -10.195503234863281,
          -11.665026664733887,
          -6.4894208908081055,
          -6.563453197479248,
          -10.751680374145508
         ],
         "y": [
          1.235339641571045,
          4.691875457763672,
          -2.679400682449341,
          -2.5578300952911377,
          4.681288719177246,
          4.821799278259277,
          -2.643516778945923,
          -8.151701927185059,
          4.167734622955322,
          -0.7626510262489319,
          -3.7546064853668213,
          -7.720698833465576,
          -7.314779758453369,
          1.181915044784546,
          1.193001389503479,
          -3.22829008102417,
          -3.6206579208374023,
          2.231419563293457,
          0.190988689661026,
          -2.241997480392456,
          -0.2145054191350937,
          -9.24378490447998,
          -1.5106732845306396,
          0.10775132477283478,
          -0.7840674519538879,
          -0.7922714352607727,
          -3.9946823120117188,
          -0.10582228749990463,
          -3.4070146083831787,
          -3.5435054302215576,
          -1.8324625492095947,
          -3.1424946784973145,
          -3.149080991744995,
          0.6134008765220642,
          5.236530780792236,
          5.44047212600708,
          2.392763614654541
         ]
        },
        {
         "marker": {
          "color": "rgb(31, 161, 135)",
          "opacity": 1
         },
         "mode": "markers",
         "name": "9",
         "text": [
          "Babe (Taylor's Version) [From The Vault]",
          "Come Back...Be Here",
          "Come Back...Be Here (Taylor's Version)",
          "Daylight",
          "evermore",
          "Everything Has Changed",
          "Everything Has Changed (Taylor's Version)",
          "Forever & Always",
          "Forever & Always (Taylor's Version)",
          "Holy Ground",
          "Holy Ground (Taylor's Version)",
          "I Almost Do",
          "I Almost Do (Taylor's Version)",
          "I Bet You Think About Me (Taylor's Version) [From The Vault]",
          "I Heart ?",
          "Jump Then Fall",
          "Jump Then Fall (Taylor's Version)",
          "Labyrinth",
          "Message In A Bottle (Taylor's Version) [From The Vault]",
          "Only The Young",
          "September",
          "Shake It Off",
          "Shake It Off (Taylor's Version)",
          "Silent Night",
          "So It Goes...",
          "Superman",
          "Superman (Taylor's Version)",
          "Treacherous",
          "Treacherous (Taylor's Version)",
          "When Emma Falls In Love (Taylor's Version) [From The Vault]",
          "Wonderland",
          "Wonderland (Taylor's Version)"
         ],
         "type": "scatter",
         "x": [
          -7.443982124328613,
          -8.917174339294434,
          -8.772079467773438,
          -7.4378342628479,
          -7.3780999183654785,
          -6.148597717285156,
          -5.897183895111084,
          2.8160934448242188,
          2.882373094558716,
          -8.185340881347656,
          -8.219060897827148,
          2.3987128734588623,
          2.4507391452789307,
          4.453271865844727,
          15.90784740447998,
          2.456578254699707,
          2.412731647491455,
          -7.821210861206055,
          -7.053623676300049,
          0.7003644108772278,
          -6.461093425750732,
          -0.16033215820789337,
          0.10833816230297089,
          2.358247756958008,
          1.906880497932434,
          -6.205446720123291,
          -6.391236305236816,
          -0.34858256578445435,
          -0.5563202500343323,
          2.697401285171509,
          0.5162118077278137,
          0.569929838180542
         ],
         "y": [
          5.591187477111816,
          7.180100917816162,
          7.149245262145996,
          6.41929817199707,
          5.150791168212891,
          5.771451950073242,
          5.445944786071777,
          7.090344429016113,
          7.06892728805542,
          5.920465469360352,
          5.9432573318481445,
          7.106806755065918,
          6.9670515060424805,
          6.766573429107666,
          12.163666725158691,
          7.503345012664795,
          7.576676368713379,
          4.859196662902832,
          5.828104496002197,
          7.331698417663574,
          5.079641342163086,
          7.150392532348633,
          7.207461357116699,
          7.676513195037842,
          7.104941368103027,
          5.632450103759766,
          5.777412414550781,
          7.3071818351745605,
          7.2935099601745605,
          7.29953145980835,
          7.11094331741333,
          7.1894659996032715
         ]
        },
        {
         "marker": {
          "color": "rgb(44, 177, 125)",
          "opacity": 1
         },
         "mode": "markers",
         "name": "0",
         "text": [
          "Beautiful Eyes",
          "Breathe",
          "Breathe (Taylor's Version)",
          "Bye Bye Baby (Taylor's Version) [From The Vault]",
          "cardigan",
          "Christmas Must Be Something More",
          "Clean",
          "Come In With The Rain",
          "Come In With The Rain (Taylor's Version)",
          "Don't You (Taylor's Version) [From The Vault]",
          "exile",
          "Glitch",
          "happiness",
          "Haunted",
          "Haunted (Taylor's Version)",
          "I'm Only Me When I'm With You",
          "I'm Only Me When I'm With You",
          "I'm Only Me When I'm With You",
          "I'm Only Me When I'm With You",
          "I'm Only Me When I'm With You",
          "I'm Only Me When I'm With You",
          "I'm Only Me When I'm With You",
          "I'm Only Me When I'm With You",
          "I'm Only Me When I'm With You",
          "I'm Only Me When I'm With You",
          "I'm Only Me When I'm With You",
          "I'm Only Me When I'm With You",
          "I'm Only Me When I'm With You",
          "I'm Only Me When I'm With You",
          "I'm Only Me When I'm With You",
          "I'm Only Me When I'm With You",
          "Innocent",
          "Innocent (Taylor's Version)",
          "Long Live",
          "Long Live (Taylor's Version)",
          "Mary's Song (Oh My My My)",
          "Ours",
          "Ours (Taylor's Version)",
          "seven",
          "Sparks Fly",
          "Sparks Fly (Taylor's Version)",
          "SuperStar",
          "SuperStar (Taylor's Version)",
          "The Archer",
          "The Joker And The Queen",
          "The Moment I Knew",
          "The Moment I Knew (Taylor's Version)",
          "The Very First Night (Taylor's Version) [From The Vault]",
          "This Love",
          "This Love (Taylor's Version)",
          "Tim McGraw",
          "Timeless (Taylor's Version) [From The Vault]",
          "White Horse",
          "White Horse (Taylor's Version)"
         ],
         "type": "scatter",
         "x": [
          10.926817893981934,
          10.971189498901367,
          10.928057670593262,
          -9.615069389343262,
          11.228711128234863,
          -9.22566032409668,
          3.9569385051727295,
          10.706491470336914,
          10.511815071105957,
          -4.918203830718994,
          10.27972412109375,
          5.393158912658691,
          10.673027038574219,
          10.865888595581055,
          10.88657283782959,
          16.99422264099121,
          16.128849029541016,
          16.574201583862305,
          16.17028045654297,
          16.491657257080078,
          17.00711441040039,
          16.786964416503906,
          16.747995376586914,
          16.989051818847656,
          16.74276351928711,
          16.01648712158203,
          16.469867706298828,
          15.978150367736816,
          16.1229248046875,
          16.275846481323242,
          17.004152297973633,
          10.765957832336426,
          10.922085762023926,
          -6.747191429138184,
          -6.639493942260742,
          -6.202460765838623,
          4.7367987632751465,
          4.568789005279541,
          9.71772289276123,
          -7.07323694229126,
          -6.925095081329346,
          -4.893270015716553,
          -4.991037845611572,
          10.244909286499023,
          12.807339668273926,
          11.093154907226562,
          11.282758712768555,
          -6.200323104858398,
          6.195070743560791,
          6.177335739135742,
          3.8160486221313477,
          4.255970478057861,
          3.7525784969329834,
          3.7577247619628906
         ],
         "y": [
          -3.856353759765625,
          -4.039509296417236,
          -3.939872980117798,
          -8.171213150024414,
          -2.7977054119110107,
          -8.77519702911377,
          -10.222314834594727,
          -5.806864261627197,
          -5.86602783203125,
          -11.541864395141602,
          -5.9357147216796875,
          -11.912955284118652,
          -4.627219200134277,
          -4.276151180267334,
          -4.219806671142578,
          12.378580093383789,
          11.774837493896484,
          11.63458251953125,
          11.740976333618164,
          11.632906913757324,
          12.289532661437988,
          11.699501037597656,
          12.624382972717285,
          11.91301441192627,
          12.59567928314209,
          12.413985252380371,
          12.702184677124023,
          12.025341033935547,
          12.515815734863281,
          12.653759002685547,
          11.958883285522461,
          -6.249560356140137,
          -6.129698753356934,
          -11.677536964416504,
          -11.607629776000977,
          -12.22490119934082,
          -11.781871795654297,
          -12.217273712158203,
          -6.831349849700928,
          -12.073468208312988,
          -11.954169273376465,
          -10.96878433227539,
          -11.103327751159668,
          -6.195215702056885,
          -0.7480725646018982,
          -5.944714069366455,
          -5.81599235534668,
          -11.932296752929688,
          -9.37345027923584,
          -9.421887397766113,
          -10.86325740814209,
          -10.000507354736328,
          -10.243950843811035,
          -10.365544319152832
         ]
        },
        {
         "marker": {
          "color": "rgb(73, 193, 109)",
          "opacity": 1
         },
         "mode": "markers",
         "name": "5",
         "text": [
          "Beautiful Ghosts",
          "Carolina",
          "Christmases When You Were Mine",
          "closure",
          "coney island",
          "Dear Reader",
          "hoax",
          "I Forgot That You Existed",
          "it's time to go",
          "Maroon",
          "Mastermind",
          "New Year's Day",
          "peace",
          "Question...?",
          "Ronan",
          "Ronan (Taylor's Version)",
          "Santa Baby",
          "the 1",
          "tolerate it",
          "Vigilante Shit",
          "You Are In Love",
          "You Are In Love (Taylor's Version)"
         ],
         "type": "scatter",
         "x": [
          16.16586685180664,
          14.730538368225098,
          16.995800018310547,
          16.886842727661133,
          17.377519607543945,
          17.2747745513916,
          17.70842933654785,
          17.87192153930664,
          16.758129119873047,
          17.23101234436035,
          17.575773239135742,
          16.90508460998535,
          15.704374313354492,
          17.520153045654297,
          16.767404556274414,
          16.833736419677734,
          15.87950325012207,
          17.61158561706543,
          14.727782249450684,
          17.38896942138672,
          16.57627296447754,
          16.594270706176758
         ],
         "y": [
          2.409308671951294,
          0.6231676936149597,
          2.045790433883667,
          2.470198154449463,
          2.767719268798828,
          2.264382839202881,
          2.1215169429779053,
          2.273451089859009,
          3.3946008682250977,
          3.19930362701416,
          1.9201183319091797,
          1.571847677230835,
          0.2143660932779312,
          1.2533937692642212,
          1.1553982496261597,
          1.7688616514205933,
          1.3715330362319946,
          2.9661672115325928,
          2.2175071239471436,
          3.2468199729919434,
          3.0784244537353516,
          2.9840734004974365
         ]
        },
        {
         "marker": {
          "color": "rgb(114, 207, 85)",
          "opacity": 1
         },
         "mode": "markers",
         "name": "10",
         "text": [
          "Christmas Tree Farm",
          "Fifteen",
          "Fifteen (Taylor's Version)",
          "Girl At Home",
          "Girl At Home (Taylor's Version)",
          "Hits Different",
          "mirrorball",
          "Mr. Perfectly Fine (Taylor's Version) [From The Vault]",
          "The Great War",
          "The Lucky One",
          "The Lucky One (Taylor's Version)",
          "Today Was A Fairytale (Taylor's Version)",
          "Would've, Could've, Should've"
         ],
         "type": "scatter",
         "x": [
          -11.499871253967285,
          -17.077302932739258,
          -16.991912841796875,
          -17.65703773498535,
          -17.509138107299805,
          -17.768686294555664,
          -17.769006729125977,
          -11.643987655639648,
          -16.767004013061523,
          -18.035181045532227,
          -18.04326629638672,
          -10.379685401916504,
          -17.465784072875977
         ],
         "y": [
          1.9395084381103516,
          9.169888496398926,
          9.44540023803711,
          9.143692970275879,
          9.01976490020752,
          9.567164421081543,
          10.160943984985352,
          1.0801265239715576,
          8.696919441223145,
          9.579997062683105,
          9.659967422485352,
          3.0565438270568848,
          9.607379913330078
         ]
        },
        {
         "marker": {
          "color": "rgb(159, 217, 56)",
          "opacity": 1
         },
         "mode": "markers",
         "name": "3",
         "text": [
          "Cruel Summer",
          "epiphany",
          "Highway Don't Care",
          "I Can See You (Taylor's Version) [From The Vault]",
          "If This Was A Movie",
          "Red",
          "Red (Taylor's Version)"
         ],
         "type": "scatter",
         "x": [
          -18.140233993530273,
          -18.090274810791016,
          -17.667163848876953,
          -17.889577865600586,
          -17.505020141601562,
          -17.544212341308594,
          -17.357271194458008
         ],
         "y": [
          10.937575340270996,
          11.876551628112793,
          11.058815002441406,
          11.946807861328125,
          11.657464027404785,
          11.357625961303711,
          11.515031814575195
         ]
        },
        {
         "marker": {
          "color": "rgb(207, 225, 28)",
          "opacity": 1
         },
         "mode": "markers",
         "name": "2",
         "text": [
          "Lover (Remix)",
          "Our Song",
          "Red (Original Demo Recording)",
          "Safe & Sound (Taylor's Version)",
          "Should've Said No (Alternate Version)",
          "Sweeter Than Fiction (Taylor's Version)",
          "The Alcott",
          "Treacherous (Original Demo Recording)"
         ],
         "type": "scatter",
         "x": [
          -15.474105834960938,
          -15.159975051879883,
          -15.16981029510498,
          -15.376267433166504,
          -15.367340087890625,
          -15.165741920471191,
          -15.312895774841309,
          -15.49775505065918
         ],
         "y": [
          -2.846494674682617,
          -2.899533271789551,
          -2.923759937286377,
          -2.945692300796509,
          -2.5657379627227783,
          -2.5929625034332275,
          -2.5397205352783203,
          -2.7557425498962402
         ]
        },
        {
         "marker": {
          "color": "rgb(253, 231, 36)",
          "opacity": 1
         },
         "mode": "markers",
         "name": "13",
         "text": [
          "Tell Me Why",
          "Tell Me Why (Taylor's Version)",
          "Untouchable",
          "Untouchable (Taylor's Version)"
         ],
         "type": "scatter",
         "x": [
          -18.4948673248291,
          -18.12484359741211,
          -18.549043655395508,
          -18.57923126220703
         ],
         "y": [
          11.096516609191895,
          11.317991256713867,
          11.14555835723877,
          11.59848690032959
         ]
        }
       ],
       "layout": {
        "hovermode": "closest",
        "legend": {
         "title": {
          "text": "Legend"
         }
        },
        "template": {
         "data": {
          "bar": [
           {
            "error_x": {
             "color": "#2a3f5f"
            },
            "error_y": {
             "color": "#2a3f5f"
            },
            "marker": {
             "line": {
              "color": "#E5ECF6",
              "width": 0.5
             },
             "pattern": {
              "fillmode": "overlay",
              "size": 10,
              "solidity": 0.2
             }
            },
            "type": "bar"
           }
          ],
          "barpolar": [
           {
            "marker": {
             "line": {
              "color": "#E5ECF6",
              "width": 0.5
             },
             "pattern": {
              "fillmode": "overlay",
              "size": 10,
              "solidity": 0.2
             }
            },
            "type": "barpolar"
           }
          ],
          "carpet": [
           {
            "aaxis": {
             "endlinecolor": "#2a3f5f",
             "gridcolor": "white",
             "linecolor": "white",
             "minorgridcolor": "white",
             "startlinecolor": "#2a3f5f"
            },
            "baxis": {
             "endlinecolor": "#2a3f5f",
             "gridcolor": "white",
             "linecolor": "white",
             "minorgridcolor": "white",
             "startlinecolor": "#2a3f5f"
            },
            "type": "carpet"
           }
          ],
          "choropleth": [
           {
            "colorbar": {
             "outlinewidth": 0,
             "ticks": ""
            },
            "type": "choropleth"
           }
          ],
          "contour": [
           {
            "colorbar": {
             "outlinewidth": 0,
             "ticks": ""
            },
            "colorscale": [
             [
              0,
              "#0d0887"
             ],
             [
              0.1111111111111111,
              "#46039f"
             ],
             [
              0.2222222222222222,
              "#7201a8"
             ],
             [
              0.3333333333333333,
              "#9c179e"
             ],
             [
              0.4444444444444444,
              "#bd3786"
             ],
             [
              0.5555555555555556,
              "#d8576b"
             ],
             [
              0.6666666666666666,
              "#ed7953"
             ],
             [
              0.7777777777777778,
              "#fb9f3a"
             ],
             [
              0.8888888888888888,
              "#fdca26"
             ],
             [
              1,
              "#f0f921"
             ]
            ],
            "type": "contour"
           }
          ],
          "contourcarpet": [
           {
            "colorbar": {
             "outlinewidth": 0,
             "ticks": ""
            },
            "type": "contourcarpet"
           }
          ],
          "heatmap": [
           {
            "colorbar": {
             "outlinewidth": 0,
             "ticks": ""
            },
            "colorscale": [
             [
              0,
              "#0d0887"
             ],
             [
              0.1111111111111111,
              "#46039f"
             ],
             [
              0.2222222222222222,
              "#7201a8"
             ],
             [
              0.3333333333333333,
              "#9c179e"
             ],
             [
              0.4444444444444444,
              "#bd3786"
             ],
             [
              0.5555555555555556,
              "#d8576b"
             ],
             [
              0.6666666666666666,
              "#ed7953"
             ],
             [
              0.7777777777777778,
              "#fb9f3a"
             ],
             [
              0.8888888888888888,
              "#fdca26"
             ],
             [
              1,
              "#f0f921"
             ]
            ],
            "type": "heatmap"
           }
          ],
          "heatmapgl": [
           {
            "colorbar": {
             "outlinewidth": 0,
             "ticks": ""
            },
            "colorscale": [
             [
              0,
              "#0d0887"
             ],
             [
              0.1111111111111111,
              "#46039f"
             ],
             [
              0.2222222222222222,
              "#7201a8"
             ],
             [
              0.3333333333333333,
              "#9c179e"
             ],
             [
              0.4444444444444444,
              "#bd3786"
             ],
             [
              0.5555555555555556,
              "#d8576b"
             ],
             [
              0.6666666666666666,
              "#ed7953"
             ],
             [
              0.7777777777777778,
              "#fb9f3a"
             ],
             [
              0.8888888888888888,
              "#fdca26"
             ],
             [
              1,
              "#f0f921"
             ]
            ],
            "type": "heatmapgl"
           }
          ],
          "histogram": [
           {
            "marker": {
             "pattern": {
              "fillmode": "overlay",
              "size": 10,
              "solidity": 0.2
             }
            },
            "type": "histogram"
           }
          ],
          "histogram2d": [
           {
            "colorbar": {
             "outlinewidth": 0,
             "ticks": ""
            },
            "colorscale": [
             [
              0,
              "#0d0887"
             ],
             [
              0.1111111111111111,
              "#46039f"
             ],
             [
              0.2222222222222222,
              "#7201a8"
             ],
             [
              0.3333333333333333,
              "#9c179e"
             ],
             [
              0.4444444444444444,
              "#bd3786"
             ],
             [
              0.5555555555555556,
              "#d8576b"
             ],
             [
              0.6666666666666666,
              "#ed7953"
             ],
             [
              0.7777777777777778,
              "#fb9f3a"
             ],
             [
              0.8888888888888888,
              "#fdca26"
             ],
             [
              1,
              "#f0f921"
             ]
            ],
            "type": "histogram2d"
           }
          ],
          "histogram2dcontour": [
           {
            "colorbar": {
             "outlinewidth": 0,
             "ticks": ""
            },
            "colorscale": [
             [
              0,
              "#0d0887"
             ],
             [
              0.1111111111111111,
              "#46039f"
             ],
             [
              0.2222222222222222,
              "#7201a8"
             ],
             [
              0.3333333333333333,
              "#9c179e"
             ],
             [
              0.4444444444444444,
              "#bd3786"
             ],
             [
              0.5555555555555556,
              "#d8576b"
             ],
             [
              0.6666666666666666,
              "#ed7953"
             ],
             [
              0.7777777777777778,
              "#fb9f3a"
             ],
             [
              0.8888888888888888,
              "#fdca26"
             ],
             [
              1,
              "#f0f921"
             ]
            ],
            "type": "histogram2dcontour"
           }
          ],
          "mesh3d": [
           {
            "colorbar": {
             "outlinewidth": 0,
             "ticks": ""
            },
            "type": "mesh3d"
           }
          ],
          "parcoords": [
           {
            "line": {
             "colorbar": {
              "outlinewidth": 0,
              "ticks": ""
             }
            },
            "type": "parcoords"
           }
          ],
          "pie": [
           {
            "automargin": true,
            "type": "pie"
           }
          ],
          "scatter": [
           {
            "fillpattern": {
             "fillmode": "overlay",
             "size": 10,
             "solidity": 0.2
            },
            "type": "scatter"
           }
          ],
          "scatter3d": [
           {
            "line": {
             "colorbar": {
              "outlinewidth": 0,
              "ticks": ""
             }
            },
            "marker": {
             "colorbar": {
              "outlinewidth": 0,
              "ticks": ""
             }
            },
            "type": "scatter3d"
           }
          ],
          "scattercarpet": [
           {
            "marker": {
             "colorbar": {
              "outlinewidth": 0,
              "ticks": ""
             }
            },
            "type": "scattercarpet"
           }
          ],
          "scattergeo": [
           {
            "marker": {
             "colorbar": {
              "outlinewidth": 0,
              "ticks": ""
             }
            },
            "type": "scattergeo"
           }
          ],
          "scattergl": [
           {
            "marker": {
             "colorbar": {
              "outlinewidth": 0,
              "ticks": ""
             }
            },
            "type": "scattergl"
           }
          ],
          "scattermapbox": [
           {
            "marker": {
             "colorbar": {
              "outlinewidth": 0,
              "ticks": ""
             }
            },
            "type": "scattermapbox"
           }
          ],
          "scatterpolar": [
           {
            "marker": {
             "colorbar": {
              "outlinewidth": 0,
              "ticks": ""
             }
            },
            "type": "scatterpolar"
           }
          ],
          "scatterpolargl": [
           {
            "marker": {
             "colorbar": {
              "outlinewidth": 0,
              "ticks": ""
             }
            },
            "type": "scatterpolargl"
           }
          ],
          "scatterternary": [
           {
            "marker": {
             "colorbar": {
              "outlinewidth": 0,
              "ticks": ""
             }
            },
            "type": "scatterternary"
           }
          ],
          "surface": [
           {
            "colorbar": {
             "outlinewidth": 0,
             "ticks": ""
            },
            "colorscale": [
             [
              0,
              "#0d0887"
             ],
             [
              0.1111111111111111,
              "#46039f"
             ],
             [
              0.2222222222222222,
              "#7201a8"
             ],
             [
              0.3333333333333333,
              "#9c179e"
             ],
             [
              0.4444444444444444,
              "#bd3786"
             ],
             [
              0.5555555555555556,
              "#d8576b"
             ],
             [
              0.6666666666666666,
              "#ed7953"
             ],
             [
              0.7777777777777778,
              "#fb9f3a"
             ],
             [
              0.8888888888888888,
              "#fdca26"
             ],
             [
              1,
              "#f0f921"
             ]
            ],
            "type": "surface"
           }
          ],
          "table": [
           {
            "cells": {
             "fill": {
              "color": "#EBF0F8"
             },
             "line": {
              "color": "white"
             }
            },
            "header": {
             "fill": {
              "color": "#C8D4E3"
             },
             "line": {
              "color": "white"
             }
            },
            "type": "table"
           }
          ]
         },
         "layout": {
          "annotationdefaults": {
           "arrowcolor": "#2a3f5f",
           "arrowhead": 0,
           "arrowwidth": 1
          },
          "autotypenumbers": "strict",
          "coloraxis": {
           "colorbar": {
            "outlinewidth": 0,
            "ticks": ""
           }
          },
          "colorscale": {
           "diverging": [
            [
             0,
             "#8e0152"
            ],
            [
             0.1,
             "#c51b7d"
            ],
            [
             0.2,
             "#de77ae"
            ],
            [
             0.3,
             "#f1b6da"
            ],
            [
             0.4,
             "#fde0ef"
            ],
            [
             0.5,
             "#f7f7f7"
            ],
            [
             0.6,
             "#e6f5d0"
            ],
            [
             0.7,
             "#b8e186"
            ],
            [
             0.8,
             "#7fbc41"
            ],
            [
             0.9,
             "#4d9221"
            ],
            [
             1,
             "#276419"
            ]
           ],
           "sequential": [
            [
             0,
             "#0d0887"
            ],
            [
             0.1111111111111111,
             "#46039f"
            ],
            [
             0.2222222222222222,
             "#7201a8"
            ],
            [
             0.3333333333333333,
             "#9c179e"
            ],
            [
             0.4444444444444444,
             "#bd3786"
            ],
            [
             0.5555555555555556,
             "#d8576b"
            ],
            [
             0.6666666666666666,
             "#ed7953"
            ],
            [
             0.7777777777777778,
             "#fb9f3a"
            ],
            [
             0.8888888888888888,
             "#fdca26"
            ],
            [
             1,
             "#f0f921"
            ]
           ],
           "sequentialminus": [
            [
             0,
             "#0d0887"
            ],
            [
             0.1111111111111111,
             "#46039f"
            ],
            [
             0.2222222222222222,
             "#7201a8"
            ],
            [
             0.3333333333333333,
             "#9c179e"
            ],
            [
             0.4444444444444444,
             "#bd3786"
            ],
            [
             0.5555555555555556,
             "#d8576b"
            ],
            [
             0.6666666666666666,
             "#ed7953"
            ],
            [
             0.7777777777777778,
             "#fb9f3a"
            ],
            [
             0.8888888888888888,
             "#fdca26"
            ],
            [
             1,
             "#f0f921"
            ]
           ]
          },
          "colorway": [
           "#636efa",
           "#EF553B",
           "#00cc96",
           "#ab63fa",
           "#FFA15A",
           "#19d3f3",
           "#FF6692",
           "#B6E880",
           "#FF97FF",
           "#FECB52"
          ],
          "font": {
           "color": "#2a3f5f"
          },
          "geo": {
           "bgcolor": "white",
           "lakecolor": "white",
           "landcolor": "#E5ECF6",
           "showlakes": true,
           "showland": true,
           "subunitcolor": "white"
          },
          "hoverlabel": {
           "align": "left"
          },
          "hovermode": "closest",
          "mapbox": {
           "style": "light"
          },
          "paper_bgcolor": "white",
          "plot_bgcolor": "#E5ECF6",
          "polar": {
           "angularaxis": {
            "gridcolor": "white",
            "linecolor": "white",
            "ticks": ""
           },
           "bgcolor": "#E5ECF6",
           "radialaxis": {
            "gridcolor": "white",
            "linecolor": "white",
            "ticks": ""
           }
          },
          "scene": {
           "xaxis": {
            "backgroundcolor": "#E5ECF6",
            "gridcolor": "white",
            "gridwidth": 2,
            "linecolor": "white",
            "showbackground": true,
            "ticks": "",
            "zerolinecolor": "white"
           },
           "yaxis": {
            "backgroundcolor": "#E5ECF6",
            "gridcolor": "white",
            "gridwidth": 2,
            "linecolor": "white",
            "showbackground": true,
            "ticks": "",
            "zerolinecolor": "white"
           },
           "zaxis": {
            "backgroundcolor": "#E5ECF6",
            "gridcolor": "white",
            "gridwidth": 2,
            "linecolor": "white",
            "showbackground": true,
            "ticks": "",
            "zerolinecolor": "white"
           }
          },
          "shapedefaults": {
           "line": {
            "color": "#2a3f5f"
           }
          },
          "ternary": {
           "aaxis": {
            "gridcolor": "white",
            "linecolor": "white",
            "ticks": ""
           },
           "baxis": {
            "gridcolor": "white",
            "linecolor": "white",
            "ticks": ""
           },
           "bgcolor": "#E5ECF6",
           "caxis": {
            "gridcolor": "white",
            "linecolor": "white",
            "ticks": ""
           }
          },
          "title": {
           "x": 0.05
          },
          "xaxis": {
           "automargin": true,
           "gridcolor": "white",
           "linecolor": "white",
           "ticks": "",
           "title": {
            "standoff": 15
           },
           "zerolinecolor": "white",
           "zerolinewidth": 2
          },
          "yaxis": {
           "automargin": true,
           "gridcolor": "white",
           "linecolor": "white",
           "ticks": "",
           "title": {
            "standoff": 15
           },
           "zerolinecolor": "white",
           "zerolinewidth": 2
          }
         }
        },
        "title": {
         "text": "tSNE Plot of Song Embeddings"
        },
        "xaxis": {
         "title": {
          "text": "TSNE 1"
         }
        },
        "yaxis": {
         "title": {
          "text": "TSNE 2"
         }
        }
       }
      }
     },
     "metadata": {},
     "output_type": "display_data"
    }
   ],
   "source": [
    "plot_embeddings_interactive(audio, audio_embeddings, \"cluster_assignment\")"
   ]
  },
  {
   "cell_type": "code",
   "execution_count": 91,
   "metadata": {},
   "outputs": [
    {
     "data": {
      "image/png": "[encoded data removed]",
      "text/plain": [
       "<Figure size 800x800 with 1 Axes>"
      ]
     },
     "metadata": {},
     "output_type": "display_data"
    }
   ],
   "source": [
    "import matplotlib.pyplot as plt\n",
    "from matplotlib.patches import Wedge\n",
    "from collections import Counter\n",
    "\n",
    "def plot_circle_of_fifths(audio, cluster):\n",
    "    # Filter dataframe by cluster\n",
    "    cluster_data = audio[audio['cluster_assignment'] == cluster]\n",
    "    # Drop any rows with NaN values in 'key_mode'\n",
    "    cluster_data = cluster_data.dropna(subset=['key_mode'])\n",
    "\n",
    "    # Split 'key_mode' into note and mode\n",
    "    cluster_data['note'], cluster_data['mode'] = zip(*cluster_data['key_mode'].apply(lambda x: x.split(' ')))\n",
    "\n",
    "    # Count frequencies of each key in this cluster\n",
    "    key_counts = Counter(cluster_data['key_mode'])\n",
    "\n",
    "    # Define the circle of fifths\n",
    "    major_keys = ['C major', 'G major', 'D major', 'A major', 'E major', 'B major', 'F# major', 'C# major', 'G# major', 'D# major', 'A# major', 'F major']\n",
    "    minor_keys = ['A minor', 'E minor', 'B minor', 'F# minor', 'C# minor', 'G# minor', 'D# minor', 'Bb minor', 'F minor', 'C minor', 'G minor', 'D minor']\n",
    "\n",
    "    # Create the plot\n",
    "    fig, ax = plt.subplots(figsize=(8, 8))\n",
    "    ax.set_xlim(-1.5, 1.5)\n",
    "    ax.set_ylim(-1.5, 1.5)\n",
    "    ax.set_aspect('equal', adjustable='datalim')\n",
    "    plt.axis('off')\n",
    "\n",
    "    # Function to draw wedge and text\n",
    "    def draw_wedge(angle, radius, label, color, alpha):\n",
    "        wedge = Wedge((0, 0), radius, angle - 15, angle + 15, color=color, alpha=alpha, ec=\"black\", linewidth=1.5)\n",
    "        ax.add_patch(wedge)\n",
    "        x, y = np.cos(np.deg2rad(angle)), np.sin(np.deg2rad(angle))\n",
    "        ax.annotate(label, (radius * x, radius * y), textcoords=\"offset points\", xytext=(0, 5 if radius > 1 else -20), ha='center', color='black')\n",
    "\n",
    "    # Plot major keys\n",
    "    for i, key in enumerate(major_keys):\n",
    "        angle = i * 30\n",
    "        alpha = key_counts.get(key, 0) / cluster_data['key_mode'].count() if cluster_data['key_mode'].count() > 0 else 0\n",
    "        draw_wedge(angle, 1.2, key.split()[0], 'blue', alpha)\n",
    "\n",
    "    # Plot minor keys\n",
    "    for i, key in enumerate(minor_keys):\n",
    "        angle = i * 30\n",
    "        alpha = key_counts.get(key, 0) / cluster_data['key_mode'].count() if cluster_data['key_mode'].count() > 0 else 0\n",
    "        draw_wedge(angle, 0.9, key.split()[0], 'red', alpha)\n",
    "\n",
    "    plt.show()\n",
    "\n",
    "plot_circle_of_fifths(audio, 5)"
   ]
  },
  {
   "cell_type": "code",
   "execution_count": 116,
   "metadata": {},
   "outputs": [
    {
     "data": {
      "text/html": [
       "<div>\n",
       "<style scoped>\n",
       "    .dataframe tbody tr th:only-of-type {\n",
       "        vertical-align: middle;\n",
       "    }\n",
       "\n",
       "    .dataframe tbody tr th {\n",
       "        vertical-align: top;\n",
       "    }\n",
       "\n",
       "    .dataframe thead th {\n",
       "        text-align: right;\n",
       "    }\n",
       "</style>\n",
       "<table border=\"1\" class=\"dataframe\">\n",
       "  <thead>\n",
       "    <tr style=\"text-align: right;\">\n",
       "      <th></th>\n",
       "      <th>track_name</th>\n",
       "      <th>peak_pos</th>\n",
       "      <th>album_name</th>\n",
       "      <th>key_x</th>\n",
       "      <th>tempo</th>\n",
       "      <th>video_url</th>\n",
       "      <th>latent_audio</th>\n",
       "      <th>peak_pos_bucketed</th>\n",
       "      <th>cluster_assignment</th>\n",
       "      <th>wks_on_chart</th>\n",
       "      <th>sqrt_wks</th>\n",
       "      <th>wks_bucketed</th>\n",
       "      <th>key_y</th>\n",
       "      <th>key_mode</th>\n",
       "    </tr>\n",
       "  </thead>\n",
       "  <tbody>\n",
       "    <tr>\n",
       "      <th>268</th>\n",
       "      <td>Tell Me Why</td>\n",
       "      <td>NaN</td>\n",
       "      <td>Fearless</td>\n",
       "      <td>7.0</td>\n",
       "      <td>100.015</td>\n",
       "      <td>https://www.youtube.com/watch?v=cwFbq-70EwE</td>\n",
       "      <td>[tensor(-0.1233), tensor(0.0570), tensor(0.037...</td>\n",
       "      <td>&gt;100</td>\n",
       "      <td>13</td>\n",
       "      <td>0</td>\n",
       "      <td>0.000000</td>\n",
       "      <td>0</td>\n",
       "      <td>7.0</td>\n",
       "      <td>G major</td>\n",
       "    </tr>\n",
       "    <tr>\n",
       "      <th>269</th>\n",
       "      <td>Tell Me Why (Taylor's Version)</td>\n",
       "      <td>NaN</td>\n",
       "      <td>Fearless (Taylor's Version)</td>\n",
       "      <td>7.0</td>\n",
       "      <td>100.023</td>\n",
       "      <td>https://www.youtube.com/watch?v=cwFbq-70EwE</td>\n",
       "      <td>[tensor(-0.1233), tensor(0.0570), tensor(0.037...</td>\n",
       "      <td>&gt;100</td>\n",
       "      <td>13</td>\n",
       "      <td>0</td>\n",
       "      <td>0.000000</td>\n",
       "      <td>0</td>\n",
       "      <td>7.0</td>\n",
       "      <td>G major</td>\n",
       "    </tr>\n",
       "    <tr>\n",
       "      <th>310</th>\n",
       "      <td>Untouchable</td>\n",
       "      <td>19.0</td>\n",
       "      <td>Fearless</td>\n",
       "      <td>5.0</td>\n",
       "      <td>200.017</td>\n",
       "      <td>https://www.youtube.com/watch?v=8bNlGwnEUAs</td>\n",
       "      <td>[tensor(-0.1790), tensor(0.0578), tensor(0.071...</td>\n",
       "      <td>10-19</td>\n",
       "      <td>13</td>\n",
       "      <td>2</td>\n",
       "      <td>1.414214</td>\n",
       "      <td>1</td>\n",
       "      <td>5.0</td>\n",
       "      <td>F major</td>\n",
       "    </tr>\n",
       "    <tr>\n",
       "      <th>311</th>\n",
       "      <td>Untouchable (Taylor's Version)</td>\n",
       "      <td>NaN</td>\n",
       "      <td>Fearless (Taylor's Version)</td>\n",
       "      <td>5.0</td>\n",
       "      <td>200.391</td>\n",
       "      <td>https://www.youtube.com/watch?v=8bNlGwnEUAs</td>\n",
       "      <td>[tensor(-0.1790), tensor(0.0578), tensor(0.071...</td>\n",
       "      <td>&gt;100</td>\n",
       "      <td>13</td>\n",
       "      <td>0</td>\n",
       "      <td>0.000000</td>\n",
       "      <td>0</td>\n",
       "      <td>5.0</td>\n",
       "      <td>F major</td>\n",
       "    </tr>\n",
       "  </tbody>\n",
       "</table>\n",
       "</div>"
      ],
      "text/plain": [
       "                         track_name  peak_pos                   album_name  \\\n",
       "268                     Tell Me Why       NaN                     Fearless   \n",
       "269  Tell Me Why (Taylor's Version)       NaN  Fearless (Taylor's Version)   \n",
       "310                     Untouchable      19.0                     Fearless   \n",
       "311  Untouchable (Taylor's Version)       NaN  Fearless (Taylor's Version)   \n",
       "\n",
       "     key_x    tempo                                    video_url  \\\n",
       "268    7.0  100.015  https://www.youtube.com/watch?v=cwFbq-70EwE   \n",
       "269    7.0  100.023  https://www.youtube.com/watch?v=cwFbq-70EwE   \n",
       "310    5.0  200.017  https://www.youtube.com/watch?v=8bNlGwnEUAs   \n",
       "311    5.0  200.391  https://www.youtube.com/watch?v=8bNlGwnEUAs   \n",
       "\n",
       "                                          latent_audio peak_pos_bucketed  \\\n",
       "268  [tensor(-0.1233), tensor(0.0570), tensor(0.037...              >100   \n",
       "269  [tensor(-0.1233), tensor(0.0570), tensor(0.037...              >100   \n",
       "310  [tensor(-0.1790), tensor(0.0578), tensor(0.071...             10-19   \n",
       "311  [tensor(-0.1790), tensor(0.0578), tensor(0.071...              >100   \n",
       "\n",
       "     cluster_assignment  wks_on_chart  sqrt_wks  wks_bucketed  key_y key_mode  \n",
       "268                  13             0  0.000000             0    7.0  G major  \n",
       "269                  13             0  0.000000             0    7.0  G major  \n",
       "310                  13             2  1.414214             1    5.0  F major  \n",
       "311                  13             0  0.000000             0    5.0  F major  "
      ]
     },
     "execution_count": 116,
     "metadata": {},
     "output_type": "execute_result"
    }
   ],
   "source": [
    "audio[audio[\"cluster_assignment\"] == 13]"
   ]
  },
  {
   "cell_type": "code",
   "execution_count": 111,
   "metadata": {},
   "outputs": [
    {
     "data": {
      "text/html": [
       "<div>\n",
       "<style scoped>\n",
       "    .dataframe tbody tr th:only-of-type {\n",
       "        vertical-align: middle;\n",
       "    }\n",
       "\n",
       "    .dataframe tbody tr th {\n",
       "        vertical-align: top;\n",
       "    }\n",
       "\n",
       "    .dataframe thead th {\n",
       "        text-align: right;\n",
       "    }\n",
       "</style>\n",
       "<table border=\"1\" class=\"dataframe\">\n",
       "  <thead>\n",
       "    <tr style=\"text-align: right;\">\n",
       "      <th></th>\n",
       "      <th>track_name</th>\n",
       "      <th>peak_pos</th>\n",
       "      <th>album_name</th>\n",
       "      <th>lyrics</th>\n",
       "      <th>peak_pos_bucketed</th>\n",
       "      <th>latent_embedding</th>\n",
       "      <th>cluster_assignment</th>\n",
       "      <th>wks_on_chart</th>\n",
       "      <th>sqrt_wks</th>\n",
       "      <th>wks_bucketed</th>\n",
       "      <th>key</th>\n",
       "      <th>key_mode</th>\n",
       "    </tr>\n",
       "  </thead>\n",
       "  <tbody>\n",
       "    <tr>\n",
       "      <th>5</th>\n",
       "      <td>A Perfectly Good Heart</td>\n",
       "      <td>NaN</td>\n",
       "      <td>Taylor Swift</td>\n",
       "      <td>why would you wanna break a perfectly good hea...</td>\n",
       "      <td>&gt;100</td>\n",
       "      <td>[tensor(0.0702), tensor(0.3086), tensor(0.2394...</td>\n",
       "      <td>14</td>\n",
       "      <td>0</td>\n",
       "      <td>0.000000</td>\n",
       "      <td>0</td>\n",
       "      <td>4.0</td>\n",
       "      <td>E major</td>\n",
       "    </tr>\n",
       "    <tr>\n",
       "      <th>14</th>\n",
       "      <td>American Girl</td>\n",
       "      <td>NaN</td>\n",
       "      <td>NaN</td>\n",
       "      <td>well, she was an american girl raised on promi...</td>\n",
       "      <td>&gt;100</td>\n",
       "      <td>[tensor(0.0015), tensor(0.3198), tensor(0.2606...</td>\n",
       "      <td>14</td>\n",
       "      <td>0</td>\n",
       "      <td>0.000000</td>\n",
       "      <td>0</td>\n",
       "      <td>NaN</td>\n",
       "      <td>NaN</td>\n",
       "    </tr>\n",
       "    <tr>\n",
       "      <th>35</th>\n",
       "      <td>Birch</td>\n",
       "      <td>NaN</td>\n",
       "      <td>NaN</td>\n",
       "      <td>the way i woke up was old was all fucking chok...</td>\n",
       "      <td>&gt;100</td>\n",
       "      <td>[tensor(0.0309), tensor(0.2638), tensor(0.1602...</td>\n",
       "      <td>14</td>\n",
       "      <td>0</td>\n",
       "      <td>0.000000</td>\n",
       "      <td>0</td>\n",
       "      <td>8.0</td>\n",
       "      <td>G# major</td>\n",
       "    </tr>\n",
       "    <tr>\n",
       "      <th>44</th>\n",
       "      <td>Carolina</td>\n",
       "      <td>60.0</td>\n",
       "      <td>NaN</td>\n",
       "      <td>oh, carolina creeks running through my veins l...</td>\n",
       "      <td>60-69</td>\n",
       "      <td>[tensor(0.0824), tensor(0.4808), tensor(0.0678...</td>\n",
       "      <td>14</td>\n",
       "      <td>1</td>\n",
       "      <td>1.000000</td>\n",
       "      <td>1</td>\n",
       "      <td>11.0</td>\n",
       "      <td>B minor</td>\n",
       "    </tr>\n",
       "    <tr>\n",
       "      <th>51</th>\n",
       "      <td>Christmases When You Were Mine</td>\n",
       "      <td>NaN</td>\n",
       "      <td>The Taylor Swift Holiday Collection</td>\n",
       "      <td>please take down the mistletoe 'cause i don't ...</td>\n",
       "      <td>&gt;100</td>\n",
       "      <td>[tensor(0.0936), tensor(0.4391), tensor(0.1229...</td>\n",
       "      <td>14</td>\n",
       "      <td>0</td>\n",
       "      <td>0.000000</td>\n",
       "      <td>0</td>\n",
       "      <td>7.0</td>\n",
       "      <td>G major</td>\n",
       "    </tr>\n",
       "    <tr>\n",
       "      <th>55</th>\n",
       "      <td>Cold As You</td>\n",
       "      <td>NaN</td>\n",
       "      <td>Taylor Swift</td>\n",
       "      <td>you have a way of coming easily to me and when...</td>\n",
       "      <td>&gt;100</td>\n",
       "      <td>[tensor(-0.0839), tensor(0.5062), tensor(-0.01...</td>\n",
       "      <td>14</td>\n",
       "      <td>0</td>\n",
       "      <td>0.000000</td>\n",
       "      <td>0</td>\n",
       "      <td>5.0</td>\n",
       "      <td>F major</td>\n",
       "    </tr>\n",
       "    <tr>\n",
       "      <th>58</th>\n",
       "      <td>Come In With The Rain</td>\n",
       "      <td>30.0</td>\n",
       "      <td>Fearless</td>\n",
       "      <td>i could go back to every laugh but i don't wan...</td>\n",
       "      <td>30-39</td>\n",
       "      <td>[tensor(0.2238), tensor(0.3906), tensor(-0.081...</td>\n",
       "      <td>14</td>\n",
       "      <td>1</td>\n",
       "      <td>1.000000</td>\n",
       "      <td>1</td>\n",
       "      <td>2.0</td>\n",
       "      <td>D major</td>\n",
       "    </tr>\n",
       "    <tr>\n",
       "      <th>59</th>\n",
       "      <td>Come In With The Rain (Taylor's Version)</td>\n",
       "      <td>NaN</td>\n",
       "      <td>Fearless (Taylor's Version)</td>\n",
       "      <td>i could go back to every laugh but i don't wan...</td>\n",
       "      <td>&gt;100</td>\n",
       "      <td>[tensor(0.2201), tensor(0.3877), tensor(-0.068...</td>\n",
       "      <td>14</td>\n",
       "      <td>0</td>\n",
       "      <td>0.000000</td>\n",
       "      <td>0</td>\n",
       "      <td>2.0</td>\n",
       "      <td>D major</td>\n",
       "    </tr>\n",
       "    <tr>\n",
       "      <th>63</th>\n",
       "      <td>Crazier</td>\n",
       "      <td>17.0</td>\n",
       "      <td>NaN</td>\n",
       "      <td>i'd never gone with the wind just let it flow ...</td>\n",
       "      <td>10-19</td>\n",
       "      <td>[tensor(-0.0263), tensor(0.3384), tensor(-0.13...</td>\n",
       "      <td>14</td>\n",
       "      <td>8</td>\n",
       "      <td>2.828427</td>\n",
       "      <td>2</td>\n",
       "      <td>4.0</td>\n",
       "      <td>E major</td>\n",
       "    </tr>\n",
       "    <tr>\n",
       "      <th>69</th>\n",
       "      <td>Dear Reader</td>\n",
       "      <td>45.0</td>\n",
       "      <td>Midnights</td>\n",
       "      <td>dear reader, if it feels like a trap you're al...</td>\n",
       "      <td>40-49</td>\n",
       "      <td>[tensor(0.0507), tensor(0.4497), tensor(-0.266...</td>\n",
       "      <td>14</td>\n",
       "      <td>2</td>\n",
       "      <td>1.414214</td>\n",
       "      <td>1</td>\n",
       "      <td>0.0</td>\n",
       "      <td>C major</td>\n",
       "    </tr>\n",
       "    <tr>\n",
       "      <th>80</th>\n",
       "      <td>epiphany</td>\n",
       "      <td>57.0</td>\n",
       "      <td>folklore</td>\n",
       "      <td>keep your helmet, keep your life, son just a f...</td>\n",
       "      <td>50-59</td>\n",
       "      <td>[tensor(-0.0530), tensor(0.3982), tensor(-0.04...</td>\n",
       "      <td>14</td>\n",
       "      <td>1</td>\n",
       "      <td>1.000000</td>\n",
       "      <td>1</td>\n",
       "      <td>1.0</td>\n",
       "      <td>C# major</td>\n",
       "    </tr>\n",
       "    <tr>\n",
       "      <th>98</th>\n",
       "      <td>Gasoline (Remix)</td>\n",
       "      <td>NaN</td>\n",
       "      <td>NaN</td>\n",
       "      <td>you took me back but you shouldn't have now it...</td>\n",
       "      <td>&gt;100</td>\n",
       "      <td>[tensor(-0.0733), tensor(0.2751), tensor(0.183...</td>\n",
       "      <td>14</td>\n",
       "      <td>0</td>\n",
       "      <td>0.000000</td>\n",
       "      <td>0</td>\n",
       "      <td>1.0</td>\n",
       "      <td>C# minor</td>\n",
       "    </tr>\n",
       "    <tr>\n",
       "      <th>114</th>\n",
       "      <td>hoax</td>\n",
       "      <td>71.0</td>\n",
       "      <td>folklore</td>\n",
       "      <td>my only one my smoking gun my eclipsed sun thi...</td>\n",
       "      <td>70-79</td>\n",
       "      <td>[tensor(0.0987), tensor(0.3953), tensor(-0.022...</td>\n",
       "      <td>14</td>\n",
       "      <td>1</td>\n",
       "      <td>1.000000</td>\n",
       "      <td>1</td>\n",
       "      <td>8.0</td>\n",
       "      <td>G# major</td>\n",
       "    </tr>\n",
       "    <tr>\n",
       "      <th>152</th>\n",
       "      <td>illicit affairs</td>\n",
       "      <td>44.0</td>\n",
       "      <td>folklore</td>\n",
       "      <td>make sure nobody sees you leave hood over your...</td>\n",
       "      <td>40-49</td>\n",
       "      <td>[tensor(0.0761), tensor(0.5233), tensor(-0.108...</td>\n",
       "      <td>14</td>\n",
       "      <td>1</td>\n",
       "      <td>1.000000</td>\n",
       "      <td>1</td>\n",
       "      <td>10.0</td>\n",
       "      <td>A# major</td>\n",
       "    </tr>\n",
       "    <tr>\n",
       "      <th>155</th>\n",
       "      <td>Invisible</td>\n",
       "      <td>NaN</td>\n",
       "      <td>Taylor Swift</td>\n",
       "      <td>she can't see the way your eyes light up when ...</td>\n",
       "      <td>&gt;100</td>\n",
       "      <td>[tensor(0.0196), tensor(0.5455), tensor(0.0594...</td>\n",
       "      <td>14</td>\n",
       "      <td>0</td>\n",
       "      <td>0.000000</td>\n",
       "      <td>0</td>\n",
       "      <td>7.0</td>\n",
       "      <td>G major</td>\n",
       "    </tr>\n",
       "    <tr>\n",
       "      <th>158</th>\n",
       "      <td>It's Nice To Have A Friend</td>\n",
       "      <td>92.0</td>\n",
       "      <td>Lover</td>\n",
       "      <td>ooh ooh school bell rings, walk me home sidewa...</td>\n",
       "      <td>90-99</td>\n",
       "      <td>[tensor(-0.0033), tensor(0.3267), tensor(0.117...</td>\n",
       "      <td>14</td>\n",
       "      <td>1</td>\n",
       "      <td>1.000000</td>\n",
       "      <td>1</td>\n",
       "      <td>10.0</td>\n",
       "      <td>A# major</td>\n",
       "    </tr>\n",
       "    <tr>\n",
       "      <th>224</th>\n",
       "      <td>Sad Beautiful Tragic</td>\n",
       "      <td>NaN</td>\n",
       "      <td>Red</td>\n",
       "      <td>long handwritten note, deep in your pocket wor...</td>\n",
       "      <td>&gt;100</td>\n",
       "      <td>[tensor(0.0796), tensor(0.4431), tensor(-0.019...</td>\n",
       "      <td>14</td>\n",
       "      <td>0</td>\n",
       "      <td>0.000000</td>\n",
       "      <td>0</td>\n",
       "      <td>7.0</td>\n",
       "      <td>G major</td>\n",
       "    </tr>\n",
       "    <tr>\n",
       "      <th>225</th>\n",
       "      <td>Sad Beautiful Tragic (Taylor's Version)</td>\n",
       "      <td>85.0</td>\n",
       "      <td>Red (Taylor's Version)</td>\n",
       "      <td>long handwritten note, deep in your pocket wor...</td>\n",
       "      <td>80-89</td>\n",
       "      <td>[tensor(0.0506), tensor(0.4298), tensor(-0.042...</td>\n",
       "      <td>14</td>\n",
       "      <td>1</td>\n",
       "      <td>1.000000</td>\n",
       "      <td>1</td>\n",
       "      <td>7.0</td>\n",
       "      <td>G major</td>\n",
       "    </tr>\n",
       "    <tr>\n",
       "      <th>228</th>\n",
       "      <td>Santa Baby</td>\n",
       "      <td>NaN</td>\n",
       "      <td>The Taylor Swift Holiday Collection</td>\n",
       "      <td>santa baby, slip a sable under the tree, for m...</td>\n",
       "      <td>&gt;100</td>\n",
       "      <td>[tensor(0.0598), tensor(0.2755), tensor(0.2015...</td>\n",
       "      <td>14</td>\n",
       "      <td>0</td>\n",
       "      <td>0.000000</td>\n",
       "      <td>0</td>\n",
       "      <td>5.0</td>\n",
       "      <td>F major</td>\n",
       "    </tr>\n",
       "    <tr>\n",
       "      <th>231</th>\n",
       "      <td>seven</td>\n",
       "      <td>35.0</td>\n",
       "      <td>folklore</td>\n",
       "      <td>please picture me in the trees i hit my peak a...</td>\n",
       "      <td>30-39</td>\n",
       "      <td>[tensor(0.1242), tensor(0.4601), tensor(-0.093...</td>\n",
       "      <td>14</td>\n",
       "      <td>2</td>\n",
       "      <td>1.414214</td>\n",
       "      <td>1</td>\n",
       "      <td>4.0</td>\n",
       "      <td>E major</td>\n",
       "    </tr>\n",
       "    <tr>\n",
       "      <th>247</th>\n",
       "      <td>State Of Grace</td>\n",
       "      <td>13.0</td>\n",
       "      <td>Red</td>\n",
       "      <td>i'm walking fast through the traffic lights bu...</td>\n",
       "      <td>10-19</td>\n",
       "      <td>[tensor(0.0035), tensor(0.4345), tensor(-0.025...</td>\n",
       "      <td>14</td>\n",
       "      <td>1</td>\n",
       "      <td>1.000000</td>\n",
       "      <td>1</td>\n",
       "      <td>4.0</td>\n",
       "      <td>E major</td>\n",
       "    </tr>\n",
       "    <tr>\n",
       "      <th>248</th>\n",
       "      <td>State Of Grace (Acoustic Version)</td>\n",
       "      <td>NaN</td>\n",
       "      <td>Red</td>\n",
       "      <td>i'm walking fast through the traffic lights bu...</td>\n",
       "      <td>&gt;100</td>\n",
       "      <td>[tensor(-0.0267), tensor(0.4074), tensor(0.072...</td>\n",
       "      <td>14</td>\n",
       "      <td>0</td>\n",
       "      <td>0.000000</td>\n",
       "      <td>0</td>\n",
       "      <td>7.0</td>\n",
       "      <td>G major</td>\n",
       "    </tr>\n",
       "    <tr>\n",
       "      <th>249</th>\n",
       "      <td>State Of Grace (Acoustic Version) [Taylor's Ve...</td>\n",
       "      <td>NaN</td>\n",
       "      <td>Red (Taylor's Version)</td>\n",
       "      <td>i'm walking fast through the traffic lights bu...</td>\n",
       "      <td>&gt;100</td>\n",
       "      <td>[tensor(-0.0503), tensor(0.3890), tensor(0.051...</td>\n",
       "      <td>14</td>\n",
       "      <td>0</td>\n",
       "      <td>0.000000</td>\n",
       "      <td>0</td>\n",
       "      <td>7.0</td>\n",
       "      <td>G major</td>\n",
       "    </tr>\n",
       "    <tr>\n",
       "      <th>277</th>\n",
       "      <td>The Joker And The Queen</td>\n",
       "      <td>21.0</td>\n",
       "      <td>NaN</td>\n",
       "      <td>how was i to know? it's a crazy thing i showed...</td>\n",
       "      <td>20-29</td>\n",
       "      <td>[tensor(-0.0036), tensor(0.4979), tensor(0.210...</td>\n",
       "      <td>14</td>\n",
       "      <td>3</td>\n",
       "      <td>1.732051</td>\n",
       "      <td>1</td>\n",
       "      <td>0.0</td>\n",
       "      <td>C major</td>\n",
       "    </tr>\n",
       "    <tr>\n",
       "      <th>289</th>\n",
       "      <td>The Outside</td>\n",
       "      <td>NaN</td>\n",
       "      <td>Taylor Swift</td>\n",
       "      <td>i didn't know what i would find when i went lo...</td>\n",
       "      <td>&gt;100</td>\n",
       "      <td>[tensor(0.1431), tensor(0.3473), tensor(0.0561...</td>\n",
       "      <td>14</td>\n",
       "      <td>0</td>\n",
       "      <td>0.000000</td>\n",
       "      <td>0</td>\n",
       "      <td>5.0</td>\n",
       "      <td>F major</td>\n",
       "    </tr>\n",
       "    <tr>\n",
       "      <th>315</th>\n",
       "      <td>We Were Happy (Taylor's Version) [From The Vault]</td>\n",
       "      <td>NaN</td>\n",
       "      <td>Fearless (Taylor's Version)</td>\n",
       "      <td>we used to walk along the streets when the por...</td>\n",
       "      <td>&gt;100</td>\n",
       "      <td>[tensor(0.0230), tensor(0.4144), tensor(0.2222...</td>\n",
       "      <td>14</td>\n",
       "      <td>0</td>\n",
       "      <td>0.000000</td>\n",
       "      <td>0</td>\n",
       "      <td>0.0</td>\n",
       "      <td>C major</td>\n",
       "    </tr>\n",
       "  </tbody>\n",
       "</table>\n",
       "</div>"
      ],
      "text/plain": [
       "                                            track_name  peak_pos  \\\n",
       "5                               A Perfectly Good Heart       NaN   \n",
       "14                                       American Girl       NaN   \n",
       "35                                               Birch       NaN   \n",
       "44                                            Carolina      60.0   \n",
       "51                      Christmases When You Were Mine       NaN   \n",
       "55                                         Cold As You       NaN   \n",
       "58                               Come In With The Rain      30.0   \n",
       "59            Come In With The Rain (Taylor's Version)       NaN   \n",
       "63                                             Crazier      17.0   \n",
       "69                                         Dear Reader      45.0   \n",
       "80                                            epiphany      57.0   \n",
       "98                                    Gasoline (Remix)       NaN   \n",
       "114                                               hoax      71.0   \n",
       "152                                    illicit affairs      44.0   \n",
       "155                                          Invisible       NaN   \n",
       "158                         It's Nice To Have A Friend      92.0   \n",
       "224                               Sad Beautiful Tragic       NaN   \n",
       "225            Sad Beautiful Tragic (Taylor's Version)      85.0   \n",
       "228                                         Santa Baby       NaN   \n",
       "231                                              seven      35.0   \n",
       "247                                     State Of Grace      13.0   \n",
       "248                  State Of Grace (Acoustic Version)       NaN   \n",
       "249  State Of Grace (Acoustic Version) [Taylor's Ve...       NaN   \n",
       "277                            The Joker And The Queen      21.0   \n",
       "289                                        The Outside       NaN   \n",
       "315  We Were Happy (Taylor's Version) [From The Vault]       NaN   \n",
       "\n",
       "                              album_name  \\\n",
       "5                           Taylor Swift   \n",
       "14                                   NaN   \n",
       "35                                   NaN   \n",
       "44                                   NaN   \n",
       "51   The Taylor Swift Holiday Collection   \n",
       "55                          Taylor Swift   \n",
       "58                              Fearless   \n",
       "59           Fearless (Taylor's Version)   \n",
       "63                                   NaN   \n",
       "69                             Midnights   \n",
       "80                              folklore   \n",
       "98                                   NaN   \n",
       "114                             folklore   \n",
       "152                             folklore   \n",
       "155                         Taylor Swift   \n",
       "158                                Lover   \n",
       "224                                  Red   \n",
       "225               Red (Taylor's Version)   \n",
       "228  The Taylor Swift Holiday Collection   \n",
       "231                             folklore   \n",
       "247                                  Red   \n",
       "248                                  Red   \n",
       "249               Red (Taylor's Version)   \n",
       "277                                  NaN   \n",
       "289                         Taylor Swift   \n",
       "315          Fearless (Taylor's Version)   \n",
       "\n",
       "                                                lyrics peak_pos_bucketed  \\\n",
       "5    why would you wanna break a perfectly good hea...              >100   \n",
       "14   well, she was an american girl raised on promi...              >100   \n",
       "35   the way i woke up was old was all fucking chok...              >100   \n",
       "44   oh, carolina creeks running through my veins l...             60-69   \n",
       "51   please take down the mistletoe 'cause i don't ...              >100   \n",
       "55   you have a way of coming easily to me and when...              >100   \n",
       "58   i could go back to every laugh but i don't wan...             30-39   \n",
       "59   i could go back to every laugh but i don't wan...              >100   \n",
       "63   i'd never gone with the wind just let it flow ...             10-19   \n",
       "69   dear reader, if it feels like a trap you're al...             40-49   \n",
       "80   keep your helmet, keep your life, son just a f...             50-59   \n",
       "98   you took me back but you shouldn't have now it...              >100   \n",
       "114  my only one my smoking gun my eclipsed sun thi...             70-79   \n",
       "152  make sure nobody sees you leave hood over your...             40-49   \n",
       "155  she can't see the way your eyes light up when ...              >100   \n",
       "158  ooh ooh school bell rings, walk me home sidewa...             90-99   \n",
       "224  long handwritten note, deep in your pocket wor...              >100   \n",
       "225  long handwritten note, deep in your pocket wor...             80-89   \n",
       "228  santa baby, slip a sable under the tree, for m...              >100   \n",
       "231  please picture me in the trees i hit my peak a...             30-39   \n",
       "247  i'm walking fast through the traffic lights bu...             10-19   \n",
       "248  i'm walking fast through the traffic lights bu...              >100   \n",
       "249  i'm walking fast through the traffic lights bu...              >100   \n",
       "277  how was i to know? it's a crazy thing i showed...             20-29   \n",
       "289  i didn't know what i would find when i went lo...              >100   \n",
       "315  we used to walk along the streets when the por...              >100   \n",
       "\n",
       "                                      latent_embedding  cluster_assignment  \\\n",
       "5    [tensor(0.0702), tensor(0.3086), tensor(0.2394...                  14   \n",
       "14   [tensor(0.0015), tensor(0.3198), tensor(0.2606...                  14   \n",
       "35   [tensor(0.0309), tensor(0.2638), tensor(0.1602...                  14   \n",
       "44   [tensor(0.0824), tensor(0.4808), tensor(0.0678...                  14   \n",
       "51   [tensor(0.0936), tensor(0.4391), tensor(0.1229...                  14   \n",
       "55   [tensor(-0.0839), tensor(0.5062), tensor(-0.01...                  14   \n",
       "58   [tensor(0.2238), tensor(0.3906), tensor(-0.081...                  14   \n",
       "59   [tensor(0.2201), tensor(0.3877), tensor(-0.068...                  14   \n",
       "63   [tensor(-0.0263), tensor(0.3384), tensor(-0.13...                  14   \n",
       "69   [tensor(0.0507), tensor(0.4497), tensor(-0.266...                  14   \n",
       "80   [tensor(-0.0530), tensor(0.3982), tensor(-0.04...                  14   \n",
       "98   [tensor(-0.0733), tensor(0.2751), tensor(0.183...                  14   \n",
       "114  [tensor(0.0987), tensor(0.3953), tensor(-0.022...                  14   \n",
       "152  [tensor(0.0761), tensor(0.5233), tensor(-0.108...                  14   \n",
       "155  [tensor(0.0196), tensor(0.5455), tensor(0.0594...                  14   \n",
       "158  [tensor(-0.0033), tensor(0.3267), tensor(0.117...                  14   \n",
       "224  [tensor(0.0796), tensor(0.4431), tensor(-0.019...                  14   \n",
       "225  [tensor(0.0506), tensor(0.4298), tensor(-0.042...                  14   \n",
       "228  [tensor(0.0598), tensor(0.2755), tensor(0.2015...                  14   \n",
       "231  [tensor(0.1242), tensor(0.4601), tensor(-0.093...                  14   \n",
       "247  [tensor(0.0035), tensor(0.4345), tensor(-0.025...                  14   \n",
       "248  [tensor(-0.0267), tensor(0.4074), tensor(0.072...                  14   \n",
       "249  [tensor(-0.0503), tensor(0.3890), tensor(0.051...                  14   \n",
       "277  [tensor(-0.0036), tensor(0.4979), tensor(0.210...                  14   \n",
       "289  [tensor(0.1431), tensor(0.3473), tensor(0.0561...                  14   \n",
       "315  [tensor(0.0230), tensor(0.4144), tensor(0.2222...                  14   \n",
       "\n",
       "     wks_on_chart  sqrt_wks  wks_bucketed   key  key_mode  \n",
       "5               0  0.000000             0   4.0   E major  \n",
       "14              0  0.000000             0   NaN       NaN  \n",
       "35              0  0.000000             0   8.0  G# major  \n",
       "44              1  1.000000             1  11.0   B minor  \n",
       "51              0  0.000000             0   7.0   G major  \n",
       "55              0  0.000000             0   5.0   F major  \n",
       "58              1  1.000000             1   2.0   D major  \n",
       "59              0  0.000000             0   2.0   D major  \n",
       "63              8  2.828427             2   4.0   E major  \n",
       "69              2  1.414214             1   0.0   C major  \n",
       "80              1  1.000000             1   1.0  C# major  \n",
       "98              0  0.000000             0   1.0  C# minor  \n",
       "114             1  1.000000             1   8.0  G# major  \n",
       "152             1  1.000000             1  10.0  A# major  \n",
       "155             0  0.000000             0   7.0   G major  \n",
       "158             1  1.000000             1  10.0  A# major  \n",
       "224             0  0.000000             0   7.0   G major  \n",
       "225             1  1.000000             1   7.0   G major  \n",
       "228             0  0.000000             0   5.0   F major  \n",
       "231             2  1.414214             1   4.0   E major  \n",
       "247             1  1.000000             1   4.0   E major  \n",
       "248             0  0.000000             0   7.0   G major  \n",
       "249             0  0.000000             0   7.0   G major  \n",
       "277             3  1.732051             1   0.0   C major  \n",
       "289             0  0.000000             0   5.0   F major  \n",
       "315             0  0.000000             0   0.0   C major  "
      ]
     },
     "execution_count": 111,
     "metadata": {},
     "output_type": "execute_result"
    }
   ],
   "source": [
    "lyrics[lyrics[\"cluster_assignment\"] == 14]"
   ]
  },
  {
   "cell_type": "code",
   "execution_count": 7,
   "metadata": {},
   "outputs": [
    {
     "data": {
      "application/vnd.plotly.v1+json": {
       "config": {
        "plotlyServerURL": "https://plot.ly"
       },
       "data": [
        {
         "marker": {
          "color": "rgb(68, 1, 84)",
          "opacity": 1
         },
         "mode": "markers",
         "name": "5",
         "text": [
          "...Ready For It?",
          "Back To December",
          "Bad Blood (Taylor's Version)",
          "Better Than Revenge",
          "Better Than Revenge (Taylor's Version)",
          "betty",
          "Cruel Summer",
          "Death By A Thousand Cuts",
          "Forever & Always",
          "Forever & Always (Piano Version)",
          "Forever & Always (Taylor's Version)",
          "Highway Don't Care",
          "I Did Something Bad",
          "If This Was A Movie (Taylor's Version)",
          "King Of My Heart",
          "Long Live",
          "Long Live (Taylor's Version)",
          "Mean",
          "Mine (Taylor's Version)",
          "New Romantics (Taylor's Version)",
          "Out Of The Woods",
          "Out Of The Woods (Taylor's Version)",
          "Renegade",
          "Starlight (Taylor's Version)",
          "The Other Side Of The Door (Taylor's Version)",
          "willow",
          "You Belong With Me",
          "You Belong With Me (Taylor's Version)"
         ],
         "type": "scatter",
         "x": [
          -17.844165802001953,
          -18.457080841064453,
          -21.61833381652832,
          -19.814876556396484,
          -19.036287307739258,
          -21.264188766479492,
          -22.42572593688965,
          -20.426748275756836,
          -21.04189109802246,
          -21.532604217529297,
          -21.746826171875,
          -18.79217529296875,
          -20.431825637817383,
          -18.785268783569336,
          -18.638532638549805,
          -19.693910598754883,
          -19.804424285888672,
          -22.645050048828125,
          -18.071809768676758,
          -14.824100494384766,
          -20.35016632080078,
          -20.658714294433594,
          -20.76850700378418,
          -19.66286277770996,
          -20.488611221313477,
          -18.756505966186523,
          -19.42729377746582,
          -19.280168533325195
         ],
         "y": [
          -3.9135494232177734,
          -2.8524014949798584,
          -5.651440620422363,
          -3.6965694427490234,
          -3.475968837738037,
          -5.594780445098877,
          -4.44665002822876,
          -6.223642826080322,
          -3.765988349914551,
          -3.538414716720581,
          -3.0654804706573486,
          -3.5685534477233887,
          -5.846138954162598,
          4.072137355804443,
          -3.977828025817871,
          -4.525244235992432,
          -4.860902309417725,
          -5.170340538024902,
          -4.313266754150391,
          -3.61053729057312,
          -3.6728298664093018,
          -3.3504512310028076,
          -5.483625888824463,
          -5.490394592285156,
          -4.945043087005615,
          -4.714169025421143,
          -4.323698043823242,
          -3.9926764965057373
         ]
        },
        {
         "marker": {
          "color": "rgb(72, 26, 108)",
          "opacity": 1
         },
         "mode": "markers",
         "name": "0",
         "text": [
          "'tis the damn season",
          "\"Slut!\" (Taylor's Version) [From The Vault]",
          "Bad Blood (Remix)",
          "Bad Blood (Remix) [Taylor's Version]",
          "Bejeweled",
          "Both Of Us",
          "Call It What You Want",
          "coney island",
          "Dress",
          "End Game",
          "Everything Has Changed",
          "Everything Has Changed (Taylor's Version)",
          "Fifteen",
          "Fifteen (Taylor's Version)",
          "Foolish One (Taylor's Version) [From The Vault]",
          "Girl At Home",
          "happiness",
          "Hits Different",
          "I Bet You Think About Me (Taylor's Version) [From The Vault]",
          "I Know Places (Taylor's Version)",
          "I Think He Knows",
          "If This Was A Movie",
          "Is It Over Now? (Taylor's Version) [From The Vault]",
          "Karma (Remix)",
          "Never Grow Up",
          "Never Grow Up (Taylor's Version)",
          "no body, no crime",
          "Question...?",
          "right where you left me",
          "So It Goes...",
          "Sweeter Than Fiction",
          "The Alcott",
          "The Man",
          "This Is Why We Can't Have Nice Things",
          "Three Sad Virgins",
          "Timeless (Taylor's Version) [From The Vault]",
          "When Emma Falls In Love (Taylor's Version) [From The Vault]",
          "Would've, Could've, Should've",
          "You Are In Love",
          "You Are In Love (Taylor's Version)",
          "You're Losing Me (From The Vault)"
         ],
         "type": "scatter",
         "x": [
          -11.316514015197754,
          -1.6856284141540527,
          -12.730817794799805,
          -18.52286148071289,
          -16.763046264648438,
          -12.1679105758667,
          -13.357643127441406,
          -1.3161085844039917,
          -16.521459579467773,
          -18.54104995727539,
          -15.79010009765625,
          -15.860847473144531,
          -14.001296997070312,
          -13.96615219116211,
          -14.05543041229248,
          -15.464839935302734,
          -17.937816619873047,
          -12.994571685791016,
          -12.571728706359863,
          -7.501409530639648,
          -10.890470504760742,
          -16.93567657470703,
          -16.615169525146484,
          -14.00090217590332,
          -17.714956283569336,
          -17.828914642333984,
          -9.743887901306152,
          -15.991748809814453,
          -17.744970321655273,
          -15.415382385253906,
          -16.161149978637695,
          -18.427291870117188,
          -18.11170196533203,
          -15.702149391174316,
          -11.9602689743042,
          -17.087892532348633,
          -1.4247791767120361,
          -15.743473052978516,
          -14.783493041992188,
          -14.720654487609863,
          -13.604239463806152
         ],
         "y": [
          2.58376407623291,
          -0.33310070633888245,
          3.333075523376465,
          7.282101154327393,
          4.749197483062744,
          3.2415289878845215,
          3.9338483810424805,
          -0.2998453378677368,
          3.9479403495788574,
          4.538527488708496,
          3.976912260055542,
          4.104203701019287,
          3.7654149532318115,
          3.7124969959259033,
          2.5543127059936523,
          4.215390205383301,
          7.242931365966797,
          3.879525661468506,
          3.596116542816162,
          0.888376772403717,
          2.095242738723755,
          3.2503387928009033,
          5.279024600982666,
          4.556931018829346,
          3.906909942626953,
          4.212932586669922,
          1.6520042419433594,
          5.154419422149658,
          7.292927265167236,
          4.880446434020996,
          4.607959270477295,
          7.349984169006348,
          4.803253650665283,
          4.737011432647705,
          3.069336414337158,
          6.838507652282715,
          0.06873553991317749,
          5.815334796905518,
          4.625768661499023,
          4.683527946472168,
          3.3993475437164307
         ]
        },
        {
         "marker": {
          "color": "rgb(70, 49, 126)",
          "opacity": 1
         },
         "mode": "markers",
         "name": "2",
         "text": [
          "22",
          "22 (Taylor's Version)",
          "cardigan",
          "Forever & Always (Piano Version) [Taylor's Version]",
          "Red (Taylor's Version)",
          "We Are Never Ever Getting Back Together",
          "We Are Never Ever Getting Back Together (Taylor's Version)",
          "Wildest Dreams",
          "Wildest Dreams (Taylor's Version)"
         ],
         "type": "scatter",
         "x": [
          -23.674652099609375,
          -23.628625869750977,
          -24.167612075805664,
          -23.70726203918457,
          -23.465604782104492,
          -24.318038940429688,
          -24.351844787597656,
          -23.977184295654297,
          -24.066753387451172
         ],
         "y": [
          4.845060348510742,
          4.472951889038086,
          4.639904022216797,
          4.845167636871338,
          6.061807155609131,
          4.7241291999816895,
          4.8058366775512695,
          5.288439750671387,
          5.273519039154053
         ]
        },
        {
         "marker": {
          "color": "rgb(63, 71, 136)",
          "opacity": 1
         },
         "mode": "markers",
         "name": "14",
         "text": [
          "A Perfectly Good Heart",
          "American Girl",
          "Birch",
          "Carolina",
          "Christmases When You Were Mine",
          "Cold As You",
          "Come In With The Rain",
          "Come In With The Rain (Taylor's Version)",
          "Crazier",
          "Dear Reader",
          "epiphany",
          "Gasoline (Remix)",
          "hoax",
          "illicit affairs",
          "Invisible",
          "It's Nice To Have A Friend",
          "Sad Beautiful Tragic",
          "Sad Beautiful Tragic (Taylor's Version)",
          "Santa Baby",
          "seven",
          "State Of Grace",
          "State Of Grace (Acoustic Version)",
          "State Of Grace (Acoustic Version) [Taylor's Version]",
          "The Joker And The Queen",
          "The Outside",
          "We Were Happy (Taylor's Version) [From The Vault]"
         ],
         "type": "scatter",
         "x": [
          20.70263671875,
          22.086566925048828,
          22.27326774597168,
          22.209707260131836,
          22.356483459472656,
          18.59876251220703,
          20.237205505371094,
          20.574989318847656,
          22.461463928222656,
          22.236703872680664,
          21.470516204833984,
          19.84842872619629,
          21.62938117980957,
          22.07699203491211,
          20.00598907470703,
          21.780784606933594,
          21.628000259399414,
          21.770021438598633,
          21.88482666015625,
          22.725852966308594,
          22.21883773803711,
          22.910465240478516,
          22.936620712280273,
          20.84801483154297,
          19.844141006469727,
          20.28784942626953
         ],
         "y": [
          -1.1300506591796875,
          -2.4228627681732178,
          -1.5280357599258423,
          0.6476142406463623,
          -2.101130962371826,
          -0.6898991465568542,
          -0.9068918228149414,
          -0.8784645199775696,
          -1.5514367818832397,
          0.34122681617736816,
          -1.6597790718078613,
          -0.3513767123222351,
          -0.6304274201393127,
          -0.7232397794723511,
          -0.6784212589263916,
          -2.210064649581909,
          -1.756836175918579,
          -1.3135054111480713,
          -1.8640162944793701,
          -2.176907539367676,
          0.6726675629615784,
          -1.63237726688385,
          -1.7519317865371704,
          -1.8053514957427979,
          -0.9625673294067383,
          0.04989084228873253
         ]
        },
        {
         "marker": {
          "color": "rgb(54, 91, 140)",
          "opacity": 1
         },
         "mode": "markers",
         "name": "1",
         "text": [
          "A Place In This World",
          "Bigger Than The Whole Sky",
          "Castles Crumbling (Taylor's Version) [From The Vault]",
          "closure",
          "Eyes Open",
          "Eyes Open (Taylor's Version)",
          "Glitch",
          "Half Of My Heart",
          "Holy Ground",
          "Holy Ground (Taylor's Version)",
          "I Forgot That You Existed",
          "Labyrinth",
          "Lavender Haze",
          "Midnight Rain",
          "mirrorball",
          "September",
          "Soon You'll Get Better",
          "Suburban Legends (Taylor's Version) [From The Vault]",
          "Sweet Nothing",
          "Sweet Nothing (Piano Remix)",
          "this is me trying",
          "Tied Together With A Smile",
          "Two Is Better Than One",
          "White Horse",
          "White Horse (Taylor's Version)",
          "You All Over Me (Taylor's Version) [From The Vault]"
         ],
         "type": "scatter",
         "x": [
          19.239368438720703,
          15.200567245483398,
          12.694981575012207,
          16.73932647705078,
          16.557546615600586,
          14.469941139221191,
          13.911368370056152,
          13.765275001525879,
          14.897522926330566,
          15.760770797729492,
          12.487730979919434,
          12.104352951049805,
          13.193341255187988,
          16.762548446655273,
          15.942231178283691,
          14.626306533813477,
          17.643413543701172,
          14.212753295898438,
          14.241406440734863,
          14.317861557006836,
          17.13465690612793,
          15.94447135925293,
          15.35415267944336,
          12.499048233032227,
          12.287471771240234,
          14.118917465209961
         ],
         "y": [
          -0.533520519733429,
          -0.11419946700334549,
          -0.7027634978294373,
          -0.271570086479187,
          -0.23904986679553986,
          -0.01873297244310379,
          -0.22363866865634918,
          0.12346851825714111,
          -0.5298216938972473,
          -0.15534424781799316,
          -0.3351762890815735,
          -0.3398352861404419,
          -0.42404600977897644,
          0.673693060874939,
          -0.4460628926753998,
          -0.538138747215271,
          -0.2780175805091858,
          -0.678053081035614,
          0.41385504603385925,
          0.30597028136253357,
          -0.30679547786712646,
          -0.23036615550518036,
          -0.38761475682258606,
          -0.8124041557312012,
          -0.6445326805114746,
          -0.2051907330751419
         ]
        },
        {
         "marker": {
          "color": "rgb(46, 109, 142)",
          "opacity": 1
         },
         "mode": "markers",
         "name": "8",
         "text": [
          "Afterglow",
          "All Too Well",
          "All Too Well (10 Minute Version) [Taylor's Version] [From The Vault]",
          "All Too Well (Taylor's Version)",
          "august",
          "Better Man (Taylor's Version) [From The Vault]",
          "Cornelia Street",
          "Don't Blame Me",
          "Getaway Car",
          "Hey Stephen",
          "Hey Stephen (Taylor's Version)",
          "High Infidelity",
          "Karma",
          "Last Kiss",
          "Last Kiss (Taylor's Version)",
          "London Boy",
          "Mine",
          "Miss Americana & The Heartbreak Prince",
          "New Romantics",
          "Our Song",
          "Run (Taylor's Version) [From The Vault]",
          "Speak Now",
          "Speak Now (Taylor's Version)",
          "Starlight",
          "Style",
          "Style (Taylor's Version)",
          "Superman",
          "Superman (Taylor's Version)",
          "The Other Side Of The Door",
          "The Story Of Us",
          "The Story Of Us (Taylor's Version)",
          "Tim McGraw",
          "Welcome To New York (Taylor's Version)",
          "Wonderland (Taylor's Version)"
         ],
         "type": "scatter",
         "x": [
          -10.930183410644531,
          -13.636614799499512,
          -13.010421752929688,
          -13.464179992675781,
          -8.506402015686035,
          -13.477590560913086,
          -11.246685981750488,
          -12.019392967224121,
          -11.599334716796875,
          -11.462088584899902,
          -11.863901138305664,
          -8.959369659423828,
          -8.699447631835938,
          -10.000596046447754,
          -10.705081939697266,
          -12.17798900604248,
          -10.328248023986816,
          -14.172920227050781,
          -13.694795608520508,
          -10.92777156829834,
          -12.133249282836914,
          -10.891942977905273,
          -11.506075859069824,
          -9.557135581970215,
          -10.23624324798584,
          -11.133695602416992,
          -8.40376091003418,
          -9.224678993225098,
          -9.170304298400879,
          -12.705998420715332,
          -12.096673965454102,
          -9.55064582824707,
          -10.046906471252441,
          -16.4193058013916
         ],
         "y": [
          -3.476977586746216,
          -3.2443158626556396,
          -2.90417742729187,
          -2.942063808441162,
          -0.6435327529907227,
          -2.098093271255493,
          -4.849555015563965,
          -4.279111862182617,
          -3.9820568561553955,
          -3.4400789737701416,
          -3.498419761657715,
          0.021683966740965843,
          -0.04142378643155098,
          -3.4796836376190186,
          -4.0255842208862305,
          -1.429089069366455,
          -3.6971652507781982,
          -3.3725216388702393,
          -3.484006881713867,
          -4.3951592445373535,
          -2.347698450088501,
          -4.329636573791504,
          -4.244633674621582,
          -3.5998964309692383,
          -3.917008399963379,
          -3.7226760387420654,
          -0.06885237991809845,
          -0.3113134205341339,
          -2.560734272003174,
          -3.5308637619018555,
          -3.676241397857666,
          -3.6935737133026123,
          -4.228188514709473,
          2.8808884620666504
         ]
        },
        {
         "marker": {
          "color": "rgb(39, 126, 142)",
          "opacity": 1
         },
         "mode": "markers",
         "name": "3",
         "text": [
          "All Of The Girls You Loved Before",
          "Begin Again",
          "Begin Again (Taylor's Version)",
          "Dear John",
          "Dear John (Taylor's Version)",
          "dorothea",
          "Electric Touch (Taylor's Version) [From The Vault]",
          "evermore",
          "Girl At Home (Taylor's Version)",
          "I Know Places",
          "it's time to go",
          "ivy",
          "Jump Then Fall",
          "Jump Then Fall (Taylor's Version)",
          "long story short",
          "Mary's Song (Oh My My My)",
          "Mastermind",
          "Nothing New (Taylor's Version) [From The Vault]",
          "Tell Me Why",
          "Tell Me Why (Taylor's Version)",
          "The Great War",
          "the last great american dynasty",
          "The Lucky One",
          "The Lucky One (Taylor's Version)",
          "The Moment I Knew",
          "The Moment I Knew (Taylor's Version)"
         ],
         "type": "scatter",
         "x": [
          0.8623971939086914,
          4.3403449058532715,
          4.507412910461426,
          -8.138876914978027,
          -8.228900909423828,
          2.247143507003784,
          0.8934558033943176,
          -0.09007471054792404,
          -15.130112648010254,
          -8.204931259155273,
          0.328398197889328,
          -8.794219970703125,
          -8.076299667358398,
          -7.764357566833496,
          -9.151623725891113,
          2.1075448989868164,
          1.0473406314849854,
          0.1438656598329544,
          1.9063016176223755,
          1.5222976207733154,
          -0.7772154808044434,
          1.420276403427124,
          -7.270869731903076,
          -7.303599834442139,
          1.0244643688201904,
          1.1328321695327759
         ],
         "y": [
          -0.21991463005542755,
          -0.8166102766990662,
          -0.8420267105102539,
          -0.5440247654914856,
          -0.8614935278892517,
          -0.5619444251060486,
          0.061947260051965714,
          -0.29891958832740784,
          3.710646152496338,
          -0.15354229509830475,
          -0.23742477595806122,
          0.9706583023071289,
          0.19912225008010864,
          0.3524743318557739,
          1.0771615505218506,
          -0.07417086511850357,
          -0.40615347027778625,
          0.005328359082341194,
          -0.08339317888021469,
          0.15414994955062866,
          -0.30525729060173035,
          -0.3981158137321472,
          -0.3232250213623047,
          -0.3353189527988434,
          0.3742450773715973,
          0.1519787758588791
         ]
        },
        {
         "marker": {
          "color": "rgb(32, 144, 140)",
          "opacity": 1
         },
         "mode": "markers",
         "name": "12",
         "text": [
          "All You Had To Do Was Stay",
          "All You Had To Do Was Stay (Taylor's Version)",
          "Anti-Hero",
          "Babe",
          "Babe (Taylor's Version) [From The Vault]",
          "Christmas Tree Farm",
          "Clean (Taylor's Version)",
          "Daylight",
          "Enchanted",
          "Enchanted (Taylor's Version)",
          "I Wish You Would",
          "I Wish You Would (Taylor's Version)",
          "Maroon",
          "Message In A Bottle (Taylor's Version) [From The Vault]",
          "Red",
          "Should've Said No",
          "State Of Grace (Taylor's Version)",
          "Stay Stay Stay",
          "Stay Stay Stay (Taylor's Version)",
          "Wonderland"
         ],
         "type": "scatter",
         "x": [
          -21.168792724609375,
          -21.38715934753418,
          -1.248890995979309,
          -1.8402563333511353,
          -2.070523500442505,
          -0.5648468136787415,
          -2.5251548290252686,
          -20.43467140197754,
          -2.508976459503174,
          -22.791955947875977,
          -20.111576080322266,
          -20.920867919921875,
          -2.337665557861328,
          -21.020492553710938,
          -2.0908329486846924,
          -1.946174144744873,
          0.569294810295105,
          -1.9675729274749756,
          -2.1951587200164795,
          -18.16191864013672
         ],
         "y": [
          4.467704772949219,
          4.755349159240723,
          0.6833527088165283,
          1.6619175672531128,
          1.6171441078186035,
          1.049378514289856,
          2.2766783237457275,
          4.983555793762207,
          1.978822946548462,
          4.7721781730651855,
          4.430752754211426,
          5.010450839996338,
          1.195708155632019,
          5.158143520355225,
          2.6013295650482178,
          2.1473872661590576,
          0.47531774640083313,
          2.1778430938720703,
          2.182509422302246,
          4.9019551277160645
         ]
        },
        {
         "marker": {
          "color": "rgb(31, 161, 135)",
          "opacity": 1
         },
         "mode": "markers",
         "name": "7",
         "text": [
          "Back To December (Taylor's Version)",
          "Clean",
          "Dancing With Our Hands Tied",
          "Gorgeous",
          "How You Get The Girl",
          "How You Get The Girl (Taylor's Version)",
          "I Can See You (Taylor's Version) [From The Vault]",
          "I Knew You Were Trouble",
          "I Knew You Were Trouble (Taylor's Version)",
          "Mr. Perfectly Fine (Taylor's Version) [From The Vault]",
          "Paper Rings",
          "Say Don't Go (Taylor's Version) [From The Vault]",
          "Snow On The Beach",
          "Snow On The Beach (More Lana Del Rey)",
          "Sweeter Than Fiction (Taylor's Version)",
          "That's When (Taylor's Version) [From The Vault]",
          "The Last Time",
          "The Last Time (Taylor's Version)",
          "This Love",
          "This Love (Taylor's Version)"
         ],
         "type": "scatter",
         "x": [
          -19.74636459350586,
          -22.869625091552734,
          -19.985496520996094,
          -20.453048706054688,
          -21.511062622070312,
          -21.962522506713867,
          -19.841997146606445,
          -22.5667667388916,
          -23.04351043701172,
          -19.04831314086914,
          -19.957809448242188,
          -23.038721084594727,
          -22.423643112182617,
          -21.286521911621094,
          -20.60266876220703,
          -22.555971145629883,
          -20.090627670288086,
          -19.63824462890625,
          -23.022735595703125,
          -22.612533569335938
         ],
         "y": [
          5.000936031341553,
          6.483899116516113,
          5.4404425621032715,
          7.065678119659424,
          6.933196067810059,
          6.814138889312744,
          7.046041965484619,
          5.408994674682617,
          5.566314697265625,
          7.3157830238342285,
          6.138321876525879,
          6.089443206787109,
          6.7162299156188965,
          6.2088212966918945,
          6.724538326263428,
          6.947824954986572,
          6.984494686126709,
          6.947096824645996,
          6.334841251373291,
          6.181683540344238
         ]
        },
        {
         "marker": {
          "color": "rgb(44, 177, 125)",
          "opacity": 1
         },
         "mode": "markers",
         "name": "13",
         "text": [
          "Bad Blood",
          "Blank Space",
          "Blank Space (Taylor's Version)",
          "exile",
          "New Year's Day",
          "Untouchable",
          "Untouchable (Taylor's Version)"
         ],
         "type": "scatter",
         "x": [
          -21.088850021362305,
          -21.655982971191406,
          -21.6401309967041,
          -20.79544448852539,
          -21.059829711914062,
          -21.359785079956055,
          -21.907730102539062
         ],
         "y": [
          -6.02327823638916,
          -6.496510028839111,
          -6.1570305824279785,
          -6.347788333892822,
          -6.746015548706055,
          -6.535604953765869,
          -6.376855373382568
         ]
        },
        {
         "marker": {
          "color": "rgb(73, 193, 109)",
          "opacity": 1
         },
         "mode": "markers",
         "name": "4",
         "text": [
          "Beautiful Eyes",
          "Safe & Sound",
          "Safe & Sound (Taylor's Version)",
          "Silent Night",
          "White Christmas"
         ],
         "type": "scatter",
         "x": [
          21.332523345947266,
          20.93350601196289,
          20.49417495727539,
          21.707143783569336,
          21.22688102722168
         ],
         "y": [
          -2.44146466255188,
          -1.993444800376892,
          -1.6097790002822876,
          -2.7384591102600098,
          -2.6558732986450195
         ]
        },
        {
         "marker": {
          "color": "rgb(114, 207, 85)",
          "opacity": 1
         },
         "mode": "markers",
         "name": "10",
         "text": [
          "Beautiful Ghosts",
          "champagne problems",
          "Christmas Must Be Something More",
          "Come Back...Be Here",
          "Come Back...Be Here (Taylor's Version)",
          "cowboy like me",
          "Forever Winter (Taylor's Version) [From The Vault]",
          "I Heart ?",
          "I'm Only Me When I'm With You",
          "I'm Only Me When I'm With You",
          "I'm Only Me When I'm With You",
          "I'm Only Me When I'm With You",
          "I'm Only Me When I'm With You",
          "I'm Only Me When I'm With You",
          "I'm Only Me When I'm With You",
          "I'm Only Me When I'm With You",
          "I'm Only Me When I'm With You",
          "I'm Only Me When I'm With You",
          "I'm Only Me When I'm With You",
          "I'm Only Me When I'm With You",
          "I'm Only Me When I'm With You",
          "I'm Only Me When I'm With You",
          "I'm Only Me When I'm With You",
          "I'm Only Me When I'm With You",
          "Innocent",
          "Innocent (Taylor's Version)",
          "invisible string",
          "mad woman",
          "marjorie",
          "my tears ricochet",
          "Now That We Don't Talk (Taylor's Version) [From The Vault]",
          "Only The Young",
          "Paris",
          "peace",
          "Ronan",
          "Ronan (Taylor's Version)",
          "Stay Beautiful",
          "The Best Day",
          "The Best Day (Taylor's Version)",
          "tolerate it",
          "Vigilante Shit",
          "You're On Your Own, Kid",
          "You're On Your Own, Kid (Strings Remix)"
         ],
         "type": "scatter",
         "x": [
          22.689123153686523,
          25.608381271362305,
          26.28595733642578,
          29.058666229248047,
          29.05867576599121,
          28.39476203918457,
          26.824371337890625,
          27.487131118774414,
          29.88142967224121,
          30.574386596679688,
          30.09375762939453,
          29.95952033996582,
          29.947731018066406,
          30.280776977539062,
          30.153654098510742,
          30.49313735961914,
          30.771211624145508,
          30.672693252563477,
          29.43630599975586,
          29.55642318725586,
          29.69639015197754,
          30.74372100830078,
          29.643001556396484,
          30.433412551879883,
          26.14699935913086,
          26.612470626831055,
          25.951602935791016,
          26.24474334716797,
          29.267393112182617,
          26.888463973999023,
          24.870515823364258,
          27.38157081604004,
          27.299949645996094,
          30.13154411315918,
          26.799606323242188,
          26.375,
          23.314498901367188,
          26.975788116455078,
          26.77883529663086,
          27.016353607177734,
          23.14117431640625,
          26.11259651184082,
          26.28907585144043
         ],
         "y": [
          1.124670147895813,
          3.7127716541290283,
          4.5202250480651855,
          5.713715076446533,
          5.904882431030273,
          5.338000774383545,
          3.9058425426483154,
          4.950253963470459,
          5.871613025665283,
          5.7338995933532715,
          6.83452844619751,
          6.222360134124756,
          5.5131306648254395,
          6.833290100097656,
          6.1501288414001465,
          5.648090839385986,
          5.998498439788818,
          6.476287364959717,
          6.443053722381592,
          6.341625213623047,
          6.823520660400391,
          6.345312595367432,
          6.858266353607178,
          6.699888706207275,
          4.369579792022705,
          4.784664154052734,
          4.787469387054443,
          4.115197658538818,
          5.591385841369629,
          4.308841228485107,
          2.8989224433898926,
          4.521655559539795,
          3.9359140396118164,
          5.527319431304932,
          4.491561412811279,
          5.092332363128662,
          1.6754761934280396,
          3.4163994789123535,
          3.5453267097473145,
          4.001547813415527,
          1.5115870237350464,
          3.699035167694092,
          3.7755625247955322
         ]
        },
        {
         "marker": {
          "color": "rgb(159, 217, 56)",
          "opacity": 1
         },
         "mode": "markers",
         "name": "9",
         "text": [
          "Breathe",
          "Breathe (Taylor's Version)",
          "Bye Bye Baby (Taylor's Version) [From The Vault]",
          "Haunted",
          "Haunted (Taylor's Version)",
          "I Almost Do",
          "I Almost Do (Taylor's Version)",
          "I Don't Wanna Live Forever",
          "Last Christmas",
          "Lover",
          "Lover (Remix)",
          "Should've Said No (Alternate Version)",
          "Sparks Fly (Taylor's Version)",
          "Teardrops On My Guitar",
          "Teardrops On My Guitar (Acoustic Version)",
          "Teardrops On My Guitar (Pop Version)",
          "the 1",
          "The Archer",
          "The Way I Loved You (Taylor's Version)",
          "Today Was A Fairytale",
          "Today Was A Fairytale (Taylor's Version)",
          "Welcome To New York",
          "You're Not Sorry",
          "You're Not Sorry (Taylor's Version)"
         ],
         "type": "scatter",
         "x": [
          6.005254745483398,
          -1.2560935020446777,
          6.59337043762207,
          5.8909525871276855,
          6.303362846374512,
          8.642167091369629,
          9.13947868347168,
          -1.3570142984390259,
          12.083440780639648,
          8.928879737854004,
          9.248091697692871,
          6.687005519866943,
          6.389632225036621,
          7.401159286499023,
          7.532626152038574,
          7.29842472076416,
          6.16882848739624,
          11.50708293914795,
          6.232937335968018,
          6.638286590576172,
          6.578012943267822,
          -9.36406135559082,
          -1.471137285232544,
          -1.571915626525879
         ],
         "y": [
          -1.082089900970459,
          1.9082388877868652,
          -1.5458343029022217,
          -1.7006285190582275,
          -1.8471330404281616,
          -1.3918514251708984,
          -1.2833237648010254,
          2.6257355213165283,
          -0.8493384718894958,
          -1.2489981651306152,
          -1.1493932008743286,
          -1.7407454252243042,
          -2.27239727973938,
          -1.8615354299545288,
          -1.8165541887283325,
          -2.262660264968872,
          -1.2529200315475464,
          -0.734241783618927,
          -2.1990880966186523,
          -1.2674332857131958,
          -1.0021727085113525,
          -3.0522820949554443,
          2.3477187156677246,
          2.3504772186279297
         ]
        },
        {
         "marker": {
          "color": "rgb(207, 225, 28)",
          "opacity": 1
         },
         "mode": "markers",
         "name": "6",
         "text": [
          "Change",
          "Change (Taylor's Version)",
          "Don't You (Taylor's Version) [From The Vault]",
          "False God",
          "Fearless",
          "Fearless (Taylor's Version)",
          "gold rush",
          "Ours",
          "Ours (Taylor's Version)",
          "Picture To Burn",
          "Picture To Burn (Radio Edit)",
          "Red (Original Demo Recording)",
          "Sparks Fly",
          "SuperStar",
          "SuperStar (Taylor's Version)",
          "the lakes",
          "The Very First Night (Taylor's Version) [From The Vault]",
          "The Way I Loved You",
          "Treacherous",
          "Treacherous (Original Demo Recording)",
          "Treacherous (Taylor's Version)"
         ],
         "type": "scatter",
         "x": [
          8.081586837768555,
          8.100497245788574,
          18.83958625793457,
          8.420048713684082,
          8.059088706970215,
          7.770827770233154,
          7.702947616577148,
          7.850627899169922,
          7.760748863220215,
          8.31152629852295,
          8.547636032104492,
          7.654370307922363,
          7.440501689910889,
          8.336125373840332,
          8.533581733703613,
          8.851906776428223,
          7.611888408660889,
          7.183253765106201,
          8.902202606201172,
          8.749947547912598,
          8.787715911865234
         ],
         "y": [
          -5.7103047370910645,
          -5.698772430419922,
          -0.07323604822158813,
          -4.713669776916504,
          -4.488432884216309,
          -4.822494029998779,
          -4.088450908660889,
          -5.386410236358643,
          -5.35476541519165,
          -5.056069374084473,
          -5.040263652801514,
          -3.0455965995788574,
          -3.4913620948791504,
          -5.952887058258057,
          -6.024645805358887,
          -5.9079203605651855,
          -4.69780969619751,
          -2.915092945098877,
          -5.26102876663208,
          -5.608942985534668,
          -5.420470237731934
         ]
        },
        {
         "marker": {
          "color": "rgb(253, 231, 36)",
          "opacity": 1
         },
         "mode": "markers",
         "name": "11",
         "text": [
          "Delicate",
          "Look What You Made Me Do",
          "Love Story",
          "Love Story (Taylor's Version)",
          "ME!",
          "Mean (Taylor's Version)",
          "Shake It Off",
          "Shake It Off (Taylor's Version)",
          "You Need To Calm Down"
         ],
         "type": "scatter",
         "x": [
          -23.903335571289062,
          -22.466930389404297,
          -23.406068801879883,
          -23.54746437072754,
          -23.789398193359375,
          -22.95660972595215,
          -23.5222225189209,
          -23.928997039794922,
          -23.70234489440918
         ],
         "y": [
          -4.561512470245361,
          -5.61815881729126,
          -5.227307319641113,
          -4.726309776306152,
          -4.7992377281188965,
          -4.980603218078613,
          -5.038210391998291,
          -4.357260227203369,
          -4.573982238769531
         ]
        }
       ],
       "layout": {
        "hovermode": "closest",
        "legend": {
         "title": {
          "text": "Legend"
         }
        },
        "template": {
         "data": {
          "bar": [
           {
            "error_x": {
             "color": "#2a3f5f"
            },
            "error_y": {
             "color": "#2a3f5f"
            },
            "marker": {
             "line": {
              "color": "#E5ECF6",
              "width": 0.5
             },
             "pattern": {
              "fillmode": "overlay",
              "size": 10,
              "solidity": 0.2
             }
            },
            "type": "bar"
           }
          ],
          "barpolar": [
           {
            "marker": {
             "line": {
              "color": "#E5ECF6",
              "width": 0.5
             },
             "pattern": {
              "fillmode": "overlay",
              "size": 10,
              "solidity": 0.2
             }
            },
            "type": "barpolar"
           }
          ],
          "carpet": [
           {
            "aaxis": {
             "endlinecolor": "#2a3f5f",
             "gridcolor": "white",
             "linecolor": "white",
             "minorgridcolor": "white",
             "startlinecolor": "#2a3f5f"
            },
            "baxis": {
             "endlinecolor": "#2a3f5f",
             "gridcolor": "white",
             "linecolor": "white",
             "minorgridcolor": "white",
             "startlinecolor": "#2a3f5f"
            },
            "type": "carpet"
           }
          ],
          "choropleth": [
           {
            "colorbar": {
             "outlinewidth": 0,
             "ticks": ""
            },
            "type": "choropleth"
           }
          ],
          "contour": [
           {
            "colorbar": {
             "outlinewidth": 0,
             "ticks": ""
            },
            "colorscale": [
             [
              0,
              "#0d0887"
             ],
             [
              0.1111111111111111,
              "#46039f"
             ],
             [
              0.2222222222222222,
              "#7201a8"
             ],
             [
              0.3333333333333333,
              "#9c179e"
             ],
             [
              0.4444444444444444,
              "#bd3786"
             ],
             [
              0.5555555555555556,
              "#d8576b"
             ],
             [
              0.6666666666666666,
              "#ed7953"
             ],
             [
              0.7777777777777778,
              "#fb9f3a"
             ],
             [
              0.8888888888888888,
              "#fdca26"
             ],
             [
              1,
              "#f0f921"
             ]
            ],
            "type": "contour"
           }
          ],
          "contourcarpet": [
           {
            "colorbar": {
             "outlinewidth": 0,
             "ticks": ""
            },
            "type": "contourcarpet"
           }
          ],
          "heatmap": [
           {
            "colorbar": {
             "outlinewidth": 0,
             "ticks": ""
            },
            "colorscale": [
             [
              0,
              "#0d0887"
             ],
             [
              0.1111111111111111,
              "#46039f"
             ],
             [
              0.2222222222222222,
              "#7201a8"
             ],
             [
              0.3333333333333333,
              "#9c179e"
             ],
             [
              0.4444444444444444,
              "#bd3786"
             ],
             [
              0.5555555555555556,
              "#d8576b"
             ],
             [
              0.6666666666666666,
              "#ed7953"
             ],
             [
              0.7777777777777778,
              "#fb9f3a"
             ],
             [
              0.8888888888888888,
              "#fdca26"
             ],
             [
              1,
              "#f0f921"
             ]
            ],
            "type": "heatmap"
           }
          ],
          "heatmapgl": [
           {
            "colorbar": {
             "outlinewidth": 0,
             "ticks": ""
            },
            "colorscale": [
             [
              0,
              "#0d0887"
             ],
             [
              0.1111111111111111,
              "#46039f"
             ],
             [
              0.2222222222222222,
              "#7201a8"
             ],
             [
              0.3333333333333333,
              "#9c179e"
             ],
             [
              0.4444444444444444,
              "#bd3786"
             ],
             [
              0.5555555555555556,
              "#d8576b"
             ],
             [
              0.6666666666666666,
              "#ed7953"
             ],
             [
              0.7777777777777778,
              "#fb9f3a"
             ],
             [
              0.8888888888888888,
              "#fdca26"
             ],
             [
              1,
              "#f0f921"
             ]
            ],
            "type": "heatmapgl"
           }
          ],
          "histogram": [
           {
            "marker": {
             "pattern": {
              "fillmode": "overlay",
              "size": 10,
              "solidity": 0.2
             }
            },
            "type": "histogram"
           }
          ],
          "histogram2d": [
           {
            "colorbar": {
             "outlinewidth": 0,
             "ticks": ""
            },
            "colorscale": [
             [
              0,
              "#0d0887"
             ],
             [
              0.1111111111111111,
              "#46039f"
             ],
             [
              0.2222222222222222,
              "#7201a8"
             ],
             [
              0.3333333333333333,
              "#9c179e"
             ],
             [
              0.4444444444444444,
              "#bd3786"
             ],
             [
              0.5555555555555556,
              "#d8576b"
             ],
             [
              0.6666666666666666,
              "#ed7953"
             ],
             [
              0.7777777777777778,
              "#fb9f3a"
             ],
             [
              0.8888888888888888,
              "#fdca26"
             ],
             [
              1,
              "#f0f921"
             ]
            ],
            "type": "histogram2d"
           }
          ],
          "histogram2dcontour": [
           {
            "colorbar": {
             "outlinewidth": 0,
             "ticks": ""
            },
            "colorscale": [
             [
              0,
              "#0d0887"
             ],
             [
              0.1111111111111111,
              "#46039f"
             ],
             [
              0.2222222222222222,
              "#7201a8"
             ],
             [
              0.3333333333333333,
              "#9c179e"
             ],
             [
              0.4444444444444444,
              "#bd3786"
             ],
             [
              0.5555555555555556,
              "#d8576b"
             ],
             [
              0.6666666666666666,
              "#ed7953"
             ],
             [
              0.7777777777777778,
              "#fb9f3a"
             ],
             [
              0.8888888888888888,
              "#fdca26"
             ],
             [
              1,
              "#f0f921"
             ]
            ],
            "type": "histogram2dcontour"
           }
          ],
          "mesh3d": [
           {
            "colorbar": {
             "outlinewidth": 0,
             "ticks": ""
            },
            "type": "mesh3d"
           }
          ],
          "parcoords": [
           {
            "line": {
             "colorbar": {
              "outlinewidth": 0,
              "ticks": ""
             }
            },
            "type": "parcoords"
           }
          ],
          "pie": [
           {
            "automargin": true,
            "type": "pie"
           }
          ],
          "scatter": [
           {
            "fillpattern": {
             "fillmode": "overlay",
             "size": 10,
             "solidity": 0.2
            },
            "type": "scatter"
           }
          ],
          "scatter3d": [
           {
            "line": {
             "colorbar": {
              "outlinewidth": 0,
              "ticks": ""
             }
            },
            "marker": {
             "colorbar": {
              "outlinewidth": 0,
              "ticks": ""
             }
            },
            "type": "scatter3d"
           }
          ],
          "scattercarpet": [
           {
            "marker": {
             "colorbar": {
              "outlinewidth": 0,
              "ticks": ""
             }
            },
            "type": "scattercarpet"
           }
          ],
          "scattergeo": [
           {
            "marker": {
             "colorbar": {
              "outlinewidth": 0,
              "ticks": ""
             }
            },
            "type": "scattergeo"
           }
          ],
          "scattergl": [
           {
            "marker": {
             "colorbar": {
              "outlinewidth": 0,
              "ticks": ""
             }
            },
            "type": "scattergl"
           }
          ],
          "scattermapbox": [
           {
            "marker": {
             "colorbar": {
              "outlinewidth": 0,
              "ticks": ""
             }
            },
            "type": "scattermapbox"
           }
          ],
          "scatterpolar": [
           {
            "marker": {
             "colorbar": {
              "outlinewidth": 0,
              "ticks": ""
             }
            },
            "type": "scatterpolar"
           }
          ],
          "scatterpolargl": [
           {
            "marker": {
             "colorbar": {
              "outlinewidth": 0,
              "ticks": ""
             }
            },
            "type": "scatterpolargl"
           }
          ],
          "scatterternary": [
           {
            "marker": {
             "colorbar": {
              "outlinewidth": 0,
              "ticks": ""
             }
            },
            "type": "scatterternary"
           }
          ],
          "surface": [
           {
            "colorbar": {
             "outlinewidth": 0,
             "ticks": ""
            },
            "colorscale": [
             [
              0,
              "#0d0887"
             ],
             [
              0.1111111111111111,
              "#46039f"
             ],
             [
              0.2222222222222222,
              "#7201a8"
             ],
             [
              0.3333333333333333,
              "#9c179e"
             ],
             [
              0.4444444444444444,
              "#bd3786"
             ],
             [
              0.5555555555555556,
              "#d8576b"
             ],
             [
              0.6666666666666666,
              "#ed7953"
             ],
             [
              0.7777777777777778,
              "#fb9f3a"
             ],
             [
              0.8888888888888888,
              "#fdca26"
             ],
             [
              1,
              "#f0f921"
             ]
            ],
            "type": "surface"
           }
          ],
          "table": [
           {
            "cells": {
             "fill": {
              "color": "#EBF0F8"
             },
             "line": {
              "color": "white"
             }
            },
            "header": {
             "fill": {
              "color": "#C8D4E3"
             },
             "line": {
              "color": "white"
             }
            },
            "type": "table"
           }
          ]
         },
         "layout": {
          "annotationdefaults": {
           "arrowcolor": "#2a3f5f",
           "arrowhead": 0,
           "arrowwidth": 1
          },
          "autotypenumbers": "strict",
          "coloraxis": {
           "colorbar": {
            "outlinewidth": 0,
            "ticks": ""
           }
          },
          "colorscale": {
           "diverging": [
            [
             0,
             "#8e0152"
            ],
            [
             0.1,
             "#c51b7d"
            ],
            [
             0.2,
             "#de77ae"
            ],
            [
             0.3,
             "#f1b6da"
            ],
            [
             0.4,
             "#fde0ef"
            ],
            [
             0.5,
             "#f7f7f7"
            ],
            [
             0.6,
             "#e6f5d0"
            ],
            [
             0.7,
             "#b8e186"
            ],
            [
             0.8,
             "#7fbc41"
            ],
            [
             0.9,
             "#4d9221"
            ],
            [
             1,
             "#276419"
            ]
           ],
           "sequential": [
            [
             0,
             "#0d0887"
            ],
            [
             0.1111111111111111,
             "#46039f"
            ],
            [
             0.2222222222222222,
             "#7201a8"
            ],
            [
             0.3333333333333333,
             "#9c179e"
            ],
            [
             0.4444444444444444,
             "#bd3786"
            ],
            [
             0.5555555555555556,
             "#d8576b"
            ],
            [
             0.6666666666666666,
             "#ed7953"
            ],
            [
             0.7777777777777778,
             "#fb9f3a"
            ],
            [
             0.8888888888888888,
             "#fdca26"
            ],
            [
             1,
             "#f0f921"
            ]
           ],
           "sequentialminus": [
            [
             0,
             "#0d0887"
            ],
            [
             0.1111111111111111,
             "#46039f"
            ],
            [
             0.2222222222222222,
             "#7201a8"
            ],
            [
             0.3333333333333333,
             "#9c179e"
            ],
            [
             0.4444444444444444,
             "#bd3786"
            ],
            [
             0.5555555555555556,
             "#d8576b"
            ],
            [
             0.6666666666666666,
             "#ed7953"
            ],
            [
             0.7777777777777778,
             "#fb9f3a"
            ],
            [
             0.8888888888888888,
             "#fdca26"
            ],
            [
             1,
             "#f0f921"
            ]
           ]
          },
          "colorway": [
           "#636efa",
           "#EF553B",
           "#00cc96",
           "#ab63fa",
           "#FFA15A",
           "#19d3f3",
           "#FF6692",
           "#B6E880",
           "#FF97FF",
           "#FECB52"
          ],
          "font": {
           "color": "#2a3f5f"
          },
          "geo": {
           "bgcolor": "white",
           "lakecolor": "white",
           "landcolor": "#E5ECF6",
           "showlakes": true,
           "showland": true,
           "subunitcolor": "white"
          },
          "hoverlabel": {
           "align": "left"
          },
          "hovermode": "closest",
          "mapbox": {
           "style": "light"
          },
          "paper_bgcolor": "white",
          "plot_bgcolor": "#E5ECF6",
          "polar": {
           "angularaxis": {
            "gridcolor": "white",
            "linecolor": "white",
            "ticks": ""
           },
           "bgcolor": "#E5ECF6",
           "radialaxis": {
            "gridcolor": "white",
            "linecolor": "white",
            "ticks": ""
           }
          },
          "scene": {
           "xaxis": {
            "backgroundcolor": "#E5ECF6",
            "gridcolor": "white",
            "gridwidth": 2,
            "linecolor": "white",
            "showbackground": true,
            "ticks": "",
            "zerolinecolor": "white"
           },
           "yaxis": {
            "backgroundcolor": "#E5ECF6",
            "gridcolor": "white",
            "gridwidth": 2,
            "linecolor": "white",
            "showbackground": true,
            "ticks": "",
            "zerolinecolor": "white"
           },
           "zaxis": {
            "backgroundcolor": "#E5ECF6",
            "gridcolor": "white",
            "gridwidth": 2,
            "linecolor": "white",
            "showbackground": true,
            "ticks": "",
            "zerolinecolor": "white"
           }
          },
          "shapedefaults": {
           "line": {
            "color": "#2a3f5f"
           }
          },
          "ternary": {
           "aaxis": {
            "gridcolor": "white",
            "linecolor": "white",
            "ticks": ""
           },
           "baxis": {
            "gridcolor": "white",
            "linecolor": "white",
            "ticks": ""
           },
           "bgcolor": "#E5ECF6",
           "caxis": {
            "gridcolor": "white",
            "linecolor": "white",
            "ticks": ""
           }
          },
          "title": {
           "x": 0.05
          },
          "xaxis": {
           "automargin": true,
           "gridcolor": "white",
           "linecolor": "white",
           "ticks": "",
           "title": {
            "standoff": 15
           },
           "zerolinecolor": "white",
           "zerolinewidth": 2
          },
          "yaxis": {
           "automargin": true,
           "gridcolor": "white",
           "linecolor": "white",
           "ticks": "",
           "title": {
            "standoff": 15
           },
           "zerolinecolor": "white",
           "zerolinewidth": 2
          }
         }
        },
        "title": {
         "text": "tSNE Plot of Song Embeddings"
        },
        "xaxis": {
         "title": {
          "text": "TSNE 1"
         }
        },
        "yaxis": {
         "title": {
          "text": "TSNE 2"
         }
        }
       }
      }
     },
     "metadata": {},
     "output_type": "display_data"
    }
   ],
   "source": [
    "plot_embeddings_interactive(lyrics, lyric_embeddings, \"cluster_assignment\")"
   ]
  },
  {
   "cell_type": "code",
   "execution_count": 8,
   "metadata": {},
   "outputs": [],
   "source": [
    "full['isVault'] = full['track_name'].apply(lambda x: 1 if \"[From The Vault]\" in x else 0)\n",
    "\n",
    "red = full[full[\"album_name\"] == \"Red\"]\n",
    "redtv = full[(full[\"album_name\"] == \"Red (Taylor's Version)\") & (full[\"isVault\"] == 0)]\n",
    "redvault = full[(full[\"album_name\"] == \"Red (Taylor's Version)\") & (full[\"isVault\"] == 1)]\n",
    "\n",
    "fear = full[full[\"album_name\"] == \"Fearless\"]\n",
    "feartv = full[(full[\"album_name\"] == \"Fearless (Taylor's Version)\") & (full[\"isVault\"] == 0)]\n",
    "fearvault = full[(full[\"album_name\"] == \"Fearless (Taylor's Version)\") & (full[\"isVault\"] == 1)]\n",
    "\n",
    "nine = full[full[\"album_name\"] == \"1989\"]\n",
    "ninetv = full[(full[\"album_name\"] == \"1989 (Taylor's Version)\") & (full[\"isVault\"] == 0)]\n",
    "ninevault = full[(full[\"album_name\"] == \"1989 (Taylor's Version)\") & (full[\"isVault\"] == 1)]\n",
    "\n",
    "speak = full[full[\"album_name\"] == \"Speak Now\"]\n",
    "speaktv = full[(full[\"album_name\"] == \"Speak Now (Taylor's Version)\") & (full[\"isVault\"] == 0)]\n",
    "speakvault = full[(full[\"album_name\"] == \"Speak Now (Taylor's Version)\") & (full[\"isVault\"] == 1)]"
   ]
  },
  {
   "cell_type": "code",
   "execution_count": 9,
   "metadata": {},
   "outputs": [
    {
     "data": {
      "text/plain": [
       "{'Red': 0.5,\n",
       " \"Red (Taylor's Version)\": 0.8571428571428571,\n",
       " 'Fearless': 0.8421052631578947,\n",
       " \"Fearless (Taylor's Version)\": 0.3,\n",
       " '1989': 0.5625,\n",
       " \"1989 (Taylor's Version)\": 0.9444444444444444,\n",
       " 'Speak Now': 1.0,\n",
       " \"Speak Now (Taylor's Version)\": 1.0}"
      ]
     },
     "execution_count": 9,
     "metadata": {},
     "output_type": "execute_result"
    }
   ],
   "source": [
    "dataframes = [red, redtv, fear, feartv, nine, ninetv, speak, speaktv]\n",
    "names = [\"Red\", \"Red (Taylor's Version)\", \"Fearless\", \"Fearless (Taylor's Version)\",\n",
    "         \"1989\", \"1989 (Taylor's Version)\", \"Speak Now\", \"Speak Now (Taylor's Version)\"]\n",
    "\n",
    "proportions = {}\n",
    "for name, df in zip(names, dataframes):\n",
    "    total_entries = len(df)\n",
    "    more_than_3_weeks = len(df[df['wks_on_chart'] > 0])\n",
    "    proportion = more_than_3_weeks / total_entries if total_entries else 0\n",
    "    proportions[name] = proportion\n",
    "\n",
    "proportions"
   ]
  },
  {
   "cell_type": "code",
   "execution_count": 10,
   "metadata": {},
   "outputs": [
    {
     "data": {
      "text/plain": [
       "{'Red': 0.2727272727272727,\n",
       " \"Red (Taylor's Version)\": 0.047619047619047616,\n",
       " 'Fearless': 0.47368421052631576,\n",
       " \"Fearless (Taylor's Version)\": 0.0,\n",
       " '1989': 0.375,\n",
       " \"1989 (Taylor's Version)\": 0.3333333333333333,\n",
       " 'Speak Now': 0.4117647058823529,\n",
       " \"Speak Now (Taylor's Version)\": 0.0625}"
      ]
     },
     "execution_count": 10,
     "metadata": {},
     "output_type": "execute_result"
    }
   ],
   "source": [
    "proportions = {}\n",
    "for name, df in zip(names, dataframes):\n",
    "    total_entries = len(df)\n",
    "    more_than_3_weeks = len(df[df['wks_on_chart'] > 2])\n",
    "    proportion = more_than_3_weeks / total_entries if total_entries else 0\n",
    "    proportions[name] = proportion\n",
    "\n",
    "proportions"
   ]
  },
  {
   "cell_type": "code",
   "execution_count": 11,
   "metadata": {},
   "outputs": [
    {
     "data": {
      "text/plain": [
       "{'Red (Vault Songs)': 0.8888888888888888,\n",
       " \"Red (Taylor's Version)\": 0.8571428571428571,\n",
       " 'Fearless (Vault Songs)': 0.3333333333333333,\n",
       " \"Fearless (Taylor's Version)\": 0.3,\n",
       " '1989 (Vault Songs)': 1.0,\n",
       " \"1989 (Taylor's Version)\": 0.9444444444444444,\n",
       " 'Speak Now (Vault Songs)': 1.0,\n",
       " \"Speak Now (Taylor's Version)\": 1.0}"
      ]
     },
     "execution_count": 11,
     "metadata": {},
     "output_type": "execute_result"
    }
   ],
   "source": [
    "dataframes = [redvault, redtv, fearvault, feartv, ninevault, ninetv, speakvault, speaktv]\n",
    "names = [\"Red (Vault Songs)\", \"Red (Taylor's Version)\", \"Fearless (Vault Songs)\", \"Fearless (Taylor's Version)\",\n",
    "         \"1989 (Vault Songs)\", \"1989 (Taylor's Version)\", \"Speak Now (Vault Songs)\", \"Speak Now (Taylor's Version)\"]\n",
    "\n",
    "proportions = {}\n",
    "for name, df in zip(names, dataframes):\n",
    "    total_entries = len(df)\n",
    "    more_than_3_weeks = len(df[df['wks_on_chart'] > 0])\n",
    "    proportion = more_than_3_weeks / total_entries if total_entries else 0\n",
    "    proportions[name] = proportion\n",
    "\n",
    "proportions"
   ]
  },
  {
   "cell_type": "code",
   "execution_count": 25,
   "metadata": {},
   "outputs": [
    {
     "name": "stderr",
     "output_type": "stream",
     "text": [
      "/var/folders/fs/v9vqgp9d5zb2fzzy63_b2gcr0000gn/T/ipykernel_11673/1221811287.py:8: SettingWithCopyWarning:\n",
      "\n",
      "\n",
      "A value is trying to be set on a copy of a slice from a DataFrame.\n",
      "Try using .loc[row_indexer,col_indexer] = value instead\n",
      "\n",
      "See the caveats in the documentation: https://pandas.pydata.org/pandas-docs/stable/user_guide/indexing.html#returning-a-view-versus-a-copy\n",
      "\n"
     ]
    },
    {
     "data": {
      "image/png": "[encoded data removed]",
      "text/plain": [
       "<Figure size 1000x800 with 1 Axes>"
      ]
     },
     "metadata": {},
     "output_type": "display_data"
    }
   ],
   "source": [
    "import matplotlib.pyplot as plt\n",
    "\n",
    "# Filter albums\n",
    "speak_now = full[full['album_name'] == \"1989\"]\n",
    "speak_now_tv = full[full['album_name'] == \"1989 (Taylor's Version)\"]\n",
    "\n",
    "# Prepare matching of songs from original and Taylor's Version by removing the \"(Taylor's Version)\" part from the track name\n",
    "speak_now_tv['original_track_name'] = speak_now_tv['track_name'].str.replace(\" \\(Taylor's Version\\)\", \"\", regex=True)\n",
    "\n",
    "# Merge the original and Taylor's Version on the track name\n",
    "comparison_df = pd.merge(speak_now, speak_now_tv, left_on='track_name', right_on='original_track_name', suffixes=('', '_tv'))\n",
    "\n",
    "comparison_df['total_wks_on_chart'] = comparison_df['wks_on_chart'] + comparison_df['wks_on_chart_tv']\n",
    "comparison_df['tv_proportion'] = comparison_df['wks_on_chart_tv'] / comparison_df['total_wks_on_chart']\n",
    "\n",
    "comparison_df_sorted = comparison_df.sort_values(by='tv_proportion', ascending=True)\n",
    "\n",
    "# Plotting with sorted data\n",
    "plt.figure(figsize=(10, 8))\n",
    "\n",
    "# Background bars representing total potential weeks on chart\n",
    "plt.barh(comparison_df_sorted['track_name'], 1, color='lightgrey', label='Total Weeks on Chart')\n",
    "\n",
    "# Foreground bars representing the Taylor's Version proportion of total weeks on chart\n",
    "plt.barh(comparison_df_sorted['track_name'], comparison_df_sorted['tv_proportion'], color='salmon', label=\"Taylor's Version Proportion\")\n",
    "\n",
    "plt.xlabel('Proportion of Weeks on Chart (Taylor’s Version / Total)')\n",
    "plt.ylabel('Track Name')\n",
    "plt.title(\"Proportion of Weeks on Chart: Taylor's Version Songs, Ordered by Proportion\")\n",
    "plt.legend()\n",
    "plt.tight_layout()\n",
    "\n",
    "# Show plot\n",
    "plt.show()"
   ]
  },
  {
   "cell_type": "code",
   "execution_count": 26,
   "metadata": {},
   "outputs": [
    {
     "data": {
      "image/png": "[encoded data removed]",
      "text/plain": [
       "<Figure size 1000x800 with 1 Axes>"
      ]
     },
     "metadata": {},
     "output_type": "display_data"
    }
   ],
   "source": [
    "comparison_df_sorted = comparison_df.sort_values(by='total_wks_on_chart', ascending=True)\n",
    "\n",
    "# Plotting\n",
    "plt.figure(figsize=(10, 8))\n",
    "plt.barh(comparison_df_sorted['track_name'], comparison_df_sorted['wks_on_chart'], color='#983828', label='Original')\n",
    "plt.barh(comparison_df_sorted['track_name'], comparison_df_sorted['wks_on_chart_tv'], color='#e08b7b', left=comparison_df_sorted['wks_on_chart'], label=\"Taylor's Version\")\n",
    "plt.xlabel('Weeks on Chart')\n",
    "plt.ylabel('Track Name')\n",
    "plt.title(\"Comparison of Weeks on Chart: Red Albums\")\n",
    "plt.legend(loc='lower right')\n",
    "plt.tight_layout()\n",
    "\n",
    "# Show plot\n",
    "plt.show()"
   ]
  },
  {
   "cell_type": "code",
   "execution_count": 27,
   "metadata": {},
   "outputs": [
    {
     "data": {
      "image/png": "[encoded data removed]",
      "text/plain": [
       "<Figure size 1000x800 with 1 Axes>"
      ]
     },
     "metadata": {},
     "output_type": "display_data"
    }
   ],
   "source": [
    "plt.figure(figsize=(10, 8))\n",
    "plt.barh(speak_now_tv['track_name'], speak_now_tv['wks_on_chart'], color='#e08b7b', label=\"Taylor's Version\")\n",
    "plt.xlabel('Weeks on Chart')\n",
    "plt.ylabel('Track Name')\n",
    "plt.title(\"Comparison of Weeks on Chart: Red Albums\")\n",
    "plt.legend(loc='lower right')\n",
    "plt.tight_layout()\n",
    "\n",
    "# Show plot\n",
    "plt.show()"
   ]
  }
 ],
 "metadata": {
  "kernelspec": {
   "display_name": "Python 3",
   "language": "python",
   "name": "python3"
  },
  "language_info": {
   "codemirror_mode": {
    "name": "ipython",
    "version": 3
   },
   "file_extension": ".py",
   "mimetype": "text/x-python",
   "name": "python",
   "nbconvert_exporter": "python",
   "pygments_lexer": "ipython3",
   "version": "3.10.2"
  }
 },
 "nbformat": 4,
 "nbformat_minor": 2
}
