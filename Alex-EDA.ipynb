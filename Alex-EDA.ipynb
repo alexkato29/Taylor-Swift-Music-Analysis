{
 "cells": [
  {
   "cell_type": "code",
   "execution_count": 1,
   "metadata": {},
   "outputs": [],
   "source": [
    "import pandas as pd\n",
    "import numpy as np\n",
    "from scipy.stats import entropy\n",
    "\n",
    "audio = pd.read_csv(\"data/audio.csv\")\n",
    "lyrics = pd.read_csv(\"data/lyrics.csv\")\n",
    "full = pd.read_csv(\"data/full.csv\")\n",
    "audio = audio.merge(full[['track_name', 'wks_on_chart']], on='track_name', how='left')\n",
    "lyrics = lyrics.merge(full[['track_name', 'wks_on_chart']], on='track_name', how='left')"
   ]
  },
  {
   "cell_type": "code",
   "execution_count": 7,
   "metadata": {},
   "outputs": [],
   "source": [
    "def compute_kls(df):\n",
    "    max_weeks = df['wks_on_chart'].max()\n",
    "    bins = np.arange(0, max_weeks + 1)\n",
    "    overall_distribution, _ = np.histogram(df['wks_on_chart'], bins=bins, density=True)\n",
    "    \n",
    "    clusters = df['cluster_assignment'].unique()\n",
    "    kl_divergences = {}\n",
    "\n",
    "    for cluster in clusters:\n",
    "        cluster_data = df[df['cluster_assignment'] == cluster]['wks_on_chart']\n",
    "        cluster_distribution, _ = np.histogram(cluster_data, bins=bins, density=True)\n",
    "        \n",
    "        cluster_distribution += 1e-10\n",
    "        overall_distribution += 1e-10\n",
    "        \n",
    "        kl_divergence = entropy(cluster_distribution, overall_distribution)\n",
    "        kl_divergences[cluster] = kl_divergence\n",
    "\n",
    "    most_similar_cluster = min(kl_divergences, key=kl_divergences.get)\n",
    "    print(f\"The cluster most similar to the overall distribution is: {most_similar_cluster}\")\n",
    "\n",
    "    print(\"KL Divergences by cluster:\")\n",
    "    for cluster, divergence in sorted(kl_divergences.items(), key=lambda x: x[1]):\n",
    "        print(f\"Cluster {cluster}: {divergence}\")"
   ]
  },
  {
   "cell_type": "code",
   "execution_count": 8,
   "metadata": {},
   "outputs": [
    {
     "name": "stdout",
     "output_type": "stream",
     "text": [
      "The cluster most similar to the overall distribution is: 0\n",
      "KL Divergences by cluster:\n",
      "Cluster 0: 0.2110428290889822\n",
      "Cluster 6: 0.25427667087705697\n",
      "Cluster 7: 0.27770737279481517\n",
      "Cluster 9: 0.2882718861480844\n",
      "Cluster 12: 0.34802911098494427\n",
      "Cluster 1: 0.4009614888979761\n",
      "Cluster 5: 0.44810921873213877\n",
      "Cluster 4: 0.46431604351138084\n",
      "Cluster 14: 0.4757839799037803\n",
      "Cluster 10: 0.5734805843645955\n",
      "Cluster 8: 0.5971418191334149\n",
      "Cluster 13: 0.856317033055617\n",
      "Cluster 11: 1.1325952436656401\n",
      "Cluster 2: 1.2576571152366296\n",
      "Cluster 3: 1.702261692267202\n"
     ]
    }
   ],
   "source": [
    "compute_kls(audio)"
   ]
  },
  {
   "cell_type": "code",
   "execution_count": 9,
   "metadata": {},
   "outputs": [
    {
     "name": "stdout",
     "output_type": "stream",
     "text": [
      "The cluster most similar to the overall distribution is: 3\n",
      "KL Divergences by cluster:\n",
      "Cluster 3: 0.23379734932819404\n",
      "Cluster 14: 0.28937617946640015\n",
      "Cluster 0: 0.3260878037577486\n",
      "Cluster 10: 0.3322540618378864\n",
      "Cluster 7: 0.34538143848009495\n",
      "Cluster 8: 0.36509220740021675\n",
      "Cluster 1: 0.3816692846274304\n",
      "Cluster 6: 0.42861129278253285\n",
      "Cluster 9: 0.44747640680663886\n",
      "Cluster 5: 0.5096761503616904\n",
      "Cluster 12: 0.5670417761316591\n",
      "Cluster 13: 1.1485117979548258\n",
      "Cluster 2: 1.2639310676053295\n",
      "Cluster 4: 1.5725192807267954\n",
      "Cluster 11: 1.801134277872217\n"
     ]
    }
   ],
   "source": [
    "compute_kls(lyrics)"
   ]
  }
 ],
 "metadata": {
  "kernelspec": {
   "display_name": "Python 3",
   "language": "python",
   "name": "python3"
  },
  "language_info": {
   "codemirror_mode": {
    "name": "ipython",
    "version": 3
   },
   "file_extension": ".py",
   "mimetype": "text/x-python",
   "name": "python",
   "nbconvert_exporter": "python",
   "pygments_lexer": "ipython3",
   "version": "3.10.2"
  }
 },
 "nbformat": 4,
 "nbformat_minor": 2
}
